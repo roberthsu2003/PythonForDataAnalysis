{
 "cells": [
  {
   "cell_type": "code",
   "execution_count": 2,
   "id": "bea4cdd3",
   "metadata": {},
   "outputs": [],
   "source": [
    "#下載並存檔\n",
    "#https://data.gov.tw/dataset/89029\n",
    "import requests\n",
    "CSV_URL = \"https://data.epa.gov.tw/api/v1/aqx_p_432?limit=1000&api_key=9be7b239-557b-4c10-9775-78cadfc555e9&format=csv\"\n",
    "response = requests.get(CSV_URL)\n",
    "if response.status_code == 200:\n",
    "    with open('空氣品質指標.csv','wb') as file:\n",
    "        for chunk in response.iter_content(chunk_size=128):\n",
    "            file.write(chunk)\n"
   ]
  },
  {
   "cell_type": "code",
   "execution_count": 5,
   "id": "bea0a51d",
   "metadata": {},
   "outputs": [
    {
     "data": {
      "text/html": [
       "<div>\n",
       "<style scoped>\n",
       "    .dataframe tbody tr th:only-of-type {\n",
       "        vertical-align: middle;\n",
       "    }\n",
       "\n",
       "    .dataframe tbody tr th {\n",
       "        vertical-align: top;\n",
       "    }\n",
       "\n",
       "    .dataframe thead th {\n",
       "        text-align: right;\n",
       "    }\n",
       "</style>\n",
       "<table border=\"1\" class=\"dataframe\">\n",
       "  <thead>\n",
       "    <tr style=\"text-align: right;\">\n",
       "      <th></th>\n",
       "      <th>County</th>\n",
       "      <th>SiteName</th>\n",
       "      <th>AQI</th>\n",
       "      <th>PublishTime</th>\n",
       "      <th>PM2.5_AVG</th>\n",
       "    </tr>\n",
       "  </thead>\n",
       "  <tbody>\n",
       "    <tr>\n",
       "      <th>0</th>\n",
       "      <td>基隆市</td>\n",
       "      <td>基隆</td>\n",
       "      <td>31</td>\n",
       "      <td>2022/05/30 13:00:00</td>\n",
       "      <td>9</td>\n",
       "    </tr>\n",
       "    <tr>\n",
       "      <th>1</th>\n",
       "      <td>新北市</td>\n",
       "      <td>汐止</td>\n",
       "      <td>37</td>\n",
       "      <td>2022/05/30 13:00:00</td>\n",
       "      <td>11</td>\n",
       "    </tr>\n",
       "    <tr>\n",
       "      <th>2</th>\n",
       "      <td>新北市</td>\n",
       "      <td>萬里</td>\n",
       "      <td>29</td>\n",
       "      <td>2022/05/30 13:00:00</td>\n",
       "      <td>8</td>\n",
       "    </tr>\n",
       "    <tr>\n",
       "      <th>3</th>\n",
       "      <td>新北市</td>\n",
       "      <td>新店</td>\n",
       "      <td>35</td>\n",
       "      <td>2022/05/30 13:00:00</td>\n",
       "      <td>10</td>\n",
       "    </tr>\n",
       "    <tr>\n",
       "      <th>4</th>\n",
       "      <td>新北市</td>\n",
       "      <td>土城</td>\n",
       "      <td>30</td>\n",
       "      <td>2022/05/30 13:00:00</td>\n",
       "      <td>9</td>\n",
       "    </tr>\n",
       "    <tr>\n",
       "      <th>...</th>\n",
       "      <td>...</td>\n",
       "      <td>...</td>\n",
       "      <td>...</td>\n",
       "      <td>...</td>\n",
       "      <td>...</td>\n",
       "    </tr>\n",
       "    <tr>\n",
       "      <th>80</th>\n",
       "      <td>屏東縣</td>\n",
       "      <td>屏東(琉球)</td>\n",
       "      <td>20</td>\n",
       "      <td>2022/05/30 13:00:00</td>\n",
       "      <td>5</td>\n",
       "    </tr>\n",
       "    <tr>\n",
       "      <th>81</th>\n",
       "      <td>桃園市</td>\n",
       "      <td>桃園(三民)</td>\n",
       "      <td>37</td>\n",
       "      <td>2022/05/30 13:00:00</td>\n",
       "      <td>11</td>\n",
       "    </tr>\n",
       "    <tr>\n",
       "      <th>82</th>\n",
       "      <td>新北市</td>\n",
       "      <td>新北(樹林)</td>\n",
       "      <td>33</td>\n",
       "      <td>2022/05/30 13:00:00</td>\n",
       "      <td>10</td>\n",
       "    </tr>\n",
       "    <tr>\n",
       "      <th>83</th>\n",
       "      <td>臺南市</td>\n",
       "      <td>臺南(學甲)</td>\n",
       "      <td>17</td>\n",
       "      <td>2022/05/30 13:00:00</td>\n",
       "      <td>5</td>\n",
       "    </tr>\n",
       "    <tr>\n",
       "      <th>84</th>\n",
       "      <td>屏東縣</td>\n",
       "      <td>屏東(枋寮)</td>\n",
       "      <td>18</td>\n",
       "      <td>2022/05/30 13:00:00</td>\n",
       "      <td>2</td>\n",
       "    </tr>\n",
       "  </tbody>\n",
       "</table>\n",
       "<p>85 rows × 5 columns</p>\n",
       "</div>"
      ],
      "text/plain": [
       "   County SiteName  AQI          PublishTime  PM2.5_AVG\n",
       "0     基隆市       基隆   31  2022/05/30 13:00:00          9\n",
       "1     新北市       汐止   37  2022/05/30 13:00:00         11\n",
       "2     新北市       萬里   29  2022/05/30 13:00:00          8\n",
       "3     新北市       新店   35  2022/05/30 13:00:00         10\n",
       "4     新北市       土城   30  2022/05/30 13:00:00          9\n",
       "..    ...      ...  ...                  ...        ...\n",
       "80    屏東縣   屏東(琉球)   20  2022/05/30 13:00:00          5\n",
       "81    桃園市   桃園(三民)   37  2022/05/30 13:00:00         11\n",
       "82    新北市   新北(樹林)   33  2022/05/30 13:00:00         10\n",
       "83    臺南市   臺南(學甲)   17  2022/05/30 13:00:00          5\n",
       "84    屏東縣   屏東(枋寮)   18  2022/05/30 13:00:00          2\n",
       "\n",
       "[85 rows x 5 columns]"
      ]
     },
     "execution_count": 5,
     "metadata": {},
     "output_type": "execute_result"
    }
   ],
   "source": [
    "import pandas as pd \n",
    "df = pd.read_csv('空氣品質指標.csv')\n",
    "dataFrame = df[['County','SiteName','AQI','PublishTime','PM2.5_AVG']]\n",
    "dataFrame"
   ]
  },
  {
   "cell_type": "code",
   "execution_count": 6,
   "id": "10fefe3c",
   "metadata": {},
   "outputs": [
    {
     "data": {
      "text/plain": [
       "County         object\n",
       "SiteName       object\n",
       "AQI             int64\n",
       "PublishTime    object\n",
       "PM2.5_AVG       int64\n",
       "dtype: object"
      ]
     },
     "execution_count": 6,
     "metadata": {},
     "output_type": "execute_result"
    }
   ],
   "source": [
    "dataFrame.dtypes"
   ]
  },
  {
   "cell_type": "code",
   "execution_count": 9,
   "id": "b0e8282e",
   "metadata": {},
   "outputs": [
    {
     "data": {
      "text/plain": [
       "County         0\n",
       "SiteName       0\n",
       "AQI            0\n",
       "PublishTime    0\n",
       "PM2.5_AVG      0\n",
       "dtype: int64"
      ]
     },
     "execution_count": 9,
     "metadata": {},
     "output_type": "execute_result"
    }
   ],
   "source": [
    "#沒有欄位有空的\n",
    "dataFrame.isnull().sum()"
   ]
  },
  {
   "cell_type": "code",
   "execution_count": null,
   "id": "850ba92e",
   "metadata": {},
   "outputs": [],
   "source": []
  }
 ],
 "metadata": {
  "kernelspec": {
   "display_name": "Python 3 (ipykernel)",
   "language": "python",
   "name": "python3"
  },
  "language_info": {
   "codemirror_mode": {
    "name": "ipython",
    "version": 3
   },
   "file_extension": ".py",
   "mimetype": "text/x-python",
   "name": "python",
   "nbconvert_exporter": "python",
   "pygments_lexer": "ipython3",
   "version": "3.10.2"
  }
 },
 "nbformat": 4,
 "nbformat_minor": 5
}

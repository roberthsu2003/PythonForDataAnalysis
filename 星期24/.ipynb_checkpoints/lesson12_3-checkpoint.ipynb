{
 "cells": [
  {
   "cell_type": "code",
   "execution_count": 1,
   "id": "f7ad057c",
   "metadata": {},
   "outputs": [],
   "source": [
    "import numpy as np\n",
    "import pandas as pd\n",
    "import matplotlib.pyplot as plt"
   ]
  },
  {
   "cell_type": "code",
   "execution_count": 3,
   "id": "c6b22117",
   "metadata": {},
   "outputs": [
    {
     "data": {
      "text/plain": [
       "0     725\n",
       "1     941\n",
       "2     244\n",
       "3     746\n",
       "4     719\n",
       "5     249\n",
       "6     861\n",
       "7     771\n",
       "8     463\n",
       "9     111\n",
       "10    272\n",
       "11    358\n",
       "12    853\n",
       "13    750\n",
       "14    980\n",
       "15    870\n",
       "16    101\n",
       "17    257\n",
       "18    680\n",
       "19    124\n",
       "20    889\n",
       "21    397\n",
       "22    576\n",
       "23    387\n",
       "24    191\n",
       "25    308\n",
       "26    816\n",
       "27    545\n",
       "28    961\n",
       "29    828\n",
       "dtype: int64"
      ]
     },
     "execution_count": 3,
     "metadata": {},
     "output_type": "execute_result"
    }
   ],
   "source": [
    "oneStore = pd.Series(np.random.randint(100,1000,size=(30,)))\n",
    "oneStore"
   ]
  },
  {
   "cell_type": "code",
   "execution_count": 4,
   "id": "a6c7ffa3",
   "metadata": {},
   "outputs": [
    {
     "data": {
      "text/plain": [
       "1     783\n",
       "2     505\n",
       "3     400\n",
       "4     459\n",
       "5     377\n",
       "6     970\n",
       "7     588\n",
       "8     294\n",
       "9     573\n",
       "10    111\n",
       "11    630\n",
       "12    723\n",
       "13    970\n",
       "14    853\n",
       "15    998\n",
       "16    765\n",
       "17    556\n",
       "18    454\n",
       "19    431\n",
       "20    910\n",
       "21    397\n",
       "22    418\n",
       "23    763\n",
       "24    765\n",
       "25    740\n",
       "26    383\n",
       "27    358\n",
       "28    228\n",
       "29    562\n",
       "30    322\n",
       "dtype: int64"
      ]
     },
     "execution_count": 4,
     "metadata": {},
     "output_type": "execute_result"
    }
   ],
   "source": [
    "nd1 = np.random.randint(100,1000,size=(30,))\n",
    "oneStore = pd.Series(nd1,index=range(1,31))\n",
    "oneStore"
   ]
  },
  {
   "cell_type": "code",
   "execution_count": 5,
   "id": "3b4a46ec",
   "metadata": {},
   "outputs": [
    {
     "data": {
      "text/plain": [
       "pandas.core.series.Series"
      ]
     },
     "execution_count": 5,
     "metadata": {},
     "output_type": "execute_result"
    }
   ],
   "source": [
    "oneStore.__class__"
   ]
  },
  {
   "cell_type": "code",
   "execution_count": 6,
   "id": "98351546",
   "metadata": {},
   "outputs": [
    {
     "data": {
      "text/plain": [
       "RangeIndex(start=1, stop=31, step=1)"
      ]
     },
     "execution_count": 6,
     "metadata": {},
     "output_type": "execute_result"
    }
   ],
   "source": [
    "oneStore.index"
   ]
  },
  {
   "cell_type": "code",
   "execution_count": 8,
   "id": "a0bcad22",
   "metadata": {},
   "outputs": [
    {
     "data": {
      "text/plain": [
       "array([783, 505, 400, 459, 377, 970, 588, 294, 573, 111, 630, 723, 970,\n",
       "       853, 998, 765, 556, 454, 431, 910, 397, 418, 763, 765, 740, 383,\n",
       "       358, 228, 562, 322])"
      ]
     },
     "execution_count": 8,
     "metadata": {},
     "output_type": "execute_result"
    }
   ],
   "source": [
    "oneStore.values"
   ]
  },
  {
   "cell_type": "code",
   "execution_count": 11,
   "id": "bed94704",
   "metadata": {},
   "outputs": [
    {
     "data": {
      "text/plain": [
       "天\n",
       "第1天     635\n",
       "第2天     835\n",
       "第3天     547\n",
       "第4天     297\n",
       "第5天     846\n",
       "第6天     561\n",
       "第7天     409\n",
       "第8天     511\n",
       "第9天     830\n",
       "第10天    279\n",
       "第11天    564\n",
       "第12天    748\n",
       "第13天    306\n",
       "第14天    863\n",
       "第15天    238\n",
       "第16天    401\n",
       "第17天    218\n",
       "第18天    836\n",
       "第19天    585\n",
       "第20天    306\n",
       "第21天    616\n",
       "第22天    607\n",
       "第23天    919\n",
       "第24天    324\n",
       "第25天    639\n",
       "第26天    204\n",
       "第27天    323\n",
       "第28天    668\n",
       "第29天    449\n",
       "第30天    158\n",
       "dtype: int64"
      ]
     },
     "execution_count": 11,
     "metadata": {},
     "output_type": "execute_result"
    }
   ],
   "source": [
    "nd1 = np.random.randint(100,1000,size=(30,))\n",
    "index = [f'第{i}天' for i in range(1,31)]\n",
    "oneStore = pd.Series(nd1, index=index)\n",
    "oneStore.index.name='天'\n",
    "oneStore"
   ]
  },
  {
   "cell_type": "code",
   "execution_count": null,
   "id": "a4a31f82",
   "metadata": {},
   "outputs": [],
   "source": []
  }
 ],
 "metadata": {
  "kernelspec": {
   "display_name": "Python 3 (ipykernel)",
   "language": "python",
   "name": "python3"
  },
  "language_info": {
   "codemirror_mode": {
    "name": "ipython",
    "version": 3
   },
   "file_extension": ".py",
   "mimetype": "text/x-python",
   "name": "python",
   "nbconvert_exporter": "python",
   "pygments_lexer": "ipython3",
   "version": "3.10.2"
  }
 },
 "nbformat": 4,
 "nbformat_minor": 5
}

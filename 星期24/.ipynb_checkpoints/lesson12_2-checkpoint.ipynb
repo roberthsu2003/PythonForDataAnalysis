{
 "cells": [
  {
   "cell_type": "code",
   "execution_count": 4,
   "id": "34707feb",
   "metadata": {},
   "outputs": [
    {
     "name": "stdout",
     "output_type": "stream",
     "text": [
      "[ 0  1  2  3  4  5  6  7  8  9 10 11]\n",
      "(12,)\n"
     ]
    }
   ],
   "source": [
    "import numpy as np\n",
    "nd1 = np.arange(12)\n",
    "print(nd1)\n",
    "print(nd1.shape)"
   ]
  },
  {
   "cell_type": "code",
   "execution_count": 2,
   "id": "3c20ae18",
   "metadata": {},
   "outputs": [
    {
     "data": {
      "text/plain": [
       "8"
      ]
     },
     "execution_count": 2,
     "metadata": {},
     "output_type": "execute_result"
    }
   ],
   "source": [
    "nd1[8,]"
   ]
  },
  {
   "cell_type": "code",
   "execution_count": 5,
   "id": "a3d45143",
   "metadata": {},
   "outputs": [
    {
     "data": {
      "text/plain": [
       "array([[ 0,  1,  2,  3,  4,  5],\n",
       "       [ 6,  7,  8,  9, 10, 11]])"
      ]
     },
     "execution_count": 5,
     "metadata": {},
     "output_type": "execute_result"
    }
   ],
   "source": [
    "#reshape成為2維\n",
    "nd2 = nd1.reshape((2,6))\n",
    "nd2"
   ]
  },
  {
   "cell_type": "code",
   "execution_count": 6,
   "id": "627aef8f",
   "metadata": {},
   "outputs": [
    {
     "data": {
      "text/plain": [
       "array([[ 0,  1,  2,  3],\n",
       "       [ 4,  5,  6,  7],\n",
       "       [ 8,  9, 10, 11]])"
      ]
     },
     "execution_count": 6,
     "metadata": {},
     "output_type": "execute_result"
    }
   ],
   "source": [
    "#reshape成為2維\n",
    "nd3 = nd1.reshape((3, 4))\n",
    "nd3"
   ]
  },
  {
   "cell_type": "code",
   "execution_count": 13,
   "id": "46821123",
   "metadata": {},
   "outputs": [
    {
     "data": {
      "text/plain": [
       "array([ 8,  9, 10, 11])"
      ]
     },
     "execution_count": 13,
     "metadata": {},
     "output_type": "execute_result"
    }
   ],
   "source": [
    "nd3[2,]"
   ]
  },
  {
   "cell_type": "code",
   "execution_count": 9,
   "id": "9ef19b14",
   "metadata": {},
   "outputs": [
    {
     "data": {
      "text/plain": [
       "10"
      ]
     },
     "execution_count": 9,
     "metadata": {},
     "output_type": "execute_result"
    }
   ],
   "source": [
    "nd3[2,2]"
   ]
  },
  {
   "cell_type": "code",
   "execution_count": 11,
   "id": "d7385350",
   "metadata": {},
   "outputs": [
    {
     "data": {
      "text/plain": [
       "array([10, 11])"
      ]
     },
     "execution_count": 11,
     "metadata": {},
     "output_type": "execute_result"
    }
   ],
   "source": [
    "nd3[2,2:]"
   ]
  },
  {
   "cell_type": "code",
   "execution_count": 12,
   "id": "25fc85e0",
   "metadata": {},
   "outputs": [
    {
     "data": {
      "text/plain": [
       "array([[[ 0,  1],\n",
       "        [ 2,  3],\n",
       "        [ 4,  5]],\n",
       "\n",
       "       [[ 6,  7],\n",
       "        [ 8,  9],\n",
       "        [10, 11]]])"
      ]
     },
     "execution_count": 12,
     "metadata": {},
     "output_type": "execute_result"
    }
   ],
   "source": [
    "nd4 = nd1.reshape((2,3,2))\n",
    "nd4"
   ]
  },
  {
   "cell_type": "code",
   "execution_count": 15,
   "id": "5848e2cf",
   "metadata": {},
   "outputs": [
    {
     "data": {
      "text/plain": [
       "array([[63, 68, 83, 61, 87],\n",
       "       [65, 75, 72, 86, 69],\n",
       "       [89, 88, 86, 63, 93],\n",
       "       [82, 90, 66, 97, 63],\n",
       "       [89, 96, 80, 82, 78],\n",
       "       [74, 67, 99, 64, 91],\n",
       "       [70, 93, 75, 77, 70],\n",
       "       [89, 76, 80, 78, 91],\n",
       "       [80, 87, 82, 63, 71],\n",
       "       [90, 82, 68, 65, 75]])"
      ]
     },
     "execution_count": 15,
     "metadata": {},
     "output_type": "execute_result"
    }
   ],
   "source": [
    "#numpy的統計\n",
    "#sum()\n",
    "#10個學生,5個分數\n",
    "students = np.random.randint(60,100,size=(10,5))\n",
    "students"
   ]
  },
  {
   "cell_type": "code",
   "execution_count": 18,
   "id": "d2321ca5",
   "metadata": {},
   "outputs": [
    {
     "data": {
      "text/plain": [
       "array([362, 367, 419, 398, 425, 395, 385, 414, 383, 380])"
      ]
     },
     "execution_count": 18,
     "metadata": {},
     "output_type": "execute_result"
    }
   ],
   "source": [
    "#學生總分\n",
    "students.sum(axis=1)"
   ]
  },
  {
   "cell_type": "code",
   "execution_count": 20,
   "id": "f16bb193",
   "metadata": {},
   "outputs": [
    {
     "data": {
      "text/plain": [
       "array([72.4, 73.4, 83.8, 79.6, 85. , 79. , 77. , 82.8, 76.6, 76. ])"
      ]
     },
     "execution_count": 20,
     "metadata": {},
     "output_type": "execute_result"
    }
   ],
   "source": [
    "#學生平均\n",
    "students.mean(axis=1)"
   ]
  },
  {
   "cell_type": "code",
   "execution_count": 21,
   "id": "4a5f1644",
   "metadata": {},
   "outputs": [
    {
     "data": {
      "text/plain": [
       "array([ 9.94434513,  9.73447482,  9.11537163, 11.62927341, 10.32279032])"
      ]
     },
     "execution_count": 21,
     "metadata": {},
     "output_type": "execute_result"
    }
   ],
   "source": [
    "#各科的標準差,數值愈大代表分數差距比較大\n",
    "students.std(axis=0)"
   ]
  },
  {
   "cell_type": "code",
   "execution_count": 22,
   "id": "ca446f91",
   "metadata": {},
   "outputs": [
    {
     "data": {
      "text/plain": [
       "array([90, 96, 99, 97, 93])"
      ]
     },
     "execution_count": 22,
     "metadata": {},
     "output_type": "execute_result"
    }
   ],
   "source": [
    "#各科最高分\n",
    "students.max(axis=0)"
   ]
  },
  {
   "cell_type": "code",
   "execution_count": 23,
   "id": "3e20296c",
   "metadata": {},
   "outputs": [
    {
     "data": {
      "text/plain": [
       "array([63, 67, 66, 61, 63])"
      ]
     },
     "execution_count": 23,
     "metadata": {},
     "output_type": "execute_result"
    }
   ],
   "source": [
    "#各科最底分\n",
    "students.min(axis=0)"
   ]
  },
  {
   "cell_type": "code",
   "execution_count": 24,
   "id": "e7b9b23a",
   "metadata": {},
   "outputs": [
    {
     "data": {
      "text/plain": [
       "array([5552, 6241, 9895, 1611,  726, 5606, 1296, 4533, 8268, 6787,  167,\n",
       "       5287, 9743,  820, 1273, 9259, 6807, 7855, 2138, 6351, 8975, 2828,\n",
       "       5064, 4807, 2643, 6529, 7889,  830, 3681,  616])"
      ]
     },
     "execution_count": 24,
     "metadata": {},
     "output_type": "execute_result"
    }
   ],
   "source": [
    "#1家分店30天的營收\n",
    "\n",
    "oneStore = np.random.randint(100,10000,size=(30,))\n",
    "oneStore"
   ]
  },
  {
   "cell_type": "code",
   "execution_count": 27,
   "id": "e397b303",
   "metadata": {},
   "outputs": [
    {
     "data": {
      "text/plain": [
       "array([  5552,  11793,  21688,  23299,  24025,  29631,  30927,  35460,\n",
       "        43728,  50515,  50682,  55969,  65712,  66532,  67805,  77064,\n",
       "        83871,  91726,  93864, 100215, 109190, 112018, 117082, 121889,\n",
       "       124532, 131061, 138950, 139780, 143461, 144077])"
      ]
     },
     "execution_count": 27,
     "metadata": {},
     "output_type": "execute_result"
    }
   ],
   "source": [
    "#累計每天這家店的營收\n",
    "#cumsum()\n",
    "oneStoreCum = oneStore.cumsum()\n",
    "oneStoreCum"
   ]
  },
  {
   "cell_type": "code",
   "execution_count": 36,
   "id": "cf24fd2d",
   "metadata": {},
   "outputs": [
    {
     "data": {
      "image/png": "[encoded data removed]",
      "text/plain": [
       "<Figure size 720x360 with 1 Axes>"
      ]
     },
     "metadata": {
      "needs_background": "light"
     },
     "output_type": "display_data"
    }
   ],
   "source": [
    "import matplotlib.pyplot as plt\n",
    "\n",
    "fig = plt.figure(figsize=(10,5))\n",
    "ax1 = fig.add_subplot(1, 1, 1)\n",
    "ax1.plot(range(1,31),oneStoreCum,'r-')\n",
    "plt.title('one Store shop cumsum')\n",
    "plt.xlabel('day')\n",
    "plt.ylabel('money')\n",
    "plt.show()"
   ]
  },
  {
   "cell_type": "code",
   "execution_count": 37,
   "id": "92976e16",
   "metadata": {},
   "outputs": [
    {
     "data": {
      "text/plain": [
       "array([[7127, 3499, 2219, 3947, 3078, 2496, 8113, 4074, 9850, 8781, 4527,\n",
       "        1213, 2447, 7743,  571, 5866, 9917, 6385, 6587, 9400, 4794, 6709,\n",
       "        6902,  790, 7112, 2164, 4212,  575, 8945, 8843],\n",
       "       [9721, 2529, 3295, 7390,  696, 3454, 8824, 8718, 5091, 8092, 6341,\n",
       "        6198, 9452, 3332, 3961, 1074, 7264, 8643, 8027, 9745, 2618, 6513,\n",
       "        6756, 5743, 6350, 8110, 9569, 9252, 8594, 9137],\n",
       "       [1459, 6571, 1723, 6887, 2178, 2639, 2200, 7429, 6062, 6219, 9325,\n",
       "        1949, 4529, 6378, 4112, 6202, 6464, 5790, 2259, 4028,  189, 6143,\n",
       "         324,  494, 8946,  694, 5147,  884, 8713, 2626],\n",
       "       [6896, 3322, 8659, 5701, 5989, 3859, 9728, 8062, 9714, 6565, 8581,\n",
       "        1611, 2244, 2251, 5664, 4939, 7955, 1307, 1296, 6470, 8052, 4384,\n",
       "        5671, 4326, 2514, 9642, 2816, 9998, 8852, 2538],\n",
       "       [5097, 5628, 9852, 1718, 1420, 2466, 2574, 6414, 3672, 9122, 3182,\n",
       "        2073, 7887, 1011, 7565, 4001, 7611, 1511, 5821, 7563, 3957, 3335,\n",
       "        9848, 9533, 1569, 4596, 7428, 2976, 3375, 7304]])"
      ]
     },
     "execution_count": 37,
     "metadata": {},
     "output_type": "execute_result"
    }
   ],
   "source": [
    "#5家分店30天的營收\n",
    "\n",
    "fiveStore = np.random.randint(100,10000,size=(5,30))\n",
    "fiveStore"
   ]
  },
  {
   "cell_type": "code",
   "execution_count": 40,
   "id": "3576c681",
   "metadata": {},
   "outputs": [],
   "source": [
    "#累計每天5家店的營收\n",
    "fiveStoreCum = fiveStore.cumsum(axis=1)"
   ]
  },
  {
   "cell_type": "code",
   "execution_count": 42,
   "id": "377b5bdb",
   "metadata": {},
   "outputs": [
    {
     "data": {
      "image/png": "[encoded data removed]",
      "text/plain": [
       "<Figure size 720x360 with 1 Axes>"
      ]
     },
     "metadata": {
      "needs_background": "light"
     },
     "output_type": "display_data"
    }
   ],
   "source": [
    "import matplotlib.pyplot as plt\n",
    "\n",
    "fig = plt.figure(figsize=(10,5))\n",
    "ax1 = fig.add_subplot(1, 1, 1)\n",
    "ax1.plot(range(1,31),fiveStoreCum[0,],'r-')\n",
    "ax1.plot(range(1,31),fiveStoreCum[1,],'y-')\n",
    "ax1.plot(range(1,31),fiveStoreCum[2,],'g-')\n",
    "ax1.plot(range(1,31),fiveStoreCum[3,],'m-')\n",
    "ax1.plot(range(1,31),fiveStoreCum[4,],'c-')\n",
    "\n",
    "plt.title('5 Store shop cumsum')\n",
    "plt.xlabel('day')\n",
    "plt.ylabel('money')\n",
    "plt.show()"
   ]
  }
 ],
 "metadata": {
  "kernelspec": {
   "display_name": "Python 3 (ipykernel)",
   "language": "python",
   "name": "python3"
  },
  "language_info": {
   "codemirror_mode": {
    "name": "ipython",
    "version": 3
   },
   "file_extension": ".py",
   "mimetype": "text/x-python",
   "name": "python",
   "nbconvert_exporter": "python",
   "pygments_lexer": "ipython3",
   "version": "3.10.2"
  }
 },
 "nbformat": 4,
 "nbformat_minor": 5
}

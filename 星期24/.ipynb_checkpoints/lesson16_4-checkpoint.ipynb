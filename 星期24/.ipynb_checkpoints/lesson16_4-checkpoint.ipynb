{
 "cells": [
  {
   "cell_type": "code",
   "execution_count": 2,
   "id": "fbb03a8c",
   "metadata": {},
   "outputs": [
    {
     "data": {
      "text/plain": [
       "a    0\n",
       "b    1\n",
       "dtype: int64"
      ]
     },
     "execution_count": 2,
     "metadata": {},
     "output_type": "execute_result"
    }
   ],
   "source": [
    "import numpy as np\n",
    "import pandas as pd\n",
    "\n",
    "s1 = pd.Series([0, 1],index=['a', 'b'])\n",
    "s2 = pd.Series([2, 3, 4], index=['c', 'd', 'e'])\n",
    "s3 = pd.Series([5, 6], index=['f', 'g'])\n",
    "s1"
   ]
  },
  {
   "cell_type": "code",
   "execution_count": 4,
   "id": "89441b38",
   "metadata": {},
   "outputs": [
    {
     "data": {
      "text/plain": [
       "c    2\n",
       "d    3\n",
       "e    4\n",
       "dtype: int64"
      ]
     },
     "execution_count": 4,
     "metadata": {},
     "output_type": "execute_result"
    }
   ],
   "source": [
    "s2"
   ]
  },
  {
   "cell_type": "code",
   "execution_count": 5,
   "id": "0081f1aa",
   "metadata": {},
   "outputs": [
    {
     "data": {
      "text/plain": [
       "f    5\n",
       "g    6\n",
       "dtype: int64"
      ]
     },
     "execution_count": 5,
     "metadata": {},
     "output_type": "execute_result"
    }
   ],
   "source": [
    "s3"
   ]
  },
  {
   "cell_type": "code",
   "execution_count": 7,
   "id": "95d37963",
   "metadata": {},
   "outputs": [
    {
     "data": {
      "text/plain": [
       "a    0\n",
       "b    1\n",
       "c    2\n",
       "d    3\n",
       "e    4\n",
       "f    5\n",
       "g    6\n",
       "dtype: int64"
      ]
     },
     "execution_count": 7,
     "metadata": {},
     "output_type": "execute_result"
    }
   ],
   "source": [
    "pd.concat([s1, s2, s3])"
   ]
  },
  {
   "cell_type": "code",
   "execution_count": 10,
   "id": "dc03447a",
   "metadata": {},
   "outputs": [
    {
     "data": {
      "text/html": [
       "<div>\n",
       "<style scoped>\n",
       "    .dataframe tbody tr th:only-of-type {\n",
       "        vertical-align: middle;\n",
       "    }\n",
       "\n",
       "    .dataframe tbody tr th {\n",
       "        vertical-align: top;\n",
       "    }\n",
       "\n",
       "    .dataframe thead th {\n",
       "        text-align: right;\n",
       "    }\n",
       "</style>\n",
       "<table border=\"1\" class=\"dataframe\">\n",
       "  <thead>\n",
       "    <tr style=\"text-align: right;\">\n",
       "      <th></th>\n",
       "      <th>0</th>\n",
       "      <th>1</th>\n",
       "      <th>2</th>\n",
       "    </tr>\n",
       "  </thead>\n",
       "  <tbody>\n",
       "    <tr>\n",
       "      <th>a</th>\n",
       "      <td>0.0</td>\n",
       "      <td>NaN</td>\n",
       "      <td>NaN</td>\n",
       "    </tr>\n",
       "    <tr>\n",
       "      <th>b</th>\n",
       "      <td>1.0</td>\n",
       "      <td>NaN</td>\n",
       "      <td>NaN</td>\n",
       "    </tr>\n",
       "    <tr>\n",
       "      <th>c</th>\n",
       "      <td>NaN</td>\n",
       "      <td>2.0</td>\n",
       "      <td>NaN</td>\n",
       "    </tr>\n",
       "    <tr>\n",
       "      <th>d</th>\n",
       "      <td>NaN</td>\n",
       "      <td>3.0</td>\n",
       "      <td>NaN</td>\n",
       "    </tr>\n",
       "    <tr>\n",
       "      <th>e</th>\n",
       "      <td>NaN</td>\n",
       "      <td>4.0</td>\n",
       "      <td>NaN</td>\n",
       "    </tr>\n",
       "    <tr>\n",
       "      <th>f</th>\n",
       "      <td>NaN</td>\n",
       "      <td>NaN</td>\n",
       "      <td>5.0</td>\n",
       "    </tr>\n",
       "    <tr>\n",
       "      <th>g</th>\n",
       "      <td>NaN</td>\n",
       "      <td>NaN</td>\n",
       "      <td>6.0</td>\n",
       "    </tr>\n",
       "  </tbody>\n",
       "</table>\n",
       "</div>"
      ],
      "text/plain": [
       "     0    1    2\n",
       "a  0.0  NaN  NaN\n",
       "b  1.0  NaN  NaN\n",
       "c  NaN  2.0  NaN\n",
       "d  NaN  3.0  NaN\n",
       "e  NaN  4.0  NaN\n",
       "f  NaN  NaN  5.0\n",
       "g  NaN  NaN  6.0"
      ]
     },
     "execution_count": 10,
     "metadata": {},
     "output_type": "execute_result"
    }
   ],
   "source": [
    "pd.concat([s1,s2,s3],axis=1)"
   ]
  },
  {
   "cell_type": "code",
   "execution_count": 13,
   "id": "b810b0b7",
   "metadata": {},
   "outputs": [
    {
     "data": {
      "text/plain": [
       "one    a    0\n",
       "       b    1\n",
       "two    c    2\n",
       "       d    3\n",
       "       e    4\n",
       "three  f    5\n",
       "       g    6\n",
       "dtype: int64"
      ]
     },
     "execution_count": 13,
     "metadata": {},
     "output_type": "execute_result"
    }
   ],
   "source": [
    "pd.concat([s1, s2, s3], keys=['one', 'two', 'three'])"
   ]
  },
  {
   "cell_type": "code",
   "execution_count": 20,
   "id": "11fc1cc0",
   "metadata": {},
   "outputs": [
    {
     "data": {
      "text/plain": [
       "[{'coord': {'lon': 121.5319, 'lat': 25.0478},\n",
       "  'sys': {'country': 'TW',\n",
       "   'timezone': 28800,\n",
       "   'sunrise': 1656536821,\n",
       "   'sunset': 1656586055},\n",
       "  'weather': [{'id': 803,\n",
       "    'main': 'Clouds',\n",
       "    'description': 'broken clouds',\n",
       "    'icon': '04n'}],\n",
       "  'main': {'temp': 29.91,\n",
       "   'feels_like': 34.13,\n",
       "   'temp_min': 28.93,\n",
       "   'temp_max': 31.07,\n",
       "   'pressure': 1005,\n",
       "   'humidity': 67},\n",
       "  'visibility': 10000,\n",
       "  'wind': {'speed': 6.17, 'deg': 80},\n",
       "  'clouds': {'all': 75},\n",
       "  'dt': 1656590960,\n",
       "  'id': 1668341,\n",
       "  'name': 'Taipei'},\n",
       " {'coord': {'lon': 120.6839, 'lat': 24.1469},\n",
       "  'sys': {'country': 'TW',\n",
       "   'timezone': 28800,\n",
       "   'sunrise': 1656537141,\n",
       "   'sunset': 1656586142},\n",
       "  'weather': [{'id': 803,\n",
       "    'main': 'Clouds',\n",
       "    'description': 'broken clouds',\n",
       "    'icon': '04n'}],\n",
       "  'main': {'temp': 29.58,\n",
       "   'feels_like': 35.65,\n",
       "   'temp_min': 27.7,\n",
       "   'temp_max': 30.27,\n",
       "   'pressure': 989,\n",
       "   'humidity': 77},\n",
       "  'visibility': 10000,\n",
       "  'wind': {'speed': 0.45, 'deg': 230},\n",
       "  'clouds': {'all': 75},\n",
       "  'dt': 1656590960,\n",
       "  'id': 1668399,\n",
       "  'name': 'Taichung'},\n",
       " {'coord': {'lon': 120.4881, 'lat': 22.6714},\n",
       "  'sys': {'country': 'TW',\n",
       "   'timezone': 28800,\n",
       "   'sunrise': 1656537375,\n",
       "   'sunset': 1656586002},\n",
       "  'weather': [{'id': 501,\n",
       "    'main': 'Rain',\n",
       "    'description': 'moderate rain',\n",
       "    'icon': '10n'}],\n",
       "  'main': {'temp': 29.87,\n",
       "   'feels_like': 36.87,\n",
       "   'temp_min': 23.92,\n",
       "   'temp_max': 29.9,\n",
       "   'pressure': 1003,\n",
       "   'humidity': 79},\n",
       "  'visibility': 10000,\n",
       "  'wind': {'speed': 5.14, 'deg': 260},\n",
       "  'clouds': {'all': 75},\n",
       "  'dt': 1656591009,\n",
       "  'id': 1670481,\n",
       "  'name': 'Pingtung City'}]"
      ]
     },
     "execution_count": 20,
     "metadata": {},
     "output_type": "execute_result"
    }
   ],
   "source": [
    "import requests\n",
    "\n",
    "url = 'http://api.openweathermap.org/data/2.5/group?id=1668341,1668399,1670481&units=metric&appid=29c4f184354b9889e87f7b494ac86aed'\n",
    "response = requests.get(url)\n",
    "if response.status_code == 200:\n",
    "    allData = response.json()\n",
    "list_data = allData['list']\n",
    "list_data"
   ]
  },
  {
   "cell_type": "code",
   "execution_count": 21,
   "id": "f5a9ed7e",
   "metadata": {},
   "outputs": [
    {
     "data": {
      "text/plain": [
       "[{'城市': 'Taipei', '緯度': 25.0478, '經度': 121.5319, '攝氏': 29.91, '溼度': 67},\n",
       " {'城市': 'Taichung', '緯度': 24.1469, '經度': 120.6839, '攝氏': 29.58, '溼度': 77},\n",
       " {'城市': 'Pingtung City', '緯度': 22.6714, '經度': 120.4881, '攝氏': 29.87, '溼度': 79}]"
      ]
     },
     "execution_count": 21,
     "metadata": {},
     "output_type": "execute_result"
    }
   ],
   "source": [
    "weather_list = []\n",
    "\n",
    "for item in list_data:\n",
    "    itemDict = {}\n",
    "    itemDict['城市'] = item['name']\n",
    "    itemDict['緯度'] = item['coord']['lat']\n",
    "    itemDict['經度'] = item['coord']['lon']\n",
    "    itemDict['攝氏'] = item['main']['temp']\n",
    "    itemDict['溼度'] = item['main']['humidity']\n",
    "    weather_list.append(itemDict)\n",
    "    \n",
    "weather_list"
   ]
  },
  {
   "cell_type": "code",
   "execution_count": 22,
   "id": "b4b10ad9",
   "metadata": {},
   "outputs": [
    {
     "data": {
      "text/html": [
       "<div>\n",
       "<style scoped>\n",
       "    .dataframe tbody tr th:only-of-type {\n",
       "        vertical-align: middle;\n",
       "    }\n",
       "\n",
       "    .dataframe tbody tr th {\n",
       "        vertical-align: top;\n",
       "    }\n",
       "\n",
       "    .dataframe thead th {\n",
       "        text-align: right;\n",
       "    }\n",
       "</style>\n",
       "<table border=\"1\" class=\"dataframe\">\n",
       "  <thead>\n",
       "    <tr style=\"text-align: right;\">\n",
       "      <th></th>\n",
       "      <th>城市</th>\n",
       "      <th>緯度</th>\n",
       "      <th>經度</th>\n",
       "      <th>攝氏</th>\n",
       "      <th>溼度</th>\n",
       "    </tr>\n",
       "  </thead>\n",
       "  <tbody>\n",
       "    <tr>\n",
       "      <th>0</th>\n",
       "      <td>Taipei</td>\n",
       "      <td>25.0478</td>\n",
       "      <td>121.5319</td>\n",
       "      <td>29.91</td>\n",
       "      <td>67</td>\n",
       "    </tr>\n",
       "    <tr>\n",
       "      <th>1</th>\n",
       "      <td>Taichung</td>\n",
       "      <td>24.1469</td>\n",
       "      <td>120.6839</td>\n",
       "      <td>29.58</td>\n",
       "      <td>77</td>\n",
       "    </tr>\n",
       "    <tr>\n",
       "      <th>2</th>\n",
       "      <td>Pingtung City</td>\n",
       "      <td>22.6714</td>\n",
       "      <td>120.4881</td>\n",
       "      <td>29.87</td>\n",
       "      <td>79</td>\n",
       "    </tr>\n",
       "  </tbody>\n",
       "</table>\n",
       "</div>"
      ],
      "text/plain": [
       "              城市       緯度        經度     攝氏  溼度\n",
       "0         Taipei  25.0478  121.5319  29.91  67\n",
       "1       Taichung  24.1469  120.6839  29.58  77\n",
       "2  Pingtung City  22.6714  120.4881  29.87  79"
      ]
     },
     "execution_count": 22,
     "metadata": {},
     "output_type": "execute_result"
    }
   ],
   "source": [
    "import pandas as pd \n",
    "weather_dataFrame = pd.DataFrame(weather_list)\n",
    "weather_dataFrame"
   ]
  },
  {
   "cell_type": "code",
   "execution_count": 23,
   "id": "70e1d489",
   "metadata": {},
   "outputs": [
    {
     "data": {
      "text/html": [
       "<div>\n",
       "<style scoped>\n",
       "    .dataframe tbody tr th:only-of-type {\n",
       "        vertical-align: middle;\n",
       "    }\n",
       "\n",
       "    .dataframe tbody tr th {\n",
       "        vertical-align: top;\n",
       "    }\n",
       "\n",
       "    .dataframe thead th {\n",
       "        text-align: right;\n",
       "    }\n",
       "</style>\n",
       "<table border=\"1\" class=\"dataframe\">\n",
       "  <thead>\n",
       "    <tr style=\"text-align: right;\">\n",
       "      <th></th>\n",
       "      <th>緯度</th>\n",
       "      <th>經度</th>\n",
       "      <th>攝氏</th>\n",
       "      <th>溼度</th>\n",
       "    </tr>\n",
       "    <tr>\n",
       "      <th>城市</th>\n",
       "      <th></th>\n",
       "      <th></th>\n",
       "      <th></th>\n",
       "      <th></th>\n",
       "    </tr>\n",
       "  </thead>\n",
       "  <tbody>\n",
       "    <tr>\n",
       "      <th>Taipei</th>\n",
       "      <td>25.0478</td>\n",
       "      <td>121.5319</td>\n",
       "      <td>29.91</td>\n",
       "      <td>67</td>\n",
       "    </tr>\n",
       "    <tr>\n",
       "      <th>Taichung</th>\n",
       "      <td>24.1469</td>\n",
       "      <td>120.6839</td>\n",
       "      <td>29.58</td>\n",
       "      <td>77</td>\n",
       "    </tr>\n",
       "    <tr>\n",
       "      <th>Pingtung City</th>\n",
       "      <td>22.6714</td>\n",
       "      <td>120.4881</td>\n",
       "      <td>29.87</td>\n",
       "      <td>79</td>\n",
       "    </tr>\n",
       "  </tbody>\n",
       "</table>\n",
       "</div>"
      ],
      "text/plain": [
       "                    緯度        經度     攝氏  溼度\n",
       "城市                                         \n",
       "Taipei         25.0478  121.5319  29.91  67\n",
       "Taichung       24.1469  120.6839  29.58  77\n",
       "Pingtung City  22.6714  120.4881  29.87  79"
      ]
     },
     "execution_count": 23,
     "metadata": {},
     "output_type": "execute_result"
    }
   ],
   "source": [
    "weather_dataFrame = weather_dataFrame.set_index('城市')\n",
    "weather_dataFrame"
   ]
  },
  {
   "cell_type": "code",
   "execution_count": null,
   "id": "827e1c2f",
   "metadata": {},
   "outputs": [],
   "source": []
  }
 ],
 "metadata": {
  "kernelspec": {
   "display_name": "Python 3 (ipykernel)",
   "language": "python",
   "name": "python3"
  },
  "language_info": {
   "codemirror_mode": {
    "name": "ipython",
    "version": 3
   },
   "file_extension": ".py",
   "mimetype": "text/x-python",
   "name": "python",
   "nbconvert_exporter": "python",
   "pygments_lexer": "ipython3",
   "version": "3.10.2"
  }
 },
 "nbformat": 4,
 "nbformat_minor": 5
}

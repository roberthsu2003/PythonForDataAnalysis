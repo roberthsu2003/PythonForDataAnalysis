{
 "cells": [
  {
   "cell_type": "code",
   "execution_count": 2,
   "id": "dfe3406c",
   "metadata": {},
   "outputs": [
    {
     "data": {
      "text/plain": [
       "[1, 2, 3, 4, 5, 1, 2, 3, 4, 5]"
      ]
     },
     "execution_count": 2,
     "metadata": {},
     "output_type": "execute_result"
    }
   ],
   "source": [
    "l1 = [1, 2, 3, 4, 5]\n",
    "l1 *=2 \n",
    "l1"
   ]
  },
  {
   "cell_type": "code",
   "execution_count": 3,
   "id": "29b0f6a2",
   "metadata": {},
   "outputs": [
    {
     "data": {
      "text/plain": [
       "[2, 4, 6, 8, 10]"
      ]
     },
     "execution_count": 3,
     "metadata": {},
     "output_type": "execute_result"
    }
   ],
   "source": [
    "l2 = [1, 2, 3, 4, 5]\n",
    "[element*2 for element in l2]"
   ]
  },
  {
   "cell_type": "code",
   "execution_count": 6,
   "id": "b2465c90",
   "metadata": {},
   "outputs": [
    {
     "data": {
      "text/plain": [
       "array([1, 2, 3, 4, 5])"
      ]
     },
     "execution_count": 6,
     "metadata": {},
     "output_type": "execute_result"
    }
   ],
   "source": [
    "#numpy可做陣列運算\n",
    "import numpy as np\n",
    "array1 = np.array([1, 2, 3, 4, 5])\n",
    "array1"
   ]
  },
  {
   "cell_type": "code",
   "execution_count": 7,
   "id": "73e2ec73",
   "metadata": {},
   "outputs": [
    {
     "data": {
      "text/plain": [
       "array([ 2,  4,  6,  8, 10])"
      ]
     },
     "execution_count": 7,
     "metadata": {},
     "output_type": "execute_result"
    }
   ],
   "source": [
    "array1 * 2"
   ]
  },
  {
   "cell_type": "code",
   "execution_count": 10,
   "id": "b56f35a5",
   "metadata": {},
   "outputs": [
    {
     "data": {
      "text/plain": [
       "50"
      ]
     },
     "execution_count": 10,
     "metadata": {},
     "output_type": "execute_result"
    }
   ],
   "source": [
    "import numpy as np\n",
    "import matplotlib.pyplot as plt\n",
    "\n",
    "x = np.linspace(-3,3,50)\n",
    "len(x)"
   ]
  },
  {
   "cell_type": "code",
   "execution_count": 15,
   "id": "99702580",
   "metadata": {},
   "outputs": [
    {
     "data": {
      "text/plain": [
       "array([9.00000000e+00, 8.28029988e+00, 7.59058726e+00, 6.93086214e+00,\n",
       "       6.30112453e+00, 5.70137443e+00, 5.13161183e+00, 4.59183673e+00,\n",
       "       4.08204915e+00, 3.60224906e+00, 3.15243648e+00, 2.73261141e+00,\n",
       "       2.34277384e+00, 1.98292378e+00, 1.65306122e+00, 1.35318617e+00,\n",
       "       1.08329863e+00, 8.43398584e-01, 6.33486047e-01, 4.53561016e-01,\n",
       "       3.03623490e-01, 1.83673469e-01, 9.37109538e-02, 3.37359434e-02,\n",
       "       3.74843815e-03, 3.74843815e-03, 3.37359434e-02, 9.37109538e-02,\n",
       "       1.83673469e-01, 3.03623490e-01, 4.53561016e-01, 6.33486047e-01,\n",
       "       8.43398584e-01, 1.08329863e+00, 1.35318617e+00, 1.65306122e+00,\n",
       "       1.98292378e+00, 2.34277384e+00, 2.73261141e+00, 3.15243648e+00,\n",
       "       3.60224906e+00, 4.08204915e+00, 4.59183673e+00, 5.13161183e+00,\n",
       "       5.70137443e+00, 6.30112453e+00, 6.93086214e+00, 7.59058726e+00,\n",
       "       8.28029988e+00, 9.00000000e+00])"
      ]
     },
     "execution_count": 15,
     "metadata": {},
     "output_type": "execute_result"
    }
   ],
   "source": [
    "x\n",
    "y1 = 2 * x + 1\n",
    "y1\n",
    "y2 = x ** 2\n",
    "y2"
   ]
  },
  {
   "cell_type": "code",
   "execution_count": 17,
   "id": "1b37b211",
   "metadata": {
    "scrolled": true
   },
   "outputs": [
    {
     "data": {
      "image/png": "[encoded data removed]",
      "text/plain": [
       "<Figure size 576x360 with 1 Axes>"
      ]
     },
     "metadata": {
      "needs_background": "light"
     },
     "output_type": "display_data"
    }
   ],
   "source": [
    "fig = plt.figure(figsize=(8,5))\n",
    "ax1 = fig.add_subplot(1,1,1)\n",
    "ax1.plot(x,y1,'r--')\n",
    "ax1.plot(x,y2,color=\"red\", linestyle=\"-\", linewidth=1)\n",
    "plt.xlabel('I am x')\n",
    "plt.ylabel('I am y')\n",
    "plt.title('x,y')\n",
    "plt.show()"
   ]
  },
  {
   "cell_type": "code",
   "execution_count": null,
   "id": "e5b8fc38",
   "metadata": {},
   "outputs": [],
   "source": []
  }
 ],
 "metadata": {
  "kernelspec": {
   "display_name": "Python 3 (ipykernel)",
   "language": "python",
   "name": "python3"
  },
  "language_info": {
   "codemirror_mode": {
    "name": "ipython",
    "version": 3
   },
   "file_extension": ".py",
   "mimetype": "text/x-python",
   "name": "python",
   "nbconvert_exporter": "python",
   "pygments_lexer": "ipython3",
   "version": "3.10.2"
  }
 },
 "nbformat": 4,
 "nbformat_minor": 5
}

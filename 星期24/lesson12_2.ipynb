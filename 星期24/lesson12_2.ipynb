{
 "cells": [
  {
   "cell_type": "code",
   "execution_count": 4,
   "id": "32114f62",
   "metadata": {},
   "outputs": [
    {
     "name": "stdout",
     "output_type": "stream",
     "text": [
      "[ 0  1  2  3  4  5  6  7  8  9 10 11]\n",
      "(12,)\n"
     ]
    }
   ],
   "source": [
    "import numpy as np\n",
    "nd1 = np.arange(12)\n",
    "print(nd1)\n",
    "print(nd1.shape)"
   ]
  },
  {
   "cell_type": "code",
   "execution_count": 2,
   "id": "570d7baa",
   "metadata": {},
   "outputs": [
    {
     "data": {
      "text/plain": [
       "8"
      ]
     },
     "execution_count": 2,
     "metadata": {},
     "output_type": "execute_result"
    }
   ],
   "source": [
    "nd1[8,]"
   ]
  },
  {
   "cell_type": "code",
   "execution_count": 5,
   "id": "6aa9f95b",
   "metadata": {},
   "outputs": [
    {
     "data": {
      "text/plain": [
       "array([[ 0,  1,  2,  3,  4,  5],\n",
       "       [ 6,  7,  8,  9, 10, 11]])"
      ]
     },
     "execution_count": 5,
     "metadata": {},
     "output_type": "execute_result"
    }
   ],
   "source": [
    "#reshape成為2維\n",
    "nd2 = nd1.reshape((2,6))\n",
    "nd2"
   ]
  },
  {
   "cell_type": "code",
   "execution_count": 6,
   "id": "d1167010",
   "metadata": {},
   "outputs": [
    {
     "data": {
      "text/plain": [
       "array([[ 0,  1,  2,  3],\n",
       "       [ 4,  5,  6,  7],\n",
       "       [ 8,  9, 10, 11]])"
      ]
     },
     "execution_count": 6,
     "metadata": {},
     "output_type": "execute_result"
    }
   ],
   "source": [
    "#reshape成為2維\n",
    "nd3 = nd1.reshape((3, 4))\n",
    "nd3"
   ]
  },
  {
   "cell_type": "code",
   "execution_count": 13,
   "id": "cd391185",
   "metadata": {},
   "outputs": [
    {
     "data": {
      "text/plain": [
       "array([ 8,  9, 10, 11])"
      ]
     },
     "execution_count": 13,
     "metadata": {},
     "output_type": "execute_result"
    }
   ],
   "source": [
    "nd3[2,]"
   ]
  },
  {
   "cell_type": "code",
   "execution_count": 9,
   "id": "cc72a29a",
   "metadata": {},
   "outputs": [
    {
     "data": {
      "text/plain": [
       "10"
      ]
     },
     "execution_count": 9,
     "metadata": {},
     "output_type": "execute_result"
    }
   ],
   "source": [
    "nd3[2,2]"
   ]
  },
  {
   "cell_type": "code",
   "execution_count": 11,
   "id": "1a3e88b0",
   "metadata": {},
   "outputs": [
    {
     "data": {
      "text/plain": [
       "array([10, 11])"
      ]
     },
     "execution_count": 11,
     "metadata": {},
     "output_type": "execute_result"
    }
   ],
   "source": [
    "nd3[2,2:]"
   ]
  },
  {
   "cell_type": "code",
   "execution_count": 12,
   "id": "23142287",
   "metadata": {},
   "outputs": [
    {
     "data": {
      "text/plain": [
       "array([[[ 0,  1],\n",
       "        [ 2,  3],\n",
       "        [ 4,  5]],\n",
       "\n",
       "       [[ 6,  7],\n",
       "        [ 8,  9],\n",
       "        [10, 11]]])"
      ]
     },
     "execution_count": 12,
     "metadata": {},
     "output_type": "execute_result"
    }
   ],
   "source": [
    "nd4 = nd1.reshape((2,3,2))\n",
    "nd4"
   ]
  },
  {
   "cell_type": "code",
   "execution_count": 15,
   "id": "618d24c9",
   "metadata": {},
   "outputs": [
    {
     "data": {
      "text/plain": [
       "array([[63, 68, 83, 61, 87],\n",
       "       [65, 75, 72, 86, 69],\n",
       "       [89, 88, 86, 63, 93],\n",
       "       [82, 90, 66, 97, 63],\n",
       "       [89, 96, 80, 82, 78],\n",
       "       [74, 67, 99, 64, 91],\n",
       "       [70, 93, 75, 77, 70],\n",
       "       [89, 76, 80, 78, 91],\n",
       "       [80, 87, 82, 63, 71],\n",
       "       [90, 82, 68, 65, 75]])"
      ]
     },
     "execution_count": 15,
     "metadata": {},
     "output_type": "execute_result"
    }
   ],
   "source": [
    "#numpy的統計\n",
    "#sum()\n",
    "#10個學生,5個分數\n",
    "students = np.random.randint(60,100,size=(10,5))\n",
    "students"
   ]
  },
  {
   "cell_type": "code",
   "execution_count": 18,
   "id": "e05dfedb",
   "metadata": {},
   "outputs": [
    {
     "data": {
      "text/plain": [
       "array([362, 367, 419, 398, 425, 395, 385, 414, 383, 380])"
      ]
     },
     "execution_count": 18,
     "metadata": {},
     "output_type": "execute_result"
    }
   ],
   "source": [
    "#學生總分\n",
    "students.sum(axis=1)"
   ]
  },
  {
   "cell_type": "code",
   "execution_count": 20,
   "id": "2f50ef21",
   "metadata": {},
   "outputs": [
    {
     "data": {
      "text/plain": [
       "array([72.4, 73.4, 83.8, 79.6, 85. , 79. , 77. , 82.8, 76.6, 76. ])"
      ]
     },
     "execution_count": 20,
     "metadata": {},
     "output_type": "execute_result"
    }
   ],
   "source": [
    "#學生平均\n",
    "students.mean(axis=1)"
   ]
  },
  {
   "cell_type": "code",
   "execution_count": 21,
   "id": "4351468e",
   "metadata": {},
   "outputs": [
    {
     "data": {
      "text/plain": [
       "array([ 9.94434513,  9.73447482,  9.11537163, 11.62927341, 10.32279032])"
      ]
     },
     "execution_count": 21,
     "metadata": {},
     "output_type": "execute_result"
    }
   ],
   "source": [
    "#各科的標準差,數值愈大代表分數差距比較大\n",
    "students.std(axis=0)"
   ]
  },
  {
   "cell_type": "code",
   "execution_count": 22,
   "id": "19a40bc9",
   "metadata": {},
   "outputs": [
    {
     "data": {
      "text/plain": [
       "array([90, 96, 99, 97, 93])"
      ]
     },
     "execution_count": 22,
     "metadata": {},
     "output_type": "execute_result"
    }
   ],
   "source": [
    "#各科最高分\n",
    "students.max(axis=0)"
   ]
  },
  {
   "cell_type": "code",
   "execution_count": 23,
   "id": "f78c75b3",
   "metadata": {},
   "outputs": [
    {
     "data": {
      "text/plain": [
       "array([63, 67, 66, 61, 63])"
      ]
     },
     "execution_count": 23,
     "metadata": {},
     "output_type": "execute_result"
    }
   ],
   "source": [
    "#各科最底分\n",
    "students.min(axis=0)"
   ]
  },
  {
   "cell_type": "code",
   "execution_count": 24,
   "id": "9287c39e",
   "metadata": {},
   "outputs": [
    {
     "data": {
      "text/plain": [
       "array([5552, 6241, 9895, 1611,  726, 5606, 1296, 4533, 8268, 6787,  167,\n",
       "       5287, 9743,  820, 1273, 9259, 6807, 7855, 2138, 6351, 8975, 2828,\n",
       "       5064, 4807, 2643, 6529, 7889,  830, 3681,  616])"
      ]
     },
     "execution_count": 24,
     "metadata": {},
     "output_type": "execute_result"
    }
   ],
   "source": [
    "#1家分店30天的營收\n",
    "\n",
    "oneStore = np.random.randint(100,10000,size=(30,))\n",
    "oneStore"
   ]
  },
  {
   "cell_type": "code",
   "execution_count": 27,
   "id": "ef61d2c0",
   "metadata": {},
   "outputs": [
    {
     "data": {
      "text/plain": [
       "array([  5552,  11793,  21688,  23299,  24025,  29631,  30927,  35460,\n",
       "        43728,  50515,  50682,  55969,  65712,  66532,  67805,  77064,\n",
       "        83871,  91726,  93864, 100215, 109190, 112018, 117082, 121889,\n",
       "       124532, 131061, 138950, 139780, 143461, 144077])"
      ]
     },
     "execution_count": 27,
     "metadata": {},
     "output_type": "execute_result"
    }
   ],
   "source": [
    "#累計每天這家店的營收\n",
    "#cumsum()\n",
    "oneStoreCum = oneStore.cumsum()\n",
    "oneStoreCum"
   ]
  },
  {
   "cell_type": "code",
   "execution_count": 36,
   "id": "1075bd15",
   "metadata": {},
   "outputs": [
    {
     "data": {
      "image/png": "[encoded data removed]",
      "text/plain": [
       "<Figure size 720x360 with 1 Axes>"
      ]
     },
     "metadata": {
      "needs_background": "light"
     },
     "output_type": "display_data"
    }
   ],
   "source": [
    "import matplotlib.pyplot as plt\n",
    "\n",
    "fig = plt.figure(figsize=(10,5))\n",
    "ax1 = fig.add_subplot(1, 1, 1)\n",
    "ax1.plot(range(1,31),oneStoreCum,'r-')\n",
    "plt.title('one Store shop cumsum')\n",
    "plt.xlabel('day')\n",
    "plt.ylabel('money')\n",
    "plt.show()"
   ]
  },
  {
   "cell_type": "code",
   "execution_count": null,
   "id": "3cce0923",
   "metadata": {},
   "outputs": [],
   "source": []
  }
 ],
 "metadata": {
  "kernelspec": {
   "display_name": "Python 3 (ipykernel)",
   "language": "python",
   "name": "python3"
  },
  "language_info": {
   "codemirror_mode": {
    "name": "ipython",
    "version": 3
   },
   "file_extension": ".py",
   "mimetype": "text/x-python",
   "name": "python",
   "nbconvert_exporter": "python",
   "pygments_lexer": "ipython3",
   "version": "3.10.2"
  }
 },
 "nbformat": 4,
 "nbformat_minor": 5
}

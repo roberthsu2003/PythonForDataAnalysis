{
 "cells": [
  {
   "cell_type": "code",
   "execution_count": 2,
   "id": "9bad3eb5",
   "metadata": {},
   "outputs": [
    {
     "name": "stdout",
     "output_type": "stream",
     "text": [
      "<class 'datetime.datetime'>\n"
     ]
    },
    {
     "data": {
      "text/plain": [
       "datetime.datetime(2022, 7, 14, 19, 7, 59, 35685)"
      ]
     },
     "execution_count": 2,
     "metadata": {},
     "output_type": "execute_result"
    }
   ],
   "source": [
    "from datetime import datetime\n",
    "now = datetime.now()\n",
    "print(now.__class__)\n",
    "now"
   ]
  },
  {
   "cell_type": "code",
   "execution_count": 4,
   "id": "1711fc80",
   "metadata": {},
   "outputs": [
    {
     "data": {
      "text/plain": [
       "(2022, 7, 14)"
      ]
     },
     "execution_count": 4,
     "metadata": {},
     "output_type": "execute_result"
    }
   ],
   "source": [
    "now.year, now.month, now.day"
   ]
  },
  {
   "cell_type": "code",
   "execution_count": 6,
   "id": "2fe9d5d5",
   "metadata": {},
   "outputs": [
    {
     "data": {
      "text/plain": [
       "datetime.timedelta(days=926, seconds=56670)"
      ]
     },
     "execution_count": 6,
     "metadata": {},
     "output_type": "execute_result"
    }
   ],
   "source": [
    "#datetime物件可以運算\n",
    "#timedelta,代表一段時間\n",
    "delta =datetime(2011, 1, 7) - datetime(2008,6, 24, 8, 15, 30)\n",
    "delta"
   ]
  },
  {
   "cell_type": "code",
   "execution_count": 7,
   "id": "9809cf30",
   "metadata": {},
   "outputs": [
    {
     "data": {
      "text/plain": [
       "(926, 56670)"
      ]
     },
     "execution_count": 7,
     "metadata": {},
     "output_type": "execute_result"
    }
   ],
   "source": [
    "delta.days, delta.seconds"
   ]
  },
  {
   "cell_type": "code",
   "execution_count": 10,
   "id": "6bcd4e2e",
   "metadata": {},
   "outputs": [
    {
     "data": {
      "text/plain": [
       "datetime.datetime(2022, 7, 2, 19, 20, 6, 576212)"
      ]
     },
     "execution_count": 10,
     "metadata": {},
     "output_type": "execute_result"
    }
   ],
   "source": [
    "#datetime和timedelta一起運算\n",
    "\n",
    "from datetime import timedelta\n",
    "\n",
    "start = datetime.now()\n",
    "start + timedelta(-12)"
   ]
  },
  {
   "cell_type": "code",
   "execution_count": 12,
   "id": "7621646a",
   "metadata": {},
   "outputs": [
    {
     "data": {
      "text/plain": [
       "'2022-07-14 19:21:19.448819'"
      ]
     },
     "execution_count": 12,
     "metadata": {},
     "output_type": "execute_result"
    }
   ],
   "source": [
    "#字串和Datetime之間的轉換\n",
    "now = datetime.now()\n",
    "str(now)"
   ]
  },
  {
   "cell_type": "code",
   "execution_count": 17,
   "id": "eb436a87",
   "metadata": {},
   "outputs": [
    {
     "data": {
      "text/plain": [
       "'2022-07-14'"
      ]
     },
     "execution_count": 17,
     "metadata": {},
     "output_type": "execute_result"
    }
   ],
   "source": [
    "#datetime轉為字串\n",
    "now.strftime('%Y-%m-%d')"
   ]
  },
  {
   "cell_type": "code",
   "execution_count": 18,
   "id": "797579c0",
   "metadata": {},
   "outputs": [
    {
     "data": {
      "text/plain": [
       "datetime.datetime(2022, 7, 15, 0, 0)"
      ]
     },
     "execution_count": 18,
     "metadata": {},
     "output_type": "execute_result"
    }
   ],
   "source": [
    "#字串轉為datetime\n",
    "value = '2022-07-15'\n",
    "datetime.strptime(value, '%Y-%m-%d')"
   ]
  }
 ],
 "metadata": {
  "kernelspec": {
   "display_name": "Python 3 (ipykernel)",
   "language": "python",
   "name": "python3"
  },
  "language_info": {
   "codemirror_mode": {
    "name": "ipython",
    "version": 3
   },
   "file_extension": ".py",
   "mimetype": "text/x-python",
   "name": "python",
   "nbconvert_exporter": "python",
   "pygments_lexer": "ipython3",
   "version": "3.10.2"
  }
 },
 "nbformat": 4,
 "nbformat_minor": 5
}

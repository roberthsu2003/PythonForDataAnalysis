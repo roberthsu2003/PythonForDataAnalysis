{
 "cells": [
  {
   "cell_type": "code",
   "execution_count": 2,
   "id": "20e05202",
   "metadata": {},
   "outputs": [
    {
     "name": "stdout",
     "output_type": "stream",
     "text": [
      "<class 'datetime.datetime'>\n"
     ]
    },
    {
     "data": {
      "text/plain": [
       "datetime.datetime(2022, 7, 14, 19, 7, 59, 35685)"
      ]
     },
     "execution_count": 2,
     "metadata": {},
     "output_type": "execute_result"
    }
   ],
   "source": [
    "from datetime import datetime\n",
    "now = datetime.now()\n",
    "print(now.__class__)\n",
    "now"
   ]
  },
  {
   "cell_type": "code",
   "execution_count": 4,
   "id": "856f8078",
   "metadata": {},
   "outputs": [
    {
     "data": {
      "text/plain": [
       "(2022, 7, 14)"
      ]
     },
     "execution_count": 4,
     "metadata": {},
     "output_type": "execute_result"
    }
   ],
   "source": [
    "now.year, now.month, now.day"
   ]
  },
  {
   "cell_type": "code",
   "execution_count": 6,
   "id": "36ab73e8",
   "metadata": {},
   "outputs": [
    {
     "data": {
      "text/plain": [
       "datetime.timedelta(days=926, seconds=56670)"
      ]
     },
     "execution_count": 6,
     "metadata": {},
     "output_type": "execute_result"
    }
   ],
   "source": [
    "#datetime物件可以運算\n",
    "#timedelta,代表一段時間\n",
    "delta =datetime(2011, 1, 7) - datetime(2008,6, 24, 8, 15, 30)\n",
    "delta"
   ]
  },
  {
   "cell_type": "code",
   "execution_count": 7,
   "id": "ca89d954",
   "metadata": {},
   "outputs": [
    {
     "data": {
      "text/plain": [
       "(926, 56670)"
      ]
     },
     "execution_count": 7,
     "metadata": {},
     "output_type": "execute_result"
    }
   ],
   "source": [
    "delta.days, delta.seconds"
   ]
  },
  {
   "cell_type": "code",
   "execution_count": 10,
   "id": "a7dcc9eb",
   "metadata": {},
   "outputs": [
    {
     "data": {
      "text/plain": [
       "datetime.datetime(2022, 7, 2, 19, 20, 6, 576212)"
      ]
     },
     "execution_count": 10,
     "metadata": {},
     "output_type": "execute_result"
    }
   ],
   "source": [
    "#datetime和timedelta一起運算\n",
    "\n",
    "from datetime import timedelta\n",
    "\n",
    "start = datetime.now()\n",
    "start + timedelta(-12)"
   ]
  },
  {
   "cell_type": "code",
   "execution_count": 12,
   "id": "a4b76558",
   "metadata": {},
   "outputs": [
    {
     "data": {
      "text/plain": [
       "'2022-07-14 19:21:19.448819'"
      ]
     },
     "execution_count": 12,
     "metadata": {},
     "output_type": "execute_result"
    }
   ],
   "source": [
    "#字串和Datetime之間的轉換\n",
    "now = datetime.now()\n",
    "str(now)"
   ]
  },
  {
   "cell_type": "code",
   "execution_count": 17,
   "id": "cae9627f",
   "metadata": {},
   "outputs": [
    {
     "data": {
      "text/plain": [
       "'2022-07-14'"
      ]
     },
     "execution_count": 17,
     "metadata": {},
     "output_type": "execute_result"
    }
   ],
   "source": [
    "#datetime轉為字串\n",
    "now.strftime('%Y-%m-%d')"
   ]
  },
  {
   "cell_type": "code",
   "execution_count": 20,
   "id": "6233422c",
   "metadata": {},
   "outputs": [
    {
     "data": {
      "text/plain": [
       "datetime.datetime(2022, 7, 15, 0, 0)"
      ]
     },
     "execution_count": 20,
     "metadata": {},
     "output_type": "execute_result"
    }
   ],
   "source": [
    "#字串轉為datetime\n",
    "value = '2022-07-15'\n",
    "datetime.strptime(value, '%Y-%m-%d')"
   ]
  },
  {
   "cell_type": "code",
   "execution_count": 23,
   "id": "6073e4c9",
   "metadata": {},
   "outputs": [
    {
     "data": {
      "text/plain": [
       "DatetimeIndex(['2011-07-06 12:00:00', '2011-08-06 00:00:00'], dtype='datetime64[ns]', freq=None)"
      ]
     },
     "execution_count": 23,
     "metadata": {},
     "output_type": "execute_result"
    }
   ],
   "source": [
    "import numpy as np \n",
    "import pandas as pd\n",
    "#pd.to_datetime建立datetimeIndex\n",
    "datestrs = ['2011-07-6 12:00:00', '2011-08-06 00:00:00']\n",
    "pd.to_datetime(datestrs)"
   ]
  },
  {
   "cell_type": "code",
   "execution_count": 27,
   "id": "2acb2f2c",
   "metadata": {},
   "outputs": [
    {
     "data": {
      "text/plain": [
       "DatetimeIndex(['2011-07-06 12:00:00', '2011-08-05 12:00:00'], dtype='datetime64[ns]', freq=None)"
      ]
     },
     "execution_count": 27,
     "metadata": {},
     "output_type": "execute_result"
    }
   ],
   "source": [
    "datesobj = [datetime(2011,7,6,12,0,0), datetime(2011,8,5,12,0,0)]\n",
    "pd.to_datetime(datesobj)"
   ]
  },
  {
   "cell_type": "code",
   "execution_count": 28,
   "id": "4c62478d",
   "metadata": {},
   "outputs": [
    {
     "data": {
      "text/plain": [
       "2011-01-02   -0.549685\n",
       "2011-01-05   -1.765525\n",
       "2011-01-07   -0.396457\n",
       "2011-01-08    0.146748\n",
       "2011-01-10   -0.227673\n",
       "2011-01-12   -0.356832\n",
       "dtype: float64"
      ]
     },
     "execution_count": 28,
     "metadata": {},
     "output_type": "execute_result"
    }
   ],
   "source": [
    "#Time Series Basic\n",
    "\n",
    "from datetime import datetime\n",
    "dates = [datetime(2011, 1, 2), datetime(2011, 1, 5),\n",
    "         datetime(2011, 1, 7), datetime(2011, 1, 8),\n",
    "         datetime(2011, 1, 10), datetime(2011, 1, 12)]\n",
    "\n",
    "ts = pd.Series(np.random.randn(6), index = dates)\n",
    "ts"
   ]
  },
  {
   "cell_type": "code",
   "execution_count": 29,
   "id": "7d8778df",
   "metadata": {},
   "outputs": [
    {
     "data": {
      "text/plain": [
       "DatetimeIndex(['2011-01-02', '2011-01-05', '2011-01-07', '2011-01-08',\n",
       "               '2011-01-10', '2011-01-12'],\n",
       "              dtype='datetime64[ns]', freq=None)"
      ]
     },
     "execution_count": 29,
     "metadata": {},
     "output_type": "execute_result"
    }
   ],
   "source": [
    "ts.index"
   ]
  },
  {
   "cell_type": "code",
   "execution_count": 35,
   "id": "72cd0376",
   "metadata": {},
   "outputs": [
    {
     "data": {
      "text/plain": [
       "Timestamp('2011-01-02 00:00:00')"
      ]
     },
     "execution_count": 35,
     "metadata": {},
     "output_type": "execute_result"
    }
   ],
   "source": [
    "ts.index[0]"
   ]
  },
  {
   "cell_type": "code",
   "execution_count": 33,
   "id": "60dc9711",
   "metadata": {},
   "outputs": [
    {
     "data": {
      "text/plain": [
       "(2011, 1, 2)"
      ]
     },
     "execution_count": 33,
     "metadata": {},
     "output_type": "execute_result"
    }
   ],
   "source": [
    "ts.index[0].year, ts.index[0].month, ts.index[0].day"
   ]
  },
  {
   "cell_type": "code",
   "execution_count": 34,
   "id": "f143e3eb",
   "metadata": {},
   "outputs": [
    {
     "data": {
      "text/plain": [
       "'20110102'"
      ]
     },
     "execution_count": 34,
     "metadata": {},
     "output_type": "execute_result"
    }
   ],
   "source": [
    "ts.index[0].strftime(\"%Y%m%d\")"
   ]
  },
  {
   "cell_type": "code",
   "execution_count": 36,
   "id": "ce8a66d5",
   "metadata": {},
   "outputs": [
    {
     "data": {
      "text/plain": [
       "2018-01-01   -1.357319\n",
       "2018-01-02    0.338081\n",
       "2018-01-03   -0.797493\n",
       "2018-01-04    0.234345\n",
       "2018-01-05   -1.584118\n",
       "                ...   \n",
       "2020-09-22   -1.674131\n",
       "2020-09-23   -0.941670\n",
       "2020-09-24   -1.598614\n",
       "2020-09-25    1.395763\n",
       "2020-09-26   -0.213025\n",
       "Freq: D, Length: 1000, dtype: float64"
      ]
     },
     "execution_count": 36,
     "metadata": {},
     "output_type": "execute_result"
    }
   ],
   "source": [
    "#datetimeIndex->Indexing,Selection,subsetting\n",
    "longer_ts = pd.Series(np.random.randn(1000),\n",
    "                     index = pd.date_range('2018-01-01', periods=1000))\n",
    "longer_ts"
   ]
  },
  {
   "cell_type": "code",
   "execution_count": 37,
   "id": "b6f68986",
   "metadata": {},
   "outputs": [
    {
     "data": {
      "text/plain": [
       "2020-01-01    1.182198\n",
       "2020-01-02    1.092444\n",
       "2020-01-03   -1.670624\n",
       "2020-01-04   -0.731495\n",
       "2020-01-05   -0.792951\n",
       "                ...   \n",
       "2020-09-22   -1.674131\n",
       "2020-09-23   -0.941670\n",
       "2020-09-24   -1.598614\n",
       "2020-09-25    1.395763\n",
       "2020-09-26   -0.213025\n",
       "Freq: D, Length: 270, dtype: float64"
      ]
     },
     "execution_count": 37,
     "metadata": {},
     "output_type": "execute_result"
    }
   ],
   "source": [
    "longer_ts['2020']"
   ]
  },
  {
   "cell_type": "code",
   "execution_count": 39,
   "id": "c5aed262",
   "metadata": {},
   "outputs": [
    {
     "data": {
      "text/plain": [
       "2020-07-01    1.066489\n",
       "2020-07-02   -0.091070\n",
       "2020-07-03    0.711804\n",
       "2020-07-04   -0.852342\n",
       "2020-07-05   -0.446281\n",
       "2020-07-06   -1.292141\n",
       "2020-07-07    0.308062\n",
       "2020-07-08   -0.761328\n",
       "2020-07-09   -0.807874\n",
       "2020-07-10    0.435325\n",
       "2020-07-11   -0.496213\n",
       "2020-07-12   -0.836382\n",
       "2020-07-13    0.673998\n",
       "2020-07-14   -1.020687\n",
       "2020-07-15    0.866674\n",
       "2020-07-16   -0.851910\n",
       "2020-07-17    0.474723\n",
       "2020-07-18    0.606050\n",
       "2020-07-19   -0.906317\n",
       "2020-07-20    0.081492\n",
       "2020-07-21   -1.272260\n",
       "2020-07-22    1.487623\n",
       "2020-07-23   -0.865110\n",
       "2020-07-24   -1.843145\n",
       "2020-07-25    0.803447\n",
       "2020-07-26   -0.304445\n",
       "2020-07-27   -0.277844\n",
       "2020-07-28    0.412561\n",
       "2020-07-29    0.932601\n",
       "2020-07-30    0.720396\n",
       "2020-07-31   -0.950676\n",
       "Freq: D, dtype: float64"
      ]
     },
     "execution_count": 39,
     "metadata": {},
     "output_type": "execute_result"
    }
   ],
   "source": [
    "longer_ts['2020-07']"
   ]
  },
  {
   "cell_type": "code",
   "execution_count": 41,
   "id": "dfbe6b5f",
   "metadata": {},
   "outputs": [
    {
     "data": {
      "text/plain": [
       "0.412560619605889"
      ]
     },
     "execution_count": 41,
     "metadata": {},
     "output_type": "execute_result"
    }
   ],
   "source": [
    "longer_ts['2020-07-28']"
   ]
  },
  {
   "cell_type": "code",
   "execution_count": 42,
   "id": "34df804d",
   "metadata": {},
   "outputs": [
    {
     "data": {
      "text/plain": [
       "2019-03-01   -0.189473\n",
       "2019-03-02    0.346275\n",
       "2019-03-03    1.175497\n",
       "2019-03-04   -0.163284\n",
       "2019-03-05   -0.535445\n",
       "                ...   \n",
       "2019-12-28    0.370911\n",
       "2019-12-29    3.143159\n",
       "2019-12-30   -0.473331\n",
       "2019-12-31   -0.137577\n",
       "2020-01-01    1.182198\n",
       "Freq: D, Length: 307, dtype: float64"
      ]
     },
     "execution_count": 42,
     "metadata": {},
     "output_type": "execute_result"
    }
   ],
   "source": [
    "longer_ts['2019-03-01':'2020-01-01']"
   ]
  }
 ],
 "metadata": {
  "kernelspec": {
   "display_name": "Python 3 (ipykernel)",
   "language": "python",
   "name": "python3"
  },
  "language_info": {
   "codemirror_mode": {
    "name": "ipython",
    "version": 3
   },
   "file_extension": ".py",
   "mimetype": "text/x-python",
   "name": "python",
   "nbconvert_exporter": "python",
   "pygments_lexer": "ipython3",
   "version": "3.10.2"
  }
 },
 "nbformat": 4,
 "nbformat_minor": 5
}

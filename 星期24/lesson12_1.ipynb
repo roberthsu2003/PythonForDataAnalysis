{
 "cells": [
  {
   "cell_type": "code",
   "execution_count": 5,
   "id": "95f75512",
   "metadata": {},
   "outputs": [
    {
     "data": {
      "text/plain": [
       "array([ 72,  60,  80,  79,  64,  91,  67,  73,  75,  96,  66,  85,  93,\n",
       "        67,  88,  61,  96,  98,  91,  83, 100,  79,  84,  60,  72,  93,\n",
       "        94,  86,  96,  67,  98,  63,  86,  84,  92,  82,  68,  82,  64,\n",
       "        76,  68,  81,  97,  93,  85,  98,  66,  84,  81,  76])"
      ]
     },
     "execution_count": 5,
     "metadata": {},
     "output_type": "execute_result"
    }
   ],
   "source": [
    "#由list建立numpy\n",
    "#np.array()\n",
    "\n",
    "\n",
    "import numpy as np\n",
    "import random\n",
    "\n",
    "chinese = [random.randint(60,100) for _ in range(50)]\n",
    "english = [random.randint(60,100) for _ in range(50)]\n",
    "\n",
    "ndChinese = np.array(chinese)\n",
    "ndEnglish = np.array(english)\n"
   ]
  },
  {
   "cell_type": "code",
   "execution_count": 8,
   "id": "ed414652",
   "metadata": {},
   "outputs": [
    {
     "data": {
      "text/plain": [
       "array([169, 141, 165, 149, 156, 162, 143, 133, 164, 182, 149, 185, 173,\n",
       "       167, 166, 132, 168, 169, 169, 152, 194, 143, 157, 146, 134, 174,\n",
       "       161, 170, 182, 162, 197, 142, 182, 160, 156, 175, 134, 154, 149,\n",
       "       174, 153, 169, 173, 191, 168, 164, 138, 157, 174, 175])"
      ]
     },
     "execution_count": 8,
     "metadata": {},
     "output_type": "execute_result"
    }
   ],
   "source": [
    "#每個學生的總分\n",
    "ndTotal = ndChinese + ndEnglish\n",
    "ndTotal"
   ]
  },
  {
   "cell_type": "code",
   "execution_count": 9,
   "id": "96bf516d",
   "metadata": {},
   "outputs": [
    {
     "data": {
      "text/plain": [
       "array([84.5, 70.5, 82.5, 74.5, 78. , 81. , 71.5, 66.5, 82. , 91. , 74.5,\n",
       "       92.5, 86.5, 83.5, 83. , 66. , 84. , 84.5, 84.5, 76. , 97. , 71.5,\n",
       "       78.5, 73. , 67. , 87. , 80.5, 85. , 91. , 81. , 98.5, 71. , 91. ,\n",
       "       80. , 78. , 87.5, 67. , 77. , 74.5, 87. , 76.5, 84.5, 86.5, 95.5,\n",
       "       84. , 82. , 69. , 78.5, 87. , 87.5])"
      ]
     },
     "execution_count": 9,
     "metadata": {},
     "output_type": "execute_result"
    }
   ],
   "source": [
    "#每個學生的平均\n",
    "#一維陣列\n",
    "ndAverage = ndTotal / 2\n",
    "ndAverage"
   ]
  },
  {
   "cell_type": "code",
   "execution_count": 10,
   "id": "62519793",
   "metadata": {},
   "outputs": [
    {
     "data": {
      "text/plain": [
       "numpy.ndarray"
      ]
     },
     "execution_count": 10,
     "metadata": {},
     "output_type": "execute_result"
    }
   ],
   "source": [
    "ndAverage.__class__"
   ]
  },
  {
   "cell_type": "code",
   "execution_count": 11,
   "id": "41ae5fdc",
   "metadata": {},
   "outputs": [
    {
     "data": {
      "text/plain": [
       "1"
      ]
     },
     "execution_count": 11,
     "metadata": {},
     "output_type": "execute_result"
    }
   ],
   "source": [
    "ndAverage.ndim"
   ]
  },
  {
   "cell_type": "code",
   "execution_count": 12,
   "id": "8ca800d3",
   "metadata": {},
   "outputs": [
    {
     "data": {
      "text/plain": [
       "(50,)"
      ]
     },
     "execution_count": 12,
     "metadata": {},
     "output_type": "execute_result"
    }
   ],
   "source": [
    "ndAverage.shape"
   ]
  },
  {
   "cell_type": "code",
   "execution_count": 13,
   "id": "349426d6",
   "metadata": {},
   "outputs": [
    {
     "data": {
      "text/plain": [
       "50"
      ]
     },
     "execution_count": 13,
     "metadata": {},
     "output_type": "execute_result"
    }
   ],
   "source": [
    "ndAverage.size"
   ]
  },
  {
   "cell_type": "code",
   "execution_count": 14,
   "id": "6367072d",
   "metadata": {},
   "outputs": [
    {
     "data": {
      "text/plain": [
       "dtype('float64')"
      ]
     },
     "execution_count": 14,
     "metadata": {},
     "output_type": "execute_result"
    }
   ],
   "source": [
    "ndAverage.dtype"
   ]
  },
  {
   "cell_type": "code",
   "execution_count": 15,
   "id": "d7abc609",
   "metadata": {},
   "outputs": [
    {
     "data": {
      "text/plain": [
       "array([[1, 2, 3],\n",
       "       [2, 3, 4]])"
      ]
     },
     "execution_count": 15,
     "metadata": {},
     "output_type": "execute_result"
    }
   ],
   "source": [
    "#建立2維的ndArray\n",
    "l1 = [\n",
    "    [1, 2, 3],\n",
    "    [2, 3, 4]\n",
    "]\n",
    "a = np.array(l1)\n",
    "a"
   ]
  },
  {
   "cell_type": "code",
   "execution_count": 16,
   "id": "e91bfedd",
   "metadata": {},
   "outputs": [
    {
     "data": {
      "text/plain": [
       "2"
      ]
     },
     "execution_count": 16,
     "metadata": {},
     "output_type": "execute_result"
    }
   ],
   "source": [
    "a.ndim"
   ]
  },
  {
   "cell_type": "code",
   "execution_count": 17,
   "id": "eec34698",
   "metadata": {},
   "outputs": [
    {
     "data": {
      "text/plain": [
       "(2, 3)"
      ]
     },
     "execution_count": 17,
     "metadata": {},
     "output_type": "execute_result"
    }
   ],
   "source": [
    "a.shape"
   ]
  },
  {
   "cell_type": "code",
   "execution_count": 18,
   "id": "df6b4c7e",
   "metadata": {},
   "outputs": [
    {
     "data": {
      "text/plain": [
       "6"
      ]
     },
     "execution_count": 18,
     "metadata": {},
     "output_type": "execute_result"
    }
   ],
   "source": [
    "a.size"
   ]
  },
  {
   "cell_type": "code",
   "execution_count": 19,
   "id": "1821d7f6",
   "metadata": {},
   "outputs": [
    {
     "data": {
      "text/plain": [
       "dtype('int64')"
      ]
     },
     "execution_count": 19,
     "metadata": {},
     "output_type": "execute_result"
    }
   ],
   "source": [
    "a.dtype"
   ]
  },
  {
   "cell_type": "code",
   "execution_count": null,
   "id": "0193caf0",
   "metadata": {},
   "outputs": [],
   "source": []
  }
 ],
 "metadata": {
  "kernelspec": {
   "display_name": "Python 3 (ipykernel)",
   "language": "python",
   "name": "python3"
  },
  "language_info": {
   "codemirror_mode": {
    "name": "ipython",
    "version": 3
   },
   "file_extension": ".py",
   "mimetype": "text/x-python",
   "name": "python",
   "nbconvert_exporter": "python",
   "pygments_lexer": "ipython3",
   "version": "3.10.2"
  }
 },
 "nbformat": 4,
 "nbformat_minor": 5
}

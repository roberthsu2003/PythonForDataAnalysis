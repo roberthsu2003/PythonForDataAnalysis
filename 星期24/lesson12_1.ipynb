{
 "cells": [
  {
   "cell_type": "code",
   "execution_count": 5,
   "id": "cdabcc90",
   "metadata": {},
   "outputs": [
    {
     "data": {
      "text/plain": [
       "array([ 72,  60,  80,  79,  64,  91,  67,  73,  75,  96,  66,  85,  93,\n",
       "        67,  88,  61,  96,  98,  91,  83, 100,  79,  84,  60,  72,  93,\n",
       "        94,  86,  96,  67,  98,  63,  86,  84,  92,  82,  68,  82,  64,\n",
       "        76,  68,  81,  97,  93,  85,  98,  66,  84,  81,  76])"
      ]
     },
     "execution_count": 5,
     "metadata": {},
     "output_type": "execute_result"
    }
   ],
   "source": [
    "#由list建立numpy\n",
    "#np.array()\n",
    "\n",
    "\n",
    "import numpy as np\n",
    "import random\n",
    "\n",
    "chinese = [random.randint(60,100) for _ in range(50)]\n",
    "english = [random.randint(60,100) for _ in range(50)]\n",
    "\n",
    "ndChinese = np.array(chinese)\n",
    "ndEnglish = np.array(english)\n"
   ]
  },
  {
   "cell_type": "code",
   "execution_count": 8,
   "id": "0b8e67db",
   "metadata": {},
   "outputs": [
    {
     "data": {
      "text/plain": [
       "array([169, 141, 165, 149, 156, 162, 143, 133, 164, 182, 149, 185, 173,\n",
       "       167, 166, 132, 168, 169, 169, 152, 194, 143, 157, 146, 134, 174,\n",
       "       161, 170, 182, 162, 197, 142, 182, 160, 156, 175, 134, 154, 149,\n",
       "       174, 153, 169, 173, 191, 168, 164, 138, 157, 174, 175])"
      ]
     },
     "execution_count": 8,
     "metadata": {},
     "output_type": "execute_result"
    }
   ],
   "source": [
    "#每個學生的總分\n",
    "ndTotal = ndChinese + ndEnglish\n",
    "ndTotal"
   ]
  },
  {
   "cell_type": "code",
   "execution_count": 9,
   "id": "72fbe621",
   "metadata": {},
   "outputs": [
    {
     "data": {
      "text/plain": [
       "array([84.5, 70.5, 82.5, 74.5, 78. , 81. , 71.5, 66.5, 82. , 91. , 74.5,\n",
       "       92.5, 86.5, 83.5, 83. , 66. , 84. , 84.5, 84.5, 76. , 97. , 71.5,\n",
       "       78.5, 73. , 67. , 87. , 80.5, 85. , 91. , 81. , 98.5, 71. , 91. ,\n",
       "       80. , 78. , 87.5, 67. , 77. , 74.5, 87. , 76.5, 84.5, 86.5, 95.5,\n",
       "       84. , 82. , 69. , 78.5, 87. , 87.5])"
      ]
     },
     "execution_count": 9,
     "metadata": {},
     "output_type": "execute_result"
    }
   ],
   "source": [
    "#每個學生的平均\n",
    "#一維陣列\n",
    "ndAverage = ndTotal / 2\n",
    "ndAverage"
   ]
  },
  {
   "cell_type": "code",
   "execution_count": null,
   "id": "236debb0",
   "metadata": {},
   "outputs": [],
   "source": []
  }
 ],
 "metadata": {
  "kernelspec": {
   "display_name": "Python 3 (ipykernel)",
   "language": "python",
   "name": "python3"
  },
  "language_info": {
   "codemirror_mode": {
    "name": "ipython",
    "version": 3
   },
   "file_extension": ".py",
   "mimetype": "text/x-python",
   "name": "python",
   "nbconvert_exporter": "python",
   "pygments_lexer": "ipython3",
   "version": "3.10.2"
  }
 },
 "nbformat": 4,
 "nbformat_minor": 5
}

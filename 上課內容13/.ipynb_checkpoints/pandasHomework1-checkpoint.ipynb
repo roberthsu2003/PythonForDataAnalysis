{
 "cells": [
  {
   "cell_type": "code",
   "execution_count": 7,
   "metadata": {},
   "outputs": [
    {
     "data": {
      "text/plain": [
       "工廠編號\n",
       "99611344             鴻輝食品廠\n",
       "99604192       廣達香食品股份有限公司\n",
       "99613990             順發糧食行\n",
       "99600477      台灣塩野香料股份有限公司\n",
       "99606467      圓金釀造食品股份有限公司\n",
       "                 ...      \n",
       "65007117    元茂農產企業股份有限公司二廠\n",
       "65007172         萬寶客股份有限公司\n",
       "65007211          昆帝食品有限公司\n",
       "65007246       嚐鱻食品有限公司板橋廠\n",
       "65007247          崴欣國際有限公司\n",
       "Name: 工廠編號清冊, Length: 1232, dtype: object"
      ]
     },
     "execution_count": 7,
     "metadata": {},
     "output_type": "execute_result"
    }
   ],
   "source": [
    "import csv\n",
    "import pandas as pd\n",
    "with open('新北市食品工廠清冊.csv','r',encoding='utf-8') as file:\n",
    "    next(file)\n",
    "    rows = csv.reader(file)    \n",
    "    dict = {row[1]:row[0] for row in rows}\n",
    "stores = pd.Series(dict)\n",
    "stores.name='工廠編號清冊'\n",
    "stores.index.name='工廠編號'\n",
    "stores"
   ]
  },
  {
   "cell_type": "code",
   "execution_count": 10,
   "metadata": {},
   "outputs": [
    {
     "data": {
      "text/plain": [
       "工廠編號\n",
       "01000070           小潘蛋糕坊\n",
       "01000084    國鼎生物科技股份有限公司\n",
       "01000112        大新食品有限公司\n",
       "01000119        佑善生技有限公司\n",
       "01000129        松村實業有限公司\n",
       "                ...     \n",
       "T6500641         普光傳統豆腐店\n",
       "T6500647           山井食品行\n",
       "T6500656           柏源盛商行\n",
       "T6500666         名品客家美食行\n",
       "T6500672        台品興業有限公司\n",
       "Name: 工廠編號清冊, Length: 1232, dtype: object"
      ]
     },
     "execution_count": 10,
     "metadata": {},
     "output_type": "execute_result"
    }
   ],
   "source": [
    "#實體方法\n",
    "stores.sort_index(ascending=True)"
   ]
  },
  {
   "cell_type": "code",
   "execution_count": 12,
   "metadata": {},
   "outputs": [
    {
     "data": {
      "text/plain": [
       "工廠編號\n",
       "01000070           小潘蛋糕坊\n",
       "01000084    國鼎生物科技股份有限公司\n",
       "01000112        大新食品有限公司\n",
       "01000119        佑善生技有限公司\n",
       "01000129        松村實業有限公司\n",
       "                ...     \n",
       "T6500641         普光傳統豆腐店\n",
       "T6500647           山井食品行\n",
       "T6500656           柏源盛商行\n",
       "T6500666         名品客家美食行\n",
       "T6500672        台品興業有限公司\n",
       "Name: 工廠編號清冊, Length: 1232, dtype: object"
      ]
     },
     "execution_count": 12,
     "metadata": {},
     "output_type": "execute_result"
    }
   ],
   "source": [
    "#Series.sort_index(series物件)\n",
    "stores = pd.Series.sort_index(stores)\n",
    "stores"
   ]
  },
  {
   "cell_type": "code",
   "execution_count": 14,
   "metadata": {},
   "outputs": [
    {
     "data": {
      "text/plain": [
       "工廠編號\n",
       "01000070           小潘蛋糕坊\n",
       "01000084    國鼎生物科技股份有限公司\n",
       "01000112        大新食品有限公司\n",
       "01000119        佑善生技有限公司\n",
       "01000129        松村實業有限公司\n",
       "01000181     滿盈食品有限公司五股廠\n",
       "01000202       威斯登食品有限公司\n",
       "01000203       金軒揚食品有限公司\n",
       "01000231    承恩食品企業股份有限公司\n",
       "01000235         耕耘川有限公司\n",
       "01000241           洪記食品行\n",
       "01000260       小南門食品有限公司\n",
       "Name: 工廠編號清冊, dtype: object"
      ]
     },
     "execution_count": 14,
     "metadata": {},
     "output_type": "execute_result"
    }
   ],
   "source": [
    "stores['01000070':'01001000']"
   ]
  },
  {
   "cell_type": "code",
   "execution_count": null,
   "metadata": {},
   "outputs": [],
   "source": []
  }
 ],
 "metadata": {
  "kernelspec": {
   "display_name": "Python 3",
   "language": "python",
   "name": "python3"
  },
  "language_info": {
   "codemirror_mode": {
    "name": "ipython",
    "version": 3
   },
   "file_extension": ".py",
   "mimetype": "text/x-python",
   "name": "python",
   "nbconvert_exporter": "python",
   "pygments_lexer": "ipython3",
   "version": "3.7.4"
  }
 },
 "nbformat": 4,
 "nbformat_minor": 2
}

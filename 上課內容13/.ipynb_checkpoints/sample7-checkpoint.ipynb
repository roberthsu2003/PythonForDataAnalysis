{
 "cells": [
  {
   "cell_type": "code",
   "execution_count": 1,
   "metadata": {},
   "outputs": [
    {
     "name": "stdout",
     "output_type": "stream",
     "text": [
      "整數,輸入q離開:1\n",
      "1 平方是: 1\n",
      "整數,輸入q離開:2\n",
      "整數,輸入q離開:3\n",
      "3 平方是: 9\n",
      "整數,輸入q離開:4\n",
      "整數,輸入q離開:q\n"
     ]
    }
   ],
   "source": [
    "while True:\n",
    "    value  = input('整數,輸入q離開:')\n",
    "    if value == 'q':\n",
    "        break\n",
    "    number = int(value)\n",
    "    if number % 2 == 0:\n",
    "        continue\n",
    "    print(number, \"平方是:\", number ** 2)"
   ]
  },
  {
   "cell_type": "code",
   "execution_count": null,
   "metadata": {},
   "outputs": [],
   "source": [
    "import random\n",
    "\n",
    "target = random.randint(1,100)\n",
    "最小值 = 1\n",
    "最大值 = 100\n",
    "count = 0\n",
    "\n",
    "print(\"==============猜數字遊戲===================\")\n",
    "while(True):\n",
    "    count += 1\n",
    "    keyin = int(input(\"猜數字範圍{0}~{1}:\".format(最小值,最大值)))\n",
    "    print(\"您猜了\",count,\"次\")\n",
    "    if(keyin >= 最小值 and keyin <= 最大值):\n",
    "        if(keyin == target):\n",
    "            print(\"賓果!猜對了,答案是:\", target)\n",
    "            print(\"您猜了\",count,\"次\")\n",
    "            break;\n",
    "        elif(keyin > target):\n",
    "            最大值 = keyin\n",
    "            print(\"再小一點\")\n",
    "        elif(keyin < target):\n",
    "            最小值 = keyin\n",
    "            print(\"再大一點\")        \n",
    "        \n",
    "        \n",
    "    else:\n",
    "        print('請輸入提示範圍內的數字')\n",
    "    \n",
    "print(\"程式結束\")"
   ]
  },
  {
   "cell_type": "code",
   "execution_count": 5,
   "metadata": {},
   "outputs": [
    {
     "name": "stdout",
     "output_type": "stream",
     "text": [
      "發現偶數 2\n"
     ]
    }
   ],
   "source": [
    "numbers = [2, 4, 7]\n",
    "position = 0\n",
    "while position < len(numbers):\n",
    "    number = numbers[position] \n",
    "    if number%2==0:\n",
    "        print('發現偶數', number)\n",
    "        break\n",
    "    position += 1\n",
    "else: # 沒有執行break\n",
    "    print('沒有偶數')"
   ]
  },
  {
   "cell_type": "code",
   "execution_count": 7,
   "metadata": {},
   "outputs": [
    {
     "name": "stdout",
     "output_type": "stream",
     "text": [
      "c\n",
      "<class 'str'>\n",
      "a\n",
      "<class 'str'>\n",
      "t\n",
      "<class 'str'>\n"
     ]
    }
   ],
   "source": [
    "#for in 迴圈\n",
    "word = \"cat\"\n",
    "for letter in word:\n",
    "    print(letter)\n",
    "    print(type(letter))\n"
   ]
  },
  {
   "cell_type": "code",
   "execution_count": 8,
   "metadata": {},
   "outputs": [
    {
     "name": "stdout",
     "output_type": "stream",
     "text": [
      "Flopsy\n",
      "Mopsy\n",
      "Cottontail\n",
      "Peter\n"
     ]
    }
   ],
   "source": [
    "rabbits = ['Flopsy', 'Mopsy', 'Cottontail', 'Peter']\n",
    "current = 0\n",
    "while current < 4:\n",
    "    print(rabbits[current])\n",
    "    current += 1\n"
   ]
  },
  {
   "cell_type": "code",
   "execution_count": 11,
   "metadata": {},
   "outputs": [
    {
     "name": "stdout",
     "output_type": "stream",
     "text": [
      "1\n",
      "2\n",
      "3\n"
     ]
    }
   ],
   "source": [
    "rabbits = [1, 2, 3]\n",
    "for rabbit in rabbits:\n",
    "    print(rabbit)"
   ]
  },
  {
   "cell_type": "code",
   "execution_count": 18,
   "metadata": {},
   "outputs": [
    {
     "name": "stdout",
     "output_type": "stream",
     "text": [
      "room\n",
      "weapon\n",
      "person\n"
     ]
    }
   ],
   "source": [
    "accusation = {'room':'ballroom',\n",
    "              'weapon':'lead pipe',\n",
    "              'person': 'Col. Mustard'}\n",
    "for card in accusation.keys():\n",
    "    print(card)"
   ]
  },
  {
   "cell_type": "code",
   "execution_count": 15,
   "metadata": {},
   "outputs": [
    {
     "name": "stdout",
     "output_type": "stream",
     "text": [
      "ballroom\n",
      "lead pipe\n",
      "Col. Mustard\n"
     ]
    }
   ],
   "source": [
    "for value in accusation.values():\n",
    "    print(value)"
   ]
  },
  {
   "cell_type": "code",
   "execution_count": 17,
   "metadata": {},
   "outputs": [
    {
     "name": "stdout",
     "output_type": "stream",
     "text": [
      "key: room value: ballroom\n",
      "key: weapon value: lead pipe\n",
      "key: person value: Col. Mustard\n"
     ]
    }
   ],
   "source": [
    "for key,value in accusation.items():\n",
    "    print(\"key:\",key, \"value:\",value)"
   ]
  },
  {
   "cell_type": "code",
   "execution_count": 20,
   "metadata": {},
   "outputs": [
    {
     "name": "stdout",
     "output_type": "stream",
     "text": [
      "0\n",
      "1\n",
      "2\n"
     ]
    }
   ],
   "source": [
    "for x in range(0,3):\n",
    "    print(x)\n"
   ]
  },
  {
   "cell_type": "code",
   "execution_count": 21,
   "metadata": {},
   "outputs": [
    {
     "name": "stdout",
     "output_type": "stream",
     "text": [
      "請輸入第1位學生的成績89\n",
      "請輸入第2位學生的成績89\n",
      "請輸入第3位學生的成績89\n",
      "請輸入第4位學生的成績89\n",
      "請輸入第5位學生的成績89\n",
      "全班總成績為: 89 分,平均分數為 89.0 分\n"
     ]
    }
   ],
   "source": [
    "sum = 0\n",
    "students = 5\n",
    "for i in range(students):\n",
    "    #studentScore = int(input('請輸入第' + str(i+1) + '位學生的成績'))\n",
    "    studentScore = int(input('請輸入第{}位學生的成績'.format(i+1)))\n",
    "    sum += studentScore;\n",
    "\n",
    "print('全班總成績為:',sum,\"分,平均分數為\",sum/students,\"分\")"
   ]
  },
  {
   "cell_type": "code",
   "execution_count": 22,
   "metadata": {},
   "outputs": [
    {
     "name": "stdout",
     "output_type": "stream",
     "text": [
      "4\n",
      "5\n",
      "6\n",
      "7\n",
      "離開後i為 7\n"
     ]
    }
   ],
   "source": [
    "for i in range(4,8):\n",
    "    print(i)\n",
    "print(\"離開後i為\",i)"
   ]
  },
  {
   "cell_type": "code",
   "execution_count": 23,
   "metadata": {},
   "outputs": [
    {
     "name": "stdout",
     "output_type": "stream",
     "text": [
      "2\n",
      "1\n",
      "0\n"
     ]
    }
   ],
   "source": [
    "for x in range(2,-1, -1):\n",
    "    print(x)"
   ]
  },
  {
   "cell_type": "code",
   "execution_count": 24,
   "metadata": {},
   "outputs": [
    {
     "name": "stdout",
     "output_type": "stream",
     "text": [
      "1 * 1 = 1\t1 * 2 = 2\t1 * 3 = 3\t1 * 4 = 4\t1 * 5 = 5\t1 * 6 = 6\t1 * 7 = 7\t1 * 8 = 8\t1 * 9 = 9\t\n",
      "2 * 1 = 2\t2 * 2 = 4\t2 * 3 = 6\t2 * 4 = 8\t2 * 5 = 10\t2 * 6 = 12\t2 * 7 = 14\t2 * 8 = 16\t2 * 9 = 18\t\n",
      "3 * 1 = 3\t3 * 2 = 6\t3 * 3 = 9\t3 * 4 = 12\t3 * 5 = 15\t3 * 6 = 18\t3 * 7 = 21\t3 * 8 = 24\t3 * 9 = 27\t\n",
      "4 * 1 = 4\t4 * 2 = 8\t4 * 3 = 12\t4 * 4 = 16\t4 * 5 = 20\t4 * 6 = 24\t4 * 7 = 28\t4 * 8 = 32\t4 * 9 = 36\t\n",
      "5 * 1 = 5\t5 * 2 = 10\t5 * 3 = 15\t5 * 4 = 20\t5 * 5 = 25\t5 * 6 = 30\t5 * 7 = 35\t5 * 8 = 40\t5 * 9 = 45\t\n",
      "6 * 1 = 6\t6 * 2 = 12\t6 * 3 = 18\t6 * 4 = 24\t6 * 5 = 30\t6 * 6 = 36\t6 * 7 = 42\t6 * 8 = 48\t6 * 9 = 54\t\n",
      "7 * 1 = 7\t7 * 2 = 14\t7 * 3 = 21\t7 * 4 = 28\t7 * 5 = 35\t7 * 6 = 42\t7 * 7 = 49\t7 * 8 = 56\t7 * 9 = 63\t\n",
      "8 * 1 = 8\t8 * 2 = 16\t8 * 3 = 24\t8 * 4 = 32\t8 * 5 = 40\t8 * 6 = 48\t8 * 7 = 56\t8 * 8 = 64\t8 * 9 = 72\t\n",
      "9 * 1 = 9\t9 * 2 = 18\t9 * 3 = 27\t9 * 4 = 36\t9 * 5 = 45\t9 * 6 = 54\t9 * 7 = 63\t9 * 8 = 72\t9 * 9 = 81\t\n"
     ]
    }
   ],
   "source": [
    "#9*9\n",
    "for i in range(1,10):\n",
    "    for j in range(1,10):\n",
    "        print(i,\"*\",j,\"=\",i*j,end='  ')\n",
    "    print()\n"
   ]
  },
  {
   "cell_type": "code",
   "execution_count": null,
   "metadata": {},
   "outputs": [],
   "source": []
  }
 ],
 "metadata": {
  "kernelspec": {
   "display_name": "Python 3",
   "language": "python",
   "name": "python3"
  },
  "language_info": {
   "codemirror_mode": {
    "name": "ipython",
    "version": 3
   },
   "file_extension": ".py",
   "mimetype": "text/x-python",
   "name": "python",
   "nbconvert_exporter": "python",
   "pygments_lexer": "ipython3",
   "version": "3.7.4"
  }
 },
 "nbformat": 4,
 "nbformat_minor": 2
}

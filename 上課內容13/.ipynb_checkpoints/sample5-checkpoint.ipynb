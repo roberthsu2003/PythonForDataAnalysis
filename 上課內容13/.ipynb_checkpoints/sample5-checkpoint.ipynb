{
 "cells": [
  {
   "cell_type": "code",
   "execution_count": 3,
   "metadata": {},
   "outputs": [
    {
     "name": "stdout",
     "output_type": "stream",
     "text": [
      "大於12\n"
     ]
    }
   ],
   "source": [
    "a = 16\n",
    "if a > 18:\n",
    "    print('大於18')\n",
    "elif a > 12:\n",
    "    print('大於12')\n",
    "else:\n",
    "    print('小於12')"
   ]
  },
  {
   "cell_type": "code",
   "execution_count": 7,
   "metadata": {},
   "outputs": [
    {
     "name": "stdout",
     "output_type": "stream",
     "text": [
      "請輸入購買金額:57000\n",
      "實付金額是: 48450.0\n"
     ]
    }
   ],
   "source": [
    "#!usr/bin/python3\n",
    "\n",
    "'''\n",
    "輸入顧客購買金額，若金額在\n",
    "100000元打8折\n",
    "50000打85折\n",
    "30000打9折\n",
    "10000打95折\n",
    "'''\n",
    "money = int(input(\"請輸入購買金額:\"))\n",
    "\n",
    "if money>=100000:\n",
    "    payMoney = money * 0.8\n",
    "elif money>=50000:\n",
    "    payMoney = money * 0.85\n",
    "elif money>=30000:\n",
    "    payMoney = money * 0.9\n",
    "elif money>=10000:\n",
    "    payMoney = money * 0.95\n",
    "else:\n",
    "    payMoney = money\n",
    "\n",
    "print('實付金額是:',payMoney)"
   ]
  },
  {
   "cell_type": "code",
   "execution_count": 8,
   "metadata": {},
   "outputs": [
    {
     "name": "stdout",
     "output_type": "stream",
     "text": [
      "ok-1\n"
     ]
    }
   ],
   "source": [
    "a = 14\n",
    "if a>=12 and a<18:\n",
    "    print(\"ok-1\")\n",
    "elif a>= 12:\n",
    "    print(\"ok-2\")    \n",
    "elif a<18:\n",
    "    print(\"ok-2\")\n",
    "else:\n",
    "    print(\"not ok\")\n"
   ]
  },
  {
   "cell_type": "code",
   "execution_count": 9,
   "metadata": {},
   "outputs": [
    {
     "name": "stdout",
     "output_type": "stream",
     "text": [
      "1\n",
      "3\n"
     ]
    }
   ],
   "source": [
    "a=14\n",
    "if a>=12 and a<18:\n",
    "    print(\"1\") \n",
    "else:\n",
    "    print(\"2\")\n",
    "\n",
    "if 12<=a<18:\n",
    "    print(\"3\")\n",
    "else:\n",
    "    print(\"4\")"
   ]
  },
  {
   "cell_type": "code",
   "execution_count": 11,
   "metadata": {},
   "outputs": [
    {
     "name": "stdout",
     "output_type": "stream",
     "text": [
      "請輸入身高,單位為(公分):180\n",
      "請輸入體重,單位為(公斤):90\n",
      "您的BMI是: 27.777777777777775\n",
      "您的體重是: 正常\n"
     ]
    }
   ],
   "source": [
    "#請依據 BMI 值分析他人的身體狀況。\n",
    "height = float(input('請輸入身高,單位為(公分):'))\n",
    "weight = float(input('請輸入體重,單位為(公斤):'))\n",
    "bmi = weight / ((height/100) ** 2)\n",
    "if bmi < 18.5:\n",
    "    state = '太輕'\n",
    "elif bmi < 25:\n",
    "    state = '正常'\n",
    "elif bmi <= 30:\n",
    "    state = '正常'\n",
    "else:\n",
    "    state = '肥胖'\n",
    "\n",
    "print(\"您的BMI是:\",bmi)\n",
    "print(\"您的體重是:\",state)"
   ]
  },
  {
   "cell_type": "code",
   "execution_count": null,
   "metadata": {},
   "outputs": [],
   "source": []
  }
 ],
 "metadata": {
  "kernelspec": {
   "display_name": "Python 3",
   "language": "python",
   "name": "python3"
  },
  "language_info": {
   "codemirror_mode": {
    "name": "ipython",
    "version": 3
   },
   "file_extension": ".py",
   "mimetype": "text/x-python",
   "name": "python",
   "nbconvert_exporter": "python",
   "pygments_lexer": "ipython3",
   "version": "3.7.4"
  }
 },
 "nbformat": 4,
 "nbformat_minor": 2
}

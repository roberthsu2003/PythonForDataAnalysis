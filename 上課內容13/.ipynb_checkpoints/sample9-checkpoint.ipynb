{
 "cells": [
  {
   "cell_type": "code",
   "execution_count": 3,
   "metadata": {},
   "outputs": [
    {
     "name": "stdout",
     "output_type": "stream",
     "text": [
      "沒有這個字串 not\n"
     ]
    }
   ],
   "source": [
    "str1 = \"This is Python Tutorial, there\"\n",
    "search1 = \"Python\"\n",
    "str1.find(search1)\n",
    "search2 = \"not\"\n",
    "if str1.find(search2) != -1:\n",
    "    print(\"有這個字串\",search2)\n",
    "else:\n",
    "    print(\"沒有這個字串\",search2)"
   ]
  },
  {
   "cell_type": "code",
   "execution_count": 9,
   "metadata": {},
   "outputs": [
    {
     "name": "stdout",
     "output_type": "stream",
     "text": [
      "['python', 'java', 'c++', 'ruby']\n"
     ]
    }
   ],
   "source": [
    "str4 = \"python-java-c++-ruby\" \n",
    "list1 = str4.split('-')\n",
    "print(list1)"
   ]
  },
  {
   "cell_type": "code",
   "execution_count": 10,
   "metadata": {},
   "outputs": [
    {
     "data": {
      "text/plain": [
       "'python:java:c++:ruby'"
      ]
     },
     "execution_count": 10,
     "metadata": {},
     "output_type": "execute_result"
    }
   ],
   "source": [
    "\":\".join(list1)"
   ]
  },
  {
   "cell_type": "code",
   "execution_count": 8,
   "metadata": {},
   "outputs": [
    {
     "data": {
      "text/plain": [
       "'P-y-t-h-o-n'"
      ]
     },
     "execution_count": 8,
     "metadata": {},
     "output_type": "execute_result"
    }
   ],
   "source": [
    "\"-\".join(\"Python\")"
   ]
  },
  {
   "cell_type": "code",
   "execution_count": 11,
   "metadata": {},
   "outputs": [
    {
     "data": {
      "text/plain": [
       "'a duck goes into a bar'"
      ]
     },
     "execution_count": 11,
     "metadata": {},
     "output_type": "execute_result"
    }
   ],
   "source": [
    "setup = 'a duck goes into a bar...'\n",
    "setup.strip('.')"
   ]
  },
  {
   "cell_type": "code",
   "execution_count": 12,
   "metadata": {},
   "outputs": [
    {
     "data": {
      "text/plain": [
       "'Microsoft'"
      ]
     },
     "execution_count": 12,
     "metadata": {},
     "output_type": "execute_result"
    }
   ],
   "source": [
    "setup = \"   Microsoft    \"\n",
    "setup.strip()"
   ]
  },
  {
   "cell_type": "code",
   "execution_count": 16,
   "metadata": {},
   "outputs": [
    {
     "name": "stdout",
     "output_type": "stream",
     "text": [
      "比對有這個字串\n",
      "字串是 a123456789\n"
     ]
    }
   ],
   "source": [
    "import re\n",
    "strTest = \"hello a123456789 python\"\n",
    "mabj = re.search(r'[a-zA-Z]\\d{9}', strTest , re.I)\n",
    "if mabj:\n",
    "    print(\"比對有這個字串\")\n",
    "    print('字串是',mabj.group())\n",
    "else:\n",
    "    print(\"沒有比對成功\")"
   ]
  },
  {
   "cell_type": "code",
   "execution_count": 18,
   "metadata": {},
   "outputs": [
    {
     "name": "stdout",
     "output_type": "stream",
     "text": [
      "請輸入身份證字號:a123456789\n",
      "a123456789 正確\n"
     ]
    }
   ],
   "source": [
    "import re\n",
    "taiwanId = input('請輸入身份證字號:')\n",
    "mobj = re.match(r'^[A-Z]\\d{9}$',taiwanId, re.I)\n",
    "if (mobj):\n",
    "    print(taiwanId, \"正確\")\n",
    "else:\n",
    "    print(taiwanId, \"有誤\")"
   ]
  },
  {
   "cell_type": "code",
   "execution_count": null,
   "metadata": {},
   "outputs": [],
   "source": [
    "import re\n",
    "emails = input('請輸入多筆email:')\n",
    "getEmails = re.findall(r'\\w+[.|\\w]\\w+@\\w+[.]\\w+[.|\\w+]\\w+',emails)\n",
    "print('取出的email有:')\n",
    "for email in getEmails:\n",
    "    print(email)"
   ]
  }
 ],
 "metadata": {
  "kernelspec": {
   "display_name": "Python 3",
   "language": "python",
   "name": "python3"
  },
  "language_info": {
   "codemirror_mode": {
    "name": "ipython",
    "version": 3
   },
   "file_extension": ".py",
   "mimetype": "text/x-python",
   "name": "python",
   "nbconvert_exporter": "python",
   "pygments_lexer": "ipython3",
   "version": "3.7.4"
  }
 },
 "nbformat": 4,
 "nbformat_minor": 2
}

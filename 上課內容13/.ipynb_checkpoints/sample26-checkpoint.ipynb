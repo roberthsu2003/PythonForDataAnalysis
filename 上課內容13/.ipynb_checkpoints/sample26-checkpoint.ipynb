{
 "cells": [
  {
   "cell_type": "code",
   "execution_count": 1,
   "metadata": {},
   "outputs": [
    {
     "name": "stdout",
     "output_type": "stream",
     "text": [
      "a,b,c,d,message\r\n",
      "1,2,3,4,hello\r\n",
      "5,6,7,8,world\r\n",
      "9,10,11,12,foo"
     ]
    }
   ],
   "source": [
    "import numpy as np\n",
    "import pandas as pd\n",
    "\n",
    "!cat ex1.csv # !type ex1.csv\n"
   ]
  },
  {
   "cell_type": "code",
   "execution_count": 2,
   "metadata": {},
   "outputs": [
    {
     "data": {
      "text/html": [
       "<div>\n",
       "<style scoped>\n",
       "    .dataframe tbody tr th:only-of-type {\n",
       "        vertical-align: middle;\n",
       "    }\n",
       "\n",
       "    .dataframe tbody tr th {\n",
       "        vertical-align: top;\n",
       "    }\n",
       "\n",
       "    .dataframe thead th {\n",
       "        text-align: right;\n",
       "    }\n",
       "</style>\n",
       "<table border=\"1\" class=\"dataframe\">\n",
       "  <thead>\n",
       "    <tr style=\"text-align: right;\">\n",
       "      <th></th>\n",
       "      <th>a</th>\n",
       "      <th>b</th>\n",
       "      <th>c</th>\n",
       "      <th>d</th>\n",
       "      <th>message</th>\n",
       "    </tr>\n",
       "  </thead>\n",
       "  <tbody>\n",
       "    <tr>\n",
       "      <td>0</td>\n",
       "      <td>1</td>\n",
       "      <td>2</td>\n",
       "      <td>3</td>\n",
       "      <td>4</td>\n",
       "      <td>hello</td>\n",
       "    </tr>\n",
       "    <tr>\n",
       "      <td>1</td>\n",
       "      <td>5</td>\n",
       "      <td>6</td>\n",
       "      <td>7</td>\n",
       "      <td>8</td>\n",
       "      <td>world</td>\n",
       "    </tr>\n",
       "    <tr>\n",
       "      <td>2</td>\n",
       "      <td>9</td>\n",
       "      <td>10</td>\n",
       "      <td>11</td>\n",
       "      <td>12</td>\n",
       "      <td>foo</td>\n",
       "    </tr>\n",
       "  </tbody>\n",
       "</table>\n",
       "</div>"
      ],
      "text/plain": [
       "   a   b   c   d message\n",
       "0  1   2   3   4   hello\n",
       "1  5   6   7   8   world\n",
       "2  9  10  11  12     foo"
      ]
     },
     "execution_count": 2,
     "metadata": {},
     "output_type": "execute_result"
    }
   ],
   "source": [
    "dataFrame = pd.read_csv('ex1.csv')\n",
    "dataFrame"
   ]
  },
  {
   "cell_type": "code",
   "execution_count": 3,
   "metadata": {},
   "outputs": [
    {
     "data": {
      "text/html": [
       "<div>\n",
       "<style scoped>\n",
       "    .dataframe tbody tr th:only-of-type {\n",
       "        vertical-align: middle;\n",
       "    }\n",
       "\n",
       "    .dataframe tbody tr th {\n",
       "        vertical-align: top;\n",
       "    }\n",
       "\n",
       "    .dataframe thead th {\n",
       "        text-align: right;\n",
       "    }\n",
       "</style>\n",
       "<table border=\"1\" class=\"dataframe\">\n",
       "  <thead>\n",
       "    <tr style=\"text-align: right;\">\n",
       "      <th></th>\n",
       "      <th>a</th>\n",
       "      <th>b</th>\n",
       "      <th>c</th>\n",
       "      <th>d</th>\n",
       "      <th>message</th>\n",
       "    </tr>\n",
       "  </thead>\n",
       "  <tbody>\n",
       "    <tr>\n",
       "      <td>0</td>\n",
       "      <td>1</td>\n",
       "      <td>2</td>\n",
       "      <td>3</td>\n",
       "      <td>4</td>\n",
       "      <td>hello</td>\n",
       "    </tr>\n",
       "    <tr>\n",
       "      <td>1</td>\n",
       "      <td>5</td>\n",
       "      <td>6</td>\n",
       "      <td>7</td>\n",
       "      <td>8</td>\n",
       "      <td>world</td>\n",
       "    </tr>\n",
       "    <tr>\n",
       "      <td>2</td>\n",
       "      <td>9</td>\n",
       "      <td>10</td>\n",
       "      <td>11</td>\n",
       "      <td>12</td>\n",
       "      <td>foo</td>\n",
       "    </tr>\n",
       "  </tbody>\n",
       "</table>\n",
       "</div>"
      ],
      "text/plain": [
       "   a   b   c   d message\n",
       "0  1   2   3   4   hello\n",
       "1  5   6   7   8   world\n",
       "2  9  10  11  12     foo"
      ]
     },
     "execution_count": 3,
     "metadata": {},
     "output_type": "execute_result"
    }
   ],
   "source": [
    "pd.read_table('ex1.csv', sep=',')"
   ]
  },
  {
   "cell_type": "code",
   "execution_count": 4,
   "metadata": {},
   "outputs": [
    {
     "name": "stdout",
     "output_type": "stream",
     "text": [
      "1,2,3,4,hello\r\n",
      "5,6,7,8,world\r\n",
      "9,10,11,12,foo"
     ]
    }
   ],
   "source": [
    "!cat ex2.csv"
   ]
  },
  {
   "cell_type": "code",
   "execution_count": 5,
   "metadata": {},
   "outputs": [
    {
     "data": {
      "text/html": [
       "<div>\n",
       "<style scoped>\n",
       "    .dataframe tbody tr th:only-of-type {\n",
       "        vertical-align: middle;\n",
       "    }\n",
       "\n",
       "    .dataframe tbody tr th {\n",
       "        vertical-align: top;\n",
       "    }\n",
       "\n",
       "    .dataframe thead th {\n",
       "        text-align: right;\n",
       "    }\n",
       "</style>\n",
       "<table border=\"1\" class=\"dataframe\">\n",
       "  <thead>\n",
       "    <tr style=\"text-align: right;\">\n",
       "      <th></th>\n",
       "      <th>0</th>\n",
       "      <th>1</th>\n",
       "      <th>2</th>\n",
       "      <th>3</th>\n",
       "      <th>4</th>\n",
       "    </tr>\n",
       "  </thead>\n",
       "  <tbody>\n",
       "    <tr>\n",
       "      <td>0</td>\n",
       "      <td>1</td>\n",
       "      <td>2</td>\n",
       "      <td>3</td>\n",
       "      <td>4</td>\n",
       "      <td>hello</td>\n",
       "    </tr>\n",
       "    <tr>\n",
       "      <td>1</td>\n",
       "      <td>5</td>\n",
       "      <td>6</td>\n",
       "      <td>7</td>\n",
       "      <td>8</td>\n",
       "      <td>world</td>\n",
       "    </tr>\n",
       "    <tr>\n",
       "      <td>2</td>\n",
       "      <td>9</td>\n",
       "      <td>10</td>\n",
       "      <td>11</td>\n",
       "      <td>12</td>\n",
       "      <td>foo</td>\n",
       "    </tr>\n",
       "  </tbody>\n",
       "</table>\n",
       "</div>"
      ],
      "text/plain": [
       "   0   1   2   3      4\n",
       "0  1   2   3   4  hello\n",
       "1  5   6   7   8  world\n",
       "2  9  10  11  12    foo"
      ]
     },
     "execution_count": 5,
     "metadata": {},
     "output_type": "execute_result"
    }
   ],
   "source": [
    "pd.read_csv('ex2.csv', header=None)"
   ]
  },
  {
   "cell_type": "code",
   "execution_count": 6,
   "metadata": {},
   "outputs": [
    {
     "data": {
      "text/html": [
       "<div>\n",
       "<style scoped>\n",
       "    .dataframe tbody tr th:only-of-type {\n",
       "        vertical-align: middle;\n",
       "    }\n",
       "\n",
       "    .dataframe tbody tr th {\n",
       "        vertical-align: top;\n",
       "    }\n",
       "\n",
       "    .dataframe thead th {\n",
       "        text-align: right;\n",
       "    }\n",
       "</style>\n",
       "<table border=\"1\" class=\"dataframe\">\n",
       "  <thead>\n",
       "    <tr style=\"text-align: right;\">\n",
       "      <th></th>\n",
       "      <th>a</th>\n",
       "      <th>b</th>\n",
       "      <th>c</th>\n",
       "      <th>d</th>\n",
       "      <th>message</th>\n",
       "    </tr>\n",
       "  </thead>\n",
       "  <tbody>\n",
       "    <tr>\n",
       "      <td>0</td>\n",
       "      <td>1</td>\n",
       "      <td>2</td>\n",
       "      <td>3</td>\n",
       "      <td>4</td>\n",
       "      <td>hello</td>\n",
       "    </tr>\n",
       "    <tr>\n",
       "      <td>1</td>\n",
       "      <td>5</td>\n",
       "      <td>6</td>\n",
       "      <td>7</td>\n",
       "      <td>8</td>\n",
       "      <td>world</td>\n",
       "    </tr>\n",
       "    <tr>\n",
       "      <td>2</td>\n",
       "      <td>9</td>\n",
       "      <td>10</td>\n",
       "      <td>11</td>\n",
       "      <td>12</td>\n",
       "      <td>foo</td>\n",
       "    </tr>\n",
       "  </tbody>\n",
       "</table>\n",
       "</div>"
      ],
      "text/plain": [
       "   a   b   c   d message\n",
       "0  1   2   3   4   hello\n",
       "1  5   6   7   8   world\n",
       "2  9  10  11  12     foo"
      ]
     },
     "execution_count": 6,
     "metadata": {},
     "output_type": "execute_result"
    }
   ],
   "source": [
    "pd.read_csv('ex2.csv', names=['a', 'b', 'c', 'd', 'message'])"
   ]
  },
  {
   "cell_type": "code",
   "execution_count": 8,
   "metadata": {},
   "outputs": [
    {
     "data": {
      "text/html": [
       "<div>\n",
       "<style scoped>\n",
       "    .dataframe tbody tr th:only-of-type {\n",
       "        vertical-align: middle;\n",
       "    }\n",
       "\n",
       "    .dataframe tbody tr th {\n",
       "        vertical-align: top;\n",
       "    }\n",
       "\n",
       "    .dataframe thead th {\n",
       "        text-align: right;\n",
       "    }\n",
       "</style>\n",
       "<table border=\"1\" class=\"dataframe\">\n",
       "  <thead>\n",
       "    <tr style=\"text-align: right;\">\n",
       "      <th></th>\n",
       "      <th>證券代號</th>\n",
       "      <th>證券名稱</th>\n",
       "      <th>成交金額</th>\n",
       "      <th>收盤價</th>\n",
       "      <th>成交筆數</th>\n",
       "    </tr>\n",
       "  </thead>\n",
       "  <tbody>\n",
       "    <tr>\n",
       "      <td>0</td>\n",
       "      <td>0050</td>\n",
       "      <td>元大台灣50</td>\n",
       "      <td>3,463,425,684</td>\n",
       "      <td>72.80</td>\n",
       "      <td>23,021</td>\n",
       "    </tr>\n",
       "    <tr>\n",
       "      <td>1</td>\n",
       "      <td>0051</td>\n",
       "      <td>元大中型100</td>\n",
       "      <td>1,177,199</td>\n",
       "      <td>26.75</td>\n",
       "      <td>45</td>\n",
       "    </tr>\n",
       "    <tr>\n",
       "      <td>2</td>\n",
       "      <td>0052</td>\n",
       "      <td>富邦科技</td>\n",
       "      <td>9,156,750</td>\n",
       "      <td>55.35</td>\n",
       "      <td>67</td>\n",
       "    </tr>\n",
       "    <tr>\n",
       "      <td>3</td>\n",
       "      <td>0053</td>\n",
       "      <td>元大電子</td>\n",
       "      <td>1,163,448</td>\n",
       "      <td>32.69</td>\n",
       "      <td>19</td>\n",
       "    </tr>\n",
       "    <tr>\n",
       "      <td>4</td>\n",
       "      <td>0054</td>\n",
       "      <td>元大台商50</td>\n",
       "      <td>507,569</td>\n",
       "      <td>18.64</td>\n",
       "      <td>13</td>\n",
       "    </tr>\n",
       "    <tr>\n",
       "      <td>...</td>\n",
       "      <td>...</td>\n",
       "      <td>...</td>\n",
       "      <td>...</td>\n",
       "      <td>...</td>\n",
       "      <td>...</td>\n",
       "    </tr>\n",
       "    <tr>\n",
       "      <td>1108</td>\n",
       "      <td>9944</td>\n",
       "      <td>新麗</td>\n",
       "      <td>22,024,560</td>\n",
       "      <td>14.65</td>\n",
       "      <td>796</td>\n",
       "    </tr>\n",
       "    <tr>\n",
       "      <td>1109</td>\n",
       "      <td>9945</td>\n",
       "      <td>潤泰新</td>\n",
       "      <td>178,768,894</td>\n",
       "      <td>33.40</td>\n",
       "      <td>3,169</td>\n",
       "    </tr>\n",
       "    <tr>\n",
       "      <td>1110</td>\n",
       "      <td>9946</td>\n",
       "      <td>三發地產</td>\n",
       "      <td>10,936,770</td>\n",
       "      <td>12.55</td>\n",
       "      <td>46</td>\n",
       "    </tr>\n",
       "    <tr>\n",
       "      <td>1111</td>\n",
       "      <td>9955</td>\n",
       "      <td>佳龍</td>\n",
       "      <td>10,257,476</td>\n",
       "      <td>12.10</td>\n",
       "      <td>412</td>\n",
       "    </tr>\n",
       "    <tr>\n",
       "      <td>1112</td>\n",
       "      <td>9958</td>\n",
       "      <td>世紀鋼</td>\n",
       "      <td>868,126,524</td>\n",
       "      <td>79.50</td>\n",
       "      <td>6,743</td>\n",
       "    </tr>\n",
       "  </tbody>\n",
       "</table>\n",
       "<p>1113 rows × 5 columns</p>\n",
       "</div>"
      ],
      "text/plain": [
       "      證券代號     證券名稱           成交金額    收盤價    成交筆數\n",
       "0     0050   元大台灣50  3,463,425,684  72.80  23,021\n",
       "1     0051  元大中型100      1,177,199  26.75      45\n",
       "2     0052     富邦科技      9,156,750  55.35      67\n",
       "3     0053     元大電子      1,163,448  32.69      19\n",
       "4     0054   元大台商50        507,569  18.64      13\n",
       "...    ...      ...            ...    ...     ...\n",
       "1108  9944       新麗     22,024,560  14.65     796\n",
       "1109  9945      潤泰新    178,768,894  33.40   3,169\n",
       "1110  9946     三發地產     10,936,770  12.55      46\n",
       "1111  9955       佳龍     10,257,476  12.10     412\n",
       "1112  9958      世紀鋼    868,126,524  79.50   6,743\n",
       "\n",
       "[1113 rows x 5 columns]"
      ]
     },
     "execution_count": 8,
     "metadata": {},
     "output_type": "execute_result"
    }
   ],
   "source": [
    "pd.read_csv('個股日成交資訊.csv',usecols=['證券代號','證券名稱','成交金額','收盤價','成交筆數'])"
   ]
  },
  {
   "cell_type": "code",
   "execution_count": 13,
   "metadata": {},
   "outputs": [
    {
     "name": "stdout",
     "output_type": "stream",
     "text": [
      "b'\\xef\\xbb\\xbfSiteName,County,AQI,Pollutant,Status,SO2,CO,CO_8hr,O3,O3_8hr,PM10,PM2.5,NO2,NOx,NO,WindSpeed,WindDirec,PublishTime,PM2.5_AVG,PM10_AVG,SO2_AVG,Longitude,Latitude,SiteId\\r\\n\\xe6\\xa1\\x83\\xe5\\x9c\\x92(\\xe8\\xa7\\x80\\xe9\\x9f\\xb3\\xe5\\xb7\\xa5\\xe6\\xa5\\xad\\xe5\\x8d\\x80),\\xe6\\xa1\\x83\\xe5\\x9c\\x92\\xe5\\xb8\\x82,88,\\xe7\\xb4\\xb0\\xe6\\x87\\xb8\\xe6\\xb5\\xae\\xe5\\xbe\\xae\\xe7\\xb2\\x92,\\xe6\\x99\\xae\\xe9\\x80\\x9a,4.6,0.22,0.3,25,17,46,32,9,10,1.4,1.7,239,2020-04-19 12:00,31,48,3,121.128044,25.063039,312\\r\\n\\xe8\\x87\\xba\\xe5\\x8d\\x97(\\xe5\\x8c\\x97\\xe9\\x96\\x80),\\xe8\\x87\\xba\\xe5\\x8d\\x97\\xe5\\xb8\\x82,53,\\xe7\\xb4\\xb0\\xe6\\x87\\xb8\\xe6\\xb5\\xae\\xe5\\xbe\\xae\\xe7\\xb2\\x92,\\xe6\\x99\\xae\\xe9\\x80\\x9a,2.3,0.3,0.3,23,17,32,13,5.2,7,1.8,3.6,244,2020-04-19 12:00,16,37,1,120.124444,23.264722,310\\r\\n\\xe5\\xb1\\x8f\\xe6\\x9d\\xb1(\\xe7\\x90\\x89\\xe7\\x90\\x83),\\xe5\\xb1\\x8f\\xe6\\x9d\\xb1\\xe7\\xb8\\xa3,44,,\\xe8\\x89\\xaf\\xe5\\xa5\\xbd,2,0.12,0.2,25,24,21,7,3.4,4.6,1.2,1.5,176,2020-04-19 12:00,14,22,3,120.377222,22.352222,204\\r\\n\\xe6\\x96\\xb0\\xe5\\x8c\\x97(\\xe6\\xa8\\xb9\\xe6\\x9e\\x97),\\xe6\\x96\\xb0\\xe5\\x8c\\x97\\xe5\\xb8\\x82,95,\\xe7\\xb4\\xb0\\xe6\\x87\\xb8\\xe6\\xb5\\xae\\xe5\\xbe\\xae\\xe7\\xb2\\x92,\\xe6\\x99\\xae\\xe9\\x80\\x9a,2.1,0.88,0.7,41,16,69,41,26,29,3.1,0.9,39,2020-04-19 12:00,33,58,2,121.383528,24.949028,203\\r\\n\\xe5\\xbd\\xb0\\xe5\\x8c\\x96(\\xe5\\xa4\\xa7\\xe5\\x9f\\x8e),\\xe5\\xbd\\xb0\\xe5\\x8c\\x96\\xe7\\xb8\\xa3,61,\\xe7\\xb4\\xb0\\xe6\\x87\\xb8\\xe6\\xb5\\xae\\xe5\\xbe\\xae\\xe7\\xb2\\x92,\\xe6\\x99\\xae\\xe9\\x80\\x9a,2.1,0.24,0.3,36,20,68,9,3.5,4.1,0.6,5.2,220,2020-04-19 12:00,20,56,3,120.273117,23.843139,202\\r\\n\\xe8\\x87\\xba\\xe5\\x8d\\x97(\\xe9\\xba\\xbb\\xe8\\xb1\\x86),\\xe8\\x87\\xba\\xe5\\x8d\\x97\\xe5\\xb8\\x82,47,,\\xe8\\x89\\xaf\\xe5\\xa5\\xbd,1.3,0.68,0.7,41,22,33,16,6,7.9,1.9,2.4,194,2020-04-19 12:00,15,31,2,120.245831,23.179047,201\\r\\n\\xe5\\xaf\\x8c\\xe8\\xb2\\xb4\\xe8\\xa7\\x92,\\xe6\\x96\\xb0\\xe5\\x8c\\x97\\xe5\\xb8\\x82,67,\\xe7\\xb4\\xb0\\xe6\\x87\\xb8\\xe6\\xb5\\xae\\xe5\\xbe\\xae\\xe7\\xb2\\x92,\\xe6\\x99\\xae\\xe9\\x80\\x9a,0.9,0.28,0.3,36,29,37,24,9,11,2.3,1.2,286,2020-04-19 12:00,22,39,1,121.536763,25.298562,84\\r\\n\\xe9\\xba\\xa5\\xe5\\xaf\\xae,\\xe9\\x9b\\xb2\\xe6\\x9e\\x97\\xe7\\xb8\\xa3,77,\\xe7\\xb4\\xb0\\xe6\\x87\\xb8\\xe6\\xb5\\xae\\xe5\\xbe\\xae\\xe7\\xb2\\x92,\\xe6\\x99\\xae\\xe9\\x80\\x9a,1.7,0.29,0.4,33,19,51,14,5,5.9,0.9,5.2,218,2020-04-19 12:00,26,58,3,120.251825,23.753506,83\\r\\n\\xe9\\x97\\x9c\\xe5\\xb1\\xb1,\\xe8\\x87\\xba\\xe6\\x9d\\xb1\\xe7\\xb8\\xa3,32,,\\xe8\\x89\\xaf\\xe5\\xa5\\xbd,1.2,-,,24,13,17,9,0.4,0.9,0.5,5.6,217,2020-04-19 12:00,10,17,1,121.161933,23.045083,80\\r\\n\\xe9\\xa6\\xac\\xe5\\x85\\xac,\\xe6\\xbe\\x8e\\xe6\\xb9\\x96\\xe7\\xb8\\xa3,28,,\\xe8\\x89\\xaf\\xe5\\xa5\\xbd,1,0.18,0.2,31,27,20,5,2,2.9,0.9,2.6,218,2020-04-19 12:00,9,23,2,119.566158,23.569031,78\\r\\n\\xe9\\x87\\x91\\xe9\\x96\\x80,\\xe9\\x87\\x91\\xe9\\x96\\x80\\xe7\\xb8\\xa3,98,\\xe7\\xb4\\xb0\\xe6\\x87\\xb8\\xe6\\xb5\\xae\\xe5\\xbe\\xae\\xe7\\xb2\\x92,\\xe6\\x99\\xae\\xe9\\x80\\x9a,3.4,0.27,0.3,40,28,26,14,6,7.4,1.4,3.4,208,2020-04-19 12:00,34,68,3,118.312256,24.432133,77\\r\\n\\xe9\\xa6\\xac\\xe7\\xa5\\x96,\\xe9\\x80\\xa3\\xe6\\xb1\\x9f\\xe7\\xb8\\xa3,134,\\xe7\\xb4\\xb0\\xe6\\x87\\xb8\\xe6\\xb5\\xae\\xe5\\xbe\\xae\\xe7\\xb2\\x92,\\xe5\\xb0\\x8d\\xe6\\x95\\x8f\\xe6\\x84\\x9f\\xe6\\x97\\x8f\\xe7\\xbe\\xa4\\xe4\\xb8\\x8d\\xe5\\x81\\xa5\\xe5\\xba\\xb7,1,0.28,0.3,57,57,81,58,9.6,11,1,1.2,193,2020-04-19 12:00,48,85,2,119.949875,26.160469,75\\r\\n\\xe5\\x9f\\x94\\xe9\\x87\\x8c,\\xe5\\x8d\\x97\\xe6\\x8a\\x95\\xe7\\xb8\\xa3,73,\\xe7\\xb4\\xb0\\xe6\\x87\\xb8\\xe6\\xb5\\xae\\xe5\\xbe\\xae\\xe7\\xb2\\x92,\\xe6\\x99\\xae\\xe9\\x80\\x9a,2.9,0.31,0.4,59,29,34,27,8.4,9,0.6,1.4,298,2020-04-19 12:00,25,34,3,120.967903,23.968842,72\\r\\n\\xe5\\xbe\\xa9\\xe8\\x88\\x88,\\xe9\\xab\\x98\\xe9\\x9b\\x84\\xe5\\xb8\\x82,41,,\\xe8\\x89\\xaf\\xe5\\xa5\\xbd,1.9,0.27,0.4,23,17,25,11,6,9.4,3.3,1.8,202,2020-04-19 12:00,13,24,3,120.312017,22.608711,71\\r\\n\\xe6\\xb0\\xb8\\xe5\\x92\\x8c,\\xe6\\x96\\xb0\\xe5\\x8c\\x97\\xe5\\xb8\\x82,79,\\xe7\\xb4\\xb0\\xe6\\x87\\xb8\\xe6\\xb5\\xae\\xe5\\xbe\\xae\\xe7\\xb2\\x92,\\xe6\\x99\\xae\\xe9\\x80\\x9a,2.2,1.44,0.9,30,17,49,37,34,48,14,1.1,268,2020-04-19 12:00,27,35,2,121.516306,25.017,70\\r\\n\\xe7\\xab\\xb9\\xe5\\xb1\\xb1,\\xe5\\x8d\\x97\\xe6\\x8a\\x95\\xe7\\xb8\\xa3,78,\\xe7\\xb4\\xb0\\xe6\\x87\\xb8\\xe6\\xb5\\xae\\xe5\\xbe\\xae\\xe7\\xb2\\x92,\\xe6\\x99\\xae\\xe9\\x80\\x9a,2.1,0.29,0.4,47,28,28,16,5.9,6.8,0.9,1.7,250,2020-04-19 12:00,26,42,3,120.677306,23.756389,69\\r\\n\\xe4\\xb8\\xad\\xe5\\xa3\\xa2,\\xe6\\xa1\\x83\\xe5\\x9c\\x92\\xe5\\xb8\\x82,84,\\xe7\\xb4\\xb0\\xe6\\x87\\xb8\\xe6\\xb5\\xae\\xe5\\xbe\\xae\\xe7\\xb2\\x92,\\xe6\\x99\\xae\\xe9\\x80\\x9a,1.7,0.94,1.0,22,15,51,29,22,42,20,1.6,32,2020-04-19 12:00,29,46,2,121.221667,24.953278,68\\r\\n\\xe4\\xb8\\x89\\xe9\\x87\\x8d,\\xe6\\x96\\xb0\\xe5\\x8c\\x97\\xe5\\xb8\\x82,95,\\xe7\\xb4\\xb0\\xe6\\x87\\xb8\\xe6\\xb5\\xae\\xe5\\xbe\\xae\\xe7\\xb2\\x92,\\xe6\\x99\\xae\\xe9\\x80\\x9a,3.1,1.38,1.4,-,,61,36,37,77,40,,,2020-04-19 12:00,33,49,2,121.493806,25.072611,67\\r\\n\\xe5\\x86\\xac\\xe5\\xb1\\xb1,\\xe5\\xae\\x9c\\xe8\\x98\\xad\\xe7\\xb8\\xa3,64,\\xe7\\xb4\\xb0\\xe6\\x87\\xb8\\xe6\\xb5\\xae\\xe5\\xbe\\xae\\xe7\\xb2\\x92,\\xe6\\x99\\xae\\xe9\\x80\\x9a,2.4,0.39,0.3,31,20,38,22,8.1,12,3.6,1.4,1,2020-04-19 12:00,21,38,2,121.792928,24.632203,66\\r\\n\\xe5\\xae\\x9c\\xe8\\x98\\xad,\\xe5\\xae\\x9c\\xe8\\x98\\xad\\xe7\\xb8\\xa3,66,\\xe7\\xb4\\xb0\\xe6\\x87\\xb8\\xe6\\xb5\\xae\\xe5\\xbe\\xae\\xe7\\xb2\\x92,\\xe6\\x99\\xae\\xe9\\x80\\x9a,2.7,0.41,0.3,46,30,41,25,8.5,9.8,1.3,1.6,52,2020-04-19 12:00,21,34,2,121.746394,24.747917,65\\r\\n\\xe9\\x99\\xbd\\xe6\\x98\\x8e,\\xe8\\x87\\xba\\xe5\\x8c\\x97\\xe5\\xb8\\x82,61,\\xe7\\xb4\\xb0\\xe6\\x87\\xb8\\xe6\\xb5\\xae\\xe5\\xbe\\xae\\xe7\\xb2\\x92,\\xe6\\x99\\xae\\xe9\\x80\\x9a,2.6,0.25,0.2,37,36,31,20,2.9,4.2,1.3,,,2020-04-19 12:00,19,27,2,121.529583,25.182722,64\\r\\n\\xe8\\x8a\\xb1\\xe8\\x93\\xae,\\xe8\\x8a\\xb1\\xe8\\x93\\xae\\xe7\\xb8\\xa3,34,,\\xe8\\x89\\xaf\\xe5\\xa5\\xbd,1.4,0.21,0.2,26,17,30,7,1.9,3.9,1.9,2.4,126,2020-04-19 12:00,11,23,1,121.599769,23.971306,63\\r\\n\\xe8\\x87\\xba\\xe6\\x9d\\xb1,\\xe8\\x87\\xba\\xe6\\x9d\\xb1\\xe7\\xb8\\xa3,26,,\\xe8\\x89\\xaf\\xe5\\xa5\\xbd,1.5,0.33,0.4,24,16,24,8,3.1,4.9,1.9,3.5,183,2020-04-19 12:00,8,23,1,121.15045,22.755358,62\\r\\n\\xe6\\x81\\x86\\xe6\\x98\\xa5,\\xe5\\xb1\\x8f\\xe6\\x9d\\xb1\\xe7\\xb8\\xa3,31,,\\xe8\\x89\\xaf\\xe5\\xa5\\xbd,1.1,0.14,0.1,26,25,19,9,0.4,1.3,1,4.3,197,2020-04-19 12:00,10,20,1,120.788928,21.958069,61\\r\\n\\xe6\\xbd\\xae\\xe5\\xb7\\x9e,\\xe5\\xb1\\x8f\\xe6\\x9d\\xb1\\xe7\\xb8\\xa3,27,,\\xe8\\x89\\xaf\\xe5\\xa5\\xbd,0.7,0.19,0.2,28,23,19,10,3.4,4.1,0.7,3.2,225,2020-04-19 12:00,8,21,1,120.561175,22.523108,60\\r\\n\\xe5\\xb1\\x8f\\xe6\\x9d\\xb1,\\xe5\\xb1\\x8f\\xe6\\x9d\\xb1\\xe7\\xb8\\xa3,31,,\\xe8\\x89\\xaf\\xe5\\xa5\\xbd,1.9,0.27,0.3,32,23,26,6,4.3,5.4,1.1,3.4,182,2020-04-19 12:00,10,27,2,120.488033,22.673081,59\\r\\n\\xe5\\xb0\\x8f\\xe6\\xb8\\xaf,\\xe9\\xab\\x98\\xe9\\x9b\\x84\\xe5\\xb8\\x82,39,,\\xe8\\x89\\xaf\\xe5\\xa5\\xbd,2.1,0.19,0.3,22,16,30,11,6.9,13,5.9,2,194,2020-04-19 12:00,12,31,4,120.337736,22.565833,58\\r\\n\\xe5\\x89\\x8d\\xe9\\x8e\\xae,\\xe9\\xab\\x98\\xe9\\x9b\\x84\\xe5\\xb8\\x82,32,,\\xe8\\x89\\xaf\\xe5\\xa5\\xbd,,0.41,0.4,20,15,28,8,6.9,14,6.8,1.9,145,2020-04-19 12:00,10,29,,120.307564,22.605386,57\\r\\n\\xe5\\x89\\x8d\\xe9\\x87\\x91,\\xe9\\xab\\x98\\xe9\\x9b\\x84\\xe5\\xb8\\x82,45,,\\xe8\\x89\\xaf\\xe5\\xa5\\xbd,2.9,0.21,0.3,24,18,28,10,5.7,10,4.7,3.1,206,2020-04-19 12:00,14,29,3,120.288086,22.632567,56\\r\\n\\xe5\\xb7\\xa6\\xe7\\x87\\x9f,\\xe9\\xab\\x98\\xe9\\x9b\\x84\\xe5\\xb8\\x82,38,,\\xe8\\x89\\xaf\\xe5\\xa5\\xbd,2.4,0.29,0.4,24,17,24,11,7.9,11,3.3,3,210,2020-04-19 12:00,12,26,3,120.292917,22.674861,54\\r\\n\\xe6\\xa5\\xa0\\xe6\\xa2\\x93,\\xe9\\xab\\x98\\xe9\\x9b\\x84\\xe5\\xb8\\x82,41,,\\xe8\\x89\\xaf\\xe5\\xa5\\xbd,5.4,0.47,0.4,31,18,30,15,9.1,13,3.6,3.5,202,2020-04-19 12:00,13,28,3,120.328289,22.733667,53\\r\\n\\xe6\\x9e\\x97\\xe5\\x9c\\x92,\\xe9\\xab\\x98\\xe9\\x9b\\x84\\xe5\\xb8\\x82,32,,\\xe8\\x89\\xaf\\xe5\\xa5\\xbd,2.5,0.18,0.2,29,18,25,8,3.1,3.9,0.8,2.4,187,2020-04-19 12:00,10,32,2,120.41175,22.4795,52\\r\\n\\xe5\\xa4\\xa7\\xe5\\xaf\\xae,\\xe9\\xab\\x98\\xe9\\x9b\\x84\\xe5\\xb8\\x82,41,,\\xe8\\x89\\xaf\\xe5\\xa5\\xbd,0.1,0.14,0.3,24,15,17,9,1.7,2,0.3,3.2,184,2020-04-19 12:00,13,27,1,120.425081,22.565747,51\\r\\n\\xe9\\xb3\\xb3\\xe5\\xb1\\xb1,\\xe9\\xab\\x98\\xe9\\x9b\\x84\\xe5\\xb8\\x82,39,,\\xe8\\x89\\xaf\\xe5\\xa5\\xbd,4,0.49,0.4,27,17,27,12,6.9,9.5,2.6,2.1,173,2020-04-19 12:00,12,27,4,120.358083,22.627392,50\\r\\n\\xe4\\xbb\\x81\\xe6\\xad\\xa6,\\xe9\\xab\\x98\\xe9\\x9b\\x84\\xe5\\xb8\\x82,45,,\\xe8\\x89\\xaf\\xe5\\xa5\\xbd,5,0.47,0.3,31,21,28,13,9,12,2.8,3,187,2020-04-19 12:00,14,27,3,120.332631,22.689056,49\\r\\n\\xe6\\xa9\\x8b\\xe9\\xa0\\xad,\\xe9\\xab\\x98\\xe9\\x9b\\x84\\xe5\\xb8\\x82,46,,\\xe8\\x89\\xaf\\xe5\\xa5\\xbd,3.9,0.44,0.3,33,20,27,20,10,11,1,3.9,206,2020-04-19 12:00,14,27,2,120.305689,22.757506,48\\r\\n\\xe7\\xbe\\x8e\\xe6\\xbf\\x83,\\xe9\\xab\\x98\\xe9\\x9b\\x84\\xe5\\xb8\\x82,46,,\\xe8\\x89\\xaf\\xe5\\xa5\\xbd,1.8,0.22,0.2,40,22,30,14,4.9,5.1,0.2,1.9,200,2020-04-19 12:00,14,24,2,120.530542,22.883583,47\\r\\n\\xe8\\x87\\xba\\xe5\\x8d\\x97,\\xe8\\x87\\xba\\xe5\\x8d\\x97\\xe5\\xb8\\x82,45,,\\xe8\\x89\\xaf\\xe5\\xa5\\xbd,1.5,0.3,0.3,30,19,37,12,11,14,2.2,2.8,197,2020-04-19 12:00,14,30,1,120.202617,22.984581,46\\r\\n\\xe5\\xae\\x89\\xe5\\x8d\\x97,\\xe8\\x87\\xba\\xe5\\x8d\\x97\\xe5\\xb8\\x82,52,\\xe7\\xb4\\xb0\\xe6\\x87\\xb8\\xe6\\xb5\\xae\\xe5\\xbe\\xae\\xe7\\xb2\\x92,\\xe6\\x99\\xae\\xe9\\x80\\x9a,3,0.39,0.3,40,24,39,16,10,12,1.5,3,195,2020-04-19 12:00,16,34,2,120.2175,23.048197,45\\r\\n\\xe5\\x96\\x84\\xe5\\x8c\\x96,\\xe8\\x87\\xba\\xe5\\x8d\\x97\\xe5\\xb8\\x82,19,,\\xe8\\x89\\xaf\\xe5\\xa5\\xbd,2.3,0.26,0.3,36,20,,,6.3,8.1,1.7,,,2020-04-19 12:00,,,3,120.297142,23.115097,44\\r\\n\\xe6\\x96\\xb0\\xe7\\x87\\x9f,\\xe8\\x87\\xba\\xe5\\x8d\\x97\\xe5\\xb8\\x82,53,\\xe7\\xb4\\xb0\\xe6\\x87\\xb8\\xe6\\xb5\\xae\\xe5\\xbe\\xae\\xe7\\xb2\\x92,\\xe6\\x99\\xae\\xe9\\x80\\x9a,1.5,0.26,0.3,36,23,27,11,7.1,8.6,1.5,3.4,208,2020-04-19 12:00,16,29,2,120.31725,23.305633,43\\r\\n\\xe5\\x98\\x89\\xe7\\xbe\\xa9,\\xe5\\x98\\x89\\xe7\\xbe\\xa9\\xe5\\xb8\\x82,53,\\xe7\\xb4\\xb0\\xe6\\x87\\xb8\\xe6\\xb5\\xae\\xe5\\xbe\\xae\\xe7\\xb2\\x92,\\xe6\\x99\\xae\\xe9\\x80\\x9a,1.6,0.22,0.3,31,21,24,10,4.5,5.1,0.6,4.7,238,2020-04-19 12:00,16,29,2,120.440833,23.462778,42\\r\\n\\xe8\\x87\\xba\\xe8\\xa5\\xbf,\\xe9\\x9b\\xb2\\xe6\\x9e\\x97\\xe7\\xb8\\xa3,78,\\xe7\\xb4\\xb0\\xe6\\x87\\xb8\\xe6\\xb5\\xae\\xe5\\xbe\\xae\\xe7\\xb2\\x92,\\xe6\\x99\\xae\\xe9\\x80\\x9a,2.1,0.32,0.4,43,22,42,17,5,5.7,0.6,5.7,213,2020-04-19 12:00,27,52,2,120.202842,23.717533,41\\r\\n\\xe6\\x9c\\xb4\\xe5\\xad\\x90,\\xe5\\x98\\x89\\xe7\\xbe\\xa9\\xe7\\xb8\\xa3,67,\\xe7\\xb4\\xb0\\xe6\\x87\\xb8\\xe6\\xb5\\xae\\xe5\\xbe\\xae\\xe7\\xb2\\x92,\\xe6\\x99\\xae\\xe9\\x80\\x9a,1.8,0.31,0.4,32,18,38,14,2.1,5.4,3.3,2.4,209,2020-04-19 12:00,22,50,2,120.24781,23.467123,40\\r\\n\\xe6\\x96\\xb0\\xe6\\xb8\\xaf,\\xe5\\x98\\x89\\xe7\\xbe\\xa9\\xe7\\xb8\\xa3,61,\\xe7\\xb4\\xb0\\xe6\\x87\\xb8\\xe6\\xb5\\xae\\xe5\\xbe\\xae\\xe7\\xb2\\x92,\\xe6\\x99\\xae\\xe9\\x80\\x9a,1.5,0.3,0.4,31,20,38,11,6.3,8.3,2,4.5,198,2020-04-19 12:00,20,45,2,120.345531,23.554839,39\\r\\n\\xe5\\xb4\\x99\\xe8\\x83\\x8c,\\xe9\\x9b\\xb2\\xe6\\x9e\\x97\\xe7\\xb8\\xa3,73,\\xe7\\xb4\\xb0\\xe6\\x87\\xb8\\xe6\\xb5\\xae\\xe5\\xbe\\xae\\xe7\\xb2\\x92,\\xe6\\x99\\xae\\xe9\\x80\\x9a,2,0.16,0.3,33,21,39,14,4.2,5.4,1.2,2.6,235,2020-04-19 12:00,25,52,2,120.348742,23.757547,38\\r\\n\\xe6\\x96\\x97\\xe5\\x85\\xad,\\xe9\\x9b\\xb2\\xe6\\x9e\\x97\\xe7\\xb8\\xa3,59,\\xe7\\xb4\\xb0\\xe6\\x87\\xb8\\xe6\\xb5\\xae\\xe5\\xbe\\xae\\xe7\\xb2\\x92,\\xe6\\x99\\xae\\xe9\\x80\\x9a,1.9,0.31,0.3,36,29,31,12,7.3,8.4,1.1,3.9,231,2020-04-19 12:00,19,37,2,120.544994,23.711853,37\\r\\n\\xe5\\x8d\\x97\\xe6\\x8a\\x95,\\xe5\\x8d\\x97\\xe6\\x8a\\x95\\xe7\\xb8\\xa3,73,\\xe7\\xb4\\xb0\\xe6\\x87\\xb8\\xe6\\xb5\\xae\\xe5\\xbe\\xae\\xe7\\xb2\\x92,\\xe6\\x99\\xae\\xe9\\x80\\x9a,1.8,0.32,0.4,48,26,30,18,7.1,7.8,0.8,1.8,241,2020-04-19 12:00,25,37,3,120.685306,23.913,36\\r\\n\\xe4\\xba\\x8c\\xe6\\x9e\\x97,\\xe5\\xbd\\xb0\\xe5\\x8c\\x96\\xe7\\xb8\\xa3,79,\\xe7\\xb4\\xb0\\xe6\\x87\\xb8\\xe6\\xb5\\xae\\xe5\\xbe\\xae\\xe7\\xb2\\x92,\\xe6\\x99\\xae\\xe9\\x80\\x9a,1.1,0.2,0.4,26,16,43,10,0.5,2.2,1.7,5.7,246,2020-04-19 12:00,27,55,3,120.409653,23.925175,35\\r\\n\\xe7\\xb7\\x9a\\xe8\\xa5\\xbf,\\xe5\\xbd\\xb0\\xe5\\x8c\\x96\\xe7\\xb8\\xa3,75,\\xe7\\xb4\\xb0\\xe6\\x87\\xb8\\xe6\\xb5\\xae\\xe5\\xbe\\xae\\xe7\\xb2\\x92,\\xe6\\x99\\xae\\xe9\\x80\\x9a,2.6,0.28,0.4,41,29,46,14,4.1,6.1,2,7.1,249,2020-04-19 12:00,25,48,3,120.469061,24.131672,34\\r\\n\\xe5\\xbd\\xb0\\xe5\\x8c\\x96,\\xe5\\xbd\\xb0\\xe5\\x8c\\x96\\xe7\\xb8\\xa3,61,\\xe7\\xb4\\xb0\\xe6\\x87\\xb8\\xe6\\xb5\\xae\\xe5\\xbe\\xae\\xe7\\xb2\\x92,\\xe6\\x99\\xae\\xe9\\x80\\x9a,2.4,0.24,0.4,27,24,31,13,,,,2.8,229,2020-04-19 12:00,20,34,5,120.541519,24.066,33\\r\\n\\xe8\\xa5\\xbf\\xe5\\xb1\\xaf,\\xe8\\x87\\xba\\xe4\\xb8\\xad\\xe5\\xb8\\x82,67,\\xe7\\xb4\\xb0\\xe6\\x87\\xb8\\xe6\\xb5\\xae\\xe5\\xbe\\xae\\xe7\\xb2\\x92,\\xe6\\x99\\xae\\xe9\\x80\\x9a,2,0.25,0.4,41,26,31,20,6.4,6.7,0.2,4.4,210,2020-04-19 12:00,22,37,3,120.616917,24.162197,32\\r\\n\\xe5\\xbf\\xa0\\xe6\\x98\\x8e,\\xe8\\x87\\xba\\xe4\\xb8\\xad\\xe5\\xb8\\x82,66,\\xe7\\xb4\\xb0\\xe6\\x87\\xb8\\xe6\\xb5\\xae\\xe5\\xbe\\xae\\xe7\\xb2\\x92,\\xe6\\x99\\xae\\xe9\\x80\\x9a,2.3,0.3,0.4,34,24,29,16,7.4,8.7,1.3,2.3,200,2020-04-19 12:00,22,34,3,120.641092,24.151958,31\\r\\n\\xe5\\xa4\\xa7\\xe9\\x87\\x8c,\\xe8\\x87\\xba\\xe4\\xb8\\xad\\xe5\\xb8\\x82,70,\\xe7\\xb4\\xb0\\xe6\\x87\\xb8\\xe6\\xb5\\xae\\xe5\\xbe\\xae\\xe7\\xb2\\x92,\\xe6\\x99\\xae\\xe9\\x80\\x9a,2.5,0.38,0.4,39,23,37,22,9.1,10,1.1,3.2,261,2020-04-19 12:00,23,38,3,120.677689,24.099611,30\\r\\n\\xe6\\xb2\\x99\\xe9\\xb9\\xbf,\\xe8\\x87\\xba\\xe4\\xb8\\xad\\xe5\\xb8\\x82,66,\\xe7\\xb4\\xb0\\xe6\\x87\\xb8\\xe6\\xb5\\xae\\xe5\\xbe\\xae\\xe7\\xb2\\x92,\\xe6\\x99\\xae\\xe9\\x80\\x9a,1.9,0.31,0.4,38,28,37,20,7.3,8.7,1.4,3.6,247,2020-04-19 12:00,22,35,1,120.568794,24.225628,29\\r\\n\\xe8\\xb1\\x90\\xe5\\x8e\\x9f,\\xe8\\x87\\xba\\xe4\\xb8\\xad\\xe5\\xb8\\x82,55,\\xe7\\xb4\\xb0\\xe6\\x87\\xb8\\xe6\\xb5\\xae\\xe5\\xbe\\xae\\xe7\\xb2\\x92,\\xe6\\x99\\xae\\xe9\\x80\\x9a,-0.3,0.29,0.3,45,30,29,14,6.3,7.8,1.6,4.3,217,2020-04-19 12:00,17,27,1,120.741711,24.256586,28\\r\\n\\xe4\\xb8\\x89\\xe7\\xbe\\xa9,\\xe8\\x8b\\x97\\xe6\\xa0\\x97\\xe7\\xb8\\xa3,53,\\xe7\\xb4\\xb0\\xe6\\x87\\xb8\\xe6\\xb5\\xae\\xe5\\xbe\\xae\\xe7\\xb2\\x92,\\xe6\\x99\\xae\\xe9\\x80\\x9a,2.6,0.24,0.2,37,30,27,14,5.8,7.8,2,4.1,220,2020-04-19 12:00,16,28,2,120.758833,24.382942,27\\r\\n\\xe8\\x8b\\x97\\xe6\\xa0\\x97,\\xe8\\x8b\\x97\\xe6\\xa0\\x97\\xe7\\xb8\\xa3,60,\\xe7\\xb4\\xb0\\xe6\\x87\\xb8\\xe6\\xb5\\xae\\xe5\\xbe\\xae\\xe7\\xb2\\x92,\\xe6\\x99\\xae\\xe9\\x80\\x9a,2.6,0.4,0.3,31,18,47,29,7.8,9.4,1.6,3.5,260,2020-04-19 12:00,19,30,3,120.8202,24.565269,26\\r\\n\\xe9\\xa0\\xad\\xe4\\xbb\\xbd,\\xe8\\x8b\\x97\\xe6\\xa0\\x97\\xe7\\xb8\\xa3,87,\\xe7\\xb4\\xb0\\xe6\\x87\\xb8\\xe6\\xb5\\xae\\xe5\\xbe\\xae\\xe7\\xb2\\x92,\\xe6\\x99\\xae\\xe9\\x80\\x9a,3.3,0.4,0.4,42,19,63,39,7.9,9.9,2,6,273,2020-04-19 12:00,30,50,3,120.898572,24.696969,25\\r\\n\\xe6\\x96\\xb0\\xe7\\xab\\xb9,\\xe6\\x96\\xb0\\xe7\\xab\\xb9\\xe5\\xb8\\x82,86,\\xe7\\xb4\\xb0\\xe6\\x87\\xb8\\xe6\\xb5\\xae\\xe5\\xbe\\xae\\xe7\\xb2\\x92,\\xe6\\x99\\xae\\xe9\\x80\\x9a,2.7,0.42,0.5,38,19,55,35,11,14,3.1,2.4,271,2020-04-19 12:00,30,46,2,120.972075,24.805619,24\\r\\n\\xe7\\xab\\xb9\\xe6\\x9d\\xb1,\\xe6\\x96\\xb0\\xe7\\xab\\xb9\\xe7\\xb8\\xa3,83,\\xe7\\xb4\\xb0\\xe6\\x87\\xb8\\xe6\\xb5\\xae\\xe5\\xbe\\xae\\xe7\\xb2\\x92,\\xe6\\x99\\xae\\xe9\\x80\\x9a,2.1,0.38,0.4,35,24,52,32,,,,2.9,340,2020-04-19 12:00,29,42,1,121.088903,24.740644,23\\r\\n\\xe6\\xb9\\x96\\xe5\\x8f\\xa3,\\xe6\\x96\\xb0\\xe7\\xab\\xb9\\xe7\\xb8\\xa3,86,\\xe7\\xb4\\xb0\\xe6\\x87\\xb8\\xe6\\xb5\\xae\\xe5\\xbe\\xae\\xe7\\xb2\\x92,\\xe6\\x99\\xae\\xe9\\x80\\x9a,2.3,0.29,0.3,40,24,48,35,9.3,11,2.1,2.7,261,2020-04-19 12:00,30,45,3,121.038653,24.900142,22\\r\\n\\xe9\\xbe\\x8d\\xe6\\xbd\\xad,\\xe6\\xa1\\x83\\xe5\\x9c\\x92\\xe5\\xb8\\x82,84,\\xe7\\xb4\\xb0\\xe6\\x87\\xb8\\xe6\\xb5\\xae\\xe5\\xbe\\xae\\xe7\\xb2\\x92,\\xe6\\x99\\xae\\xe9\\x80\\x9a,2.6,0.53,0.5,35,28,51,30,11,14,3.1,2.7,255,2020-04-19 12:00,29,45,3,121.21635,24.863869,21\\r\\n\\xe5\\xb9\\xb3\\xe9\\x8e\\xae,\\xe6\\xa1\\x83\\xe5\\x9c\\x92\\xe5\\xb8\\x82,85,\\xe7\\xb4\\xb0\\xe6\\x87\\xb8\\xe6\\xb5\\xae\\xe5\\xbe\\xae\\xe7\\xb2\\x92,\\xe6\\x99\\xae\\xe9\\x80\\x9a,2.5,0.4,0.5,27,23,57,34,18,24,5.8,2.1,266,2020-04-19 12:00,29,48,2,121.203986,24.952786,20\\r\\n\\xe8\\xa7\\x80\\xe9\\x9f\\xb3,\\xe6\\xa1\\x83\\xe5\\x9c\\x92\\xe5\\xb8\\x82,84,\\xe7\\xb4\\xb0\\xe6\\x87\\xb8\\xe6\\xb5\\xae\\xe5\\xbe\\xae\\xe7\\xb2\\x92,\\xe6\\x99\\xae\\xe9\\x80\\x9a,2.9,0.3,0.3,37,28,48,36,12,13,1.5,2,261,2020-04-19 12:00,29,43,4,121.082761,25.035503,19\\r\\n\\xe5\\xa4\\xa7\\xe5\\x9c\\x92,\\xe6\\xa1\\x83\\xe5\\x9c\\x92\\xe5\\xb8\\x82,91,\\xe7\\xb4\\xb0\\xe6\\x87\\xb8\\xe6\\xb5\\xae\\xe5\\xbe\\xae\\xe7\\xb2\\x92,\\xe6\\x99\\xae\\xe9\\x80\\x9a,6.2,0.38,0.4,34,21,37,33,,,,2,286,2020-04-19 12:00,32,49,4,121.201811,25.060344,18\\r\\n\\xe6\\xa1\\x83\\xe5\\x9c\\x92,\\xe6\\xa1\\x83\\xe5\\x9c\\x92\\xe5\\xb8\\x82,95,\\xe7\\xb4\\xb0\\xe6\\x87\\xb8\\xe6\\xb5\\xae\\xe5\\xbe\\xae\\xe7\\xb2\\x92,\\xe6\\x99\\xae\\xe9\\x80\\x9a,2.9,0.43,0.6,26,14,52,33,15,17,1.7,1.8,275,2020-04-19 12:00,33,48,4,121.304383,24.995368,17\\r\\n\\xe5\\xa4\\xa7\\xe5\\x90\\x8c,\\xe8\\x87\\xba\\xe5\\x8c\\x97\\xe5\\xb8\\x82,89,\\xe7\\xb4\\xb0\\xe6\\x87\\xb8\\xe6\\xb5\\xae\\xe5\\xbe\\xae\\xe7\\xb2\\x92,\\xe6\\x99\\xae\\xe9\\x80\\x9a,2.6,1.62,1.4,-,,60,39,39,59,20,,,2020-04-19 12:00,31,48,3,121.513311,25.0632,16\\r\\n\\xe6\\x9d\\xbe\\xe5\\xb1\\xb1,\\xe8\\x87\\xba\\xe5\\x8c\\x97\\xe5\\xb8\\x82,77,\\xe7\\xb4\\xb0\\xe6\\x87\\xb8\\xe6\\xb5\\xae\\xe5\\xbe\\xae\\xe7\\xb2\\x92,\\xe6\\x99\\xae\\xe9\\x80\\x9a,2.4,0.96,0.6,30,16,56,32,37,48,11,1.7,293,2020-04-19 12:00,26,43,1,121.578611,25.05,15\\r\\n\\xe5\\x8f\\xa4\\xe4\\xba\\xad,\\xe8\\x87\\xba\\xe5\\x8c\\x97\\xe5\\xb8\\x82,80,\\xe7\\xb4\\xb0\\xe6\\x87\\xb8\\xe6\\xb5\\xae\\xe5\\xbe\\xae\\xe7\\xb2\\x92,\\xe6\\x99\\xae\\xe9\\x80\\x9a,1.7,0.9,0.5,40,22,52,35,26,31,4.7,1.5,252,2020-04-19 12:00,27,41,2,121.529556,25.020608,14\\r\\n\\xe8\\x90\\xac\\xe8\\x8f\\xaf,\\xe8\\x87\\xba\\xe5\\x8c\\x97\\xe5\\xb8\\x82,79,\\xe7\\xb4\\xb0\\xe6\\x87\\xb8\\xe6\\xb5\\xae\\xe5\\xbe\\xae\\xe7\\xb2\\x92,\\xe6\\x99\\xae\\xe9\\x80\\x9a,2.6,1.04,0.6,32,16,57,36,34,41,7.4,0.9,280,2020-04-19 12:00,27,44,1,121.507972,25.046503,13\\r\\n\\xe4\\xb8\\xad\\xe5\\xb1\\xb1,\\xe8\\x87\\xba\\xe5\\x8c\\x97\\xe5\\xb8\\x82,81,\\xe7\\xb4\\xb0\\xe6\\x87\\xb8\\xe6\\xb5\\xae\\xe5\\xbe\\xae\\xe7\\xb2\\x92,\\xe6\\x99\\xae\\xe9\\x80\\x9a,4,1.15,0.8,30,16,65,34,35,46,11,1.9,16,2020-04-19 12:00,28,44,1,121.526528,25.062361,12\\r\\n\\xe5\\xa3\\xab\\xe6\\x9e\\x97,\\xe8\\x87\\xba\\xe5\\x8c\\x97\\xe5\\xb8\\x82,83,\\xe7\\xb4\\xb0\\xe6\\x87\\xb8\\xe6\\xb5\\xae\\xe5\\xbe\\xae\\xe7\\xb2\\x92,\\xe6\\x99\\xae\\xe9\\x80\\x9a,4.1,0.6,0.6,33,16,58,30,17,24,6.4,3.4,293,2020-04-19 12:00,29,48,3,121.515389,25.105417,11\\r\\n\\xe6\\xb7\\xa1\\xe6\\xb0\\xb4,\\xe6\\x96\\xb0\\xe5\\x8c\\x97\\xe5\\xb8\\x82,75,\\xe7\\xb4\\xb0\\xe6\\x87\\xb8\\xe6\\xb5\\xae\\xe5\\xbe\\xae\\xe7\\xb2\\x92,\\xe6\\x99\\xae\\xe9\\x80\\x9a,3.1,0.38,0.6,31,14,39,33,15,17,2.2,,,2020-04-19 12:00,25,36,2,121.449239,25.1645,10\\r\\n\\xe6\\x9e\\x97\\xe5\\x8f\\xa3,\\xe6\\x96\\xb0\\xe5\\x8c\\x97\\xe5\\xb8\\x82,84,\\xe7\\xb4\\xb0\\xe6\\x87\\xb8\\xe6\\xb5\\xae\\xe5\\xbe\\xae\\xe7\\xb2\\x92,\\xe6\\x99\\xae\\xe9\\x80\\x9a,3.8,0.38,0.4,36,27,54,33,13,16,2.9,3.4,258,2020-04-19 12:00,29,45,2,121.376869,25.077197,9\\r\\n\\xe8\\x8f\\x9c\\xe5\\xaf\\xae,\\xe6\\x96\\xb0\\xe5\\x8c\\x97\\xe5\\xb8\\x82,83,\\xe7\\xb4\\xb0\\xe6\\x87\\xb8\\xe6\\xb5\\xae\\xe5\\xbe\\xae\\xe7\\xb2\\x92,\\xe6\\x99\\xae\\xe9\\x80\\x9a,2.8,0.7,0.8,24,12,61,35,24,32,7.7,2.2,325,2020-04-19 12:00,29,45,2,121.481028,25.06895,8\\r\\n\\xe6\\x96\\xb0\\xe8\\x8e\\x8a,\\xe6\\x96\\xb0\\xe5\\x8c\\x97\\xe5\\xb8\\x82,83,\\xe7\\xb4\\xb0\\xe6\\x87\\xb8\\xe6\\xb5\\xae\\xe5\\xbe\\xae\\xe7\\xb2\\x92,\\xe6\\x99\\xae\\xe9\\x80\\x9a,2.7,0.68,0.7,47,20,45,32,18,20,2.2,1.8,265,2020-04-19 12:00,29,43,2,121.4325,25.037972,7\\r\\n\\xe6\\x9d\\xbf\\xe6\\xa9\\x8b,\\xe6\\x96\\xb0\\xe5\\x8c\\x97\\xe5\\xb8\\x82,76,\\xe7\\xb4\\xb0\\xe6\\x87\\xb8\\xe6\\xb5\\xae\\xe5\\xbe\\xae\\xe7\\xb2\\x92,\\xe6\\x99\\xae\\xe9\\x80\\x9a,2.2,0.7,0.6,40,16,44,30,16,19,2.8,1.8,260,2020-04-19 12:00,26,39,3,121.458667,25.012972,6\\r\\n\\xe5\\x9c\\x9f\\xe5\\x9f\\x8e,\\xe6\\x96\\xb0\\xe5\\x8c\\x97\\xe5\\xb8\\x82,87,\\xe7\\xb4\\xb0\\xe6\\x87\\xb8\\xe6\\xb5\\xae\\xe5\\xbe\\xae\\xe7\\xb2\\x92,\\xe6\\x99\\xae\\xe9\\x80\\x9a,2.5,0.54,0.6,40,16,45,30,15,19,3.8,1.4,178,2020-04-19 12:00,30,43,2,121.451861,24.982528,5\\r\\n\\xe6\\x96\\xb0\\xe5\\xba\\x97,\\xe6\\x96\\xb0\\xe5\\x8c\\x97\\xe5\\xb8\\x82,73,\\xe7\\xb4\\xb0\\xe6\\x87\\xb8\\xe6\\xb5\\xae\\xe5\\xbe\\xae\\xe7\\xb2\\x92,\\xe6\\x99\\xae\\xe9\\x80\\x9a,1.8,0.48,0.5,39,22,40,24,12,15,3.3,1.5,349,2020-04-19 12:00,24,33,2,121.537778,24.977222,4\\r\\n\\xe8\\x90\\xac\\xe9\\x87\\x8c,\\xe6\\x96\\xb0\\xe5\\x8c\\x97\\xe5\\xb8\\x82,68,\\xe7\\xb4\\xb0\\xe6\\x87\\xb8\\xe6\\xb5\\xae\\xe5\\xbe\\xae\\xe7\\xb2\\x92,\\xe6\\x99\\xae\\xe9\\x80\\x9a,3.6,0.46,0.3,29,25,43,24,11,15,4.3,2.3,61,2020-04-19 12:00,23,36,2,121.689881,25.179667,3\\r\\n\\xe6\\xb1\\x90\\xe6\\xad\\xa2,\\xe6\\x96\\xb0\\xe5\\x8c\\x97\\xe5\\xb8\\x82,77,\\xe7\\xb4\\xb0\\xe6\\x87\\xb8\\xe6\\xb5\\xae\\xe5\\xbe\\xae\\xe7\\xb2\\x92,\\xe6\\x99\\xae\\xe9\\x80\\x9a,2.6,0.85,0.7,23,10,51,34,29,41,12,0.9,189,2020-04-19 12:00,26,47,3,121.6423,25.067131,2\\r\\n\\xe5\\x9f\\xba\\xe9\\x9a\\x86,\\xe5\\x9f\\xba\\xe9\\x9a\\x86\\xe5\\xb8\\x82,70,\\xe7\\xb4\\xb0\\xe6\\x87\\xb8\\xe6\\xb5\\xae\\xe5\\xbe\\xae\\xe7\\xb2\\x92,\\xe6\\x99\\xae\\xe9\\x80\\x9a,3.1,0.45,0.5,22,18,43,22,19,27,8.4,1,41,2020-04-19 12:00,23,36,1,121.760056,25.129167,1\\r\\n'\n"
     ]
    }
   ],
   "source": [
    "import urllib3\n",
    "import certifi\n",
    "import csv\n",
    "\n",
    "CSV_URL = \"https://opendata.epa.gov.tw/api/v1/AQI?%24skip=0&%24top=1000&%24format=csv\"\n",
    "http = urllib3.PoolManager(cert_reqs='CERT_REQUIRED',ca_certs=certifi.where())\n",
    "response = http.request('GET',CSV_URL)\n",
    "if response.status == 200:\n",
    "    #下載的資料存檔\n",
    "    with open('空氣品質指標.csv','wb') as f:\n",
    "        f.write(response.data)\n",
    "        f.close()\n",
    "        print('下載,存檔完成')\n",
    "        \n",
    "else:\n",
    "    print('下載失敗')\n"
   ]
  },
  {
   "cell_type": "code",
   "execution_count": null,
   "metadata": {},
   "outputs": [],
   "source": []
  }
 ],
 "metadata": {
  "kernelspec": {
   "display_name": "Python 3",
   "language": "python",
   "name": "python3"
  },
  "language_info": {
   "codemirror_mode": {
    "name": "ipython",
    "version": 3
   },
   "file_extension": ".py",
   "mimetype": "text/x-python",
   "name": "python",
   "nbconvert_exporter": "python",
   "pygments_lexer": "ipython3",
   "version": "3.7.4"
  }
 },
 "nbformat": 4,
 "nbformat_minor": 2
}

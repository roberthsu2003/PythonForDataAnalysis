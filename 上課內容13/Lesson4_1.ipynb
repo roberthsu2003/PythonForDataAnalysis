{
 "cells": [
  {
   "cell_type": "code",
   "execution_count": 1,
   "id": "0a8dea36",
   "metadata": {},
   "outputs": [
    {
     "name": "stdout",
     "output_type": "stream",
     "text": [
      "love\n",
      "love\n",
      "love\n",
      "love\n",
      "love\n",
      "love\n"
     ]
    }
   ],
   "source": [
    "#迴圈loop，明確知道要執行幾次for...in...，不知道要執行幾次while\n",
    "x=6\n",
    "while x>0:\n",
    "    print(\"love\")\n",
    "    x-=1\n",
    "    "
   ]
  },
  {
   "cell_type": "code",
   "execution_count": 2,
   "id": "b8feb755",
   "metadata": {},
   "outputs": [
    {
     "name": "stdout",
     "output_type": "stream",
     "text": [
      "請輸入第1個月的存款:99999\n",
      "恭喜!已經存夠了，存了 1 個月的總存款為 99999 元\n"
     ]
    }
   ],
   "source": [
    "b=0\n",
    "num=0\n",
    "while b<30000:\n",
    "    num+=1\n",
    "    x=int(input(\"請輸入第\"+str(num)+\"個月的存款:\"))\n",
    "    b+=x\n",
    "print(\"恭喜!已經存夠了，存了\",num,\"個月的總存款為\", b,\"元\")"
   ]
  },
  {
   "cell_type": "code",
   "execution_count": 3,
   "id": "9b0e7010",
   "metadata": {},
   "outputs": [
    {
     "name": "stdout",
     "output_type": "stream",
     "text": [
      "請輸入第1學生的成績99\n",
      "請輸入第2學生的成績-6\n",
      "全班總成績為: 99 平均分數為 99.0\n"
     ]
    }
   ],
   "source": [
    "sum=0\n",
    "num=0\n",
    "while True:\n",
    "    num+=1\n",
    "    score=int(input(\"請輸入第\"+str(num)+\"學生的成績\"))\n",
    "    if score<0:\n",
    "        break\n",
    "    sum+=score\n",
    "print(\"全班總成績為:\",sum,\"平均分數為\",sum/(num-1))"
   ]
  },
  {
   "cell_type": "code",
   "execution_count": 4,
   "id": "651b2030",
   "metadata": {},
   "outputs": [
    {
     "name": "stdout",
     "output_type": "stream",
     "text": [
      "輸入第1個數字-9\n",
      "所有輸入的正偶數加總為 0\n"
     ]
    }
   ],
   "source": [
    "sum=0\n",
    "num=0\n",
    "while True:\n",
    "    num+=1\n",
    "    x=int(input(\"輸入第\"+str(num)+\"個數字\"))\n",
    "    if x<0:\n",
    "            break\n",
    "    elif x&2==1:\n",
    "            continue\n",
    "    sum+=x\n",
    "print(\"所有輸入的正偶數加總為\",sum)"
   ]
  },
  {
   "cell_type": "code",
   "execution_count": 5,
   "id": "c77294a3",
   "metadata": {},
   "outputs": [],
   "source": [
    "#for 自訂變數 in range(a,b,c): a=起始, b=最後(不包含) c=間隔"
   ]
  },
  {
   "cell_type": "code",
   "execution_count": 6,
   "id": "32d5e354",
   "metadata": {},
   "outputs": [
    {
     "data": {
      "text/plain": [
       "'國文:80.6875,英文:70.2453,數學:90.08786'"
      ]
     },
     "execution_count": 6,
     "metadata": {},
     "output_type": "execute_result"
    }
   ],
   "source": [
    "#字串插補\n",
    "chinese=80.6875\n",
    "english=70.2453\n",
    "math=90.08786\n",
    "f\"國文:{chinese},英文:{english},數學:{math}\""
   ]
  },
  {
   "cell_type": "code",
   "execution_count": 9,
   "id": "a8c66bb0",
   "metadata": {},
   "outputs": [
    {
     "data": {
      "text/plain": [
       "'國文:80.69,英文:70.245,數學:90.09'"
      ]
     },
     "execution_count": 9,
     "metadata": {},
     "output_type": "execute_result"
    }
   ],
   "source": [
    "#format()\n",
    "chinese=80.6875\n",
    "english=70.2453\n",
    "math=90.08786\n",
    "\"國文:{0:.2f},英文:{1:.3f},數學:{2:.2f}\".format(chinese,english,math)"
   ]
  },
  {
   "cell_type": "code",
   "execution_count": null,
   "id": "3afe67f5",
   "metadata": {},
   "outputs": [],
   "source": []
  }
 ],
 "metadata": {
  "kernelspec": {
   "display_name": "Python 3 (ipykernel)",
   "language": "python",
   "name": "python3"
  },
  "language_info": {
   "codemirror_mode": {
    "name": "ipython",
    "version": 3
   },
   "file_extension": ".py",
   "mimetype": "text/x-python",
   "name": "python",
   "nbconvert_exporter": "python",
   "pygments_lexer": "ipython3",
   "version": "3.8.7"
  }
 },
 "nbformat": 4,
 "nbformat_minor": 5
}

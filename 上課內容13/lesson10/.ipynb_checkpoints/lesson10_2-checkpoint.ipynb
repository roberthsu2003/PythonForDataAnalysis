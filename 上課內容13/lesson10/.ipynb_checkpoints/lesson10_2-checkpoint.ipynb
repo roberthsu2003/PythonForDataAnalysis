{
 "cells": [
  {
   "cell_type": "code",
   "execution_count": 15,
   "id": "701642f0",
   "metadata": {},
   "outputs": [],
   "source": [
    "import csv\n",
    "\n",
    "with open(\"各鄉鎮市區人口密度.csv\",mode='r',encoding=\"utf-8\") as file:\n",
    "    next(file)\n",
    "    next(file)    \n",
    "    rows = csv.reader(file)\n",
    "    '''\n",
    "    locations = dict()\n",
    "    for row in rows:\n",
    "        if 5 <= len(row[1]) <= 8:\n",
    "            print(f\"{row[1]}的人口數是{row[2]}\")\n",
    "            locations[row[1]] = int(row[2])\n",
    "    '''\n",
    "    locations = {row[1]:int(row[2]) for row in rows if 5 <= len(row[1]) <= 8}    \n",
    "        \n",
    "    "
   ]
  },
  {
   "cell_type": "code",
   "execution_count": 21,
   "id": "13f98a41",
   "metadata": {},
   "outputs": [
    {
     "data": {
      "text/plain": [
       "新北市板橋區    551480\n",
       "新北市三重區    387484\n",
       "新北市中和區    413590\n",
       "新北市永和區    222585\n",
       "新北市新莊區    416524\n",
       "新北市新店區    302089\n",
       "新北市土城區    238067\n",
       "新北市蘆洲區    201309\n",
       "臺北市松山區    206988\n",
       "臺北市信義區    225753\n",
       "臺北市大安區    309969\n",
       "臺北市中山區    230710\n",
       "臺北市文山區    274424\n",
       "臺北市內湖區    287771\n",
       "臺北市士林區    288295\n",
       "臺北市北投區    256456\n",
       "桃園市桃園區    440840\n",
       "桃園市中壢區    405216\n",
       "桃園市平鎮區    224219\n",
       "臺中市西屯區    227043\n",
       "臺中市北屯區    274819\n",
       "臺中市大里區    211492\n",
       "臺南市永康區    233905\n",
       "高雄市三民區    343243\n",
       "高雄市鳳山區    359120\n",
       "彰化縣彰化市    233613\n",
       "屏東縣屏東市    200452\n",
       "新竹市東區     212553\n",
       "dtype: int64"
      ]
     },
     "execution_count": 21,
     "metadata": {},
     "output_type": "execute_result"
    }
   ],
   "source": [
    "import pandas as pd\n",
    "obj1 = pd.Series(locations)\n",
    "obj1[obj1>=200000]"
   ]
  },
  {
   "cell_type": "code",
   "execution_count": 25,
   "id": "5e8bf3ea",
   "metadata": {},
   "outputs": [
    {
     "name": "stdout",
     "output_type": "stream",
     "text": [
      "存檔完成\n"
     ]
    }
   ],
   "source": [
    "with open('new.csv',mode='w',encoding=\"utf-8\" ) as file:\n",
    "    obj1.to_csv(file,index_label=['區','人口數量'])\n",
    "    print(\"存檔完成\")"
   ]
  },
  {
   "cell_type": "code",
   "execution_count": null,
   "id": "1d29c8ac",
   "metadata": {},
   "outputs": [],
   "source": []
  }
 ],
 "metadata": {
  "kernelspec": {
   "display_name": "Python 3 (ipykernel)",
   "language": "python",
   "name": "python3"
  },
  "language_info": {
   "codemirror_mode": {
    "name": "ipython",
    "version": 3
   },
   "file_extension": ".py",
   "mimetype": "text/x-python",
   "name": "python",
   "nbconvert_exporter": "python",
   "pygments_lexer": "ipython3",
   "version": "3.8.7"
  }
 },
 "nbformat": 4,
 "nbformat_minor": 5
}

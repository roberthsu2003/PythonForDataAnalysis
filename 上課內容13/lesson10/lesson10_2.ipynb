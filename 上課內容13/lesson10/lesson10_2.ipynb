{
 "cells": [
  {
   "cell_type": "code",
   "execution_count": 15,
   "id": "a52f03ea",
   "metadata": {},
   "outputs": [],
   "source": [
    "import csv\n",
    "\n",
    "with open(\"各鄉鎮市區人口密度.csv\",mode='r',encoding=\"utf-8\") as file:\n",
    "    next(file)\n",
    "    next(file)    \n",
    "    rows = csv.reader(file)\n",
    "    '''\n",
    "    locations = dict()\n",
    "    for row in rows:\n",
    "        if 5 <= len(row[1]) <= 8:\n",
    "            print(f\"{row[1]}的人口數是{row[2]}\")\n",
    "            locations[row[1]] = int(row[2])\n",
    "    '''\n",
    "    locations = {row[1]:int(row[2]) for row in rows if 5 <= len(row[1]) <= 8}    \n",
    "        \n",
    "    "
   ]
  },
  {
   "cell_type": "code",
   "execution_count": 16,
   "id": "76d1d32f",
   "metadata": {},
   "outputs": [
    {
     "data": {
      "text/plain": [
       "新北市板橋區    551480\n",
       "新北市三重區    387484\n",
       "新北市中和區    413590\n",
       "新北市永和區    222585\n",
       "新北市新莊區    416524\n",
       "           ...  \n",
       "金門縣烏坵鄉       685\n",
       "連江縣南竿鄉      7544\n",
       "連江縣北竿鄉      2360\n",
       "連江縣莒光鄉      1624\n",
       "連江縣東引鄉      1352\n",
       "Length: 368, dtype: int64"
      ]
     },
     "execution_count": 16,
     "metadata": {},
     "output_type": "execute_result"
    }
   ],
   "source": [
    "import pandas as pd\n",
    "obj1 = pd.Series(locations)\n",
    "obj1"
   ]
  },
  {
   "cell_type": "code",
   "execution_count": 19,
   "id": "81c386c8",
   "metadata": {},
   "outputs": [
    {
     "data": {
      "text/plain": [
       "基隆市暖暖區     38708\n",
       "基隆市仁愛區     44314\n",
       "基隆市中山區     47908\n",
       "基隆市安樂區     82358\n",
       "基隆市信義區     52035\n",
       "新竹市東區     212553\n",
       "新竹市北區     150636\n",
       "新竹市香山區     77943\n",
       "嘉義市東區     122103\n",
       "嘉義市西區     147295\n",
       "金門縣金城鎮     43285\n",
       "金門縣金湖鎮     29413\n",
       "金門縣金沙鎮     20535\n",
       "金門縣金寧鄉     30838\n",
       "金門縣烈嶼鄉     12700\n",
       "金門縣烏坵鄉       685\n",
       "連江縣南竿鄉      7544\n",
       "連江縣北竿鄉      2360\n",
       "連江縣莒光鄉      1624\n",
       "連江縣東引鄉      1352\n",
       "dtype: int64"
      ]
     },
     "execution_count": 19,
     "metadata": {},
     "output_type": "execute_result"
    }
   ],
   "source": []
  },
  {
   "cell_type": "code",
   "execution_count": null,
   "id": "b8ccecbc",
   "metadata": {},
   "outputs": [],
   "source": []
  }
 ],
 "metadata": {
  "kernelspec": {
   "display_name": "Python 3 (ipykernel)",
   "language": "python",
   "name": "python3"
  },
  "language_info": {
   "codemirror_mode": {
    "name": "ipython",
    "version": 3
   },
   "file_extension": ".py",
   "mimetype": "text/x-python",
   "name": "python",
   "nbconvert_exporter": "python",
   "pygments_lexer": "ipython3",
   "version": "3.8.7"
  }
 },
 "nbformat": 4,
 "nbformat_minor": 5
}

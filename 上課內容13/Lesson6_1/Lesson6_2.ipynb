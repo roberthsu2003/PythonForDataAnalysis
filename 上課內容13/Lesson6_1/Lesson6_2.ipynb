{
 "cells": [
  {
   "cell_type": "code",
   "execution_count": 1,
   "id": "4c6545a7",
   "metadata": {},
   "outputs": [],
   "source": [
    "def no_nothing():\n",
    "    pass\n",
    "no_nothing()"
   ]
  },
  {
   "cell_type": "code",
   "execution_count": 2,
   "id": "90f21d7c",
   "metadata": {},
   "outputs": [
    {
     "name": "stdout",
     "output_type": "stream",
     "text": [
      "7\n"
     ]
    }
   ],
   "source": [
    "#有參數沒有傳出值\n",
    "def func_sum(a,b):\n",
    "    c=a+b\n",
    "    print(c)\n",
    "func_sum(3,4)"
   ]
  },
  {
   "cell_type": "code",
   "execution_count": 4,
   "id": "348384a6",
   "metadata": {},
   "outputs": [
    {
     "name": "stdout",
     "output_type": "stream",
     "text": [
      "7\n"
     ]
    }
   ],
   "source": [
    "#有參數也有傳出值\n",
    "def func_sum(a,b):\n",
    "    c=a+b\n",
    "    return c\n",
    "  \n",
    "sum=func_sum(3,4)\n",
    "print(sum)"
   ]
  },
  {
   "cell_type": "code",
   "execution_count": 5,
   "id": "ac61fb65",
   "metadata": {},
   "outputs": [
    {
     "name": "stdout",
     "output_type": "stream",
     "text": [
      "請輸入攝氏溫度:77\n",
      "華氏溫度170.6\n",
      "程式還要繼續嗎?(輸入N...結束):N\n",
      "程式結束\n"
     ]
    }
   ],
   "source": [
    "def temperature(value):\n",
    "    return 1.8 * value + 32\n",
    "\n",
    "while(True):\n",
    "    value = int(input('請輸入攝氏溫度:'))\n",
    "    result = temperature(value)\n",
    "    print(f'華氏溫度{result}')\n",
    "    \n",
    "    inputValue = input('程式還要繼續嗎?(輸入N...結束):')\n",
    "    if inputValue == 'N':\n",
    "        break;\n",
    "    \n",
    "print(\"程式結束\")"
   ]
  },
  {
   "cell_type": "code",
   "execution_count": null,
   "id": "bd1e7bd0",
   "metadata": {},
   "outputs": [],
   "source": []
  }
 ],
 "metadata": {
  "kernelspec": {
   "display_name": "Python 3 (ipykernel)",
   "language": "python",
   "name": "python3"
  },
  "language_info": {
   "codemirror_mode": {
    "name": "ipython",
    "version": 3
   },
   "file_extension": ".py",
   "mimetype": "text/x-python",
   "name": "python",
   "nbconvert_exporter": "python",
   "pygments_lexer": "ipython3",
   "version": "3.8.7"
  }
 },
 "nbformat": 4,
 "nbformat_minor": 5
}

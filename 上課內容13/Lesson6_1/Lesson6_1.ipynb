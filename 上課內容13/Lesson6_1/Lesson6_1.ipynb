{
 "cells": [
  {
   "cell_type": "code",
   "execution_count": 2,
   "id": "92b2acfc",
   "metadata": {},
   "outputs": [
    {
     "data": {
      "text/plain": [
       "False"
      ]
     },
     "execution_count": 2,
     "metadata": {},
     "output_type": "execute_result"
    }
   ],
   "source": [
    "list1=[10,9,8,7]\n",
    "6 in list1"
   ]
  },
  {
   "cell_type": "code",
   "execution_count": 3,
   "id": "e3fdf279",
   "metadata": {},
   "outputs": [
    {
     "data": {
      "text/plain": [
       "True"
      ]
     },
     "execution_count": 3,
     "metadata": {},
     "output_type": "execute_result"
    }
   ],
   "source": [
    "dict1={\"a\":100, \"b\":200,\"c\":300}\n",
    "\"a\" in dict1"
   ]
  },
  {
   "cell_type": "code",
   "execution_count": 11,
   "id": "86617058",
   "metadata": {},
   "outputs": [
    {
     "data": {
      "text/plain": [
       "False"
      ]
     },
     "execution_count": 11,
     "metadata": {},
     "output_type": "execute_result"
    }
   ],
   "source": [
    "dict1={\"a\":100, \"b\":200,\"c\":300}\n",
    "del dict1[\"a\"]\n",
    "\"a\" in dict1"
   ]
  },
  {
   "cell_type": "code",
   "execution_count": 15,
   "id": "8c550e81",
   "metadata": {},
   "outputs": [
    {
     "data": {
      "text/plain": [
       "200"
      ]
     },
     "execution_count": 15,
     "metadata": {},
     "output_type": "execute_result"
    }
   ],
   "source": [
    "dict1={\"a\":100, \"b\":200,\"c\":300}\n",
    "dict1[\"b\"]"
   ]
  },
  {
   "cell_type": "code",
   "execution_count": 19,
   "id": "2a82394d",
   "metadata": {},
   "outputs": [
    {
     "data": {
      "text/plain": [
       "dict_items([('a', 100), ('b', 200), ('c', 300)])"
      ]
     },
     "execution_count": 19,
     "metadata": {},
     "output_type": "execute_result"
    }
   ],
   "source": [
    "#實體的屬性/方法\n",
    "dict1={\"a\":100, \"b\":200,\"c\":300}\n",
    "#keys()\n",
    "#values()\n",
    "#items()\n",
    "dict1.keys()\n",
    "dict1.items()"
   ]
  },
  {
   "cell_type": "code",
   "execution_count": 28,
   "id": "7ee4d75c",
   "metadata": {},
   "outputs": [
    {
     "name": "stdout",
     "output_type": "stream",
     "text": [
      "顏色是:a,行為:100\n",
      "顏色是:b,行為:200\n",
      "顏色是:c,行為:300\n"
     ]
    }
   ],
   "source": [
    "dict1={\"a\":100, \"b\":200,\"c\":300}\n",
    "for color,action in dict1.items():\n",
    "    print(f\"顏色是:{color},行為:{action}\")"
   ]
  },
  {
   "cell_type": "code",
   "execution_count": 31,
   "id": "5ef590bb",
   "metadata": {},
   "outputs": [
    {
     "data": {
      "text/plain": [
       "{1, 2, 3, 4, 5, 6, 7, 8, 9}"
      ]
     },
     "execution_count": 31,
     "metadata": {},
     "output_type": "execute_result"
    }
   ],
   "source": [
    "x={1,2,3,4,5,6,7,8,8,9}\n",
    "x"
   ]
  },
  {
   "cell_type": "code",
   "execution_count": 33,
   "id": "623caefc",
   "metadata": {},
   "outputs": [
    {
     "data": {
      "text/plain": [
       "{'a', 'l', 'n'}"
      ]
     },
     "execution_count": 33,
     "metadata": {},
     "output_type": "execute_result"
    }
   ],
   "source": [
    "set('alan')"
   ]
  },
  {
   "cell_type": "code",
   "execution_count": 39,
   "id": "dfa09c68",
   "metadata": {},
   "outputs": [
    {
     "name": "stdout",
     "output_type": "stream",
     "text": [
      "本期大樂透電腦選號如下\n",
      "35 37 8 40 10 42 \n",
      "特別號為16\n"
     ]
    }
   ],
   "source": [
    "import random\n",
    "lot=set()\n",
    "while len(lot)<7:\n",
    "    randomValue=random.randint(1,49)\n",
    "    lot.add(randomValue)\n",
    "print(\"本期大樂透電腦選號如下\")\n",
    "lotList=list(lot)\n",
    "for num in lotList[:-1]:\n",
    "    print(num, end=\" \")\n",
    "print()\n",
    "print(f\"特別號為{lotList[-1]}\")"
   ]
  },
  {
   "cell_type": "code",
   "execution_count": 55,
   "id": "c81b2a4c",
   "metadata": {},
   "outputs": [
    {
     "name": "stdout",
     "output_type": "stream",
     "text": [
      "本期大樂透電腦選號如下\n",
      "9 48 19 21 23 26 \n",
      "特別號為31\n"
     ]
    }
   ],
   "source": [
    "def lotGenerator():\n",
    "    import random\n",
    "    lot=set()\n",
    "    while len(lot)<7:\n",
    "        randomValue=random.randint(1,49)\n",
    "        lot.add(randomValue)\n",
    "    print(\"本期大樂透電腦選號如下\")\n",
    "    lotList=list(lot)\n",
    "    for num in lotList[:-1]:\n",
    "        print(num, end=\" \")\n",
    "    print()\n",
    "    print(f\"特別號為{lotList[-1]}\")\n",
    "lotGenerator()"
   ]
  },
  {
   "cell_type": "code",
   "execution_count": 56,
   "id": "4978d5e1",
   "metadata": {},
   "outputs": [
    {
     "name": "stdout",
     "output_type": "stream",
     "text": [
      "請輸入要產生的組數:1\n",
      "第1組:\n",
      "本期大樂透電腦選號如下\n",
      "33 35 36 3 40 44 \n",
      "特別號為29\n",
      "\n"
     ]
    }
   ],
   "source": [
    "nums = int(input('請輸入要產生的組數:'))\n",
    "for n in range(nums):\n",
    "    print(f\"第{n+1}組:\")\n",
    "    lotGenerator()\n",
    "    print()"
   ]
  },
  {
   "cell_type": "code",
   "execution_count": null,
   "id": "9e5e7f76",
   "metadata": {},
   "outputs": [],
   "source": []
  }
 ],
 "metadata": {
  "kernelspec": {
   "display_name": "Python 3 (ipykernel)",
   "language": "python",
   "name": "python3"
  },
  "language_info": {
   "codemirror_mode": {
    "name": "ipython",
    "version": 3
   },
   "file_extension": ".py",
   "mimetype": "text/x-python",
   "name": "python",
   "nbconvert_exporter": "python",
   "pygments_lexer": "ipython3",
   "version": "3.8.7"
  }
 },
 "nbformat": 4,
 "nbformat_minor": 5
}

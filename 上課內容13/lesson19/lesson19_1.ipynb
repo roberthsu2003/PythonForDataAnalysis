{
 "cells": [
  {
   "cell_type": "code",
   "execution_count": 2,
   "id": "0b29476b",
   "metadata": {},
   "outputs": [
    {
     "data": {
      "text/plain": [
       "縣市  年度  \n",
       "台北  2019    33871648\n",
       "    2020    37253956\n",
       "台中  2019    18976457\n",
       "    2020    19378102\n",
       "台南  2019    20851820\n",
       "    2020    25145561\n",
       "dtype: int64"
      ]
     },
     "execution_count": 2,
     "metadata": {},
     "output_type": "execute_result"
    }
   ],
   "source": [
    "import numpy as np\n",
    "import pandas as pd\n",
    "\n",
    "index = [('台北', 2019), ('台北', 2020),\n",
    "         ('台中', 2019), ('台中', 2020),\n",
    "         ('台南', 2019), ('台南', 2020)]\n",
    "\n",
    "populations = [33871648, 37253956,\n",
    "               18976457, 19378102,\n",
    "               20851820, 25145561]\n",
    "\n",
    "multiIndex = pd.MultiIndex.from_tuples(index, names=['縣市','年度'])\n",
    "\n",
    "pop=pd.Series(populations, index=multiIndex)\n",
    "pop"
   ]
  },
  {
   "cell_type": "code",
   "execution_count": 4,
   "id": "1d2f19ad",
   "metadata": {},
   "outputs": [
    {
     "data": {
      "text/html": [
       "<div>\n",
       "<style scoped>\n",
       "    .dataframe tbody tr th:only-of-type {\n",
       "        vertical-align: middle;\n",
       "    }\n",
       "\n",
       "    .dataframe tbody tr th {\n",
       "        vertical-align: top;\n",
       "    }\n",
       "\n",
       "    .dataframe thead th {\n",
       "        text-align: right;\n",
       "    }\n",
       "</style>\n",
       "<table border=\"1\" class=\"dataframe\">\n",
       "  <thead>\n",
       "    <tr style=\"text-align: right;\">\n",
       "      <th>年度</th>\n",
       "      <th>2019</th>\n",
       "      <th>2020</th>\n",
       "    </tr>\n",
       "    <tr>\n",
       "      <th>縣市</th>\n",
       "      <th></th>\n",
       "      <th></th>\n",
       "    </tr>\n",
       "  </thead>\n",
       "  <tbody>\n",
       "    <tr>\n",
       "      <th>台中</th>\n",
       "      <td>18976457</td>\n",
       "      <td>19378102</td>\n",
       "    </tr>\n",
       "    <tr>\n",
       "      <th>台北</th>\n",
       "      <td>33871648</td>\n",
       "      <td>37253956</td>\n",
       "    </tr>\n",
       "    <tr>\n",
       "      <th>台南</th>\n",
       "      <td>20851820</td>\n",
       "      <td>25145561</td>\n",
       "    </tr>\n",
       "  </tbody>\n",
       "</table>\n",
       "</div>"
      ],
      "text/plain": [
       "年度      2019      2020\n",
       "縣市                    \n",
       "台中  18976457  19378102\n",
       "台北  33871648  37253956\n",
       "台南  20851820  25145561"
      ]
     },
     "execution_count": 4,
     "metadata": {},
     "output_type": "execute_result"
    }
   ],
   "source": [
    "pop_df=pop.unstack()\n",
    "pop_df"
   ]
  },
  {
   "cell_type": "code",
   "execution_count": 44,
   "id": "9ea0d400",
   "metadata": {},
   "outputs": [
    {
     "name": "stderr",
     "output_type": "stream",
     "text": [
      "/var/folders/sc/qdlfmrjj53d2nb74qg378bq00000gn/T/ipykernel_1510/1083608964.py:14: UserWarning: FixedFormatter should only be used together with FixedLocator\n",
      "  ax1.set_yticklabels(['0','5佰萬','1仟萬','1仟5佰萬','2仟萬','2仟5佰萬','3仟萬','3仟5佰萬'],fontproperties=font)\n"
     ]
    },
    {
     "data": {
      "image/png": "[encoded data removed]",
      "text/plain": [
       "<Figure size 432x288 with 1 Axes>"
      ]
     },
     "metadata": {
      "needs_background": "light"
     },
     "output_type": "display_data"
    }
   ],
   "source": [
    "from matplotlib.font_manager import FontProperties\n",
    "import matplotlib.pyplot as plt\n",
    "\n",
    "#建立中文字型的font實體\n",
    "font = FontProperties(fname='/Library/Fonts/Arial Unicode.ttf',size=12) #mac使用者\n",
    "# font = FontProperties(fname=r'c:\\windows\\fonts\\simsun.ttc',size=8) #window使用者\n",
    "\n",
    "figure, ax1 = plt.subplots(1,1)\n",
    "pop_df.plot(kind='bar',ax=ax1,color=['r','g'])\n",
    "ax1.set_xticklabels(pop_df.index,fontproperties=font,rotation='horizontal')\n",
    "ax1.set_xlabel('縣市',fontproperties=font)\n",
    "ax1.set_ylabel('人口',fontproperties=font)\n",
    "ax1.legend(['2019','2020'],prop=font)\n",
    "ax1.set_yticklabels(['0','5佰萬','1仟萬','1仟5佰萬','2仟萬','2仟5佰萬','3仟萬','3仟5佰萬'],fontproperties=font)\n",
    "ax1.set_title('2019,2020城市人口', fontproperties=font)\n",
    "i=0\n",
    "addHeight = 0\n",
    "for p in ax1.patches:\n",
    "    i += 1\n",
    "    if i == 4:\n",
    "        addHeight = 2000000\n",
    "    else:\n",
    "        addHeight = 0\n",
    "    \n",
    "    width,height = p.get_width(), p.get_height()\n",
    "    x,y = p.get_xy()\n",
    "    ax1.annotate(f'{height}', (x +width/2-width, y+height+1000000+addHeight),fontproperties=font)"
   ]
  },
  {
   "cell_type": "code",
   "execution_count": null,
   "id": "1c13400d",
   "metadata": {},
   "outputs": [],
   "source": []
  }
 ],
 "metadata": {
  "kernelspec": {
   "display_name": "Python 3 (ipykernel)",
   "language": "python",
   "name": "python3"
  },
  "language_info": {
   "codemirror_mode": {
    "name": "ipython",
    "version": 3
   },
   "file_extension": ".py",
   "mimetype": "text/x-python",
   "name": "python",
   "nbconvert_exporter": "python",
   "pygments_lexer": "ipython3",
   "version": "3.8.7"
  }
 },
 "nbformat": 4,
 "nbformat_minor": 5
}

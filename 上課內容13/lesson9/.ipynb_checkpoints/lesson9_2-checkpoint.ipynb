{
 "cells": [
  {
   "cell_type": "code",
   "execution_count": 1,
   "id": "bdd531e0",
   "metadata": {},
   "outputs": [
    {
     "name": "stdout",
     "output_type": "stream",
     "text": [
      "chinese [86, 92, 88, 86, 71, 77, 90, 97, 78, 78, 84, 62, 92, 75, 66, 68, 77, 89, 65, 86, 91, 61, 95, 64, 86, 81, 83, 98, 79, 82, 94, 87, 60, 63, 69, 82, 93, 97, 74, 90, 73, 80, 64, 65, 93, 99, 77, 91, 87, 74]\n",
      "english [84, 71, 75, 62, 66, 75, 96, 81, 88, 90, 100, 61, 94, 63, 88, 69, 90, 87, 76, 88, 96, 62, 90, 90, 96, 85, 78, 75, 65, 95, 77, 80, 70, 98, 84, 74, 68, 67, 62, 82, 62, 90, 69, 67, 71, 69, 89, 80, 68, 69]\n"
     ]
    }
   ],
   "source": [
    "#建立50位學生的中文和英文的分數\n",
    "import random\n",
    "chinese = [random.randint(60,100) for _ in range(50)]\n",
    "english = [random.randint(60,100) for _ in range(50)]\n",
    "print('chinese',chinese)\n",
    "print('english',english)"
   ]
  },
  {
   "cell_type": "code",
   "execution_count": 3,
   "id": "3ab0470a",
   "metadata": {},
   "outputs": [
    {
     "name": "stdout",
     "output_type": "stream",
     "text": [
      "[170, 163, 163, 148, 137, 152, 186, 178, 166, 168, 184, 123, 186, 138, 154, 137, 167, 176, 141, 174, 187, 123, 185, 154, 182, 166, 161, 173, 144, 177, 171, 167, 130, 161, 153, 156, 161, 164, 136, 172, 135, 170, 133, 132, 164, 168, 166, 171, 155, 143]\n"
     ]
    }
   ],
   "source": [
    "results = [chinese[i]+english[i] for i in range(50)]\n",
    "print(results)"
   ]
  },
  {
   "cell_type": "code",
   "execution_count": 5,
   "id": "b615e16f",
   "metadata": {},
   "outputs": [
    {
     "name": "stdout",
     "output_type": "stream",
     "text": [
      "<class 'numpy.ndarray'>\n",
      "<class 'numpy.ndarray'>\n"
     ]
    }
   ],
   "source": [
    "import numpy as np\n",
    "ndChinese = np.array(chinese)\n",
    "print(ndChinese.__class__)\n",
    "ndEnglish = np.array(english)\n",
    "print(ndChinese.__class__)"
   ]
  },
  {
   "cell_type": "code",
   "execution_count": 6,
   "id": "252ed14d",
   "metadata": {},
   "outputs": [
    {
     "data": {
      "text/plain": [
       "array([170, 163, 163, 148, 137, 152, 186, 178, 166, 168, 184, 123, 186,\n",
       "       138, 154, 137, 167, 176, 141, 174, 187, 123, 185, 154, 182, 166,\n",
       "       161, 173, 144, 177, 171, 167, 130, 161, 153, 156, 161, 164, 136,\n",
       "       172, 135, 170, 133, 132, 164, 168, 166, 171, 155, 143])"
      ]
     },
     "execution_count": 6,
     "metadata": {},
     "output_type": "execute_result"
    }
   ],
   "source": [
    "ndChinese + ndEnglish"
   ]
  },
  {
   "cell_type": "code",
   "execution_count": 7,
   "id": "d95b7a70",
   "metadata": {},
   "outputs": [
    {
     "data": {
      "text/plain": [
       "array([[1, 2, 3],\n",
       "       [4, 5, 6]])"
      ]
     },
     "execution_count": 7,
     "metadata": {},
     "output_type": "execute_result"
    }
   ],
   "source": [
    "import numpy as np\n",
    "lis = [[1,2,3],[4,5,6]]\n",
    "nda = np.array(lis)\n",
    "nda"
   ]
  },
  {
   "cell_type": "code",
   "execution_count": 8,
   "id": "7c11c9f2",
   "metadata": {},
   "outputs": [
    {
     "data": {
      "text/plain": [
       "2"
      ]
     },
     "execution_count": 8,
     "metadata": {},
     "output_type": "execute_result"
    }
   ],
   "source": [
    "nda.ndim"
   ]
  },
  {
   "cell_type": "code",
   "execution_count": 9,
   "id": "1e641eff",
   "metadata": {},
   "outputs": [
    {
     "data": {
      "text/plain": [
       "(2, 3)"
      ]
     },
     "execution_count": 9,
     "metadata": {},
     "output_type": "execute_result"
    }
   ],
   "source": [
    "nda.shape"
   ]
  },
  {
   "cell_type": "code",
   "execution_count": 10,
   "id": "8baae9fb",
   "metadata": {},
   "outputs": [
    {
     "data": {
      "text/plain": [
       "6"
      ]
     },
     "execution_count": 10,
     "metadata": {},
     "output_type": "execute_result"
    }
   ],
   "source": [
    "nda.size"
   ]
  },
  {
   "cell_type": "code",
   "execution_count": 11,
   "id": "cf0b783d",
   "metadata": {},
   "outputs": [
    {
     "data": {
      "text/plain": [
       "dtype('int64')"
      ]
     },
     "execution_count": 11,
     "metadata": {},
     "output_type": "execute_result"
    }
   ],
   "source": [
    "nda.dtype"
   ]
  },
  {
   "cell_type": "code",
   "execution_count": null,
   "id": "9f8b812e",
   "metadata": {},
   "outputs": [],
   "source": []
  }
 ],
 "metadata": {
  "kernelspec": {
   "display_name": "Python 3 (ipykernel)",
   "language": "python",
   "name": "python3"
  },
  "language_info": {
   "codemirror_mode": {
    "name": "ipython",
    "version": 3
   },
   "file_extension": ".py",
   "mimetype": "text/x-python",
   "name": "python",
   "nbconvert_exporter": "python",
   "pygments_lexer": "ipython3",
   "version": "3.8.7"
  }
 },
 "nbformat": 4,
 "nbformat_minor": 5
}

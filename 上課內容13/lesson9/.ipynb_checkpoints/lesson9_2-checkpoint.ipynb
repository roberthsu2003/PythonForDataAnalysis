{
 "cells": [
  {
   "cell_type": "code",
   "execution_count": 1,
   "id": "f8c7a5c7",
   "metadata": {},
   "outputs": [
    {
     "name": "stdout",
     "output_type": "stream",
     "text": [
      "chinese [86, 92, 88, 86, 71, 77, 90, 97, 78, 78, 84, 62, 92, 75, 66, 68, 77, 89, 65, 86, 91, 61, 95, 64, 86, 81, 83, 98, 79, 82, 94, 87, 60, 63, 69, 82, 93, 97, 74, 90, 73, 80, 64, 65, 93, 99, 77, 91, 87, 74]\n",
      "english [84, 71, 75, 62, 66, 75, 96, 81, 88, 90, 100, 61, 94, 63, 88, 69, 90, 87, 76, 88, 96, 62, 90, 90, 96, 85, 78, 75, 65, 95, 77, 80, 70, 98, 84, 74, 68, 67, 62, 82, 62, 90, 69, 67, 71, 69, 89, 80, 68, 69]\n"
     ]
    }
   ],
   "source": [
    "#建立50位學生的中文和英文的分數\n",
    "import random\n",
    "chinese = [random.randint(60,100) for _ in range(50)]\n",
    "english = [random.randint(60,100) for _ in range(50)]\n",
    "print('chinese',chinese)\n",
    "print('english',english)"
   ]
  },
  {
   "cell_type": "code",
   "execution_count": 3,
   "id": "2c37b602",
   "metadata": {},
   "outputs": [
    {
     "name": "stdout",
     "output_type": "stream",
     "text": [
      "[170, 163, 163, 148, 137, 152, 186, 178, 166, 168, 184, 123, 186, 138, 154, 137, 167, 176, 141, 174, 187, 123, 185, 154, 182, 166, 161, 173, 144, 177, 171, 167, 130, 161, 153, 156, 161, 164, 136, 172, 135, 170, 133, 132, 164, 168, 166, 171, 155, 143]\n"
     ]
    }
   ],
   "source": [
    "results = [chinese[i]+english[i] for i in range(50)]\n",
    "print(results)"
   ]
  },
  {
   "cell_type": "code",
   "execution_count": 5,
   "id": "2bb1fd72",
   "metadata": {},
   "outputs": [
    {
     "name": "stdout",
     "output_type": "stream",
     "text": [
      "<class 'numpy.ndarray'>\n",
      "<class 'numpy.ndarray'>\n"
     ]
    }
   ],
   "source": [
    "import numpy as np\n",
    "ndChinese = np.array(chinese)\n",
    "print(ndChinese.__class__)\n",
    "ndEnglish = np.array(english)\n",
    "print(ndChinese.__class__)"
   ]
  },
  {
   "cell_type": "code",
   "execution_count": 6,
   "id": "f4b785ca",
   "metadata": {},
   "outputs": [
    {
     "data": {
      "text/plain": [
       "array([170, 163, 163, 148, 137, 152, 186, 178, 166, 168, 184, 123, 186,\n",
       "       138, 154, 137, 167, 176, 141, 174, 187, 123, 185, 154, 182, 166,\n",
       "       161, 173, 144, 177, 171, 167, 130, 161, 153, 156, 161, 164, 136,\n",
       "       172, 135, 170, 133, 132, 164, 168, 166, 171, 155, 143])"
      ]
     },
     "execution_count": 6,
     "metadata": {},
     "output_type": "execute_result"
    }
   ],
   "source": [
    "ndChinese + ndEnglish"
   ]
  },
  {
   "cell_type": "code",
   "execution_count": 7,
   "id": "bd18081d",
   "metadata": {},
   "outputs": [
    {
     "data": {
      "text/plain": [
       "array([[1, 2, 3],\n",
       "       [4, 5, 6]])"
      ]
     },
     "execution_count": 7,
     "metadata": {},
     "output_type": "execute_result"
    }
   ],
   "source": [
    "import numpy as np\n",
    "lis = [[1,2,3],[4,5,6]]\n",
    "nda = np.array(lis)\n",
    "nda"
   ]
  },
  {
   "cell_type": "code",
   "execution_count": 8,
   "id": "045e9faf",
   "metadata": {},
   "outputs": [
    {
     "data": {
      "text/plain": [
       "2"
      ]
     },
     "execution_count": 8,
     "metadata": {},
     "output_type": "execute_result"
    }
   ],
   "source": [
    "nda.ndim"
   ]
  },
  {
   "cell_type": "code",
   "execution_count": 9,
   "id": "db800b55",
   "metadata": {},
   "outputs": [
    {
     "data": {
      "text/plain": [
       "(2, 3)"
      ]
     },
     "execution_count": 9,
     "metadata": {},
     "output_type": "execute_result"
    }
   ],
   "source": [
    "nda.shape"
   ]
  },
  {
   "cell_type": "code",
   "execution_count": 10,
   "id": "235694ac",
   "metadata": {},
   "outputs": [
    {
     "data": {
      "text/plain": [
       "6"
      ]
     },
     "execution_count": 10,
     "metadata": {},
     "output_type": "execute_result"
    }
   ],
   "source": [
    "nda.size"
   ]
  },
  {
   "cell_type": "code",
   "execution_count": 11,
   "id": "275e96a9",
   "metadata": {},
   "outputs": [
    {
     "data": {
      "text/plain": [
       "dtype('int64')"
      ]
     },
     "execution_count": 11,
     "metadata": {},
     "output_type": "execute_result"
    }
   ],
   "source": [
    "nda.dtype"
   ]
  },
  {
   "cell_type": "code",
   "execution_count": 14,
   "id": "1c5715fc",
   "metadata": {},
   "outputs": [
    {
     "data": {
      "text/plain": [
       "array([[ 0.83746173, -0.25547397,  0.10641552],\n",
       "       [ 0.21518012, -0.20313292, -0.87770629]])"
      ]
     },
     "execution_count": 14,
     "metadata": {},
     "output_type": "execute_result"
    }
   ],
   "source": [
    "data = np.random.randn(2, 3)\n",
    "data"
   ]
  },
  {
   "cell_type": "code",
   "execution_count": 16,
   "id": "67e31363",
   "metadata": {},
   "outputs": [
    {
     "data": {
      "text/plain": [
       "array([[ 8.37461735, -2.55473966,  1.06415521],\n",
       "       [ 2.15180117, -2.0313292 , -8.77706294]])"
      ]
     },
     "execution_count": 16,
     "metadata": {},
     "output_type": "execute_result"
    }
   ],
   "source": [
    "#數學運算\n",
    "data * 10"
   ]
  },
  {
   "cell_type": "code",
   "execution_count": 18,
   "id": "b4edf1ea",
   "metadata": {},
   "outputs": [
    {
     "data": {
      "text/plain": [
       "array([[ 1.67492347, -0.51094793,  0.21283104],\n",
       "       [ 0.43036023, -0.40626584, -1.75541259]])"
      ]
     },
     "execution_count": 18,
     "metadata": {},
     "output_type": "execute_result"
    }
   ],
   "source": [
    "data += data\n",
    "data"
   ]
  },
  {
   "cell_type": "code",
   "execution_count": 19,
   "id": "b6fc3728",
   "metadata": {},
   "outputs": [
    {
     "data": {
      "text/plain": [
       "array([ 0,  1,  2,  3,  4,  5,  6,  7,  8,  9, 10, 11])"
      ]
     },
     "execution_count": 19,
     "metadata": {},
     "output_type": "execute_result"
    }
   ],
   "source": [
    "#np.arange(12)\n",
    "a = np.arange(12)\n",
    "a"
   ]
  },
  {
   "cell_type": "code",
   "execution_count": 20,
   "id": "c394afe3",
   "metadata": {},
   "outputs": [
    {
     "data": {
      "text/plain": [
       "(12,)"
      ]
     },
     "execution_count": 20,
     "metadata": {},
     "output_type": "execute_result"
    }
   ],
   "source": [
    "a.shape"
   ]
  },
  {
   "cell_type": "code",
   "execution_count": 21,
   "id": "22fd0529",
   "metadata": {},
   "outputs": [
    {
     "data": {
      "text/plain": [
       "array([[ 0,  1,  2,  3],\n",
       "       [ 4,  5,  6,  7],\n",
       "       [ 8,  9, 10, 11]])"
      ]
     },
     "execution_count": 21,
     "metadata": {},
     "output_type": "execute_result"
    }
   ],
   "source": [
    "b = a.reshape((3,4))\n",
    "b"
   ]
  },
  {
   "cell_type": "code",
   "execution_count": 22,
   "id": "b00ac852",
   "metadata": {},
   "outputs": [
    {
     "data": {
      "text/plain": [
       "9"
      ]
     },
     "execution_count": 22,
     "metadata": {},
     "output_type": "execute_result"
    }
   ],
   "source": [
    "b[2,1]"
   ]
  },
  {
   "cell_type": "code",
   "execution_count": 23,
   "id": "3e2bb296",
   "metadata": {},
   "outputs": [
    {
     "data": {
      "text/plain": [
       "array([[ 77,  57,  73,  70, 100],\n",
       "       [ 58,  50,  67,  85,  85],\n",
       "       [ 77,  67,  98,  72,  57],\n",
       "       [ 70,  74,  92,  53,  64],\n",
       "       [ 96,  76,  63,  51,  56],\n",
       "       [ 94,  97,  98,  50,  78],\n",
       "       [ 85,  77,  87,  90,  51],\n",
       "       [ 88,  84,  95,  87,  76],\n",
       "       [ 87,  74,  72,  95,  56],\n",
       "       [ 50,  88,  92,  55,  89]])"
      ]
     },
     "execution_count": 23,
     "metadata": {},
     "output_type": "execute_result"
    }
   ],
   "source": [
    "arr = np.random.randint(50,101, size=(10,5))\n",
    "arr"
   ]
  },
  {
   "cell_type": "code",
   "execution_count": 24,
   "id": "f5940dba",
   "metadata": {},
   "outputs": [
    {
     "data": {
      "text/plain": [
       "3783"
      ]
     },
     "execution_count": 24,
     "metadata": {},
     "output_type": "execute_result"
    }
   ],
   "source": [
    "#加總\n",
    "arr.sum()"
   ]
  },
  {
   "cell_type": "code",
   "execution_count": 25,
   "id": "668f8202",
   "metadata": {},
   "outputs": [
    {
     "data": {
      "text/plain": [
       "75.66"
      ]
     },
     "execution_count": 25,
     "metadata": {},
     "output_type": "execute_result"
    }
   ],
   "source": [
    "#平均\n",
    "arr.mean()"
   ]
  },
  {
   "cell_type": "code",
   "execution_count": 26,
   "id": "99ed5c37",
   "metadata": {},
   "outputs": [
    {
     "data": {
      "text/plain": [
       "15.464294358295176"
      ]
     },
     "execution_count": 26,
     "metadata": {},
     "output_type": "execute_result"
    }
   ],
   "source": [
    "#標準差\n",
    "arr.std()"
   ]
  },
  {
   "cell_type": "code",
   "execution_count": 27,
   "id": "c6f2db6d",
   "metadata": {},
   "outputs": [
    {
     "data": {
      "text/plain": [
       "array([377, 345, 371, 353, 342, 417, 390, 430, 384, 374])"
      ]
     },
     "execution_count": 27,
     "metadata": {},
     "output_type": "execute_result"
    }
   ],
   "source": [
    "#每個學生的總分\n",
    "arr.sum(axis=1)"
   ]
  },
  {
   "cell_type": "code",
   "execution_count": 30,
   "id": "cbc829f2",
   "metadata": {},
   "outputs": [],
   "source": [
    "#每個學生的平均\n",
    "studentAVG = arr.mean(axis=1)"
   ]
  },
  {
   "cell_type": "code",
   "execution_count": 31,
   "id": "50b94072",
   "metadata": {},
   "outputs": [
    {
     "data": {
      "text/plain": [
       "86.0"
      ]
     },
     "execution_count": 31,
     "metadata": {},
     "output_type": "execute_result"
    }
   ],
   "source": [
    "#全班最高平均\n",
    "studentAVG.max()"
   ]
  },
  {
   "cell_type": "code",
   "execution_count": 32,
   "id": "39487e0b",
   "metadata": {},
   "outputs": [
    {
     "data": {
      "text/plain": [
       "68.4"
      ]
     },
     "execution_count": 32,
     "metadata": {},
     "output_type": "execute_result"
    }
   ],
   "source": [
    "#全班最低平均\n",
    "studentAVG.min()"
   ]
  },
  {
   "cell_type": "code",
   "execution_count": 35,
   "id": "afe7d627",
   "metadata": {},
   "outputs": [
    {
     "name": "stdout",
     "output_type": "stream",
     "text": [
      "[ 456 1352 1630 2462 3402 4667 5356]\n"
     ]
    },
    {
     "data": {
      "image/png": "[encoded data removed]",
      "text/plain": [
       "<Figure size 432x288 with 1 Axes>"
      ]
     },
     "metadata": {
      "needs_background": "light"
     },
     "output_type": "display_data"
    }
   ],
   "source": [
    "import matplotlib.pyplot as plt\n",
    "\n",
    "incomeOfWeek = [456, 896, 278, 832, 940, 1265, 689]\n",
    "weekArr = np.array(incomeOfWeek)\n",
    "cumsum=weekArr.cumsum()\n",
    "print(cumsum)\n",
    "plt.figure(1)\n",
    "plt.plot(cumsum)\n",
    "plt.show()"
   ]
  },
  {
   "cell_type": "code",
   "execution_count": null,
   "id": "14e5eeec",
   "metadata": {},
   "outputs": [],
   "source": []
  }
 ],
 "metadata": {
  "kernelspec": {
   "display_name": "Python 3 (ipykernel)",
   "language": "python",
   "name": "python3"
  },
  "language_info": {
   "codemirror_mode": {
    "name": "ipython",
    "version": 3
   },
   "file_extension": ".py",
   "mimetype": "text/x-python",
   "name": "python",
   "nbconvert_exporter": "python",
   "pygments_lexer": "ipython3",
   "version": "3.8.7"
  }
 },
 "nbformat": 4,
 "nbformat_minor": 5
}

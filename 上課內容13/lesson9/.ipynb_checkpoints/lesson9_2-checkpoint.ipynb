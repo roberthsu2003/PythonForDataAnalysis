{
 "cells": [
  {
   "cell_type": "code",
   "execution_count": 1,
   "id": "71525103",
   "metadata": {},
   "outputs": [
    {
     "name": "stdout",
     "output_type": "stream",
     "text": [
      "chinese [86, 92, 88, 86, 71, 77, 90, 97, 78, 78, 84, 62, 92, 75, 66, 68, 77, 89, 65, 86, 91, 61, 95, 64, 86, 81, 83, 98, 79, 82, 94, 87, 60, 63, 69, 82, 93, 97, 74, 90, 73, 80, 64, 65, 93, 99, 77, 91, 87, 74]\n",
      "english [84, 71, 75, 62, 66, 75, 96, 81, 88, 90, 100, 61, 94, 63, 88, 69, 90, 87, 76, 88, 96, 62, 90, 90, 96, 85, 78, 75, 65, 95, 77, 80, 70, 98, 84, 74, 68, 67, 62, 82, 62, 90, 69, 67, 71, 69, 89, 80, 68, 69]\n"
     ]
    }
   ],
   "source": [
    "#建立50位學生的中文和英文的分數\n",
    "import random\n",
    "chinese = [random.randint(60,100) for _ in range(50)]\n",
    "english = [random.randint(60,100) for _ in range(50)]\n",
    "print('chinese',chinese)\n",
    "print('english',english)"
   ]
  },
  {
   "cell_type": "code",
   "execution_count": 3,
   "id": "0e649691",
   "metadata": {},
   "outputs": [
    {
     "name": "stdout",
     "output_type": "stream",
     "text": [
      "[170, 163, 163, 148, 137, 152, 186, 178, 166, 168, 184, 123, 186, 138, 154, 137, 167, 176, 141, 174, 187, 123, 185, 154, 182, 166, 161, 173, 144, 177, 171, 167, 130, 161, 153, 156, 161, 164, 136, 172, 135, 170, 133, 132, 164, 168, 166, 171, 155, 143]\n"
     ]
    }
   ],
   "source": [
    "results = [chinese[i]+english[i] for i in range(50)]\n",
    "print(results)"
   ]
  },
  {
   "cell_type": "code",
   "execution_count": null,
   "id": "513796a2",
   "metadata": {},
   "outputs": [],
   "source": []
  }
 ],
 "metadata": {
  "kernelspec": {
   "display_name": "Python 3 (ipykernel)",
   "language": "python",
   "name": "python3"
  },
  "language_info": {
   "codemirror_mode": {
    "name": "ipython",
    "version": 3
   },
   "file_extension": ".py",
   "mimetype": "text/x-python",
   "name": "python",
   "nbconvert_exporter": "python",
   "pygments_lexer": "ipython3",
   "version": "3.8.7"
  }
 },
 "nbformat": 4,
 "nbformat_minor": 5
}

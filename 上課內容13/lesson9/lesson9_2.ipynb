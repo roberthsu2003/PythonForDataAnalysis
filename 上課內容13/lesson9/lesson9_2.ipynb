{
 "cells": [
  {
   "cell_type": "code",
   "execution_count": 1,
   "id": "2e3c69d2",
   "metadata": {},
   "outputs": [
    {
     "name": "stdout",
     "output_type": "stream",
     "text": [
      "chinese [80, 73, 66, 92, 74, 86, 60, 73, 73, 74, 66, 68, 85, 76, 90, 86, 88, 64, 91, 88, 94, 71, 94, 89, 100, 84, 92, 65, 72, 97, 61, 88, 93, 79, 64, 87, 88, 90, 95, 100, 88, 67, 78, 89, 69, 94, 73, 63, 76, 86]\n",
      "english [96, 89, 64, 74, 78, 67, 69, 95, 61, 84, 60, 69, 67, 78, 96, 83, 70, 83, 82, 75, 80, 83, 72, 69, 82, 77, 78, 95, 71, 69, 69, 91, 99, 66, 74, 87, 65, 67, 84, 76, 80, 65, 93, 60, 61, 88, 72, 77, 71, 89]\n"
     ]
    }
   ],
   "source": [
    "\n",
    "#建立50位學生的中文和英文的分數\n",
    "import random\n",
    "chinese = [random.randint(60,100) for _ in range(50)]\n",
    "english = [random.randint(60,100) for _ in range(50)]\n",
    "print('chinese',chinese)\n",
    "print('english',english)"
   ]
  },
  {
   "cell_type": "code",
   "execution_count": 2,
   "id": "510a2446",
   "metadata": {},
   "outputs": [
    {
     "name": "stdout",
     "output_type": "stream",
     "text": [
      "[176, 162, 130, 166, 152, 153, 129, 168, 134, 158, 126, 137, 152, 154, 186, 169, 158, 147, 173, 163, 174, 154, 166, 158, 182, 161, 170, 160, 143, 166, 130, 179, 192, 145, 138, 174, 153, 157, 179, 176, 168, 132, 171, 149, 130, 182, 145, 140, 147, 175]\n"
     ]
    }
   ],
   "source": [
    "results = [chinese[i]+english[i] for i in range(50)]\n",
    "print(results)"
   ]
  },
  {
   "cell_type": "code",
   "execution_count": 3,
   "id": "98a97858",
   "metadata": {},
   "outputs": [],
   "source": [
    "import numpy as np"
   ]
  },
  {
   "cell_type": "code",
   "execution_count": 4,
   "id": "4dcedc96",
   "metadata": {},
   "outputs": [
    {
     "name": "stdout",
     "output_type": "stream",
     "text": [
      "<class 'numpy.ndarray'>\n",
      "<class 'numpy.ndarray'>\n"
     ]
    }
   ],
   "source": [
    "\n",
    "import numpy as np\n",
    "ndChinese = np.array(chinese)\n",
    "print(ndChinese.__class__)\n",
    "ndEnglish = np.array(english)\n",
    "print(ndChinese.__class__)"
   ]
  },
  {
   "cell_type": "code",
   "execution_count": 5,
   "id": "2afba6bb",
   "metadata": {},
   "outputs": [
    {
     "data": {
      "text/plain": [
       "array([176, 162, 130, 166, 152, 153, 129, 168, 134, 158, 126, 137, 152,\n",
       "       154, 186, 169, 158, 147, 173, 163, 174, 154, 166, 158, 182, 161,\n",
       "       170, 160, 143, 166, 130, 179, 192, 145, 138, 174, 153, 157, 179,\n",
       "       176, 168, 132, 171, 149, 130, 182, 145, 140, 147, 175])"
      ]
     },
     "execution_count": 5,
     "metadata": {},
     "output_type": "execute_result"
    }
   ],
   "source": [
    "\n",
    "ndChinese + ndEnglish"
   ]
  },
  {
   "cell_type": "code",
   "execution_count": 13,
   "id": "f72b92c1",
   "metadata": {},
   "outputs": [
    {
     "data": {
      "text/plain": [
       "array([[1, 2, 3],\n",
       "       [4, 5, 6]])"
      ]
     },
     "execution_count": 13,
     "metadata": {},
     "output_type": "execute_result"
    }
   ],
   "source": [
    "import numpy as np\n",
    "lis = [[1,2,3],[4,5,6]]\n",
    "nda = np.array(lis)\n",
    "nda"
   ]
  },
  {
   "cell_type": "code",
   "execution_count": 9,
   "id": "660124ec",
   "metadata": {},
   "outputs": [
    {
     "data": {
      "text/plain": [
       "2"
      ]
     },
     "execution_count": 9,
     "metadata": {},
     "output_type": "execute_result"
    }
   ],
   "source": [
    "nda.ndim"
   ]
  },
  {
   "cell_type": "code",
   "execution_count": 10,
   "id": "a364e318",
   "metadata": {},
   "outputs": [
    {
     "data": {
      "text/plain": [
       "(3, 3)"
      ]
     },
     "execution_count": 10,
     "metadata": {},
     "output_type": "execute_result"
    }
   ],
   "source": [
    "\n",
    "nda.shape"
   ]
  },
  {
   "cell_type": "code",
   "execution_count": 11,
   "id": "9b77ef79",
   "metadata": {},
   "outputs": [
    {
     "data": {
      "text/plain": [
       "9"
      ]
     },
     "execution_count": 11,
     "metadata": {},
     "output_type": "execute_result"
    }
   ],
   "source": [
    "nda.size"
   ]
  },
  {
   "cell_type": "code",
   "execution_count": 14,
   "id": "e26dc106",
   "metadata": {},
   "outputs": [
    {
     "data": {
      "text/plain": [
       "dtype('int32')"
      ]
     },
     "execution_count": 14,
     "metadata": {},
     "output_type": "execute_result"
    }
   ],
   "source": [
    "nda.dtype"
   ]
  },
  {
   "cell_type": "code",
   "execution_count": 15,
   "id": "045426a1",
   "metadata": {},
   "outputs": [
    {
     "data": {
      "text/plain": [
       "array([[-0.21567801, -0.25622533, -0.75762556],\n",
       "       [ 0.2911963 ,  1.887498  , -0.54385862]])"
      ]
     },
     "execution_count": 15,
     "metadata": {},
     "output_type": "execute_result"
    }
   ],
   "source": [
    "data = np.random.randn(2, 3)\n",
    "data"
   ]
  },
  {
   "cell_type": "code",
   "execution_count": 16,
   "id": "84a24448",
   "metadata": {},
   "outputs": [
    {
     "data": {
      "text/plain": [
       "array([[-2.15678009, -2.56225327, -7.57625555],\n",
       "       [ 2.91196295, 18.87497997, -5.43858618]])"
      ]
     },
     "execution_count": 16,
     "metadata": {},
     "output_type": "execute_result"
    }
   ],
   "source": [
    "#數學運算\n",
    "data * 10"
   ]
  },
  {
   "cell_type": "code",
   "execution_count": 17,
   "id": "333a3b1c",
   "metadata": {},
   "outputs": [
    {
     "data": {
      "text/plain": [
       "array([[-0.43135602, -0.51245065, -1.51525111],\n",
       "       [ 0.58239259,  3.77499599, -1.08771724]])"
      ]
     },
     "execution_count": 17,
     "metadata": {},
     "output_type": "execute_result"
    }
   ],
   "source": [
    "data += data\n",
    "data"
   ]
  },
  {
   "cell_type": "code",
   "execution_count": 18,
   "id": "90a1fc09",
   "metadata": {},
   "outputs": [
    {
     "data": {
      "text/plain": [
       "array([ 0,  1,  2,  3,  4,  5,  6,  7,  8,  9, 10, 11])"
      ]
     },
     "execution_count": 18,
     "metadata": {},
     "output_type": "execute_result"
    }
   ],
   "source": [
    "#np.arange(12)\n",
    "a = np.arange(12)\n",
    "a"
   ]
  },
  {
   "cell_type": "code",
   "execution_count": 19,
   "id": "4c16cf42",
   "metadata": {},
   "outputs": [
    {
     "data": {
      "text/plain": [
       "(12,)"
      ]
     },
     "execution_count": 19,
     "metadata": {},
     "output_type": "execute_result"
    }
   ],
   "source": [
    "a.shape"
   ]
  },
  {
   "cell_type": "code",
   "execution_count": 20,
   "id": "4a78757d",
   "metadata": {},
   "outputs": [
    {
     "data": {
      "text/plain": [
       "array([[ 0,  1,  2,  3],\n",
       "       [ 4,  5,  6,  7],\n",
       "       [ 8,  9, 10, 11]])"
      ]
     },
     "execution_count": 20,
     "metadata": {},
     "output_type": "execute_result"
    }
   ],
   "source": [
    "b = a.reshape((3,4))\n",
    "b"
   ]
  },
  {
   "cell_type": "code",
   "execution_count": 21,
   "id": "c5dc4a06",
   "metadata": {},
   "outputs": [
    {
     "data": {
      "text/plain": [
       "9"
      ]
     },
     "execution_count": 21,
     "metadata": {},
     "output_type": "execute_result"
    }
   ],
   "source": [
    "\n",
    "b[2,1]"
   ]
  },
  {
   "cell_type": "code",
   "execution_count": 22,
   "id": "ec13a768",
   "metadata": {},
   "outputs": [
    {
     "data": {
      "text/plain": [
       "array([[66, 59, 88, 76, 77],\n",
       "       [99, 64, 73, 74, 86],\n",
       "       [74, 58, 61, 60, 89],\n",
       "       [54, 94, 82, 79, 76],\n",
       "       [66, 78, 71, 90, 99],\n",
       "       [71, 86, 68, 67, 77],\n",
       "       [68, 67, 53, 53, 91],\n",
       "       [83, 75, 59, 57, 61],\n",
       "       [86, 76, 66, 60, 59],\n",
       "       [96, 57, 58, 66, 87]])"
      ]
     },
     "execution_count": 22,
     "metadata": {},
     "output_type": "execute_result"
    }
   ],
   "source": [
    "arr = np.random.randint(50,101, size=(10,5))\n",
    "arr"
   ]
  },
  {
   "cell_type": "code",
   "execution_count": 23,
   "id": "45882ae7",
   "metadata": {},
   "outputs": [
    {
     "data": {
      "text/plain": [
       "3640"
      ]
     },
     "execution_count": 23,
     "metadata": {},
     "output_type": "execute_result"
    }
   ],
   "source": [
    "#加總\n",
    "arr.sum()"
   ]
  },
  {
   "cell_type": "code",
   "execution_count": 24,
   "id": "d208b06a",
   "metadata": {},
   "outputs": [
    {
     "data": {
      "text/plain": [
       "72.8"
      ]
     },
     "execution_count": 24,
     "metadata": {},
     "output_type": "execute_result"
    }
   ],
   "source": [
    "#平均\n",
    "arr.mean()"
   ]
  },
  {
   "cell_type": "code",
   "execution_count": 25,
   "id": "3d2f71d6",
   "metadata": {},
   "outputs": [
    {
     "data": {
      "text/plain": [
       "12.781236246936366"
      ]
     },
     "execution_count": 25,
     "metadata": {},
     "output_type": "execute_result"
    }
   ],
   "source": [
    "\n",
    "#標準差\n",
    "arr.std()"
   ]
  },
  {
   "cell_type": "code",
   "execution_count": 26,
   "id": "4e38889d",
   "metadata": {},
   "outputs": [
    {
     "data": {
      "text/plain": [
       "array([366, 396, 342, 385, 404, 369, 332, 335, 347, 364])"
      ]
     },
     "execution_count": 26,
     "metadata": {},
     "output_type": "execute_result"
    }
   ],
   "source": [
    "#每個學生的總分\n",
    "arr.sum(axis=1)"
   ]
  },
  {
   "cell_type": "code",
   "execution_count": 27,
   "id": "eaf08980",
   "metadata": {},
   "outputs": [],
   "source": [
    "#每個學生的平均\n",
    "studentAVG = arr.mean(axis=1)"
   ]
  },
  {
   "cell_type": "code",
   "execution_count": 28,
   "id": "68c0edc1",
   "metadata": {},
   "outputs": [
    {
     "data": {
      "text/plain": [
       "80.8"
      ]
     },
     "execution_count": 28,
     "metadata": {},
     "output_type": "execute_result"
    }
   ],
   "source": [
    "#全班最高平均\n",
    "studentAVG.max()"
   ]
  },
  {
   "cell_type": "code",
   "execution_count": 29,
   "id": "e01ebe3e",
   "metadata": {},
   "outputs": [
    {
     "data": {
      "text/plain": [
       "66.4"
      ]
     },
     "execution_count": 29,
     "metadata": {},
     "output_type": "execute_result"
    }
   ],
   "source": [
    "#全班最低平均\n",
    "studentAVG.min()"
   ]
  },
  {
   "cell_type": "code",
   "execution_count": null,
   "id": "3e0e1941",
   "metadata": {},
   "outputs": [],
   "source": []
  }
 ],
 "metadata": {
  "kernelspec": {
   "display_name": "Python 3 (ipykernel)",
   "language": "python",
   "name": "python3"
  },
  "language_info": {
   "codemirror_mode": {
    "name": "ipython",
    "version": 3
   },
   "file_extension": ".py",
   "mimetype": "text/x-python",
   "name": "python",
   "nbconvert_exporter": "python",
   "pygments_lexer": "ipython3",
   "version": "3.8.7"
  }
 },
 "nbformat": 4,
 "nbformat_minor": 5
}

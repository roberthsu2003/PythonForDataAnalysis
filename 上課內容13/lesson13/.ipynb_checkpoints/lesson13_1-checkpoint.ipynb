{
 "cells": [
  {
   "cell_type": "code",
   "execution_count": 4,
   "id": "3b78d296",
   "metadata": {},
   "outputs": [
    {
     "data": {
      "text/plain": [
       "a    7.3\n",
       "b   -2.5\n",
       "c    3.4\n",
       "d    1.5\n",
       "dtype: float64"
      ]
     },
     "execution_count": 4,
     "metadata": {},
     "output_type": "execute_result"
    }
   ],
   "source": [
    "import numpy as np\n",
    "import pandas as pd\n",
    "s1 = pd.Series([7.3, -2.5, 3.4, 1.5],index=['a','b','c','d'])\n",
    "s2 = pd.Series([-2.1, 3.6, -1.5, 3.1],index=['b','a','c','d'])\n",
    "s1"
   ]
  },
  {
   "cell_type": "code",
   "execution_count": 5,
   "id": "a0842a9f",
   "metadata": {},
   "outputs": [
    {
     "data": {
      "text/plain": [
       "b   -2.1\n",
       "a    3.6\n",
       "c   -1.5\n",
       "d    3.1\n",
       "dtype: float64"
      ]
     },
     "execution_count": 5,
     "metadata": {},
     "output_type": "execute_result"
    }
   ],
   "source": [
    "s2"
   ]
  },
  {
   "cell_type": "code",
   "execution_count": 6,
   "id": "72e5f61c",
   "metadata": {},
   "outputs": [
    {
     "data": {
      "text/plain": [
       "a    10.9\n",
       "b    -4.6\n",
       "c     1.9\n",
       "d     4.6\n",
       "dtype: float64"
      ]
     },
     "execution_count": 6,
     "metadata": {},
     "output_type": "execute_result"
    }
   ],
   "source": [
    "s1 + s2"
   ]
  },
  {
   "cell_type": "code",
   "execution_count": 7,
   "id": "6c431247",
   "metadata": {},
   "outputs": [
    {
     "data": {
      "text/plain": [
       "a    7.3\n",
       "b   -2.5\n",
       "c    NaN\n",
       "d    1.5\n",
       "dtype: float64"
      ]
     },
     "execution_count": 7,
     "metadata": {},
     "output_type": "execute_result"
    }
   ],
   "source": [
    "s1 = pd.Series([7.3, -2.5, np.nan, 1.5],index=['a','b','c','d'])\n",
    "s2 = pd.Series([-2.1, 3.6, -1.5, 3.1],index=['b','a','c','d'])\n",
    "s1"
   ]
  },
  {
   "cell_type": "code",
   "execution_count": 8,
   "id": "52564256",
   "metadata": {},
   "outputs": [
    {
     "data": {
      "text/plain": [
       "b   -2.1\n",
       "a    3.6\n",
       "c   -1.5\n",
       "d    3.1\n",
       "dtype: float64"
      ]
     },
     "execution_count": 8,
     "metadata": {},
     "output_type": "execute_result"
    }
   ],
   "source": [
    "s2"
   ]
  },
  {
   "cell_type": "code",
   "execution_count": 9,
   "id": "52d91e51",
   "metadata": {},
   "outputs": [
    {
     "data": {
      "text/plain": [
       "a    10.9\n",
       "b    -4.6\n",
       "c     NaN\n",
       "d     4.6\n",
       "dtype: float64"
      ]
     },
     "execution_count": 9,
     "metadata": {},
     "output_type": "execute_result"
    }
   ],
   "source": [
    "s1+s2"
   ]
  },
  {
   "cell_type": "code",
   "execution_count": null,
   "id": "62cee189",
   "metadata": {},
   "outputs": [],
   "source": []
  }
 ],
 "metadata": {
  "kernelspec": {
   "display_name": "Python 3 (ipykernel)",
   "language": "python",
   "name": "python3"
  },
  "language_info": {
   "codemirror_mode": {
    "name": "ipython",
    "version": 3
   },
   "file_extension": ".py",
   "mimetype": "text/x-python",
   "name": "python",
   "nbconvert_exporter": "python",
   "pygments_lexer": "ipython3",
   "version": "3.8.7"
  }
 },
 "nbformat": 4,
 "nbformat_minor": 5
}

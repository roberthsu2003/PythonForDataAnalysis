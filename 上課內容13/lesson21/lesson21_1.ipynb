{
 "cells": [
  {
   "cell_type": "code",
   "execution_count": 1,
   "id": "636561ce",
   "metadata": {},
   "outputs": [
    {
     "name": "stdout",
     "output_type": "stream",
     "text": [
      "{'predicted_price': 14996.879516512632}\n"
     ]
    }
   ],
   "source": [
    "endpoint = '' #Replace with your endpoint\n",
    "key = '' #Replace with your key\n",
    "\n",
    "import urllib.request\n",
    "import json\n",
    "import os\n",
    "\n",
    "# Prepare the input data\n",
    "data = {\n",
    "    \"Inputs\": {\n",
    "        \"WebServiceInput0\":\n",
    "        [\n",
    "            {\n",
    "                    'symboling': 3,\n",
    "                    'normalized-losses': None,\n",
    "                    'make': \"alfa-romero\",\n",
    "                    'fuel-type': \"gas\",\n",
    "                    'aspiration': \"std\",\n",
    "                    'num-of-doors': \"two\",\n",
    "                    'body-style': \"convertible\",\n",
    "                    'drive-wheels': \"rwd\",\n",
    "                    'engine-location': \"front\",\n",
    "                    'wheel-base': 88.6,\n",
    "                    'length': 168.8,\n",
    "                    'width': 64.1,\n",
    "                    'height': 48.8,\n",
    "                    'curb-weight': 2548,\n",
    "                    'engine-type': \"dohc\",\n",
    "                    'num-of-cylinders': \"four\",\n",
    "                    'engine-size': 130,\n",
    "                    'fuel-system': \"mpfi\",\n",
    "                    'bore': 3.47,\n",
    "                    'stroke': 2.68,\n",
    "                    'compression-ratio': 9,\n",
    "                    'horsepower': 111,\n",
    "                    'peak-rpm': 5000,\n",
    "                    'city-mpg': 21,\n",
    "                    'highway-mpg': 27,\n",
    "            },\n",
    "        ],\n",
    "    },\n",
    "    \"GlobalParameters\":  {\n",
    "    }\n",
    "}\n",
    "body = str.encode(json.dumps(data))\n",
    "headers = {'Content-Type':'application/json', 'Authorization':('Bearer '+ key)}\n",
    "req = urllib.request.Request(endpoint, body, headers)\n",
    "\n",
    "try:\n",
    "    response = urllib.request.urlopen(req)\n",
    "    result = response.read()\n",
    "    json_result = json.loads(result)\n",
    "    y = json_result[\"Results\"][\"WebServiceOutput0\"][0]\n",
    "    print(y)\n",
    "\n",
    "except urllib.error.HTTPError as error:\n",
    "    print(\"The request failed with status code: \" + str(error.code))\n",
    "\n",
    "    # Print the headers to help debug the error\n",
    "    print(error.info())\n",
    "    print(json.loads(error.read().decode(\"utf8\", 'ignore')))"
   ]
  },
  {
   "cell_type": "code",
   "execution_count": null,
   "id": "6c083a9d",
   "metadata": {},
   "outputs": [],
   "source": []
  }
 ],
 "metadata": {
  "kernelspec": {
   "display_name": "Python 3 (ipykernel)",
   "language": "python",
   "name": "python3"
  },
  "language_info": {
   "codemirror_mode": {
    "name": "ipython",
    "version": 3
   },
   "file_extension": ".py",
   "mimetype": "text/x-python",
   "name": "python",
   "nbconvert_exporter": "python",
   "pygments_lexer": "ipython3",
   "version": "3.8.7"
  }
 },
 "nbformat": 4,
 "nbformat_minor": 5
}

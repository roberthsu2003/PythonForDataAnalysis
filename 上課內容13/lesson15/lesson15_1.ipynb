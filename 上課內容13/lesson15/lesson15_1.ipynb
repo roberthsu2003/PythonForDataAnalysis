{
 "cells": [
  {
   "cell_type": "code",
   "execution_count": 4,
   "id": "934afdf8",
   "metadata": {},
   "outputs": [
    {
     "name": "stdout",
     "output_type": "stream",
     "text": [
      "<class 'dict'>\n",
      "Wes\n",
      "['Sixes', 'Stache', 'Cisco']\n"
     ]
    }
   ],
   "source": [
    "jsonString = \"\"\"\n",
    "{\"name\": \"Wes\",\n",
    "\"places_lived\": [\"United States\", \"Spain\", \"Germany\"],\n",
    "\"pet\": null,\n",
    "\"siblings\": [{\"name\": \"Scott\", \"age\": 30, \"pets\": [\"Zeus\", \"Zuko\"]},\n",
    "                  {\"name\": \"Katie\", \"age\": 38,\n",
    "                   \"pets\": [\"Sixes\", \"Stache\", \"Cisco\"]}]\n",
    "}\n",
    "\n",
    "\"\"\"\n",
    "\n",
    "import json\n",
    "pythonStruct = json.loads(jsonString)\n",
    "print(pythonStruct.__class__)\n",
    "print(pythonStruct[\"name\"])\n",
    "print(pythonStruct['siblings'][1][\"pets\"])"
   ]
  },
  {
   "cell_type": "code",
   "execution_count": 5,
   "id": "23ed957b",
   "metadata": {},
   "outputs": [],
   "source": [
    "downloadUrlPath = \"https://opendata.cwb.gov.tw/fileapi/v1/opendataapi/O-A0001-001?Authorization=rdec-key-123-45678-011121314&format=JSON\"\n",
    "urlPathApi = \"https://opendata.cwb.gov.tw/api/v1/rest/datastore/O-A0001-001?Authorization=rdec-key-123-45678-011121314&format=JSON\"\n"
   ]
  },
  {
   "cell_type": "code",
   "execution_count": null,
   "id": "f76ff199",
   "metadata": {},
   "outputs": [],
   "source": []
  }
 ],
 "metadata": {
  "kernelspec": {
   "display_name": "Python 3 (ipykernel)",
   "language": "python",
   "name": "python3"
  },
  "language_info": {
   "codemirror_mode": {
    "name": "ipython",
    "version": 3
   },
   "file_extension": ".py",
   "mimetype": "text/x-python",
   "name": "python",
   "nbconvert_exporter": "python",
   "pygments_lexer": "ipython3",
   "version": "3.8.7"
  }
 },
 "nbformat": 4,
 "nbformat_minor": 5
}

{
 "cells": [
  {
   "cell_type": "code",
   "execution_count": 2,
   "id": "b263179e",
   "metadata": {},
   "outputs": [
    {
     "name": "stdout",
     "output_type": "stream",
     "text": [
      "aaa bbb\n"
     ]
    }
   ],
   "source": [
    "print(\"aaa\",\"bbb\")"
   ]
  },
  {
   "cell_type": "code",
   "execution_count": 4,
   "id": "014e2c15",
   "metadata": {},
   "outputs": [
    {
     "ename": "SyntaxError",
     "evalue": "invalid syntax (Temp/ipykernel_10216/364268629.py, line 2)",
     "output_type": "error",
     "traceback": [
      "\u001b[1;36m  File \u001b[1;32m\"C:\\Users\\alany\\AppData\\Local\\Temp/ipykernel_10216/364268629.py\"\u001b[1;36m, line \u001b[1;32m2\u001b[0m\n\u001b[1;33m    output a\u001b[0m\n\u001b[1;37m           ^\u001b[0m\n\u001b[1;31mSyntaxError\u001b[0m\u001b[1;31m:\u001b[0m invalid syntax\n"
     ]
    }
   ],
   "source": []
  },
  {
   "cell_type": "code",
   "execution_count": 8,
   "id": "5d93fe58",
   "metadata": {},
   "outputs": [
    {
     "name": "stdout",
     "output_type": "stream",
     "text": [
      "Please enter the dividend:10\n",
      "Please enter the divisor:3\n",
      "商= 3 餘數= 1\n"
     ]
    }
   ],
   "source": [
    "n=int(input(\"請輸入被除數:\"))\n",
    "m=int(input(\"請輸入除數:\"))\n",
    "print(\"商=\",n//m,\"餘數=\", n%m)"
   ]
  },
  {
   "cell_type": "code",
   "execution_count": 13,
   "id": "d6cf90d5",
   "metadata": {},
   "outputs": [
    {
     "name": "stdout",
     "output_type": "stream",
     "text": [
      "Please enter the first number:1\n",
      "Please enter the second number:2\n",
      "Please enter the second number:3\n",
      "總和6.0\n"
     ]
    }
   ],
   "source": [
    "a=float(input(\"請輸入第一個數:\"))\n",
    "b=float(input(\"請輸入第二個數:\"))\n",
    "c=float(input(\"請輸入第二個數:\"))\n",
    "print(\"總和\"+str(a+b+c))"
   ]
  },
  {
   "cell_type": "code",
   "execution_count": 6,
   "id": "1079eddd",
   "metadata": {},
   "outputs": [
    {
     "name": "stdout",
     "output_type": "stream",
     "text": [
      "Please enter age99\n",
      "有投票權\n",
      "程式結束\n"
     ]
    }
   ],
   "source": [
    "#雙向選擇 else後面要:，跟if切齊\n",
    "age=int(input(\"請輸入年紀\"))\n",
    "if age>18:\n",
    "    print(\"有投票權\")\n",
    "else:\n",
    "    print(\"沒有投票權\")\n",
    "print(\"程式結束\")"
   ]
  },
  {
   "cell_type": "code",
   "execution_count": 2,
   "id": "870a6ba4",
   "metadata": {},
   "outputs": [
    {
     "name": "stdout",
     "output_type": "stream",
     "text": [
      "Please enter age22\n",
      "男士\n",
      "程式結束\n"
     ]
    }
   ],
   "source": [
    "age=int(input(\"請輸入年紀\"))\n",
    "if age>18:\n",
    "    print(\"男士\")\n",
    "elif age>=12:\n",
    "    print(\"青年\")\n",
    "else:\n",
    "    print(\"少年\")\n",
    "print(\"程式結束\")"
   ]
  },
  {
   "cell_type": "code",
   "execution_count": 7,
   "id": "84e8b5ab",
   "metadata": {},
   "outputs": [
    {
     "name": "stdout",
     "output_type": "stream",
     "text": [
      "Your score67\n",
      "您的分數 awful\n"
     ]
    }
   ],
   "source": [
    "score=int(input(\"您的分數\"))\n",
    "if score>=90:\n",
    "    level=\"very good\"\n",
    "elif score>=80:\n",
    "    level=\"good\"\n",
    "elif score>=70:\n",
    "    level=\"bad\"\n",
    "else:\n",
    "    level=\"awful\"\n",
    "print(\"您的分數\",level)"
   ]
  },
  {
   "cell_type": "code",
   "execution_count": 12,
   "id": "0f264d9b",
   "metadata": {},
   "outputs": [
    {
     "name": "stdout",
     "output_type": "stream",
     "text": [
      "人\n"
     ]
    }
   ],
   "source": [
    "#巢狀判斷\n",
    "x=True\n",
    "y=True\n",
    "if x:\n",
    "    if y:\n",
    "        print(\"人\")\n",
    "    else:\n",
    "        print(\"動物\")\n",
    "else:\n",
    "    if y:\n",
    "        print(\"昆蟲\")\n",
    "    else:\n",
    "        print(\"恐龍\")\n"
   ]
  },
  {
   "cell_type": "code",
   "execution_count": 18,
   "id": "72404e1a",
   "metadata": {},
   "outputs": [
    {
     "name": "stdout",
     "output_type": "stream",
     "text": [
      "恐龍\n"
     ]
    }
   ],
   "source": [
    "x=False\n",
    "y=False\n",
    "if x==True and y==True:\n",
    "    print(\"人\")\n",
    "elif x==True and y==False:\n",
    "    print(\"動物\")\n",
    "elif x==False and y==True:\n",
    "    print(\"昆蟲\")\n",
    "elif x==False and y==False:\n",
    "    print(\"恐龍\")"
   ]
  },
  {
   "cell_type": "code",
   "execution_count": null,
   "id": "d4c1aa4c",
   "metadata": {},
   "outputs": [],
   "source": []
  }
 ],
 "metadata": {
  "kernelspec": {
   "display_name": "Python 3 (ipykernel)",
   "language": "python",
   "name": "python3"
  },
  "language_info": {
   "codemirror_mode": {
    "name": "ipython",
    "version": 3
   },
   "file_extension": ".py",
   "mimetype": "text/x-python",
   "name": "python",
   "nbconvert_exporter": "python",
   "pygments_lexer": "ipython3",
   "version": "3.8.7"
  }
 },
 "nbformat": 4,
 "nbformat_minor": 5
}

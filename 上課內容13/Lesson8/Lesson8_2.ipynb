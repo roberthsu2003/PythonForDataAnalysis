{
 "cells": [
  {
   "cell_type": "code",
   "execution_count": 1,
   "id": "480b4806",
   "metadata": {},
   "outputs": [
    {
     "name": "stdout",
     "output_type": "stream",
     "text": [
      "['\\ufeff國文', '英文', '數學', '自然', '社會']\n",
      "['60', '98', '97', '91', '73']\n",
      "['88', '83', '53', '59', '93']\n",
      "['86', '87', '64', '63', '80']\n",
      "['60', '79', '88', '72', '75']\n",
      "['66', '85', '96', '99', '75']\n",
      "['71', '58', '82', '54', '54']\n",
      "['65', '75', '87', '80', '62']\n",
      "['80', '86', '69', '68', '88']\n",
      "['90', '53', '96', '87', '66']\n",
      "['92', '62', '93', '69', '65']\n",
      "['99', '89', '61', '55', '59']\n",
      "['80', '93', '57', '69', '57']\n",
      "['62', '70', '82', '51', '65']\n",
      "['74', '95', '68', '64', '96']\n",
      "['84', '95', '94', '61', '61']\n",
      "['79', '99', '89', '87', '88']\n",
      "['68', '57', '81', '92', '88']\n",
      "['62', '64', '84', '84', '50']\n",
      "['66', '75', '92', '85', '55']\n",
      "['89', '55', '87', '64', '94']\n",
      "['85', '81', '56', '70', '68']\n",
      "['82', '88', '56', '91', '94']\n",
      "['66', '75', '83', '81', '71']\n",
      "['71', '90', '81', '67', '77']\n",
      "['89', '72', '82', '83', '56']\n",
      "['87', '91', '94', '93', '70']\n",
      "['82', '78', '88', '58', '90']\n",
      "['67', '63', '83', '50', '63']\n",
      "['68', '98', '75', '64', '58']\n",
      "['62', '91', '59', '81', '74']\n",
      "['90', '68', '70', '57', '60']\n",
      "['94', '75', '72', '69', '54']\n",
      "['78', '52', '93', '63', '70']\n",
      "['50', '60', '59', '54', '85']\n",
      "['99', '56', '65', '84', '84']\n",
      "['94', '80', '50', '61', '88']\n",
      "['87', '96', '58', '63', '95']\n",
      "['59', '85', '82', '89', '57']\n",
      "['83', '63', '87', '92', '99']\n",
      "['69', '98', '68', '67', '93']\n",
      "['89', '58', '67', '65', '67']\n",
      "['83', '54', '67', '79', '82']\n",
      "['69', '78', '89', '88', '89']\n",
      "['61', '76', '86', '82', '55']\n",
      "['80', '75', '50', '83', '56']\n",
      "['92', '84', '91', '54', '97']\n",
      "['96', '100', '78', '88', '54']\n",
      "['93', '69', '69', '71', '54']\n",
      "['51', '95', '72', '62', '75']\n",
      "['96', '95', '93', '79', '81']\n"
     ]
    }
   ],
   "source": [
    "#讀取csvfile\n",
    "import csv\n",
    "file = open('students.csv','r',encoding='utf-8')\n",
    "reader=csv.reader(file)\n",
    "readerlist = list(reader)\n",
    "for item in readerlist:\n",
    "    print(item)"
   ]
  },
  {
   "cell_type": "code",
   "execution_count": 2,
   "id": "6d02acfd",
   "metadata": {},
   "outputs": [
    {
     "name": "stdout",
     "output_type": "stream",
     "text": [
      "{\"python\": \"good\", \"gjun\": 100, \"python-class\": true, \"ICQ\": null}\n",
      "json檔案存檔完成\n"
     ]
    }
   ],
   "source": [
    "\n",
    "import json\n",
    "#把python的資料結構轉為python字串\n",
    "pyDic = {'python': 'good', 'gjun': 100, 'python-class':True,'ICQ': None}\n",
    "json_str = json.dumps(pyDic)\n",
    "type(json_str)\n",
    "print(json_str)\n",
    "\n",
    "#把json字串存檔\n",
    "file = open('gjun.json','w')\n",
    "file.write(json_str)\n",
    "file.close()\n",
    "print(\"json檔案存檔完成\")"
   ]
  },
  {
   "cell_type": "code",
   "execution_count": 3,
   "id": "9de0be7f",
   "metadata": {},
   "outputs": [
    {
     "data": {
      "text/plain": [
       "{'python': 'good', 'gjun': 100, 'python-class': True, 'ICQ': None}"
      ]
     },
     "execution_count": 3,
     "metadata": {},
     "output_type": "execute_result"
    }
   ],
   "source": [
    "#讀取json檔\n",
    "import json\n",
    "with open('gjun.json','r') as file:\n",
    "    students = json.load(file)\n",
    "students"
   ]
  },
  {
   "cell_type": "code",
   "execution_count": null,
   "id": "41723740",
   "metadata": {},
   "outputs": [],
   "source": []
  }
 ],
 "metadata": {
  "kernelspec": {
   "display_name": "Python 3 (ipykernel)",
   "language": "python",
   "name": "python3"
  },
  "language_info": {
   "codemirror_mode": {
    "name": "ipython",
    "version": 3
   },
   "file_extension": ".py",
   "mimetype": "text/x-python",
   "name": "python",
   "nbconvert_exporter": "python",
   "pygments_lexer": "ipython3",
   "version": "3.8.7"
  }
 },
 "nbformat": 4,
 "nbformat_minor": 5
}

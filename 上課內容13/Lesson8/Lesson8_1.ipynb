{
 "cells": [
  {
   "cell_type": "code",
   "execution_count": 3,
   "id": "f19d6185",
   "metadata": {},
   "outputs": [],
   "source": [
    "text = '''\n",
    "python與中文\n",
    "1. 我們來試試看中文儲存能力。\n",
    "2. 許這個字會有編碼衝突風險。\n",
    "3. 犇這個字必須是utf8編碼才有。\n",
    "'''\n",
    "\n",
    "print(text,file=open('data.txt',encoding='utf-8',mode='w'))"
   ]
  },
  {
   "cell_type": "code",
   "execution_count": 4,
   "id": "269f6816",
   "metadata": {},
   "outputs": [
    {
     "name": "stdout",
     "output_type": "stream",
     "text": [
      "65\n"
     ]
    }
   ],
   "source": [
    "#python file\n",
    "text = '''\n",
    "python與中文\n",
    "1. 我們來試試看中文儲存能力。\n",
    "2. 許這個字會有編碼衝突風險。\n",
    "3. 犇這個字必須是utf8編碼才有。\n",
    "'''\n",
    "file = open('sample.txt',encoding='utf-8',mode='w')\n",
    "print(file.write(text))\n",
    "file.close()"
   ]
  },
  {
   "cell_type": "code",
   "execution_count": 5,
   "id": "739117df",
   "metadata": {},
   "outputs": [
    {
     "name": "stdout",
     "output_type": "stream",
     "text": [
      "1101\n"
     ]
    }
   ],
   "source": [
    "import random\n",
    "\n",
    "students = [[random.randint(50,100) for _ in range(5)] for _ in range(50)]\n",
    "students_str = str(students)\n",
    "file=open('students.txt','w',encoding='utf-8')\n",
    "print(file.write(students_str))\n",
    "file.close()"
   ]
  },
  {
   "cell_type": "code",
   "execution_count": 7,
   "id": "0b356a35",
   "metadata": {},
   "outputs": [],
   "source": [
    "import csv\n",
    "file = open('students.csv','w',newline='',encoding='UTF-8-sig')\n",
    "writer = csv.writer(file)\n",
    "writer.writerow(['國文','英文','數學','自然','社會'])\n",
    "for student in students:\n",
    "    writer.writerow(student)\n",
    "file.close()"
   ]
  },
  {
   "cell_type": "code",
   "execution_count": null,
   "id": "3de7c30f",
   "metadata": {},
   "outputs": [],
   "source": []
  }
 ],
 "metadata": {
  "kernelspec": {
   "display_name": "Python 3 (ipykernel)",
   "language": "python",
   "name": "python3"
  },
  "language_info": {
   "codemirror_mode": {
    "name": "ipython",
    "version": 3
   },
   "file_extension": ".py",
   "mimetype": "text/x-python",
   "name": "python",
   "nbconvert_exporter": "python",
   "pygments_lexer": "ipython3",
   "version": "3.8.7"
  }
 },
 "nbformat": 4,
 "nbformat_minor": 5
}

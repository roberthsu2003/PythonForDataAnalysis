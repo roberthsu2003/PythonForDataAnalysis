{
 "cells": [
  {
   "cell_type": "code",
   "execution_count": 2,
   "id": "a89c771a",
   "metadata": {},
   "outputs": [
    {
     "name": "stdout",
     "output_type": "stream",
     "text": [
      "[]\n"
     ]
    }
   ],
   "source": [
    "#python內建得資料結構，list[],tuples(),tuples建立完後不可以改變，list可以修改內容，可以新增元素\n",
    "empty_list = []\n",
    "weekdays = ['星期一', '星期二', '星期三', '星期四', '星期五', '星期六', '星期日']\n",
    "big_birds = ['emu', 'ostrich', 'cassowary']\n",
    "another_empty_list = list()\n",
    "print(another_empty_list)"
   ]
  },
  {
   "cell_type": "code",
   "execution_count": 7,
   "id": "500ecd62",
   "metadata": {},
   "outputs": [
    {
     "data": {
      "text/plain": [
       "'高雄'"
      ]
     },
     "execution_count": 7,
     "metadata": {},
     "output_type": "execute_result"
    }
   ],
   "source": [
    "x=[\"台北\",\"高雄\",\"台中\"]\n",
    "x[-2]"
   ]
  },
  {
   "cell_type": "code",
   "execution_count": 12,
   "id": "9b7f8691",
   "metadata": {},
   "outputs": [
    {
     "name": "stdout",
     "output_type": "stream",
     "text": [
      "[2, 3]\n"
     ]
    }
   ],
   "source": [
    "x=[1,2,3]\n",
    "print(x[1:3])"
   ]
  },
  {
   "cell_type": "code",
   "execution_count": 14,
   "id": "0ff91f59",
   "metadata": {},
   "outputs": [
    {
     "name": "stdout",
     "output_type": "stream",
     "text": [
      "['a', 'b', 'c', 'd']\n",
      "['b', 'c', 'd', 'e', 'f', 'g']\n",
      "['a', 'b', 'c', 'd', 'e', 'f']\n"
     ]
    }
   ],
   "source": [
    "y=[\"a\",\"b\",\"c\",\"d\",\"e\",\"f\",\"g\"]\n",
    "print(y[0:4])\n",
    "print(y[1:])\n",
    "print(y[:6])"
   ]
  },
  {
   "cell_type": "code",
   "execution_count": 17,
   "id": "6c1f071c",
   "metadata": {},
   "outputs": [],
   "source": [
    "x=[\"triangle\",\"circle\",\"star\"]\n",
    "y=[2,\"洗衣機\",3]\n",
    "z=[\"圍棋\",\"爬山\",\"youtube\"]\n",
    "w=[x,y,z]"
   ]
  },
  {
   "cell_type": "code",
   "execution_count": 18,
   "id": "18d45970",
   "metadata": {},
   "outputs": [
    {
     "data": {
      "text/plain": [
       "[['triangle', 'circle', 'star'], [2, '洗衣機', 3], ['圍棋', '爬山', 'youtube']]"
      ]
     },
     "execution_count": 18,
     "metadata": {},
     "output_type": "execute_result"
    }
   ],
   "source": [
    "w"
   ]
  },
  {
   "cell_type": "code",
   "execution_count": 19,
   "id": "147d1694",
   "metadata": {},
   "outputs": [
    {
     "data": {
      "text/plain": [
       "'爬山'"
      ]
     },
     "execution_count": 19,
     "metadata": {},
     "output_type": "execute_result"
    }
   ],
   "source": [
    "w[2][1]"
   ]
  },
  {
   "cell_type": "code",
   "execution_count": 20,
   "id": "4465a386",
   "metadata": {},
   "outputs": [
    {
     "data": {
      "text/plain": [
       "['triangle', 'circle', 'star', 'square']"
      ]
     },
     "execution_count": 20,
     "metadata": {},
     "output_type": "execute_result"
    }
   ],
   "source": [
    "x.append(\"square\")\n",
    "x"
   ]
  },
  {
   "cell_type": "code",
   "execution_count": 21,
   "id": "de38c168",
   "metadata": {},
   "outputs": [
    {
     "data": {
      "text/plain": [
       "4"
      ]
     },
     "execution_count": 21,
     "metadata": {},
     "output_type": "execute_result"
    }
   ],
   "source": [
    "len(x)"
   ]
  },
  {
   "cell_type": "code",
   "execution_count": 22,
   "id": "eb2ee7fd",
   "metadata": {},
   "outputs": [
    {
     "name": "stdout",
     "output_type": "stream",
     "text": [
      "請輸入第1位學生的資料:45\n",
      "請輸入第2位學生的資料:87\n",
      "請輸入第3位學生的資料:76\n",
      "請輸入第4位學生的資料:47\n",
      "請輸入第5位學生的資料:09\n",
      "全班總成績為264分,平均為52.80分\n"
     ]
    }
   ],
   "source": [
    "nums = 5\n",
    "scores = []\n",
    "sum = 0\n",
    "\n",
    "for i in range(nums):\n",
    "    inputValue = int(input(f\"請輸入第{i+1}位學生的資料:\"))\n",
    "    scores.append(inputValue)\n",
    "\n",
    "for score in scores:\n",
    "    sum += score\n",
    "ave = sum / nums\n",
    "print(\"全班總成績為{0:d}分,平均為{1:.2f}分\".format(sum,ave))"
   ]
  },
  {
   "cell_type": "code",
   "execution_count": 23,
   "id": "325531fd",
   "metadata": {},
   "outputs": [
    {
     "data": {
      "text/plain": [
       "[[94, 78, 84, 81, 61],\n",
       " [99, 89, 79, 60, 70],\n",
       " [98, 70, 67, 58, 59],\n",
       " [80, 98, 82, 61, 65],\n",
       " [90, 71, 55, 56, 61],\n",
       " [54, 77, 66, 97, 52],\n",
       " [93, 74, 89, 70, 50],\n",
       " [95, 69, 77, 94, 98],\n",
       " [82, 80, 75, 91, 62],\n",
       " [74, 75, 72, 53, 64],\n",
       " [81, 90, 55, 100, 61],\n",
       " [78, 97, 61, 51, 59],\n",
       " [85, 86, 72, 60, 71],\n",
       " [57, 75, 84, 64, 73],\n",
       " [90, 91, 92, 100, 67],\n",
       " [74, 100, 54, 97, 59],\n",
       " [98, 91, 50, 53, 84],\n",
       " [94, 66, 72, 78, 97],\n",
       " [91, 77, 68, 94, 75],\n",
       " [58, 75, 71, 99, 100],\n",
       " [58, 59, 88, 76, 56],\n",
       " [100, 72, 63, 98, 80],\n",
       " [75, 92, 95, 99, 86],\n",
       " [89, 91, 75, 80, 69],\n",
       " [100, 93, 53, 92, 73],\n",
       " [71, 61, 83, 95, 53],\n",
       " [94, 97, 81, 78, 78],\n",
       " [62, 91, 89, 100, 82],\n",
       " [92, 81, 52, 77, 79],\n",
       " [69, 58, 89, 55, 57],\n",
       " [59, 74, 61, 84, 95],\n",
       " [83, 65, 51, 86, 94],\n",
       " [59, 93, 53, 68, 80],\n",
       " [100, 84, 99, 65, 72],\n",
       " [63, 98, 58, 76, 94],\n",
       " [53, 85, 90, 99, 63],\n",
       " [76, 60, 59, 93, 96],\n",
       " [76, 77, 89, 77, 83],\n",
       " [85, 60, 64, 50, 79],\n",
       " [67, 66, 61, 51, 82],\n",
       " [79, 66, 70, 69, 81],\n",
       " [72, 88, 87, 65, 64],\n",
       " [61, 58, 98, 98, 73],\n",
       " [64, 90, 72, 75, 95],\n",
       " [80, 73, 52, 70, 83],\n",
       " [55, 83, 55, 66, 76],\n",
       " [99, 61, 52, 91, 95],\n",
       " [82, 98, 92, 61, 81],\n",
       " [60, 100, 72, 60, 70],\n",
       " [72, 53, 71, 53, 81]]"
      ]
     },
     "execution_count": 23,
     "metadata": {},
     "output_type": "execute_result"
    }
   ],
   "source": [
    "import random\n",
    "\n",
    "students = []\n",
    "for _ in range(50):\n",
    "    scores = []\n",
    "    for _ in range(5):\n",
    "        scores.append(random.randint(50,100))\n",
    "    students.append(scores)\n",
    "students"
   ]
  },
  {
   "cell_type": "code",
   "execution_count": 24,
   "id": "8720f242",
   "metadata": {},
   "outputs": [
    {
     "name": "stdout",
     "output_type": "stream",
     "text": [
      "學生:1\n",
      "[94, 78, 84, 81, 61]\n",
      "總分為:398,平均為:79.60\n",
      "\n",
      "學生:2\n",
      "[99, 89, 79, 60, 70]\n",
      "總分為:397,平均為:79.40\n",
      "\n",
      "學生:3\n",
      "[98, 70, 67, 58, 59]\n",
      "總分為:352,平均為:70.40\n",
      "\n",
      "學生:4\n",
      "[80, 98, 82, 61, 65]\n",
      "總分為:386,平均為:77.20\n",
      "\n",
      "學生:5\n",
      "[90, 71, 55, 56, 61]\n",
      "總分為:333,平均為:66.60\n",
      "\n",
      "學生:6\n",
      "[54, 77, 66, 97, 52]\n",
      "總分為:346,平均為:69.20\n",
      "\n",
      "學生:7\n",
      "[93, 74, 89, 70, 50]\n",
      "總分為:376,平均為:75.20\n",
      "\n",
      "學生:8\n",
      "[95, 69, 77, 94, 98]\n",
      "總分為:433,平均為:86.60\n",
      "\n",
      "學生:9\n",
      "[82, 80, 75, 91, 62]\n",
      "總分為:390,平均為:78.00\n",
      "\n",
      "學生:10\n",
      "[74, 75, 72, 53, 64]\n",
      "總分為:338,平均為:67.60\n",
      "\n",
      "學生:11\n",
      "[81, 90, 55, 100, 61]\n",
      "總分為:387,平均為:77.40\n",
      "\n",
      "學生:12\n",
      "[78, 97, 61, 51, 59]\n",
      "總分為:346,平均為:69.20\n",
      "\n",
      "學生:13\n",
      "[85, 86, 72, 60, 71]\n",
      "總分為:374,平均為:74.80\n",
      "\n",
      "學生:14\n",
      "[57, 75, 84, 64, 73]\n",
      "總分為:353,平均為:70.60\n",
      "\n",
      "學生:15\n",
      "[90, 91, 92, 100, 67]\n",
      "總分為:440,平均為:88.00\n",
      "\n",
      "學生:16\n",
      "[74, 100, 54, 97, 59]\n",
      "總分為:384,平均為:76.80\n",
      "\n",
      "學生:17\n",
      "[98, 91, 50, 53, 84]\n",
      "總分為:376,平均為:75.20\n",
      "\n",
      "學生:18\n",
      "[94, 66, 72, 78, 97]\n",
      "總分為:407,平均為:81.40\n",
      "\n",
      "學生:19\n",
      "[91, 77, 68, 94, 75]\n",
      "總分為:405,平均為:81.00\n",
      "\n",
      "學生:20\n",
      "[58, 75, 71, 99, 100]\n",
      "總分為:403,平均為:80.60\n",
      "\n",
      "學生:21\n",
      "[58, 59, 88, 76, 56]\n",
      "總分為:337,平均為:67.40\n",
      "\n",
      "學生:22\n",
      "[100, 72, 63, 98, 80]\n",
      "總分為:413,平均為:82.60\n",
      "\n",
      "學生:23\n",
      "[75, 92, 95, 99, 86]\n",
      "總分為:447,平均為:89.40\n",
      "\n",
      "學生:24\n",
      "[89, 91, 75, 80, 69]\n",
      "總分為:404,平均為:80.80\n",
      "\n",
      "學生:25\n",
      "[100, 93, 53, 92, 73]\n",
      "總分為:411,平均為:82.20\n",
      "\n",
      "學生:26\n",
      "[71, 61, 83, 95, 53]\n",
      "總分為:363,平均為:72.60\n",
      "\n",
      "學生:27\n",
      "[94, 97, 81, 78, 78]\n",
      "總分為:428,平均為:85.60\n",
      "\n",
      "學生:28\n",
      "[62, 91, 89, 100, 82]\n",
      "總分為:424,平均為:84.80\n",
      "\n",
      "學生:29\n",
      "[92, 81, 52, 77, 79]\n",
      "總分為:381,平均為:76.20\n",
      "\n",
      "學生:30\n",
      "[69, 58, 89, 55, 57]\n",
      "總分為:328,平均為:65.60\n",
      "\n",
      "學生:31\n",
      "[59, 74, 61, 84, 95]\n",
      "總分為:373,平均為:74.60\n",
      "\n",
      "學生:32\n",
      "[83, 65, 51, 86, 94]\n",
      "總分為:379,平均為:75.80\n",
      "\n",
      "學生:33\n",
      "[59, 93, 53, 68, 80]\n",
      "總分為:353,平均為:70.60\n",
      "\n",
      "學生:34\n",
      "[100, 84, 99, 65, 72]\n",
      "總分為:420,平均為:84.00\n",
      "\n",
      "學生:35\n",
      "[63, 98, 58, 76, 94]\n",
      "總分為:389,平均為:77.80\n",
      "\n",
      "學生:36\n",
      "[53, 85, 90, 99, 63]\n",
      "總分為:390,平均為:78.00\n",
      "\n",
      "學生:37\n",
      "[76, 60, 59, 93, 96]\n",
      "總分為:384,平均為:76.80\n",
      "\n",
      "學生:38\n",
      "[76, 77, 89, 77, 83]\n",
      "總分為:402,平均為:80.40\n",
      "\n",
      "學生:39\n",
      "[85, 60, 64, 50, 79]\n",
      "總分為:338,平均為:67.60\n",
      "\n",
      "學生:40\n",
      "[67, 66, 61, 51, 82]\n",
      "總分為:327,平均為:65.40\n",
      "\n",
      "學生:41\n",
      "[79, 66, 70, 69, 81]\n",
      "總分為:365,平均為:73.00\n",
      "\n",
      "學生:42\n",
      "[72, 88, 87, 65, 64]\n",
      "總分為:376,平均為:75.20\n",
      "\n",
      "學生:43\n",
      "[61, 58, 98, 98, 73]\n",
      "總分為:388,平均為:77.60\n",
      "\n",
      "學生:44\n",
      "[64, 90, 72, 75, 95]\n",
      "總分為:396,平均為:79.20\n",
      "\n",
      "學生:45\n",
      "[80, 73, 52, 70, 83]\n",
      "總分為:358,平均為:71.60\n",
      "\n",
      "學生:46\n",
      "[55, 83, 55, 66, 76]\n",
      "總分為:335,平均為:67.00\n",
      "\n",
      "學生:47\n",
      "[99, 61, 52, 91, 95]\n",
      "總分為:398,平均為:79.60\n",
      "\n",
      "學生:48\n",
      "[82, 98, 92, 61, 81]\n",
      "總分為:414,平均為:82.80\n",
      "\n",
      "學生:49\n",
      "[60, 100, 72, 60, 70]\n",
      "總分為:362,平均為:72.40\n",
      "\n",
      "學生:50\n",
      "[72, 53, 71, 53, 81]\n",
      "總分為:330,平均為:66.00\n",
      "\n"
     ]
    }
   ],
   "source": [
    "studentId = 0\n",
    "for stu in students:\n",
    "    studentId += 1\n",
    "    print(f\"學生:{studentId}\")\n",
    "    print(stu)\n",
    "    sum = 0\n",
    "    for score in stu:\n",
    "        sum += score\n",
    "    print(\"總分為:{0:d},平均為:{1:.2f}\".format(sum, sum/5))\n",
    "    print()"
   ]
  },
  {
   "cell_type": "code",
   "execution_count": 28,
   "id": "9762f7d3",
   "metadata": {},
   "outputs": [
    {
     "name": "stdout",
     "output_type": "stream",
     "text": [
      "請輸入數值:3\n",
      "請輸入第1數值:8\n"
     ]
    },
    {
     "ename": "AttributeError",
     "evalue": "'tuple' object has no attribute 'append'",
     "output_type": "error",
     "traceback": [
      "\u001b[1;31m---------------------------------------------------------------------------\u001b[0m",
      "\u001b[1;31mAttributeError\u001b[0m                            Traceback (most recent call last)",
      "\u001b[1;32m~\\AppData\\Local\\Temp/ipykernel_4348/1468285787.py\u001b[0m in \u001b[0;36m<module>\u001b[1;34m\u001b[0m\n\u001b[0;32m      3\u001b[0m \u001b[1;32mfor\u001b[0m \u001b[0mi\u001b[0m \u001b[1;32min\u001b[0m \u001b[0mrange\u001b[0m\u001b[1;33m(\u001b[0m\u001b[0mnums\u001b[0m\u001b[1;33m)\u001b[0m\u001b[1;33m:\u001b[0m\u001b[1;33m\u001b[0m\u001b[1;33m\u001b[0m\u001b[0m\n\u001b[0;32m      4\u001b[0m     \u001b[0minputNum\u001b[0m \u001b[1;33m=\u001b[0m \u001b[0mint\u001b[0m\u001b[1;33m(\u001b[0m\u001b[0minput\u001b[0m\u001b[1;33m(\u001b[0m\u001b[1;34mf'請輸入第{i+1}數值:'\u001b[0m\u001b[1;33m)\u001b[0m\u001b[1;33m)\u001b[0m\u001b[1;33m\u001b[0m\u001b[1;33m\u001b[0m\u001b[0m\n\u001b[1;32m----> 5\u001b[1;33m     \u001b[0mintegers\u001b[0m\u001b[1;33m.\u001b[0m\u001b[0mappend\u001b[0m\u001b[1;33m(\u001b[0m\u001b[0minputNum\u001b[0m\u001b[1;33m)\u001b[0m\u001b[1;33m\u001b[0m\u001b[1;33m\u001b[0m\u001b[0m\n\u001b[0m\u001b[0;32m      6\u001b[0m \u001b[1;31m#排序\u001b[0m\u001b[1;33m\u001b[0m\u001b[1;33m\u001b[0m\u001b[1;33m\u001b[0m\u001b[0m\n\u001b[0;32m      7\u001b[0m \u001b[0mintegers\u001b[0m\u001b[1;33m.\u001b[0m\u001b[0msort\u001b[0m\u001b[1;33m(\u001b[0m\u001b[1;33m)\u001b[0m\u001b[1;33m\u001b[0m\u001b[1;33m\u001b[0m\u001b[0m\n",
      "\u001b[1;31mAttributeError\u001b[0m: 'tuple' object has no attribute 'append'"
     ]
    }
   ],
   "source": [
    "integers = list()\n",
    "nums = int(input(\"請輸入數值:\"))\n",
    "for i in range(nums):\n",
    "    inputNum = int(input(f'請輸入第{i+1}數值:'))\n",
    "    integers.append(inputNum)\n",
    "#排序\n",
    "integers.sort()\n",
    "\n",
    "#顯示\n",
    "for item in integers:\n",
    "    print(item,end='  ')"
   ]
  },
  {
   "cell_type": "code",
   "execution_count": null,
   "id": "7ee67da4",
   "metadata": {},
   "outputs": [],
   "source": [
    "0\n"
   ]
  }
 ],
 "metadata": {
  "kernelspec": {
   "display_name": "Python 3 (ipykernel)",
   "language": "python",
   "name": "python3"
  },
  "language_info": {
   "codemirror_mode": {
    "name": "ipython",
    "version": 3
   },
   "file_extension": ".py",
   "mimetype": "text/x-python",
   "name": "python",
   "nbconvert_exporter": "python",
   "pygments_lexer": "ipython3",
   "version": "3.8.7"
  }
 },
 "nbformat": 4,
 "nbformat_minor": 5
}

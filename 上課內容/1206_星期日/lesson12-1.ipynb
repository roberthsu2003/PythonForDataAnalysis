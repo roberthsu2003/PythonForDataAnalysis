{
 "cells": [
  {
   "cell_type": "code",
   "execution_count": 1,
   "metadata": {},
   "outputs": [],
   "source": [
    "import numpy as np\n",
    "my_arr = np.arange(1000000)\n",
    "my_list = list(range(1000000))"
   ]
  },
  {
   "cell_type": "code",
   "execution_count": 2,
   "metadata": {},
   "outputs": [
    {
     "name": "stdout",
     "output_type": "stream",
     "text": [
      "CPU times: user 16.9 ms, sys: 5.53 ms, total: 22.4 ms\n",
      "Wall time: 21.2 ms\n"
     ]
    }
   ],
   "source": [
    "%time for _ in range(10): my_arr2 = my_arr * 2"
   ]
  },
  {
   "cell_type": "code",
   "execution_count": 3,
   "metadata": {},
   "outputs": [
    {
     "name": "stdout",
     "output_type": "stream",
     "text": [
      "CPU times: user 665 ms, sys: 209 ms, total: 874 ms\n",
      "Wall time: 883 ms\n"
     ]
    }
   ],
   "source": [
    "%time for _ in range(10): my_list2 = [x * 2 for x in my_list]"
   ]
  },
  {
   "cell_type": "code",
   "execution_count": 4,
   "metadata": {},
   "outputs": [
    {
     "name": "stdout",
     "output_type": "stream",
     "text": [
      "[ 4  8 11 14 18]\n",
      "<class 'numpy.ndarray'>\n"
     ]
    }
   ],
   "source": [
    "#list轉為ndarray\n",
    "a = np.array([1, 3, 5, 7, 9])\n",
    "b = np.array([3, 5, 6, 7, 9])\n",
    "c = a + b\n",
    "print(c)\n",
    "\n",
    "print(type(c))"
   ]
  },
  {
   "cell_type": "code",
   "execution_count": 5,
   "metadata": {},
   "outputs": [
    {
     "data": {
      "text/plain": [
       "[1, 3, 5, 7, 9, 3, 5, 6, 7, 9]"
      ]
     },
     "execution_count": 5,
     "metadata": {},
     "output_type": "execute_result"
    }
   ],
   "source": [
    "[1, 3, 5, 7, 9] + [3, 5, 6, 7, 9]"
   ]
  },
  {
   "cell_type": "code",
   "execution_count": 6,
   "metadata": {},
   "outputs": [
    {
     "name": "stdout",
     "output_type": "stream",
     "text": [
      "[ 4  8 11 14 18]\n",
      "1\n",
      "(5,)\n",
      "5\n",
      "int64\n"
     ]
    }
   ],
   "source": [
    "print(c)\n",
    "print(c.ndim)\n",
    "print(c.shape)\n",
    "print(c.size)\n",
    "print(c.dtype)"
   ]
  },
  {
   "cell_type": "code",
   "execution_count": 7,
   "metadata": {},
   "outputs": [
    {
     "data": {
      "text/plain": [
       "3"
      ]
     },
     "execution_count": 7,
     "metadata": {},
     "output_type": "execute_result"
    }
   ],
   "source": [
    "ml = [[1,2,3],[4,5,6]]\n",
    "ml[0][2]"
   ]
  },
  {
   "cell_type": "code",
   "execution_count": 8,
   "metadata": {},
   "outputs": [
    {
     "name": "stdout",
     "output_type": "stream",
     "text": [
      "[[1 2 3]\n",
      " [4 5 6]]\n",
      "2\n",
      "(2, 3)\n",
      "6\n",
      "int64\n"
     ]
    }
   ],
   "source": [
    "ndml = np.array(ml)\n",
    "print(ndml)\n",
    "print(ndml.ndim)\n",
    "print(ndml.shape)\n",
    "print(ndml.size)\n",
    "print(ndml.dtype)"
   ]
  },
  {
   "cell_type": "code",
   "execution_count": 9,
   "metadata": {},
   "outputs": [
    {
     "data": {
      "text/plain": [
       "6"
      ]
     },
     "execution_count": 9,
     "metadata": {},
     "output_type": "execute_result"
    }
   ],
   "source": [
    "import random\n",
    "random.randint(1,10)"
   ]
  },
  {
   "cell_type": "code",
   "execution_count": 10,
   "metadata": {},
   "outputs": [
    {
     "name": "stdout",
     "output_type": "stream",
     "text": [
      "[[ 0.55290111 -0.89699395 -0.60451881  0.9338497  -0.2651453 ]\n",
      " [ 0.60117611  0.22107289  0.14727527  0.87002914  0.73433073]\n",
      " [-0.05647413 -0.5560972  -0.3261356   1.15603857 -0.43935461]\n",
      " [-1.55891435 -0.84507818 -1.90737083  0.98064657 -1.36137077]\n",
      " [ 1.09136528 -1.05113323 -0.97337524  1.60536704  0.12150093]\n",
      " [ 0.81576406  0.15666804 -0.15447796 -1.09871366 -0.09895002]\n",
      " [-0.29503782  1.62576957 -1.43296218  0.02625492  1.25987669]\n",
      " [-0.468186    1.99093745 -0.58764348 -2.16370817  1.17178224]\n",
      " [ 0.52379899 -0.73397456  0.47565126  0.79934739 -0.38590578]\n",
      " [-1.65040898 -0.32718588 -1.72584059 -0.36290513 -1.34910042]\n",
      " [ 0.94227742  0.78454258 -0.17986587 -0.35045323 -0.54664418]\n",
      " [ 1.45618506 -0.32557442  1.20544828 -0.66693512  1.11512444]\n",
      " [ 0.39494041  0.52863991 -1.37447841 -0.31417252  0.74325595]\n",
      " [-0.30089056 -1.1917193  -1.02291561 -0.96862746 -0.12856388]\n",
      " [-1.71961213  0.78521221 -0.71608846 -0.79598999 -1.94695686]\n",
      " [ 0.04296335 -0.938042    1.04209182 -0.00990062  1.31984769]\n",
      " [-0.11518974 -0.90141736 -0.07234385  1.20101629  0.27435593]\n",
      " [ 1.44323625  0.38246017  0.57019383  1.33093412  0.23174485]\n",
      " [ 1.301814   -0.54686615 -0.86029712  2.28568662  0.32555997]\n",
      " [-1.2107317  -0.75470179 -0.0611802  -1.11810298 -1.49557928]\n",
      " [ 1.2988145   1.56983211 -0.6625838   0.13789375  0.0414436 ]\n",
      " [ 1.16968406 -0.13195726 -0.16322041  0.14551746 -0.04358359]\n",
      " [-0.04605495  0.1625925   2.46350024  0.80042535  0.77586611]\n",
      " [-0.17649575 -0.08378112 -1.50642201 -0.14206531 -1.10208946]\n",
      " [ 0.67675921 -0.07132819  1.41608285  1.29255859  1.31379601]\n",
      " [ 2.03463959 -0.7318606  -0.69723932 -0.33169705 -0.44233352]\n",
      " [-0.20313919 -0.14332371 -1.28602892 -0.37057447 -2.52283721]\n",
      " [-1.45497346  1.57326087 -0.98658863  0.85392031  0.96916615]\n",
      " [ 0.06536982  0.19155064  0.91993163 -1.86152478 -1.0719992 ]\n",
      " [ 0.51764273  0.62539556 -1.09306537 -0.85518036  0.00456111]\n",
      " [-0.82675962 -1.52390972 -0.12863504  1.63082257  0.42785253]\n",
      " [ 0.23415777 -0.74983697 -1.25782342 -0.80691398  0.15585208]\n",
      " [ 1.54344869  0.85506232 -0.25231297  0.06070082 -0.43295365]\n",
      " [ 0.75394068  0.04882719  0.11764599 -0.65691168  0.30962573]\n",
      " [ 0.58323521 -0.2723155  -0.97059432 -1.712048    1.7280519 ]\n",
      " [-0.01608144  0.70664188  0.22455295 -0.20226784  0.13998705]\n",
      " [ 0.31711854 -1.52295351 -1.42559115 -0.03891833 -2.27420112]\n",
      " [ 0.83352486  0.5797832   2.88486124 -0.26594316 -0.34332799]\n",
      " [ 1.45874954  0.75433441  0.33763842 -1.14813777 -0.77449881]\n",
      " [ 1.2120955  -0.85452934 -0.98818931  0.80098947 -2.0994676 ]\n",
      " [ 0.68601556 -1.07275394 -0.09297743 -0.87085926  0.59259322]\n",
      " [-0.81968632  0.62867817  0.87111526 -0.85312865 -1.85457401]\n",
      " [-0.91064235 -0.64217806  2.02906718 -0.87946941 -0.77869644]\n",
      " [ 0.34946395  0.1712287   0.65861464 -2.49641516 -0.02636145]\n",
      " [-0.01761772 -1.45739934  0.34901934  0.98630817 -0.20202322]\n",
      " [-0.2172851   1.93656459 -0.45213257  0.71101797 -1.06790213]\n",
      " [ 1.20364757 -0.44465036 -1.60886672 -1.09441028 -0.70318071]\n",
      " [-0.57094639  0.23082874 -0.71797014 -1.49032997 -1.33666725]\n",
      " [-0.58003591  1.6800805  -0.70542887 -0.93408447  1.21081771]\n",
      " [-0.88021755 -0.02415592  0.22920624  1.18803949  1.90336408]]\n",
      "[[55.52901106 41.03006051 43.95481194 59.338497   47.34854697]\n",
      " [56.01176113 52.21072888 51.4727527  58.70029145 57.34330728]\n",
      " [49.43525874 44.43902802 46.73864396 61.56038572 45.60645392]\n",
      " [34.41085655 41.54921817 30.92629172 59.80646568 36.38629227]\n",
      " [60.91365281 39.48866775 40.26624761 66.05367039 51.21500935]\n",
      " [58.15764056 51.5666804  48.45522036 39.01286339 49.01049978]\n",
      " [47.04962178 66.25769567 35.67037818 50.26254918 62.59876693]\n",
      " [45.31814001 69.90937452 44.12356521 28.36291827 61.71782243]\n",
      " [55.23798994 42.66025444 54.75651261 57.99347387 46.14094219]\n",
      " [33.49591022 46.72814116 32.74159414 46.37094866 36.50899576]\n",
      " [59.42277423 57.84542583 48.20134134 46.49546773 44.53355816]\n",
      " [64.5618506  46.7442558  62.05448284 43.3306488  61.15124443]\n",
      " [53.94940407 55.28639912 36.25521591 46.85827483 57.43255955]\n",
      " [46.99109438 38.082807   39.77084395 40.31372538 48.71436118]\n",
      " [32.80387867 57.85212206 42.83911541 42.04010011 30.53043139]\n",
      " [50.42963345 40.61958002 60.42091825 49.90099382 63.1984769 ]\n",
      " [48.84810257 40.98582643 49.27656151 62.01016289 52.74355931]\n",
      " [64.43236251 53.82460174 55.70193834 63.30934119 52.31744847]\n",
      " [63.01813997 44.53133849 41.39702881 72.85686616 53.25559971]\n",
      " [37.89268298 42.45298215 49.38819802 38.81897021 35.04420724]\n",
      " [62.98814502 65.69832108 43.37416202 51.37893755 50.41443601]\n",
      " [61.69684063 48.68042741 48.36779587 51.45517464 49.56416408]\n",
      " [49.53945051 51.62592495 74.63500245 58.0042535  57.75866107]\n",
      " [48.2350425  49.16218884 34.93577985 48.57934692 38.97910536]\n",
      " [56.76759215 49.28671811 64.16082845 62.92558586 63.13796012]\n",
      " [70.3463959  42.681394   43.02760678 46.68302947 45.57666484]\n",
      " [47.96860807 48.56676285 37.13971085 46.29425531 24.77162787]\n",
      " [35.45026536 65.73260867 40.13411367 58.5392031  59.69166151]\n",
      " [50.65369817 51.91550639 59.1993163  31.38475225 39.28000799]\n",
      " [55.17642728 56.2539556  39.06934625 41.4481964  50.04561113]\n",
      " [41.73240378 34.76090278 48.71364959 66.30822573 54.27852529]\n",
      " [52.34157771 42.50163028 37.42176584 41.93086023 51.55852082]\n",
      " [65.43448688 58.55062318 47.4768703  50.60700824 45.67046349]\n",
      " [57.53940679 50.48827193 51.17645987 43.43088318 53.09625735]\n",
      " [55.83235211 47.27684502 40.29405684 32.87951996 67.28051899]\n",
      " [49.83918564 57.06641883 52.24552946 47.9773216  51.39987048]\n",
      " [53.17118538 34.77046491 35.74408852 49.6108167  27.25798882]\n",
      " [58.33524857 55.79783198 78.84861236 47.34056843 46.56672013]\n",
      " [64.58749536 57.5433441  53.37638418 38.51862228 42.25501185]\n",
      " [62.12095503 41.45470656 40.11810688 58.00989468 29.00532402]\n",
      " [56.86015557 39.2724606  49.07022568 41.29140745 55.9259322 ]\n",
      " [41.80313684 56.28678165 58.71115256 41.46871346 31.45425994]\n",
      " [40.89357651 43.57821943 70.2906718  41.20530593 42.21303565]\n",
      " [53.4946395  51.71228702 56.58614638 25.03584837 49.73638551]\n",
      " [49.82382278 35.42600657 53.49019339 59.8630817  47.97976781]\n",
      " [47.82714895 69.3656459  45.47867435 57.11017966 39.32097874]\n",
      " [62.03647575 45.55349642 33.91133277 39.05589723 42.96819286]\n",
      " [44.29053606 52.30828739 42.82029857 35.09670032 36.63332751]\n",
      " [44.19964094 66.80080503 42.94571126 40.65915529 62.1081771 ]\n",
      " [41.19782454 49.75844078 52.29206242 61.88039491 69.03364077]]\n",
      "2\n",
      "(50, 5)\n",
      "float64\n"
     ]
    },
    {
     "data": {
      "text/plain": [
       "array([[55, 41, 43, 59, 47],\n",
       "       [56, 52, 51, 58, 57],\n",
       "       [49, 44, 46, 61, 45],\n",
       "       [34, 41, 30, 59, 36],\n",
       "       [60, 39, 40, 66, 51],\n",
       "       [58, 51, 48, 39, 49],\n",
       "       [47, 66, 35, 50, 62],\n",
       "       [45, 69, 44, 28, 61],\n",
       "       [55, 42, 54, 57, 46],\n",
       "       [33, 46, 32, 46, 36],\n",
       "       [59, 57, 48, 46, 44],\n",
       "       [64, 46, 62, 43, 61],\n",
       "       [53, 55, 36, 46, 57],\n",
       "       [46, 38, 39, 40, 48],\n",
       "       [32, 57, 42, 42, 30],\n",
       "       [50, 40, 60, 49, 63],\n",
       "       [48, 40, 49, 62, 52],\n",
       "       [64, 53, 55, 63, 52],\n",
       "       [63, 44, 41, 72, 53],\n",
       "       [37, 42, 49, 38, 35],\n",
       "       [62, 65, 43, 51, 50],\n",
       "       [61, 48, 48, 51, 49],\n",
       "       [49, 51, 74, 58, 57],\n",
       "       [48, 49, 34, 48, 38],\n",
       "       [56, 49, 64, 62, 63],\n",
       "       [70, 42, 43, 46, 45],\n",
       "       [47, 48, 37, 46, 24],\n",
       "       [35, 65, 40, 58, 59],\n",
       "       [50, 51, 59, 31, 39],\n",
       "       [55, 56, 39, 41, 50],\n",
       "       [41, 34, 48, 66, 54],\n",
       "       [52, 42, 37, 41, 51],\n",
       "       [65, 58, 47, 50, 45],\n",
       "       [57, 50, 51, 43, 53],\n",
       "       [55, 47, 40, 32, 67],\n",
       "       [49, 57, 52, 47, 51],\n",
       "       [53, 34, 35, 49, 27],\n",
       "       [58, 55, 78, 47, 46],\n",
       "       [64, 57, 53, 38, 42],\n",
       "       [62, 41, 40, 58, 29],\n",
       "       [56, 39, 49, 41, 55],\n",
       "       [41, 56, 58, 41, 31],\n",
       "       [40, 43, 70, 41, 42],\n",
       "       [53, 51, 56, 25, 49],\n",
       "       [49, 35, 53, 59, 47],\n",
       "       [47, 69, 45, 57, 39],\n",
       "       [62, 45, 33, 39, 42],\n",
       "       [44, 52, 42, 35, 36],\n",
       "       [44, 66, 42, 40, 62],\n",
       "       [41, 49, 52, 61, 69]])"
      ]
     },
     "execution_count": 10,
     "metadata": {},
     "output_type": "execute_result"
    }
   ],
   "source": [
    "import numpy as np\n",
    "data = np.random.randn(50,5)\n",
    "print(data)\n",
    "print(data * 10 + 50)\n",
    "print(data.ndim)\n",
    "print(data.shape)\n",
    "print(data.dtype)\n",
    "\n",
    "data = data * 10 + 50\n",
    "\n",
    "newData = data.astype(np.int64)\n",
    "newData"
   ]
  },
  {
   "cell_type": "code",
   "execution_count": 11,
   "metadata": {},
   "outputs": [
    {
     "name": "stdout",
     "output_type": "stream",
     "text": [
      "學生總分:219,學生平均:43.80\n",
      "學生總分:207,學生平均:41.40\n",
      "學生總分:250,學生平均:50.00\n",
      "學生總分:230,學生平均:46.00\n",
      "學生總分:205,學生平均:41.00\n",
      "學生總分:262,學生平均:52.40\n",
      "學生總分:219,學生平均:43.80\n",
      "學生總分:248,學生平均:49.60\n",
      "學生總分:220,學生平均:44.00\n",
      "學生總分:224,學生平均:44.80\n",
      "學生總分:272,學生平均:54.40\n",
      "學生總分:267,學生平均:53.40\n",
      "學生總分:258,學生平均:51.60\n",
      "學生總分:275,學生平均:55.00\n",
      "學生總分:258,學生平均:51.60\n",
      "學生總分:269,學生平均:53.80\n",
      "學生總分:246,學生平均:49.20\n",
      "學生總分:229,學生平均:45.80\n",
      "學生總分:272,學生平均:54.40\n",
      "學生總分:269,學生平均:53.80\n",
      "學生總分:259,學生平均:51.80\n",
      "學生總分:253,學生平均:50.60\n",
      "學生總分:275,學生平均:55.00\n",
      "學生總分:277,學生平均:55.40\n",
      "學生總分:251,學生平均:50.20\n",
      "學生總分:226,學生平均:45.20\n",
      "學生總分:240,學生平均:48.00\n",
      "學生總分:254,學生平均:50.80\n",
      "學生總分:276,學生平均:55.20\n",
      "學生總分:266,學生平均:53.20\n",
      "學生總分:218,學生平均:43.60\n",
      "學生總分:285,學生平均:57.00\n",
      "學生總分:256,學生平均:51.20\n",
      "學生總分:265,學生平均:53.00\n",
      "學生總分:236,學生平均:47.20\n",
      "學生總分:226,學生平均:45.20\n",
      "學生總分:249,學生平均:49.80\n",
      "學生總分:247,學生平均:49.40\n",
      "學生總分:248,學生平均:49.60\n",
      "學生總分:240,學生平均:48.00\n",
      "學生總分:236,學生平均:47.20\n",
      "學生總分:271,學生平均:54.20\n",
      "學生總分:198,學生平均:39.60\n",
      "學生總分:296,學生平均:59.20\n",
      "學生總分:233,學生平均:46.60\n",
      "學生總分:236,學生平均:47.20\n",
      "學生總分:269,學生平均:53.80\n",
      "學生總分:268,學生平均:53.60\n",
      "學生總分:262,學生平均:52.40\n",
      "學生總分:262,學生平均:52.40\n",
      "全班總分:12477,全型平均:49.91\n"
     ]
    }
   ],
   "source": [
    "import numpy as np\n",
    "data = np.random.randn(50,5)\n",
    "intData = data * 10 + 50\n",
    "newData = intData.astype(np.int64)\n",
    "for d in newData:\n",
    "    print(\"學生總分:{:d},學生平均:{:.2f}\".format(d.sum(),d.mean()))\n",
    "print(\"全班總分:{:d},全型平均:{:.2f}\".format(newData.sum(),newData.mean()))"
   ]
  },
  {
   "cell_type": "code",
   "execution_count": 12,
   "metadata": {},
   "outputs": [
    {
     "data": {
      "text/plain": [
       "array([[0, 0, 0],\n",
       "       [0, 0, 0]])"
      ]
     },
     "execution_count": 12,
     "metadata": {},
     "output_type": "execute_result"
    }
   ],
   "source": [
    "#zeros()\n",
    "np.zeros((2,3),dtype=np.int64)"
   ]
  },
  {
   "cell_type": "code",
   "execution_count": 13,
   "metadata": {},
   "outputs": [
    {
     "data": {
      "text/plain": [
       "array([[1, 1, 1],\n",
       "       [1, 1, 1]])"
      ]
     },
     "execution_count": 13,
     "metadata": {},
     "output_type": "execute_result"
    }
   ],
   "source": [
    "np.ones((2,3),dtype=np.int64)"
   ]
  },
  {
   "cell_type": "code",
   "execution_count": 14,
   "metadata": {},
   "outputs": [
    {
     "data": {
      "text/plain": [
       "array([ 2,  3,  4,  5,  6,  7,  8,  9, 10, 11, 12, 13, 14, 15, 16, 17, 18,\n",
       "       19, 20, 21, 22, 23, 24, 25, 26, 27, 28, 29, 30, 31, 32, 33, 34, 35,\n",
       "       36, 37, 38, 39, 40, 41, 42, 43, 44, 45, 46, 47, 48, 49])"
      ]
     },
     "execution_count": 14,
     "metadata": {},
     "output_type": "execute_result"
    }
   ],
   "source": [
    "np.arange(2, 50)"
   ]
  },
  {
   "cell_type": "code",
   "execution_count": 15,
   "metadata": {},
   "outputs": [
    {
     "data": {
      "text/plain": [
       "array([0, 1, 2, 3, 4, 5, 6, 7, 8, 9])"
      ]
     },
     "execution_count": 15,
     "metadata": {},
     "output_type": "execute_result"
    }
   ],
   "source": [
    "arr = np.arange(10)\n",
    "arr"
   ]
  },
  {
   "cell_type": "code",
   "execution_count": 16,
   "metadata": {},
   "outputs": [
    {
     "data": {
      "text/plain": [
       "5"
      ]
     },
     "execution_count": 16,
     "metadata": {},
     "output_type": "execute_result"
    }
   ],
   "source": [
    "arr[5]"
   ]
  },
  {
   "cell_type": "code",
   "execution_count": 17,
   "metadata": {},
   "outputs": [
    {
     "data": {
      "text/plain": [
       "array([5, 6, 7])"
      ]
     },
     "execution_count": 17,
     "metadata": {},
     "output_type": "execute_result"
    }
   ],
   "source": [
    "arr[5:8]"
   ]
  },
  {
   "cell_type": "code",
   "execution_count": 18,
   "metadata": {},
   "outputs": [
    {
     "data": {
      "text/plain": [
       "(3, 3)"
      ]
     },
     "execution_count": 18,
     "metadata": {},
     "output_type": "execute_result"
    }
   ],
   "source": [
    "arr2d = np.array([[1,2,3],[4, 5, 6],[7, 8, 9]])\n",
    "arr2d\n",
    "arr2d.shape"
   ]
  },
  {
   "cell_type": "code",
   "execution_count": 19,
   "metadata": {},
   "outputs": [
    {
     "data": {
      "text/plain": [
       "array([7, 8, 9])"
      ]
     },
     "execution_count": 19,
     "metadata": {},
     "output_type": "execute_result"
    }
   ],
   "source": [
    "arr2d[2]"
   ]
  },
  {
   "cell_type": "code",
   "execution_count": 20,
   "metadata": {},
   "outputs": [
    {
     "data": {
      "text/plain": [
       "3"
      ]
     },
     "execution_count": 20,
     "metadata": {},
     "output_type": "execute_result"
    }
   ],
   "source": [
    "arr2d[0][2]"
   ]
  },
  {
   "cell_type": "code",
   "execution_count": 21,
   "metadata": {},
   "outputs": [
    {
     "data": {
      "text/plain": [
       "3"
      ]
     },
     "execution_count": 21,
     "metadata": {},
     "output_type": "execute_result"
    }
   ],
   "source": [
    "arr2d[0,2]"
   ]
  },
  {
   "cell_type": "code",
   "execution_count": 22,
   "metadata": {},
   "outputs": [],
   "source": [
    "arr2d = np.array([[1, 2, 3],[4, 5, 6],[7, 8, 9]])"
   ]
  },
  {
   "cell_type": "code",
   "execution_count": 23,
   "metadata": {},
   "outputs": [
    {
     "name": "stdout",
     "output_type": "stream",
     "text": [
      "[[1 2 3]\n",
      " [4 5 6]]\n"
     ]
    },
    {
     "data": {
      "text/plain": [
       "(2, 3)"
      ]
     },
     "execution_count": 23,
     "metadata": {},
     "output_type": "execute_result"
    }
   ],
   "source": [
    "arr2d1=arr2d[:2]\n",
    "print(arr2d1)\n",
    "arr2d1.shape"
   ]
  },
  {
   "cell_type": "code",
   "execution_count": 24,
   "metadata": {},
   "outputs": [
    {
     "name": "stdout",
     "output_type": "stream",
     "text": [
      "[[2 3]\n",
      " [5 6]]\n"
     ]
    },
    {
     "data": {
      "text/plain": [
       "(2, 2)"
      ]
     },
     "execution_count": 24,
     "metadata": {},
     "output_type": "execute_result"
    }
   ],
   "source": [
    "arr2d2 = arr2d[:2, 1:]\n",
    "print(arr2d2)\n",
    "arr2d2.shape"
   ]
  },
  {
   "cell_type": "code",
   "execution_count": 25,
   "metadata": {},
   "outputs": [
    {
     "data": {
      "text/plain": [
       "array([[ 1. ,  2.8,  4.6],\n",
       "       [ 6.4,  8.2, 10. ]])"
      ]
     },
     "execution_count": 25,
     "metadata": {},
     "output_type": "execute_result"
    }
   ],
   "source": [
    "#陣列初始化與重新規劃\n",
    "import numpy as np\n",
    "x = np.linspace(1,10,6)\n",
    "y = x.reshape((2,3))\n",
    "y"
   ]
  },
  {
   "cell_type": "code",
   "execution_count": 26,
   "metadata": {},
   "outputs": [
    {
     "data": {
      "text/plain": [
       "array([[ 1. ,  2.8,  4.6],\n",
       "       [ 6.4,  8.2, 10. ]])"
      ]
     },
     "execution_count": 26,
     "metadata": {},
     "output_type": "execute_result"
    }
   ],
   "source": [
    "x = np.linspace(1, 10, 6).reshape((2, 3))\n",
    "x"
   ]
  },
  {
   "cell_type": "code",
   "execution_count": 27,
   "metadata": {},
   "outputs": [
    {
     "data": {
      "text/plain": [
       "array([[ 0,  1],\n",
       "       [ 2,  3],\n",
       "       [ 4,  5],\n",
       "       [ 6,  7],\n",
       "       [ 8,  9],\n",
       "       [10, 11],\n",
       "       [12, 13],\n",
       "       [14, 15],\n",
       "       [16, 17],\n",
       "       [18, 19],\n",
       "       [20, 21],\n",
       "       [22, 23],\n",
       "       [24, 25],\n",
       "       [26, 27],\n",
       "       [28, 29],\n",
       "       [30, 31],\n",
       "       [32, 33],\n",
       "       [34, 35],\n",
       "       [36, 37],\n",
       "       [38, 39],\n",
       "       [40, 41],\n",
       "       [42, 43],\n",
       "       [44, 45],\n",
       "       [46, 47],\n",
       "       [48, 49],\n",
       "       [50, 51],\n",
       "       [52, 53],\n",
       "       [54, 55],\n",
       "       [56, 57],\n",
       "       [58, 59],\n",
       "       [60, 61],\n",
       "       [62, 63],\n",
       "       [64, 65],\n",
       "       [66, 67],\n",
       "       [68, 69],\n",
       "       [70, 71],\n",
       "       [72, 73],\n",
       "       [74, 75],\n",
       "       [76, 77],\n",
       "       [78, 79],\n",
       "       [80, 81],\n",
       "       [82, 83],\n",
       "       [84, 85],\n",
       "       [86, 87],\n",
       "       [88, 89],\n",
       "       [90, 91],\n",
       "       [92, 93],\n",
       "       [94, 95],\n",
       "       [96, 97],\n",
       "       [98, 99]])"
      ]
     },
     "execution_count": 27,
     "metadata": {},
     "output_type": "execute_result"
    }
   ],
   "source": [
    "y = np.arange(100).reshape((50,2))\n",
    "y"
   ]
  },
  {
   "cell_type": "code",
   "execution_count": 28,
   "metadata": {},
   "outputs": [
    {
     "data": {
      "text/plain": [
       "array([ True, False, False,  True, False, False, False])"
      ]
     },
     "execution_count": 28,
     "metadata": {},
     "output_type": "execute_result"
    }
   ],
   "source": [
    "names = np.array(['Bob', 'Joe', 'Will', 'Bob', 'Will', 'Joe', 'Joe'])\n",
    "names == 'Bob'"
   ]
  },
  {
   "cell_type": "code",
   "execution_count": 29,
   "metadata": {},
   "outputs": [
    {
     "data": {
      "text/plain": [
       "array([[-0.44188213,  0.15603295,  0.88767862,  0.30661233],\n",
       "       [-2.07303401, -1.04480249, -0.0770781 , -2.16729487],\n",
       "       [-0.08602685, -0.27506197, -0.48460833,  1.05166941],\n",
       "       [ 0.86311139, -0.03822666, -1.07295764, -0.24020453],\n",
       "       [ 1.03074802, -0.15101466, -1.27148118,  0.70480466],\n",
       "       [-0.35729837, -1.27420306, -0.09664322,  0.86077153],\n",
       "       [ 1.35424439,  0.29327153, -0.14519435,  0.03967922]])"
      ]
     },
     "execution_count": 29,
     "metadata": {},
     "output_type": "execute_result"
    }
   ],
   "source": [
    "data = np.random.randn(7,4)\n",
    "data"
   ]
  },
  {
   "cell_type": "code",
   "execution_count": 30,
   "metadata": {},
   "outputs": [
    {
     "data": {
      "text/plain": [
       "array([[-0.44188213,  0.15603295,  0.88767862,  0.30661233],\n",
       "       [ 0.86311139, -0.03822666, -1.07295764, -0.24020453]])"
      ]
     },
     "execution_count": 30,
     "metadata": {},
     "output_type": "execute_result"
    }
   ],
   "source": [
    "data[names == 'Bob']"
   ]
  },
  {
   "cell_type": "code",
   "execution_count": 31,
   "metadata": {},
   "outputs": [
    {
     "data": {
      "text/plain": [
       "array([[-0.08602685, -0.27506197, -0.48460833,  1.05166941],\n",
       "       [ 1.03074802, -0.15101466, -1.27148118,  0.70480466]])"
      ]
     },
     "execution_count": 31,
     "metadata": {},
     "output_type": "execute_result"
    }
   ],
   "source": [
    "data[names == 'Will']"
   ]
  },
  {
   "cell_type": "code",
   "execution_count": 32,
   "metadata": {},
   "outputs": [
    {
     "data": {
      "text/plain": [
       "array([[-2.07303401, -1.04480249, -0.0770781 , -2.16729487],\n",
       "       [-0.35729837, -1.27420306, -0.09664322,  0.86077153],\n",
       "       [ 1.35424439,  0.29327153, -0.14519435,  0.03967922]])"
      ]
     },
     "execution_count": 32,
     "metadata": {},
     "output_type": "execute_result"
    }
   ],
   "source": [
    "data[names == 'Joe']"
   ]
  },
  {
   "cell_type": "code",
   "execution_count": 33,
   "metadata": {},
   "outputs": [
    {
     "data": {
      "text/plain": [
       "array([[ True, False, False, False],\n",
       "       [ True,  True,  True,  True],\n",
       "       [ True,  True,  True, False],\n",
       "       [False,  True,  True,  True],\n",
       "       [False,  True,  True, False],\n",
       "       [ True,  True,  True, False],\n",
       "       [False, False,  True, False]])"
      ]
     },
     "execution_count": 33,
     "metadata": {},
     "output_type": "execute_result"
    }
   ],
   "source": [
    "data < 0"
   ]
  },
  {
   "cell_type": "code",
   "execution_count": 34,
   "metadata": {},
   "outputs": [
    {
     "data": {
      "text/plain": [
       "array([[2.        , 0.15603295, 0.88767862, 0.30661233],\n",
       "       [2.        , 2.        , 2.        , 2.        ],\n",
       "       [2.        , 2.        , 2.        , 1.05166941],\n",
       "       [0.86311139, 2.        , 2.        , 2.        ],\n",
       "       [1.03074802, 2.        , 2.        , 0.70480466],\n",
       "       [2.        , 2.        , 2.        , 0.86077153],\n",
       "       [1.35424439, 0.29327153, 2.        , 0.03967922]])"
      ]
     },
     "execution_count": 34,
     "metadata": {},
     "output_type": "execute_result"
    }
   ],
   "source": [
    "data[data<0] = 2\n",
    "data"
   ]
  },
  {
   "cell_type": "code",
   "execution_count": 35,
   "metadata": {},
   "outputs": [
    {
     "data": {
      "text/plain": [
       "array([[-0.3280738 ,  0.08023543,  0.01845786,  0.38355561],\n",
       "       [-0.65999028, -1.57768613, -0.43501684,  1.3604112 ],\n",
       "       [ 0.0304126 , -0.18198644,  0.92052479,  1.32611662],\n",
       "       [ 0.67118217, -0.5654022 ,  0.48647332, -0.70539392]])"
      ]
     },
     "execution_count": 35,
     "metadata": {},
     "output_type": "execute_result"
    }
   ],
   "source": [
    "arr = np.random.randn(4, 4)\n",
    "arr"
   ]
  },
  {
   "cell_type": "code",
   "execution_count": 36,
   "metadata": {},
   "outputs": [
    {
     "data": {
      "text/plain": [
       "array([[-2,  2,  2,  2],\n",
       "       [-2, -2, -2,  2],\n",
       "       [ 2, -2,  2,  2],\n",
       "       [ 2, -2,  2, -2]])"
      ]
     },
     "execution_count": 36,
     "metadata": {},
     "output_type": "execute_result"
    }
   ],
   "source": [
    "np.where(arr>0, 2, -2)"
   ]
  },
  {
   "cell_type": "code",
   "execution_count": 37,
   "metadata": {},
   "outputs": [
    {
     "data": {
      "text/plain": [
       "array([[-0.3280738 ,  2.        ,  2.        ,  2.        ],\n",
       "       [-0.65999028, -1.57768613, -0.43501684,  2.        ],\n",
       "       [ 2.        , -0.18198644,  2.        ,  2.        ],\n",
       "       [ 2.        , -0.5654022 ,  2.        , -0.70539392]])"
      ]
     },
     "execution_count": 37,
     "metadata": {},
     "output_type": "execute_result"
    }
   ],
   "source": [
    "np.where(arr>0, 2, arr) "
   ]
  },
  {
   "cell_type": "code",
   "execution_count": 38,
   "metadata": {},
   "outputs": [
    {
     "data": {
      "text/plain": [
       "array([[82, 65, 61, 73, 59],\n",
       "       [87, 83, 51, 52, 58],\n",
       "       [61, 70, 96, 95, 85],\n",
       "       [81, 84, 73, 60, 99],\n",
       "       [94, 99, 67, 93, 81],\n",
       "       [63, 91, 93, 80, 52],\n",
       "       [99, 99, 67, 71, 79],\n",
       "       [59, 82, 62, 73, 56],\n",
       "       [54, 60, 81, 78, 79],\n",
       "       [60, 51, 74, 52, 96]])"
      ]
     },
     "execution_count": 38,
     "metadata": {},
     "output_type": "execute_result"
    }
   ],
   "source": [
    "#10個同學,每個同學5個分數\n",
    "import numpy as np\n",
    "arr = np.random.randint(50,101, size=(10, 5))\n",
    "arr"
   ]
  },
  {
   "cell_type": "code",
   "execution_count": 39,
   "metadata": {},
   "outputs": [
    {
     "data": {
      "text/plain": [
       "3720"
      ]
     },
     "execution_count": 39,
     "metadata": {},
     "output_type": "execute_result"
    }
   ],
   "source": [
    "arr.sum()"
   ]
  },
  {
   "cell_type": "code",
   "execution_count": 40,
   "metadata": {},
   "outputs": [
    {
     "data": {
      "text/plain": [
       "74.4"
      ]
     },
     "execution_count": 40,
     "metadata": {},
     "output_type": "execute_result"
    }
   ],
   "source": [
    "arr.mean()"
   ]
  },
  {
   "cell_type": "code",
   "execution_count": 41,
   "metadata": {},
   "outputs": [
    {
     "data": {
      "text/plain": [
       "15.164432069813891"
      ]
     },
     "execution_count": 41,
     "metadata": {},
     "output_type": "execute_result"
    }
   ],
   "source": [
    "#標準差\n",
    "arr.std()"
   ]
  },
  {
   "cell_type": "code",
   "execution_count": 42,
   "metadata": {},
   "outputs": [
    {
     "data": {
      "text/plain": [
       "array([ 8.48528137, 15.58717421, 13.83618445, 12.84678948, 11.53082824,\n",
       "       15.96746692, 13.62350909,  9.68710483, 11.14629983, 16.84755175])"
      ]
     },
     "execution_count": 42,
     "metadata": {},
     "output_type": "execute_result"
    }
   ],
   "source": [
    "arr.std(axis=1)"
   ]
  },
  {
   "cell_type": "code",
   "execution_count": 43,
   "metadata": {},
   "outputs": [
    {
     "data": {
      "text/plain": [
       "array([340, 331, 407, 397, 434, 379, 415, 332, 352, 333])"
      ]
     },
     "execution_count": 43,
     "metadata": {},
     "output_type": "execute_result"
    }
   ],
   "source": [
    "arr.sum(axis=1)"
   ]
  },
  {
   "cell_type": "code",
   "execution_count": 44,
   "metadata": {},
   "outputs": [
    {
     "data": {
      "text/plain": [
       "array([68. , 66.2, 81.4, 79.4, 86.8, 75.8, 83. , 66.4, 70.4, 66.6])"
      ]
     },
     "execution_count": 44,
     "metadata": {},
     "output_type": "execute_result"
    }
   ],
   "source": [
    "arr.mean(axis=1)"
   ]
  },
  {
   "cell_type": "code",
   "execution_count": 45,
   "metadata": {},
   "outputs": [
    {
     "data": {
      "text/plain": [
       "array([74. , 78.4, 72.5, 72.7, 74.4])"
      ]
     },
     "execution_count": 45,
     "metadata": {},
     "output_type": "execute_result"
    }
   ],
   "source": [
    "arr.mean(axis=0)"
   ]
  },
  {
   "cell_type": "code",
   "execution_count": null,
   "metadata": {},
   "outputs": [],
   "source": []
  }
 ],
 "metadata": {
  "kernelspec": {
   "display_name": "Python 3",
   "language": "python",
   "name": "python3"
  },
  "language_info": {
   "codemirror_mode": {
    "name": "ipython",
    "version": 3
   },
   "file_extension": ".py",
   "mimetype": "text/x-python",
   "name": "python",
   "nbconvert_exporter": "python",
   "pygments_lexer": "ipython3",
   "version": "3.8.3"
  }
 },
 "nbformat": 4,
 "nbformat_minor": 4
}

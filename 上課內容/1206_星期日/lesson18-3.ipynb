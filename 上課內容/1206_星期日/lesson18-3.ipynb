{
 "cells": [
  {
   "cell_type": "code",
   "execution_count": 1,
   "id": "portuguese-eleven",
   "metadata": {},
   "outputs": [],
   "source": [
    "#下載json\n",
    "import requests\n",
    "from requests import ConnectionError,HTTPError,Timeout\n",
    "import numpy as np\n",
    "import pandas as pd\n",
    "\n",
    "CSV_URL = \"https://opendata.cwb.gov.tw/fileapi/v1/opendataapi/O-A0001-001?Authorization=rdec-key-123-45678-011121314&format=JSON\"\n",
    "try:\n",
    "    res = requests.get(CSV_URL,stream=True)    \n",
    "    res.raise_for_status()    \n",
    "except ConnectionError:\n",
    "    print('找不到伺服器')\n",
    "except HTTPError:\n",
    "    print('網頁找不到')\n",
    "except Timeout:\n",
    "    print('超過時間沒有回應')\n",
    "else:\n",
    "    with open('空氣品質指標.json', 'wb') as fd:\n",
    "        for chunk in res.iter_content(chunk_size=128):\n",
    "            fd.write(chunk)"
   ]
  },
  {
   "cell_type": "code",
   "execution_count": null,
   "id": "academic-collect",
   "metadata": {},
   "outputs": [],
   "source": []
  }
 ],
 "metadata": {
  "kernelspec": {
   "display_name": "Python 3",
   "language": "python",
   "name": "python3"
  },
  "language_info": {
   "codemirror_mode": {
    "name": "ipython",
    "version": 3
   },
   "file_extension": ".py",
   "mimetype": "text/x-python",
   "name": "python",
   "nbconvert_exporter": "python",
   "pygments_lexer": "ipython3",
   "version": "3.9.0"
  }
 },
 "nbformat": 4,
 "nbformat_minor": 5
}

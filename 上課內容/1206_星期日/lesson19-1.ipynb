{
 "cells": [
  {
   "cell_type": "code",
   "execution_count": 17,
   "id": "third-track",
   "metadata": {},
   "outputs": [
    {
     "name": "stdout",
     "output_type": "stream",
     "text": [
      "121.5319\n",
      "25.0478\n",
      "23.51\n",
      "69\n",
      "===\n",
      "120.6839\n",
      "24.1469\n",
      "18\n",
      "88\n",
      "===\n",
      "120.4881\n",
      "22.6714\n",
      "23.17\n",
      "56\n",
      "===\n"
     ]
    }
   ],
   "source": [
    "import requests\n",
    "url = 'http://api.openweathermap.org/data/2.5/group?id=1668341,1668399,1670481&units=metric&appid=29c4f184354b9889e87f7b494ac86aed'\n",
    "response=requests.get(url)\n",
    "weatherData = response.json()\n",
    "weatherDict = {}\n",
    "lon = []\n",
    "lat = []\n",
    "temp = []\n",
    "humidity = []\n",
    "for itemDict in weatherData['list']:\n",
    "    print(itemDict['coord']['lon'])\n",
    "    print(itemDict['coord']['lat'])\n",
    "    print(itemDict['main']['temp'])\n",
    "    print(itemDict['main']['humidity'])\n",
    "    print(\"===\")\n",
    "    \n",
    "    lon.append(itemDict['coord']['lon'])\n",
    "    lat.append(itemDict['coord']['lat'])\n",
    "    temp.append(itemDict['main']['temp'])\n",
    "    humidity.append(itemDict['main']['humidity'])\n",
    "        "
   ]
  },
  {
   "cell_type": "code",
   "execution_count": null,
   "id": "closed-profit",
   "metadata": {},
   "outputs": [],
   "source": []
  }
 ],
 "metadata": {
  "kernelspec": {
   "display_name": "Python 3",
   "language": "python",
   "name": "python3"
  },
  "language_info": {
   "codemirror_mode": {
    "name": "ipython",
    "version": 3
   },
   "file_extension": ".py",
   "mimetype": "text/x-python",
   "name": "python",
   "nbconvert_exporter": "python",
   "pygments_lexer": "ipython3",
   "version": "3.9.0"
  }
 },
 "nbformat": 4,
 "nbformat_minor": 5
}

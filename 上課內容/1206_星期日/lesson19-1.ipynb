{
 "cells": [
  {
   "cell_type": "code",
   "execution_count": 10,
   "id": "homeless-involvement",
   "metadata": {},
   "outputs": [
    {
     "name": "stdout",
     "output_type": "stream",
     "text": [
      "{'coord': {'lon': 121.5319, 'lat': 25.0478}, 'sys': {'country': 'TW', 'timezone': 28800, 'sunrise': 1612650820, 'sunset': 1612690943}, 'weather': [{'id': 801, 'main': 'Clouds', 'description': 'few clouds', 'icon': '02d'}], 'main': {'temp': 20.52, 'feels_like': 22, 'temp_min': 18.33, 'temp_max': 23, 'pressure': 1019, 'humidity': 78}, 'visibility': 10000, 'wind': {'speed': 1.03, 'deg': 0}, 'clouds': {'all': 20}, 'dt': 1612660170, 'id': 1668341, 'name': 'Taipei'}\n",
      "{'coord': {'lon': 120.6839, 'lat': 24.1469}, 'sys': {'country': 'TW', 'timezone': 28800, 'sunrise': 1612650953, 'sunset': 1612691217}, 'weather': [{'id': 741, 'main': 'Fog', 'description': 'fog', 'icon': '50d'}], 'main': {'temp': 16, 'feels_like': 17.27, 'temp_min': 16, 'temp_max': 16, 'pressure': 1019, 'humidity': 100}, 'visibility': 800, 'wind': {'speed': 1.03, 'deg': 360}, 'clouds': {'all': 75}, 'dt': 1612660170, 'id': 1668399, 'name': 'Taichung'}\n",
      "{'coord': {'lon': 120.4881, 'lat': 22.6714}, 'sys': {'country': 'TW', 'timezone': 28800, 'sunrise': 1612650887, 'sunset': 1612691377}, 'weather': [{'id': 802, 'main': 'Clouds', 'description': 'scattered clouds', 'icon': '03d'}], 'main': {'temp': 20.88, 'feels_like': 21.33, 'temp_min': 20, 'temp_max': 21.67, 'pressure': 1018, 'humidity': 68}, 'visibility': 7000, 'wind': {'speed': 1.54, 'deg': 30}, 'clouds': {'all': 40}, 'dt': 1612659943, 'id': 1670481, 'name': 'Pingtung City'}\n"
     ]
    }
   ],
   "source": [
    "import requests\n",
    "url = 'http://api.openweathermap.org/data/2.5/group?id=1668341,1668399,1670481&units=metric&appid=29c4f184354b9889e87f7b494ac86aed'\n",
    "response=requests.get(url)\n",
    "weatherData = response.json()\n",
    "for itemDict in weatherData['list']:\n",
    "    print(itemDict)"
   ]
  },
  {
   "cell_type": "code",
   "execution_count": null,
   "id": "casual-overview",
   "metadata": {},
   "outputs": [],
   "source": []
  }
 ],
 "metadata": {
  "kernelspec": {
   "display_name": "Python 3",
   "language": "python",
   "name": "python3"
  },
  "language_info": {
   "codemirror_mode": {
    "name": "ipython",
    "version": 3
   },
   "file_extension": ".py",
   "mimetype": "text/x-python",
   "name": "python",
   "nbconvert_exporter": "python",
   "pygments_lexer": "ipython3",
   "version": "3.9.0"
  }
 },
 "nbformat": 4,
 "nbformat_minor": 5
}

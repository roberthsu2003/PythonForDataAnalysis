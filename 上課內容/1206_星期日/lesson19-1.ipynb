{
 "cells": [
  {
   "cell_type": "code",
   "execution_count": 1,
   "id": "reduced-condition",
   "metadata": {},
   "outputs": [
    {
     "name": "stdout",
     "output_type": "stream",
     "text": [
      "121.5319\n",
      "25.0478\n",
      "23.51\n",
      "69\n",
      "Taipei\n",
      "===\n",
      "120.6839\n",
      "24.1469\n",
      "18\n",
      "88\n",
      "Taichung\n",
      "===\n",
      "120.4881\n",
      "22.6714\n",
      "23.17\n",
      "56\n",
      "Pingtung City\n",
      "===\n",
      "{'城市': ['Taipei', 'Taichung', 'Pingtung City'], '攝氏': [23.51, 18, 23.17], '緯度': [25.0478, 24.1469, 22.6714], '經度': [121.5319, 120.6839, 120.4881], '溼度': [69, 88, 56]}\n"
     ]
    }
   ],
   "source": [
    "import numpy as np\n",
    "import pandas as pd\n",
    "import requests\n",
    "url = 'http://api.openweathermap.org/data/2.5/group?id=1668341,1668399,1670481&units=metric&appid=29c4f184354b9889e87f7b494ac86aed'\n",
    "response=requests.get(url)\n",
    "weatherData = response.json()\n",
    "weatherDict = {}\n",
    "lon = []\n",
    "lat = []\n",
    "temp = []\n",
    "humidity = []\n",
    "cityName = []\n",
    "for itemDict in weatherData['list']:\n",
    "    print(itemDict['coord']['lon'])\n",
    "    print(itemDict['coord']['lat'])\n",
    "    print(itemDict['main']['temp'])\n",
    "    print(itemDict['main']['humidity'])\n",
    "    print(itemDict['name'])\n",
    "    print(\"===\")\n",
    "    \n",
    "    lon.append(itemDict['coord']['lon'])\n",
    "    lat.append(itemDict['coord']['lat'])\n",
    "    temp.append(itemDict['main']['temp'])\n",
    "    humidity.append(itemDict['main']['humidity'])\n",
    "    cityName.append(itemDict['name'])\n",
    "\n",
    "weatherDict['城市'] = cityName\n",
    "weatherDict['攝氏'] = temp\n",
    "weatherDict['緯度'] = lat\n",
    "weatherDict['經度'] = lon\n",
    "weatherDict['溼度'] = humidity\n",
    "print(weatherDict)\n",
    "\n",
    "\n"
   ]
  },
  {
   "cell_type": "code",
   "execution_count": 2,
   "id": "valued-halloween",
   "metadata": {},
   "outputs": [],
   "source": [
    "weatherDataFrame = pd.DataFrame(weatherDict)\n",
    "weatherDataFrame.set_index('城市',inplace=True)"
   ]
  },
  {
   "cell_type": "code",
   "execution_count": 3,
   "id": "color-massachusetts",
   "metadata": {},
   "outputs": [
    {
     "data": {
      "text/html": [
       "<div>\n",
       "<style scoped>\n",
       "    .dataframe tbody tr th:only-of-type {\n",
       "        vertical-align: middle;\n",
       "    }\n",
       "\n",
       "    .dataframe tbody tr th {\n",
       "        vertical-align: top;\n",
       "    }\n",
       "\n",
       "    .dataframe thead th {\n",
       "        text-align: right;\n",
       "    }\n",
       "</style>\n",
       "<table border=\"1\" class=\"dataframe\">\n",
       "  <thead>\n",
       "    <tr style=\"text-align: right;\">\n",
       "      <th></th>\n",
       "      <th>攝氏</th>\n",
       "      <th>緯度</th>\n",
       "      <th>經度</th>\n",
       "      <th>溼度</th>\n",
       "    </tr>\n",
       "    <tr>\n",
       "      <th>城市</th>\n",
       "      <th></th>\n",
       "      <th></th>\n",
       "      <th></th>\n",
       "      <th></th>\n",
       "    </tr>\n",
       "  </thead>\n",
       "  <tbody>\n",
       "    <tr>\n",
       "      <th>Taipei</th>\n",
       "      <td>23.51</td>\n",
       "      <td>25.0478</td>\n",
       "      <td>121.5319</td>\n",
       "      <td>69</td>\n",
       "    </tr>\n",
       "    <tr>\n",
       "      <th>Taichung</th>\n",
       "      <td>18.00</td>\n",
       "      <td>24.1469</td>\n",
       "      <td>120.6839</td>\n",
       "      <td>88</td>\n",
       "    </tr>\n",
       "    <tr>\n",
       "      <th>Pingtung City</th>\n",
       "      <td>23.17</td>\n",
       "      <td>22.6714</td>\n",
       "      <td>120.4881</td>\n",
       "      <td>56</td>\n",
       "    </tr>\n",
       "  </tbody>\n",
       "</table>\n",
       "</div>"
      ],
      "text/plain": [
       "                  攝氏       緯度        經度  溼度\n",
       "城市                                         \n",
       "Taipei         23.51  25.0478  121.5319  69\n",
       "Taichung       18.00  24.1469  120.6839  88\n",
       "Pingtung City  23.17  22.6714  120.4881  56"
      ]
     },
     "execution_count": 3,
     "metadata": {},
     "output_type": "execute_result"
    }
   ],
   "source": [
    "weatherDataFrame"
   ]
  },
  {
   "cell_type": "code",
   "execution_count": null,
   "id": "heard-order",
   "metadata": {},
   "outputs": [],
   "source": []
  }
 ],
 "metadata": {
  "kernelspec": {
   "display_name": "Python 3",
   "language": "python",
   "name": "python3"
  },
  "language_info": {
   "codemirror_mode": {
    "name": "ipython",
    "version": 3
   },
   "file_extension": ".py",
   "mimetype": "text/x-python",
   "name": "python",
   "nbconvert_exporter": "python",
   "pygments_lexer": "ipython3",
   "version": "3.9.0"
  }
 },
 "nbformat": 4,
 "nbformat_minor": 5
}

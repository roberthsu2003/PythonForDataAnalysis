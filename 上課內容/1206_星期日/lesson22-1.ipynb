{
 "cells": [
  {
   "cell_type": "code",
   "execution_count": 1,
   "id": "behind-texture",
   "metadata": {},
   "outputs": [
    {
     "name": "stdout",
     "output_type": "stream",
     "text": [
      "下載完成\n"
     ]
    }
   ],
   "source": [
    "import requests\n",
    "CSV_URL = \"https://opendata.epa.gov.tw/api/v1/AQI?%24skip=0&%24top=1000&%24format=csv\"\n",
    "response = requests.get(CSV_URL,stream=True)\n",
    "filename = '空氣品質指標.csv'\n",
    "with open(filename, 'wb') as fd:\n",
    "    for chunk in response.iter_content(chunk_size=128):\n",
    "        fd.write(chunk)\n",
    "print(\"下載完成\")"
   ]
  },
  {
   "cell_type": "code",
   "execution_count": null,
   "id": "favorite-monkey",
   "metadata": {},
   "outputs": [],
   "source": []
  }
 ],
 "metadata": {
  "kernelspec": {
   "display_name": "Python 3",
   "language": "python",
   "name": "python3"
  },
  "language_info": {
   "codemirror_mode": {
    "name": "ipython",
    "version": 3
   },
   "file_extension": ".py",
   "mimetype": "text/x-python",
   "name": "python",
   "nbconvert_exporter": "python",
   "pygments_lexer": "ipython3",
   "version": "3.8.7"
  }
 },
 "nbformat": 4,
 "nbformat_minor": 5
}

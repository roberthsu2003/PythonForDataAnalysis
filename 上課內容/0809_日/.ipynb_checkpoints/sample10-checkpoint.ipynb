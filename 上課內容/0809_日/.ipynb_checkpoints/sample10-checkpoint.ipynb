{
 "cells": [
  {
   "cell_type": "code",
   "execution_count": 2,
   "metadata": {},
   "outputs": [],
   "source": [
    "import random\n",
    "\n",
    "students = []\n",
    "for i in range(50):\n",
    "    scores = ['stu' + str(i+1)] #先建立一個元素的scores\n",
    "    for _ in range(5):\n",
    "        scores += [random.randint(50,100)]\n",
    "    students.append(scores)"
   ]
  },
  {
   "cell_type": "code",
   "execution_count": 5,
   "metadata": {},
   "outputs": [
    {
     "name": "stdout",
     "output_type": "stream",
     "text": [
      "<_csv.writer object at 0x7fbc385f9e50>\n"
     ]
    }
   ],
   "source": [
    "#建立一個students.csv檔\n",
    "#使用上一個cell內建立的2維list->students\n",
    "import csv\n",
    "\n",
    "with open('students.csv','w',newline='',encoding='utf-8') as file:\n",
    "    csvWriter = csv.writer(file)\n",
    "    print(csvWriter)\n"
   ]
  },
  {
   "cell_type": "code",
   "execution_count": null,
   "metadata": {},
   "outputs": [],
   "source": []
  }
 ],
 "metadata": {
  "kernelspec": {
   "display_name": "Python 3",
   "language": "python",
   "name": "python3"
  },
  "language_info": {
   "codemirror_mode": {
    "name": "ipython",
    "version": 3
   },
   "file_extension": ".py",
   "mimetype": "text/x-python",
   "name": "python",
   "nbconvert_exporter": "python",
   "pygments_lexer": "ipython3",
   "version": "3.8.0"
  }
 },
 "nbformat": 4,
 "nbformat_minor": 4
}

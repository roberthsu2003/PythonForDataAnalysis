{
 "cells": [
  {
   "cell_type": "code",
   "execution_count": 8,
   "metadata": {},
   "outputs": [
    {
     "name": "stdout",
     "output_type": "stream",
     "text": [
      "chinese [100, 81, 94, 60, 92, 89, 66, 92, 81, 86, 100, 84, 96, 68, 74, 70, 73, 80, 71, 69, 89, 63, 79, 87, 66, 73, 76, 71, 91, 72, 98, 76, 82, 90, 75, 90, 91, 93, 91, 76, 97, 97, 88, 74, 89, 70, 62, 87, 87, 62]\n",
      "english [77, 99, 91, 82, 91, 69, 76, 84, 91, 94, 90, 81, 63, 89, 66, 61, 91, 68, 91, 73, 91, 71, 74, 81, 74, 72, 87, 69, 76, 92, 100, 71, 60, 79, 68, 81, 63, 72, 82, 80, 75, 74, 80, 74, 81, 68, 75, 75, 71, 89]\n"
     ]
    },
    {
     "data": {
      "text/plain": [
       "[177,\n",
       " 180,\n",
       " 185,\n",
       " 142,\n",
       " 183,\n",
       " 158,\n",
       " 142,\n",
       " 176,\n",
       " 172,\n",
       " 180,\n",
       " 190,\n",
       " 165,\n",
       " 159,\n",
       " 157,\n",
       " 140,\n",
       " 131,\n",
       " 164,\n",
       " 148,\n",
       " 162,\n",
       " 142,\n",
       " 180,\n",
       " 134,\n",
       " 153,\n",
       " 168,\n",
       " 140,\n",
       " 145,\n",
       " 163,\n",
       " 140,\n",
       " 167,\n",
       " 164,\n",
       " 198,\n",
       " 147,\n",
       " 142,\n",
       " 169,\n",
       " 143,\n",
       " 171,\n",
       " 154,\n",
       " 165,\n",
       " 173,\n",
       " 156,\n",
       " 172,\n",
       " 171,\n",
       " 168,\n",
       " 148,\n",
       " 170,\n",
       " 138,\n",
       " 137,\n",
       " 162,\n",
       " 158,\n",
       " 151]"
      ]
     },
     "execution_count": 8,
     "metadata": {},
     "output_type": "execute_result"
    }
   ],
   "source": [
    "#建立50位學生的中文和英文的分數\n",
    "import random\n",
    "chinese = [random.randint(60,100) for _ in range(50)]\n",
    "english = [random.randint(60,100) for _ in range(50)]\n",
    "print('chinese', chinese)\n",
    "print('english', english)\n",
    "\n",
    "#中文和英文的總合\n",
    "result = []\n",
    "for i in range(50):\n",
    "    total = chinese[i] + english[i]\n",
    "    result.append(total)\n",
    "result\n",
    "\n",
    "#使用comprehension來建立中文和英文的總合"
   ]
  },
  {
   "cell_type": "code",
   "execution_count": null,
   "metadata": {},
   "outputs": [],
   "source": []
  }
 ],
 "metadata": {
  "kernelspec": {
   "display_name": "Python 3",
   "language": "python",
   "name": "python3"
  },
  "language_info": {
   "codemirror_mode": {
    "name": "ipython",
    "version": 3
   },
   "file_extension": ".py",
   "mimetype": "text/x-python",
   "name": "python",
   "nbconvert_exporter": "python",
   "pygments_lexer": "ipython3",
   "version": "3.8.0"
  }
 },
 "nbformat": 4,
 "nbformat_minor": 4
}

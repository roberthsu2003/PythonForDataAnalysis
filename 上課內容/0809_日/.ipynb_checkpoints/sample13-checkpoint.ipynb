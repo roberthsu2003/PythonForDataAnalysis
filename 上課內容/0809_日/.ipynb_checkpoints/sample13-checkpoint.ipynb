{
 "cells": [
  {
   "cell_type": "code",
   "execution_count": 9,
   "metadata": {},
   "outputs": [
    {
     "name": "stdout",
     "output_type": "stream",
     "text": [
      "chinese [83, 85, 83, 65, 78, 94, 69, 92, 60, 87, 82, 62, 73, 98, 95, 60, 87, 90, 65, 91, 96, 79, 68, 73, 97, 98, 70, 88, 83, 92, 64, 90, 93, 68, 95, 87, 99, 67, 66, 85, 75, 71, 62, 98, 84, 67, 66, 71, 63, 63]\n",
      "english [89, 69, 75, 62, 89, 65, 94, 64, 83, 94, 77, 61, 70, 82, 74, 75, 82, 82, 81, 92, 75, 98, 82, 87, 63, 74, 75, 70, 89, 88, 84, 65, 91, 75, 61, 66, 68, 73, 62, 63, 62, 87, 89, 95, 87, 84, 63, 87, 80, 67]\n"
     ]
    },
    {
     "data": {
      "text/plain": [
       "[172,\n",
       " 154,\n",
       " 158,\n",
       " 127,\n",
       " 167,\n",
       " 159,\n",
       " 163,\n",
       " 156,\n",
       " 143,\n",
       " 181,\n",
       " 159,\n",
       " 123,\n",
       " 143,\n",
       " 180,\n",
       " 169,\n",
       " 135,\n",
       " 169,\n",
       " 172,\n",
       " 146,\n",
       " 183,\n",
       " 171,\n",
       " 177,\n",
       " 150,\n",
       " 160,\n",
       " 160,\n",
       " 172,\n",
       " 145,\n",
       " 158,\n",
       " 172,\n",
       " 180,\n",
       " 148,\n",
       " 155,\n",
       " 184,\n",
       " 143,\n",
       " 156,\n",
       " 153,\n",
       " 167,\n",
       " 140,\n",
       " 128,\n",
       " 148,\n",
       " 137,\n",
       " 158,\n",
       " 151,\n",
       " 193,\n",
       " 171,\n",
       " 151,\n",
       " 129,\n",
       " 158,\n",
       " 143,\n",
       " 130]"
      ]
     },
     "execution_count": 9,
     "metadata": {},
     "output_type": "execute_result"
    }
   ],
   "source": [
    "#建立50位學生的中文和英文的分數\n",
    "import random\n",
    "chinese = [random.randint(60,100) for _ in range(50)]\n",
    "english = [random.randint(60,100) for _ in range(50)]\n",
    "print('chinese', chinese)\n",
    "print('english', english)\n",
    "\n"
   ]
  },
  {
   "cell_type": "code",
   "execution_count": null,
   "metadata": {},
   "outputs": [],
   "source": [
    "#中文和英文的總合\n",
    "result = []\n",
    "for i in range(50):\n",
    "    total = chinese[i] + english[i]\n",
    "    result.append(total)\n",
    "result\n",
    "\n",
    "#使用comprehension來建立中文和英文的總合\n",
    "result = [chinese[i]+english[i] for i in range(50)]\n",
    "result"
   ]
  }
 ],
 "metadata": {
  "kernelspec": {
   "display_name": "Python 3",
   "language": "python",
   "name": "python3"
  },
  "language_info": {
   "codemirror_mode": {
    "name": "ipython",
    "version": 3
   },
   "file_extension": ".py",
   "mimetype": "text/x-python",
   "name": "python",
   "nbconvert_exporter": "python",
   "pygments_lexer": "ipython3",
   "version": "3.8.0"
  }
 },
 "nbformat": 4,
 "nbformat_minor": 4
}

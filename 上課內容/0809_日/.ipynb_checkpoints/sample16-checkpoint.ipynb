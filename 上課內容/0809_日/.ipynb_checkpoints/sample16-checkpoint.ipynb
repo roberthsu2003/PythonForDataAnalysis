{
 "cells": [
  {
   "cell_type": "code",
   "execution_count": 2,
   "metadata": {},
   "outputs": [
    {
     "name": "stdout",
     "output_type": "stream",
     "text": [
      "[0, 1, 2, 3, 4, 5, 6, 7, 8, 9, 10, 11]\n"
     ]
    },
    {
     "data": {
      "text/plain": [
       "8"
      ]
     },
     "execution_count": 2,
     "metadata": {},
     "output_type": "execute_result"
    }
   ],
   "source": [
    "#list\n",
    "list1 = list(range(12))\n",
    "print(list1)\n",
    "list1[8]"
   ]
  },
  {
   "cell_type": "code",
   "execution_count": 7,
   "metadata": {},
   "outputs": [
    {
     "name": "stdout",
     "output_type": "stream",
     "text": [
      "[ 0  1  2  3  4  5  6  7  8  9 10 11]\n",
      "(12,)\n"
     ]
    },
    {
     "data": {
      "text/plain": [
       "8"
      ]
     },
     "execution_count": 7,
     "metadata": {},
     "output_type": "execute_result"
    }
   ],
   "source": [
    "#ndArray\n",
    "import numpy as np\n",
    "ndArray12_ = np.array(list1)\n",
    "print(ndArray12_)\n",
    "print(ndArray12_.shape)\n",
    "ndArray12_[8,]"
   ]
  },
  {
   "cell_type": "code",
   "execution_count": 10,
   "metadata": {},
   "outputs": [
    {
     "name": "stdout",
     "output_type": "stream",
     "text": [
      "[[ 0  1  2  3  4  5]\n",
      " [ 6  7  8  9 10 11]]\n",
      "(2, 6)\n"
     ]
    },
    {
     "data": {
      "text/plain": [
       "8"
      ]
     },
     "execution_count": 10,
     "metadata": {},
     "output_type": "execute_result"
    }
   ],
   "source": [
    "#ndArray\n",
    "ndArray2_6 = ndArray12_.reshape((2,6))\n",
    "print(ndArray2_6)\n",
    "print(ndArray2_6.shape)\n",
    "ndArray2_6[1,2]"
   ]
  },
  {
   "cell_type": "code",
   "execution_count": 11,
   "metadata": {},
   "outputs": [
    {
     "name": "stdout",
     "output_type": "stream",
     "text": [
      "(4, 3)\n"
     ]
    },
    {
     "data": {
      "text/plain": [
       "8"
      ]
     },
     "execution_count": 11,
     "metadata": {},
     "output_type": "execute_result"
    }
   ],
   "source": [
    "#ndArray\n",
    "ndArray4_3 = ndArray12_.reshape((4,3))\n",
    "print(ndArray4_3.shape)\n",
    "ndArray4_3[2,2]"
   ]
  },
  {
   "cell_type": "code",
   "execution_count": 12,
   "metadata": {},
   "outputs": [
    {
     "name": "stdout",
     "output_type": "stream",
     "text": [
      "(2, 3, 2)\n"
     ]
    },
    {
     "data": {
      "text/plain": [
       "8"
      ]
     },
     "execution_count": 12,
     "metadata": {},
     "output_type": "execute_result"
    }
   ],
   "source": [
    "#ndArray\n",
    "ndArray2_3_2 = ndArray12_.reshape((2, 3, 2))\n",
    "print(ndArray2_3_2.shape)\n",
    "ndArray2_3_2[1,1,0]\n"
   ]
  },
  {
   "cell_type": "code",
   "execution_count": 17,
   "metadata": {},
   "outputs": [
    {
     "name": "stdout",
     "output_type": "stream",
     "text": [
      "(50, 5)\n"
     ]
    },
    {
     "data": {
      "text/plain": [
       "array([[ 52,  99,  72,  55,  64],\n",
       "       [ 98,  75, 100,  83,  78],\n",
       "       [ 80,  75,  72,  76,  73],\n",
       "       [ 93,  87,  54,  88,  64],\n",
       "       [ 77,  64,  52,  64,  76],\n",
       "       [ 81,  55,  60,  85,  84],\n",
       "       [ 83,  90,  82,  98,  75],\n",
       "       [ 63,  52,  69,  96,  99],\n",
       "       [ 96,  55,  58,  56,  66],\n",
       "       [ 54,  95,  97,  72,  91],\n",
       "       [ 65,  50,  76, 100,  78],\n",
       "       [ 56, 100,  74,  81,  98],\n",
       "       [ 98,  78,  88,  77,  59],\n",
       "       [ 74,  50,  96,  53,  76],\n",
       "       [ 95,  68,  57,  84,  54],\n",
       "       [ 65,  89,  74,  61,  60],\n",
       "       [ 94,  72,  93,  55,  81],\n",
       "       [ 90,  67,  94,  60,  97],\n",
       "       [ 82,  72,  78,  88,  84],\n",
       "       [ 66,  56,  83,  56,  73],\n",
       "       [ 72,  53,  55,  79,  81],\n",
       "       [ 66,  71,  74,  60,  92],\n",
       "       [ 89,  89,  91,  65,  89],\n",
       "       [ 92,  54,  73,  89,  64],\n",
       "       [ 53,  58,  78,  58,  64],\n",
       "       [ 67,  81,  71,  62,  98],\n",
       "       [ 80,  76,  85,  77,  63],\n",
       "       [100,  76,  80,  90,  66],\n",
       "       [ 98,  88,  56,  69,  87],\n",
       "       [ 50,  81,  92,  80,  60],\n",
       "       [ 65,  82,  76,  56,  84],\n",
       "       [ 84,  95,  74,  86,  54],\n",
       "       [ 85,  82,  66,  56,  74],\n",
       "       [ 64,  91,  80,  85,  78],\n",
       "       [ 56,  53,  79,  93,  99],\n",
       "       [ 93,  54,  70,  52,  99],\n",
       "       [ 51,  74,  61,  58,  67],\n",
       "       [ 99,  69,  98,  55,  92],\n",
       "       [ 62,  55,  55,  87,  68],\n",
       "       [ 56,  93,  64,  79,  94],\n",
       "       [ 95,  72,  60,  94,  95],\n",
       "       [ 85,  84,  96,  67,  81],\n",
       "       [ 56,  50,  80,  65,  59],\n",
       "       [ 88,  57,  55,  96,  63],\n",
       "       [ 76,  98,  50,  97,  79],\n",
       "       [ 66,  85,  60,  68,  53],\n",
       "       [ 99,  54,  94,  70,  66],\n",
       "       [ 89,  54, 100,  65,  65],\n",
       "       [ 98,  65,  61,  52,  99],\n",
       "       [ 66,  77,  51,  98,  65]])"
      ]
     },
     "execution_count": 17,
     "metadata": {},
     "output_type": "execute_result"
    }
   ],
   "source": [
    "# mean(),sum(),std()\n",
    "import numpy as np\n",
    "arr=np.random.randint(50,101,size=(50,5))\n",
    "print(arr.shape)\n",
    "arr"
   ]
  },
  {
   "cell_type": "code",
   "execution_count": 18,
   "metadata": {},
   "outputs": [
    {
     "data": {
      "text/plain": [
       "18720"
      ]
     },
     "execution_count": 18,
     "metadata": {},
     "output_type": "execute_result"
    }
   ],
   "source": [
    "#加總sum()\n",
    "arr.sum()"
   ]
  },
  {
   "cell_type": "code",
   "execution_count": 19,
   "metadata": {},
   "outputs": [
    {
     "data": {
      "text/plain": [
       "74.88"
      ]
     },
     "execution_count": 19,
     "metadata": {},
     "output_type": "execute_result"
    }
   ],
   "source": [
    "#平均mean()\n",
    "arr.mean()"
   ]
  },
  {
   "cell_type": "code",
   "execution_count": null,
   "metadata": {},
   "outputs": [],
   "source": []
  }
 ],
 "metadata": {
  "kernelspec": {
   "display_name": "Python 3",
   "language": "python",
   "name": "python3"
  },
  "language_info": {
   "codemirror_mode": {
    "name": "ipython",
    "version": 3
   },
   "file_extension": ".py",
   "mimetype": "text/x-python",
   "name": "python",
   "nbconvert_exporter": "python",
   "pygments_lexer": "ipython3",
   "version": "3.8.0"
  }
 },
 "nbformat": 4,
 "nbformat_minor": 4
}

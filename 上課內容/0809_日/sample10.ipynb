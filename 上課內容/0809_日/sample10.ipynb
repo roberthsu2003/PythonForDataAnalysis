{
 "cells": [
  {
   "cell_type": "code",
   "execution_count": 7,
   "metadata": {},
   "outputs": [
    {
     "data": {
      "text/plain": [
       "[['stu1', 69, 80, 65, 87, 79],\n",
       " ['stu2', 67, 70, 66, 84, 58],\n",
       " ['stu3', 76, 53, 70, 90, 90],\n",
       " ['stu4', 81, 70, 79, 56, 67],\n",
       " ['stu5', 81, 97, 95, 53, 90],\n",
       " ['stu6', 87, 100, 98, 80, 99],\n",
       " ['stu7', 98, 88, 84, 80, 90],\n",
       " ['stu8', 85, 61, 93, 86, 54],\n",
       " ['stu9', 81, 96, 73, 83, 50],\n",
       " ['stu10', 56, 76, 54, 99, 95],\n",
       " ['stu11', 99, 97, 68, 60, 91],\n",
       " ['stu12', 69, 84, 84, 87, 85],\n",
       " ['stu13', 89, 97, 69, 59, 51],\n",
       " ['stu14', 90, 95, 83, 89, 60],\n",
       " ['stu15', 85, 99, 50, 56, 96],\n",
       " ['stu16', 99, 59, 91, 52, 63],\n",
       " ['stu17', 77, 96, 91, 80, 88],\n",
       " ['stu18', 55, 63, 53, 66, 52],\n",
       " ['stu19', 76, 86, 53, 73, 70],\n",
       " ['stu20', 76, 92, 84, 81, 82],\n",
       " ['stu21', 98, 92, 59, 74, 75],\n",
       " ['stu22', 82, 89, 82, 85, 69],\n",
       " ['stu23', 95, 50, 73, 52, 86],\n",
       " ['stu24', 88, 57, 94, 88, 70],\n",
       " ['stu25', 71, 77, 52, 88, 80],\n",
       " ['stu26', 53, 54, 69, 58, 69],\n",
       " ['stu27', 100, 80, 87, 54, 57],\n",
       " ['stu28', 88, 76, 83, 56, 83],\n",
       " ['stu29', 75, 74, 85, 76, 54],\n",
       " ['stu30', 99, 84, 59, 58, 52],\n",
       " ['stu31', 71, 94, 50, 73, 86],\n",
       " ['stu32', 87, 53, 51, 64, 93],\n",
       " ['stu33', 66, 69, 59, 57, 90],\n",
       " ['stu34', 99, 52, 65, 81, 66],\n",
       " ['stu35', 81, 88, 76, 88, 66],\n",
       " ['stu36', 53, 77, 65, 62, 90],\n",
       " ['stu37', 56, 72, 72, 67, 56],\n",
       " ['stu38', 58, 91, 97, 82, 99],\n",
       " ['stu39', 92, 65, 84, 84, 51],\n",
       " ['stu40', 70, 94, 67, 86, 100],\n",
       " ['stu41', 54, 60, 84, 96, 63],\n",
       " ['stu42', 91, 56, 68, 99, 86],\n",
       " ['stu43', 76, 73, 96, 86, 95],\n",
       " ['stu44', 56, 79, 82, 60, 65],\n",
       " ['stu45', 70, 87, 97, 94, 82],\n",
       " ['stu46', 94, 63, 75, 72, 77],\n",
       " ['stu47', 61, 65, 89, 83, 53],\n",
       " ['stu48', 78, 76, 50, 98, 55],\n",
       " ['stu49', 71, 92, 77, 51, 71],\n",
       " ['stu50', 81, 51, 52, 99, 66]]"
      ]
     },
     "execution_count": 7,
     "metadata": {},
     "output_type": "execute_result"
    }
   ],
   "source": [
    "import random\n",
    "\n",
    "students = []\n",
    "for i in range(50):\n",
    "    scores = ['stu' + str(i+1)] #先建立一個元素的scores\n",
    "    for _ in range(5):\n",
    "        scores += [random.randint(50,100)]\n",
    "    students.append(scores)\n",
    "students"
   ]
  },
  {
   "cell_type": "code",
   "execution_count": 8,
   "metadata": {},
   "outputs": [
    {
     "name": "stdout",
     "output_type": "stream",
     "text": [
      "students.csv已經建立完成\n"
     ]
    }
   ],
   "source": [
    "#建立一個students.csv檔\n",
    "#使用上一個cell內建立的2維list->students\n",
    "import csv\n",
    "\n",
    "with open('students.csv','w',newline='',encoding='utf-8') as file:\n",
    "    csvWriter = csv.writer(file)\n",
    "    csvWriter.writerow(['姓名', '國文', '英文', '數學', '自然', '社會'])\n",
    "    for stu in students:\n",
    "        csvWriter.writerow(stu)\n",
    "print('students.csv已經建立完成')"
   ]
  },
  {
   "cell_type": "code",
   "execution_count": null,
   "metadata": {},
   "outputs": [],
   "source": []
  }
 ],
 "metadata": {
  "kernelspec": {
   "display_name": "Python 3",
   "language": "python",
   "name": "python3"
  },
  "language_info": {
   "codemirror_mode": {
    "name": "ipython",
    "version": 3
   },
   "file_extension": ".py",
   "mimetype": "text/x-python",
   "name": "python",
   "nbconvert_exporter": "python",
   "pygments_lexer": "ipython3",
   "version": "3.8.0"
  }
 },
 "nbformat": 4,
 "nbformat_minor": 4
}

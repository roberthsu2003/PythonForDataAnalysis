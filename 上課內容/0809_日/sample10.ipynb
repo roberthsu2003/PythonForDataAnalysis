{
  "nbformat": 4,
  "nbformat_minor": 0,
  "metadata": {
    "kernelspec": {
      "display_name": "Python 3",
      "language": "python",
      "name": "python3"
    },
    "language_info": {
      "codemirror_mode": {
        "name": "ipython",
        "version": 3
      },
      "file_extension": ".py",
      "mimetype": "text/x-python",
      "name": "python",
      "nbconvert_exporter": "python",
      "pygments_lexer": "ipython3",
      "version": "3.8.0"
    },
    "colab": {
      "name": "sample10.ipynb",
      "provenance": []
    }
  },
  "cells": [
    {
      "cell_type": "code",
      "metadata": {
        "id": "Ahz3_vwpH8Sz",
        "colab_type": "code",
        "colab": {
          "base_uri": "https://localhost:8080/",
          "height": 197
        },
        "outputId": "e610fa70-c9de-4d23-bdd9-bbf022d89e14"
      },
      "source": [
        "import random\n",
        "\n",
        "students = []\n",
        "for i in range(10):\n",
        "    scores = ['stu' + str(i+1)] #先建立一個元素的scores\n",
        "    for _ in range(5):\n",
        "        scores += [random.randint(50,100)]\n",
        "    students.append(scores)\n",
        "students"
      ],
      "execution_count": 2,
      "outputs": [
        {
          "output_type": "execute_result",
          "data": {
            "text/plain": [
              "[['stu1', 73, 93, 74, 60, 100],\n",
              " ['stu2', 56, 69, 71, 58, 71],\n",
              " ['stu3', 91, 87, 63, 65, 76],\n",
              " ['stu4', 60, 82, 59, 87, 68],\n",
              " ['stu5', 65, 50, 58, 95, 55],\n",
              " ['stu6', 67, 59, 89, 74, 55],\n",
              " ['stu7', 54, 94, 79, 96, 74],\n",
              " ['stu8', 98, 74, 59, 98, 80],\n",
              " ['stu9', 96, 50, 51, 91, 70],\n",
              " ['stu10', 65, 87, 91, 96, 61]]"
            ]
          },
          "metadata": {
            "tags": []
          },
          "execution_count": 2
        }
      ]
    },
    {
      "cell_type": "code",
      "metadata": {
        "id": "7mdA5xicH8S-",
        "colab_type": "code",
        "colab": {},
        "outputId": "6481255a-bbad-4840-dfe6-e45afff9f160"
      },
      "source": [
        "#建立一個students.csv檔\n",
        "#使用上一個cell內建立的2維list->students\n",
        "import csv\n",
        "\n",
        "with open('students.csv','w',newline='',encoding='utf-8') as file:\n",
        "    csvWriter = csv.writer(file)\n",
        "    csvWriter.writerow(['姓名', '國文', '英文', '數學', '自然', '社會'])\n",
        "    for stu in students:\n",
        "        csvWriter.writerow(stu)\n",
        "print('students.csv已經建立完成')"
      ],
      "execution_count": null,
      "outputs": [
        {
          "output_type": "stream",
          "text": [
            "students.csv已經建立完成\n"
          ],
          "name": "stdout"
        }
      ]
    },
    {
      "cell_type": "code",
      "metadata": {
        "id": "OQsoyvwqH8TF",
        "colab_type": "code",
        "colab": {},
        "outputId": "c4978bea-4872-478a-bfe8-b04cf14480c3"
      },
      "source": [
        "#我們要使用csv.reader(),讀取資料students.csv內的資料\n",
        "import csv\n",
        "with open('students.csv','r',encoding='utf-8') as file:\n",
        "    csvReader = csv.reader(file)\n",
        "    \n",
        "    #students = []\n",
        "    #for row in csvReader:\n",
        "    #   students.append(row)\n",
        "    #print(students)\n",
        "    students = list(csvReader)\n",
        "\n",
        "print(\"讀取完成\")\n",
        "students"
      ],
      "execution_count": null,
      "outputs": [
        {
          "output_type": "stream",
          "text": [
            "請取完成\n"
          ],
          "name": "stdout"
        },
        {
          "output_type": "execute_result",
          "data": {
            "text/plain": [
              "[['姓名', '國文', '英文', '數學', '自然', '社會'],\n",
              " ['stu1', '69', '80', '65', '87', '79'],\n",
              " ['stu2', '67', '70', '66', '84', '58'],\n",
              " ['stu3', '76', '53', '70', '90', '90'],\n",
              " ['stu4', '81', '70', '79', '56', '67'],\n",
              " ['stu5', '81', '97', '95', '53', '90'],\n",
              " ['stu6', '87', '100', '98', '80', '99'],\n",
              " ['stu7', '98', '88', '84', '80', '90'],\n",
              " ['stu8', '85', '61', '93', '86', '54'],\n",
              " ['stu9', '81', '96', '73', '83', '50'],\n",
              " ['stu10', '56', '76', '54', '99', '95'],\n",
              " ['stu11', '99', '97', '68', '60', '91'],\n",
              " ['stu12', '69', '84', '84', '87', '85'],\n",
              " ['stu13', '89', '97', '69', '59', '51'],\n",
              " ['stu14', '90', '95', '83', '89', '60'],\n",
              " ['stu15', '85', '99', '50', '56', '96'],\n",
              " ['stu16', '99', '59', '91', '52', '63'],\n",
              " ['stu17', '77', '96', '91', '80', '88'],\n",
              " ['stu18', '55', '63', '53', '66', '52'],\n",
              " ['stu19', '76', '86', '53', '73', '70'],\n",
              " ['stu20', '76', '92', '84', '81', '82'],\n",
              " ['stu21', '98', '92', '59', '74', '75'],\n",
              " ['stu22', '82', '89', '82', '85', '69'],\n",
              " ['stu23', '95', '50', '73', '52', '86'],\n",
              " ['stu24', '88', '57', '94', '88', '70'],\n",
              " ['stu25', '71', '77', '52', '88', '80'],\n",
              " ['stu26', '53', '54', '69', '58', '69'],\n",
              " ['stu27', '100', '80', '87', '54', '57'],\n",
              " ['stu28', '88', '76', '83', '56', '83'],\n",
              " ['stu29', '75', '74', '85', '76', '54'],\n",
              " ['stu30', '99', '84', '59', '58', '52'],\n",
              " ['stu31', '71', '94', '50', '73', '86'],\n",
              " ['stu32', '87', '53', '51', '64', '93'],\n",
              " ['stu33', '66', '69', '59', '57', '90'],\n",
              " ['stu34', '99', '52', '65', '81', '66'],\n",
              " ['stu35', '81', '88', '76', '88', '66'],\n",
              " ['stu36', '53', '77', '65', '62', '90'],\n",
              " ['stu37', '56', '72', '72', '67', '56'],\n",
              " ['stu38', '58', '91', '97', '82', '99'],\n",
              " ['stu39', '92', '65', '84', '84', '51'],\n",
              " ['stu40', '70', '94', '67', '86', '100'],\n",
              " ['stu41', '54', '60', '84', '96', '63'],\n",
              " ['stu42', '91', '56', '68', '99', '86'],\n",
              " ['stu43', '76', '73', '96', '86', '95'],\n",
              " ['stu44', '56', '79', '82', '60', '65'],\n",
              " ['stu45', '70', '87', '97', '94', '82'],\n",
              " ['stu46', '94', '63', '75', '72', '77'],\n",
              " ['stu47', '61', '65', '89', '83', '53'],\n",
              " ['stu48', '78', '76', '50', '98', '55'],\n",
              " ['stu49', '71', '92', '77', '51', '71'],\n",
              " ['stu50', '81', '51', '52', '99', '66']]"
            ]
          },
          "metadata": {
            "tags": []
          },
          "execution_count": 13
        }
      ]
    },
    {
      "cell_type": "code",
      "metadata": {
        "id": "hHslg8rmH8TJ",
        "colab_type": "code",
        "colab": {},
        "outputId": "c8252c58-9ff8-4f54-e89d-0014fcd7e545"
      },
      "source": [
        "studentName=input('請輸入學生姓名:')\n",
        "for student in students:\n",
        "    if student[0] == studentName:\n",
        "        print(student[0])\n",
        "        total = 0\n",
        "        for score in student[1:]:\n",
        "            total += int(score)\n",
        "        \n",
        "        print(\"總分:\",total)\n",
        "        print(\"平均:%.2f\" % (total/5))"
      ],
      "execution_count": null,
      "outputs": [
        {
          "output_type": "stream",
          "text": [
            "請輸入學生姓名:stu1\n",
            "stu1\n",
            "總分: 380\n",
            "平均:76.00\n"
          ],
          "name": "stdout"
        }
      ]
    },
    {
      "cell_type": "code",
      "metadata": {
        "id": "7Is8gnLpH8TN",
        "colab_type": "code",
        "colab": {}
      },
      "source": [
        ""
      ],
      "execution_count": null,
      "outputs": []
    }
  ]
}
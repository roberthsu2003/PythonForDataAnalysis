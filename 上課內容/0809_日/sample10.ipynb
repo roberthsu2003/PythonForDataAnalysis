{
 "cells": [
  {
   "cell_type": "code",
   "execution_count": 2,
   "metadata": {},
   "outputs": [],
   "source": [
    "import random\n",
    "\n",
    "students = []\n",
    "for i in range(50):\n",
    "    scores = ['stu' + str(i+1)] #先建立一個元素的scores\n",
    "    for _ in range(5):\n",
    "        scores += [random.randint(50,100)]\n",
    "    students.append(scores)"
   ]
  },
  {
   "cell_type": "code",
   "execution_count": 3,
   "metadata": {},
   "outputs": [
    {
     "data": {
      "text/plain": [
       "[['stu1', 66, 60, 55, 50, 65],\n",
       " ['stu2', 97, 53, 98, 60, 80],\n",
       " ['stu3', 60, 97, 69, 65, 75],\n",
       " ['stu4', 72, 91, 86, 75, 91],\n",
       " ['stu5', 69, 94, 61, 61, 93],\n",
       " ['stu6', 92, 75, 95, 79, 50],\n",
       " ['stu7', 97, 80, 83, 89, 78],\n",
       " ['stu8', 94, 53, 89, 57, 65],\n",
       " ['stu9', 60, 94, 50, 88, 86],\n",
       " ['stu10', 73, 95, 100, 95, 97],\n",
       " ['stu11', 94, 84, 63, 59, 86],\n",
       " ['stu12', 92, 73, 73, 66, 64],\n",
       " ['stu13', 82, 72, 56, 94, 99],\n",
       " ['stu14', 70, 86, 86, 50, 69],\n",
       " ['stu15', 61, 81, 92, 71, 75],\n",
       " ['stu16', 87, 67, 54, 51, 64],\n",
       " ['stu17', 55, 72, 86, 86, 77],\n",
       " ['stu18', 70, 56, 88, 97, 97],\n",
       " ['stu19', 83, 87, 62, 75, 68],\n",
       " ['stu20', 52, 73, 70, 94, 74],\n",
       " ['stu21', 88, 55, 63, 68, 71],\n",
       " ['stu22', 60, 69, 95, 94, 86],\n",
       " ['stu23', 98, 84, 60, 94, 88],\n",
       " ['stu24', 88, 82, 60, 91, 87],\n",
       " ['stu25', 52, 59, 51, 85, 65],\n",
       " ['stu26', 51, 83, 89, 72, 61],\n",
       " ['stu27', 93, 60, 62, 90, 65],\n",
       " ['stu28', 53, 51, 91, 59, 54],\n",
       " ['stu29', 73, 79, 72, 53, 77],\n",
       " ['stu30', 97, 58, 80, 83, 66],\n",
       " ['stu31', 60, 98, 94, 69, 84],\n",
       " ['stu32', 53, 97, 85, 56, 64],\n",
       " ['stu33', 95, 64, 99, 67, 51],\n",
       " ['stu34', 76, 76, 99, 97, 89],\n",
       " ['stu35', 79, 60, 70, 88, 58],\n",
       " ['stu36', 86, 68, 93, 54, 62],\n",
       " ['stu37', 75, 79, 69, 71, 74],\n",
       " ['stu38', 52, 88, 96, 80, 66],\n",
       " ['stu39', 85, 52, 100, 54, 78],\n",
       " ['stu40', 71, 74, 79, 94, 68],\n",
       " ['stu41', 100, 75, 74, 68, 71],\n",
       " ['stu42', 73, 80, 84, 75, 77],\n",
       " ['stu43', 95, 70, 76, 53, 58],\n",
       " ['stu44', 97, 63, 70, 67, 87],\n",
       " ['stu45', 67, 93, 74, 85, 82],\n",
       " ['stu46', 98, 96, 84, 96, 61],\n",
       " ['stu47', 85, 80, 71, 90, 88],\n",
       " ['stu48', 62, 57, 87, 70, 60],\n",
       " ['stu49', 66, 84, 50, 73, 93],\n",
       " ['stu50', 67, 76, 72, 87, 51]]"
      ]
     },
     "execution_count": 3,
     "metadata": {},
     "output_type": "execute_result"
    }
   ],
   "source": [
    "students"
   ]
  },
  {
   "cell_type": "code",
   "execution_count": null,
   "metadata": {},
   "outputs": [],
   "source": []
  }
 ],
 "metadata": {
  "kernelspec": {
   "display_name": "Python 3",
   "language": "python",
   "name": "python3"
  },
  "language_info": {
   "codemirror_mode": {
    "name": "ipython",
    "version": 3
   },
   "file_extension": ".py",
   "mimetype": "text/x-python",
   "name": "python",
   "nbconvert_exporter": "python",
   "pygments_lexer": "ipython3",
   "version": "3.8.0"
  }
 },
 "nbformat": 4,
 "nbformat_minor": 4
}

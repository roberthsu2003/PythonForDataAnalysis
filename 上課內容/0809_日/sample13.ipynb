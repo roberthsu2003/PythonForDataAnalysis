{
 "cells": [
  {
   "cell_type": "code",
   "execution_count": 6,
   "metadata": {},
   "outputs": [
    {
     "name": "stdout",
     "output_type": "stream",
     "text": [
      "chinese [94, 80, 75, 73, 93, 96, 81, 94, 75, 87, 72, 67, 82, 88, 75, 63, 78, 82, 76, 98, 74, 78, 91, 86, 94, 86, 85, 77, 68, 61, 100, 67, 87, 99, 80, 67, 71, 91, 96, 86, 76, 77, 80, 85, 66, 79, 76, 80, 78, 92]\n",
      "english [79, 92, 92, 75, 61, 80, 77, 75, 69, 60, 98, 97, 69, 63, 77, 99, 67, 73, 91, 100, 75, 68, 97, 78, 78, 84, 60, 69, 82, 77, 71, 93, 60, 91, 68, 88, 93, 97, 97, 83, 64, 94, 71, 85, 72, 89, 92, 79, 83, 98]\n"
     ]
    }
   ],
   "source": [
    "#建立5位學生的中文和英文的分數\n",
    "import random\n",
    "chinese = [random.randint(60,100) for _ in range(50)]\n",
    "english = [random.randint(60,100) for _ in range(50)]\n",
    "print('chinese', chinese)\n",
    "print('english', english)"
   ]
  },
  {
   "cell_type": "code",
   "execution_count": null,
   "metadata": {},
   "outputs": [],
   "source": []
  }
 ],
 "metadata": {
  "kernelspec": {
   "display_name": "Python 3",
   "language": "python",
   "name": "python3"
  },
  "language_info": {
   "codemirror_mode": {
    "name": "ipython",
    "version": 3
   },
   "file_extension": ".py",
   "mimetype": "text/x-python",
   "name": "python",
   "nbconvert_exporter": "python",
   "pygments_lexer": "ipython3",
   "version": "3.8.0"
  }
 },
 "nbformat": 4,
 "nbformat_minor": 4
}

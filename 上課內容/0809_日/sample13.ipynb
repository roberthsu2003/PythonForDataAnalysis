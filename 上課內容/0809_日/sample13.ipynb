{
 "cells": [
  {
   "cell_type": "code",
   "execution_count": 4,
   "metadata": {},
   "outputs": [
    {
     "name": "stdout",
     "output_type": "stream",
     "text": [
      "chinese [84, 72, 79, 97, 98, 96, 67, 98, 77, 74, 89, 88, 66, 75, 100, 82, 68, 67, 73, 97, 78, 70, 100, 73, 70, 89, 84, 94, 62, 75, 76, 75, 99, 78, 61, 77, 100, 89, 99, 77, 72, 80, 78, 79, 84, 87, 81, 62, 76, 91]\n",
      "english [91, 61, 70, 63, 78, 86, 98, 95, 63, 82, 69, 79, 70, 83, 80, 89, 76, 63, 85, 98, 76, 99, 77, 72, 80, 97, 81, 74, 97, 68, 71, 76, 93, 76, 82, 79, 98, 72, 77, 63, 72, 92, 72, 98, 83, 93, 80, 87, 83, 79]\n"
     ]
    }
   ],
   "source": [
    "#建立50位學生的中文和英文的分數\n",
    "import random\n",
    "chinese = [random.randint(60,100) for _ in range(50)]\n",
    "english = [random.randint(60,100) for _ in range(50)]\n",
    "print('chinese', chinese)\n",
    "print('english', english)"
   ]
  },
  {
   "cell_type": "code",
   "execution_count": null,
   "metadata": {},
   "outputs": [],
   "source": [
    "#中文和英文的總合\n",
    "result = []\n",
    "for i in range(50):\n",
    "    total = chinese[i] + english[i]\n",
    "    result.append(total)\n",
    "result\n",
    "\n",
    "#使用comprehension來建立中文和英文的總合\n",
    "result = [chinese[i]+english[i] for i in range(50)]\n",
    "result\n"
   ]
  },
  {
   "cell_type": "code",
   "execution_count": 11,
   "metadata": {},
   "outputs": [
    {
     "name": "stdout",
     "output_type": "stream",
     "text": [
      "<class 'numpy.ndarray'>\n",
      "[91 61 70 63 78 86 98 95 63 82 69 79 70 83 80 89 76 63 85 98 76 99 77 72\n",
      " 80 97 81 74 97 68 71 76 93 76 82 79 98 72 77 63 72 92 72 98 83 93 80 87\n",
      " 83 79]\n"
     ]
    },
    {
     "data": {
      "text/plain": [
       "array([175, 133, 149, 160, 176, 182, 165, 193, 140, 156, 158, 167, 136,\n",
       "       158, 180, 171, 144, 130, 158, 195, 154, 169, 177, 145, 150, 186,\n",
       "       165, 168, 159, 143, 147, 151, 192, 154, 143, 156, 198, 161, 176,\n",
       "       140, 144, 172, 150, 177, 167, 180, 161, 149, 159, 170])"
      ]
     },
     "execution_count": 11,
     "metadata": {},
     "output_type": "execute_result"
    }
   ],
   "source": [
    "#numpy可以陣列和陣列做運算\n",
    "import numpy as np\n",
    "ndChinese=np.array(chinese)\n",
    "print(ndChinese.__class__)\n",
    "ndEnglish=np.array(english)\n",
    "print(ndEnglish)\n",
    "ndChinese + ndEnglish"
   ]
  },
  {
   "cell_type": "code",
   "execution_count": null,
   "metadata": {},
   "outputs": [],
   "source": []
  }
 ],
 "metadata": {
  "kernelspec": {
   "display_name": "Python 3",
   "language": "python",
   "name": "python3"
  },
  "language_info": {
   "codemirror_mode": {
    "name": "ipython",
    "version": 3
   },
   "file_extension": ".py",
   "mimetype": "text/x-python",
   "name": "python",
   "nbconvert_exporter": "python",
   "pygments_lexer": "ipython3",
   "version": "3.8.0"
  }
 },
 "nbformat": 4,
 "nbformat_minor": 4
}

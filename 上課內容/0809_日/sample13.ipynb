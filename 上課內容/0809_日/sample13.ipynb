{
 "cells": [
  {
   "cell_type": "code",
   "execution_count": 13,
   "metadata": {},
   "outputs": [
    {
     "name": "stdout",
     "output_type": "stream",
     "text": [
      "chinese [61, 79, 73, 82, 89, 75, 95, 88, 76, 75, 91, 79, 61, 61, 81, 67, 60, 88, 70, 85, 88, 99, 70, 96, 74, 78, 90, 97, 95, 61, 60, 73, 99, 88, 97, 92, 70, 81, 84, 78, 77, 61, 95, 64, 60, 74, 87, 81, 84, 86]\n",
      "english [77, 91, 82, 61, 69, 93, 87, 94, 67, 82, 93, 88, 68, 95, 90, 67, 65, 83, 98, 97, 85, 70, 84, 90, 87, 95, 92, 82, 73, 79, 86, 83, 86, 82, 89, 82, 88, 92, 63, 96, 67, 92, 82, 93, 73, 79, 75, 71, 66, 86]\n"
     ]
    }
   ],
   "source": [
    "#建立50位學生的中文和英文的分數\n",
    "import random\n",
    "chinese = [random.randint(60,100) for _ in range(50)]\n",
    "english = [random.randint(60,100) for _ in range(50)]\n",
    "print('chinese', chinese)\n",
    "print('english', english)"
   ]
  },
  {
   "cell_type": "code",
   "execution_count": null,
   "metadata": {},
   "outputs": [],
   "source": [
    "#中文和英文的總合\n",
    "result = []\n",
    "for i in range(50):\n",
    "    total = chinese[i] + english[i]\n",
    "    result.append(total)\n",
    "result\n",
    "\n",
    "#使用comprehension來建立中文和英文的總合\n",
    "result = [chinese[i]+english[i] for i in range(50)]\n",
    "result\n"
   ]
  },
  {
   "cell_type": "code",
   "execution_count": 11,
   "metadata": {},
   "outputs": [
    {
     "name": "stdout",
     "output_type": "stream",
     "text": [
      "<class 'numpy.ndarray'>\n",
      "[91 61 70 63 78 86 98 95 63 82 69 79 70 83 80 89 76 63 85 98 76 99 77 72\n",
      " 80 97 81 74 97 68 71 76 93 76 82 79 98 72 77 63 72 92 72 98 83 93 80 87\n",
      " 83 79]\n"
     ]
    },
    {
     "data": {
      "text/plain": [
       "array([175, 133, 149, 160, 176, 182, 165, 193, 140, 156, 158, 167, 136,\n",
       "       158, 180, 171, 144, 130, 158, 195, 154, 169, 177, 145, 150, 186,\n",
       "       165, 168, 159, 143, 147, 151, 192, 154, 143, 156, 198, 161, 176,\n",
       "       140, 144, 172, 150, 177, 167, 180, 161, 149, 159, 170])"
      ]
     },
     "execution_count": 11,
     "metadata": {},
     "output_type": "execute_result"
    }
   ],
   "source": [
    "#numpy可以陣列和陣列做運算\n",
    "import numpy as np\n",
    "ndChinese=np.array(chinese)\n",
    "print(ndChinese.__class__)\n",
    "ndEnglish=np.array(english)\n",
    "print(ndEnglish)\n",
    "ndChinese + ndEnglish"
   ]
  },
  {
   "cell_type": "code",
   "execution_count": 20,
   "metadata": {},
   "outputs": [
    {
     "name": "stdout",
     "output_type": "stream",
     "text": [
      "<class 'numpy.ndarray'>\n",
      "維度: 2\n",
      "形狀: (2, 3)\n",
      "size: 6\n",
      "資料類型: int64\n"
     ]
    }
   ],
   "source": [
    "import numpy as np\n",
    "l =[[1,2,3],[4, 5, 6]]\n",
    "a=np.array(l) #建立ndarray\n",
    "#使用ndarray的屬性 ndim,shape,size,dtype\n",
    "print(a.__class__)\n",
    "print('維度:',a.ndim)\n",
    "print('形狀:',a.shape)\n",
    "print('size:',a.size)\n",
    "print('資料類型:',a.dtype)"
   ]
  },
  {
   "cell_type": "code",
   "execution_count": 30,
   "metadata": {},
   "outputs": [
    {
     "data": {
      "text/plain": [
       "array([[7.44294269, 2.78022403, 8.59989025],\n",
       "       [0.92609429, 6.95958674, 1.54796121]])"
      ]
     },
     "execution_count": 30,
     "metadata": {},
     "output_type": "execute_result"
    }
   ],
   "source": [
    "#產生亂數陣列\n",
    "import numpy as np\n",
    "\n",
    "np.random.seed(6785)\n",
    "data = np.random.rand(2,3)\n",
    "data * 10"
   ]
  },
  {
   "cell_type": "code",
   "execution_count": 32,
   "metadata": {},
   "outputs": [
    {
     "data": {
      "text/plain": [
       "array([[2.97717708, 1.11208961, 3.4399561 ],\n",
       "       [0.37043771, 2.7838347 , 0.61918449]])"
      ]
     },
     "execution_count": 32,
     "metadata": {},
     "output_type": "execute_result"
    }
   ],
   "source": [
    "data += data\n",
    "data"
   ]
  },
  {
   "cell_type": "code",
   "execution_count": null,
   "metadata": {},
   "outputs": [],
   "source": []
  }
 ],
 "metadata": {
  "kernelspec": {
   "display_name": "Python 3",
   "language": "python",
   "name": "python3"
  },
  "language_info": {
   "codemirror_mode": {
    "name": "ipython",
    "version": 3
   },
   "file_extension": ".py",
   "mimetype": "text/x-python",
   "name": "python",
   "nbconvert_exporter": "python",
   "pygments_lexer": "ipython3",
   "version": "3.8.0"
  }
 },
 "nbformat": 4,
 "nbformat_minor": 4
}

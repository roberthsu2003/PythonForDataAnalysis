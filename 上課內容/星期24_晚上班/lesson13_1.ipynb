{
 "cells": [
  {
   "cell_type": "code",
   "execution_count": 2,
   "metadata": {},
   "outputs": [
    {
     "name": "stdout",
     "output_type": "stream",
     "text": [
      "[75, 80, 97, 95, 66, 64, 90, 68, 95, 61, 80, 94, 67, 97, 63, 94, 82, 71, 69, 70, 76, 97, 63, 92, 73, 99, 79, 95, 77, 62, 98, 64, 67, 70, 90, 79, 80, 100, 63, 63, 63, 92, 99, 63, 75, 93, 83, 89, 69, 82] \n",
      "[99, 69, 92, 64, 99, 88, 93, 91, 91, 73, 81, 97, 75, 63, 98, 95, 65, 88, 74, 68, 61, 87, 91, 76, 61, 87, 90, 90, 82, 70, 94, 82, 80, 72, 63, 72, 71, 69, 64, 69, 100, 98, 88, 64, 63, 60, 89, 82, 89, 79] "
     ]
    }
   ],
   "source": [
    "#50學生的國文分數,分數是60~100的亂數\n",
    "import random\n",
    "chinese = []\n",
    "for i in range(50):\n",
    "    chinese.append(random.randint(60,100))\n",
    "print(chinese,end=\" \")\n",
    "print()\n",
    "english = []\n",
    "for i in range(50):\n",
    "    english.append(random.randint(60,100))\n",
    "print(english,end=\" \")"
   ]
  },
  {
   "cell_type": "code",
   "execution_count": 3,
   "metadata": {},
   "outputs": [
    {
     "name": "stdout",
     "output_type": "stream",
     "text": [
      "[84, 64, 75, 62, 89, 79, 96, 97, 73, 66, 73, 78, 77, 85, 68, 95, 97, 82, 75, 69, 93, 93, 70, 69, 90, 90, 72, 87, 81, 72, 65, 85, 100, 88, 93, 71, 66, 66, 61, 82, 72, 95, 67, 71, 74, 90, 64, 83, 95, 92] \n",
      "[98, 95, 76, 89, 72, 79, 71, 93, 68, 75, 86, 76, 92, 66, 86, 86, 77, 68, 70, 70, 86, 99, 79, 67, 89, 66, 91, 60, 97, 60, 80, 67, 97, 96, 84, 88, 97, 93, 62, 92, 93, 71, 64, 85, 100, 90, 77, 80, 76, 62] "
     ]
    }
   ],
   "source": [
    "#使用comprehension建立list\n",
    "chinese = [random.randint(60,100) for i in range(50)]\n",
    "print(chinese,end=\" \")\n",
    "print()\n",
    "english = [random.randint(60,100) for i in range(50)]\n",
    "print(english,end=\" \")"
   ]
  },
  {
   "cell_type": "code",
   "execution_count": 4,
   "metadata": {},
   "outputs": [
    {
     "name": "stdout",
     "output_type": "stream",
     "text": [
      "[182, 159, 151, 151, 161, 158, 167, 190, 141, 141, 159, 154, 169, 151, 154, 181, 174, 150, 145, 139, 179, 192, 149, 136, 179, 156, 163, 147, 178, 132, 145, 152, 197, 184, 177, 159, 163, 159, 123, 174, 165, 166, 131, 156, 174, 180, 141, 163, 171, 154] "
     ]
    }
   ],
   "source": [
    "#2位學生分數的加總\n",
    "totals = []\n",
    "for i in range(50):\n",
    "    totals.append(chinese[i] + english[i])\n",
    "\n",
    "print(totals,end=\" \")"
   ]
  },
  {
   "cell_type": "code",
   "execution_count": 5,
   "metadata": {},
   "outputs": [
    {
     "name": "stdout",
     "output_type": "stream",
     "text": [
      "[182, 159, 151, 151, 161, 158, 167, 190, 141, 141, 159, 154, 169, 151, 154, 181, 174, 150, 145, 139, 179, 192, 149, 136, 179, 156, 163, 147, 178, 132, 145, 152, 197, 184, 177, 159, 163, 159, 123, 174, 165, 166, 131, 156, 174, 180, 141, 163, 171, 154] "
     ]
    }
   ],
   "source": [
    "totals = [chinese[i]+english[i] for i in range(50)]\n",
    "print(totals,end=\" \")"
   ]
  },
  {
   "cell_type": "code",
   "execution_count": 9,
   "metadata": {},
   "outputs": [
    {
     "name": "stdout",
     "output_type": "stream",
     "text": [
      "<class 'numpy.ndarray'>\n"
     ]
    },
    {
     "data": {
      "text/plain": [
       "array([ 98,  95,  76,  89,  72,  79,  71,  93,  68,  75,  86,  76,  92,\n",
       "        66,  86,  86,  77,  68,  70,  70,  86,  99,  79,  67,  89,  66,\n",
       "        91,  60,  97,  60,  80,  67,  97,  96,  84,  88,  97,  93,  62,\n",
       "        92,  93,  71,  64,  85, 100,  90,  77,  80,  76,  62])"
      ]
     },
     "execution_count": 9,
     "metadata": {},
     "output_type": "execute_result"
    }
   ],
   "source": [
    "import numpy as np\n",
    "ndchinese = np.array(chinese)\n",
    "print(type(ndchinese))\n",
    "\n",
    "ndenglish = np.array(english)\n"
   ]
  },
  {
   "cell_type": "code",
   "execution_count": 10,
   "metadata": {},
   "outputs": [
    {
     "data": {
      "text/plain": [
       "array([182, 159, 151, 151, 161, 158, 167, 190, 141, 141, 159, 154, 169,\n",
       "       151, 154, 181, 174, 150, 145, 139, 179, 192, 149, 136, 179, 156,\n",
       "       163, 147, 178, 132, 145, 152, 197, 184, 177, 159, 163, 159, 123,\n",
       "       174, 165, 166, 131, 156, 174, 180, 141, 163, 171, 154])"
      ]
     },
     "execution_count": 10,
     "metadata": {},
     "output_type": "execute_result"
    }
   ],
   "source": [
    "ndtotal = ndchinese + ndenglish\n",
    "ndtotal"
   ]
  }
 ],
 "metadata": {
  "kernelspec": {
   "display_name": "Python 3.10.6 ('venv14')",
   "language": "python",
   "name": "python3"
  },
  "language_info": {
   "codemirror_mode": {
    "name": "ipython",
    "version": 3
   },
   "file_extension": ".py",
   "mimetype": "text/x-python",
   "name": "python",
   "nbconvert_exporter": "python",
   "pygments_lexer": "ipython3",
   "version": "3.10.6"
  },
  "orig_nbformat": 4,
  "vscode": {
   "interpreter": {
    "hash": "a58913c66b98dddfc964ba6f5302e4f760ac5e6f18107696cc385ae346a09ab8"
   }
  }
 },
 "nbformat": 4,
 "nbformat_minor": 2
}

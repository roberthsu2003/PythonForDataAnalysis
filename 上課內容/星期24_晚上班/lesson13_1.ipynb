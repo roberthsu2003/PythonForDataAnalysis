{
 "cells": [
  {
   "cell_type": "code",
   "execution_count": 2,
   "metadata": {},
   "outputs": [
    {
     "name": "stdout",
     "output_type": "stream",
     "text": [
      "[75, 80, 97, 95, 66, 64, 90, 68, 95, 61, 80, 94, 67, 97, 63, 94, 82, 71, 69, 70, 76, 97, 63, 92, 73, 99, 79, 95, 77, 62, 98, 64, 67, 70, 90, 79, 80, 100, 63, 63, 63, 92, 99, 63, 75, 93, 83, 89, 69, 82] \n",
      "[99, 69, 92, 64, 99, 88, 93, 91, 91, 73, 81, 97, 75, 63, 98, 95, 65, 88, 74, 68, 61, 87, 91, 76, 61, 87, 90, 90, 82, 70, 94, 82, 80, 72, 63, 72, 71, 69, 64, 69, 100, 98, 88, 64, 63, 60, 89, 82, 89, 79] "
     ]
    }
   ],
   "source": [
    "#50學生的國文分數,分數是60~100的亂數\n",
    "import random\n",
    "chinese = []\n",
    "for i in range(50):\n",
    "    chinese.append(random.randint(60,100))\n",
    "print(chinese,end=\" \")\n",
    "print()\n",
    "english = []\n",
    "for i in range(50):\n",
    "    english.append(random.randint(60,100))\n",
    "print(english,end=\" \")"
   ]
  }
 ],
 "metadata": {
  "kernelspec": {
   "display_name": "Python 3.10.6 ('venv14')",
   "language": "python",
   "name": "python3"
  },
  "language_info": {
   "codemirror_mode": {
    "name": "ipython",
    "version": 3
   },
   "file_extension": ".py",
   "mimetype": "text/x-python",
   "name": "python",
   "nbconvert_exporter": "python",
   "pygments_lexer": "ipython3",
   "version": "3.10.6"
  },
  "orig_nbformat": 4,
  "vscode": {
   "interpreter": {
    "hash": "a58913c66b98dddfc964ba6f5302e4f760ac5e6f18107696cc385ae346a09ab8"
   }
  }
 },
 "nbformat": 4,
 "nbformat_minor": 2
}

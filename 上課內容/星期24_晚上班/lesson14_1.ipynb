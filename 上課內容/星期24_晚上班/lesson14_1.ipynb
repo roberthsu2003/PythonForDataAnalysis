{
 "cells": [
  {
   "cell_type": "code",
   "execution_count": 5,
   "metadata": {},
   "outputs": [
    {
     "name": "stdout",
     "output_type": "stream",
     "text": [
      "[27.  29.3 31.2]\n",
      "1\n",
      "(3,)\n",
      "3\n",
      "float64\n"
     ]
    }
   ],
   "source": [
    "#nd_array要求裏面的資料類型必需要相同\n",
    "import numpy as np\n",
    "\n",
    "temps_array = np.array([27,29.3,31.2])\n",
    "#temps_array = temps_array * 5 / 8 + 32\n",
    "print(temps_array)\n",
    "print(temps_array.ndim)\n",
    "print(temps_array.shape)\n",
    "print(temps_array.size)\n",
    "print(temps_array.dtype)\n"
   ]
  }
 ],
 "metadata": {
  "kernelspec": {
   "display_name": "Python 3.10.6 ('venv14')",
   "language": "python",
   "name": "python3"
  },
  "language_info": {
   "codemirror_mode": {
    "name": "ipython",
    "version": 3
   },
   "file_extension": ".py",
   "mimetype": "text/x-python",
   "name": "python",
   "nbconvert_exporter": "python",
   "pygments_lexer": "ipython3",
   "version": "3.10.6"
  },
  "orig_nbformat": 4,
  "vscode": {
   "interpreter": {
    "hash": "a58913c66b98dddfc964ba6f5302e4f760ac5e6f18107696cc385ae346a09ab8"
   }
  }
 },
 "nbformat": 4,
 "nbformat_minor": 2
}

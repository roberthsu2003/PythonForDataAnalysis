{
 "cells": [
  {
   "cell_type": "code",
   "execution_count": 13,
   "metadata": {},
   "outputs": [
    {
     "name": "stdout",
     "output_type": "stream",
     "text": [
      "b'{\"Results\": [444.277099014669, 544.6074577085561, 564.2802154078645]}'\n"
     ]
    }
   ],
   "source": [
    "import urllib.request\n",
    "import json\n",
    "import os\n",
    "import ssl\n",
    "\n",
    "def allowSelfSignedHttps(allowed):\n",
    "    # bypass the server certificate verification on client side\n",
    "    if allowed and not os.environ.get('PYTHONHTTPSVERIFY', '') and getattr(ssl, '_create_unverified_context', None):\n",
    "        ssl._create_default_https_context = ssl._create_unverified_context\n",
    "\n",
    "allowSelfSignedHttps(True) # this line is needed if you use self-signed certificate in your scoring service.\n",
    "\n",
    "# Request data goes here\n",
    "# The example below assumes JSON formatting which may be updated\n",
    "# depending on the format your endpoint expects.\n",
    "# More information can be found here:\n",
    "# https://docs.microsoft.com/azure/machine-learning/how-to-deploy-advanced-entry-script\n",
    "data={\n",
    "  \"Inputs\": { \n",
    "    \"data\": [\n",
    "      {\n",
    "        \"day\": 1,\n",
    "        \"mnth\": 1,   \n",
    "        \"year\": 2022,\n",
    "        \"season\": 2,\n",
    "        \"holiday\": 0,\n",
    "        \"weekday\": 1,\n",
    "        \"workingday\": 1,\n",
    "        \"weathersit\": 2, \n",
    "        \"temp\": 0.3, \n",
    "        \"atemp\": 0.3,\n",
    "        \"hum\": 0.3,\n",
    "        \"windspeed\": 0.3 \n",
    "      },\n",
    "      {\n",
    "        \"day\": 1,\n",
    "        \"mnth\": 1,   \n",
    "        \"year\": 2022,\n",
    "        \"season\": 2,\n",
    "        \"holiday\": 0,\n",
    "        \"weekday\": 0,\n",
    "        \"workingday\": 0,\n",
    "        \"weathersit\": 2, \n",
    "        \"temp\": 0.3, \n",
    "        \"atemp\": 0.3,\n",
    "        \"hum\": 0.3,\n",
    "        \"windspeed\": 0.3 \n",
    "      },\n",
    "      {\n",
    "        \"day\": 1,\n",
    "        \"mnth\": 1,   \n",
    "        \"year\": 2022,\n",
    "        \"season\": 2,\n",
    "        \"holiday\": 0,\n",
    "        \"weekday\": 1,\n",
    "        \"workingday\": 0,\n",
    "        \"weathersit\": 2, \n",
    "        \"temp\": 0.3, \n",
    "        \"atemp\": 0.3,\n",
    "        \"hum\": 0.3,\n",
    "        \"windspeed\": 0.3 \n",
    "      }\n",
    "\n",
    "    ]    \n",
    "  },   \n",
    "  \"GlobalParameters\": 1.0\n",
    "}\n",
    "\n",
    "body = str.encode(json.dumps(data))\n",
    "\n",
    "url = 'http://99a1fabf-c72b-4326-b981-5818c562bfc4.japaneast.azurecontainer.io/score'\n",
    "api_key = 'OFTMLzDHsffzAFgAFG9savKshbaRzowS' # Replace this with the API key for the web service\n",
    "\n",
    "# The azureml-model-deployment header will force the request to go to a specific deployment.\n",
    "# Remove this header to have the request observe the endpoint traffic rules\n",
    "headers = {'Content-Type':'application/json', 'Authorization':('Bearer '+ api_key)}\n",
    "\n",
    "req = urllib.request.Request(url, body, headers)\n",
    "\n",
    "try:\n",
    "    response = urllib.request.urlopen(req)\n",
    "\n",
    "    result = response.read()\n",
    "    print(result)\n",
    "except urllib.error.HTTPError as error:\n",
    "    print(\"The request failed with status code: \" + str(error.code))\n",
    "\n",
    "    # Print the headers - they include the requert ID and the timestamp, which are useful for debugging the failure\n",
    "    print(error.info())\n",
    "    print(error.read().decode(\"utf8\", 'ignore'))"
   ]
  }
 ],
 "metadata": {
  "kernelspec": {
   "display_name": "Python 3.10.6 ('venv14')",
   "language": "python",
   "name": "python3"
  },
  "language_info": {
   "codemirror_mode": {
    "name": "ipython",
    "version": 3
   },
   "file_extension": ".py",
   "mimetype": "text/x-python",
   "name": "python",
   "nbconvert_exporter": "python",
   "pygments_lexer": "ipython3",
   "version": "3.10.6"
  },
  "orig_nbformat": 4,
  "vscode": {
   "interpreter": {
    "hash": "a58913c66b98dddfc964ba6f5302e4f760ac5e6f18107696cc385ae346a09ab8"
   }
  }
 },
 "nbformat": 4,
 "nbformat_minor": 2
}

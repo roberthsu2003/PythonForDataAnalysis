{
 "cells": [
  {
   "cell_type": "code",
   "execution_count": 40,
   "metadata": {},
   "outputs": [],
   "source": [
    "\n",
    "import requests\n",
    "from io import StringIO\n",
    "import csv\n",
    "\n",
    "url = \"https://github.com/roberthsu2003/PythonForDataAnalysis/raw/master/pandas%E7%9A%84%E5%9F%BA%E7%A4%8E%E5%8A%9F%E8%83%BD/%E4%B8%8A%E5%B8%82%E5%85%AC%E5%8F%B8%E8%B3%87%E6%96%99.csv\"\n",
    "\n",
    "response = requests.get(url)\n",
    "file=StringIO(response.text)\n",
    "csv_reader = csv.reader(file)\n"
   ]
  },
  {
   "cell_type": "code",
   "execution_count": 41,
   "metadata": {},
   "outputs": [],
   "source": [
    "import numpy as np\n",
    "import pandas as pd\n",
    "\n",
    "dataFrame = pd.DataFrame(csv_reader)"
   ]
  },
  {
   "cell_type": "code",
   "execution_count": 42,
   "metadata": {},
   "outputs": [
    {
     "name": "stdout",
     "output_type": "stream",
     "text": [
      "<class 'pandas.core.frame.DataFrame'>\n",
      "RangeIndex: 840 entries, 0 to 839\n",
      "Data columns (total 14 columns):\n",
      " #   Column  Non-Null Count  Dtype \n",
      "---  ------  --------------  ----- \n",
      " 0   0       840 non-null    object\n",
      " 1   1       840 non-null    object\n",
      " 2   2       840 non-null    object\n",
      " 3   3       840 non-null    object\n",
      " 4   4       840 non-null    object\n",
      " 5   5       840 non-null    object\n",
      " 6   6       840 non-null    object\n",
      " 7   7       840 non-null    object\n",
      " 8   8       840 non-null    object\n",
      " 9   9       840 non-null    object\n",
      " 10  10      840 non-null    object\n",
      " 11  11      840 non-null    object\n",
      " 12  12      840 non-null    object\n",
      " 13  13      840 non-null    object\n",
      "dtypes: object(14)\n",
      "memory usage: 92.0+ KB\n"
     ]
    }
   ],
   "source": [
    "dataFrame.info()"
   ]
  },
  {
   "cell_type": "code",
   "execution_count": 45,
   "metadata": {},
   "outputs": [],
   "source": [
    "dataFrame = dataFrame.loc[:,'0':'5']"
   ]
  },
  {
   "cell_type": "code",
   "execution_count": 48,
   "metadata": {},
   "outputs": [],
   "source": [
    "dataFrame.columns = dataFrame.iloc[0]\n",
    "dataFrame=dataFrame.drop(index=0)\n"
   ]
  },
  {
   "cell_type": "code",
   "execution_count": 49,
   "metadata": {},
   "outputs": [
    {
     "data": {
      "text/html": [
       "<div>\n",
       "<style scoped>\n",
       "    .dataframe tbody tr th:only-of-type {\n",
       "        vertical-align: middle;\n",
       "    }\n",
       "\n",
       "    .dataframe tbody tr th {\n",
       "        vertical-align: top;\n",
       "    }\n",
       "\n",
       "    .dataframe thead th {\n",
       "        text-align: right;\n",
       "    }\n",
       "</style>\n",
       "<table border=\"1\" class=\"dataframe\">\n",
       "  <thead>\n",
       "    <tr style=\"text-align: right;\">\n",
       "      <th></th>\n",
       "      <th>﻿出表日期</th>\n",
       "      <th>資料年月</th>\n",
       "      <th>公司代號</th>\n",
       "      <th>公司名稱</th>\n",
       "      <th>產業別</th>\n",
       "      <th>營業收入-當月營收</th>\n",
       "    </tr>\n",
       "  </thead>\n",
       "  <tbody>\n",
       "    <tr>\n",
       "      <th>1</th>\n",
       "      <td>1110912</td>\n",
       "      <td>11108</td>\n",
       "      <td>1102</td>\n",
       "      <td>亞泥</td>\n",
       "      <td>水泥工業</td>\n",
       "      <td>7069221</td>\n",
       "    </tr>\n",
       "    <tr>\n",
       "      <th>2</th>\n",
       "      <td>1110912</td>\n",
       "      <td>11108</td>\n",
       "      <td>1108</td>\n",
       "      <td>幸福</td>\n",
       "      <td>水泥工業</td>\n",
       "      <td>390053</td>\n",
       "    </tr>\n",
       "    <tr>\n",
       "      <th>3</th>\n",
       "      <td>1110912</td>\n",
       "      <td>11108</td>\n",
       "      <td>1109</td>\n",
       "      <td>信大</td>\n",
       "      <td>水泥工業</td>\n",
       "      <td>478276</td>\n",
       "    </tr>\n",
       "    <tr>\n",
       "      <th>4</th>\n",
       "      <td>1110912</td>\n",
       "      <td>11108</td>\n",
       "      <td>1110</td>\n",
       "      <td>東泥</td>\n",
       "      <td>水泥工業</td>\n",
       "      <td>176935</td>\n",
       "    </tr>\n",
       "    <tr>\n",
       "      <th>5</th>\n",
       "      <td>1110912</td>\n",
       "      <td>11108</td>\n",
       "      <td>1213</td>\n",
       "      <td>大飲</td>\n",
       "      <td>食品工業</td>\n",
       "      <td>38696</td>\n",
       "    </tr>\n",
       "    <tr>\n",
       "      <th>...</th>\n",
       "      <td>...</td>\n",
       "      <td>...</td>\n",
       "      <td>...</td>\n",
       "      <td>...</td>\n",
       "      <td>...</td>\n",
       "      <td>...</td>\n",
       "    </tr>\n",
       "    <tr>\n",
       "      <th>835</th>\n",
       "      <td>1110912</td>\n",
       "      <td>11108</td>\n",
       "      <td>9942</td>\n",
       "      <td>茂順</td>\n",
       "      <td>其他</td>\n",
       "      <td>352730</td>\n",
       "    </tr>\n",
       "    <tr>\n",
       "      <th>836</th>\n",
       "      <td>1110912</td>\n",
       "      <td>11108</td>\n",
       "      <td>9943</td>\n",
       "      <td>好樂迪</td>\n",
       "      <td>觀光事業</td>\n",
       "      <td>212912</td>\n",
       "    </tr>\n",
       "    <tr>\n",
       "      <th>837</th>\n",
       "      <td>1110912</td>\n",
       "      <td>11108</td>\n",
       "      <td>9944</td>\n",
       "      <td>新麗</td>\n",
       "      <td>其他</td>\n",
       "      <td>179660</td>\n",
       "    </tr>\n",
       "    <tr>\n",
       "      <th>838</th>\n",
       "      <td>1110912</td>\n",
       "      <td>11108</td>\n",
       "      <td>9955</td>\n",
       "      <td>佳龍</td>\n",
       "      <td>其他</td>\n",
       "      <td>81881</td>\n",
       "    </tr>\n",
       "    <tr>\n",
       "      <th>839</th>\n",
       "      <td>1110912</td>\n",
       "      <td>11108</td>\n",
       "      <td>9958</td>\n",
       "      <td>世紀鋼</td>\n",
       "      <td>鋼鐵工業</td>\n",
       "      <td>757968</td>\n",
       "    </tr>\n",
       "  </tbody>\n",
       "</table>\n",
       "<p>839 rows × 6 columns</p>\n",
       "</div>"
      ],
      "text/plain": [
       "0      ﻿出表日期   資料年月  公司代號 公司名稱   產業別 營業收入-當月營收\n",
       "1    1110912  11108  1102   亞泥  水泥工業   7069221\n",
       "2    1110912  11108  1108   幸福  水泥工業    390053\n",
       "3    1110912  11108  1109   信大  水泥工業    478276\n",
       "4    1110912  11108  1110   東泥  水泥工業    176935\n",
       "5    1110912  11108  1213   大飲  食品工業     38696\n",
       "..       ...    ...   ...  ...   ...       ...\n",
       "835  1110912  11108  9942   茂順    其他    352730\n",
       "836  1110912  11108  9943  好樂迪  觀光事業    212912\n",
       "837  1110912  11108  9944   新麗    其他    179660\n",
       "838  1110912  11108  9955   佳龍    其他     81881\n",
       "839  1110912  11108  9958  世紀鋼  鋼鐵工業    757968\n",
       "\n",
       "[839 rows x 6 columns]"
      ]
     },
     "execution_count": 49,
     "metadata": {},
     "output_type": "execute_result"
    }
   ],
   "source": [
    "dataFrame"
   ]
  }
 ],
 "metadata": {
  "kernelspec": {
   "display_name": "Python 3.10.6 ('venv14')",
   "language": "python",
   "name": "python3"
  },
  "language_info": {
   "codemirror_mode": {
    "name": "ipython",
    "version": 3
   },
   "file_extension": ".py",
   "mimetype": "text/x-python",
   "name": "python",
   "nbconvert_exporter": "python",
   "pygments_lexer": "ipython3",
   "version": "3.10.6"
  },
  "orig_nbformat": 4,
  "vscode": {
   "interpreter": {
    "hash": "a58913c66b98dddfc964ba6f5302e4f760ac5e6f18107696cc385ae346a09ab8"
   }
  }
 },
 "nbformat": 4,
 "nbformat_minor": 2
}

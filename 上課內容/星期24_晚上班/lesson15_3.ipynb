{
 "cells": [
  {
   "cell_type": "code",
   "execution_count": 30,
   "metadata": {},
   "outputs": [],
   "source": [
    "\n",
    "import requests\n",
    "from io import StringIO\n",
    "import csv\n",
    "\n",
    "url = \"https://github.com/roberthsu2003/PythonForDataAnalysis/raw/master/pandas%E7%9A%84%E5%9F%BA%E7%A4%8E%E5%8A%9F%E8%83%BD/%E4%B8%8A%E5%B8%82%E5%85%AC%E5%8F%B8%E8%B3%87%E6%96%99.csv\"\n",
    "\n",
    "response = requests.get(url)\n",
    "file=StringIO(response.text)\n",
    "csv_reader = csv.reader(file)\n"
   ]
  },
  {
   "cell_type": "code",
   "execution_count": 31,
   "metadata": {},
   "outputs": [],
   "source": [
    "import numpy as np\n",
    "import pandas as pd\n",
    "\n",
    "dataFrame = pd.DataFrame(csv_reader)"
   ]
  },
  {
   "cell_type": "code",
   "execution_count": 32,
   "metadata": {},
   "outputs": [
    {
     "name": "stdout",
     "output_type": "stream",
     "text": [
      "<class 'pandas.core.frame.DataFrame'>\n",
      "RangeIndex: 840 entries, 0 to 839\n",
      "Data columns (total 14 columns):\n",
      " #   Column  Non-Null Count  Dtype \n",
      "---  ------  --------------  ----- \n",
      " 0   0       840 non-null    object\n",
      " 1   1       840 non-null    object\n",
      " 2   2       840 non-null    object\n",
      " 3   3       840 non-null    object\n",
      " 4   4       840 non-null    object\n",
      " 5   5       840 non-null    object\n",
      " 6   6       840 non-null    object\n",
      " 7   7       840 non-null    object\n",
      " 8   8       840 non-null    object\n",
      " 9   9       840 non-null    object\n",
      " 10  10      840 non-null    object\n",
      " 11  11      840 non-null    object\n",
      " 12  12      840 non-null    object\n",
      " 13  13      840 non-null    object\n",
      "dtypes: object(14)\n",
      "memory usage: 92.0+ KB\n"
     ]
    }
   ],
   "source": [
    "dataFrame.info()"
   ]
  },
  {
   "cell_type": "code",
   "execution_count": 33,
   "metadata": {},
   "outputs": [],
   "source": [
    "dataFrame = dataFrame.loc[:,'0':'5']"
   ]
  },
  {
   "cell_type": "code",
   "execution_count": 34,
   "metadata": {},
   "outputs": [],
   "source": [
    "dataFrame.columns = dataFrame.iloc[0]\n",
    "dataFrame=dataFrame.drop(index=0)\n"
   ]
  }
 ],
 "metadata": {
  "kernelspec": {
   "display_name": "Python 3.10.6 ('venv14')",
   "language": "python",
   "name": "python3"
  },
  "language_info": {
   "codemirror_mode": {
    "name": "ipython",
    "version": 3
   },
   "file_extension": ".py",
   "mimetype": "text/x-python",
   "name": "python",
   "nbconvert_exporter": "python",
   "pygments_lexer": "ipython3",
   "version": "3.10.6"
  },
  "orig_nbformat": 4,
  "vscode": {
   "interpreter": {
    "hash": "a58913c66b98dddfc964ba6f5302e4f760ac5e6f18107696cc385ae346a09ab8"
   }
  }
 },
 "nbformat": 4,
 "nbformat_minor": 2
}

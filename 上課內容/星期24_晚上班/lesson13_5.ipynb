{
 "cells": [
  {
   "cell_type": "code",
   "execution_count": 4,
   "metadata": {},
   "outputs": [
    {
     "data": {
      "text/plain": [
       "array([[1, 2, 3],\n",
       "       [4, 5, 6],\n",
       "       [7, 8, 9]])"
      ]
     },
     "execution_count": 4,
     "metadata": {},
     "output_type": "execute_result"
    }
   ],
   "source": [
    "#index,slice\n",
    "import numpy as np\n",
    "\n",
    "arr2d = np.array([[1,2,3],[4,5,6],[7,8,9]])\n",
    "arr2d = np.arange(1,10).reshape(3,3)\n",
    "arr2d"
   ]
  },
  {
   "cell_type": "code",
   "execution_count": 5,
   "metadata": {},
   "outputs": [
    {
     "data": {
      "text/plain": [
       "3"
      ]
     },
     "execution_count": 5,
     "metadata": {},
     "output_type": "execute_result"
    }
   ],
   "source": [
    "arr2d[0,2]"
   ]
  },
  {
   "cell_type": "code",
   "execution_count": 6,
   "metadata": {},
   "outputs": [
    {
     "data": {
      "text/plain": [
       "array([[2, 3],\n",
       "       [5, 6]])"
      ]
     },
     "execution_count": 6,
     "metadata": {},
     "output_type": "execute_result"
    }
   ],
   "source": [
    "arr2d[:2,1:]"
   ]
  },
  {
   "cell_type": "code",
   "execution_count": 7,
   "metadata": {},
   "outputs": [
    {
     "data": {
      "text/plain": [
       "array([[ 57,  79,  80,  87,  91],\n",
       "       [ 76,  76,  66,  59,  83],\n",
       "       [ 79,  89,  51,  97,  76],\n",
       "       [ 97,  69,  85,  64,  66],\n",
       "       [ 56,  72,  69,  82,  76],\n",
       "       [ 83,  84,  55,  94,  75],\n",
       "       [ 57,  58,  68,  88,  94],\n",
       "       [ 95,  97,  84,  83,  76],\n",
       "       [ 63,  63,  52,  92,  92],\n",
       "       [ 53,  89,  57,  96,  61],\n",
       "       [ 99,  76,  52,  58,  50],\n",
       "       [ 56,  62,  77,  73,  90],\n",
       "       [ 81,  67,  59,  53,  52],\n",
       "       [ 66,  82,  84,  98,  78],\n",
       "       [ 57,  88, 100,  95,  53],\n",
       "       [ 97,  99,  67,  93,  89],\n",
       "       [ 95,  68,  85,  71,  54],\n",
       "       [ 60,  53,  51,  50,  60],\n",
       "       [ 73,  75, 100,  50,  83],\n",
       "       [ 97,  87,  81,  77,  86],\n",
       "       [ 61,  67,  54,  52,  92],\n",
       "       [ 96,  91,  59,  71,  90],\n",
       "       [ 57,  82,  99,  64,  62],\n",
       "       [ 65,  96,  83, 100,  78],\n",
       "       [ 78,  80,  61,  59,  64],\n",
       "       [ 61,  80,  65,  68,  54],\n",
       "       [ 96,  89,  85,  84,  82],\n",
       "       [ 56,  58,  70,  54,  56],\n",
       "       [ 61,  63,  94,  80,  57],\n",
       "       [ 85,  63,  58,  95,  97],\n",
       "       [ 72,  55,  74, 100,  94],\n",
       "       [ 69,  51,  72,  95,  57],\n",
       "       [ 61,  94,  53,  78,  83],\n",
       "       [ 54,  94,  52,  53,  67],\n",
       "       [ 93,  71, 100,  51,  75],\n",
       "       [ 79,  80,  93,  69,  77],\n",
       "       [ 55,  86,  67,  88,  97],\n",
       "       [ 97,  99,  78,  64,  92],\n",
       "       [ 59,  54,  88,  68,  89],\n",
       "       [ 96,  86,  53,  84, 100],\n",
       "       [ 56, 100,  91,  94,  70],\n",
       "       [ 63,  99,  60,  65,  98],\n",
       "       [ 82,  53,  61,  75,  82],\n",
       "       [ 95,  65,  67,  86,  77],\n",
       "       [ 74,  89,  77,  79,  58],\n",
       "       [ 93,  88,  73,  68,  92],\n",
       "       [ 70,  65,  85,  53,  53],\n",
       "       [ 97,  52,  76,  84,  58],\n",
       "       [ 59,  50,  53,  96,  59],\n",
       "       [ 58,  73,  53,  88,  51]])"
      ]
     },
     "execution_count": 7,
     "metadata": {},
     "output_type": "execute_result"
    }
   ],
   "source": [
    "import numpy as np \n",
    "students = np.random.randint(50,101,size=(50,5))\n",
    "students"
   ]
  },
  {
   "cell_type": "code",
   "execution_count": 8,
   "metadata": {},
   "outputs": [
    {
     "data": {
      "text/plain": [
       "18649"
      ]
     },
     "execution_count": 8,
     "metadata": {},
     "output_type": "execute_result"
    }
   ],
   "source": [
    "students.sum()"
   ]
  },
  {
   "cell_type": "code",
   "execution_count": 9,
   "metadata": {},
   "outputs": [
    {
     "data": {
      "text/plain": [
       "74.596"
      ]
     },
     "execution_count": 9,
     "metadata": {},
     "output_type": "execute_result"
    }
   ],
   "source": [
    "students.mean()"
   ]
  },
  {
   "cell_type": "code",
   "execution_count": 10,
   "metadata": {},
   "outputs": [
    {
     "data": {
      "text/plain": [
       "15.554831532356754"
      ]
     },
     "execution_count": 10,
     "metadata": {},
     "output_type": "execute_result"
    }
   ],
   "source": [
    "students.std()"
   ]
  },
  {
   "cell_type": "code",
   "execution_count": 12,
   "metadata": {},
   "outputs": [
    {
     "data": {
      "text/plain": [
       "array([394, 360, 392, 381, 355, 391, 365, 435, 362, 356, 335, 358, 312,\n",
       "       408, 393, 445, 373, 274, 381, 428, 326, 407, 364, 422, 342, 328,\n",
       "       436, 294, 355, 398, 395, 344, 369, 320, 390, 398, 393, 430, 358,\n",
       "       419, 411, 385, 353, 390, 377, 414, 326, 367, 317, 323])"
      ]
     },
     "execution_count": 12,
     "metadata": {},
     "output_type": "execute_result"
    }
   ],
   "source": [
    "students.sum(axis=1)"
   ]
  },
  {
   "cell_type": "code",
   "execution_count": 13,
   "metadata": {},
   "outputs": [
    {
     "data": {
      "text/plain": [
       "array([78.8, 72. , 78.4, 76.2, 71. , 78.2, 73. , 87. , 72.4, 71.2, 67. ,\n",
       "       71.6, 62.4, 81.6, 78.6, 89. , 74.6, 54.8, 76.2, 85.6, 65.2, 81.4,\n",
       "       72.8, 84.4, 68.4, 65.6, 87.2, 58.8, 71. , 79.6, 79. , 68.8, 73.8,\n",
       "       64. , 78. , 79.6, 78.6, 86. , 71.6, 83.8, 82.2, 77. , 70.6, 78. ,\n",
       "       75.4, 82.8, 65.2, 73.4, 63.4, 64.6])"
      ]
     },
     "execution_count": 13,
     "metadata": {},
     "output_type": "execute_result"
    }
   ],
   "source": [
    "students.mean(axis=1)"
   ]
  }
 ],
 "metadata": {
  "kernelspec": {
   "display_name": "Python 3.10.6 ('venv14')",
   "language": "python",
   "name": "python3"
  },
  "language_info": {
   "codemirror_mode": {
    "name": "ipython",
    "version": 3
   },
   "file_extension": ".py",
   "mimetype": "text/x-python",
   "name": "python",
   "nbconvert_exporter": "python",
   "pygments_lexer": "ipython3",
   "version": "3.10.6"
  },
  "orig_nbformat": 4,
  "vscode": {
   "interpreter": {
    "hash": "a58913c66b98dddfc964ba6f5302e4f760ac5e6f18107696cc385ae346a09ab8"
   }
  }
 },
 "nbformat": 4,
 "nbformat_minor": 2
}

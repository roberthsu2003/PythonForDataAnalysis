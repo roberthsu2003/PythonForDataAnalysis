{
 "cells": [
  {
   "cell_type": "code",
   "execution_count": 2,
   "metadata": {},
   "outputs": [
    {
     "name": "stdout",
     "output_type": "stream",
     "text": [
      "0    4\n",
      "1    7\n",
      "2   -5\n",
      "3    3\n",
      "dtype: int64\n",
      "RangeIndex(start=0, stop=4, step=1)\n",
      "[ 4  7 -5  3]\n"
     ]
    }
   ],
   "source": [
    "import pandas as pd\n",
    "\n",
    "obj_series = pd.Series([4, 7, -5, 3])\n",
    "print(obj_series)\n",
    "print(obj_series.index)\n",
    "print(obj_series.values)"
   ]
  },
  {
   "cell_type": "code",
   "execution_count": 9,
   "metadata": {},
   "outputs": [
    {
     "name": "stdout",
     "output_type": "stream",
     "text": [
      "d    4\n",
      "b    7\n",
      "a   -5\n",
      "c    3\n",
      "dtype: int64\n",
      "4\n",
      "7\n",
      "b    7\n",
      "d    4\n",
      "c    3\n",
      "dtype: int64\n",
      "d    4\n",
      "b    7\n",
      "a   -5\n",
      "c    3\n",
      "e    8\n",
      "dtype: int64\n",
      "d     4\n",
      "b     7\n",
      "a    -5\n",
      "c     3\n",
      "e    80\n",
      "dtype: int64\n",
      "<class 'pandas.core.series.Series'>\n"
     ]
    }
   ],
   "source": [
    "#series,透過索引的搜尋和新增\n",
    "obj2_series = pd.Series([4, 7, -5, 3], index=['d', 'b', 'a','c'])\n",
    "#搜尋\n",
    "print(obj2_series)\n",
    "print(obj2_series['d'])\n",
    "print(obj2_series['b'])\n",
    "print(obj2_series[['b','d','c']])\n",
    "#新增\n",
    "obj2_series['e'] = 8\n",
    "print(obj2_series)\n",
    "\n",
    "#修改\n",
    "obj2_series['e'] = 80\n",
    "print(obj2_series)\n",
    "\n",
    "#查資料類型\n",
    "print(type(obj2_series))\n",
    "\n"
   ]
  }
 ],
 "metadata": {
  "kernelspec": {
   "display_name": "Python 3.10.6 ('venv14')",
   "language": "python",
   "name": "python3"
  },
  "language_info": {
   "codemirror_mode": {
    "name": "ipython",
    "version": 3
   },
   "file_extension": ".py",
   "mimetype": "text/x-python",
   "name": "python",
   "nbconvert_exporter": "python",
   "pygments_lexer": "ipython3",
   "version": "3.10.6"
  },
  "orig_nbformat": 4,
  "vscode": {
   "interpreter": {
    "hash": "a58913c66b98dddfc964ba6f5302e4f760ac5e6f18107696cc385ae346a09ab8"
   }
  }
 },
 "nbformat": 4,
 "nbformat_minor": 2
}

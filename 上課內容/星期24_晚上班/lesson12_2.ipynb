{
 "cells": [
  {
   "cell_type": "code",
   "execution_count": 3,
   "metadata": {},
   "outputs": [
    {
     "name": "stdout",
     "output_type": "stream",
     "text": [
      "{'cnt': 3, 'list': [{'coord': {'lon': 121.5319, 'lat': 25.0478}, 'sys': {'country': 'TW', 'timezone': 28800, 'sunrise': 1663796536, 'sunset': 1663840282}, 'weather': [{'id': 801, 'main': 'Clouds', 'description': 'few clouds', 'icon': '02n'}], 'main': {'temp': 24.12, 'feels_like': 24.49, 'temp_min': 22.93, 'temp_max': 25.51, 'pressure': 1013, 'humidity': 73}, 'visibility': 10000, 'wind': {'speed': 3.09, 'deg': 90}, 'clouds': {'all': 20}, 'dt': 1663852208, 'id': 1668341, 'name': 'Taipei'}, {'coord': {'lon': 120.6839, 'lat': 24.1469}, 'sys': {'country': 'TW', 'timezone': 28800, 'sunrise': 1663796744, 'sunset': 1663840481}, 'weather': [{'id': 802, 'main': 'Clouds', 'description': 'scattered clouds', 'icon': '03n'}], 'main': {'temp': 27.31, 'feels_like': 28.48, 'temp_min': 23.7, 'temp_max': 28.05, 'pressure': 996, 'humidity': 60}, 'visibility': 10000, 'wind': {'speed': 4.12, 'deg': 10}, 'clouds': {'all': 40}, 'dt': 1663852208, 'id': 1668399, 'name': 'Taichung'}, {'coord': {'lon': 120.4881, 'lat': 22.6714}, 'sys': {'country': 'TW', 'timezone': 28800, 'sunrise': 1663796797, 'sunset': 1663840522}, 'weather': [{'id': 803, 'main': 'Clouds', 'description': 'broken clouds', 'icon': '04n'}], 'main': {'temp': 26.71, 'feels_like': 29.5, 'temp_min': 26.57, 'temp_max': 26.92, 'pressure': 1010, 'humidity': 85}, 'visibility': 7000, 'wind': {'speed': 2.06, 'deg': 110}, 'clouds': {'all': 75}, 'dt': 1663852387, 'id': 1670481, 'name': 'Pingtung City'}]}\n"
     ]
    }
   ],
   "source": [
    "import requests\n",
    "url = 'http://api.openweathermap.org/data/2.5/group?id=1668341,1668399,1670481&units=metric&appid=29c4f184354b9889e87f7b494ac86aed'\n",
    "\n",
    "response = requests.get(url)\n",
    "if response.ok:\n",
    "    response.encoding = \"utf-8\"\n",
    "    data = response.json()\n",
    "print(data)"
   ]
  }
 ],
 "metadata": {
  "kernelspec": {
   "display_name": "Python 3.10.6 ('venv14')",
   "language": "python",
   "name": "python3"
  },
  "language_info": {
   "codemirror_mode": {
    "name": "ipython",
    "version": 3
   },
   "file_extension": ".py",
   "mimetype": "text/x-python",
   "name": "python",
   "nbconvert_exporter": "python",
   "pygments_lexer": "ipython3",
   "version": "3.10.6"
  },
  "orig_nbformat": 4,
  "vscode": {
   "interpreter": {
    "hash": "a58913c66b98dddfc964ba6f5302e4f760ac5e6f18107696cc385ae346a09ab8"
   }
  }
 },
 "nbformat": 4,
 "nbformat_minor": 2
}

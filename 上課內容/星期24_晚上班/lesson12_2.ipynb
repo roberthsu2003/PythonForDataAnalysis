{
 "cells": [
  {
   "cell_type": "code",
   "execution_count": 9,
   "metadata": {},
   "outputs": [],
   "source": [
    "import requests\n",
    "url = 'http://api.openweathermap.org/data/2.5/group?id=1668341,1668399,1670481&units=metric&appid=29c4f184354b9889e87f7b494ac86aed'\n",
    "\n",
    "response = requests.get(url)\n",
    "if response.ok:\n",
    "    response.encoding = \"utf-8\"\n",
    "    data = response.json()\n",
    "\n",
    "counties = []\n",
    "temps = []\n",
    "for county in data['list']:    \n",
    "    counties.append(county['name'])\n",
    "    temps.append(county['main']['temp'])\n",
    "\n",
    "counties = ['台北','台中','屏東']"
   ]
  },
  {
   "cell_type": "code",
   "execution_count": 10,
   "metadata": {},
   "outputs": [
    {
     "name": "stdout",
     "output_type": "stream",
     "text": [
      "['台北', '台中', '屏東']\n",
      "[24.12, 27.31, 26.71]\n"
     ]
    }
   ],
   "source": [
    "print(counties)\n",
    "print(temps)"
   ]
  }
 ],
 "metadata": {
  "kernelspec": {
   "display_name": "Python 3.10.6 ('venv14')",
   "language": "python",
   "name": "python3"
  },
  "language_info": {
   "codemirror_mode": {
    "name": "ipython",
    "version": 3
   },
   "file_extension": ".py",
   "mimetype": "text/x-python",
   "name": "python",
   "nbconvert_exporter": "python",
   "pygments_lexer": "ipython3",
   "version": "3.10.6"
  },
  "orig_nbformat": 4,
  "vscode": {
   "interpreter": {
    "hash": "a58913c66b98dddfc964ba6f5302e4f760ac5e6f18107696cc385ae346a09ab8"
   }
  }
 },
 "nbformat": 4,
 "nbformat_minor": 2
}

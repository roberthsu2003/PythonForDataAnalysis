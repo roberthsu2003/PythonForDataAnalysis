{
 "cells": [
  {
   "cell_type": "markdown",
   "id": "fda7d871",
   "metadata": {},
   "source": [
    "## 時間處理(Time Series)\n",
    "\n",
    "- 時間戳記(timestamp)\n",
    "- 固定時間(2021-1-1,2021-1,2021)\n",
    "- 一段時間(起始-結束)"
   ]
  },
  {
   "cell_type": "markdown",
   "id": "8a2b78d6",
   "metadata": {},
   "source": [
    "### Date and Time Data Types\n",
    "\n",
    "- python提供3種module處理時間datatime,time,calendar"
   ]
  },
  {
   "cell_type": "code",
   "execution_count": 3,
   "id": "9e60ae68",
   "metadata": {},
   "outputs": [
    {
     "data": {
      "text/plain": [
       "datetime.datetime(2021, 11, 23, 12, 34, 44, 50577)"
      ]
     },
     "execution_count": 3,
     "metadata": {},
     "output_type": "execute_result"
    }
   ],
   "source": [
    "from datetime import datetime\n",
    "now = datetime.now()\n",
    "now"
   ]
  },
  {
   "cell_type": "code",
   "execution_count": 4,
   "id": "cff1ae0c",
   "metadata": {},
   "outputs": [
    {
     "data": {
      "text/plain": [
       "(2021, 11, 23)"
      ]
     },
     "execution_count": 4,
     "metadata": {},
     "output_type": "execute_result"
    }
   ],
   "source": [
    "now.year, now.month, now.day"
   ]
  },
  {
   "cell_type": "markdown",
   "id": "c3358dd3",
   "metadata": {},
   "source": [
    "- timedelta 是提供儲存一段時間的類型"
   ]
  },
  {
   "cell_type": "code",
   "execution_count": 5,
   "id": "79d0a2ae",
   "metadata": {},
   "outputs": [
    {
     "data": {
      "text/plain": [
       "datetime.timedelta(days=2023, seconds=56700)"
      ]
     },
     "execution_count": 5,
     "metadata": {},
     "output_type": "execute_result"
    }
   ],
   "source": [
    "delta = datetime(2017,1,7) - datetime(2011, 6, 24, 8, 15)\n",
    "delta"
   ]
  },
  {
   "cell_type": "code",
   "execution_count": 8,
   "id": "6971156e",
   "metadata": {},
   "outputs": [
    {
     "data": {
      "text/plain": [
       "(2023, 56700)"
      ]
     },
     "execution_count": 8,
     "metadata": {},
     "output_type": "execute_result"
    }
   ],
   "source": [
    "delta.days, delta.seconds"
   ]
  },
  {
   "cell_type": "markdown",
   "id": "0a67672b",
   "metadata": {},
   "source": [
    " - 可以使用datatime和timedelta的數學運算來增加或減少時間"
   ]
  },
  {
   "cell_type": "code",
   "execution_count": 9,
   "id": "e2ae80a5",
   "metadata": {},
   "outputs": [
    {
     "data": {
      "text/plain": [
       "datetime.datetime(2011, 1, 19, 0, 0)"
      ]
     },
     "execution_count": 9,
     "metadata": {},
     "output_type": "execute_result"
    }
   ],
   "source": [
    "from datetime import timedelta\n",
    "start = datetime(2011, 1, 7)\n",
    "start + timedelta(12)"
   ]
  },
  {
   "cell_type": "code",
   "execution_count": 10,
   "id": "fd24151e",
   "metadata": {},
   "outputs": [
    {
     "data": {
      "text/plain": [
       "datetime.datetime(2010, 12, 14, 0, 0)"
      ]
     },
     "execution_count": 10,
     "metadata": {},
     "output_type": "execute_result"
    }
   ],
   "source": [
    "start - 2 * timedelta(12)"
   ]
  },
  {
   "cell_type": "markdown",
   "id": "c88a08b7",
   "metadata": {},
   "source": [
    "### 字串和Datatime之間的轉換\n",
    "\n",
    "- 使用str(),datetime的方法strftime(),將時間轉成字串\n",
    "\n",
    "%Y -> Four-digit year\n",
    "\n",
    "%y -> Two-digit year\n",
    "\n",
    "%m -> Two-digit month [01, 12] \n",
    "\n",
    "%d -> Two-digit day [01, 31]\n",
    "\n",
    "%H -> Hour (24-hour clock) [00, 23]\n",
    "\n",
    "%I -> Hour (12-hour clock) [01, 12]\n",
    "\n",
    "%M Two-digit minute [00, 59]\n",
    "\n",
    "%S Second [00, 61] (seconds 60, 61 account for leap seconds) \n",
    "\n",
    "%w Weekday as integer [0 (Sunday), 6]\n"
   ]
  },
  {
   "cell_type": "code",
   "execution_count": 14,
   "id": "2724322b",
   "metadata": {},
   "outputs": [
    {
     "data": {
      "text/plain": [
       "('2011-01-03 00:00:00', '2011-01-03')"
      ]
     },
     "execution_count": 14,
     "metadata": {},
     "output_type": "execute_result"
    }
   ],
   "source": [
    "stamp = datetime(2011, 1, 3)\n",
    "str(stamp) , stamp.strftime(\"%Y-%m-%d\")"
   ]
  },
  {
   "cell_type": "markdown",
   "id": "afa81a83",
   "metadata": {},
   "source": [
    "- 將字串轉成時間(datetime.strptime())"
   ]
  },
  {
   "cell_type": "code",
   "execution_count": 16,
   "id": "ac974928",
   "metadata": {},
   "outputs": [
    {
     "data": {
      "text/plain": [
       "datetime.datetime(2011, 3, 1, 0, 0)"
      ]
     },
     "execution_count": 16,
     "metadata": {},
     "output_type": "execute_result"
    }
   ],
   "source": [
    "value = '2011-03-01'\n",
    "datetime.strptime(value, \"%Y-%m-%d\")"
   ]
  },
  {
   "cell_type": "code",
   "execution_count": 17,
   "id": "1de633b7",
   "metadata": {},
   "outputs": [
    {
     "data": {
      "text/plain": [
       "[datetime.datetime(2011, 7, 6, 0, 0), datetime.datetime(2011, 8, 6, 0, 0)]"
      ]
     },
     "execution_count": 17,
     "metadata": {},
     "output_type": "execute_result"
    }
   ],
   "source": [
    "datestrs = ['7/6/2011', '8/6/2011']\n",
    "[datetime.strptime(x,'%m/%d/%Y') for x in datestrs]"
   ]
  },
  {
   "cell_type": "markdown",
   "id": "968e351b",
   "metadata": {},
   "source": [
    "datatime.strptime()非常好使用，但每次要指定格式也是非常麻煩，可以使用第3方套件dateutil的parse方法\n",
    "\n",
    "- pip install python-dateutil"
   ]
  },
  {
   "cell_type": "code",
   "execution_count": 20,
   "id": "6e17c34f",
   "metadata": {},
   "outputs": [
    {
     "data": {
      "text/plain": [
       "(datetime.datetime(2011, 1, 3, 0, 0), datetime.datetime(1997, 1, 31, 22, 15))"
      ]
     },
     "execution_count": 20,
     "metadata": {},
     "output_type": "execute_result"
    }
   ],
   "source": [
    "from dateutil.parser import parse\n",
    "\n",
    "parse('2011-01-03') , parse('Jan 31, 1997 10:15 PM')"
   ]
  },
  {
   "cell_type": "markdown",
   "id": "3382ad59",
   "metadata": {},
   "source": [
    "- 在國際上有時會日期放在前方，只要設定dayfirst=True來指示"
   ]
  },
  {
   "cell_type": "code",
   "execution_count": 23,
   "id": "f2805f2d",
   "metadata": {},
   "outputs": [
    {
     "data": {
      "text/plain": [
       "datetime.datetime(2011, 12, 6, 0, 0)"
      ]
     },
     "execution_count": 23,
     "metadata": {},
     "output_type": "execute_result"
    }
   ],
   "source": [
    "parse('6/12/2011',dayfirst=True)"
   ]
  },
  {
   "cell_type": "markdown",
   "id": "f4ad1fff",
   "metadata": {},
   "source": [
    "- pandas提供to_datetime方法，快速將包含時間字串的list轉換為DatetimeIndex"
   ]
  },
  {
   "cell_type": "code",
   "execution_count": 25,
   "id": "9e566bff",
   "metadata": {},
   "outputs": [
    {
     "data": {
      "text/plain": [
       "DatetimeIndex(['2011-07-06 12:00:00', '2011-08-06 00:00:00'], dtype='datetime64[ns]', freq=None)"
      ]
     },
     "execution_count": 25,
     "metadata": {},
     "output_type": "execute_result"
    }
   ],
   "source": [
    "import pandas as pd\n",
    "\n",
    "datestrs = ['2011-07-06 12:00:00', '2011-08-06 00:00:00']\n",
    "pd.to_datetime(datestrs)\n",
    "            "
   ]
  },
  {
   "cell_type": "markdown",
   "id": "76539ed8",
   "metadata": {},
   "source": [
    "### Time Series的基礎操作\n",
    "\n",
    "- 最常使用的是將Time Series常作index\n",
    "- 建立Time Series時使用的是datetime物件或str"
   ]
  },
  {
   "cell_type": "code",
   "execution_count": 2,
   "id": "d5a28807",
   "metadata": {},
   "outputs": [
    {
     "data": {
      "text/plain": [
       "2021-01-02    0.635659\n",
       "2021-01-05    0.866713\n",
       "2021-01-09   -0.986443\n",
       "2021-01-13   -0.855726\n",
       "2021-01-21   -1.555767\n",
       "dtype: float64"
      ]
     },
     "execution_count": 2,
     "metadata": {},
     "output_type": "execute_result"
    }
   ],
   "source": [
    "import numpy as np\n",
    "import pandas as pd\n",
    "from datetime import datetime\n",
    "\n",
    "dates = [datetime(2021,1,2),\n",
    "         datetime(2021,1,5),\n",
    "         datetime(2021,1,9),\n",
    "         datetime(2021,1,13),\n",
    "         datetime(2021,1,21)]\n",
    "ts = pd.Series(np.random.randn(5),index=dates)\n",
    "ts"
   ]
  },
  {
   "cell_type": "code",
   "execution_count": 3,
   "id": "665a8e99",
   "metadata": {},
   "outputs": [
    {
     "data": {
      "text/plain": [
       "DatetimeIndex(['2021-01-02', '2021-01-05', '2021-01-09', '2021-01-13',\n",
       "               '2021-01-21'],\n",
       "              dtype='datetime64[ns]', freq=None)"
      ]
     },
     "execution_count": 3,
     "metadata": {},
     "output_type": "execute_result"
    }
   ],
   "source": [
    "ts.index"
   ]
  },
  {
   "cell_type": "code",
   "execution_count": 7,
   "id": "c0320023",
   "metadata": {},
   "outputs": [
    {
     "data": {
      "text/plain": [
       "(Timestamp('2021-01-02 00:00:00'), 2021, 2, 0, 0, 0)"
      ]
     },
     "execution_count": 7,
     "metadata": {},
     "output_type": "execute_result"
    }
   ],
   "source": [
    "stamp = ts.index[0]\n",
    "stamp, stamp.year, stamp.day, stamp.hour, stamp.minute, stamp.second"
   ]
  },
  {
   "cell_type": "markdown",
   "id": "08d686da",
   "metadata": {},
   "source": [
    "### Indexing, Slection, Subsetting"
   ]
  },
  {
   "cell_type": "code",
   "execution_count": 8,
   "id": "9d6d0a91",
   "metadata": {},
   "outputs": [
    {
     "data": {
      "text/plain": [
       "2021-01-02    0.635659\n",
       "2021-01-05    0.866713\n",
       "2021-01-09   -0.986443\n",
       "2021-01-13   -0.855726\n",
       "2021-01-21   -1.555767\n",
       "dtype: float64"
      ]
     },
     "execution_count": 8,
     "metadata": {},
     "output_type": "execute_result"
    }
   ],
   "source": [
    "ts"
   ]
  },
  {
   "cell_type": "code",
   "execution_count": 9,
   "id": "757cab2e",
   "metadata": {},
   "outputs": [
    {
     "data": {
      "text/plain": [
       "-0.9864425754189368"
      ]
     },
     "execution_count": 9,
     "metadata": {},
     "output_type": "execute_result"
    }
   ],
   "source": [
    "#Timestamp當作索引\n",
    "\n",
    "stamp=ts.index[2]\n",
    "ts[stamp]"
   ]
  },
  {
   "cell_type": "code",
   "execution_count": 12,
   "id": "1117012b",
   "metadata": {},
   "outputs": [
    {
     "data": {
      "text/plain": [
       "(0.6356590383348519, 0.6356590383348519)"
      ]
     },
     "execution_count": 12,
     "metadata": {},
     "output_type": "execute_result"
    }
   ],
   "source": [
    "#時間字串當作索引\n",
    "ts['1/2/2021'], ts['20210102']"
   ]
  },
  {
   "cell_type": "code",
   "execution_count": 13,
   "id": "a3f88a78",
   "metadata": {},
   "outputs": [
    {
     "data": {
      "text/plain": [
       "2019-01-01    0.221904\n",
       "2019-01-02   -0.369424\n",
       "2019-01-03    0.214481\n",
       "2019-01-04   -0.188063\n",
       "2019-01-05    0.579601\n",
       "                ...   \n",
       "2021-09-22   -0.503608\n",
       "2021-09-23   -1.385307\n",
       "2021-09-24    0.619705\n",
       "2021-09-25    0.997681\n",
       "2021-09-26    0.647184\n",
       "Freq: D, Length: 1000, dtype: float64"
      ]
     },
     "execution_count": 13,
     "metadata": {},
     "output_type": "execute_result"
    }
   ],
   "source": [
    "#使用pd.date_range()建立長的Time Series \n",
    "longer_ts = pd.Series(np.random.randn(1000),\n",
    "                      index=pd.date_range('1/1/2019',periods=1000))\n",
    "longer_ts"
   ]
  },
  {
   "cell_type": "code",
   "execution_count": 15,
   "id": "b9667087",
   "metadata": {},
   "outputs": [
    {
     "data": {
      "text/plain": [
       "2019-01-01    0.221904\n",
       "2019-01-02   -0.369424\n",
       "2019-01-03    0.214481\n",
       "2019-01-04   -0.188063\n",
       "2019-01-05    0.579601\n",
       "                ...   \n",
       "2019-12-27   -0.022774\n",
       "2019-12-28    2.039316\n",
       "2019-12-29   -0.663657\n",
       "2019-12-30    0.206417\n",
       "2019-12-31    1.635915\n",
       "Freq: D, Length: 365, dtype: float64"
      ]
     },
     "execution_count": 15,
     "metadata": {},
     "output_type": "execute_result"
    }
   ],
   "source": [
    "#只索引年份\n",
    "longer_ts['2019']"
   ]
  },
  {
   "cell_type": "code",
   "execution_count": 17,
   "id": "3caabb68",
   "metadata": {},
   "outputs": [
    {
     "data": {
      "text/plain": [
       "2019-05-01    0.927582\n",
       "2019-05-02   -0.705121\n",
       "2019-05-03    1.045496\n",
       "2019-05-04    1.402669\n",
       "2019-05-05    0.437554\n",
       "2019-05-06    0.288062\n",
       "2019-05-07   -0.148887\n",
       "2019-05-08   -0.609939\n",
       "2019-05-09    0.069485\n",
       "2019-05-10   -1.374335\n",
       "2019-05-11    1.678401\n",
       "2019-05-12    0.271153\n",
       "2019-05-13   -0.731405\n",
       "2019-05-14    0.692798\n",
       "2019-05-15   -0.838299\n",
       "2019-05-16   -0.779959\n",
       "2019-05-17   -1.863190\n",
       "2019-05-18   -1.134650\n",
       "2019-05-19    1.498687\n",
       "2019-05-20   -0.764551\n",
       "2019-05-21    0.885190\n",
       "2019-05-22   -1.247698\n",
       "2019-05-23    0.963204\n",
       "2019-05-24    0.699194\n",
       "2019-05-25    1.296661\n",
       "2019-05-26   -0.151037\n",
       "2019-05-27   -0.565532\n",
       "2019-05-28   -1.330525\n",
       "2019-05-29    0.806819\n",
       "2019-05-30    0.347592\n",
       "2019-05-31   -0.060094\n",
       "Freq: D, dtype: float64"
      ]
     },
     "execution_count": 17,
     "metadata": {},
     "output_type": "execute_result"
    }
   ],
   "source": [
    "#只索引年份和月份\n",
    "longer_ts['2019-05']"
   ]
  },
  {
   "cell_type": "code",
   "execution_count": 22,
   "id": "6195de1d",
   "metadata": {},
   "outputs": [
    {
     "data": {
      "text/plain": [
       "2021-01-01   -0.211341\n",
       "2021-01-02    1.354876\n",
       "2021-01-03    0.422720\n",
       "2021-01-04    1.247645\n",
       "2021-01-05   -0.909123\n",
       "                ...   \n",
       "2021-09-22   -0.503608\n",
       "2021-09-23   -1.385307\n",
       "2021-09-24    0.619705\n",
       "2021-09-25    0.997681\n",
       "2021-09-26    0.647184\n",
       "Freq: D, Length: 269, dtype: float64"
      ]
     },
     "execution_count": 22,
     "metadata": {},
     "output_type": "execute_result"
    }
   ],
   "source": [
    "#使用slicing\n",
    "longer_ts[datetime(2021,1,1):]"
   ]
  },
  {
   "cell_type": "code",
   "execution_count": 23,
   "id": "16794c0d",
   "metadata": {},
   "outputs": [
    {
     "data": {
      "text/plain": [
       "2021-01-01   -0.211341\n",
       "2021-01-02    1.354876\n",
       "2021-01-03    0.422720\n",
       "2021-01-04    1.247645\n",
       "2021-01-05   -0.909123\n",
       "                ...   \n",
       "2021-03-27   -0.441707\n",
       "2021-03-28   -0.547188\n",
       "2021-03-29    0.969223\n",
       "2021-03-30    2.180465\n",
       "2021-03-31   -1.650817\n",
       "Freq: D, Length: 90, dtype: float64"
      ]
     },
     "execution_count": 23,
     "metadata": {},
     "output_type": "execute_result"
    }
   ],
   "source": [
    "longer_ts['2021-1-1':'2021-3-31']"
   ]
  },
  {
   "cell_type": "code",
   "execution_count": 26,
   "id": "cd1332a5",
   "metadata": {},
   "outputs": [
    {
     "data": {
      "text/html": [
       "<div>\n",
       "<style scoped>\n",
       "    .dataframe tbody tr th:only-of-type {\n",
       "        vertical-align: middle;\n",
       "    }\n",
       "\n",
       "    .dataframe tbody tr th {\n",
       "        vertical-align: top;\n",
       "    }\n",
       "\n",
       "    .dataframe thead th {\n",
       "        text-align: right;\n",
       "    }\n",
       "</style>\n",
       "<table border=\"1\" class=\"dataframe\">\n",
       "  <thead>\n",
       "    <tr style=\"text-align: right;\">\n",
       "      <th></th>\n",
       "      <th>台北</th>\n",
       "      <th>台中</th>\n",
       "      <th>高雄</th>\n",
       "      <th>花蓮</th>\n",
       "    </tr>\n",
       "  </thead>\n",
       "  <tbody>\n",
       "    <tr>\n",
       "      <th>2021-01-01</th>\n",
       "      <td>1.657568</td>\n",
       "      <td>-1.352675</td>\n",
       "      <td>0.634564</td>\n",
       "      <td>2.109804</td>\n",
       "    </tr>\n",
       "    <tr>\n",
       "      <th>2021-01-02</th>\n",
       "      <td>0.594663</td>\n",
       "      <td>0.309041</td>\n",
       "      <td>-1.310166</td>\n",
       "      <td>0.853669</td>\n",
       "    </tr>\n",
       "    <tr>\n",
       "      <th>2021-01-03</th>\n",
       "      <td>-1.293925</td>\n",
       "      <td>-1.652481</td>\n",
       "      <td>1.920713</td>\n",
       "      <td>-1.114137</td>\n",
       "    </tr>\n",
       "    <tr>\n",
       "      <th>2021-01-04</th>\n",
       "      <td>-0.158570</td>\n",
       "      <td>2.326904</td>\n",
       "      <td>1.312809</td>\n",
       "      <td>-2.104593</td>\n",
       "    </tr>\n",
       "    <tr>\n",
       "      <th>2021-01-05</th>\n",
       "      <td>-1.212333</td>\n",
       "      <td>1.373365</td>\n",
       "      <td>2.175019</td>\n",
       "      <td>-0.842572</td>\n",
       "    </tr>\n",
       "    <tr>\n",
       "      <th>...</th>\n",
       "      <td>...</td>\n",
       "      <td>...</td>\n",
       "      <td>...</td>\n",
       "      <td>...</td>\n",
       "    </tr>\n",
       "    <tr>\n",
       "      <th>2021-04-06</th>\n",
       "      <td>-0.246304</td>\n",
       "      <td>-0.123489</td>\n",
       "      <td>0.015097</td>\n",
       "      <td>0.106791</td>\n",
       "    </tr>\n",
       "    <tr>\n",
       "      <th>2021-04-07</th>\n",
       "      <td>0.747633</td>\n",
       "      <td>0.843869</td>\n",
       "      <td>-0.830307</td>\n",
       "      <td>1.916031</td>\n",
       "    </tr>\n",
       "    <tr>\n",
       "      <th>2021-04-08</th>\n",
       "      <td>0.104077</td>\n",
       "      <td>0.693688</td>\n",
       "      <td>-1.108173</td>\n",
       "      <td>-0.921798</td>\n",
       "    </tr>\n",
       "    <tr>\n",
       "      <th>2021-04-09</th>\n",
       "      <td>1.874833</td>\n",
       "      <td>0.770297</td>\n",
       "      <td>1.825950</td>\n",
       "      <td>0.327793</td>\n",
       "    </tr>\n",
       "    <tr>\n",
       "      <th>2021-04-10</th>\n",
       "      <td>0.977891</td>\n",
       "      <td>-1.533404</td>\n",
       "      <td>1.141079</td>\n",
       "      <td>-0.947983</td>\n",
       "    </tr>\n",
       "  </tbody>\n",
       "</table>\n",
       "<p>100 rows × 4 columns</p>\n",
       "</div>"
      ],
      "text/plain": [
       "                  台北        台中        高雄        花蓮\n",
       "2021-01-01  1.657568 -1.352675  0.634564  2.109804\n",
       "2021-01-02  0.594663  0.309041 -1.310166  0.853669\n",
       "2021-01-03 -1.293925 -1.652481  1.920713 -1.114137\n",
       "2021-01-04 -0.158570  2.326904  1.312809 -2.104593\n",
       "2021-01-05 -1.212333  1.373365  2.175019 -0.842572\n",
       "...              ...       ...       ...       ...\n",
       "2021-04-06 -0.246304 -0.123489  0.015097  0.106791\n",
       "2021-04-07  0.747633  0.843869 -0.830307  1.916031\n",
       "2021-04-08  0.104077  0.693688 -1.108173 -0.921798\n",
       "2021-04-09  1.874833  0.770297  1.825950  0.327793\n",
       "2021-04-10  0.977891 -1.533404  1.141079 -0.947983\n",
       "\n",
       "[100 rows x 4 columns]"
      ]
     },
     "execution_count": 26,
     "metadata": {},
     "output_type": "execute_result"
    }
   ],
   "source": [
    "#DataFrame\n",
    "dates = pd.date_range('1/1/2021',periods=100)\n",
    "long_df = pd.DataFrame(np.random.randn(100,4),\n",
    "                      index = dates,\n",
    "                      columns = ['台北','台中','高雄','花蓮'])\n",
    "long_df"
   ]
  },
  {
   "cell_type": "code",
   "execution_count": 29,
   "id": "16ea5e57",
   "metadata": {},
   "outputs": [
    {
     "data": {
      "text/html": [
       "<div>\n",
       "<style scoped>\n",
       "    .dataframe tbody tr th:only-of-type {\n",
       "        vertical-align: middle;\n",
       "    }\n",
       "\n",
       "    .dataframe tbody tr th {\n",
       "        vertical-align: top;\n",
       "    }\n",
       "\n",
       "    .dataframe thead th {\n",
       "        text-align: right;\n",
       "    }\n",
       "</style>\n",
       "<table border=\"1\" class=\"dataframe\">\n",
       "  <thead>\n",
       "    <tr style=\"text-align: right;\">\n",
       "      <th></th>\n",
       "      <th>台北</th>\n",
       "      <th>台中</th>\n",
       "      <th>高雄</th>\n",
       "      <th>花蓮</th>\n",
       "    </tr>\n",
       "  </thead>\n",
       "  <tbody>\n",
       "    <tr>\n",
       "      <th>2021-03-01</th>\n",
       "      <td>-0.971071</td>\n",
       "      <td>-1.122776</td>\n",
       "      <td>0.230993</td>\n",
       "      <td>-0.635563</td>\n",
       "    </tr>\n",
       "    <tr>\n",
       "      <th>2021-03-02</th>\n",
       "      <td>-0.671686</td>\n",
       "      <td>-0.667776</td>\n",
       "      <td>0.666699</td>\n",
       "      <td>1.520706</td>\n",
       "    </tr>\n",
       "    <tr>\n",
       "      <th>2021-03-03</th>\n",
       "      <td>1.545800</td>\n",
       "      <td>0.623324</td>\n",
       "      <td>-0.788679</td>\n",
       "      <td>-0.768983</td>\n",
       "    </tr>\n",
       "    <tr>\n",
       "      <th>2021-03-04</th>\n",
       "      <td>1.802388</td>\n",
       "      <td>-0.067553</td>\n",
       "      <td>-0.789496</td>\n",
       "      <td>-1.529197</td>\n",
       "    </tr>\n",
       "    <tr>\n",
       "      <th>2021-03-05</th>\n",
       "      <td>0.153910</td>\n",
       "      <td>-0.559144</td>\n",
       "      <td>0.872580</td>\n",
       "      <td>-0.492220</td>\n",
       "    </tr>\n",
       "    <tr>\n",
       "      <th>2021-03-06</th>\n",
       "      <td>0.179281</td>\n",
       "      <td>0.136172</td>\n",
       "      <td>-1.703999</td>\n",
       "      <td>0.623671</td>\n",
       "    </tr>\n",
       "    <tr>\n",
       "      <th>2021-03-07</th>\n",
       "      <td>0.553433</td>\n",
       "      <td>-1.255597</td>\n",
       "      <td>0.429705</td>\n",
       "      <td>1.046209</td>\n",
       "    </tr>\n",
       "    <tr>\n",
       "      <th>2021-03-08</th>\n",
       "      <td>-1.405561</td>\n",
       "      <td>0.051523</td>\n",
       "      <td>-0.789161</td>\n",
       "      <td>-1.650783</td>\n",
       "    </tr>\n",
       "    <tr>\n",
       "      <th>2021-03-09</th>\n",
       "      <td>1.446504</td>\n",
       "      <td>-2.181151</td>\n",
       "      <td>-0.234300</td>\n",
       "      <td>0.144590</td>\n",
       "    </tr>\n",
       "    <tr>\n",
       "      <th>2021-03-10</th>\n",
       "      <td>0.514304</td>\n",
       "      <td>0.183046</td>\n",
       "      <td>1.449759</td>\n",
       "      <td>0.368212</td>\n",
       "    </tr>\n",
       "    <tr>\n",
       "      <th>2021-03-11</th>\n",
       "      <td>-0.854852</td>\n",
       "      <td>-1.721723</td>\n",
       "      <td>0.516366</td>\n",
       "      <td>0.653515</td>\n",
       "    </tr>\n",
       "    <tr>\n",
       "      <th>2021-03-12</th>\n",
       "      <td>0.949986</td>\n",
       "      <td>-0.052888</td>\n",
       "      <td>0.033975</td>\n",
       "      <td>-3.533418</td>\n",
       "    </tr>\n",
       "    <tr>\n",
       "      <th>2021-03-13</th>\n",
       "      <td>1.282978</td>\n",
       "      <td>-0.355550</td>\n",
       "      <td>-0.233595</td>\n",
       "      <td>-1.252351</td>\n",
       "    </tr>\n",
       "    <tr>\n",
       "      <th>2021-03-14</th>\n",
       "      <td>0.986377</td>\n",
       "      <td>1.019686</td>\n",
       "      <td>1.408676</td>\n",
       "      <td>0.622695</td>\n",
       "    </tr>\n",
       "    <tr>\n",
       "      <th>2021-03-15</th>\n",
       "      <td>1.361222</td>\n",
       "      <td>0.804325</td>\n",
       "      <td>1.189052</td>\n",
       "      <td>1.068901</td>\n",
       "    </tr>\n",
       "    <tr>\n",
       "      <th>2021-03-16</th>\n",
       "      <td>1.383153</td>\n",
       "      <td>-1.058294</td>\n",
       "      <td>0.011752</td>\n",
       "      <td>-0.219526</td>\n",
       "    </tr>\n",
       "    <tr>\n",
       "      <th>2021-03-17</th>\n",
       "      <td>-0.383839</td>\n",
       "      <td>0.595041</td>\n",
       "      <td>-0.774387</td>\n",
       "      <td>1.914616</td>\n",
       "    </tr>\n",
       "    <tr>\n",
       "      <th>2021-03-18</th>\n",
       "      <td>1.274907</td>\n",
       "      <td>-0.383278</td>\n",
       "      <td>-0.541037</td>\n",
       "      <td>1.837014</td>\n",
       "    </tr>\n",
       "    <tr>\n",
       "      <th>2021-03-19</th>\n",
       "      <td>-0.784288</td>\n",
       "      <td>-0.692967</td>\n",
       "      <td>0.278064</td>\n",
       "      <td>1.018239</td>\n",
       "    </tr>\n",
       "    <tr>\n",
       "      <th>2021-03-20</th>\n",
       "      <td>1.428635</td>\n",
       "      <td>-2.036363</td>\n",
       "      <td>1.029545</td>\n",
       "      <td>0.239048</td>\n",
       "    </tr>\n",
       "    <tr>\n",
       "      <th>2021-03-21</th>\n",
       "      <td>-2.603397</td>\n",
       "      <td>-0.279256</td>\n",
       "      <td>0.331875</td>\n",
       "      <td>-0.063379</td>\n",
       "    </tr>\n",
       "    <tr>\n",
       "      <th>2021-03-22</th>\n",
       "      <td>1.416076</td>\n",
       "      <td>-0.357706</td>\n",
       "      <td>0.466080</td>\n",
       "      <td>1.264633</td>\n",
       "    </tr>\n",
       "    <tr>\n",
       "      <th>2021-03-23</th>\n",
       "      <td>1.066743</td>\n",
       "      <td>-0.192761</td>\n",
       "      <td>0.281698</td>\n",
       "      <td>-1.658254</td>\n",
       "    </tr>\n",
       "    <tr>\n",
       "      <th>2021-03-24</th>\n",
       "      <td>0.065529</td>\n",
       "      <td>1.032550</td>\n",
       "      <td>0.908908</td>\n",
       "      <td>0.553984</td>\n",
       "    </tr>\n",
       "    <tr>\n",
       "      <th>2021-03-25</th>\n",
       "      <td>-1.803842</td>\n",
       "      <td>2.326293</td>\n",
       "      <td>0.445388</td>\n",
       "      <td>0.672557</td>\n",
       "    </tr>\n",
       "    <tr>\n",
       "      <th>2021-03-26</th>\n",
       "      <td>-1.361722</td>\n",
       "      <td>-0.322382</td>\n",
       "      <td>-0.233374</td>\n",
       "      <td>-0.936213</td>\n",
       "    </tr>\n",
       "    <tr>\n",
       "      <th>2021-03-27</th>\n",
       "      <td>0.394965</td>\n",
       "      <td>-0.041905</td>\n",
       "      <td>1.428308</td>\n",
       "      <td>0.338549</td>\n",
       "    </tr>\n",
       "    <tr>\n",
       "      <th>2021-03-28</th>\n",
       "      <td>0.011953</td>\n",
       "      <td>1.137779</td>\n",
       "      <td>-0.782693</td>\n",
       "      <td>-0.600063</td>\n",
       "    </tr>\n",
       "    <tr>\n",
       "      <th>2021-03-29</th>\n",
       "      <td>0.981459</td>\n",
       "      <td>1.474137</td>\n",
       "      <td>1.011970</td>\n",
       "      <td>1.111354</td>\n",
       "    </tr>\n",
       "    <tr>\n",
       "      <th>2021-03-30</th>\n",
       "      <td>1.479853</td>\n",
       "      <td>-0.881856</td>\n",
       "      <td>-0.400635</td>\n",
       "      <td>0.485523</td>\n",
       "    </tr>\n",
       "    <tr>\n",
       "      <th>2021-03-31</th>\n",
       "      <td>-0.222042</td>\n",
       "      <td>0.552579</td>\n",
       "      <td>-0.314645</td>\n",
       "      <td>0.145698</td>\n",
       "    </tr>\n",
       "  </tbody>\n",
       "</table>\n",
       "</div>"
      ],
      "text/plain": [
       "                  台北        台中        高雄        花蓮\n",
       "2021-03-01 -0.971071 -1.122776  0.230993 -0.635563\n",
       "2021-03-02 -0.671686 -0.667776  0.666699  1.520706\n",
       "2021-03-03  1.545800  0.623324 -0.788679 -0.768983\n",
       "2021-03-04  1.802388 -0.067553 -0.789496 -1.529197\n",
       "2021-03-05  0.153910 -0.559144  0.872580 -0.492220\n",
       "2021-03-06  0.179281  0.136172 -1.703999  0.623671\n",
       "2021-03-07  0.553433 -1.255597  0.429705  1.046209\n",
       "2021-03-08 -1.405561  0.051523 -0.789161 -1.650783\n",
       "2021-03-09  1.446504 -2.181151 -0.234300  0.144590\n",
       "2021-03-10  0.514304  0.183046  1.449759  0.368212\n",
       "2021-03-11 -0.854852 -1.721723  0.516366  0.653515\n",
       "2021-03-12  0.949986 -0.052888  0.033975 -3.533418\n",
       "2021-03-13  1.282978 -0.355550 -0.233595 -1.252351\n",
       "2021-03-14  0.986377  1.019686  1.408676  0.622695\n",
       "2021-03-15  1.361222  0.804325  1.189052  1.068901\n",
       "2021-03-16  1.383153 -1.058294  0.011752 -0.219526\n",
       "2021-03-17 -0.383839  0.595041 -0.774387  1.914616\n",
       "2021-03-18  1.274907 -0.383278 -0.541037  1.837014\n",
       "2021-03-19 -0.784288 -0.692967  0.278064  1.018239\n",
       "2021-03-20  1.428635 -2.036363  1.029545  0.239048\n",
       "2021-03-21 -2.603397 -0.279256  0.331875 -0.063379\n",
       "2021-03-22  1.416076 -0.357706  0.466080  1.264633\n",
       "2021-03-23  1.066743 -0.192761  0.281698 -1.658254\n",
       "2021-03-24  0.065529  1.032550  0.908908  0.553984\n",
       "2021-03-25 -1.803842  2.326293  0.445388  0.672557\n",
       "2021-03-26 -1.361722 -0.322382 -0.233374 -0.936213\n",
       "2021-03-27  0.394965 -0.041905  1.428308  0.338549\n",
       "2021-03-28  0.011953  1.137779 -0.782693 -0.600063\n",
       "2021-03-29  0.981459  1.474137  1.011970  1.111354\n",
       "2021-03-30  1.479853 -0.881856 -0.400635  0.485523\n",
       "2021-03-31 -0.222042  0.552579 -0.314645  0.145698"
      ]
     },
     "execution_count": 29,
     "metadata": {},
     "output_type": "execute_result"
    }
   ],
   "source": [
    "#使用loc\n",
    "long_df.loc['2021-03']"
   ]
  },
  {
   "cell_type": "markdown",
   "id": "5642931b",
   "metadata": {},
   "source": [
    "### 重複的Time Series"
   ]
  },
  {
   "cell_type": "code",
   "execution_count": 36,
   "id": "ecc222e3",
   "metadata": {},
   "outputs": [
    {
     "data": {
      "text/plain": [
       "2021-01-01    0\n",
       "2021-01-02    1\n",
       "2021-01-02    2\n",
       "2021-01-02    3\n",
       "2021-01-03    4\n",
       "dtype: int64"
      ]
     },
     "execution_count": 36,
     "metadata": {},
     "output_type": "execute_result"
    }
   ],
   "source": [
    "dates = pd.DatetimeIndex(['1/1/2021','1/2/2021','1/2/2021','1/2/2021','1/3/2021'])\n",
    "dup_ts = pd.Series(np.arange(5), index=dates)\n",
    "dup_ts"
   ]
  },
  {
   "cell_type": "code",
   "execution_count": 37,
   "id": "ec3a8a6e",
   "metadata": {},
   "outputs": [
    {
     "data": {
      "text/plain": [
       "False"
      ]
     },
     "execution_count": 37,
     "metadata": {},
     "output_type": "execute_result"
    }
   ],
   "source": [
    "#檢查是否有重覆\n",
    "dup_ts.index.is_unique"
   ]
  },
  {
   "cell_type": "code",
   "execution_count": 38,
   "id": "28ddce7b",
   "metadata": {},
   "outputs": [
    {
     "data": {
      "text/plain": [
       "(4,\n",
       " 2021-01-02    1\n",
       " 2021-01-02    2\n",
       " 2021-01-02    3\n",
       " dtype: int64)"
      ]
     },
     "execution_count": 38,
     "metadata": {},
     "output_type": "execute_result"
    }
   ],
   "source": [
    "dup_ts['1/3/2021'], dup_ts['1/2/2021']"
   ]
  },
  {
   "cell_type": "code",
   "execution_count": 39,
   "id": "2061033d",
   "metadata": {},
   "outputs": [
    {
     "data": {
      "text/plain": [
       "(2021-01-01    0.0\n",
       " 2021-01-02    2.0\n",
       " 2021-01-03    4.0\n",
       " dtype: float64,\n",
       " 2021-01-01    1\n",
       " 2021-01-02    3\n",
       " 2021-01-03    1\n",
       " dtype: int64)"
      ]
     },
     "execution_count": 39,
     "metadata": {},
     "output_type": "execute_result"
    }
   ],
   "source": [
    "#使用groupby()處理\n",
    "grouped = dup_ts.groupby(level=0)\n",
    "grouped.mean(), grouped.count()"
   ]
  }
 ],
 "metadata": {
  "kernelspec": {
   "display_name": "Python 3",
   "language": "python",
   "name": "python3"
  },
  "language_info": {
   "codemirror_mode": {
    "name": "ipython",
    "version": 3
   },
   "file_extension": ".py",
   "mimetype": "text/x-python",
   "name": "python",
   "nbconvert_exporter": "python",
   "pygments_lexer": "ipython3",
   "version": "3.8.7"
  }
 },
 "nbformat": 4,
 "nbformat_minor": 5
}

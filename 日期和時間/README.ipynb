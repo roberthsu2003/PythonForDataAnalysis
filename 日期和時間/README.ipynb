{
 "cells": [
  {
   "cell_type": "markdown",
   "id": "fda7d871",
   "metadata": {},
   "source": [
    "## 時間處理(Time Series)\n",
    "\n",
    "- 時間戳記(timestamp)\n",
    "- 固定時間(2021-1-1,2021-1,2021)\n",
    "- 一段時間(起始-結束)"
   ]
  },
  {
   "cell_type": "markdown",
   "id": "8a2b78d6",
   "metadata": {},
   "source": [
    "### Date and Time Data Types\n",
    "\n",
    "- python提供內建3種module處理時間datatime,time,calendar"
   ]
  },
  {
   "cell_type": "code",
   "execution_count": 110,
   "id": "9e60ae68",
   "metadata": {},
   "outputs": [
    {
     "data": {
      "text/plain": [
       "datetime.datetime(2023, 8, 27, 0, 39, 56, 664827)"
      ]
     },
     "execution_count": 110,
     "metadata": {},
     "output_type": "execute_result"
    }
   ],
   "source": [
    "from datetime import datetime\n",
    "now = datetime.now()\n",
    "now"
   ]
  },
  {
   "cell_type": "code",
   "execution_count": 111,
   "id": "cff1ae0c",
   "metadata": {},
   "outputs": [
    {
     "data": {
      "text/plain": [
       "(2023, 8, 27)"
      ]
     },
     "execution_count": 111,
     "metadata": {},
     "output_type": "execute_result"
    }
   ],
   "source": [
    "now.year, now.month, now.day"
   ]
  },
  {
   "cell_type": "markdown",
   "id": "c3358dd3",
   "metadata": {},
   "source": [
    "- datetime.timedelta 是提供儲存一段時間的類型"
   ]
  },
  {
   "cell_type": "code",
   "execution_count": 112,
   "id": "79d0a2ae",
   "metadata": {},
   "outputs": [
    {
     "data": {
      "text/plain": [
       "datetime.timedelta(days=2023, seconds=56700)"
      ]
     },
     "execution_count": 112,
     "metadata": {},
     "output_type": "execute_result"
    }
   ],
   "source": [
    "delta = datetime(2017,1,7) - datetime(2011, 6, 24, 8, 15)\n",
    "delta"
   ]
  },
  {
   "cell_type": "code",
   "execution_count": 113,
   "id": "6971156e",
   "metadata": {},
   "outputs": [
    {
     "data": {
      "text/plain": [
       "(2023, 56700)"
      ]
     },
     "execution_count": 113,
     "metadata": {},
     "output_type": "execute_result"
    }
   ],
   "source": [
    "delta.days, delta.seconds"
   ]
  },
  {
   "cell_type": "markdown",
   "id": "0a67672b",
   "metadata": {},
   "source": [
    " - 可以使用datatime和timedelta的數學運算來增加或減少時間"
   ]
  },
  {
   "cell_type": "code",
   "execution_count": 114,
   "id": "e2ae80a5",
   "metadata": {},
   "outputs": [
    {
     "data": {
      "text/plain": [
       "datetime.datetime(2011, 1, 19, 0, 0)"
      ]
     },
     "execution_count": 114,
     "metadata": {},
     "output_type": "execute_result"
    }
   ],
   "source": [
    "from datetime import timedelta\n",
    "start = datetime(2011, 1, 7)\n",
    "start + timedelta(12)"
   ]
  },
  {
   "cell_type": "code",
   "execution_count": 115,
   "id": "fd24151e",
   "metadata": {},
   "outputs": [
    {
     "data": {
      "text/plain": [
       "datetime.datetime(2010, 12, 14, 0, 0)"
      ]
     },
     "execution_count": 115,
     "metadata": {},
     "output_type": "execute_result"
    }
   ],
   "source": [
    "start - 2 * timedelta(12)"
   ]
  },
  {
   "cell_type": "markdown",
   "id": "c88a08b7",
   "metadata": {},
   "source": [
    "### 字串和Datatime之間的轉換\n",
    "\n",
    "#### 使用str(),datetime的方法strftime(),將時間轉成字串\n",
    "\n",
    "%Y -> Four-digit year\n",
    "\n",
    "%y -> Two-digit year\n",
    "\n",
    "%m -> Two-digit month [01, 12] \n",
    "\n",
    "%d -> Two-digit day [01, 31]\n",
    "\n",
    "%H -> Hour (24-hour clock) [00, 23]\n",
    "\n",
    "%I -> Hour (12-hour clock) [01, 12]\n",
    "\n",
    "%M Two-digit minute [00, 59]\n",
    "\n",
    "%S Second [00, 61] (seconds 60, 61 account for leap seconds) \n",
    "\n",
    "%w Weekday as integer [0 (Sunday), 6]\n"
   ]
  },
  {
   "cell_type": "code",
   "execution_count": 116,
   "id": "2724322b",
   "metadata": {},
   "outputs": [
    {
     "data": {
      "text/plain": [
       "('2011-01-03 00:00:00', '2011-01-03')"
      ]
     },
     "execution_count": 116,
     "metadata": {},
     "output_type": "execute_result"
    }
   ],
   "source": [
    "stamp = datetime(2011, 1, 3)\n",
    "str(stamp) , stamp.strftime(\"%Y-%m-%d\")"
   ]
  },
  {
   "cell_type": "markdown",
   "id": "afa81a83",
   "metadata": {},
   "source": [
    "### 將字串轉成時間(datetime.strptime())"
   ]
  },
  {
   "cell_type": "code",
   "execution_count": 117,
   "id": "ac974928",
   "metadata": {},
   "outputs": [
    {
     "data": {
      "text/plain": [
       "datetime.datetime(2011, 3, 1, 0, 0)"
      ]
     },
     "execution_count": 117,
     "metadata": {},
     "output_type": "execute_result"
    }
   ],
   "source": [
    "value = '2011-03-01'\n",
    "datetime.strptime(value, \"%Y-%m-%d\")"
   ]
  },
  {
   "cell_type": "code",
   "execution_count": 118,
   "id": "1de633b7",
   "metadata": {},
   "outputs": [
    {
     "data": {
      "text/plain": [
       "[datetime.datetime(2011, 7, 6, 0, 0), datetime.datetime(2011, 8, 6, 0, 0)]"
      ]
     },
     "execution_count": 118,
     "metadata": {},
     "output_type": "execute_result"
    }
   ],
   "source": [
    "datestrs = ['7/6/2011', '8/6/2011']\n",
    "[datetime.strptime(x,'%m/%d/%Y') for x in datestrs]"
   ]
  },
  {
   "cell_type": "markdown",
   "id": "968e351b",
   "metadata": {},
   "source": [
    "datatime.strptime()非常好使用，但每次要指定格式也是非常麻煩，可以使用第3方套件dateutil的parse方法\n",
    "\n",
    "- pip install python-dateutil"
   ]
  },
  {
   "cell_type": "code",
   "execution_count": 119,
   "id": "6e17c34f",
   "metadata": {},
   "outputs": [
    {
     "data": {
      "text/plain": [
       "(datetime.datetime(2011, 1, 3, 0, 0), datetime.datetime(1997, 1, 31, 22, 15))"
      ]
     },
     "execution_count": 119,
     "metadata": {},
     "output_type": "execute_result"
    }
   ],
   "source": [
    "from dateutil.parser import parse\n",
    "\n",
    "parse('2011-01-03') , parse('Jan 31, 1997 10:15 PM')"
   ]
  },
  {
   "cell_type": "markdown",
   "id": "3382ad59",
   "metadata": {},
   "source": [
    "- 在國際上有時會將日期放在前方，只要設定dayfirst=True來指示"
   ]
  },
  {
   "cell_type": "code",
   "execution_count": 120,
   "id": "f2805f2d",
   "metadata": {},
   "outputs": [
    {
     "data": {
      "text/plain": [
       "datetime.datetime(2011, 12, 6, 0, 0)"
      ]
     },
     "execution_count": 120,
     "metadata": {},
     "output_type": "execute_result"
    }
   ],
   "source": [
    "parse('6/12/2011',dayfirst=True)"
   ]
  },
  {
   "cell_type": "markdown",
   "id": "f4ad1fff",
   "metadata": {},
   "source": [
    "#### pandas提供to_datetime方法，快速將包含時間字串(ISO8601)的list轉換為DatetimeIndex"
   ]
  },
  {
   "cell_type": "code",
   "execution_count": 121,
   "id": "9e566bff",
   "metadata": {},
   "outputs": [
    {
     "data": {
      "text/plain": [
       "DatetimeIndex(['2011-07-06 12:00:00', '2011-08-06 00:00:00'], dtype='datetime64[ns]', freq=None)"
      ]
     },
     "execution_count": 121,
     "metadata": {},
     "output_type": "execute_result"
    }
   ],
   "source": [
    "import pandas as pd\n",
    "\n",
    "datestrs = ['2011-07-06 12:00:00', '2011-08-06 00:00:00']\n",
    "pd.to_datetime(datestrs)\n",
    "            "
   ]
  },
  {
   "cell_type": "markdown",
   "id": "76539ed8",
   "metadata": {},
   "source": [
    "### Time Series的基礎操作\n",
    "\n",
    "- 最常使用的是將Time Series常作index\n",
    "- 建立Time Series時使用的是datetime物件或str"
   ]
  },
  {
   "cell_type": "code",
   "execution_count": 122,
   "id": "d5a28807",
   "metadata": {},
   "outputs": [
    {
     "data": {
      "text/plain": [
       "2021-01-02   -1.420213\n",
       "2021-01-05   -0.866495\n",
       "2021-01-09   -0.666808\n",
       "2021-01-13   -1.251190\n",
       "2021-01-21   -1.184327\n",
       "dtype: float64"
      ]
     },
     "execution_count": 122,
     "metadata": {},
     "output_type": "execute_result"
    }
   ],
   "source": [
    "#將datetime放入list內\n",
    "import numpy as np\n",
    "import pandas as pd\n",
    "from datetime import datetime\n",
    "\n",
    "dates = [datetime(2021,1,2),\n",
    "         datetime(2021,1,5),\n",
    "         datetime(2021,1,9),\n",
    "         datetime(2021,1,13),\n",
    "         datetime(2021,1,21)]\n",
    "ts = pd.Series(np.random.randn(5),index=dates)\n",
    "ts"
   ]
  },
  {
   "cell_type": "code",
   "execution_count": 123,
   "id": "665a8e99",
   "metadata": {},
   "outputs": [
    {
     "data": {
      "text/plain": [
       "DatetimeIndex(['2021-01-02', '2021-01-05', '2021-01-09', '2021-01-13',\n",
       "               '2021-01-21'],\n",
       "              dtype='datetime64[ns]', freq=None)"
      ]
     },
     "execution_count": 123,
     "metadata": {},
     "output_type": "execute_result"
    }
   ],
   "source": [
    "#DatetimeIndex\n",
    "#注意freq=None,沒有固定的頻率\n",
    "ts.index"
   ]
  },
  {
   "cell_type": "markdown",
   "id": "181df716",
   "metadata": {},
   "source": [
    "### 時間當作索引時,數學運算是使用有相同索引的內容互相運算"
   ]
  },
  {
   "cell_type": "code",
   "execution_count": 124,
   "id": "ba5efa82",
   "metadata": {},
   "outputs": [
    {
     "data": {
      "text/plain": [
       "2021-01-02   -1.420213\n",
       "2021-01-09   -0.666808\n",
       "2021-01-21   -1.184327\n",
       "dtype: float64"
      ]
     },
     "execution_count": 124,
     "metadata": {},
     "output_type": "execute_result"
    }
   ],
   "source": [
    "ts[::2]"
   ]
  },
  {
   "cell_type": "code",
   "execution_count": 125,
   "id": "408dcfeb",
   "metadata": {},
   "outputs": [
    {
     "data": {
      "text/plain": [
       "2021-01-02   -2.840426\n",
       "2021-01-05         NaN\n",
       "2021-01-09   -1.333615\n",
       "2021-01-13         NaN\n",
       "2021-01-21   -2.368655\n",
       "dtype: float64"
      ]
     },
     "execution_count": 125,
     "metadata": {},
     "output_type": "execute_result"
    }
   ],
   "source": [
    "ts + ts[::2]"
   ]
  },
  {
   "cell_type": "markdown",
   "id": "246f017f",
   "metadata": {},
   "source": [
    "### pandas內取出的時間物件是pandas內的Timestamp物件"
   ]
  },
  {
   "cell_type": "code",
   "execution_count": 126,
   "id": "330f26ee",
   "metadata": {},
   "outputs": [
    {
     "data": {
      "text/plain": [
       "Timestamp('2021-01-02 00:00:00')"
      ]
     },
     "metadata": {},
     "output_type": "display_data"
    },
    {
     "data": {
      "text/plain": [
       "pandas._libs.tslibs.timestamps.Timestamp"
      ]
     },
     "execution_count": 126,
     "metadata": {},
     "output_type": "execute_result"
    }
   ],
   "source": [
    "stamp = ts.index[0]\n",
    "display(stamp)\n",
    "stamp.__class__"
   ]
  },
  {
   "cell_type": "markdown",
   "id": "d1e7a69a",
   "metadata": {},
   "source": [
    "### pandas的Timestamp物件的操作相似於datetime.datetime"
   ]
  },
  {
   "cell_type": "code",
   "execution_count": 127,
   "id": "c0320023",
   "metadata": {},
   "outputs": [
    {
     "data": {
      "text/plain": [
       "(Timestamp('2021-01-02 00:00:00'), 2021, 2, 0, 0, 0)"
      ]
     },
     "execution_count": 127,
     "metadata": {},
     "output_type": "execute_result"
    }
   ],
   "source": [
    "stamp = ts.index[0]\n",
    "stamp, stamp.year, stamp.day, stamp.hour, stamp.minute, stamp.second"
   ]
  },
  {
   "cell_type": "code",
   "execution_count": 128,
   "id": "3e808df4",
   "metadata": {},
   "outputs": [
    {
     "data": {
      "text/plain": [
       "'2021-01-02 00:00:00'"
      ]
     },
     "execution_count": 128,
     "metadata": {},
     "output_type": "execute_result"
    }
   ],
   "source": [
    "stamp.strftime('%Y-%m-%d %X')"
   ]
  },
  {
   "cell_type": "markdown",
   "id": "08d686da",
   "metadata": {},
   "source": [
    "### Indexing, Slection, Subsetting"
   ]
  },
  {
   "cell_type": "code",
   "execution_count": 129,
   "id": "9d6d0a91",
   "metadata": {},
   "outputs": [
    {
     "data": {
      "text/plain": [
       "2021-01-02   -1.420213\n",
       "2021-01-05   -0.866495\n",
       "2021-01-09   -0.666808\n",
       "2021-01-13   -1.251190\n",
       "2021-01-21   -1.184327\n",
       "dtype: float64"
      ]
     },
     "execution_count": 129,
     "metadata": {},
     "output_type": "execute_result"
    }
   ],
   "source": [
    "ts"
   ]
  },
  {
   "cell_type": "code",
   "execution_count": 130,
   "id": "757cab2e",
   "metadata": {},
   "outputs": [
    {
     "data": {
      "text/plain": [
       "-0.6668075087965194"
      ]
     },
     "execution_count": 130,
     "metadata": {},
     "output_type": "execute_result"
    }
   ],
   "source": [
    "#Timestamp當作索引\n",
    "\n",
    "stamp=ts.index[2]\n",
    "ts[stamp]"
   ]
  },
  {
   "cell_type": "markdown",
   "id": "1c92b4cd",
   "metadata": {},
   "source": [
    "### 也可以使用時間字串(符合iso8601)當作索引"
   ]
  },
  {
   "cell_type": "code",
   "execution_count": 131,
   "id": "1117012b",
   "metadata": {},
   "outputs": [
    {
     "data": {
      "text/plain": [
       "(-1.4202129989485122, -1.4202129989485122, -1.4202129989485122)"
      ]
     },
     "execution_count": 131,
     "metadata": {},
     "output_type": "execute_result"
    }
   ],
   "source": [
    "#時間字串當作索引\n",
    "ts['2021-01-02'], ts['1/2/2021'], ts['20210102']"
   ]
  },
  {
   "cell_type": "markdown",
   "id": "f9c5fff4",
   "metadata": {},
   "source": [
    "### 自行建立有DateTime的索引\n",
    "### 使用pd.date_range(),periods,freq,建立有指定長度和有頻率的Datetime索引 "
   ]
  },
  {
   "cell_type": "code",
   "execution_count": 132,
   "id": "a3f88a78",
   "metadata": {},
   "outputs": [
    {
     "data": {
      "text/plain": [
       "2019-01-01   -1.518108\n",
       "2019-01-02   -0.461187\n",
       "2019-01-03   -0.354909\n",
       "2019-01-04   -0.682538\n",
       "2019-01-05   -1.653698\n",
       "                ...   \n",
       "2021-09-22    1.132376\n",
       "2021-09-23   -0.098091\n",
       "2021-09-24   -1.103050\n",
       "2021-09-25   -0.907361\n",
       "2021-09-26   -0.161451\n",
       "Freq: D, Length: 1000, dtype: float64"
      ]
     },
     "execution_count": 132,
     "metadata": {},
     "output_type": "execute_result"
    }
   ],
   "source": [
    "#使用pd.date_range()建立長的Time Series \n",
    "longer_ts = pd.Series(np.random.randn(1000),\n",
    "                      index=pd.date_range('1/1/2019',periods=1000))\n",
    "longer_ts"
   ]
  },
  {
   "cell_type": "code",
   "execution_count": 133,
   "id": "b9667087",
   "metadata": {},
   "outputs": [
    {
     "data": {
      "text/plain": [
       "2019-01-01   -1.518108\n",
       "2019-01-02   -0.461187\n",
       "2019-01-03   -0.354909\n",
       "2019-01-04   -0.682538\n",
       "2019-01-05   -1.653698\n",
       "                ...   \n",
       "2019-12-27   -0.624025\n",
       "2019-12-28    1.804436\n",
       "2019-12-29   -0.025060\n",
       "2019-12-30   -0.736264\n",
       "2019-12-31   -0.717486\n",
       "Freq: D, Length: 365, dtype: float64"
      ]
     },
     "execution_count": 133,
     "metadata": {},
     "output_type": "execute_result"
    }
   ],
   "source": [
    "#只索引年份,會索引出所有該年份的row\n",
    "longer_ts['2019']"
   ]
  },
  {
   "cell_type": "code",
   "execution_count": 134,
   "id": "3caabb68",
   "metadata": {},
   "outputs": [
    {
     "data": {
      "text/plain": [
       "2019-05-01   -0.490972\n",
       "2019-05-02   -1.309165\n",
       "2019-05-03   -0.008660\n",
       "2019-05-04    0.976813\n",
       "2019-05-05   -1.751070\n",
       "2019-05-06   -0.665857\n",
       "2019-05-07    0.035941\n",
       "2019-05-08    0.850103\n",
       "2019-05-09    0.382870\n",
       "2019-05-10    0.325464\n",
       "2019-05-11   -0.224313\n",
       "2019-05-12    0.481874\n",
       "2019-05-13    1.014304\n",
       "2019-05-14   -1.708992\n",
       "2019-05-15    0.728535\n",
       "2019-05-16   -0.098760\n",
       "2019-05-17   -0.529989\n",
       "2019-05-18   -2.443076\n",
       "2019-05-19   -1.380351\n",
       "2019-05-20    1.698059\n",
       "2019-05-21   -0.688549\n",
       "2019-05-22   -1.084769\n",
       "2019-05-23   -0.456426\n",
       "2019-05-24   -0.745147\n",
       "2019-05-25    0.124359\n",
       "2019-05-26    1.516974\n",
       "2019-05-27   -0.586616\n",
       "2019-05-28    0.154290\n",
       "2019-05-29   -1.147237\n",
       "2019-05-30    1.520166\n",
       "2019-05-31    0.189043\n",
       "Freq: D, dtype: float64"
      ]
     },
     "execution_count": 134,
     "metadata": {},
     "output_type": "execute_result"
    }
   ],
   "source": [
    "#只索引年份和月份\n",
    "longer_ts['2019-05']"
   ]
  },
  {
   "cell_type": "markdown",
   "id": "b9bbb0d6",
   "metadata": {},
   "source": [
    "### 也可以使用datetime物件"
   ]
  },
  {
   "cell_type": "code",
   "execution_count": 135,
   "id": "6195de1d",
   "metadata": {},
   "outputs": [
    {
     "data": {
      "text/plain": [
       "2021-01-01    0.375582\n",
       "2021-01-02    0.261273\n",
       "2021-01-03   -0.128452\n",
       "2021-01-04    2.158170\n",
       "2021-01-05   -0.840879\n",
       "                ...   \n",
       "2021-09-22    1.132376\n",
       "2021-09-23   -0.098091\n",
       "2021-09-24   -1.103050\n",
       "2021-09-25   -0.907361\n",
       "2021-09-26   -0.161451\n",
       "Freq: D, Length: 269, dtype: float64"
      ]
     },
     "execution_count": 135,
     "metadata": {},
     "output_type": "execute_result"
    }
   ],
   "source": [
    "#使用slicing\n",
    "longer_ts[datetime(2021,1,1):]"
   ]
  },
  {
   "cell_type": "markdown",
   "id": "6932a504",
   "metadata": {},
   "source": [
    "### 注意不管是indexing還是slicing,全部是view,而不是copy新的一份,會更改到原始值"
   ]
  },
  {
   "cell_type": "code",
   "execution_count": 136,
   "id": "16794c0d",
   "metadata": {},
   "outputs": [
    {
     "data": {
      "text/plain": [
       "2021-01-01    0.375582\n",
       "2021-01-02    0.261273\n",
       "2021-01-03   -0.128452\n",
       "2021-01-04    2.158170\n",
       "2021-01-05   -0.840879\n",
       "                ...   \n",
       "2021-03-27    0.695880\n",
       "2021-03-28    0.320308\n",
       "2021-03-29   -0.644925\n",
       "2021-03-30    1.575650\n",
       "2021-03-31    0.753276\n",
       "Freq: D, Length: 90, dtype: float64"
      ]
     },
     "execution_count": 136,
     "metadata": {},
     "output_type": "execute_result"
    }
   ],
   "source": [
    "longer_ts['2021-1-1':'2021-3-31']"
   ]
  },
  {
   "cell_type": "code",
   "execution_count": 137,
   "id": "cd1332a5",
   "metadata": {},
   "outputs": [
    {
     "data": {
      "text/html": [
       "<div>\n",
       "<style scoped>\n",
       "    .dataframe tbody tr th:only-of-type {\n",
       "        vertical-align: middle;\n",
       "    }\n",
       "\n",
       "    .dataframe tbody tr th {\n",
       "        vertical-align: top;\n",
       "    }\n",
       "\n",
       "    .dataframe thead th {\n",
       "        text-align: right;\n",
       "    }\n",
       "</style>\n",
       "<table border=\"1\" class=\"dataframe\">\n",
       "  <thead>\n",
       "    <tr style=\"text-align: right;\">\n",
       "      <th></th>\n",
       "      <th>台北</th>\n",
       "      <th>台中</th>\n",
       "      <th>高雄</th>\n",
       "      <th>花蓮</th>\n",
       "    </tr>\n",
       "  </thead>\n",
       "  <tbody>\n",
       "    <tr>\n",
       "      <th>2021-01-06</th>\n",
       "      <td>-0.366811</td>\n",
       "      <td>1.657762</td>\n",
       "      <td>-1.680134</td>\n",
       "      <td>-0.064258</td>\n",
       "    </tr>\n",
       "    <tr>\n",
       "      <th>2021-01-13</th>\n",
       "      <td>-1.066226</td>\n",
       "      <td>0.116802</td>\n",
       "      <td>0.382265</td>\n",
       "      <td>-0.404897</td>\n",
       "    </tr>\n",
       "    <tr>\n",
       "      <th>2021-01-20</th>\n",
       "      <td>0.530481</td>\n",
       "      <td>-0.198627</td>\n",
       "      <td>-0.179396</td>\n",
       "      <td>-0.417889</td>\n",
       "    </tr>\n",
       "    <tr>\n",
       "      <th>2021-01-27</th>\n",
       "      <td>0.650824</td>\n",
       "      <td>0.138501</td>\n",
       "      <td>1.573240</td>\n",
       "      <td>1.270025</td>\n",
       "    </tr>\n",
       "    <tr>\n",
       "      <th>2021-02-03</th>\n",
       "      <td>0.553775</td>\n",
       "      <td>-2.159442</td>\n",
       "      <td>-1.484328</td>\n",
       "      <td>0.986251</td>\n",
       "    </tr>\n",
       "    <tr>\n",
       "      <th>...</th>\n",
       "      <td>...</td>\n",
       "      <td>...</td>\n",
       "      <td>...</td>\n",
       "      <td>...</td>\n",
       "    </tr>\n",
       "    <tr>\n",
       "      <th>2022-11-02</th>\n",
       "      <td>-1.518326</td>\n",
       "      <td>-0.181188</td>\n",
       "      <td>-2.833657</td>\n",
       "      <td>-0.533408</td>\n",
       "    </tr>\n",
       "    <tr>\n",
       "      <th>2022-11-09</th>\n",
       "      <td>0.847927</td>\n",
       "      <td>1.382231</td>\n",
       "      <td>0.605970</td>\n",
       "      <td>0.639969</td>\n",
       "    </tr>\n",
       "    <tr>\n",
       "      <th>2022-11-16</th>\n",
       "      <td>-1.715901</td>\n",
       "      <td>-0.678374</td>\n",
       "      <td>1.474405</td>\n",
       "      <td>-0.523860</td>\n",
       "    </tr>\n",
       "    <tr>\n",
       "      <th>2022-11-23</th>\n",
       "      <td>-0.135982</td>\n",
       "      <td>-0.805562</td>\n",
       "      <td>-0.933751</td>\n",
       "      <td>-0.470269</td>\n",
       "    </tr>\n",
       "    <tr>\n",
       "      <th>2022-11-30</th>\n",
       "      <td>-0.661056</td>\n",
       "      <td>0.957502</td>\n",
       "      <td>0.215370</td>\n",
       "      <td>1.018884</td>\n",
       "    </tr>\n",
       "  </tbody>\n",
       "</table>\n",
       "<p>100 rows × 4 columns</p>\n",
       "</div>"
      ],
      "text/plain": [
       "                  台北        台中        高雄        花蓮\n",
       "2021-01-06 -0.366811  1.657762 -1.680134 -0.064258\n",
       "2021-01-13 -1.066226  0.116802  0.382265 -0.404897\n",
       "2021-01-20  0.530481 -0.198627 -0.179396 -0.417889\n",
       "2021-01-27  0.650824  0.138501  1.573240  1.270025\n",
       "2021-02-03  0.553775 -2.159442 -1.484328  0.986251\n",
       "...              ...       ...       ...       ...\n",
       "2022-11-02 -1.518326 -0.181188 -2.833657 -0.533408\n",
       "2022-11-09  0.847927  1.382231  0.605970  0.639969\n",
       "2022-11-16 -1.715901 -0.678374  1.474405 -0.523860\n",
       "2022-11-23 -0.135982 -0.805562 -0.933751 -0.470269\n",
       "2022-11-30 -0.661056  0.957502  0.215370  1.018884\n",
       "\n",
       "[100 rows x 4 columns]"
      ]
     },
     "execution_count": 137,
     "metadata": {},
     "output_type": "execute_result"
    }
   ],
   "source": [
    "#DataFrame\n",
    "dates = pd.date_range('1/1/2021',periods=100,freq='W-WED') #查freq說明書有說明\n",
    "long_df = pd.DataFrame(np.random.randn(100,4),\n",
    "                      index = dates,\n",
    "                      columns = ['台北','台中','高雄','花蓮'])\n",
    "long_df"
   ]
  },
  {
   "cell_type": "code",
   "execution_count": 138,
   "id": "16ea5e57",
   "metadata": {},
   "outputs": [
    {
     "data": {
      "text/html": [
       "<div>\n",
       "<style scoped>\n",
       "    .dataframe tbody tr th:only-of-type {\n",
       "        vertical-align: middle;\n",
       "    }\n",
       "\n",
       "    .dataframe tbody tr th {\n",
       "        vertical-align: top;\n",
       "    }\n",
       "\n",
       "    .dataframe thead th {\n",
       "        text-align: right;\n",
       "    }\n",
       "</style>\n",
       "<table border=\"1\" class=\"dataframe\">\n",
       "  <thead>\n",
       "    <tr style=\"text-align: right;\">\n",
       "      <th></th>\n",
       "      <th>台北</th>\n",
       "      <th>台中</th>\n",
       "      <th>高雄</th>\n",
       "      <th>花蓮</th>\n",
       "    </tr>\n",
       "  </thead>\n",
       "  <tbody>\n",
       "    <tr>\n",
       "      <th>2021-03-03</th>\n",
       "      <td>2.058093</td>\n",
       "      <td>0.368418</td>\n",
       "      <td>1.252885</td>\n",
       "      <td>0.259159</td>\n",
       "    </tr>\n",
       "    <tr>\n",
       "      <th>2021-03-10</th>\n",
       "      <td>0.309243</td>\n",
       "      <td>-0.210923</td>\n",
       "      <td>-0.383270</td>\n",
       "      <td>1.174378</td>\n",
       "    </tr>\n",
       "    <tr>\n",
       "      <th>2021-03-17</th>\n",
       "      <td>0.374674</td>\n",
       "      <td>0.336296</td>\n",
       "      <td>-0.608175</td>\n",
       "      <td>-0.345042</td>\n",
       "    </tr>\n",
       "    <tr>\n",
       "      <th>2021-03-24</th>\n",
       "      <td>2.067490</td>\n",
       "      <td>-0.067502</td>\n",
       "      <td>1.326168</td>\n",
       "      <td>-0.520252</td>\n",
       "    </tr>\n",
       "    <tr>\n",
       "      <th>2021-03-31</th>\n",
       "      <td>0.801544</td>\n",
       "      <td>0.289796</td>\n",
       "      <td>-0.403713</td>\n",
       "      <td>0.648563</td>\n",
       "    </tr>\n",
       "  </tbody>\n",
       "</table>\n",
       "</div>"
      ],
      "text/plain": [
       "                  台北        台中        高雄        花蓮\n",
       "2021-03-03  2.058093  0.368418  1.252885  0.259159\n",
       "2021-03-10  0.309243 -0.210923 -0.383270  1.174378\n",
       "2021-03-17  0.374674  0.336296 -0.608175 -0.345042\n",
       "2021-03-24  2.067490 -0.067502  1.326168 -0.520252\n",
       "2021-03-31  0.801544  0.289796 -0.403713  0.648563"
      ]
     },
     "execution_count": 138,
     "metadata": {},
     "output_type": "execute_result"
    }
   ],
   "source": [
    "#使用loc\n",
    "long_df.loc['2021-03']"
   ]
  },
  {
   "cell_type": "markdown",
   "id": "5642931b",
   "metadata": {},
   "source": [
    "### 重複的Time Series"
   ]
  },
  {
   "cell_type": "code",
   "execution_count": 139,
   "id": "ecc222e3",
   "metadata": {},
   "outputs": [
    {
     "data": {
      "text/plain": [
       "2021-01-01    0\n",
       "2021-01-02    1\n",
       "2021-01-02    2\n",
       "2021-01-02    3\n",
       "2021-01-03    4\n",
       "dtype: int64"
      ]
     },
     "execution_count": 139,
     "metadata": {},
     "output_type": "execute_result"
    }
   ],
   "source": [
    "dates = pd.DatetimeIndex(['1/1/2021','1/2/2021','1/2/2021','1/2/2021','1/3/2021'])\n",
    "dup_ts = pd.Series(np.arange(5), index=dates)\n",
    "dup_ts"
   ]
  },
  {
   "cell_type": "markdown",
   "id": "703ece31",
   "metadata": {},
   "source": [
    "### 使用index的is_unique屬性檢查是不是都是唯一值"
   ]
  },
  {
   "cell_type": "code",
   "execution_count": 140,
   "id": "ec3a8a6e",
   "metadata": {},
   "outputs": [
    {
     "data": {
      "text/plain": [
       "False"
      ]
     },
     "execution_count": 140,
     "metadata": {},
     "output_type": "execute_result"
    }
   ],
   "source": [
    "#檢查是否有重覆\n",
    "dup_ts.index.is_unique"
   ]
  },
  {
   "cell_type": "code",
   "execution_count": 141,
   "id": "28ddce7b",
   "metadata": {},
   "outputs": [
    {
     "data": {
      "text/plain": [
       "(4,\n",
       " 2021-01-02    1\n",
       " 2021-01-02    2\n",
       " 2021-01-02    3\n",
       " dtype: int64)"
      ]
     },
     "execution_count": 141,
     "metadata": {},
     "output_type": "execute_result"
    }
   ],
   "source": [
    "dup_ts['1/3/2021'], dup_ts['1/2/2021']"
   ]
  },
  {
   "cell_type": "markdown",
   "id": "2c30abb5",
   "metadata": {},
   "source": [
    "### 檢查DatetimeIndex是否有重覆,使用groupby來整理重覆的資料\n",
    "- step1:使用groupby(level0)\n",
    "- step2:count()"
   ]
  },
  {
   "cell_type": "code",
   "execution_count": 142,
   "id": "2061033d",
   "metadata": {},
   "outputs": [
    {
     "data": {
      "text/plain": [
       "(2021-01-01    0.0\n",
       " 2021-01-02    2.0\n",
       " 2021-01-03    4.0\n",
       " dtype: float64,\n",
       " 2021-01-01    1\n",
       " 2021-01-02    3\n",
       " 2021-01-03    1\n",
       " dtype: int64)"
      ]
     },
     "execution_count": 142,
     "metadata": {},
     "output_type": "execute_result"
    }
   ],
   "source": [
    "#使用groupby()處理\n",
    "grouped = dup_ts.groupby(level=0)\n",
    "grouped.mean(), grouped.count()"
   ]
  },
  {
   "cell_type": "markdown",
   "id": "9230bd84",
   "metadata": {},
   "source": [
    "## Date Range(時間範圍),Frequencies(頻率),Shifting(上下偏移)\n",
    "一般在pandas的time series被假設為不規則的頻率,然而有時會為了滿足一些應用程式,必需要的是相同頻率的time series,必需額外使用一些pandas time series的工具,將不規則的頻率的轉換為相同頻率,這樣的轉換稱為resample"
   ]
  },
  {
   "cell_type": "code",
   "execution_count": 143,
   "id": "b98a506c",
   "metadata": {},
   "outputs": [
    {
     "data": {
      "text/plain": [
       "2021-01-02   -1.387238\n",
       "2021-01-05    1.225453\n",
       "2021-01-09    0.021456\n",
       "2021-01-13    1.839348\n",
       "2021-01-21   -0.052776\n",
       "dtype: float64"
      ]
     },
     "execution_count": 143,
     "metadata": {},
     "output_type": "execute_result"
    }
   ],
   "source": [
    "import numpy as np\n",
    "import pandas as pd\n",
    "from datetime import datetime\n",
    "\n",
    "dates = [datetime(2021,1,2),\n",
    "         datetime(2021,1,5),\n",
    "         datetime(2021,1,9),\n",
    "         datetime(2021,1,13),\n",
    "         datetime(2021,1,21)]\n",
    "ts = pd.Series(np.random.randn(5),index=dates)\n",
    "ts"
   ]
  },
  {
   "cell_type": "markdown",
   "id": "adc340ff",
   "metadata": {},
   "source": [
    "- 使用resample('D')\n",
    "建立以日為頻率的time series\n",
    "\n",
    "- ffill()\n",
    "填滿沒有資料的索引"
   ]
  },
  {
   "cell_type": "code",
   "execution_count": 144,
   "id": "33be2b89",
   "metadata": {},
   "outputs": [
    {
     "data": {
      "text/plain": [
       "<pandas.core.resample.DatetimeIndexResampler object at 0x7f0474f727a0>"
      ]
     },
     "execution_count": 144,
     "metadata": {},
     "output_type": "execute_result"
    }
   ],
   "source": [
    "resampler = ts.resample('D')\n",
    "resampler"
   ]
  },
  {
   "cell_type": "markdown",
   "id": "9b2a8372",
   "metadata": {},
   "source": [
    "### 建立 Date Range的time Series\n",
    "- 使用pd.date_range()"
   ]
  },
  {
   "cell_type": "code",
   "execution_count": 145,
   "id": "4563586f",
   "metadata": {},
   "outputs": [
    {
     "data": {
      "text/plain": [
       "DatetimeIndex(['2020-01-01', '2020-01-02', '2020-01-03', '2020-01-04',\n",
       "               '2020-01-05', '2020-01-06', '2020-01-07', '2020-01-08',\n",
       "               '2020-01-09', '2020-01-10',\n",
       "               ...\n",
       "               '2022-05-23', '2022-05-24', '2022-05-25', '2022-05-26',\n",
       "               '2022-05-27', '2022-05-28', '2022-05-29', '2022-05-30',\n",
       "               '2022-05-31', '2022-06-01'],\n",
       "              dtype='datetime64[ns]', length=883, freq='D')"
      ]
     },
     "execution_count": 145,
     "metadata": {},
     "output_type": "execute_result"
    }
   ],
   "source": [
    "#使用開始日期和結束日期\n",
    "#預設以日為頻率\n",
    "index = pd.date_range('2020-01-01','2022-06-01')\n",
    "index"
   ]
  },
  {
   "cell_type": "code",
   "execution_count": 146,
   "id": "f2fe53ce",
   "metadata": {},
   "outputs": [
    {
     "data": {
      "text/plain": [
       "DatetimeIndex(['2021-01-01', '2021-01-02', '2021-01-03', '2021-01-04',\n",
       "               '2021-01-05', '2021-01-06', '2021-01-07', '2021-01-08',\n",
       "               '2021-01-09', '2021-01-10', '2021-01-11', '2021-01-12',\n",
       "               '2021-01-13', '2021-01-14', '2021-01-15', '2021-01-16',\n",
       "               '2021-01-17', '2021-01-18', '2021-01-19', '2021-01-20'],\n",
       "              dtype='datetime64[ns]', freq='D')"
      ]
     },
     "execution_count": 146,
     "metadata": {},
     "output_type": "execute_result"
    }
   ],
   "source": [
    "#使用開始日期和產生數量\n",
    "pd.date_range('2021-01-01',periods=20)"
   ]
  },
  {
   "cell_type": "code",
   "execution_count": 147,
   "id": "90ae239f",
   "metadata": {},
   "outputs": [
    {
     "data": {
      "text/plain": [
       "DatetimeIndex(['2021-05-16', '2021-05-17', '2021-05-18', '2021-05-19',\n",
       "               '2021-05-20', '2021-05-21', '2021-05-22', '2021-05-23',\n",
       "               '2021-05-24', '2021-05-25', '2021-05-26', '2021-05-27',\n",
       "               '2021-05-28', '2021-05-29', '2021-05-30', '2021-05-31',\n",
       "               '2021-06-01', '2021-06-02', '2021-06-03', '2021-06-04'],\n",
       "              dtype='datetime64[ns]', freq='D')"
      ]
     },
     "execution_count": 147,
     "metadata": {},
     "output_type": "execute_result"
    }
   ],
   "source": [
    "#使用結束日期和頻率\n",
    "pd.date_range(end='2021-06-04', periods=20)"
   ]
  },
  {
   "cell_type": "code",
   "execution_count": 148,
   "id": "5621594a",
   "metadata": {},
   "outputs": [
    {
     "data": {
      "text/plain": [
       "DatetimeIndex(['2010-01-29', '2010-02-26', '2010-03-31', '2010-04-30',\n",
       "               '2010-05-31', '2010-06-30', '2010-07-30', '2010-08-31',\n",
       "               '2010-09-30', '2010-10-29', '2010-11-30', '2010-12-31'],\n",
       "              dtype='datetime64[ns]', freq='BM')"
      ]
     },
     "execution_count": 148,
     "metadata": {},
     "output_type": "execute_result"
    }
   ],
   "source": [
    "#產生一段時間頻率為每個月的工作日\n",
    "pd.date_range('2010-01-01','2010-12-31',freq=\"BM\")"
   ]
  },
  {
   "cell_type": "code",
   "execution_count": 149,
   "id": "89533950",
   "metadata": {},
   "outputs": [
    {
     "data": {
      "text/plain": [
       "DatetimeIndex(['2021-05-06 12:56:31', '2021-05-07 12:56:31',\n",
       "               '2021-05-08 12:56:31', '2021-05-09 12:56:31',\n",
       "               '2021-05-10 12:56:31', '2021-05-11 12:56:31',\n",
       "               '2021-05-12 12:56:31', '2021-05-13 12:56:31',\n",
       "               '2021-05-14 12:56:31', '2021-05-15 12:56:31',\n",
       "               '2021-05-16 12:56:31', '2021-05-17 12:56:31',\n",
       "               '2021-05-18 12:56:31', '2021-05-19 12:56:31',\n",
       "               '2021-05-20 12:56:31', '2021-05-21 12:56:31',\n",
       "               '2021-05-22 12:56:31', '2021-05-23 12:56:31',\n",
       "               '2021-05-24 12:56:31', '2021-05-25 12:56:31'],\n",
       "              dtype='datetime64[ns]', freq='D')"
      ]
     },
     "execution_count": 149,
     "metadata": {},
     "output_type": "execute_result"
    }
   ],
   "source": [
    "#保留時間資訊\n",
    "pd.date_range('2021-05-06 12:56:31', periods=20)"
   ]
  },
  {
   "cell_type": "code",
   "execution_count": 150,
   "id": "5114c439",
   "metadata": {},
   "outputs": [
    {
     "data": {
      "text/plain": [
       "DatetimeIndex(['2021-05-06', '2021-05-07', '2021-05-08', '2021-05-09',\n",
       "               '2021-05-10', '2021-05-11', '2021-05-12', '2021-05-13',\n",
       "               '2021-05-14', '2021-05-15', '2021-05-16', '2021-05-17',\n",
       "               '2021-05-18', '2021-05-19', '2021-05-20', '2021-05-21',\n",
       "               '2021-05-22', '2021-05-23', '2021-05-24', '2021-05-25'],\n",
       "              dtype='datetime64[ns]', freq='D')"
      ]
     },
     "execution_count": 150,
     "metadata": {},
     "output_type": "execute_result"
    }
   ],
   "source": [
    "#移除時間資訊\n",
    "pd.date_range('2021-05-06 12:56:31', periods=20, normalize=True)"
   ]
  },
  {
   "cell_type": "markdown",
   "id": "efae4c33",
   "metadata": {},
   "source": [
    "### Frequencies(頻率),Date Offsets(一般時間)"
   ]
  },
  {
   "cell_type": "code",
   "execution_count": 151,
   "id": "426956a1",
   "metadata": {},
   "outputs": [
    {
     "data": {
      "text/plain": [
       "DatetimeIndex(['2010-01-01 00:00:00', '2010-01-01 04:00:00',\n",
       "               '2010-01-01 08:00:00', '2010-01-01 12:00:00',\n",
       "               '2010-01-01 16:00:00', '2010-01-01 20:00:00',\n",
       "               '2010-01-02 00:00:00', '2010-01-02 04:00:00',\n",
       "               '2010-01-02 08:00:00', '2010-01-02 12:00:00',\n",
       "               '2010-01-02 16:00:00', '2010-01-02 20:00:00',\n",
       "               '2010-01-03 00:00:00'],\n",
       "              dtype='datetime64[ns]', freq='4H')"
      ]
     },
     "execution_count": 151,
     "metadata": {},
     "output_type": "execute_result"
    }
   ],
   "source": [
    "#Date Offsets\n",
    "#M->月\n",
    "#D->日\n",
    "#H->小時\n",
    "#3M -> 3個月\n",
    "#6D -> 6日\n",
    "\n",
    "pd.date_range('2010-01-01', '2010-01-03', freq='4H')"
   ]
  },
  {
   "cell_type": "code",
   "execution_count": 152,
   "id": "5db98a31",
   "metadata": {},
   "outputs": [
    {
     "data": {
      "text/plain": [
       "DatetimeIndex(['2010-01-01 00:00:00', '2010-01-01 01:30:00',\n",
       "               '2010-01-01 03:00:00', '2010-01-01 04:30:00',\n",
       "               '2010-01-01 06:00:00', '2010-01-01 07:30:00',\n",
       "               '2010-01-01 09:00:00', '2010-01-01 10:30:00',\n",
       "               '2010-01-01 12:00:00', '2010-01-01 13:30:00',\n",
       "               '2010-01-01 15:00:00', '2010-01-01 16:30:00',\n",
       "               '2010-01-01 18:00:00', '2010-01-01 19:30:00',\n",
       "               '2010-01-01 21:00:00', '2010-01-01 22:30:00',\n",
       "               '2010-01-02 00:00:00'],\n",
       "              dtype='datetime64[ns]', freq='90T')"
      ]
     },
     "execution_count": 152,
     "metadata": {},
     "output_type": "execute_result"
    }
   ],
   "source": [
    "pd.date_range('2010-01-01','2010-01-02',freq='1h30min')"
   ]
  },
  {
   "cell_type": "markdown",
   "id": "82d03e93",
   "metadata": {},
   "source": [
    "#### week of month dates"
   ]
  },
  {
   "cell_type": "code",
   "execution_count": 153,
   "id": "5f31a1a9",
   "metadata": {},
   "outputs": [
    {
     "data": {
      "text/plain": [
       "[Timestamp('2021-01-15 00:00:00'),\n",
       " Timestamp('2021-02-19 00:00:00'),\n",
       " Timestamp('2021-03-19 00:00:00'),\n",
       " Timestamp('2021-04-16 00:00:00'),\n",
       " Timestamp('2021-05-21 00:00:00'),\n",
       " Timestamp('2021-06-18 00:00:00'),\n",
       " Timestamp('2021-07-16 00:00:00'),\n",
       " Timestamp('2021-08-20 00:00:00'),\n",
       " Timestamp('2021-09-17 00:00:00'),\n",
       " Timestamp('2021-10-15 00:00:00'),\n",
       " Timestamp('2021-11-19 00:00:00'),\n",
       " Timestamp('2021-12-17 00:00:00'),\n",
       " Timestamp('2022-01-21 00:00:00'),\n",
       " Timestamp('2022-02-18 00:00:00'),\n",
       " Timestamp('2022-03-18 00:00:00'),\n",
       " Timestamp('2022-04-15 00:00:00'),\n",
       " Timestamp('2022-05-20 00:00:00'),\n",
       " Timestamp('2022-06-17 00:00:00'),\n",
       " Timestamp('2022-07-15 00:00:00'),\n",
       " Timestamp('2022-08-19 00:00:00')]"
      ]
     },
     "execution_count": 153,
     "metadata": {},
     "output_type": "execute_result"
    }
   ],
   "source": [
    "#每個月的第3個星期天\n",
    "rng = pd.date_range('2021-01-01', '2022-09-01', freq='WOM-3FRI')\n",
    "list(rng)"
   ]
  },
  {
   "cell_type": "markdown",
   "id": "480546a8",
   "metadata": {},
   "source": [
    "### shifting(Leading and Lagging)Data - 向上偏移和向下偏移\n",
    "#### 使用freq偏移時間"
   ]
  },
  {
   "cell_type": "code",
   "execution_count": 154,
   "id": "2ef35da0",
   "metadata": {},
   "outputs": [
    {
     "data": {
      "text/plain": [
       "2021-01-31   -1.085631\n",
       "2021-02-28    0.997345\n",
       "2021-03-31    0.282978\n",
       "2021-04-30   -1.506295\n",
       "Freq: M, dtype: float64"
      ]
     },
     "execution_count": 154,
     "metadata": {},
     "output_type": "execute_result"
    }
   ],
   "source": [
    "np.random.seed(123)\n",
    "ts = pd.Series(np.random.randn(4),\n",
    "               index=pd.date_range('2021-01-01', periods=4, freq='M'))\n",
    "ts"
   ]
  },
  {
   "cell_type": "code",
   "execution_count": 155,
   "id": "edd153c2",
   "metadata": {},
   "outputs": [
    {
     "data": {
      "text/plain": [
       "2021-01-31         NaN\n",
       "2021-02-28         NaN\n",
       "2021-03-31   -1.085631\n",
       "2021-04-30    0.997345\n",
       "Freq: M, dtype: float64"
      ]
     },
     "execution_count": 155,
     "metadata": {},
     "output_type": "execute_result"
    }
   ],
   "source": [
    "#向下偏移\n",
    "ts.shift(2)"
   ]
  },
  {
   "cell_type": "code",
   "execution_count": 156,
   "id": "b7e27a7c",
   "metadata": {},
   "outputs": [
    {
     "data": {
      "text/plain": [
       "2021-01-31    0.282978\n",
       "2021-02-28   -1.506295\n",
       "2021-03-31         NaN\n",
       "2021-04-30         NaN\n",
       "Freq: M, dtype: float64"
      ]
     },
     "execution_count": 156,
     "metadata": {},
     "output_type": "execute_result"
    }
   ],
   "source": [
    "#向上偏移\n",
    "ts.shift(-2)"
   ]
  },
  {
   "cell_type": "code",
   "execution_count": 157,
   "id": "becb5c25",
   "metadata": {},
   "outputs": [
    {
     "data": {
      "text/plain": [
       "2021-01-31         NaN\n",
       "2021-02-28   -1.918678\n",
       "2021-03-31   -0.716268\n",
       "2021-04-30   -6.323001\n",
       "Freq: M, dtype: float64"
      ]
     },
     "execution_count": 157,
     "metadata": {},
     "output_type": "execute_result"
    }
   ],
   "source": [
    "#時間偏移常被拿來作為2個時間點的差或比例\n",
    "#shift()不會移動index,所以可以使用運算,因為運算是以index為基礎來進行運算\n",
    "#目前時間和上個時間的比例\n",
    "\n",
    "ts / ts.shift(1) - 1"
   ]
  },
  {
   "cell_type": "code",
   "execution_count": 158,
   "id": "d7313257",
   "metadata": {},
   "outputs": [
    {
     "data": {
      "text/plain": [
       "2021-02-28   -1.085631\n",
       "2021-03-31    0.997345\n",
       "2021-04-30    0.282978\n",
       "2021-05-31   -1.506295\n",
       "Freq: M, dtype: float64"
      ]
     },
     "execution_count": 158,
     "metadata": {},
     "output_type": "execute_result"
    }
   ],
   "source": [
    "#偏移時間索引,但values不會改變,使用freq='M',將會偏移時間一個月\n",
    "ts.shift(1,freq='M')"
   ]
  },
  {
   "cell_type": "code",
   "execution_count": 159,
   "id": "f39be70b",
   "metadata": {},
   "outputs": [
    {
     "data": {
      "text/plain": [
       "2021-02-03   -1.085631\n",
       "2021-03-03    0.997345\n",
       "2021-04-03    0.282978\n",
       "2021-05-03   -1.506295\n",
       "dtype: float64"
      ]
     },
     "execution_count": 159,
     "metadata": {},
     "output_type": "execute_result"
    }
   ],
   "source": [
    "#偏移時間索引,但values不會改變,偏移時間3天\n",
    "ts.shift(3, freq='D')"
   ]
  },
  {
   "cell_type": "code",
   "execution_count": 160,
   "id": "a61c82bb",
   "metadata": {},
   "outputs": [
    {
     "data": {
      "text/plain": [
       "2021-01-31 01:30:00   -1.085631\n",
       "2021-02-28 01:30:00    0.997345\n",
       "2021-03-31 01:30:00    0.282978\n",
       "2021-04-30 01:30:00   -1.506295\n",
       "dtype: float64"
      ]
     },
     "execution_count": 160,
     "metadata": {},
     "output_type": "execute_result"
    }
   ],
   "source": [
    "#偏移時間索引,但values不會改變,偏移時間90分鐘\n",
    "ts.shift(1, freq='90T')"
   ]
  },
  {
   "cell_type": "markdown",
   "id": "6647a333",
   "metadata": {},
   "source": [
    "#### 使用offset 偏移時間\n"
   ]
  },
  {
   "cell_type": "code",
   "execution_count": 161,
   "id": "706ef5e9",
   "metadata": {},
   "outputs": [
    {
     "data": {
      "text/plain": [
       "Timestamp('2023-08-23 00:00:00')"
      ]
     },
     "execution_count": 161,
     "metadata": {},
     "output_type": "execute_result"
    }
   ],
   "source": [
    "from pandas.tseries.offsets import Day, MonthEnd\n",
    "now = datetime(2023, 8, 20)\n",
    "\n",
    "#前移3天\n",
    "now + 3 * Day()"
   ]
  },
  {
   "cell_type": "code",
   "execution_count": 162,
   "id": "1d2fe4ea",
   "metadata": {},
   "outputs": [
    {
     "data": {
      "text/plain": [
       "Timestamp('2023-08-31 00:00:00')"
      ]
     },
     "execution_count": 162,
     "metadata": {},
     "output_type": "execute_result"
    }
   ],
   "source": [
    "#前移至月底\n",
    "now + MonthEnd()"
   ]
  },
  {
   "cell_type": "code",
   "execution_count": 163,
   "id": "3ead3345",
   "metadata": {},
   "outputs": [
    {
     "data": {
      "text/plain": [
       "Timestamp('2023-09-30 00:00:00')"
      ]
     },
     "execution_count": 163,
     "metadata": {},
     "output_type": "execute_result"
    }
   ],
   "source": [
    "#前移至下個月底\n",
    "now + MonthEnd(2)"
   ]
  },
  {
   "cell_type": "code",
   "execution_count": 164,
   "id": "899eb22f",
   "metadata": {},
   "outputs": [
    {
     "data": {
      "text/plain": [
       "Timestamp('2023-08-31 00:00:00')"
      ]
     },
     "execution_count": 164,
     "metadata": {},
     "output_type": "execute_result"
    }
   ],
   "source": [
    "#移至月底\n",
    "#建立MonthEnd實體,再使用實體方法rollforward()\n",
    "offset = MonthEnd()\n",
    "offset.rollforward(now)"
   ]
  },
  {
   "cell_type": "code",
   "execution_count": 165,
   "id": "f2a35eaa",
   "metadata": {},
   "outputs": [
    {
     "data": {
      "text/plain": [
       "Timestamp('2023-07-31 00:00:00')"
      ]
     },
     "execution_count": 165,
     "metadata": {},
     "output_type": "execute_result"
    }
   ],
   "source": [
    "#移至上個月底\n",
    "#建立MonthEnd實體,再使用實體方法rollback()\n",
    "offset = MonthEnd()\n",
    "offset.rollback(now)"
   ]
  },
  {
   "cell_type": "code",
   "execution_count": 166,
   "id": "1d674f76",
   "metadata": {},
   "outputs": [
    {
     "data": {
      "text/plain": [
       "2023-01-15   -0.578600\n",
       "2023-01-19    1.651437\n",
       "2023-01-23   -2.426679\n",
       "2023-01-27   -0.428913\n",
       "2023-01-31    1.265936\n",
       "2023-02-04   -0.866740\n",
       "2023-02-08   -0.678886\n",
       "2023-02-12   -0.094709\n",
       "2023-02-16    1.491390\n",
       "2023-02-20   -0.638902\n",
       "2023-02-24   -0.443982\n",
       "2023-02-28   -0.434351\n",
       "2023-03-04    2.205930\n",
       "2023-03-08    2.186786\n",
       "2023-03-12    1.004054\n",
       "2023-03-16    0.386186\n",
       "2023-03-20    0.737369\n",
       "2023-03-24    1.490732\n",
       "2023-03-28   -0.935834\n",
       "2023-04-01    1.175829\n",
       "Freq: 4D, dtype: float64"
      ]
     },
     "execution_count": 166,
     "metadata": {},
     "output_type": "execute_result"
    }
   ],
   "source": [
    "#使用groupby(),利用offset.rollfoward,function建立groupby物件\n",
    "\n",
    "ts = pd.Series(np.random.randn(20),\n",
    "               index=pd.date_range('1/15/2023',periods=20,freq='4d')\n",
    "               )\n",
    "ts"
   ]
  },
  {
   "cell_type": "code",
   "execution_count": 167,
   "id": "f9fd67be",
   "metadata": {},
   "outputs": [
    {
     "data": {
      "text/plain": [
       "2023-01-31   -0.103364\n",
       "2023-02-28   -0.238026\n",
       "2023-03-31    1.010746\n",
       "2023-04-30    1.175829\n",
       "dtype: float64"
      ]
     },
     "execution_count": 167,
     "metadata": {},
     "output_type": "execute_result"
    }
   ],
   "source": [
    "#所有時間移至當月的月底,再做groupby\n",
    "offset = MonthEnd()\n",
    "ts.groupby(offset.rollforward).mean()"
   ]
  },
  {
   "cell_type": "code",
   "execution_count": 168,
   "id": "d134b9a2",
   "metadata": {},
   "outputs": [
    {
     "data": {
      "text/plain": [
       "2023-01-31   -0.103364\n",
       "2023-02-28   -0.238026\n",
       "2023-03-31    1.010746\n",
       "2023-04-30    1.175829\n",
       "Freq: M, dtype: float64"
      ]
     },
     "execution_count": 168,
     "metadata": {},
     "output_type": "execute_result"
    }
   ],
   "source": [
    "### 上面的groupby的動作可以更改為resample()\n",
    "### 使用resample()計算每個月或每天每年的計算\n",
    "ts.resample('M').mean()"
   ]
  },
  {
   "cell_type": "code",
   "execution_count": 169,
   "id": "d6cf8580",
   "metadata": {},
   "outputs": [
    {
     "data": {
      "text/plain": [
       "2023-01-15   -0.578600\n",
       "2023-01-16   -0.578600\n",
       "2023-01-17   -0.578600\n",
       "2023-01-18   -0.578600\n",
       "2023-01-19    1.651437\n",
       "                ...   \n",
       "2023-03-28   -0.935834\n",
       "2023-03-29   -0.935834\n",
       "2023-03-30   -0.935834\n",
       "2023-03-31   -0.935834\n",
       "2023-04-01    1.175829\n",
       "Freq: D, Length: 77, dtype: float64"
      ]
     },
     "execution_count": 169,
     "metadata": {},
     "output_type": "execute_result"
    }
   ],
   "source": [
    "resampler = ts.resample('D')\n",
    "resampler.ffill()"
   ]
  },
  {
   "cell_type": "markdown",
   "id": "fc2fa192",
   "metadata": {},
   "source": [
    "### 時區的處理\n",
    "#### IANA time zone of Taiwan\n",
    "- Asia/Taipei"
   ]
  },
  {
   "cell_type": "code",
   "execution_count": 170,
   "id": "865d79fa",
   "metadata": {},
   "outputs": [
    {
     "data": {
      "text/plain": [
       "['US/Eastern', 'US/Hawaii', 'US/Mountain', 'US/Pacific', 'UTC']"
      ]
     },
     "execution_count": 170,
     "metadata": {},
     "output_type": "execute_result"
    }
   ],
   "source": [
    "import pytz\n",
    "pytz.common_timezones[-5:]"
   ]
  },
  {
   "cell_type": "code",
   "execution_count": 171,
   "id": "0fb6721c",
   "metadata": {},
   "outputs": [
    {
     "data": {
      "text/plain": [
       "<DstTzInfo 'Asia/Taipei' LMT+8:06:00 STD>"
      ]
     },
     "execution_count": 171,
     "metadata": {},
     "output_type": "execute_result"
    }
   ],
   "source": [
    "tz = pytz.timezone('Asia/Taipei')\n",
    "tz"
   ]
  },
  {
   "cell_type": "markdown",
   "id": "d6a78b54",
   "metadata": {},
   "source": [
    "#### 時區的轉換\n",
    "- time Series預設是沒有時區的"
   ]
  },
  {
   "cell_type": "code",
   "execution_count": 172,
   "id": "06343778",
   "metadata": {},
   "outputs": [
    {
     "data": {
      "text/plain": [
       "2012-03-09 09:30:00   -1.253881\n",
       "2012-03-10 09:30:00   -0.637752\n",
       "2012-03-11 09:30:00    0.907105\n",
       "2012-03-12 09:30:00   -1.428681\n",
       "2012-03-13 09:30:00   -0.140069\n",
       "2012-03-14 09:30:00   -0.861755\n",
       "Freq: D, dtype: float64"
      ]
     },
     "execution_count": 172,
     "metadata": {},
     "output_type": "execute_result"
    }
   ],
   "source": [
    "rng = pd.date_range('3/9/2012 9:30', periods=6, freq='D')\n",
    "ts = pd.Series(np.random.randn(len(rng)),index=rng)\n",
    "ts"
   ]
  },
  {
   "cell_type": "code",
   "execution_count": 173,
   "id": "d8351f33",
   "metadata": {},
   "outputs": [
    {
     "name": "stdout",
     "output_type": "stream",
     "text": [
      "None\n"
     ]
    }
   ],
   "source": [
    "#預設時區是None\n",
    "print(ts.index.tz)"
   ]
  },
  {
   "cell_type": "code",
   "execution_count": 174,
   "id": "c530ae1b",
   "metadata": {},
   "outputs": [
    {
     "data": {
      "text/plain": [
       "DatetimeIndex(['2012-03-09 09:30:00+08:00', '2012-03-10 09:30:00+08:00',\n",
       "               '2012-03-11 09:30:00+08:00', '2012-03-12 09:30:00+08:00',\n",
       "               '2012-03-13 09:30:00+08:00', '2012-03-14 09:30:00+08:00',\n",
       "               '2012-03-15 09:30:00+08:00', '2012-03-16 09:30:00+08:00',\n",
       "               '2012-03-17 09:30:00+08:00', '2012-03-18 09:30:00+08:00'],\n",
       "              dtype='datetime64[ns, Asia/Taipei]', freq='D')"
      ]
     },
     "execution_count": 174,
     "metadata": {},
     "output_type": "execute_result"
    }
   ],
   "source": [
    "#建立有時區的DatetimeIndex\n",
    "pd.date_range('3/9/2012 9:30', periods=10, freq='D', tz='Asia/Taipei')"
   ]
  },
  {
   "cell_type": "markdown",
   "id": "79aa68bb",
   "metadata": {},
   "source": [
    "#### 將無時區的時間,轉換為有時間的時區"
   ]
  },
  {
   "cell_type": "code",
   "execution_count": 175,
   "id": "336c7b2e",
   "metadata": {},
   "outputs": [
    {
     "data": {
      "text/plain": [
       "2012-03-09 09:30:00   -1.253881\n",
       "2012-03-10 09:30:00   -0.637752\n",
       "2012-03-11 09:30:00    0.907105\n",
       "2012-03-12 09:30:00   -1.428681\n",
       "2012-03-13 09:30:00   -0.140069\n",
       "2012-03-14 09:30:00   -0.861755\n",
       "Freq: D, dtype: float64"
      ]
     },
     "execution_count": 175,
     "metadata": {},
     "output_type": "execute_result"
    }
   ],
   "source": [
    "ts"
   ]
  },
  {
   "cell_type": "code",
   "execution_count": 176,
   "id": "68e24453",
   "metadata": {},
   "outputs": [
    {
     "data": {
      "text/plain": [
       "2012-03-09 09:30:00+08:00   -1.253881\n",
       "2012-03-10 09:30:00+08:00   -0.637752\n",
       "2012-03-11 09:30:00+08:00    0.907105\n",
       "2012-03-12 09:30:00+08:00   -1.428681\n",
       "2012-03-13 09:30:00+08:00   -0.140069\n",
       "2012-03-14 09:30:00+08:00   -0.861755\n",
       "dtype: float64"
      ]
     },
     "execution_count": 176,
     "metadata": {},
     "output_type": "execute_result"
    }
   ],
   "source": [
    "#本沒有時區資訊轉換為有時區,使用tz_localize()\n",
    "ts_taiwan = ts.tz_localize('Asia/Taipei')\n",
    "ts_taiwan"
   ]
  },
  {
   "cell_type": "code",
   "execution_count": 177,
   "id": "670c1dae",
   "metadata": {},
   "outputs": [
    {
     "data": {
      "text/plain": [
       "2012-03-09 09:30:00+00:00   -1.253881\n",
       "2012-03-10 09:30:00+00:00   -0.637752\n",
       "2012-03-11 09:30:00+00:00    0.907105\n",
       "2012-03-12 09:30:00+00:00   -1.428681\n",
       "2012-03-13 09:30:00+00:00   -0.140069\n",
       "2012-03-14 09:30:00+00:00   -0.861755\n",
       "Freq: D, dtype: float64"
      ]
     },
     "metadata": {},
     "output_type": "display_data"
    },
    {
     "data": {
      "text/plain": [
       "DatetimeIndex(['2012-03-09 09:30:00+00:00', '2012-03-10 09:30:00+00:00',\n",
       "               '2012-03-11 09:30:00+00:00', '2012-03-12 09:30:00+00:00',\n",
       "               '2012-03-13 09:30:00+00:00', '2012-03-14 09:30:00+00:00'],\n",
       "              dtype='datetime64[ns, UTC]', freq='D')"
      ]
     },
     "metadata": {},
     "output_type": "display_data"
    },
    {
     "data": {
      "text/plain": [
       "2012-03-08 20:30:00-05:00   -1.253881\n",
       "2012-03-09 20:30:00-05:00   -0.637752\n",
       "2012-03-10 20:30:00-05:00    0.907105\n",
       "2012-03-11 21:30:00-04:00   -1.428681\n",
       "2012-03-12 21:30:00-04:00   -0.140069\n",
       "2012-03-13 21:30:00-04:00   -0.861755\n",
       "dtype: float64"
      ]
     },
     "execution_count": 177,
     "metadata": {},
     "output_type": "execute_result"
    }
   ],
   "source": [
    "#本沒有時區資訊轉換為有時區,使用tz_localize()\n",
    "ts_utc = ts.tz_localize('UTC')\n",
    "display(ts_utc)\n",
    "display(ts_utc.index)\n",
    "#將現有的時區,轉換為其它時區tz_convert()\n",
    "ts_New_York = ts_taiwan.tz_convert('America/New_York')\n",
    "ts_New_York"
   ]
  },
  {
   "cell_type": "code",
   "execution_count": 178,
   "id": "54570e65",
   "metadata": {},
   "outputs": [
    {
     "data": {
      "text/plain": [
       "Timestamp('2011-03-12 04:00:00')"
      ]
     },
     "metadata": {},
     "output_type": "display_data"
    },
    {
     "data": {
      "text/plain": [
       "Timestamp('2011-03-12 04:00:00+0000', tz='UTC')"
      ]
     },
     "execution_count": 178,
     "metadata": {},
     "output_type": "execute_result"
    }
   ],
   "source": [
    "#將pd.Timestamp轉換時區\n",
    "#Timestamp類別\n",
    "\n",
    "stamp = pd.Timestamp('2011-03-12 04:00')\n",
    "display(stamp) #沒有時區\n",
    "stamp_utc=stamp.tz_localize('UTC') #加上時區\n",
    "stamp_utc"
   ]
  },
  {
   "cell_type": "code",
   "execution_count": 179,
   "id": "501b9f6d",
   "metadata": {},
   "outputs": [
    {
     "data": {
      "text/plain": [
       "Timestamp('2011-03-12 12:00:00+0800', tz='Asia/Taipei')"
      ]
     },
     "execution_count": 179,
     "metadata": {},
     "output_type": "execute_result"
    }
   ],
   "source": [
    "#將有utc時區的資料使用tz_convert()轉換至該時區的時間\n",
    "stamp_taipei = stamp_utc.tz_convert('Asia/Taipei')\n",
    "stamp_taipei"
   ]
  },
  {
   "cell_type": "markdown",
   "id": "153a65f2",
   "metadata": {},
   "source": [
    "## Periods and Period Arithmetic\n",
    "- 代表一段時間,如1天,4天,1個月,1年"
   ]
  },
  {
   "cell_type": "code",
   "execution_count": 180,
   "id": "05ae418c",
   "metadata": {},
   "outputs": [
    {
     "data": {
      "text/plain": [
       "Period('2007', 'A-DEC')"
      ]
     },
     "execution_count": 180,
     "metadata": {},
     "output_type": "execute_result"
    }
   ],
   "source": [
    "p = pd.Period('2007', freq='A-DEC') #表示以12月作為結束的一整年,這裏表示從2007-01-01到2017-12-31的全年\n",
    "p"
   ]
  },
  {
   "cell_type": "code",
   "execution_count": 181,
   "id": "592796ae",
   "metadata": {},
   "outputs": [
    {
     "data": {
      "text/plain": [
       "Period('2012', 'A-DEC')"
      ]
     },
     "metadata": {},
     "output_type": "display_data"
    },
    {
     "data": {
      "text/plain": [
       "Period('2005', 'A-DEC')"
      ]
     },
     "metadata": {},
     "output_type": "display_data"
    }
   ],
   "source": [
    "#可以偏移時間區間\n",
    "display(p + 5)\n",
    "display(p - 2)"
   ]
  },
  {
   "cell_type": "code",
   "execution_count": 182,
   "id": "1f37ca72",
   "metadata": {},
   "outputs": [
    {
     "data": {
      "text/plain": [
       "<7 * YearEnds: month=12>"
      ]
     },
     "execution_count": 182,
     "metadata": {},
     "output_type": "execute_result"
    }
   ],
   "source": [
    "#2個相同頻率,可以相減\n",
    "pd.Period('2014', freq='A-DEC') - p"
   ]
  },
  {
   "cell_type": "markdown",
   "id": "599a13b5",
   "metadata": {},
   "source": [
    "### pd.period_range(),可以建立規則的時區範圍"
   ]
  },
  {
   "cell_type": "code",
   "execution_count": 183,
   "id": "ef85bc19",
   "metadata": {},
   "outputs": [
    {
     "data": {
      "text/plain": [
       "2023-01   -0.255619\n",
       "2023-02   -2.798589\n",
       "2023-03   -1.771533\n",
       "2023-04   -0.699877\n",
       "2023-05    0.927462\n",
       "2023-06   -0.173636\n",
       "Freq: M, dtype: float64"
      ]
     },
     "execution_count": 183,
     "metadata": {},
     "output_type": "execute_result"
    }
   ],
   "source": [
    "rng = pd.period_range('1/1/2023','6/30/2023', freq='M') #建立2023/1/1日至2023/6/300所有月份的Period\n",
    "pd.Series(np.random.randn(6),index=rng)"
   ]
  },
  {
   "cell_type": "code",
   "execution_count": 184,
   "id": "dd1d6403",
   "metadata": {},
   "outputs": [
    {
     "data": {
      "text/plain": [
       "PeriodIndex(['2001Q1', '2001Q2', '2001Q3', '2001Q4'], dtype='period[Q-DEC]')"
      ]
     },
     "execution_count": 184,
     "metadata": {},
     "output_type": "execute_result"
    }
   ],
   "source": [
    "# PeriodIndex,可以使用字串建立一段時間\n",
    "values = ['2001Q1','2001Q2','2001Q3', '2001Q4']\n",
    "index = pd.PeriodIndex(values, freq='Q-DEC')\n",
    "index"
   ]
  },
  {
   "cell_type": "markdown",
   "id": "624a4bc4",
   "metadata": {},
   "source": [
    "## 時期的頻率轉換"
   ]
  },
  {
   "cell_type": "code",
   "execution_count": 185,
   "id": "c233f2ca",
   "metadata": {},
   "outputs": [
    {
     "data": {
      "text/plain": [
       "Period('2023', 'A-DEC')"
      ]
     },
     "execution_count": 185,
     "metadata": {},
     "output_type": "execute_result"
    }
   ],
   "source": [
    "p = pd.Period('2023',freq='A-DEC') #2023-01-01至2023-21-31\n",
    "p"
   ]
  },
  {
   "cell_type": "code",
   "execution_count": 186,
   "id": "d95ebc18",
   "metadata": {},
   "outputs": [
    {
     "data": {
      "text/plain": [
       "Period('2023-01', 'M')"
      ]
     },
     "metadata": {},
     "output_type": "display_data"
    },
    {
     "data": {
      "text/plain": [
       "Period('2023-01', 'M')"
      ]
     },
     "execution_count": 186,
     "metadata": {},
     "output_type": "execute_result"
    }
   ],
   "source": [
    "display(p.asfreq('M',how='start'))##2023-01-01至2023-21-31,轉換為月2023-01\n",
    "#也可以單獨建立\n",
    "pd.Period('2023-01',freq='M')"
   ]
  },
  {
   "cell_type": "code",
   "execution_count": 187,
   "id": "7179cedd",
   "metadata": {},
   "outputs": [
    {
     "data": {
      "text/plain": [
       "Period('2023-12', 'M')"
      ]
     },
     "metadata": {},
     "output_type": "display_data"
    },
    {
     "data": {
      "text/plain": [
       "Period('2023-12', 'M')"
      ]
     },
     "execution_count": 187,
     "metadata": {},
     "output_type": "execute_result"
    }
   ],
   "source": [
    "display(p.asfreq('M',how='end'))##2023-01-01至2023-21-31,轉換為月2023-12\n",
    "#也可以單獨建立\n",
    "pd.Period('2023-12',freq='M')"
   ]
  },
  {
   "cell_type": "markdown",
   "id": "000e144e",
   "metadata": {},
   "source": [
    "#### PeriodIndex或TimeSeries的頻率轉換方式相同"
   ]
  },
  {
   "cell_type": "code",
   "execution_count": 188,
   "id": "9978c221",
   "metadata": {},
   "outputs": [
    {
     "data": {
      "text/plain": [
       "2006    0.002846\n",
       "2007    0.688223\n",
       "2008   -0.879536\n",
       "2009    0.283627\n",
       "Freq: A-DEC, dtype: float64"
      ]
     },
     "execution_count": 188,
     "metadata": {},
     "output_type": "execute_result"
    }
   ],
   "source": [
    "rng = pd.period_range('2006','2009', freq='A-DEC')\n",
    "ts = pd.Series(np.random.randn(len(rng)), index=rng)\n",
    "ts"
   ]
  },
  {
   "cell_type": "code",
   "execution_count": 189,
   "id": "4a248117",
   "metadata": {},
   "outputs": [
    {
     "data": {
      "text/plain": [
       "2006-01    0.002846\n",
       "2007-01    0.688223\n",
       "2008-01   -0.879536\n",
       "2009-01    0.283627\n",
       "Freq: M, dtype: float64"
      ]
     },
     "execution_count": 189,
     "metadata": {},
     "output_type": "execute_result"
    }
   ],
   "source": [
    "ts.asfreq('M', how='start')"
   ]
  },
  {
   "cell_type": "code",
   "execution_count": 190,
   "id": "1cbad094",
   "metadata": {},
   "outputs": [
    {
     "data": {
      "text/plain": [
       "2006-12-29    0.002846\n",
       "2007-12-31    0.688223\n",
       "2008-12-31   -0.879536\n",
       "2009-12-31    0.283627\n",
       "Freq: B, dtype: float64"
      ]
     },
     "execution_count": 190,
     "metadata": {},
     "output_type": "execute_result"
    }
   ],
   "source": [
    "ts.asfreq('B', how='end')"
   ]
  },
  {
   "cell_type": "markdown",
   "id": "9f507961",
   "metadata": {},
   "source": [
    "#### 季度運算至TimeSeries\n"
   ]
  },
  {
   "cell_type": "code",
   "execution_count": 191,
   "id": "02871384",
   "metadata": {},
   "outputs": [
    {
     "data": {
      "text/plain": [
       "2011Q3    0\n",
       "2011Q4    1\n",
       "2012Q1    2\n",
       "2012Q2    3\n",
       "2012Q3    4\n",
       "2012Q4    5\n",
       "Freq: Q-JAN, dtype: int64"
      ]
     },
     "execution_count": 191,
     "metadata": {},
     "output_type": "execute_result"
    }
   ],
   "source": [
    "rng = pd.period_range('2011Q3','2012Q4', freq='Q-JAN')\n",
    "ts = pd.Series(np.arange(len(rng)),index=rng)\n",
    "ts"
   ]
  },
  {
   "cell_type": "markdown",
   "id": "4496bfc0",
   "metadata": {},
   "source": [
    "#### DateTimeIndex 和 Pediod的相互轉換"
   ]
  },
  {
   "cell_type": "code",
   "execution_count": 192,
   "id": "500b334c",
   "metadata": {},
   "outputs": [
    {
     "data": {
      "text/plain": [
       "2000-01-31   -0.805367\n",
       "2000-02-29   -1.727669\n",
       "2000-03-31   -0.390900\n",
       "Freq: M, dtype: float64"
      ]
     },
     "execution_count": 192,
     "metadata": {},
     "output_type": "execute_result"
    }
   ],
   "source": [
    "rng = pd.date_range('1/1/2000', periods=3, freq='M')\n",
    "ts = pd.Series(np.random.randn(3), index=rng)\n",
    "ts"
   ]
  },
  {
   "cell_type": "code",
   "execution_count": 193,
   "id": "64bdf996",
   "metadata": {},
   "outputs": [
    {
     "data": {
      "text/plain": [
       "2000-01   -0.805367\n",
       "2000-02   -1.727669\n",
       "2000-03   -0.390900\n",
       "Freq: M, dtype: float64"
      ]
     },
     "execution_count": 193,
     "metadata": {},
     "output_type": "execute_result"
    }
   ],
   "source": [
    "#使用to_period()轉換\n",
    "pts = ts.to_period()\n",
    "pts"
   ]
  },
  {
   "cell_type": "code",
   "execution_count": 194,
   "id": "2682cc93",
   "metadata": {},
   "outputs": [
    {
     "data": {
      "text/plain": [
       "2000-01-29    0.573806\n",
       "2000-01-30    0.338589\n",
       "2000-01-31   -0.011830\n",
       "2000-02-01    2.392365\n",
       "2000-02-02    0.412912\n",
       "2000-02-03    0.978736\n",
       "Freq: D, dtype: float64"
      ]
     },
     "metadata": {},
     "output_type": "display_data"
    },
    {
     "data": {
      "text/plain": [
       "2000-01    0.573806\n",
       "2000-01    0.338589\n",
       "2000-01   -0.011830\n",
       "2000-02    2.392365\n",
       "2000-02    0.412912\n",
       "2000-02    0.978736\n",
       "Freq: M, dtype: float64"
      ]
     },
     "execution_count": 194,
     "metadata": {},
     "output_type": "execute_result"
    }
   ],
   "source": [
    "rng = pd.date_range('1/29/2000', periods=6, freq='D')\n",
    "ts2 = pd.Series(np.random.randn(6), index=rng)\n",
    "display(ts2)\n",
    "ts2.to_period('M')"
   ]
  },
  {
   "cell_type": "code",
   "execution_count": 195,
   "id": "7f8ca72f",
   "metadata": {},
   "outputs": [
    {
     "data": {
      "text/plain": [
       "2000-01   -0.805367\n",
       "2000-02   -1.727669\n",
       "2000-03   -0.390900\n",
       "Freq: M, dtype: float64"
      ]
     },
     "metadata": {},
     "output_type": "display_data"
    },
    {
     "data": {
      "text/plain": [
       "2000-01-31 23:59:59.999999999   -0.805367\n",
       "2000-02-29 23:59:59.999999999   -1.727669\n",
       "2000-03-31 23:59:59.999999999   -0.390900\n",
       "dtype: float64"
      ]
     },
     "execution_count": 195,
     "metadata": {},
     "output_type": "execute_result"
    }
   ],
   "source": [
    "#periodIndex使用to_timestamp()轉換為timestamp\n",
    "display(pts)\n",
    "pts.to_timestamp(how='end')"
   ]
  },
  {
   "cell_type": "code",
   "execution_count": 196,
   "id": "f1a519a0",
   "metadata": {},
   "outputs": [
    {
     "data": {
      "text/plain": [
       "PeriodIndex(['2017Q1', '2017Q2', '2017Q3', '2017Q4', '2018Q1', '2018Q2',\n",
       "             '2018Q3', '2018Q4'],\n",
       "            dtype='period[Q-DEC]')"
      ]
     },
     "execution_count": 196,
     "metadata": {},
     "output_type": "execute_result"
    }
   ],
   "source": [
    "year = [2017, 2017, 2017, 2017, 2018, 2018, 2018, 2018]\n",
    "quarter = [1, 2, 3, 4, 1, 2, 3, 4]\n",
    "index = pd.PeriodIndex(year=year, quarter=quarter, freq='Q-DEC')\n",
    "index"
   ]
  },
  {
   "cell_type": "markdown",
   "id": "5753f54b",
   "metadata": {},
   "source": [
    "### Resampling 和 頻率(Frequency)的轉換\n",
    "- resample()就是從現有的頻率轉換為另一個頻率\n",
    "- downsampling就是從比較高(多)的頻率轉換為比較低(少)的頻率\n",
    "- upsampling就是從比較低的頻率(少)轉換為比較高(多)的頻率\n",
    "- resample的操作類似groupby的操作"
   ]
  },
  {
   "cell_type": "code",
   "execution_count": 197,
   "id": "1c59aa6e",
   "metadata": {},
   "outputs": [
    {
     "data": {
      "text/plain": [
       "2000-01-01    2.238143\n",
       "2000-01-02   -1.294085\n",
       "2000-01-03   -1.038788\n",
       "2000-01-04    1.743712\n",
       "2000-01-05   -0.798063\n",
       "                ...   \n",
       "2000-04-05    0.556549\n",
       "2000-04-06   -0.212080\n",
       "2000-04-07    0.456271\n",
       "2000-04-08    1.544544\n",
       "2000-04-09   -0.239669\n",
       "Freq: D, Length: 100, dtype: float64"
      ]
     },
     "execution_count": 197,
     "metadata": {},
     "output_type": "execute_result"
    }
   ],
   "source": [
    "rng = pd.date_range('2000-01-01', periods=100, freq='D')\n",
    "ts = pd.Series(np.random.randn(len(rng)),index=rng)\n",
    "ts"
   ]
  },
  {
   "cell_type": "code",
   "execution_count": 198,
   "id": "e9e00513",
   "metadata": {},
   "outputs": [
    {
     "data": {
      "text/plain": [
       "2000-01-31    0.092094\n",
       "2000-02-29    0.074433\n",
       "2000-03-31    0.066918\n",
       "2000-04-30    0.334718\n",
       "Freq: M, dtype: float64"
      ]
     },
     "metadata": {},
     "output_type": "display_data"
    },
    {
     "data": {
      "text/plain": [
       "PeriodIndex(['2000-01', '2000-02', '2000-03', '2000-04'], dtype='period[M]')"
      ]
     },
     "metadata": {},
     "output_type": "display_data"
    },
    {
     "data": {
      "text/plain": [
       "2000-01    0.092094\n",
       "2000-02    0.074433\n",
       "2000-03    0.066918\n",
       "2000-04    0.334718\n",
       "Freq: M, dtype: float64"
      ]
     },
     "execution_count": 198,
     "metadata": {},
     "output_type": "execute_result"
    }
   ],
   "source": [
    "#改變index的type\n",
    "display(ts.resample('M').mean())\n",
    "display(ts.resample('M',kind='period').mean().index)\n",
    "ts.resample('M',kind='period').mean()"
   ]
  },
  {
   "cell_type": "markdown",
   "id": "d99af9c1",
   "metadata": {},
   "source": [
    "### Downsampling\n",
    "- 一個時間區段,那一邊是結束端\n",
    "- 每個時間區段在統計後,要如何命名"
   ]
  },
  {
   "cell_type": "code",
   "execution_count": 199,
   "id": "c17beca4",
   "metadata": {},
   "outputs": [
    {
     "data": {
      "text/plain": [
       "2000-01-01 00:00:00     0\n",
       "2000-01-01 00:01:00     1\n",
       "2000-01-01 00:02:00     2\n",
       "2000-01-01 00:03:00     3\n",
       "2000-01-01 00:04:00     4\n",
       "2000-01-01 00:05:00     5\n",
       "2000-01-01 00:06:00     6\n",
       "2000-01-01 00:07:00     7\n",
       "2000-01-01 00:08:00     8\n",
       "2000-01-01 00:09:00     9\n",
       "2000-01-01 00:10:00    10\n",
       "2000-01-01 00:11:00    11\n",
       "Freq: T, dtype: int64"
      ]
     },
     "metadata": {},
     "output_type": "display_data"
    }
   ],
   "source": [
    "rng = pd.date_range('2000-01-01', periods=12, freq='T')\n",
    "ts = pd.Series(np.arange(12), index=rng)\n",
    "display(ts)"
   ]
  },
  {
   "cell_type": "markdown",
   "id": "197c047e",
   "metadata": {},
   "source": [
    "![](./images/pic1.png)"
   ]
  },
  {
   "cell_type": "code",
   "execution_count": 200,
   "id": "08034823",
   "metadata": {},
   "outputs": [
    {
     "data": {
      "text/plain": [
       "2000-01-01 00:00:00    10\n",
       "2000-01-01 00:05:00    35\n",
       "2000-01-01 00:10:00    21\n",
       "Freq: 5T, dtype: int64"
      ]
     },
     "execution_count": 200,
     "metadata": {},
     "output_type": "execute_result"
    }
   ],
   "source": [
    "\n",
    "ts.resample('5min', closed='left',label='left').sum() #如上方圖"
   ]
  },
  {
   "cell_type": "markdown",
   "id": "25ff6a7e",
   "metadata": {},
   "source": [
    "![](./images/pic2.png)"
   ]
  },
  {
   "cell_type": "code",
   "execution_count": 201,
   "id": "39f41919",
   "metadata": {},
   "outputs": [
    {
     "data": {
      "text/plain": [
       "2000-01-01 00:00:00     0\n",
       "2000-01-01 00:05:00    15\n",
       "2000-01-01 00:10:00    40\n",
       "2000-01-01 00:15:00    11\n",
       "Freq: 5T, dtype: int64"
      ]
     },
     "execution_count": 201,
     "metadata": {},
     "output_type": "execute_result"
    }
   ],
   "source": [
    "#將分成5段,每段加總結果,closed->想像從全部時間從那一開始,label想像那一邊可以超出\n",
    "ts.resample('5min', closed='right',label='right').sum() #如上圖"
   ]
  },
  {
   "cell_type": "code",
   "execution_count": 202,
   "id": "69748985",
   "metadata": {},
   "outputs": [
    {
     "data": {
      "text/html": [
       "<div>\n",
       "<style scoped>\n",
       "    .dataframe tbody tr th:only-of-type {\n",
       "        vertical-align: middle;\n",
       "    }\n",
       "\n",
       "    .dataframe tbody tr th {\n",
       "        vertical-align: top;\n",
       "    }\n",
       "\n",
       "    .dataframe thead th {\n",
       "        text-align: right;\n",
       "    }\n",
       "</style>\n",
       "<table border=\"1\" class=\"dataframe\">\n",
       "  <thead>\n",
       "    <tr style=\"text-align: right;\">\n",
       "      <th></th>\n",
       "      <th>open</th>\n",
       "      <th>high</th>\n",
       "      <th>low</th>\n",
       "      <th>close</th>\n",
       "    </tr>\n",
       "  </thead>\n",
       "  <tbody>\n",
       "    <tr>\n",
       "      <th>2000-01-01 00:00:00</th>\n",
       "      <td>0</td>\n",
       "      <td>4</td>\n",
       "      <td>0</td>\n",
       "      <td>4</td>\n",
       "    </tr>\n",
       "    <tr>\n",
       "      <th>2000-01-01 00:05:00</th>\n",
       "      <td>5</td>\n",
       "      <td>9</td>\n",
       "      <td>5</td>\n",
       "      <td>9</td>\n",
       "    </tr>\n",
       "    <tr>\n",
       "      <th>2000-01-01 00:10:00</th>\n",
       "      <td>10</td>\n",
       "      <td>11</td>\n",
       "      <td>10</td>\n",
       "      <td>11</td>\n",
       "    </tr>\n",
       "  </tbody>\n",
       "</table>\n",
       "</div>"
      ],
      "text/plain": [
       "                     open  high  low  close\n",
       "2000-01-01 00:00:00     0     4    0      4\n",
       "2000-01-01 00:05:00     5     9    5      9\n",
       "2000-01-01 00:10:00    10    11   10     11"
      ]
     },
     "execution_count": 202,
     "metadata": {},
     "output_type": "execute_result"
    }
   ],
   "source": [
    "#open - high - low - close(OHLC)\n",
    "ts.resample('5min').ohlc()"
   ]
  },
  {
   "cell_type": "code",
   "execution_count": 203,
   "id": "3e761331",
   "metadata": {},
   "outputs": [
    {
     "data": {
      "text/html": [
       "<div>\n",
       "<style scoped>\n",
       "    .dataframe tbody tr th:only-of-type {\n",
       "        vertical-align: middle;\n",
       "    }\n",
       "\n",
       "    .dataframe tbody tr th {\n",
       "        vertical-align: top;\n",
       "    }\n",
       "\n",
       "    .dataframe thead th {\n",
       "        text-align: right;\n",
       "    }\n",
       "</style>\n",
       "<table border=\"1\" class=\"dataframe\">\n",
       "  <thead>\n",
       "    <tr style=\"text-align: right;\">\n",
       "      <th></th>\n",
       "      <th>台北</th>\n",
       "      <th>台中</th>\n",
       "      <th>台南</th>\n",
       "      <th>高雄</th>\n",
       "    </tr>\n",
       "  </thead>\n",
       "  <tbody>\n",
       "    <tr>\n",
       "      <th>2000-01-05</th>\n",
       "      <td>0.143308</td>\n",
       "      <td>0.253816</td>\n",
       "      <td>0.283725</td>\n",
       "      <td>-1.411889</td>\n",
       "    </tr>\n",
       "    <tr>\n",
       "      <th>2000-01-12</th>\n",
       "      <td>-1.876869</td>\n",
       "      <td>-1.019655</td>\n",
       "      <td>0.167942</td>\n",
       "      <td>0.553856</td>\n",
       "    </tr>\n",
       "  </tbody>\n",
       "</table>\n",
       "</div>"
      ],
      "text/plain": [
       "                  台北        台中        台南        高雄\n",
       "2000-01-05  0.143308  0.253816  0.283725 -1.411889\n",
       "2000-01-12 -1.876869 -1.019655  0.167942  0.553856"
      ]
     },
     "metadata": {},
     "output_type": "display_data"
    },
    {
     "data": {
      "text/html": [
       "<div>\n",
       "<style scoped>\n",
       "    .dataframe tbody tr th:only-of-type {\n",
       "        vertical-align: middle;\n",
       "    }\n",
       "\n",
       "    .dataframe tbody tr th {\n",
       "        vertical-align: top;\n",
       "    }\n",
       "\n",
       "    .dataframe thead th {\n",
       "        text-align: right;\n",
       "    }\n",
       "</style>\n",
       "<table border=\"1\" class=\"dataframe\">\n",
       "  <thead>\n",
       "    <tr style=\"text-align: right;\">\n",
       "      <th></th>\n",
       "      <th>台北</th>\n",
       "      <th>台中</th>\n",
       "      <th>台南</th>\n",
       "      <th>高雄</th>\n",
       "    </tr>\n",
       "  </thead>\n",
       "  <tbody>\n",
       "    <tr>\n",
       "      <th>2000-01-05</th>\n",
       "      <td>0.143308</td>\n",
       "      <td>0.253816</td>\n",
       "      <td>0.283725</td>\n",
       "      <td>-1.411889</td>\n",
       "    </tr>\n",
       "    <tr>\n",
       "      <th>2000-01-06</th>\n",
       "      <td>NaN</td>\n",
       "      <td>NaN</td>\n",
       "      <td>NaN</td>\n",
       "      <td>NaN</td>\n",
       "    </tr>\n",
       "    <tr>\n",
       "      <th>2000-01-07</th>\n",
       "      <td>NaN</td>\n",
       "      <td>NaN</td>\n",
       "      <td>NaN</td>\n",
       "      <td>NaN</td>\n",
       "    </tr>\n",
       "    <tr>\n",
       "      <th>2000-01-08</th>\n",
       "      <td>NaN</td>\n",
       "      <td>NaN</td>\n",
       "      <td>NaN</td>\n",
       "      <td>NaN</td>\n",
       "    </tr>\n",
       "    <tr>\n",
       "      <th>2000-01-09</th>\n",
       "      <td>NaN</td>\n",
       "      <td>NaN</td>\n",
       "      <td>NaN</td>\n",
       "      <td>NaN</td>\n",
       "    </tr>\n",
       "    <tr>\n",
       "      <th>2000-01-10</th>\n",
       "      <td>NaN</td>\n",
       "      <td>NaN</td>\n",
       "      <td>NaN</td>\n",
       "      <td>NaN</td>\n",
       "    </tr>\n",
       "    <tr>\n",
       "      <th>2000-01-11</th>\n",
       "      <td>NaN</td>\n",
       "      <td>NaN</td>\n",
       "      <td>NaN</td>\n",
       "      <td>NaN</td>\n",
       "    </tr>\n",
       "    <tr>\n",
       "      <th>2000-01-12</th>\n",
       "      <td>-1.876869</td>\n",
       "      <td>-1.019655</td>\n",
       "      <td>0.167942</td>\n",
       "      <td>0.553856</td>\n",
       "    </tr>\n",
       "  </tbody>\n",
       "</table>\n",
       "</div>"
      ],
      "text/plain": [
       "                  台北        台中        台南        高雄\n",
       "2000-01-05  0.143308  0.253816  0.283725 -1.411889\n",
       "2000-01-06       NaN       NaN       NaN       NaN\n",
       "2000-01-07       NaN       NaN       NaN       NaN\n",
       "2000-01-08       NaN       NaN       NaN       NaN\n",
       "2000-01-09       NaN       NaN       NaN       NaN\n",
       "2000-01-10       NaN       NaN       NaN       NaN\n",
       "2000-01-11       NaN       NaN       NaN       NaN\n",
       "2000-01-12 -1.876869 -1.019655  0.167942  0.553856"
      ]
     },
     "metadata": {},
     "output_type": "display_data"
    },
    {
     "data": {
      "text/html": [
       "<div>\n",
       "<style scoped>\n",
       "    .dataframe tbody tr th:only-of-type {\n",
       "        vertical-align: middle;\n",
       "    }\n",
       "\n",
       "    .dataframe tbody tr th {\n",
       "        vertical-align: top;\n",
       "    }\n",
       "\n",
       "    .dataframe thead th {\n",
       "        text-align: right;\n",
       "    }\n",
       "</style>\n",
       "<table border=\"1\" class=\"dataframe\">\n",
       "  <thead>\n",
       "    <tr style=\"text-align: right;\">\n",
       "      <th></th>\n",
       "      <th>台北</th>\n",
       "      <th>台中</th>\n",
       "      <th>台南</th>\n",
       "      <th>高雄</th>\n",
       "    </tr>\n",
       "  </thead>\n",
       "  <tbody>\n",
       "    <tr>\n",
       "      <th>2000-01-05</th>\n",
       "      <td>0.143308</td>\n",
       "      <td>0.253816</td>\n",
       "      <td>0.283725</td>\n",
       "      <td>-1.411889</td>\n",
       "    </tr>\n",
       "    <tr>\n",
       "      <th>2000-01-06</th>\n",
       "      <td>0.143308</td>\n",
       "      <td>0.253816</td>\n",
       "      <td>0.283725</td>\n",
       "      <td>-1.411889</td>\n",
       "    </tr>\n",
       "    <tr>\n",
       "      <th>2000-01-07</th>\n",
       "      <td>0.143308</td>\n",
       "      <td>0.253816</td>\n",
       "      <td>0.283725</td>\n",
       "      <td>-1.411889</td>\n",
       "    </tr>\n",
       "    <tr>\n",
       "      <th>2000-01-08</th>\n",
       "      <td>0.143308</td>\n",
       "      <td>0.253816</td>\n",
       "      <td>0.283725</td>\n",
       "      <td>-1.411889</td>\n",
       "    </tr>\n",
       "    <tr>\n",
       "      <th>2000-01-09</th>\n",
       "      <td>0.143308</td>\n",
       "      <td>0.253816</td>\n",
       "      <td>0.283725</td>\n",
       "      <td>-1.411889</td>\n",
       "    </tr>\n",
       "    <tr>\n",
       "      <th>2000-01-10</th>\n",
       "      <td>0.143308</td>\n",
       "      <td>0.253816</td>\n",
       "      <td>0.283725</td>\n",
       "      <td>-1.411889</td>\n",
       "    </tr>\n",
       "    <tr>\n",
       "      <th>2000-01-11</th>\n",
       "      <td>0.143308</td>\n",
       "      <td>0.253816</td>\n",
       "      <td>0.283725</td>\n",
       "      <td>-1.411889</td>\n",
       "    </tr>\n",
       "    <tr>\n",
       "      <th>2000-01-12</th>\n",
       "      <td>-1.876869</td>\n",
       "      <td>-1.019655</td>\n",
       "      <td>0.167942</td>\n",
       "      <td>0.553856</td>\n",
       "    </tr>\n",
       "  </tbody>\n",
       "</table>\n",
       "</div>"
      ],
      "text/plain": [
       "                  台北        台中        台南        高雄\n",
       "2000-01-05  0.143308  0.253816  0.283725 -1.411889\n",
       "2000-01-06  0.143308  0.253816  0.283725 -1.411889\n",
       "2000-01-07  0.143308  0.253816  0.283725 -1.411889\n",
       "2000-01-08  0.143308  0.253816  0.283725 -1.411889\n",
       "2000-01-09  0.143308  0.253816  0.283725 -1.411889\n",
       "2000-01-10  0.143308  0.253816  0.283725 -1.411889\n",
       "2000-01-11  0.143308  0.253816  0.283725 -1.411889\n",
       "2000-01-12 -1.876869 -1.019655  0.167942  0.553856"
      ]
     },
     "execution_count": 203,
     "metadata": {},
     "output_type": "execute_result"
    }
   ],
   "source": [
    "#upsampling and interpolation\n",
    "#由少到多不需要統計,考慮的是插補\n",
    "\n",
    "frame = pd.DataFrame(np.random.randn(2, 4),\n",
    "                     index = pd.date_range('1/1/2000', periods=2, freq='W-WED'),\n",
    "                     columns = ['台北', '台中', '台南', '高雄']\n",
    "                     )\n",
    "\n",
    "display(frame)\n",
    "\n",
    "df_daily = frame.resample('D').asfreq()\n",
    "display(df_daily)\n",
    "\n",
    "frame.resample('D').ffill()"
   ]
  },
  {
   "cell_type": "code",
   "execution_count": 204,
   "id": "126a6c2d",
   "metadata": {},
   "outputs": [
    {
     "data": {
      "text/html": [
       "<div>\n",
       "<style scoped>\n",
       "    .dataframe tbody tr th:only-of-type {\n",
       "        vertical-align: middle;\n",
       "    }\n",
       "\n",
       "    .dataframe tbody tr th {\n",
       "        vertical-align: top;\n",
       "    }\n",
       "\n",
       "    .dataframe thead th {\n",
       "        text-align: right;\n",
       "    }\n",
       "</style>\n",
       "<table border=\"1\" class=\"dataframe\">\n",
       "  <thead>\n",
       "    <tr style=\"text-align: right;\">\n",
       "      <th></th>\n",
       "      <th>台北</th>\n",
       "      <th>台中</th>\n",
       "      <th>台南</th>\n",
       "      <th>高雄</th>\n",
       "    </tr>\n",
       "  </thead>\n",
       "  <tbody>\n",
       "    <tr>\n",
       "      <th>2000-01-05</th>\n",
       "      <td>0.143308</td>\n",
       "      <td>0.253816</td>\n",
       "      <td>0.283725</td>\n",
       "      <td>-1.411889</td>\n",
       "    </tr>\n",
       "    <tr>\n",
       "      <th>2000-01-06</th>\n",
       "      <td>0.143308</td>\n",
       "      <td>0.253816</td>\n",
       "      <td>0.283725</td>\n",
       "      <td>-1.411889</td>\n",
       "    </tr>\n",
       "    <tr>\n",
       "      <th>2000-01-07</th>\n",
       "      <td>0.143308</td>\n",
       "      <td>0.253816</td>\n",
       "      <td>0.283725</td>\n",
       "      <td>-1.411889</td>\n",
       "    </tr>\n",
       "    <tr>\n",
       "      <th>2000-01-08</th>\n",
       "      <td>NaN</td>\n",
       "      <td>NaN</td>\n",
       "      <td>NaN</td>\n",
       "      <td>NaN</td>\n",
       "    </tr>\n",
       "    <tr>\n",
       "      <th>2000-01-09</th>\n",
       "      <td>NaN</td>\n",
       "      <td>NaN</td>\n",
       "      <td>NaN</td>\n",
       "      <td>NaN</td>\n",
       "    </tr>\n",
       "    <tr>\n",
       "      <th>2000-01-10</th>\n",
       "      <td>NaN</td>\n",
       "      <td>NaN</td>\n",
       "      <td>NaN</td>\n",
       "      <td>NaN</td>\n",
       "    </tr>\n",
       "    <tr>\n",
       "      <th>2000-01-11</th>\n",
       "      <td>NaN</td>\n",
       "      <td>NaN</td>\n",
       "      <td>NaN</td>\n",
       "      <td>NaN</td>\n",
       "    </tr>\n",
       "    <tr>\n",
       "      <th>2000-01-12</th>\n",
       "      <td>-1.876869</td>\n",
       "      <td>-1.019655</td>\n",
       "      <td>0.167942</td>\n",
       "      <td>0.553856</td>\n",
       "    </tr>\n",
       "  </tbody>\n",
       "</table>\n",
       "</div>"
      ],
      "text/plain": [
       "                  台北        台中        台南        高雄\n",
       "2000-01-05  0.143308  0.253816  0.283725 -1.411889\n",
       "2000-01-06  0.143308  0.253816  0.283725 -1.411889\n",
       "2000-01-07  0.143308  0.253816  0.283725 -1.411889\n",
       "2000-01-08       NaN       NaN       NaN       NaN\n",
       "2000-01-09       NaN       NaN       NaN       NaN\n",
       "2000-01-10       NaN       NaN       NaN       NaN\n",
       "2000-01-11       NaN       NaN       NaN       NaN\n",
       "2000-01-12 -1.876869 -1.019655  0.167942  0.553856"
      ]
     },
     "execution_count": 204,
     "metadata": {},
     "output_type": "execute_result"
    }
   ],
   "source": [
    "frame.resample('D').ffill(limit=2)"
   ]
  },
  {
   "cell_type": "code",
   "execution_count": 205,
   "id": "51a1c115",
   "metadata": {},
   "outputs": [
    {
     "data": {
      "text/html": [
       "<div>\n",
       "<style scoped>\n",
       "    .dataframe tbody tr th:only-of-type {\n",
       "        vertical-align: middle;\n",
       "    }\n",
       "\n",
       "    .dataframe tbody tr th {\n",
       "        vertical-align: top;\n",
       "    }\n",
       "\n",
       "    .dataframe thead th {\n",
       "        text-align: right;\n",
       "    }\n",
       "</style>\n",
       "<table border=\"1\" class=\"dataframe\">\n",
       "  <thead>\n",
       "    <tr style=\"text-align: right;\">\n",
       "      <th></th>\n",
       "      <th>台北</th>\n",
       "      <th>台中</th>\n",
       "      <th>台南</th>\n",
       "      <th>高雄</th>\n",
       "    </tr>\n",
       "  </thead>\n",
       "  <tbody>\n",
       "    <tr>\n",
       "      <th>2000-01-06</th>\n",
       "      <td>0.143308</td>\n",
       "      <td>0.253816</td>\n",
       "      <td>0.283725</td>\n",
       "      <td>-1.411889</td>\n",
       "    </tr>\n",
       "    <tr>\n",
       "      <th>2000-01-13</th>\n",
       "      <td>-1.876869</td>\n",
       "      <td>-1.019655</td>\n",
       "      <td>0.167942</td>\n",
       "      <td>0.553856</td>\n",
       "    </tr>\n",
       "  </tbody>\n",
       "</table>\n",
       "</div>"
      ],
      "text/plain": [
       "                  台北        台中        台南        高雄\n",
       "2000-01-06  0.143308  0.253816  0.283725 -1.411889\n",
       "2000-01-13 -1.876869 -1.019655  0.167942  0.553856"
      ]
     },
     "execution_count": 205,
     "metadata": {},
     "output_type": "execute_result"
    }
   ],
   "source": [
    "frame.resample('W-THU').ffill()"
   ]
  },
  {
   "cell_type": "code",
   "execution_count": 206,
   "id": "56ba4ee6",
   "metadata": {},
   "outputs": [
    {
     "data": {
      "text/html": [
       "<div>\n",
       "<style scoped>\n",
       "    .dataframe tbody tr th:only-of-type {\n",
       "        vertical-align: middle;\n",
       "    }\n",
       "\n",
       "    .dataframe tbody tr th {\n",
       "        vertical-align: top;\n",
       "    }\n",
       "\n",
       "    .dataframe thead th {\n",
       "        text-align: right;\n",
       "    }\n",
       "</style>\n",
       "<table border=\"1\" class=\"dataframe\">\n",
       "  <thead>\n",
       "    <tr style=\"text-align: right;\">\n",
       "      <th></th>\n",
       "      <th>台北</th>\n",
       "      <th>台中</th>\n",
       "      <th>台南</th>\n",
       "      <th>高雄</th>\n",
       "    </tr>\n",
       "  </thead>\n",
       "  <tbody>\n",
       "    <tr>\n",
       "      <th>2000-01</th>\n",
       "      <td>-0.530675</td>\n",
       "      <td>1.377257</td>\n",
       "      <td>-0.143176</td>\n",
       "      <td>0.020316</td>\n",
       "    </tr>\n",
       "    <tr>\n",
       "      <th>2000-02</th>\n",
       "      <td>-0.193964</td>\n",
       "      <td>0.134027</td>\n",
       "      <td>0.704474</td>\n",
       "      <td>0.665653</td>\n",
       "    </tr>\n",
       "    <tr>\n",
       "      <th>2000-03</th>\n",
       "      <td>-0.898423</td>\n",
       "      <td>1.523664</td>\n",
       "      <td>-1.095026</td>\n",
       "      <td>0.079227</td>\n",
       "    </tr>\n",
       "    <tr>\n",
       "      <th>2000-04</th>\n",
       "      <td>-0.274397</td>\n",
       "      <td>-1.048992</td>\n",
       "      <td>-0.075121</td>\n",
       "      <td>-0.740814</td>\n",
       "    </tr>\n",
       "    <tr>\n",
       "      <th>2000-05</th>\n",
       "      <td>0.072907</td>\n",
       "      <td>0.403086</td>\n",
       "      <td>1.471929</td>\n",
       "      <td>0.307384</td>\n",
       "    </tr>\n",
       "  </tbody>\n",
       "</table>\n",
       "</div>"
      ],
      "text/plain": [
       "               台北        台中        台南        高雄\n",
       "2000-01 -0.530675  1.377257 -0.143176  0.020316\n",
       "2000-02 -0.193964  0.134027  0.704474  0.665653\n",
       "2000-03 -0.898423  1.523664 -1.095026  0.079227\n",
       "2000-04 -0.274397 -1.048992 -0.075121 -0.740814\n",
       "2000-05  0.072907  0.403086  1.471929  0.307384"
      ]
     },
     "execution_count": 206,
     "metadata": {},
     "output_type": "execute_result"
    }
   ],
   "source": [
    "# resampling with Periods\n",
    "\n",
    "frame = pd.DataFrame(np.random.randn(24, 4),\n",
    "                     index=pd.period_range('1-2000', '12-2001', freq='M'),\n",
    "                     columns = ['台北', '台中', '台南', '高雄']\n",
    "                    )\n",
    "frame[:5]"
   ]
  },
  {
   "cell_type": "code",
   "execution_count": 207,
   "id": "83a2102b",
   "metadata": {},
   "outputs": [
    {
     "data": {
      "text/html": [
       "<div>\n",
       "<style scoped>\n",
       "    .dataframe tbody tr th:only-of-type {\n",
       "        vertical-align: middle;\n",
       "    }\n",
       "\n",
       "    .dataframe tbody tr th {\n",
       "        vertical-align: top;\n",
       "    }\n",
       "\n",
       "    .dataframe thead th {\n",
       "        text-align: right;\n",
       "    }\n",
       "</style>\n",
       "<table border=\"1\" class=\"dataframe\">\n",
       "  <thead>\n",
       "    <tr style=\"text-align: right;\">\n",
       "      <th></th>\n",
       "      <th>台北</th>\n",
       "      <th>台中</th>\n",
       "      <th>台南</th>\n",
       "      <th>高雄</th>\n",
       "    </tr>\n",
       "  </thead>\n",
       "  <tbody>\n",
       "    <tr>\n",
       "      <th>2000</th>\n",
       "      <td>-0.331394</td>\n",
       "      <td>0.423126</td>\n",
       "      <td>-0.260384</td>\n",
       "      <td>0.012421</td>\n",
       "    </tr>\n",
       "    <tr>\n",
       "      <th>2001</th>\n",
       "      <td>-0.218538</td>\n",
       "      <td>0.000965</td>\n",
       "      <td>-0.218938</td>\n",
       "      <td>-0.137133</td>\n",
       "    </tr>\n",
       "  </tbody>\n",
       "</table>\n",
       "</div>"
      ],
      "text/plain": [
       "            台北        台中        台南        高雄\n",
       "2000 -0.331394  0.423126 -0.260384  0.012421\n",
       "2001 -0.218538  0.000965 -0.218938 -0.137133"
      ]
     },
     "execution_count": 207,
     "metadata": {},
     "output_type": "execute_result"
    }
   ],
   "source": [
    "annual_frame = frame.resample('A-DEC').mean()\n",
    "annual_frame"
   ]
  },
  {
   "cell_type": "code",
   "execution_count": 208,
   "id": "d623ca0f",
   "metadata": {},
   "outputs": [
    {
     "data": {
      "text/html": [
       "<div>\n",
       "<style scoped>\n",
       "    .dataframe tbody tr th:only-of-type {\n",
       "        vertical-align: middle;\n",
       "    }\n",
       "\n",
       "    .dataframe tbody tr th {\n",
       "        vertical-align: top;\n",
       "    }\n",
       "\n",
       "    .dataframe thead th {\n",
       "        text-align: right;\n",
       "    }\n",
       "</style>\n",
       "<table border=\"1\" class=\"dataframe\">\n",
       "  <thead>\n",
       "    <tr style=\"text-align: right;\">\n",
       "      <th></th>\n",
       "      <th>台北</th>\n",
       "      <th>台中</th>\n",
       "      <th>台南</th>\n",
       "      <th>高雄</th>\n",
       "    </tr>\n",
       "  </thead>\n",
       "  <tbody>\n",
       "    <tr>\n",
       "      <th>2000Q1</th>\n",
       "      <td>-0.331394</td>\n",
       "      <td>0.423126</td>\n",
       "      <td>-0.260384</td>\n",
       "      <td>0.012421</td>\n",
       "    </tr>\n",
       "    <tr>\n",
       "      <th>2000Q2</th>\n",
       "      <td>-0.331394</td>\n",
       "      <td>0.423126</td>\n",
       "      <td>-0.260384</td>\n",
       "      <td>0.012421</td>\n",
       "    </tr>\n",
       "    <tr>\n",
       "      <th>2000Q3</th>\n",
       "      <td>-0.331394</td>\n",
       "      <td>0.423126</td>\n",
       "      <td>-0.260384</td>\n",
       "      <td>0.012421</td>\n",
       "    </tr>\n",
       "    <tr>\n",
       "      <th>2000Q4</th>\n",
       "      <td>-0.331394</td>\n",
       "      <td>0.423126</td>\n",
       "      <td>-0.260384</td>\n",
       "      <td>0.012421</td>\n",
       "    </tr>\n",
       "    <tr>\n",
       "      <th>2001Q1</th>\n",
       "      <td>-0.218538</td>\n",
       "      <td>0.000965</td>\n",
       "      <td>-0.218938</td>\n",
       "      <td>-0.137133</td>\n",
       "    </tr>\n",
       "    <tr>\n",
       "      <th>2001Q2</th>\n",
       "      <td>-0.218538</td>\n",
       "      <td>0.000965</td>\n",
       "      <td>-0.218938</td>\n",
       "      <td>-0.137133</td>\n",
       "    </tr>\n",
       "    <tr>\n",
       "      <th>2001Q3</th>\n",
       "      <td>-0.218538</td>\n",
       "      <td>0.000965</td>\n",
       "      <td>-0.218938</td>\n",
       "      <td>-0.137133</td>\n",
       "    </tr>\n",
       "    <tr>\n",
       "      <th>2001Q4</th>\n",
       "      <td>-0.218538</td>\n",
       "      <td>0.000965</td>\n",
       "      <td>-0.218938</td>\n",
       "      <td>-0.137133</td>\n",
       "    </tr>\n",
       "  </tbody>\n",
       "</table>\n",
       "</div>"
      ],
      "text/plain": [
       "              台北        台中        台南        高雄\n",
       "2000Q1 -0.331394  0.423126 -0.260384  0.012421\n",
       "2000Q2 -0.331394  0.423126 -0.260384  0.012421\n",
       "2000Q3 -0.331394  0.423126 -0.260384  0.012421\n",
       "2000Q4 -0.331394  0.423126 -0.260384  0.012421\n",
       "2001Q1 -0.218538  0.000965 -0.218938 -0.137133\n",
       "2001Q2 -0.218538  0.000965 -0.218938 -0.137133\n",
       "2001Q3 -0.218538  0.000965 -0.218938 -0.137133\n",
       "2001Q4 -0.218538  0.000965 -0.218938 -0.137133"
      ]
     },
     "execution_count": 208,
     "metadata": {},
     "output_type": "execute_result"
    }
   ],
   "source": [
    "#Q-DEC: Quarterly, year ending in December\n",
    "annual_frame.resample('Q-DEC').ffill()"
   ]
  },
  {
   "cell_type": "code",
   "execution_count": 209,
   "id": "4b7a349a",
   "metadata": {},
   "outputs": [
    {
     "data": {
      "text/html": [
       "<div>\n",
       "<style scoped>\n",
       "    .dataframe tbody tr th:only-of-type {\n",
       "        vertical-align: middle;\n",
       "    }\n",
       "\n",
       "    .dataframe tbody tr th {\n",
       "        vertical-align: top;\n",
       "    }\n",
       "\n",
       "    .dataframe thead th {\n",
       "        text-align: right;\n",
       "    }\n",
       "</style>\n",
       "<table border=\"1\" class=\"dataframe\">\n",
       "  <thead>\n",
       "    <tr style=\"text-align: right;\">\n",
       "      <th></th>\n",
       "      <th>台北</th>\n",
       "      <th>台中</th>\n",
       "      <th>台南</th>\n",
       "      <th>高雄</th>\n",
       "    </tr>\n",
       "  </thead>\n",
       "  <tbody>\n",
       "    <tr>\n",
       "      <th>2000Q4</th>\n",
       "      <td>-0.331394</td>\n",
       "      <td>0.423126</td>\n",
       "      <td>-0.260384</td>\n",
       "      <td>0.012421</td>\n",
       "    </tr>\n",
       "    <tr>\n",
       "      <th>2001Q1</th>\n",
       "      <td>-0.331394</td>\n",
       "      <td>0.423126</td>\n",
       "      <td>-0.260384</td>\n",
       "      <td>0.012421</td>\n",
       "    </tr>\n",
       "    <tr>\n",
       "      <th>2001Q2</th>\n",
       "      <td>-0.331394</td>\n",
       "      <td>0.423126</td>\n",
       "      <td>-0.260384</td>\n",
       "      <td>0.012421</td>\n",
       "    </tr>\n",
       "    <tr>\n",
       "      <th>2001Q3</th>\n",
       "      <td>-0.331394</td>\n",
       "      <td>0.423126</td>\n",
       "      <td>-0.260384</td>\n",
       "      <td>0.012421</td>\n",
       "    </tr>\n",
       "    <tr>\n",
       "      <th>2001Q4</th>\n",
       "      <td>-0.218538</td>\n",
       "      <td>0.000965</td>\n",
       "      <td>-0.218938</td>\n",
       "      <td>-0.137133</td>\n",
       "    </tr>\n",
       "  </tbody>\n",
       "</table>\n",
       "</div>"
      ],
      "text/plain": [
       "              台北        台中        台南        高雄\n",
       "2000Q4 -0.331394  0.423126 -0.260384  0.012421\n",
       "2001Q1 -0.331394  0.423126 -0.260384  0.012421\n",
       "2001Q2 -0.331394  0.423126 -0.260384  0.012421\n",
       "2001Q3 -0.331394  0.423126 -0.260384  0.012421\n",
       "2001Q4 -0.218538  0.000965 -0.218938 -0.137133"
      ]
     },
     "execution_count": 209,
     "metadata": {},
     "output_type": "execute_result"
    }
   ],
   "source": [
    "annual_frame.resample('Q-DEC',convention='end').ffill()"
   ]
  },
  {
   "cell_type": "code",
   "execution_count": 210,
   "id": "ff67a2c8",
   "metadata": {},
   "outputs": [
    {
     "data": {
      "text/html": [
       "<div>\n",
       "<style scoped>\n",
       "    .dataframe tbody tr th:only-of-type {\n",
       "        vertical-align: middle;\n",
       "    }\n",
       "\n",
       "    .dataframe tbody tr th {\n",
       "        vertical-align: top;\n",
       "    }\n",
       "\n",
       "    .dataframe thead th {\n",
       "        text-align: right;\n",
       "    }\n",
       "</style>\n",
       "<table border=\"1\" class=\"dataframe\">\n",
       "  <thead>\n",
       "    <tr style=\"text-align: right;\">\n",
       "      <th></th>\n",
       "      <th>台北</th>\n",
       "      <th>台中</th>\n",
       "      <th>台南</th>\n",
       "      <th>高雄</th>\n",
       "    </tr>\n",
       "  </thead>\n",
       "  <tbody>\n",
       "    <tr>\n",
       "      <th>2000Q4</th>\n",
       "      <td>-0.331394</td>\n",
       "      <td>0.423126</td>\n",
       "      <td>-0.260384</td>\n",
       "      <td>0.012421</td>\n",
       "    </tr>\n",
       "    <tr>\n",
       "      <th>2001Q1</th>\n",
       "      <td>-0.331394</td>\n",
       "      <td>0.423126</td>\n",
       "      <td>-0.260384</td>\n",
       "      <td>0.012421</td>\n",
       "    </tr>\n",
       "    <tr>\n",
       "      <th>2001Q2</th>\n",
       "      <td>-0.331394</td>\n",
       "      <td>0.423126</td>\n",
       "      <td>-0.260384</td>\n",
       "      <td>0.012421</td>\n",
       "    </tr>\n",
       "    <tr>\n",
       "      <th>2001Q3</th>\n",
       "      <td>-0.331394</td>\n",
       "      <td>0.423126</td>\n",
       "      <td>-0.260384</td>\n",
       "      <td>0.012421</td>\n",
       "    </tr>\n",
       "    <tr>\n",
       "      <th>2001Q4</th>\n",
       "      <td>-0.218538</td>\n",
       "      <td>0.000965</td>\n",
       "      <td>-0.218938</td>\n",
       "      <td>-0.137133</td>\n",
       "    </tr>\n",
       "    <tr>\n",
       "      <th>2002Q1</th>\n",
       "      <td>-0.218538</td>\n",
       "      <td>0.000965</td>\n",
       "      <td>-0.218938</td>\n",
       "      <td>-0.137133</td>\n",
       "    </tr>\n",
       "    <tr>\n",
       "      <th>2002Q2</th>\n",
       "      <td>-0.218538</td>\n",
       "      <td>0.000965</td>\n",
       "      <td>-0.218938</td>\n",
       "      <td>-0.137133</td>\n",
       "    </tr>\n",
       "    <tr>\n",
       "      <th>2002Q3</th>\n",
       "      <td>-0.218538</td>\n",
       "      <td>0.000965</td>\n",
       "      <td>-0.218938</td>\n",
       "      <td>-0.137133</td>\n",
       "    </tr>\n",
       "  </tbody>\n",
       "</table>\n",
       "</div>"
      ],
      "text/plain": [
       "              台北        台中        台南        高雄\n",
       "2000Q4 -0.331394  0.423126 -0.260384  0.012421\n",
       "2001Q1 -0.331394  0.423126 -0.260384  0.012421\n",
       "2001Q2 -0.331394  0.423126 -0.260384  0.012421\n",
       "2001Q3 -0.331394  0.423126 -0.260384  0.012421\n",
       "2001Q4 -0.218538  0.000965 -0.218938 -0.137133\n",
       "2002Q1 -0.218538  0.000965 -0.218938 -0.137133\n",
       "2002Q2 -0.218538  0.000965 -0.218938 -0.137133\n",
       "2002Q3 -0.218538  0.000965 -0.218938 -0.137133"
      ]
     },
     "execution_count": 210,
     "metadata": {},
     "output_type": "execute_result"
    }
   ],
   "source": [
    "annual_frame.resample('Q-MAR').ffill()"
   ]
  },
  {
   "cell_type": "code",
   "execution_count": 211,
   "id": "d29d5d40",
   "metadata": {},
   "outputs": [
    {
     "data": {
      "text/html": [
       "<div>\n",
       "<style scoped>\n",
       "    .dataframe tbody tr th:only-of-type {\n",
       "        vertical-align: middle;\n",
       "    }\n",
       "\n",
       "    .dataframe tbody tr th {\n",
       "        vertical-align: top;\n",
       "    }\n",
       "\n",
       "    .dataframe thead th {\n",
       "        text-align: right;\n",
       "    }\n",
       "</style>\n",
       "<table border=\"1\" class=\"dataframe\">\n",
       "  <thead>\n",
       "    <tr style=\"text-align: right;\">\n",
       "      <th></th>\n",
       "      <th>AAPL</th>\n",
       "      <th>MSFT</th>\n",
       "      <th>XOM</th>\n",
       "    </tr>\n",
       "  </thead>\n",
       "  <tbody>\n",
       "    <tr>\n",
       "      <th>2003-01-02</th>\n",
       "      <td>7.40</td>\n",
       "      <td>21.11</td>\n",
       "      <td>29.22</td>\n",
       "    </tr>\n",
       "    <tr>\n",
       "      <th>2003-01-03</th>\n",
       "      <td>7.45</td>\n",
       "      <td>21.14</td>\n",
       "      <td>29.24</td>\n",
       "    </tr>\n",
       "    <tr>\n",
       "      <th>2003-01-06</th>\n",
       "      <td>7.45</td>\n",
       "      <td>21.52</td>\n",
       "      <td>29.96</td>\n",
       "    </tr>\n",
       "    <tr>\n",
       "      <th>2003-01-07</th>\n",
       "      <td>7.43</td>\n",
       "      <td>21.93</td>\n",
       "      <td>28.95</td>\n",
       "    </tr>\n",
       "    <tr>\n",
       "      <th>2003-01-08</th>\n",
       "      <td>7.28</td>\n",
       "      <td>21.31</td>\n",
       "      <td>28.83</td>\n",
       "    </tr>\n",
       "    <tr>\n",
       "      <th>...</th>\n",
       "      <td>...</td>\n",
       "      <td>...</td>\n",
       "      <td>...</td>\n",
       "    </tr>\n",
       "    <tr>\n",
       "      <th>2011-10-10</th>\n",
       "      <td>388.81</td>\n",
       "      <td>26.94</td>\n",
       "      <td>76.28</td>\n",
       "    </tr>\n",
       "    <tr>\n",
       "      <th>2011-10-11</th>\n",
       "      <td>400.29</td>\n",
       "      <td>27.00</td>\n",
       "      <td>76.27</td>\n",
       "    </tr>\n",
       "    <tr>\n",
       "      <th>2011-10-12</th>\n",
       "      <td>402.19</td>\n",
       "      <td>26.96</td>\n",
       "      <td>77.16</td>\n",
       "    </tr>\n",
       "    <tr>\n",
       "      <th>2011-10-13</th>\n",
       "      <td>408.43</td>\n",
       "      <td>27.18</td>\n",
       "      <td>76.37</td>\n",
       "    </tr>\n",
       "    <tr>\n",
       "      <th>2011-10-14</th>\n",
       "      <td>422.00</td>\n",
       "      <td>27.27</td>\n",
       "      <td>78.11</td>\n",
       "    </tr>\n",
       "  </tbody>\n",
       "</table>\n",
       "<p>2214 rows × 3 columns</p>\n",
       "</div>"
      ],
      "text/plain": [
       "              AAPL   MSFT    XOM\n",
       "2003-01-02    7.40  21.11  29.22\n",
       "2003-01-03    7.45  21.14  29.24\n",
       "2003-01-06    7.45  21.52  29.96\n",
       "2003-01-07    7.43  21.93  28.95\n",
       "2003-01-08    7.28  21.31  28.83\n",
       "...            ...    ...    ...\n",
       "2011-10-10  388.81  26.94  76.28\n",
       "2011-10-11  400.29  27.00  76.27\n",
       "2011-10-12  402.19  26.96  77.16\n",
       "2011-10-13  408.43  27.18  76.37\n",
       "2011-10-14  422.00  27.27  78.11\n",
       "\n",
       "[2214 rows x 3 columns]"
      ]
     },
     "execution_count": 211,
     "metadata": {},
     "output_type": "execute_result"
    }
   ],
   "source": [
    "close_px_all = pd.read_csv('stock_px_2.csv',parse_dates=True,index_col=0)\n",
    "close_px = close_px_all[['AAPL', 'MSFT', 'XOM']]\n",
    "close_px"
   ]
  },
  {
   "cell_type": "code",
   "execution_count": 212,
   "id": "22648a72",
   "metadata": {},
   "outputs": [
    {
     "data": {
      "text/html": [
       "<div>\n",
       "<style scoped>\n",
       "    .dataframe tbody tr th:only-of-type {\n",
       "        vertical-align: middle;\n",
       "    }\n",
       "\n",
       "    .dataframe tbody tr th {\n",
       "        vertical-align: top;\n",
       "    }\n",
       "\n",
       "    .dataframe thead th {\n",
       "        text-align: right;\n",
       "    }\n",
       "</style>\n",
       "<table border=\"1\" class=\"dataframe\">\n",
       "  <thead>\n",
       "    <tr style=\"text-align: right;\">\n",
       "      <th></th>\n",
       "      <th>AAPL</th>\n",
       "      <th>MSFT</th>\n",
       "      <th>XOM</th>\n",
       "    </tr>\n",
       "  </thead>\n",
       "  <tbody>\n",
       "    <tr>\n",
       "      <th>2003-01-02</th>\n",
       "      <td>7.40</td>\n",
       "      <td>21.11</td>\n",
       "      <td>29.22</td>\n",
       "    </tr>\n",
       "    <tr>\n",
       "      <th>2003-01-03</th>\n",
       "      <td>7.45</td>\n",
       "      <td>21.14</td>\n",
       "      <td>29.24</td>\n",
       "    </tr>\n",
       "    <tr>\n",
       "      <th>2003-01-06</th>\n",
       "      <td>7.45</td>\n",
       "      <td>21.52</td>\n",
       "      <td>29.96</td>\n",
       "    </tr>\n",
       "    <tr>\n",
       "      <th>2003-01-07</th>\n",
       "      <td>7.43</td>\n",
       "      <td>21.93</td>\n",
       "      <td>28.95</td>\n",
       "    </tr>\n",
       "    <tr>\n",
       "      <th>2003-01-08</th>\n",
       "      <td>7.28</td>\n",
       "      <td>21.31</td>\n",
       "      <td>28.83</td>\n",
       "    </tr>\n",
       "    <tr>\n",
       "      <th>...</th>\n",
       "      <td>...</td>\n",
       "      <td>...</td>\n",
       "      <td>...</td>\n",
       "    </tr>\n",
       "    <tr>\n",
       "      <th>2011-10-10</th>\n",
       "      <td>388.81</td>\n",
       "      <td>26.94</td>\n",
       "      <td>76.28</td>\n",
       "    </tr>\n",
       "    <tr>\n",
       "      <th>2011-10-11</th>\n",
       "      <td>400.29</td>\n",
       "      <td>27.00</td>\n",
       "      <td>76.27</td>\n",
       "    </tr>\n",
       "    <tr>\n",
       "      <th>2011-10-12</th>\n",
       "      <td>402.19</td>\n",
       "      <td>26.96</td>\n",
       "      <td>77.16</td>\n",
       "    </tr>\n",
       "    <tr>\n",
       "      <th>2011-10-13</th>\n",
       "      <td>408.43</td>\n",
       "      <td>27.18</td>\n",
       "      <td>76.37</td>\n",
       "    </tr>\n",
       "    <tr>\n",
       "      <th>2011-10-14</th>\n",
       "      <td>422.00</td>\n",
       "      <td>27.27</td>\n",
       "      <td>78.11</td>\n",
       "    </tr>\n",
       "  </tbody>\n",
       "</table>\n",
       "<p>2292 rows × 3 columns</p>\n",
       "</div>"
      ],
      "text/plain": [
       "              AAPL   MSFT    XOM\n",
       "2003-01-02    7.40  21.11  29.22\n",
       "2003-01-03    7.45  21.14  29.24\n",
       "2003-01-06    7.45  21.52  29.96\n",
       "2003-01-07    7.43  21.93  28.95\n",
       "2003-01-08    7.28  21.31  28.83\n",
       "...            ...    ...    ...\n",
       "2011-10-10  388.81  26.94  76.28\n",
       "2011-10-11  400.29  27.00  76.27\n",
       "2011-10-12  402.19  26.96  77.16\n",
       "2011-10-13  408.43  27.18  76.37\n",
       "2011-10-14  422.00  27.27  78.11\n",
       "\n",
       "[2292 rows x 3 columns]"
      ]
     },
     "execution_count": 212,
     "metadata": {},
     "output_type": "execute_result"
    }
   ],
   "source": [
    "#'B'->business day\n",
    "close_px = close_px.resample('B').ffill()\n",
    "close_px"
   ]
  },
  {
   "cell_type": "code",
   "execution_count": 221,
   "id": "20f0b700",
   "metadata": {},
   "outputs": [
    {
     "data": {
      "image/png": "[encoded data removed]",
      "text/plain": [
       "<Figure size 640x480 with 1 Axes>"
      ]
     },
     "metadata": {},
     "output_type": "display_data"
    }
   ],
   "source": [
    "import matplotlib.pyplot as plt\n",
    "figure = plt.figure()\n",
    "axes=figure.add_subplot(1,1,1)\n",
    "close_px.AAPL.plot(ax=axes)\n",
    "close_px.AAPL.rolling(100).mean().plot(ax=axes)\n",
    "plt.show()\n"
   ]
  },
  {
   "cell_type": "code",
   "execution_count": 214,
   "id": "c05ad274",
   "metadata": {},
   "outputs": [
    {
     "data": {
      "text/plain": [
       "<Axes: >"
      ]
     },
     "execution_count": 214,
     "metadata": {},
     "output_type": "execute_result"
    },
    {
     "data": {
      "image/png": "[encoded data removed]",
      "text/plain": [
       "<Figure size 640x480 with 1 Axes>"
      ]
     },
     "metadata": {},
     "output_type": "display_data"
    }
   ],
   "source": [
    "figure = plt.figure()\n",
    "axes=figure.add_subplot(1,1,1)\n",
    "close_px.AAPL.rolling(100).mean().plot(ax=axes) #rolling滾動計算100天的平均,rolling是為了讓線條比較平滑,rolling()就是groupby()"
   ]
  },
  {
   "cell_type": "code",
   "execution_count": 215,
   "id": "8a5604da",
   "metadata": {},
   "outputs": [
    {
     "data": {
      "text/plain": [
       "2003-01-02       NaN\n",
       "2003-01-03       NaN\n",
       "2003-01-06       NaN\n",
       "2003-01-07       NaN\n",
       "2003-01-08       NaN\n",
       "               ...  \n",
       "2003-12-11       NaN\n",
       "2003-12-12       NaN\n",
       "2003-12-15       NaN\n",
       "2003-12-16       NaN\n",
       "2003-12-17    9.2234\n",
       "Freq: B, Name: AAPL, Length: 250, dtype: float64"
      ]
     },
     "execution_count": 215,
     "metadata": {},
     "output_type": "execute_result"
    }
   ],
   "source": [
    "close_px.AAPL.rolling(250).mean()[:250] #使用rolling()前面250筆會變成None"
   ]
  },
  {
   "cell_type": "code",
   "execution_count": 216,
   "id": "6fa7b770",
   "metadata": {},
   "outputs": [
    {
     "data": {
      "text/plain": [
       "2003-01-02         NaN\n",
       "2003-01-03         NaN\n",
       "2003-01-06         NaN\n",
       "2003-01-07         NaN\n",
       "2003-01-08         NaN\n",
       "2003-01-09         NaN\n",
       "2003-01-10         NaN\n",
       "2003-01-13         NaN\n",
       "2003-01-14         NaN\n",
       "2003-01-15    7.355000\n",
       "2003-01-16    7.350909\n",
       "2003-01-17    7.325833\n",
       "2003-01-20    7.304615\n",
       "2003-01-21    7.283571\n",
       "2003-01-22    7.260667\n",
       "2003-01-23    7.250000\n",
       "2003-01-24    7.229412\n",
       "2003-01-27    7.220556\n",
       "2003-01-28    7.224211\n",
       "2003-01-29    7.236500\n",
       "Freq: B, Name: AAPL, dtype: float64"
      ]
     },
     "execution_count": 216,
     "metadata": {},
     "output_type": "execute_result"
    }
   ],
   "source": [
    "close_px.AAPL.rolling(250,min_periods=10).mean()[:20] #使用min_periods會讓前面的None比較少"
   ]
  },
  {
   "cell_type": "code",
   "execution_count": 217,
   "id": "7bd4172c",
   "metadata": {},
   "outputs": [
    {
     "data": {
      "text/plain": [
       "2003-01-09         NaN\n",
       "2003-01-10         NaN\n",
       "2003-01-13         NaN\n",
       "2003-01-14         NaN\n",
       "2003-01-15    0.077496\n",
       "2003-01-16    0.074760\n",
       "2003-01-17    0.112368\n",
       "Freq: B, Name: AAPL, dtype: float64"
      ]
     },
     "execution_count": 217,
     "metadata": {},
     "output_type": "execute_result"
    }
   ],
   "source": [
    "apple_std250 = close_px.AAPL.rolling(250,min_periods=10).std()\n",
    "apple_std250[5:12]"
   ]
  },
  {
   "cell_type": "code",
   "execution_count": 218,
   "id": "a71e79ca",
   "metadata": {},
   "outputs": [
    {
     "data": {
      "text/plain": [
       "<Axes: >"
      ]
     },
     "execution_count": 218,
     "metadata": {},
     "output_type": "execute_result"
    },
    {
     "data": {
      "image/png": "[encoded data removed]",
      "text/plain": [
       "<Figure size 640x480 with 1 Axes>"
      ]
     },
     "metadata": {},
     "output_type": "display_data"
    }
   ],
   "source": [
    "figure = plt.figure()\n",
    "axes=figure.add_subplot(1,1,1)\n",
    "apple_std250.plot(ax=axes) #下圖解釋為每250天的平均差"
   ]
  },
  {
   "cell_type": "code",
   "execution_count": 219,
   "id": "9a754913",
   "metadata": {},
   "outputs": [
    {
     "data": {
      "text/plain": [
       "<Axes: >"
      ]
     },
     "execution_count": 219,
     "metadata": {},
     "output_type": "execute_result"
    },
    {
     "data": {
      "image/png": "[encoded data removed]",
      "text/plain": [
       "<Figure size 640x480 with 1 Axes>"
      ]
     },
     "metadata": {},
     "output_type": "display_data"
    }
   ],
   "source": [
    "figure = plt.figure()\n",
    "axes=figure.add_subplot(1,1,1)\n",
    "close_px.rolling(60).mean().plot(ax=axes) #每60天的平均"
   ]
  },
  {
   "cell_type": "code",
   "execution_count": 220,
   "id": "55b3bdeb",
   "metadata": {},
   "outputs": [
    {
     "data": {
      "text/plain": [
       "<Axes: >"
      ]
     },
     "execution_count": 220,
     "metadata": {},
     "output_type": "execute_result"
    },
    {
     "data": {
      "image/png": "[encoded data removed]",
      "text/plain": [
       "<Figure size 640x480 with 1 Axes>"
      ]
     },
     "metadata": {},
     "output_type": "display_data"
    }
   ],
   "source": [
    "figure = plt.figure()\n",
    "axes=figure.add_subplot(1,1,1)\n",
    "close_px['2003':'2005'].rolling(30).mean().plot(ax=axes)"
   ]
  }
 ],
 "metadata": {
  "kernelspec": {
   "display_name": "Python 3 (ipykernel)",
   "language": "python",
   "name": "python3"
  },
  "language_info": {
   "codemirror_mode": {
    "name": "ipython",
    "version": 3
   },
   "file_extension": ".py",
   "mimetype": "text/x-python",
   "name": "python",
   "nbconvert_exporter": "python",
   "pygments_lexer": "ipython3",
   "version": "3.10.12"
  }
 },
 "nbformat": 4,
 "nbformat_minor": 5
}

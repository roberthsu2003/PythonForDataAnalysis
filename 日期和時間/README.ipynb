{
 "cells": [
  {
   "cell_type": "markdown",
   "id": "fda7d871",
   "metadata": {},
   "source": [
    "## 時間處理(Time Series)\n",
    "\n",
    "- 時間戳記(timestamp)\n",
    "- 固定時間(2021-1-1,2021-1,2021)\n",
    "- 一段時間(起始-結束)"
   ]
  },
  {
   "cell_type": "markdown",
   "id": "8a2b78d6",
   "metadata": {},
   "source": [
    "### Date and Time Data Types\n",
    "\n",
    "- python提供內建3種module處理時間datatime,time,calendar"
   ]
  },
  {
   "cell_type": "code",
   "execution_count": 5,
   "id": "9e60ae68",
   "metadata": {},
   "outputs": [
    {
     "data": {
      "text/plain": [
       "datetime.datetime(2022, 6, 6, 8, 28, 8, 942807)"
      ]
     },
     "execution_count": 5,
     "metadata": {},
     "output_type": "execute_result"
    }
   ],
   "source": [
    "from datetime import datetime\n",
    "now = datetime.now()\n",
    "now"
   ]
  },
  {
   "cell_type": "code",
   "execution_count": 6,
   "id": "cff1ae0c",
   "metadata": {},
   "outputs": [
    {
     "data": {
      "text/plain": [
       "(2022, 6, 6)"
      ]
     },
     "execution_count": 6,
     "metadata": {},
     "output_type": "execute_result"
    }
   ],
   "source": [
    "now.year, now.month, now.day"
   ]
  },
  {
   "cell_type": "markdown",
   "id": "c3358dd3",
   "metadata": {},
   "source": [
    "- datetime.timedelta 是提供儲存一段時間的類型"
   ]
  },
  {
   "cell_type": "code",
   "execution_count": 7,
   "id": "79d0a2ae",
   "metadata": {},
   "outputs": [
    {
     "data": {
      "text/plain": [
       "datetime.timedelta(days=2023, seconds=56700)"
      ]
     },
     "execution_count": 7,
     "metadata": {},
     "output_type": "execute_result"
    }
   ],
   "source": [
    "delta = datetime(2017,1,7) - datetime(2011, 6, 24, 8, 15)\n",
    "delta"
   ]
  },
  {
   "cell_type": "code",
   "execution_count": 8,
   "id": "6971156e",
   "metadata": {},
   "outputs": [
    {
     "data": {
      "text/plain": [
       "(2023, 56700)"
      ]
     },
     "execution_count": 8,
     "metadata": {},
     "output_type": "execute_result"
    }
   ],
   "source": [
    "delta.days, delta.seconds"
   ]
  },
  {
   "cell_type": "markdown",
   "id": "0a67672b",
   "metadata": {},
   "source": [
    " - 可以使用datatime和timedelta的數學運算來增加或減少時間"
   ]
  },
  {
   "cell_type": "code",
   "execution_count": 9,
   "id": "e2ae80a5",
   "metadata": {},
   "outputs": [
    {
     "data": {
      "text/plain": [
       "datetime.datetime(2011, 1, 19, 0, 0)"
      ]
     },
     "execution_count": 9,
     "metadata": {},
     "output_type": "execute_result"
    }
   ],
   "source": [
    "from datetime import timedelta\n",
    "start = datetime(2011, 1, 7)\n",
    "start + timedelta(12)"
   ]
  },
  {
   "cell_type": "code",
   "execution_count": 10,
   "id": "fd24151e",
   "metadata": {},
   "outputs": [
    {
     "data": {
      "text/plain": [
       "datetime.datetime(2010, 12, 14, 0, 0)"
      ]
     },
     "execution_count": 10,
     "metadata": {},
     "output_type": "execute_result"
    }
   ],
   "source": [
    "start - 2 * timedelta(12)"
   ]
  },
  {
   "cell_type": "markdown",
   "id": "c88a08b7",
   "metadata": {},
   "source": [
    "### 字串和Datatime之間的轉換\n",
    "\n",
    "#### 使用str(),datetime的方法strftime(),將時間轉成字串\n",
    "\n",
    "%Y -> Four-digit year\n",
    "\n",
    "%y -> Two-digit year\n",
    "\n",
    "%m -> Two-digit month [01, 12] \n",
    "\n",
    "%d -> Two-digit day [01, 31]\n",
    "\n",
    "%H -> Hour (24-hour clock) [00, 23]\n",
    "\n",
    "%I -> Hour (12-hour clock) [01, 12]\n",
    "\n",
    "%M Two-digit minute [00, 59]\n",
    "\n",
    "%S Second [00, 61] (seconds 60, 61 account for leap seconds) \n",
    "\n",
    "%w Weekday as integer [0 (Sunday), 6]\n"
   ]
  },
  {
   "cell_type": "code",
   "execution_count": 11,
   "id": "2724322b",
   "metadata": {},
   "outputs": [
    {
     "data": {
      "text/plain": [
       "('2011-01-03 00:00:00', '2011-01-03')"
      ]
     },
     "execution_count": 11,
     "metadata": {},
     "output_type": "execute_result"
    }
   ],
   "source": [
    "stamp = datetime(2011, 1, 3)\n",
    "str(stamp) , stamp.strftime(\"%Y-%m-%d\")"
   ]
  },
  {
   "cell_type": "markdown",
   "id": "afa81a83",
   "metadata": {},
   "source": [
    "### 將字串轉成時間(datetime.strptime())"
   ]
  },
  {
   "cell_type": "code",
   "execution_count": 12,
   "id": "ac974928",
   "metadata": {},
   "outputs": [
    {
     "data": {
      "text/plain": [
       "datetime.datetime(2011, 3, 1, 0, 0)"
      ]
     },
     "execution_count": 12,
     "metadata": {},
     "output_type": "execute_result"
    }
   ],
   "source": [
    "value = '2011-03-01'\n",
    "datetime.strptime(value, \"%Y-%m-%d\")"
   ]
  },
  {
   "cell_type": "code",
   "execution_count": 13,
   "id": "1de633b7",
   "metadata": {},
   "outputs": [
    {
     "data": {
      "text/plain": [
       "[datetime.datetime(2011, 7, 6, 0, 0), datetime.datetime(2011, 8, 6, 0, 0)]"
      ]
     },
     "execution_count": 13,
     "metadata": {},
     "output_type": "execute_result"
    }
   ],
   "source": [
    "datestrs = ['7/6/2011', '8/6/2011']\n",
    "[datetime.strptime(x,'%m/%d/%Y') for x in datestrs]"
   ]
  },
  {
   "cell_type": "markdown",
   "id": "968e351b",
   "metadata": {},
   "source": [
    "datatime.strptime()非常好使用，但每次要指定格式也是非常麻煩，可以使用第3方套件dateutil的parse方法\n",
    "\n",
    "- pip install python-dateutil"
   ]
  },
  {
   "cell_type": "code",
   "execution_count": 14,
   "id": "6e17c34f",
   "metadata": {},
   "outputs": [
    {
     "data": {
      "text/plain": [
       "(datetime.datetime(2011, 1, 3, 0, 0), datetime.datetime(1997, 1, 31, 22, 15))"
      ]
     },
     "execution_count": 14,
     "metadata": {},
     "output_type": "execute_result"
    }
   ],
   "source": [
    "from dateutil.parser import parse\n",
    "\n",
    "parse('2011-01-03') , parse('Jan 31, 1997 10:15 PM')"
   ]
  },
  {
   "cell_type": "markdown",
   "id": "3382ad59",
   "metadata": {},
   "source": [
    "- 在國際上有時會日期放在前方，只要設定dayfirst=True來指示"
   ]
  },
  {
   "cell_type": "code",
   "execution_count": 15,
   "id": "f2805f2d",
   "metadata": {},
   "outputs": [
    {
     "data": {
      "text/plain": [
       "datetime.datetime(2011, 12, 6, 0, 0)"
      ]
     },
     "execution_count": 15,
     "metadata": {},
     "output_type": "execute_result"
    }
   ],
   "source": [
    "parse('6/12/2011',dayfirst=True)"
   ]
  },
  {
   "cell_type": "markdown",
   "id": "f4ad1fff",
   "metadata": {},
   "source": [
    "#### pandas提供to_datetime方法，快速將包含時間字串(ISO8601)的list轉換為DatetimeIndex"
   ]
  },
  {
   "cell_type": "code",
   "execution_count": 16,
   "id": "9e566bff",
   "metadata": {},
   "outputs": [
    {
     "data": {
      "text/plain": [
       "DatetimeIndex(['2011-07-06 12:00:00', '2011-08-06 00:00:00'], dtype='datetime64[ns]', freq=None)"
      ]
     },
     "execution_count": 16,
     "metadata": {},
     "output_type": "execute_result"
    }
   ],
   "source": [
    "import pandas as pd\n",
    "\n",
    "datestrs = ['2011-07-06 12:00:00', '2011-08-06 00:00:00']\n",
    "pd.to_datetime(datestrs)\n",
    "            "
   ]
  },
  {
   "cell_type": "markdown",
   "id": "76539ed8",
   "metadata": {},
   "source": [
    "### Time Series的基礎操作\n",
    "\n",
    "- 最常使用的是將Time Series常作index\n",
    "- 建立Time Series時使用的是datetime物件或str"
   ]
  },
  {
   "cell_type": "code",
   "execution_count": 17,
   "id": "d5a28807",
   "metadata": {},
   "outputs": [
    {
     "data": {
      "text/plain": [
       "2021-01-02   -0.073071\n",
       "2021-01-05   -1.628603\n",
       "2021-01-09    0.515068\n",
       "2021-01-13   -0.126277\n",
       "2021-01-21    0.553736\n",
       "dtype: float64"
      ]
     },
     "execution_count": 17,
     "metadata": {},
     "output_type": "execute_result"
    }
   ],
   "source": [
    "#將datetime放入list內\n",
    "import numpy as np\n",
    "import pandas as pd\n",
    "from datetime import datetime\n",
    "\n",
    "dates = [datetime(2021,1,2),\n",
    "         datetime(2021,1,5),\n",
    "         datetime(2021,1,9),\n",
    "         datetime(2021,1,13),\n",
    "         datetime(2021,1,21)]\n",
    "ts = pd.Series(np.random.randn(5),index=dates)\n",
    "ts"
   ]
  },
  {
   "cell_type": "code",
   "execution_count": 18,
   "id": "665a8e99",
   "metadata": {},
   "outputs": [
    {
     "data": {
      "text/plain": [
       "DatetimeIndex(['2021-01-02', '2021-01-05', '2021-01-09', '2021-01-13',\n",
       "               '2021-01-21'],\n",
       "              dtype='datetime64[ns]', freq=None)"
      ]
     },
     "execution_count": 18,
     "metadata": {},
     "output_type": "execute_result"
    }
   ],
   "source": [
    "#DatetimeIndex\n",
    "ts.index"
   ]
  },
  {
   "cell_type": "markdown",
   "id": "181df716",
   "metadata": {},
   "source": [
    "### 時間當作索引時,數學運算是使用有相同索引的內容相運算"
   ]
  },
  {
   "cell_type": "code",
   "execution_count": 19,
   "id": "ba5efa82",
   "metadata": {},
   "outputs": [
    {
     "data": {
      "text/plain": [
       "2021-01-02   -0.073071\n",
       "2021-01-09    0.515068\n",
       "2021-01-21    0.553736\n",
       "dtype: float64"
      ]
     },
     "execution_count": 19,
     "metadata": {},
     "output_type": "execute_result"
    }
   ],
   "source": [
    "ts[::2]"
   ]
  },
  {
   "cell_type": "code",
   "execution_count": 20,
   "id": "408dcfeb",
   "metadata": {},
   "outputs": [
    {
     "data": {
      "text/plain": [
       "2021-01-02   -0.146142\n",
       "2021-01-05         NaN\n",
       "2021-01-09    1.030135\n",
       "2021-01-13         NaN\n",
       "2021-01-21    1.107472\n",
       "dtype: float64"
      ]
     },
     "execution_count": 20,
     "metadata": {},
     "output_type": "execute_result"
    }
   ],
   "source": [
    "ts + ts[::2]"
   ]
  },
  {
   "cell_type": "markdown",
   "id": "246f017f",
   "metadata": {},
   "source": [
    "### pandas內取出的時間物件是pandas內的Timestamp物件"
   ]
  },
  {
   "cell_type": "code",
   "execution_count": 21,
   "id": "330f26ee",
   "metadata": {},
   "outputs": [
    {
     "data": {
      "text/plain": [
       "pandas._libs.tslibs.timestamps.Timestamp"
      ]
     },
     "execution_count": 21,
     "metadata": {},
     "output_type": "execute_result"
    }
   ],
   "source": [
    "stamp = ts.index[0]\n",
    "stamp.__class__"
   ]
  },
  {
   "cell_type": "markdown",
   "id": "d1e7a69a",
   "metadata": {},
   "source": [
    "### pandas的Timestamp物件的操作相似於datetime.datetime"
   ]
  },
  {
   "cell_type": "code",
   "execution_count": 22,
   "id": "c0320023",
   "metadata": {},
   "outputs": [
    {
     "data": {
      "text/plain": [
       "(Timestamp('2021-01-02 00:00:00'), 2021, 2, 0, 0, 0)"
      ]
     },
     "execution_count": 22,
     "metadata": {},
     "output_type": "execute_result"
    }
   ],
   "source": [
    "stamp = ts.index[0]\n",
    "stamp, stamp.year, stamp.day, stamp.hour, stamp.minute, stamp.second"
   ]
  },
  {
   "cell_type": "code",
   "execution_count": 23,
   "id": "3e808df4",
   "metadata": {},
   "outputs": [
    {
     "data": {
      "text/plain": [
       "'2021-01-02 00:00:00'"
      ]
     },
     "execution_count": 23,
     "metadata": {},
     "output_type": "execute_result"
    }
   ],
   "source": [
    "stamp.strftime('%Y-%m-%d %X')"
   ]
  },
  {
   "cell_type": "markdown",
   "id": "08d686da",
   "metadata": {},
   "source": [
    "### Indexing, Slection, Subsetting"
   ]
  },
  {
   "cell_type": "code",
   "execution_count": 24,
   "id": "9d6d0a91",
   "metadata": {},
   "outputs": [
    {
     "data": {
      "text/plain": [
       "2021-01-02   -0.073071\n",
       "2021-01-05   -1.628603\n",
       "2021-01-09    0.515068\n",
       "2021-01-13   -0.126277\n",
       "2021-01-21    0.553736\n",
       "dtype: float64"
      ]
     },
     "execution_count": 24,
     "metadata": {},
     "output_type": "execute_result"
    }
   ],
   "source": [
    "ts"
   ]
  },
  {
   "cell_type": "code",
   "execution_count": 25,
   "id": "757cab2e",
   "metadata": {},
   "outputs": [
    {
     "data": {
      "text/plain": [
       "0.5150675275364429"
      ]
     },
     "execution_count": 25,
     "metadata": {},
     "output_type": "execute_result"
    }
   ],
   "source": [
    "#Timestamp當作索引\n",
    "\n",
    "stamp=ts.index[2]\n",
    "ts[stamp]"
   ]
  },
  {
   "cell_type": "markdown",
   "id": "1c92b4cd",
   "metadata": {},
   "source": [
    "### 做用時間字串會被解譯成datetime物件"
   ]
  },
  {
   "cell_type": "code",
   "execution_count": 26,
   "id": "1117012b",
   "metadata": {},
   "outputs": [
    {
     "data": {
      "text/plain": [
       "(-0.07307085387608445, -0.07307085387608445, -0.07307085387608445)"
      ]
     },
     "execution_count": 26,
     "metadata": {},
     "output_type": "execute_result"
    }
   ],
   "source": [
    "#時間字串當作索引\n",
    "ts['2021-01-02'], ts['1/2/2021'], ts['20210102']"
   ]
  },
  {
   "cell_type": "markdown",
   "id": "f9c5fff4",
   "metadata": {},
   "source": [
    "### 自行建立有DateTime的索引\n",
    "### 使用pd.date_range()建立長的Time Series "
   ]
  },
  {
   "cell_type": "code",
   "execution_count": 27,
   "id": "a3f88a78",
   "metadata": {},
   "outputs": [
    {
     "data": {
      "text/plain": [
       "2019-01-01   -0.992375\n",
       "2019-01-02    0.107719\n",
       "2019-01-03    0.662798\n",
       "2019-01-04    1.750567\n",
       "2019-01-05    0.800404\n",
       "                ...   \n",
       "2021-09-22    0.439032\n",
       "2021-09-23   -0.036940\n",
       "2021-09-24   -0.672778\n",
       "2021-09-25   -1.251773\n",
       "2021-09-26    0.483093\n",
       "Freq: D, Length: 1000, dtype: float64"
      ]
     },
     "execution_count": 27,
     "metadata": {},
     "output_type": "execute_result"
    }
   ],
   "source": [
    "#使用pd.date_range()建立長的Time Series \n",
    "longer_ts = pd.Series(np.random.randn(1000),\n",
    "                      index=pd.date_range('1/1/2019',periods=1000))\n",
    "longer_ts"
   ]
  },
  {
   "cell_type": "code",
   "execution_count": 28,
   "id": "b9667087",
   "metadata": {},
   "outputs": [
    {
     "data": {
      "text/plain": [
       "2019-01-01   -0.992375\n",
       "2019-01-02    0.107719\n",
       "2019-01-03    0.662798\n",
       "2019-01-04    1.750567\n",
       "2019-01-05    0.800404\n",
       "                ...   \n",
       "2019-12-27    0.256428\n",
       "2019-12-28    1.219142\n",
       "2019-12-29   -1.641535\n",
       "2019-12-30    1.211676\n",
       "2019-12-31   -1.289542\n",
       "Freq: D, Length: 365, dtype: float64"
      ]
     },
     "execution_count": 28,
     "metadata": {},
     "output_type": "execute_result"
    }
   ],
   "source": [
    "#只索引年份,會索引出所有該年份的row\n",
    "longer_ts['2019']"
   ]
  },
  {
   "cell_type": "code",
   "execution_count": 29,
   "id": "3caabb68",
   "metadata": {},
   "outputs": [
    {
     "data": {
      "text/plain": [
       "2019-05-01   -0.952350\n",
       "2019-05-02    0.613118\n",
       "2019-05-03    0.838834\n",
       "2019-05-04    0.009050\n",
       "2019-05-05   -1.003858\n",
       "2019-05-06   -0.584866\n",
       "2019-05-07    0.456657\n",
       "2019-05-08    0.933637\n",
       "2019-05-09    0.134790\n",
       "2019-05-10   -1.164979\n",
       "2019-05-11   -0.048306\n",
       "2019-05-12   -0.087895\n",
       "2019-05-13    2.783338\n",
       "2019-05-14   -0.478908\n",
       "2019-05-15    0.376610\n",
       "2019-05-16   -0.695515\n",
       "2019-05-17   -0.276283\n",
       "2019-05-18    0.305712\n",
       "2019-05-19   -0.621387\n",
       "2019-05-20   -1.853986\n",
       "2019-05-21   -0.328761\n",
       "2019-05-22    1.730500\n",
       "2019-05-23   -0.233899\n",
       "2019-05-24    0.488447\n",
       "2019-05-25   -0.773623\n",
       "2019-05-26   -0.454064\n",
       "2019-05-27    0.642822\n",
       "2019-05-28    1.150563\n",
       "2019-05-29    0.153022\n",
       "2019-05-30    1.007022\n",
       "2019-05-31    0.789760\n",
       "Freq: D, dtype: float64"
      ]
     },
     "execution_count": 29,
     "metadata": {},
     "output_type": "execute_result"
    }
   ],
   "source": [
    "#只索引年份和月份\n",
    "longer_ts['2019-05']"
   ]
  },
  {
   "cell_type": "markdown",
   "id": "b9bbb0d6",
   "metadata": {},
   "source": [
    "### 也可以使用datetime物件"
   ]
  },
  {
   "cell_type": "code",
   "execution_count": 30,
   "id": "6195de1d",
   "metadata": {},
   "outputs": [
    {
     "data": {
      "text/plain": [
       "2021-01-01   -0.228521\n",
       "2021-01-02    1.166953\n",
       "2021-01-03    0.144106\n",
       "2021-01-04   -0.618532\n",
       "2021-01-05    0.519660\n",
       "                ...   \n",
       "2021-09-22    0.439032\n",
       "2021-09-23   -0.036940\n",
       "2021-09-24   -0.672778\n",
       "2021-09-25   -1.251773\n",
       "2021-09-26    0.483093\n",
       "Freq: D, Length: 269, dtype: float64"
      ]
     },
     "execution_count": 30,
     "metadata": {},
     "output_type": "execute_result"
    }
   ],
   "source": [
    "#使用slicing\n",
    "longer_ts[datetime(2021,1,1):]"
   ]
  },
  {
   "cell_type": "markdown",
   "id": "6932a504",
   "metadata": {},
   "source": [
    "### 注意不管是indexing還是slicing,全部是view,而不是copy新的一份,會更改到原始值"
   ]
  },
  {
   "cell_type": "code",
   "execution_count": 31,
   "id": "16794c0d",
   "metadata": {},
   "outputs": [
    {
     "data": {
      "text/plain": [
       "2021-01-01   -0.228521\n",
       "2021-01-02    1.166953\n",
       "2021-01-03    0.144106\n",
       "2021-01-04   -0.618532\n",
       "2021-01-05    0.519660\n",
       "                ...   \n",
       "2021-03-27   -2.551099\n",
       "2021-03-28   -0.694370\n",
       "2021-03-29    0.329660\n",
       "2021-03-30   -1.154491\n",
       "2021-03-31    0.626981\n",
       "Freq: D, Length: 90, dtype: float64"
      ]
     },
     "execution_count": 31,
     "metadata": {},
     "output_type": "execute_result"
    }
   ],
   "source": [
    "longer_ts['2021-1-1':'2021-3-31']"
   ]
  },
  {
   "cell_type": "code",
   "execution_count": 32,
   "id": "cd1332a5",
   "metadata": {},
   "outputs": [
    {
     "data": {
      "text/html": [
       "<div>\n",
       "<style scoped>\n",
       "    .dataframe tbody tr th:only-of-type {\n",
       "        vertical-align: middle;\n",
       "    }\n",
       "\n",
       "    .dataframe tbody tr th {\n",
       "        vertical-align: top;\n",
       "    }\n",
       "\n",
       "    .dataframe thead th {\n",
       "        text-align: right;\n",
       "    }\n",
       "</style>\n",
       "<table border=\"1\" class=\"dataframe\">\n",
       "  <thead>\n",
       "    <tr style=\"text-align: right;\">\n",
       "      <th></th>\n",
       "      <th>台北</th>\n",
       "      <th>台中</th>\n",
       "      <th>高雄</th>\n",
       "      <th>花蓮</th>\n",
       "    </tr>\n",
       "  </thead>\n",
       "  <tbody>\n",
       "    <tr>\n",
       "      <th>2021-01-01</th>\n",
       "      <td>0.526095</td>\n",
       "      <td>-0.535839</td>\n",
       "      <td>0.855063</td>\n",
       "      <td>-0.708683</td>\n",
       "    </tr>\n",
       "    <tr>\n",
       "      <th>2021-01-02</th>\n",
       "      <td>-3.284432</td>\n",
       "      <td>0.978665</td>\n",
       "      <td>2.023819</td>\n",
       "      <td>-1.930048</td>\n",
       "    </tr>\n",
       "    <tr>\n",
       "      <th>2021-01-03</th>\n",
       "      <td>0.317866</td>\n",
       "      <td>-1.241692</td>\n",
       "      <td>1.145685</td>\n",
       "      <td>0.275194</td>\n",
       "    </tr>\n",
       "    <tr>\n",
       "      <th>2021-01-04</th>\n",
       "      <td>-1.403687</td>\n",
       "      <td>-0.018486</td>\n",
       "      <td>0.674571</td>\n",
       "      <td>-0.878834</td>\n",
       "    </tr>\n",
       "    <tr>\n",
       "      <th>2021-01-05</th>\n",
       "      <td>1.119188</td>\n",
       "      <td>0.680342</td>\n",
       "      <td>0.179705</td>\n",
       "      <td>0.589225</td>\n",
       "    </tr>\n",
       "    <tr>\n",
       "      <th>...</th>\n",
       "      <td>...</td>\n",
       "      <td>...</td>\n",
       "      <td>...</td>\n",
       "      <td>...</td>\n",
       "    </tr>\n",
       "    <tr>\n",
       "      <th>2021-04-06</th>\n",
       "      <td>0.021030</td>\n",
       "      <td>-0.958819</td>\n",
       "      <td>-1.766055</td>\n",
       "      <td>1.250994</td>\n",
       "    </tr>\n",
       "    <tr>\n",
       "      <th>2021-04-07</th>\n",
       "      <td>2.345542</td>\n",
       "      <td>0.105510</td>\n",
       "      <td>-1.852041</td>\n",
       "      <td>-0.284437</td>\n",
       "    </tr>\n",
       "    <tr>\n",
       "      <th>2021-04-08</th>\n",
       "      <td>-0.277838</td>\n",
       "      <td>-0.351783</td>\n",
       "      <td>-1.778452</td>\n",
       "      <td>0.097637</td>\n",
       "    </tr>\n",
       "    <tr>\n",
       "      <th>2021-04-09</th>\n",
       "      <td>-0.196532</td>\n",
       "      <td>1.296747</td>\n",
       "      <td>1.216853</td>\n",
       "      <td>-1.271480</td>\n",
       "    </tr>\n",
       "    <tr>\n",
       "      <th>2021-04-10</th>\n",
       "      <td>-0.148617</td>\n",
       "      <td>-0.613017</td>\n",
       "      <td>1.216396</td>\n",
       "      <td>-0.426834</td>\n",
       "    </tr>\n",
       "  </tbody>\n",
       "</table>\n",
       "<p>100 rows × 4 columns</p>\n",
       "</div>"
      ],
      "text/plain": [
       "                  台北        台中        高雄        花蓮\n",
       "2021-01-01  0.526095 -0.535839  0.855063 -0.708683\n",
       "2021-01-02 -3.284432  0.978665  2.023819 -1.930048\n",
       "2021-01-03  0.317866 -1.241692  1.145685  0.275194\n",
       "2021-01-04 -1.403687 -0.018486  0.674571 -0.878834\n",
       "2021-01-05  1.119188  0.680342  0.179705  0.589225\n",
       "...              ...       ...       ...       ...\n",
       "2021-04-06  0.021030 -0.958819 -1.766055  1.250994\n",
       "2021-04-07  2.345542  0.105510 -1.852041 -0.284437\n",
       "2021-04-08 -0.277838 -0.351783 -1.778452  0.097637\n",
       "2021-04-09 -0.196532  1.296747  1.216853 -1.271480\n",
       "2021-04-10 -0.148617 -0.613017  1.216396 -0.426834\n",
       "\n",
       "[100 rows x 4 columns]"
      ]
     },
     "execution_count": 32,
     "metadata": {},
     "output_type": "execute_result"
    }
   ],
   "source": [
    "#DataFrame\n",
    "dates = pd.date_range('1/1/2021',periods=100)\n",
    "long_df = pd.DataFrame(np.random.randn(100,4),\n",
    "                      index = dates,\n",
    "                      columns = ['台北','台中','高雄','花蓮'])\n",
    "long_df"
   ]
  },
  {
   "cell_type": "code",
   "execution_count": 33,
   "id": "16ea5e57",
   "metadata": {},
   "outputs": [
    {
     "data": {
      "text/html": [
       "<div>\n",
       "<style scoped>\n",
       "    .dataframe tbody tr th:only-of-type {\n",
       "        vertical-align: middle;\n",
       "    }\n",
       "\n",
       "    .dataframe tbody tr th {\n",
       "        vertical-align: top;\n",
       "    }\n",
       "\n",
       "    .dataframe thead th {\n",
       "        text-align: right;\n",
       "    }\n",
       "</style>\n",
       "<table border=\"1\" class=\"dataframe\">\n",
       "  <thead>\n",
       "    <tr style=\"text-align: right;\">\n",
       "      <th></th>\n",
       "      <th>台北</th>\n",
       "      <th>台中</th>\n",
       "      <th>高雄</th>\n",
       "      <th>花蓮</th>\n",
       "    </tr>\n",
       "  </thead>\n",
       "  <tbody>\n",
       "    <tr>\n",
       "      <th>2021-03-01</th>\n",
       "      <td>-0.125379</td>\n",
       "      <td>0.723645</td>\n",
       "      <td>-1.039961</td>\n",
       "      <td>-0.443801</td>\n",
       "    </tr>\n",
       "    <tr>\n",
       "      <th>2021-03-02</th>\n",
       "      <td>-0.114237</td>\n",
       "      <td>-1.120320</td>\n",
       "      <td>0.834483</td>\n",
       "      <td>-0.885030</td>\n",
       "    </tr>\n",
       "    <tr>\n",
       "      <th>2021-03-03</th>\n",
       "      <td>0.226344</td>\n",
       "      <td>0.296428</td>\n",
       "      <td>0.726573</td>\n",
       "      <td>-2.353661</td>\n",
       "    </tr>\n",
       "    <tr>\n",
       "      <th>2021-03-04</th>\n",
       "      <td>1.149472</td>\n",
       "      <td>0.475625</td>\n",
       "      <td>-0.147219</td>\n",
       "      <td>1.177752</td>\n",
       "    </tr>\n",
       "    <tr>\n",
       "      <th>2021-03-05</th>\n",
       "      <td>0.563260</td>\n",
       "      <td>-0.606249</td>\n",
       "      <td>-1.377926</td>\n",
       "      <td>-1.444023</td>\n",
       "    </tr>\n",
       "    <tr>\n",
       "      <th>2021-03-06</th>\n",
       "      <td>1.323103</td>\n",
       "      <td>0.963062</td>\n",
       "      <td>1.326925</td>\n",
       "      <td>0.263765</td>\n",
       "    </tr>\n",
       "    <tr>\n",
       "      <th>2021-03-07</th>\n",
       "      <td>-0.055381</td>\n",
       "      <td>0.164343</td>\n",
       "      <td>0.735230</td>\n",
       "      <td>1.522980</td>\n",
       "    </tr>\n",
       "    <tr>\n",
       "      <th>2021-03-08</th>\n",
       "      <td>-1.003559</td>\n",
       "      <td>0.475715</td>\n",
       "      <td>0.050764</td>\n",
       "      <td>1.580871</td>\n",
       "    </tr>\n",
       "    <tr>\n",
       "      <th>2021-03-09</th>\n",
       "      <td>0.369775</td>\n",
       "      <td>1.586291</td>\n",
       "      <td>-0.453924</td>\n",
       "      <td>-0.612431</td>\n",
       "    </tr>\n",
       "    <tr>\n",
       "      <th>2021-03-10</th>\n",
       "      <td>0.284781</td>\n",
       "      <td>0.616649</td>\n",
       "      <td>0.045489</td>\n",
       "      <td>-1.103632</td>\n",
       "    </tr>\n",
       "    <tr>\n",
       "      <th>2021-03-11</th>\n",
       "      <td>-0.876471</td>\n",
       "      <td>0.136285</td>\n",
       "      <td>-0.995954</td>\n",
       "      <td>1.561476</td>\n",
       "    </tr>\n",
       "    <tr>\n",
       "      <th>2021-03-12</th>\n",
       "      <td>1.328008</td>\n",
       "      <td>-0.663726</td>\n",
       "      <td>-0.489581</td>\n",
       "      <td>1.383407</td>\n",
       "    </tr>\n",
       "    <tr>\n",
       "      <th>2021-03-13</th>\n",
       "      <td>-1.561729</td>\n",
       "      <td>0.543353</td>\n",
       "      <td>1.395040</td>\n",
       "      <td>0.442608</td>\n",
       "    </tr>\n",
       "    <tr>\n",
       "      <th>2021-03-14</th>\n",
       "      <td>0.529848</td>\n",
       "      <td>-1.252069</td>\n",
       "      <td>0.742468</td>\n",
       "      <td>0.364588</td>\n",
       "    </tr>\n",
       "    <tr>\n",
       "      <th>2021-03-15</th>\n",
       "      <td>0.291017</td>\n",
       "      <td>0.545710</td>\n",
       "      <td>1.747621</td>\n",
       "      <td>-0.478680</td>\n",
       "    </tr>\n",
       "    <tr>\n",
       "      <th>2021-03-16</th>\n",
       "      <td>0.612098</td>\n",
       "      <td>-0.954077</td>\n",
       "      <td>-2.784416</td>\n",
       "      <td>2.887900</td>\n",
       "    </tr>\n",
       "    <tr>\n",
       "      <th>2021-03-17</th>\n",
       "      <td>-2.004381</td>\n",
       "      <td>0.245674</td>\n",
       "      <td>0.232635</td>\n",
       "      <td>1.521341</td>\n",
       "    </tr>\n",
       "    <tr>\n",
       "      <th>2021-03-18</th>\n",
       "      <td>0.388222</td>\n",
       "      <td>1.492439</td>\n",
       "      <td>0.259672</td>\n",
       "      <td>-0.269703</td>\n",
       "    </tr>\n",
       "    <tr>\n",
       "      <th>2021-03-19</th>\n",
       "      <td>-0.682293</td>\n",
       "      <td>0.248595</td>\n",
       "      <td>-0.419190</td>\n",
       "      <td>-0.498698</td>\n",
       "    </tr>\n",
       "    <tr>\n",
       "      <th>2021-03-20</th>\n",
       "      <td>0.113592</td>\n",
       "      <td>-0.833651</td>\n",
       "      <td>0.837923</td>\n",
       "      <td>0.542456</td>\n",
       "    </tr>\n",
       "    <tr>\n",
       "      <th>2021-03-21</th>\n",
       "      <td>0.305552</td>\n",
       "      <td>-0.875291</td>\n",
       "      <td>-0.652604</td>\n",
       "      <td>-0.318727</td>\n",
       "    </tr>\n",
       "    <tr>\n",
       "      <th>2021-03-22</th>\n",
       "      <td>1.215514</td>\n",
       "      <td>0.060753</td>\n",
       "      <td>1.160425</td>\n",
       "      <td>1.364785</td>\n",
       "    </tr>\n",
       "    <tr>\n",
       "      <th>2021-03-23</th>\n",
       "      <td>-0.150996</td>\n",
       "      <td>1.065348</td>\n",
       "      <td>-0.822119</td>\n",
       "      <td>0.561954</td>\n",
       "    </tr>\n",
       "    <tr>\n",
       "      <th>2021-03-24</th>\n",
       "      <td>-0.557126</td>\n",
       "      <td>-1.211638</td>\n",
       "      <td>-0.686772</td>\n",
       "      <td>1.167966</td>\n",
       "    </tr>\n",
       "    <tr>\n",
       "      <th>2021-03-25</th>\n",
       "      <td>0.505563</td>\n",
       "      <td>-2.146550</td>\n",
       "      <td>2.197091</td>\n",
       "      <td>0.179536</td>\n",
       "    </tr>\n",
       "    <tr>\n",
       "      <th>2021-03-26</th>\n",
       "      <td>-2.445963</td>\n",
       "      <td>-0.721352</td>\n",
       "      <td>0.423087</td>\n",
       "      <td>0.618917</td>\n",
       "    </tr>\n",
       "    <tr>\n",
       "      <th>2021-03-27</th>\n",
       "      <td>-1.747553</td>\n",
       "      <td>0.232286</td>\n",
       "      <td>0.319836</td>\n",
       "      <td>-1.866453</td>\n",
       "    </tr>\n",
       "    <tr>\n",
       "      <th>2021-03-28</th>\n",
       "      <td>0.010716</td>\n",
       "      <td>0.213886</td>\n",
       "      <td>0.867166</td>\n",
       "      <td>0.972825</td>\n",
       "    </tr>\n",
       "    <tr>\n",
       "      <th>2021-03-29</th>\n",
       "      <td>1.399600</td>\n",
       "      <td>-1.964289</td>\n",
       "      <td>0.341430</td>\n",
       "      <td>-0.462279</td>\n",
       "    </tr>\n",
       "    <tr>\n",
       "      <th>2021-03-30</th>\n",
       "      <td>0.679099</td>\n",
       "      <td>-0.026212</td>\n",
       "      <td>0.108847</td>\n",
       "      <td>1.716988</td>\n",
       "    </tr>\n",
       "    <tr>\n",
       "      <th>2021-03-31</th>\n",
       "      <td>-0.407658</td>\n",
       "      <td>0.588398</td>\n",
       "      <td>1.223956</td>\n",
       "      <td>0.071412</td>\n",
       "    </tr>\n",
       "  </tbody>\n",
       "</table>\n",
       "</div>"
      ],
      "text/plain": [
       "                  台北        台中        高雄        花蓮\n",
       "2021-03-01 -0.125379  0.723645 -1.039961 -0.443801\n",
       "2021-03-02 -0.114237 -1.120320  0.834483 -0.885030\n",
       "2021-03-03  0.226344  0.296428  0.726573 -2.353661\n",
       "2021-03-04  1.149472  0.475625 -0.147219  1.177752\n",
       "2021-03-05  0.563260 -0.606249 -1.377926 -1.444023\n",
       "2021-03-06  1.323103  0.963062  1.326925  0.263765\n",
       "2021-03-07 -0.055381  0.164343  0.735230  1.522980\n",
       "2021-03-08 -1.003559  0.475715  0.050764  1.580871\n",
       "2021-03-09  0.369775  1.586291 -0.453924 -0.612431\n",
       "2021-03-10  0.284781  0.616649  0.045489 -1.103632\n",
       "2021-03-11 -0.876471  0.136285 -0.995954  1.561476\n",
       "2021-03-12  1.328008 -0.663726 -0.489581  1.383407\n",
       "2021-03-13 -1.561729  0.543353  1.395040  0.442608\n",
       "2021-03-14  0.529848 -1.252069  0.742468  0.364588\n",
       "2021-03-15  0.291017  0.545710  1.747621 -0.478680\n",
       "2021-03-16  0.612098 -0.954077 -2.784416  2.887900\n",
       "2021-03-17 -2.004381  0.245674  0.232635  1.521341\n",
       "2021-03-18  0.388222  1.492439  0.259672 -0.269703\n",
       "2021-03-19 -0.682293  0.248595 -0.419190 -0.498698\n",
       "2021-03-20  0.113592 -0.833651  0.837923  0.542456\n",
       "2021-03-21  0.305552 -0.875291 -0.652604 -0.318727\n",
       "2021-03-22  1.215514  0.060753  1.160425  1.364785\n",
       "2021-03-23 -0.150996  1.065348 -0.822119  0.561954\n",
       "2021-03-24 -0.557126 -1.211638 -0.686772  1.167966\n",
       "2021-03-25  0.505563 -2.146550  2.197091  0.179536\n",
       "2021-03-26 -2.445963 -0.721352  0.423087  0.618917\n",
       "2021-03-27 -1.747553  0.232286  0.319836 -1.866453\n",
       "2021-03-28  0.010716  0.213886  0.867166  0.972825\n",
       "2021-03-29  1.399600 -1.964289  0.341430 -0.462279\n",
       "2021-03-30  0.679099 -0.026212  0.108847  1.716988\n",
       "2021-03-31 -0.407658  0.588398  1.223956  0.071412"
      ]
     },
     "execution_count": 33,
     "metadata": {},
     "output_type": "execute_result"
    }
   ],
   "source": [
    "#使用loc\n",
    "long_df.loc['2021-03']"
   ]
  },
  {
   "cell_type": "markdown",
   "id": "5642931b",
   "metadata": {},
   "source": [
    "### 重複的Time Series"
   ]
  },
  {
   "cell_type": "code",
   "execution_count": 34,
   "id": "ecc222e3",
   "metadata": {},
   "outputs": [
    {
     "data": {
      "text/plain": [
       "2021-01-01    0\n",
       "2021-01-02    1\n",
       "2021-01-02    2\n",
       "2021-01-02    3\n",
       "2021-01-03    4\n",
       "dtype: int64"
      ]
     },
     "execution_count": 34,
     "metadata": {},
     "output_type": "execute_result"
    }
   ],
   "source": [
    "dates = pd.DatetimeIndex(['1/1/2021','1/2/2021','1/2/2021','1/2/2021','1/3/2021'])\n",
    "dup_ts = pd.Series(np.arange(5), index=dates)\n",
    "dup_ts"
   ]
  },
  {
   "cell_type": "markdown",
   "id": "703ece31",
   "metadata": {},
   "source": [
    "### 使用is_unique屬性檢查是不是都是唯一值"
   ]
  },
  {
   "cell_type": "code",
   "execution_count": 35,
   "id": "ec3a8a6e",
   "metadata": {},
   "outputs": [
    {
     "data": {
      "text/plain": [
       "False"
      ]
     },
     "execution_count": 35,
     "metadata": {},
     "output_type": "execute_result"
    }
   ],
   "source": [
    "#檢查是否有重覆\n",
    "dup_ts.index.is_unique"
   ]
  },
  {
   "cell_type": "code",
   "execution_count": 36,
   "id": "28ddce7b",
   "metadata": {},
   "outputs": [
    {
     "data": {
      "text/plain": [
       "(4,\n",
       " 2021-01-02    1\n",
       " 2021-01-02    2\n",
       " 2021-01-02    3\n",
       " dtype: int64)"
      ]
     },
     "execution_count": 36,
     "metadata": {},
     "output_type": "execute_result"
    }
   ],
   "source": [
    "dup_ts['1/3/2021'], dup_ts['1/2/2021']"
   ]
  },
  {
   "cell_type": "markdown",
   "id": "2c30abb5",
   "metadata": {},
   "source": [
    "### 檢查DatetimeIndex是否有重覆:\n",
    "- step1:使用groupby(level0)\n",
    "- step2:count()"
   ]
  },
  {
   "cell_type": "code",
   "execution_count": 37,
   "id": "2061033d",
   "metadata": {},
   "outputs": [
    {
     "data": {
      "text/plain": [
       "(2021-01-01    0.0\n",
       " 2021-01-02    2.0\n",
       " 2021-01-03    4.0\n",
       " dtype: float64,\n",
       " 2021-01-01    1\n",
       " 2021-01-02    3\n",
       " 2021-01-03    1\n",
       " dtype: int64)"
      ]
     },
     "execution_count": 37,
     "metadata": {},
     "output_type": "execute_result"
    }
   ],
   "source": [
    "#使用groupby()處理\n",
    "grouped = dup_ts.groupby(level=0)\n",
    "grouped.mean(), grouped.count()"
   ]
  },
  {
   "cell_type": "markdown",
   "id": "9230bd84",
   "metadata": {},
   "source": [
    "## Date Range(時間範圍),Frequencies(頻率),Shifting(上下偏移)\n",
    "一般在pandas的time series被假設為不規則的頻率,然而有時會為了滿足一些應用程式,必需要的是相同頻率的time series,必需額外使用一些pandas time series的工具,將不規則的頻率的轉換為相同頻率"
   ]
  },
  {
   "cell_type": "code",
   "execution_count": 38,
   "id": "b98a506c",
   "metadata": {},
   "outputs": [
    {
     "data": {
      "text/plain": [
       "2021-01-02   -0.133765\n",
       "2021-01-05   -0.953193\n",
       "2021-01-09    0.166497\n",
       "2021-01-13    0.473287\n",
       "2021-01-21   -1.438195\n",
       "dtype: float64"
      ]
     },
     "execution_count": 38,
     "metadata": {},
     "output_type": "execute_result"
    }
   ],
   "source": [
    "import numpy as np\n",
    "import pandas as pd\n",
    "from datetime import datetime\n",
    "\n",
    "dates = [datetime(2021,1,2),\n",
    "         datetime(2021,1,5),\n",
    "         datetime(2021,1,9),\n",
    "         datetime(2021,1,13),\n",
    "         datetime(2021,1,21)]\n",
    "ts = pd.Series(np.random.randn(5),index=dates)\n",
    "ts"
   ]
  },
  {
   "cell_type": "markdown",
   "id": "adc340ff",
   "metadata": {},
   "source": [
    "- 使用resample('D')\n",
    "建立以日為頻率的time series\n",
    "\n",
    "- ffill()\n",
    "填滿沒有資料的索引"
   ]
  },
  {
   "cell_type": "markdown",
   "id": "9b2a8372",
   "metadata": {},
   "source": [
    "### 建立 Date Range的time Series\n",
    "- 使用pd.date_range()"
   ]
  },
  {
   "cell_type": "code",
   "execution_count": 39,
   "id": "4563586f",
   "metadata": {},
   "outputs": [
    {
     "data": {
      "text/plain": [
       "DatetimeIndex(['2020-01-01', '2020-01-02', '2020-01-03', '2020-01-04',\n",
       "               '2020-01-05', '2020-01-06', '2020-01-07', '2020-01-08',\n",
       "               '2020-01-09', '2020-01-10',\n",
       "               ...\n",
       "               '2022-05-23', '2022-05-24', '2022-05-25', '2022-05-26',\n",
       "               '2022-05-27', '2022-05-28', '2022-05-29', '2022-05-30',\n",
       "               '2022-05-31', '2022-06-01'],\n",
       "              dtype='datetime64[ns]', length=883, freq='D')"
      ]
     },
     "execution_count": 39,
     "metadata": {},
     "output_type": "execute_result"
    }
   ],
   "source": [
    "#使用開始日期和結束日期\n",
    "index = pd.date_range('2020-01-01','2022-06-01')\n",
    "index"
   ]
  },
  {
   "cell_type": "code",
   "execution_count": 40,
   "id": "f2fe53ce",
   "metadata": {},
   "outputs": [
    {
     "data": {
      "text/plain": [
       "DatetimeIndex(['2021-01-01', '2021-01-02', '2021-01-03', '2021-01-04',\n",
       "               '2021-01-05', '2021-01-06', '2021-01-07', '2021-01-08',\n",
       "               '2021-01-09', '2021-01-10', '2021-01-11', '2021-01-12',\n",
       "               '2021-01-13', '2021-01-14', '2021-01-15', '2021-01-16',\n",
       "               '2021-01-17', '2021-01-18', '2021-01-19', '2021-01-20'],\n",
       "              dtype='datetime64[ns]', freq='D')"
      ]
     },
     "execution_count": 40,
     "metadata": {},
     "output_type": "execute_result"
    }
   ],
   "source": [
    "#使用開始日期和頻率\n",
    "pd.date_range('2021-01-01',periods=20)"
   ]
  },
  {
   "cell_type": "code",
   "execution_count": 41,
   "id": "90ae239f",
   "metadata": {},
   "outputs": [
    {
     "data": {
      "text/plain": [
       "DatetimeIndex(['2021-05-16', '2021-05-17', '2021-05-18', '2021-05-19',\n",
       "               '2021-05-20', '2021-05-21', '2021-05-22', '2021-05-23',\n",
       "               '2021-05-24', '2021-05-25', '2021-05-26', '2021-05-27',\n",
       "               '2021-05-28', '2021-05-29', '2021-05-30', '2021-05-31',\n",
       "               '2021-06-01', '2021-06-02', '2021-06-03', '2021-06-04'],\n",
       "              dtype='datetime64[ns]', freq='D')"
      ]
     },
     "execution_count": 41,
     "metadata": {},
     "output_type": "execute_result"
    }
   ],
   "source": [
    "#使用結束日期和頻率\n",
    "pd.date_range(end='2021-06-04', periods=20)"
   ]
  },
  {
   "cell_type": "code",
   "execution_count": 42,
   "id": "89533950",
   "metadata": {},
   "outputs": [
    {
     "data": {
      "text/plain": [
       "DatetimeIndex(['2021-05-06 12:56:31', '2021-05-07 12:56:31',\n",
       "               '2021-05-08 12:56:31', '2021-05-09 12:56:31',\n",
       "               '2021-05-10 12:56:31', '2021-05-11 12:56:31',\n",
       "               '2021-05-12 12:56:31', '2021-05-13 12:56:31',\n",
       "               '2021-05-14 12:56:31', '2021-05-15 12:56:31',\n",
       "               '2021-05-16 12:56:31', '2021-05-17 12:56:31',\n",
       "               '2021-05-18 12:56:31', '2021-05-19 12:56:31',\n",
       "               '2021-05-20 12:56:31', '2021-05-21 12:56:31',\n",
       "               '2021-05-22 12:56:31', '2021-05-23 12:56:31',\n",
       "               '2021-05-24 12:56:31', '2021-05-25 12:56:31'],\n",
       "              dtype='datetime64[ns]', freq='D')"
      ]
     },
     "execution_count": 42,
     "metadata": {},
     "output_type": "execute_result"
    }
   ],
   "source": [
    "#保留時間資訊\n",
    "pd.date_range('2021-05-06 12:56:31', periods=20)"
   ]
  },
  {
   "cell_type": "code",
   "execution_count": 43,
   "id": "5114c439",
   "metadata": {},
   "outputs": [
    {
     "data": {
      "text/plain": [
       "DatetimeIndex(['2021-05-06', '2021-05-07', '2021-05-08', '2021-05-09',\n",
       "               '2021-05-10', '2021-05-11', '2021-05-12', '2021-05-13',\n",
       "               '2021-05-14', '2021-05-15', '2021-05-16', '2021-05-17',\n",
       "               '2021-05-18', '2021-05-19', '2021-05-20', '2021-05-21',\n",
       "               '2021-05-22', '2021-05-23', '2021-05-24', '2021-05-25'],\n",
       "              dtype='datetime64[ns]', freq='D')"
      ]
     },
     "execution_count": 43,
     "metadata": {},
     "output_type": "execute_result"
    }
   ],
   "source": [
    "#移除時間資訊\n",
    "pd.date_range('2021-05-06 12:56:31', periods=20, normalize=True)"
   ]
  },
  {
   "cell_type": "markdown",
   "id": "efae4c33",
   "metadata": {},
   "source": [
    "### Frequencies(頻率),Date Offsets(一般時間)"
   ]
  },
  {
   "cell_type": "code",
   "execution_count": 44,
   "id": "426956a1",
   "metadata": {},
   "outputs": [
    {
     "data": {
      "text/plain": [
       "DatetimeIndex(['2010-01-01 00:00:00', '2010-01-01 04:00:00',\n",
       "               '2010-01-01 08:00:00', '2010-01-01 12:00:00',\n",
       "               '2010-01-01 16:00:00', '2010-01-01 20:00:00',\n",
       "               '2010-01-02 00:00:00', '2010-01-02 04:00:00',\n",
       "               '2010-01-02 08:00:00', '2010-01-02 12:00:00',\n",
       "               '2010-01-02 16:00:00', '2010-01-02 20:00:00',\n",
       "               '2010-01-03 00:00:00'],\n",
       "              dtype='datetime64[ns]', freq='4H')"
      ]
     },
     "execution_count": 44,
     "metadata": {},
     "output_type": "execute_result"
    }
   ],
   "source": [
    "#Date Offsets\n",
    "#M->月\n",
    "#D->日\n",
    "#H->小時\n",
    "#3M -> 3個月\n",
    "#6D -> 6日\n",
    "\n",
    "pd.date_range('2010-01-01', '2010-01-03', freq='4H')"
   ]
  },
  {
   "cell_type": "code",
   "execution_count": 45,
   "id": "5db98a31",
   "metadata": {},
   "outputs": [
    {
     "data": {
      "text/plain": [
       "DatetimeIndex(['2010-01-01 00:00:00', '2010-01-01 01:30:00',\n",
       "               '2010-01-01 03:00:00', '2010-01-01 04:30:00',\n",
       "               '2010-01-01 06:00:00', '2010-01-01 07:30:00',\n",
       "               '2010-01-01 09:00:00', '2010-01-01 10:30:00',\n",
       "               '2010-01-01 12:00:00', '2010-01-01 13:30:00',\n",
       "               '2010-01-01 15:00:00', '2010-01-01 16:30:00',\n",
       "               '2010-01-01 18:00:00', '2010-01-01 19:30:00',\n",
       "               '2010-01-01 21:00:00', '2010-01-01 22:30:00',\n",
       "               '2010-01-02 00:00:00'],\n",
       "              dtype='datetime64[ns]', freq='90T')"
      ]
     },
     "execution_count": 45,
     "metadata": {},
     "output_type": "execute_result"
    }
   ],
   "source": [
    "pd.date_range('2010-01-01','2010-01-02',freq='1h30min')"
   ]
  },
  {
   "cell_type": "markdown",
   "id": "82d03e93",
   "metadata": {},
   "source": [
    "#### week of month dates"
   ]
  },
  {
   "cell_type": "code",
   "execution_count": 46,
   "id": "5f31a1a9",
   "metadata": {},
   "outputs": [
    {
     "data": {
      "text/plain": [
       "[Timestamp('2021-01-15 00:00:00', freq='WOM-3FRI'),\n",
       " Timestamp('2021-02-19 00:00:00', freq='WOM-3FRI'),\n",
       " Timestamp('2021-03-19 00:00:00', freq='WOM-3FRI'),\n",
       " Timestamp('2021-04-16 00:00:00', freq='WOM-3FRI'),\n",
       " Timestamp('2021-05-21 00:00:00', freq='WOM-3FRI'),\n",
       " Timestamp('2021-06-18 00:00:00', freq='WOM-3FRI'),\n",
       " Timestamp('2021-07-16 00:00:00', freq='WOM-3FRI'),\n",
       " Timestamp('2021-08-20 00:00:00', freq='WOM-3FRI'),\n",
       " Timestamp('2021-09-17 00:00:00', freq='WOM-3FRI'),\n",
       " Timestamp('2021-10-15 00:00:00', freq='WOM-3FRI'),\n",
       " Timestamp('2021-11-19 00:00:00', freq='WOM-3FRI'),\n",
       " Timestamp('2021-12-17 00:00:00', freq='WOM-3FRI'),\n",
       " Timestamp('2022-01-21 00:00:00', freq='WOM-3FRI'),\n",
       " Timestamp('2022-02-18 00:00:00', freq='WOM-3FRI'),\n",
       " Timestamp('2022-03-18 00:00:00', freq='WOM-3FRI'),\n",
       " Timestamp('2022-04-15 00:00:00', freq='WOM-3FRI'),\n",
       " Timestamp('2022-05-20 00:00:00', freq='WOM-3FRI'),\n",
       " Timestamp('2022-06-17 00:00:00', freq='WOM-3FRI'),\n",
       " Timestamp('2022-07-15 00:00:00', freq='WOM-3FRI'),\n",
       " Timestamp('2022-08-19 00:00:00', freq='WOM-3FRI')]"
      ]
     },
     "execution_count": 46,
     "metadata": {},
     "output_type": "execute_result"
    }
   ],
   "source": [
    "#每個月的第3個星期天\n",
    "rng = pd.date_range('2021-01-01', '2022-09-01', freq='WOM-3FRI')\n",
    "list(rng)"
   ]
  },
  {
   "cell_type": "markdown",
   "id": "480546a8",
   "metadata": {},
   "source": [
    "### shifting(Leading and Lagging)Data - 向上偏移和向下偏移"
   ]
  },
  {
   "cell_type": "code",
   "execution_count": 47,
   "id": "2ef35da0",
   "metadata": {},
   "outputs": [
    {
     "data": {
      "text/plain": [
       "2021-01-31   -0.320329\n",
       "2021-02-28    0.468561\n",
       "2021-03-31    0.110618\n",
       "2021-04-30    0.215574\n",
       "Freq: M, dtype: float64"
      ]
     },
     "execution_count": 47,
     "metadata": {},
     "output_type": "execute_result"
    }
   ],
   "source": [
    "ts = pd.Series(np.random.randn(4),\n",
    "               index=pd.date_range('2021-01-01', periods=4, freq='M'))\n",
    "ts"
   ]
  },
  {
   "cell_type": "code",
   "execution_count": 48,
   "id": "edd153c2",
   "metadata": {},
   "outputs": [
    {
     "data": {
      "text/plain": [
       "2021-01-31         NaN\n",
       "2021-02-28         NaN\n",
       "2021-03-31   -0.320329\n",
       "2021-04-30    0.468561\n",
       "Freq: M, dtype: float64"
      ]
     },
     "execution_count": 48,
     "metadata": {},
     "output_type": "execute_result"
    }
   ],
   "source": [
    "#向下偏移\n",
    "ts.shift(2)"
   ]
  },
  {
   "cell_type": "code",
   "execution_count": 49,
   "id": "b7e27a7c",
   "metadata": {},
   "outputs": [
    {
     "data": {
      "text/plain": [
       "2021-01-31    0.110618\n",
       "2021-02-28    0.215574\n",
       "2021-03-31         NaN\n",
       "2021-04-30         NaN\n",
       "Freq: M, dtype: float64"
      ]
     },
     "execution_count": 49,
     "metadata": {},
     "output_type": "execute_result"
    }
   ],
   "source": [
    "#向上偏移\n",
    "ts.shift(-2)"
   ]
  },
  {
   "cell_type": "code",
   "execution_count": 50,
   "id": "becb5c25",
   "metadata": {},
   "outputs": [
    {
     "data": {
      "text/plain": [
       "2021-01-31         NaN\n",
       "2021-02-28   -2.462750\n",
       "2021-03-31   -0.763921\n",
       "2021-04-30    0.948827\n",
       "Freq: M, dtype: float64"
      ]
     },
     "execution_count": 50,
     "metadata": {},
     "output_type": "execute_result"
    }
   ],
   "source": [
    "#時間偏移常被拿來作為2個時間點的差或比例\n",
    "#shift()不會移動index,所以可以使用運算,因為運算是以index為基礎來進行運算\n",
    "#目前時間和上個時間的比例\n",
    "\n",
    "ts/ ts.shift(1) - 1"
   ]
  },
  {
   "cell_type": "code",
   "execution_count": 51,
   "id": "d7313257",
   "metadata": {},
   "outputs": [
    {
     "data": {
      "text/plain": [
       "2021-01-31   -0.320329\n",
       "2021-02-28    0.468561\n",
       "2021-03-31    0.110618\n",
       "2021-04-30    0.215574\n",
       "Freq: M, dtype: float64"
      ]
     },
     "execution_count": 51,
     "metadata": {},
     "output_type": "execute_result"
    }
   ],
   "source": [
    "### 使用resample()計算每個月或每天每年的計算\n",
    "ts"
   ]
  },
  {
   "cell_type": "code",
   "execution_count": 52,
   "id": "d134b9a2",
   "metadata": {},
   "outputs": [
    {
     "data": {
      "text/plain": [
       "2021-01-31   -0.320329\n",
       "2021-02-28    0.468561\n",
       "2021-03-31    0.110618\n",
       "2021-04-30    0.215574\n",
       "Freq: M, dtype: float64"
      ]
     },
     "execution_count": 52,
     "metadata": {},
     "output_type": "execute_result"
    }
   ],
   "source": [
    "ts.resample('M').mean()"
   ]
  },
  {
   "cell_type": "code",
   "execution_count": 53,
   "id": "d6cf8580",
   "metadata": {},
   "outputs": [
    {
     "data": {
      "text/plain": [
       "2021-01-31   -0.320329\n",
       "2021-02-01   -0.320329\n",
       "2021-02-02   -0.320329\n",
       "2021-02-03   -0.320329\n",
       "2021-02-04   -0.320329\n",
       "                ...   \n",
       "2021-04-26    0.110618\n",
       "2021-04-27    0.110618\n",
       "2021-04-28    0.110618\n",
       "2021-04-29    0.110618\n",
       "2021-04-30    0.215574\n",
       "Freq: D, Length: 90, dtype: float64"
      ]
     },
     "execution_count": 53,
     "metadata": {},
     "output_type": "execute_result"
    }
   ],
   "source": [
    "resampler = ts.resample('D')\n",
    "resampler.ffill()"
   ]
  },
  {
   "cell_type": "markdown",
   "id": "fc2fa192",
   "metadata": {},
   "source": [
    "### 時區的處理"
   ]
  },
  {
   "cell_type": "code",
   "execution_count": 54,
   "id": "865d79fa",
   "metadata": {},
   "outputs": [
    {
     "data": {
      "text/plain": [
       "['US/Eastern', 'US/Hawaii', 'US/Mountain', 'US/Pacific', 'UTC']"
      ]
     },
     "execution_count": 54,
     "metadata": {},
     "output_type": "execute_result"
    }
   ],
   "source": [
    "import pytz\n",
    "pytz.common_timezones[-5:]"
   ]
  },
  {
   "cell_type": "code",
   "execution_count": 55,
   "id": "0fb6721c",
   "metadata": {},
   "outputs": [
    {
     "data": {
      "text/plain": [
       "<DstTzInfo 'Asia/Taipei' LMT+8:06:00 STD>"
      ]
     },
     "execution_count": 55,
     "metadata": {},
     "output_type": "execute_result"
    }
   ],
   "source": [
    "tz = pytz.timezone('Asia/Taipei')\n",
    "tz"
   ]
  },
  {
   "cell_type": "markdown",
   "id": "d6a78b54",
   "metadata": {},
   "source": [
    "#### 時區的轉換\n",
    "- time Series預設是沒有時區的"
   ]
  },
  {
   "cell_type": "code",
   "execution_count": 57,
   "id": "06343778",
   "metadata": {},
   "outputs": [
    {
     "data": {
      "text/plain": [
       "2012-03-09 09:30:00   -1.045322\n",
       "2012-03-10 09:30:00   -0.773299\n",
       "2012-03-11 09:30:00    1.413760\n",
       "2012-03-12 09:30:00    0.061864\n",
       "2012-03-13 09:30:00   -0.284598\n",
       "2012-03-14 09:30:00    0.663402\n",
       "Freq: D, dtype: float64"
      ]
     },
     "execution_count": 57,
     "metadata": {},
     "output_type": "execute_result"
    }
   ],
   "source": [
    "rng = pd.date_range('3/9/2012 9:30', periods=6, freq='D')\n",
    "ts = pd.Series(np.random.randn(len(rng)),index=rng)\n",
    "ts"
   ]
  },
  {
   "cell_type": "code",
   "execution_count": 59,
   "id": "d8351f33",
   "metadata": {},
   "outputs": [
    {
     "name": "stdout",
     "output_type": "stream",
     "text": [
      "None\n"
     ]
    }
   ],
   "source": [
    "#預設時區是None\n",
    "print(ts.index.tz)"
   ]
  },
  {
   "cell_type": "code",
   "execution_count": 60,
   "id": "c530ae1b",
   "metadata": {},
   "outputs": [
    {
     "data": {
      "text/plain": [
       "DatetimeIndex(['2012-03-09 09:30:00+00:00', '2012-03-10 09:30:00+00:00',\n",
       "               '2012-03-11 09:30:00+00:00', '2012-03-12 09:30:00+00:00',\n",
       "               '2012-03-13 09:30:00+00:00', '2012-03-14 09:30:00+00:00',\n",
       "               '2012-03-15 09:30:00+00:00', '2012-03-16 09:30:00+00:00',\n",
       "               '2012-03-17 09:30:00+00:00', '2012-03-18 09:30:00+00:00'],\n",
       "              dtype='datetime64[ns, UTC]', freq='D')"
      ]
     },
     "execution_count": 60,
     "metadata": {},
     "output_type": "execute_result"
    }
   ],
   "source": [
    "#建立有時區的DatetimeIndex\n",
    "pd.date_range('3/9/2012 9:30', periods=10, freq='D', tz='UTC')"
   ]
  },
  {
   "cell_type": "code",
   "execution_count": 61,
   "id": "336c7b2e",
   "metadata": {},
   "outputs": [
    {
     "data": {
      "text/plain": [
       "2012-03-09 09:30:00   -1.045322\n",
       "2012-03-10 09:30:00   -0.773299\n",
       "2012-03-11 09:30:00    1.413760\n",
       "2012-03-12 09:30:00    0.061864\n",
       "2012-03-13 09:30:00   -0.284598\n",
       "2012-03-14 09:30:00    0.663402\n",
       "Freq: D, dtype: float64"
      ]
     },
     "execution_count": 61,
     "metadata": {},
     "output_type": "execute_result"
    }
   ],
   "source": [
    "\n",
    "ts"
   ]
  },
  {
   "cell_type": "code",
   "execution_count": 62,
   "id": "68e24453",
   "metadata": {},
   "outputs": [
    {
     "data": {
      "text/plain": [
       "2012-03-09 09:30:00+00:00   -1.045322\n",
       "2012-03-10 09:30:00+00:00   -0.773299\n",
       "2012-03-11 09:30:00+00:00    1.413760\n",
       "2012-03-12 09:30:00+00:00    0.061864\n",
       "2012-03-13 09:30:00+00:00   -0.284598\n",
       "2012-03-14 09:30:00+00:00    0.663402\n",
       "Freq: D, dtype: float64"
      ]
     },
     "execution_count": 62,
     "metadata": {},
     "output_type": "execute_result"
    }
   ],
   "source": [
    "#本沒有時區資訊轉換為有時區,使用tz_localize()\n",
    "ts_utc = ts.tz_localize('UTC')\n",
    "ts_utc"
   ]
  },
  {
   "cell_type": "code",
   "execution_count": 64,
   "id": "670c1dae",
   "metadata": {},
   "outputs": [
    {
     "data": {
      "text/plain": [
       "2012-03-09 09:30:00+08:00   -1.045322\n",
       "2012-03-10 09:30:00+08:00   -0.773299\n",
       "2012-03-11 09:30:00+08:00    1.413760\n",
       "2012-03-12 09:30:00+08:00    0.061864\n",
       "2012-03-13 09:30:00+08:00   -0.284598\n",
       "2012-03-14 09:30:00+08:00    0.663402\n",
       "dtype: float64"
      ]
     },
     "execution_count": 64,
     "metadata": {},
     "output_type": "execute_result"
    }
   ],
   "source": [
    "#本沒有時區資訊轉換為有時區,使用tz_localize()\n",
    "ts_taipei = ts.tz_localize('Asia/Taipei')\n",
    "ts_taipei"
   ]
  },
  {
   "cell_type": "code",
   "execution_count": 66,
   "id": "55d43bb8",
   "metadata": {},
   "outputs": [
    {
     "data": {
      "text/plain": [
       "2012-03-08 20:30:00-05:00   -1.045322\n",
       "2012-03-09 20:30:00-05:00   -0.773299\n",
       "2012-03-10 20:30:00-05:00    1.413760\n",
       "2012-03-11 21:30:00-04:00    0.061864\n",
       "2012-03-12 21:30:00-04:00   -0.284598\n",
       "2012-03-13 21:30:00-04:00    0.663402\n",
       "dtype: float64"
      ]
     },
     "execution_count": 66,
     "metadata": {},
     "output_type": "execute_result"
    }
   ],
   "source": [
    "#將現有的時區,轉換為其它時區tz_convert()\n",
    "ts_New_York = ts_taipei.tz_convert('America/New_York')\n",
    "ts_New_York"
   ]
  },
  {
   "cell_type": "code",
   "execution_count": 68,
   "id": "54570e65",
   "metadata": {},
   "outputs": [
    {
     "data": {
      "text/plain": [
       "Timestamp('2011-03-12 04:00:00+0000', tz='UTC')"
      ]
     },
     "execution_count": 68,
     "metadata": {},
     "output_type": "execute_result"
    }
   ],
   "source": [
    "#將pd.Timestamp轉換時區\n",
    "stamp = pd.Timestamp('2011-03-12 04:00')\n",
    "stamp_utc=stamp.tz_localize('utc')\n",
    "stamp_utc"
   ]
  },
  {
   "cell_type": "code",
   "execution_count": 69,
   "id": "501b9f6d",
   "metadata": {},
   "outputs": [
    {
     "data": {
      "text/plain": [
       "Timestamp('2011-03-12 12:00:00+0800', tz='Asia/Taipei')"
      ]
     },
     "execution_count": 69,
     "metadata": {},
     "output_type": "execute_result"
    }
   ],
   "source": [
    "#將pd.Timestamp轉換時區\n",
    "stamp_taipei = stamp_utc.tz_convert('Asia/Taipei')\n",
    "stamp_taipei"
   ]
  },
  {
   "cell_type": "code",
   "execution_count": 65,
   "id": "4bda5889",
   "metadata": {},
   "outputs": [
    {
     "data": {
      "text/plain": [
       "DatetimeIndex(['2012-03-09 09:30:00+08:00', '2012-03-10 09:30:00+08:00',\n",
       "               '2012-03-11 09:30:00+08:00', '2012-03-12 09:30:00+08:00',\n",
       "               '2012-03-13 09:30:00+08:00', '2012-03-14 09:30:00+08:00'],\n",
       "              dtype='datetime64[ns, Asia/Taipei]', freq=None)"
      ]
     },
     "execution_count": 65,
     "metadata": {},
     "output_type": "execute_result"
    }
   ],
   "source": [
    "ts_taipei.index"
   ]
  },
  {
   "cell_type": "code",
   "execution_count": 71,
   "id": "5753f54b",
   "metadata": {},
   "outputs": [],
   "source": [
    "### Resampling 和 頻率(Frequency)的轉換\n",
    "- resample()就是從現有的頻率轉換為另一個頻率\n",
    "- downsampling就是從比較高的頻率轉換為比較低的頻率\n",
    "- upsampling就是從比較低的頻率轉換為比較高的頻率\n",
    "- resample的操作類似groupby的操作"
   ]
  },
  {
   "cell_type": "code",
   "execution_count": 72,
   "id": "1c59aa6e",
   "metadata": {},
   "outputs": [
    {
     "data": {
      "text/plain": [
       "2000-01-01   -0.330885\n",
       "2000-01-02    0.594269\n",
       "2000-01-03    0.688870\n",
       "2000-01-04    0.608121\n",
       "2000-01-05    0.011955\n",
       "                ...   \n",
       "2000-04-05   -0.499698\n",
       "2000-04-06    0.688644\n",
       "2000-04-07   -0.383637\n",
       "2000-04-08   -1.259649\n",
       "2000-04-09    0.553188\n",
       "Freq: D, Length: 100, dtype: float64"
      ]
     },
     "execution_count": 72,
     "metadata": {},
     "output_type": "execute_result"
    }
   ],
   "source": [
    "rng = pd.date_range('2000-01-01', periods=100, freq='D')\n",
    "ts = pd.Series(np.random.randn(len(rng)),index=rng)\n",
    "ts"
   ]
  },
  {
   "cell_type": "code",
   "execution_count": 73,
   "id": "e9e00513",
   "metadata": {},
   "outputs": [
    {
     "data": {
      "text/plain": [
       "2000-01-31    0.276678\n",
       "2000-02-29   -0.076526\n",
       "2000-03-31    0.120751\n",
       "2000-04-30   -0.397940\n",
       "Freq: M, dtype: float64"
      ]
     },
     "execution_count": 73,
     "metadata": {},
     "output_type": "execute_result"
    }
   ],
   "source": [
    "ts.resample('M').mean()"
   ]
  },
  {
   "cell_type": "code",
   "execution_count": 74,
   "id": "d29d5d40",
   "metadata": {},
   "outputs": [
    {
     "data": {
      "text/html": [
       "<div>\n",
       "<style scoped>\n",
       "    .dataframe tbody tr th:only-of-type {\n",
       "        vertical-align: middle;\n",
       "    }\n",
       "\n",
       "    .dataframe tbody tr th {\n",
       "        vertical-align: top;\n",
       "    }\n",
       "\n",
       "    .dataframe thead th {\n",
       "        text-align: right;\n",
       "    }\n",
       "</style>\n",
       "<table border=\"1\" class=\"dataframe\">\n",
       "  <thead>\n",
       "    <tr style=\"text-align: right;\">\n",
       "      <th></th>\n",
       "      <th>AAPL</th>\n",
       "      <th>MSFT</th>\n",
       "      <th>XOM</th>\n",
       "    </tr>\n",
       "  </thead>\n",
       "  <tbody>\n",
       "    <tr>\n",
       "      <th>2003-01-02</th>\n",
       "      <td>7.40</td>\n",
       "      <td>21.11</td>\n",
       "      <td>29.22</td>\n",
       "    </tr>\n",
       "    <tr>\n",
       "      <th>2003-01-03</th>\n",
       "      <td>7.45</td>\n",
       "      <td>21.14</td>\n",
       "      <td>29.24</td>\n",
       "    </tr>\n",
       "    <tr>\n",
       "      <th>2003-01-06</th>\n",
       "      <td>7.45</td>\n",
       "      <td>21.52</td>\n",
       "      <td>29.96</td>\n",
       "    </tr>\n",
       "    <tr>\n",
       "      <th>2003-01-07</th>\n",
       "      <td>7.43</td>\n",
       "      <td>21.93</td>\n",
       "      <td>28.95</td>\n",
       "    </tr>\n",
       "    <tr>\n",
       "      <th>2003-01-08</th>\n",
       "      <td>7.28</td>\n",
       "      <td>21.31</td>\n",
       "      <td>28.83</td>\n",
       "    </tr>\n",
       "    <tr>\n",
       "      <th>...</th>\n",
       "      <td>...</td>\n",
       "      <td>...</td>\n",
       "      <td>...</td>\n",
       "    </tr>\n",
       "    <tr>\n",
       "      <th>2011-10-10</th>\n",
       "      <td>388.81</td>\n",
       "      <td>26.94</td>\n",
       "      <td>76.28</td>\n",
       "    </tr>\n",
       "    <tr>\n",
       "      <th>2011-10-11</th>\n",
       "      <td>400.29</td>\n",
       "      <td>27.00</td>\n",
       "      <td>76.27</td>\n",
       "    </tr>\n",
       "    <tr>\n",
       "      <th>2011-10-12</th>\n",
       "      <td>402.19</td>\n",
       "      <td>26.96</td>\n",
       "      <td>77.16</td>\n",
       "    </tr>\n",
       "    <tr>\n",
       "      <th>2011-10-13</th>\n",
       "      <td>408.43</td>\n",
       "      <td>27.18</td>\n",
       "      <td>76.37</td>\n",
       "    </tr>\n",
       "    <tr>\n",
       "      <th>2011-10-14</th>\n",
       "      <td>422.00</td>\n",
       "      <td>27.27</td>\n",
       "      <td>78.11</td>\n",
       "    </tr>\n",
       "  </tbody>\n",
       "</table>\n",
       "<p>2214 rows × 3 columns</p>\n",
       "</div>"
      ],
      "text/plain": [
       "              AAPL   MSFT    XOM\n",
       "2003-01-02    7.40  21.11  29.22\n",
       "2003-01-03    7.45  21.14  29.24\n",
       "2003-01-06    7.45  21.52  29.96\n",
       "2003-01-07    7.43  21.93  28.95\n",
       "2003-01-08    7.28  21.31  28.83\n",
       "...            ...    ...    ...\n",
       "2011-10-10  388.81  26.94  76.28\n",
       "2011-10-11  400.29  27.00  76.27\n",
       "2011-10-12  402.19  26.96  77.16\n",
       "2011-10-13  408.43  27.18  76.37\n",
       "2011-10-14  422.00  27.27  78.11\n",
       "\n",
       "[2214 rows x 3 columns]"
      ]
     },
     "execution_count": 74,
     "metadata": {},
     "output_type": "execute_result"
    }
   ],
   "source": [
    "close_px_all = pd.read_csv('stock_px_2.csv',parse_dates=True,index_col=0)\n",
    "close_px = close_px_all[['AAPL', 'MSFT', 'XOM']]\n",
    "close_px"
   ]
  },
  {
   "cell_type": "code",
   "execution_count": 77,
   "id": "22648a72",
   "metadata": {},
   "outputs": [
    {
     "data": {
      "text/html": [
       "<div>\n",
       "<style scoped>\n",
       "    .dataframe tbody tr th:only-of-type {\n",
       "        vertical-align: middle;\n",
       "    }\n",
       "\n",
       "    .dataframe tbody tr th {\n",
       "        vertical-align: top;\n",
       "    }\n",
       "\n",
       "    .dataframe thead th {\n",
       "        text-align: right;\n",
       "    }\n",
       "</style>\n",
       "<table border=\"1\" class=\"dataframe\">\n",
       "  <thead>\n",
       "    <tr style=\"text-align: right;\">\n",
       "      <th></th>\n",
       "      <th>AAPL</th>\n",
       "      <th>MSFT</th>\n",
       "      <th>XOM</th>\n",
       "    </tr>\n",
       "  </thead>\n",
       "  <tbody>\n",
       "    <tr>\n",
       "      <th>2003-01-02</th>\n",
       "      <td>7.40</td>\n",
       "      <td>21.11</td>\n",
       "      <td>29.22</td>\n",
       "    </tr>\n",
       "    <tr>\n",
       "      <th>2003-01-03</th>\n",
       "      <td>7.45</td>\n",
       "      <td>21.14</td>\n",
       "      <td>29.24</td>\n",
       "    </tr>\n",
       "    <tr>\n",
       "      <th>2003-01-06</th>\n",
       "      <td>7.45</td>\n",
       "      <td>21.52</td>\n",
       "      <td>29.96</td>\n",
       "    </tr>\n",
       "    <tr>\n",
       "      <th>2003-01-07</th>\n",
       "      <td>7.43</td>\n",
       "      <td>21.93</td>\n",
       "      <td>28.95</td>\n",
       "    </tr>\n",
       "    <tr>\n",
       "      <th>2003-01-08</th>\n",
       "      <td>7.28</td>\n",
       "      <td>21.31</td>\n",
       "      <td>28.83</td>\n",
       "    </tr>\n",
       "    <tr>\n",
       "      <th>...</th>\n",
       "      <td>...</td>\n",
       "      <td>...</td>\n",
       "      <td>...</td>\n",
       "    </tr>\n",
       "    <tr>\n",
       "      <th>2011-10-10</th>\n",
       "      <td>388.81</td>\n",
       "      <td>26.94</td>\n",
       "      <td>76.28</td>\n",
       "    </tr>\n",
       "    <tr>\n",
       "      <th>2011-10-11</th>\n",
       "      <td>400.29</td>\n",
       "      <td>27.00</td>\n",
       "      <td>76.27</td>\n",
       "    </tr>\n",
       "    <tr>\n",
       "      <th>2011-10-12</th>\n",
       "      <td>402.19</td>\n",
       "      <td>26.96</td>\n",
       "      <td>77.16</td>\n",
       "    </tr>\n",
       "    <tr>\n",
       "      <th>2011-10-13</th>\n",
       "      <td>408.43</td>\n",
       "      <td>27.18</td>\n",
       "      <td>76.37</td>\n",
       "    </tr>\n",
       "    <tr>\n",
       "      <th>2011-10-14</th>\n",
       "      <td>422.00</td>\n",
       "      <td>27.27</td>\n",
       "      <td>78.11</td>\n",
       "    </tr>\n",
       "  </tbody>\n",
       "</table>\n",
       "<p>2292 rows × 3 columns</p>\n",
       "</div>"
      ],
      "text/plain": [
       "              AAPL   MSFT    XOM\n",
       "2003-01-02    7.40  21.11  29.22\n",
       "2003-01-03    7.45  21.14  29.24\n",
       "2003-01-06    7.45  21.52  29.96\n",
       "2003-01-07    7.43  21.93  28.95\n",
       "2003-01-08    7.28  21.31  28.83\n",
       "...            ...    ...    ...\n",
       "2011-10-10  388.81  26.94  76.28\n",
       "2011-10-11  400.29  27.00  76.27\n",
       "2011-10-12  402.19  26.96  77.16\n",
       "2011-10-13  408.43  27.18  76.37\n",
       "2011-10-14  422.00  27.27  78.11\n",
       "\n",
       "[2292 rows x 3 columns]"
      ]
     },
     "execution_count": 77,
     "metadata": {},
     "output_type": "execute_result"
    }
   ],
   "source": [
    "#'B'->business day\n",
    "close_px = close_px.resample('B').ffill()\n",
    "close_px"
   ]
  },
  {
   "cell_type": "code",
   "execution_count": 78,
   "id": "20f0b700",
   "metadata": {},
   "outputs": [
    {
     "data": {
      "text/plain": [
       "<AxesSubplot:>"
      ]
     },
     "execution_count": 78,
     "metadata": {},
     "output_type": "execute_result"
    },
    {
     "data": {
      "image/png": "[encoded data removed]",
      "text/plain": [
       "<Figure size 432x288 with 1 Axes>"
      ]
     },
     "metadata": {
      "needs_background": "light"
     },
     "output_type": "display_data"
    }
   ],
   "source": [
    "import matplotlib.pyplot as plt\n",
    "figure = plt.figure()\n",
    "axes=figure.add_subplot(1,1,1)\n",
    "close_px.AAPL.plot(ax=axes)\n"
   ]
  },
  {
   "cell_type": "code",
   "execution_count": 80,
   "id": "c05ad274",
   "metadata": {},
   "outputs": [
    {
     "data": {
      "text/plain": [
       "<AxesSubplot:>"
      ]
     },
     "execution_count": 80,
     "metadata": {},
     "output_type": "execute_result"
    },
    {
     "data": {
      "image/png": "[encoded data removed]",
      "text/plain": [
       "<Figure size 432x288 with 1 Axes>"
      ]
     },
     "metadata": {
      "needs_background": "light"
     },
     "output_type": "display_data"
    }
   ],
   "source": [
    "figure = plt.figure()\n",
    "axes=figure.add_subplot(1,1,1)\n",
    "close_px.AAPL.rolling(100).mean().plot(ax=axes) #rolling滾動計算100天的平均,rolling是為了讓線條比較平滑"
   ]
  },
  {
   "cell_type": "code",
   "execution_count": 66,
   "id": "8a5604da",
   "metadata": {},
   "outputs": [
    {
     "data": {
      "text/plain": [
       "2003-01-02        NaN\n",
       "2003-01-03        NaN\n",
       "2003-01-06        NaN\n",
       "2003-01-07        NaN\n",
       "2003-01-08        NaN\n",
       "               ...   \n",
       "2003-12-22        NaN\n",
       "2003-12-23        NaN\n",
       "2003-12-24        NaN\n",
       "2003-12-26        NaN\n",
       "2003-12-29    9.26148\n",
       "Name: AAPL, Length: 250, dtype: float64"
      ]
     },
     "execution_count": 66,
     "metadata": {},
     "output_type": "execute_result"
    }
   ],
   "source": [
    "close_px.AAPL.rolling(250).mean()[:250] #使用rolling()前面250筆會變成None"
   ]
  },
  {
   "cell_type": "code",
   "execution_count": 68,
   "id": "6fa7b770",
   "metadata": {},
   "outputs": [
    {
     "data": {
      "text/plain": [
       "2003-01-02         NaN\n",
       "2003-01-03         NaN\n",
       "2003-01-06         NaN\n",
       "2003-01-07         NaN\n",
       "2003-01-08         NaN\n",
       "2003-01-09         NaN\n",
       "2003-01-10         NaN\n",
       "2003-01-13         NaN\n",
       "2003-01-14         NaN\n",
       "2003-01-15    7.355000\n",
       "2003-01-16    7.350909\n",
       "2003-01-17    7.325833\n",
       "2003-01-21    7.301538\n",
       "2003-01-22    7.275714\n",
       "2003-01-23    7.263333\n",
       "2003-01-24    7.240625\n",
       "2003-01-27    7.230588\n",
       "2003-01-28    7.233889\n",
       "2003-01-29    7.246316\n",
       "2003-01-30    7.242000\n",
       "Name: AAPL, dtype: float64"
      ]
     },
     "execution_count": 68,
     "metadata": {},
     "output_type": "execute_result"
    }
   ],
   "source": [
    "close_px.AAPL.rolling(250,min_periods=10).mean()[:20] #使用min_periods會讓前面的None比較少"
   ]
  },
  {
   "cell_type": "code",
   "execution_count": 69,
   "id": "7bd4172c",
   "metadata": {},
   "outputs": [
    {
     "data": {
      "text/plain": [
       "2003-01-09         NaN\n",
       "2003-01-10         NaN\n",
       "2003-01-13         NaN\n",
       "2003-01-14         NaN\n",
       "2003-01-15    0.077496\n",
       "2003-01-16    0.074760\n",
       "2003-01-17    0.112368\n",
       "Name: AAPL, dtype: float64"
      ]
     },
     "execution_count": 69,
     "metadata": {},
     "output_type": "execute_result"
    }
   ],
   "source": [
    "apple_std250 = close_px.AAPL.rolling(250,min_periods=10).std()\n",
    "apple_std250[5:12]"
   ]
  },
  {
   "cell_type": "code",
   "execution_count": 71,
   "id": "a71e79ca",
   "metadata": {},
   "outputs": [
    {
     "data": {
      "text/plain": [
       "<AxesSubplot:>"
      ]
     },
     "execution_count": 71,
     "metadata": {},
     "output_type": "execute_result"
    },
    {
     "data": {
      "image/png": "[encoded data removed]",
      "text/plain": [
       "<Figure size 432x288 with 1 Axes>"
      ]
     },
     "metadata": {
      "needs_background": "light"
     },
     "output_type": "display_data"
    }
   ],
   "source": [
    "figure = plt.figure()\n",
    "axes=figure.add_subplot(1,1,1)\n",
    "apple_std250.plot(ax=axes) #下圖解釋為每250天的平均差"
   ]
  },
  {
   "cell_type": "code",
   "execution_count": 75,
   "id": "9a754913",
   "metadata": {},
   "outputs": [
    {
     "data": {
      "text/plain": [
       "<AxesSubplot:>"
      ]
     },
     "execution_count": 75,
     "metadata": {},
     "output_type": "execute_result"
    },
    {
     "data": {
      "image/png": "[encoded data removed]",
      "text/plain": [
       "<Figure size 432x288 with 1 Axes>"
      ]
     },
     "metadata": {
      "needs_background": "light"
     },
     "output_type": "display_data"
    }
   ],
   "source": [
    "figure = plt.figure()\n",
    "axes=figure.add_subplot(1,1,1)\n",
    "close_px.rolling(60).mean().plot(ax=axes) #每60天的平均"
   ]
  },
  {
   "cell_type": "code",
   "execution_count": 78,
   "id": "55b3bdeb",
   "metadata": {},
   "outputs": [
    {
     "data": {
      "text/plain": [
       "<AxesSubplot:>"
      ]
     },
     "execution_count": 78,
     "metadata": {},
     "output_type": "execute_result"
    },
    {
     "data": {
      "image/png": "[encoded data removed]",
      "text/plain": [
       "<Figure size 432x288 with 1 Axes>"
      ]
     },
     "metadata": {
      "needs_background": "light"
     },
     "output_type": "display_data"
    }
   ],
   "source": [
    "figure = plt.figure()\n",
    "axes=figure.add_subplot(1,1,1)\n",
    "close_px['2003':'2005'].rolling(30).mean().plot(ax=axes)"
   ]
  }
 ],
 "metadata": {
  "kernelspec": {
   "display_name": "Python 3 (ipykernel)",
   "language": "python",
   "name": "python3"
  },
  "language_info": {
   "codemirror_mode": {
    "name": "ipython",
    "version": 3
   },
   "file_extension": ".py",
   "mimetype": "text/x-python",
   "name": "python",
   "nbconvert_exporter": "python",
   "pygments_lexer": "ipython3",
   "version": "3.10.2"
  }
 },
 "nbformat": 4,
 "nbformat_minor": 5
}

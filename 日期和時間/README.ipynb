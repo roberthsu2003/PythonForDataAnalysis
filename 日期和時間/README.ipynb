{
 "cells": [
  {
   "cell_type": "markdown",
   "id": "fda7d871",
   "metadata": {},
   "source": [
    "## 時間處理(Time Series)\n",
    "\n",
    "- 時間戳記(timestamp)\n",
    "- 固定時間(2021-1-1,2021-1,2021)\n",
    "- 一段時間(起始-結束)"
   ]
  },
  {
   "cell_type": "markdown",
   "id": "8a2b78d6",
   "metadata": {},
   "source": [
    "### Date and Time Data Types\n",
    "\n",
    "- python提供3種module處理時間datatime,time,calendar"
   ]
  },
  {
   "cell_type": "code",
   "execution_count": 3,
   "id": "9e60ae68",
   "metadata": {},
   "outputs": [
    {
     "data": {
      "text/plain": [
       "datetime.datetime(2021, 11, 23, 12, 34, 44, 50577)"
      ]
     },
     "execution_count": 3,
     "metadata": {},
     "output_type": "execute_result"
    }
   ],
   "source": [
    "from datetime import datetime\n",
    "now = datetime.now()\n",
    "now"
   ]
  },
  {
   "cell_type": "code",
   "execution_count": 4,
   "id": "cff1ae0c",
   "metadata": {},
   "outputs": [
    {
     "data": {
      "text/plain": [
       "(2021, 11, 23)"
      ]
     },
     "execution_count": 4,
     "metadata": {},
     "output_type": "execute_result"
    }
   ],
   "source": [
    "now.year, now.month, now.day"
   ]
  },
  {
   "cell_type": "markdown",
   "id": "c3358dd3",
   "metadata": {},
   "source": [
    "- timedelta 是提供儲存一段時間的類型"
   ]
  },
  {
   "cell_type": "code",
   "execution_count": 5,
   "id": "79d0a2ae",
   "metadata": {},
   "outputs": [
    {
     "data": {
      "text/plain": [
       "datetime.timedelta(days=2023, seconds=56700)"
      ]
     },
     "execution_count": 5,
     "metadata": {},
     "output_type": "execute_result"
    }
   ],
   "source": [
    "delta = datetime(2017,1,7) - datetime(2011, 6, 24, 8, 15)\n",
    "delta"
   ]
  },
  {
   "cell_type": "code",
   "execution_count": 8,
   "id": "6971156e",
   "metadata": {},
   "outputs": [
    {
     "data": {
      "text/plain": [
       "(2023, 56700)"
      ]
     },
     "execution_count": 8,
     "metadata": {},
     "output_type": "execute_result"
    }
   ],
   "source": [
    "delta.days, delta.seconds"
   ]
  },
  {
   "cell_type": "markdown",
   "id": "0a67672b",
   "metadata": {},
   "source": [
    " - 可以使用datatime和timedelta的數學運算來增加或減少時間"
   ]
  },
  {
   "cell_type": "code",
   "execution_count": 9,
   "id": "e2ae80a5",
   "metadata": {},
   "outputs": [
    {
     "data": {
      "text/plain": [
       "datetime.datetime(2011, 1, 19, 0, 0)"
      ]
     },
     "execution_count": 9,
     "metadata": {},
     "output_type": "execute_result"
    }
   ],
   "source": [
    "from datetime import timedelta\n",
    "start = datetime(2011, 1, 7)\n",
    "start + timedelta(12)"
   ]
  },
  {
   "cell_type": "code",
   "execution_count": 10,
   "id": "fd24151e",
   "metadata": {},
   "outputs": [
    {
     "data": {
      "text/plain": [
       "datetime.datetime(2010, 12, 14, 0, 0)"
      ]
     },
     "execution_count": 10,
     "metadata": {},
     "output_type": "execute_result"
    }
   ],
   "source": [
    "start - 2 * timedelta(12)"
   ]
  },
  {
   "cell_type": "markdown",
   "id": "c88a08b7",
   "metadata": {},
   "source": [
    "### 字串和Datatime之間的轉換\n",
    "\n",
    "- 使用str(),datetime的方法strftime(),將時間轉成字串\n",
    "\n",
    "%Y -> Four-digit year\n",
    "\n",
    "%y -> Two-digit year\n",
    "\n",
    "%m -> Two-digit month [01, 12] \n",
    "\n",
    "%d -> Two-digit day [01, 31]\n",
    "\n",
    "%H -> Hour (24-hour clock) [00, 23]\n",
    "\n",
    "%I -> Hour (12-hour clock) [01, 12]\n",
    "\n",
    "%M Two-digit minute [00, 59]\n",
    "\n",
    "%S Second [00, 61] (seconds 60, 61 account for leap seconds) \n",
    "\n",
    "%w Weekday as integer [0 (Sunday), 6]\n"
   ]
  },
  {
   "cell_type": "code",
   "execution_count": 14,
   "id": "2724322b",
   "metadata": {},
   "outputs": [
    {
     "data": {
      "text/plain": [
       "('2011-01-03 00:00:00', '2011-01-03')"
      ]
     },
     "execution_count": 14,
     "metadata": {},
     "output_type": "execute_result"
    }
   ],
   "source": [
    "stamp = datetime(2011, 1, 3)\n",
    "str(stamp) , stamp.strftime(\"%Y-%m-%d\")"
   ]
  },
  {
   "cell_type": "markdown",
   "id": "afa81a83",
   "metadata": {},
   "source": [
    "- 將字串轉成時間(datetime.strptime())"
   ]
  },
  {
   "cell_type": "code",
   "execution_count": 16,
   "id": "ac974928",
   "metadata": {},
   "outputs": [
    {
     "data": {
      "text/plain": [
       "datetime.datetime(2011, 3, 1, 0, 0)"
      ]
     },
     "execution_count": 16,
     "metadata": {},
     "output_type": "execute_result"
    }
   ],
   "source": [
    "value = '2011-03-01'\n",
    "datetime.strptime(value, \"%Y-%m-%d\")"
   ]
  },
  {
   "cell_type": "code",
   "execution_count": 17,
   "id": "1de633b7",
   "metadata": {},
   "outputs": [
    {
     "data": {
      "text/plain": [
       "[datetime.datetime(2011, 7, 6, 0, 0), datetime.datetime(2011, 8, 6, 0, 0)]"
      ]
     },
     "execution_count": 17,
     "metadata": {},
     "output_type": "execute_result"
    }
   ],
   "source": [
    "datestrs = ['7/6/2011', '8/6/2011']\n",
    "[datetime.strptime(x,'%m/%d/%Y') for x in datestrs]"
   ]
  },
  {
   "cell_type": "markdown",
   "id": "968e351b",
   "metadata": {},
   "source": [
    "datatime.strptime()非常好使用，但每次要指定格式也是非常麻煩，可以使用第3方套件dateutil的parse方法\n",
    "\n",
    "- pip install python-dateutil"
   ]
  },
  {
   "cell_type": "code",
   "execution_count": 20,
   "id": "6e17c34f",
   "metadata": {},
   "outputs": [
    {
     "data": {
      "text/plain": [
       "(datetime.datetime(2011, 1, 3, 0, 0), datetime.datetime(1997, 1, 31, 22, 15))"
      ]
     },
     "execution_count": 20,
     "metadata": {},
     "output_type": "execute_result"
    }
   ],
   "source": [
    "from dateutil.parser import parse\n",
    "\n",
    "parse('2011-01-03') , parse('Jan 31, 1997 10:15 PM')"
   ]
  },
  {
   "cell_type": "markdown",
   "id": "3382ad59",
   "metadata": {},
   "source": [
    "- 在國際上有時會日期放在前方，只要設定dayfirst=True來指示"
   ]
  },
  {
   "cell_type": "code",
   "execution_count": 23,
   "id": "f2805f2d",
   "metadata": {},
   "outputs": [
    {
     "data": {
      "text/plain": [
       "datetime.datetime(2011, 12, 6, 0, 0)"
      ]
     },
     "execution_count": 23,
     "metadata": {},
     "output_type": "execute_result"
    }
   ],
   "source": [
    "parse('6/12/2011',dayfirst=True)"
   ]
  },
  {
   "cell_type": "markdown",
   "id": "f4ad1fff",
   "metadata": {},
   "source": [
    "- pandas提供to_datetime方法，快速將包含時間字串的list轉換為DatetimeIndex"
   ]
  },
  {
   "cell_type": "code",
   "execution_count": 25,
   "id": "9e566bff",
   "metadata": {},
   "outputs": [
    {
     "data": {
      "text/plain": [
       "DatetimeIndex(['2011-07-06 12:00:00', '2011-08-06 00:00:00'], dtype='datetime64[ns]', freq=None)"
      ]
     },
     "execution_count": 25,
     "metadata": {},
     "output_type": "execute_result"
    }
   ],
   "source": [
    "import pandas as pd\n",
    "\n",
    "datestrs = ['2011-07-06 12:00:00', '2011-08-06 00:00:00']\n",
    "pd.to_datetime(datestrs)\n",
    "            "
   ]
  },
  {
   "cell_type": "markdown",
   "id": "76539ed8",
   "metadata": {},
   "source": [
    "### Time Series的基礎操作"
   ]
  },
  {
   "cell_type": "code",
   "execution_count": null,
   "id": "d5a28807",
   "metadata": {},
   "outputs": [],
   "source": []
  }
 ],
 "metadata": {
  "kernelspec": {
   "display_name": "Python 3",
   "language": "python",
   "name": "python3"
  },
  "language_info": {
   "codemirror_mode": {
    "name": "ipython",
    "version": 3
   },
   "file_extension": ".py",
   "mimetype": "text/x-python",
   "name": "python",
   "nbconvert_exporter": "python",
   "pygments_lexer": "ipython3",
   "version": "3.8.7"
  }
 },
 "nbformat": 4,
 "nbformat_minor": 5
}

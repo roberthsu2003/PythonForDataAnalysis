{
 "cells": [
  {
   "cell_type": "markdown",
   "id": "fda7d871",
   "metadata": {},
   "source": [
    "## 時間處理(Time Series)\n",
    "\n",
    "- 時間戳記(timestamp)\n",
    "- 固定時間(2021-1-1,2021-1,2021)\n",
    "- 一段時間(起始-結束)"
   ]
  },
  {
   "cell_type": "markdown",
   "id": "8a2b78d6",
   "metadata": {},
   "source": [
    "### Date and Time Data Types\n",
    "\n",
    "- python提供內建3種module處理時間datatime,time,calendar"
   ]
  },
  {
   "cell_type": "code",
   "execution_count": 2,
   "id": "9e60ae68",
   "metadata": {},
   "outputs": [
    {
     "data": {
      "text/plain": [
       "datetime.datetime(2023, 8, 23, 8, 43, 47, 384724)"
      ]
     },
     "execution_count": 2,
     "metadata": {},
     "output_type": "execute_result"
    }
   ],
   "source": [
    "from datetime import datetime\n",
    "now = datetime.now()\n",
    "now"
   ]
  },
  {
   "cell_type": "code",
   "execution_count": 3,
   "id": "cff1ae0c",
   "metadata": {},
   "outputs": [
    {
     "data": {
      "text/plain": [
       "(2023, 8, 23)"
      ]
     },
     "execution_count": 3,
     "metadata": {},
     "output_type": "execute_result"
    }
   ],
   "source": [
    "now.year, now.month, now.day"
   ]
  },
  {
   "cell_type": "markdown",
   "id": "c3358dd3",
   "metadata": {},
   "source": [
    "- datetime.timedelta 是提供儲存一段時間的類型"
   ]
  },
  {
   "cell_type": "code",
   "execution_count": 4,
   "id": "79d0a2ae",
   "metadata": {},
   "outputs": [
    {
     "data": {
      "text/plain": [
       "datetime.timedelta(days=2023, seconds=56700)"
      ]
     },
     "execution_count": 4,
     "metadata": {},
     "output_type": "execute_result"
    }
   ],
   "source": [
    "delta = datetime(2017,1,7) - datetime(2011, 6, 24, 8, 15)\n",
    "delta"
   ]
  },
  {
   "cell_type": "code",
   "execution_count": 5,
   "id": "6971156e",
   "metadata": {},
   "outputs": [
    {
     "data": {
      "text/plain": [
       "(2023, 56700)"
      ]
     },
     "execution_count": 5,
     "metadata": {},
     "output_type": "execute_result"
    }
   ],
   "source": [
    "delta.days, delta.seconds"
   ]
  },
  {
   "cell_type": "markdown",
   "id": "0a67672b",
   "metadata": {},
   "source": [
    " - 可以使用datatime和timedelta的數學運算來增加或減少時間"
   ]
  },
  {
   "cell_type": "code",
   "execution_count": 6,
   "id": "e2ae80a5",
   "metadata": {},
   "outputs": [
    {
     "data": {
      "text/plain": [
       "datetime.datetime(2011, 1, 19, 0, 0)"
      ]
     },
     "execution_count": 6,
     "metadata": {},
     "output_type": "execute_result"
    }
   ],
   "source": [
    "from datetime import timedelta\n",
    "start = datetime(2011, 1, 7)\n",
    "start + timedelta(12)"
   ]
  },
  {
   "cell_type": "code",
   "execution_count": 7,
   "id": "fd24151e",
   "metadata": {},
   "outputs": [
    {
     "data": {
      "text/plain": [
       "datetime.datetime(2010, 12, 14, 0, 0)"
      ]
     },
     "execution_count": 7,
     "metadata": {},
     "output_type": "execute_result"
    }
   ],
   "source": [
    "start - 2 * timedelta(12)"
   ]
  },
  {
   "cell_type": "markdown",
   "id": "c88a08b7",
   "metadata": {},
   "source": [
    "### 字串和Datatime之間的轉換\n",
    "\n",
    "#### 使用str(),datetime的方法strftime(),將時間轉成字串\n",
    "\n",
    "%Y -> Four-digit year\n",
    "\n",
    "%y -> Two-digit year\n",
    "\n",
    "%m -> Two-digit month [01, 12] \n",
    "\n",
    "%d -> Two-digit day [01, 31]\n",
    "\n",
    "%H -> Hour (24-hour clock) [00, 23]\n",
    "\n",
    "%I -> Hour (12-hour clock) [01, 12]\n",
    "\n",
    "%M Two-digit minute [00, 59]\n",
    "\n",
    "%S Second [00, 61] (seconds 60, 61 account for leap seconds) \n",
    "\n",
    "%w Weekday as integer [0 (Sunday), 6]\n"
   ]
  },
  {
   "cell_type": "code",
   "execution_count": 8,
   "id": "2724322b",
   "metadata": {},
   "outputs": [
    {
     "data": {
      "text/plain": [
       "('2011-01-03 00:00:00', '2011-01-03')"
      ]
     },
     "execution_count": 8,
     "metadata": {},
     "output_type": "execute_result"
    }
   ],
   "source": [
    "stamp = datetime(2011, 1, 3)\n",
    "str(stamp) , stamp.strftime(\"%Y-%m-%d\")"
   ]
  },
  {
   "cell_type": "markdown",
   "id": "afa81a83",
   "metadata": {},
   "source": [
    "### 將字串轉成時間(datetime.strptime())"
   ]
  },
  {
   "cell_type": "code",
   "execution_count": 9,
   "id": "ac974928",
   "metadata": {},
   "outputs": [
    {
     "data": {
      "text/plain": [
       "datetime.datetime(2011, 3, 1, 0, 0)"
      ]
     },
     "execution_count": 9,
     "metadata": {},
     "output_type": "execute_result"
    }
   ],
   "source": [
    "value = '2011-03-01'\n",
    "datetime.strptime(value, \"%Y-%m-%d\")"
   ]
  },
  {
   "cell_type": "code",
   "execution_count": 10,
   "id": "1de633b7",
   "metadata": {},
   "outputs": [
    {
     "data": {
      "text/plain": [
       "[datetime.datetime(2011, 7, 6, 0, 0), datetime.datetime(2011, 8, 6, 0, 0)]"
      ]
     },
     "execution_count": 10,
     "metadata": {},
     "output_type": "execute_result"
    }
   ],
   "source": [
    "datestrs = ['7/6/2011', '8/6/2011']\n",
    "[datetime.strptime(x,'%m/%d/%Y') for x in datestrs]"
   ]
  },
  {
   "cell_type": "markdown",
   "id": "968e351b",
   "metadata": {},
   "source": [
    "datatime.strptime()非常好使用，但每次要指定格式也是非常麻煩，可以使用第3方套件dateutil的parse方法\n",
    "\n",
    "- pip install python-dateutil"
   ]
  },
  {
   "cell_type": "code",
   "execution_count": 11,
   "id": "6e17c34f",
   "metadata": {},
   "outputs": [
    {
     "data": {
      "text/plain": [
       "(datetime.datetime(2011, 1, 3, 0, 0), datetime.datetime(1997, 1, 31, 22, 15))"
      ]
     },
     "execution_count": 11,
     "metadata": {},
     "output_type": "execute_result"
    }
   ],
   "source": [
    "from dateutil.parser import parse\n",
    "\n",
    "parse('2011-01-03') , parse('Jan 31, 1997 10:15 PM')"
   ]
  },
  {
   "cell_type": "markdown",
   "id": "3382ad59",
   "metadata": {},
   "source": [
    "- 在國際上有時會將日期放在前方，只要設定dayfirst=True來指示"
   ]
  },
  {
   "cell_type": "code",
   "execution_count": 12,
   "id": "f2805f2d",
   "metadata": {},
   "outputs": [
    {
     "data": {
      "text/plain": [
       "datetime.datetime(2011, 12, 6, 0, 0)"
      ]
     },
     "execution_count": 12,
     "metadata": {},
     "output_type": "execute_result"
    }
   ],
   "source": [
    "parse('6/12/2011',dayfirst=True)"
   ]
  },
  {
   "cell_type": "markdown",
   "id": "f4ad1fff",
   "metadata": {},
   "source": [
    "#### pandas提供to_datetime方法，快速將包含時間字串(ISO8601)的list轉換為DatetimeIndex"
   ]
  },
  {
   "cell_type": "code",
   "execution_count": 13,
   "id": "9e566bff",
   "metadata": {},
   "outputs": [
    {
     "data": {
      "text/plain": [
       "DatetimeIndex(['2011-07-06 12:00:00', '2011-08-06 00:00:00'], dtype='datetime64[ns]', freq=None)"
      ]
     },
     "execution_count": 13,
     "metadata": {},
     "output_type": "execute_result"
    }
   ],
   "source": [
    "import pandas as pd\n",
    "\n",
    "datestrs = ['2011-07-06 12:00:00', '2011-08-06 00:00:00']\n",
    "pd.to_datetime(datestrs)\n",
    "            "
   ]
  },
  {
   "cell_type": "markdown",
   "id": "76539ed8",
   "metadata": {},
   "source": [
    "### Time Series的基礎操作\n",
    "\n",
    "- 最常使用的是將Time Series常作index\n",
    "- 建立Time Series時使用的是datetime物件或str"
   ]
  },
  {
   "cell_type": "code",
   "execution_count": 14,
   "id": "d5a28807",
   "metadata": {},
   "outputs": [
    {
     "data": {
      "text/plain": [
       "2021-01-02    1.356476\n",
       "2021-01-05    1.360363\n",
       "2021-01-09   -0.558003\n",
       "2021-01-13    1.157432\n",
       "2021-01-21   -1.041616\n",
       "dtype: float64"
      ]
     },
     "execution_count": 14,
     "metadata": {},
     "output_type": "execute_result"
    }
   ],
   "source": [
    "#將datetime放入list內\n",
    "import numpy as np\n",
    "import pandas as pd\n",
    "from datetime import datetime\n",
    "\n",
    "dates = [datetime(2021,1,2),\n",
    "         datetime(2021,1,5),\n",
    "         datetime(2021,1,9),\n",
    "         datetime(2021,1,13),\n",
    "         datetime(2021,1,21)]\n",
    "ts = pd.Series(np.random.randn(5),index=dates)\n",
    "ts"
   ]
  },
  {
   "cell_type": "code",
   "execution_count": 15,
   "id": "665a8e99",
   "metadata": {},
   "outputs": [
    {
     "data": {
      "text/plain": [
       "DatetimeIndex(['2021-01-02', '2021-01-05', '2021-01-09', '2021-01-13',\n",
       "               '2021-01-21'],\n",
       "              dtype='datetime64[ns]', freq=None)"
      ]
     },
     "execution_count": 15,
     "metadata": {},
     "output_type": "execute_result"
    }
   ],
   "source": [
    "#DatetimeIndex\n",
    "#注意freq=None,沒有固定的頻率\n",
    "ts.index"
   ]
  },
  {
   "cell_type": "markdown",
   "id": "181df716",
   "metadata": {},
   "source": [
    "### 時間當作索引時,數學運算是使用有相同索引的內容互相運算"
   ]
  },
  {
   "cell_type": "code",
   "execution_count": 16,
   "id": "ba5efa82",
   "metadata": {},
   "outputs": [
    {
     "data": {
      "text/plain": [
       "2021-01-02    1.356476\n",
       "2021-01-09   -0.558003\n",
       "2021-01-21   -1.041616\n",
       "dtype: float64"
      ]
     },
     "execution_count": 16,
     "metadata": {},
     "output_type": "execute_result"
    }
   ],
   "source": [
    "ts[::2]"
   ]
  },
  {
   "cell_type": "code",
   "execution_count": 17,
   "id": "408dcfeb",
   "metadata": {},
   "outputs": [
    {
     "data": {
      "text/plain": [
       "2021-01-02    2.712951\n",
       "2021-01-05         NaN\n",
       "2021-01-09   -1.116007\n",
       "2021-01-13         NaN\n",
       "2021-01-21   -2.083231\n",
       "dtype: float64"
      ]
     },
     "execution_count": 17,
     "metadata": {},
     "output_type": "execute_result"
    }
   ],
   "source": [
    "ts + ts[::2]"
   ]
  },
  {
   "cell_type": "markdown",
   "id": "246f017f",
   "metadata": {},
   "source": [
    "### pandas內取出的時間物件是pandas內的Timestamp物件"
   ]
  },
  {
   "cell_type": "code",
   "execution_count": 18,
   "id": "330f26ee",
   "metadata": {},
   "outputs": [
    {
     "data": {
      "text/plain": [
       "Timestamp('2021-01-02 00:00:00')"
      ]
     },
     "metadata": {},
     "output_type": "display_data"
    },
    {
     "data": {
      "text/plain": [
       "pandas._libs.tslibs.timestamps.Timestamp"
      ]
     },
     "execution_count": 18,
     "metadata": {},
     "output_type": "execute_result"
    }
   ],
   "source": [
    "stamp = ts.index[0]\n",
    "display(stamp)\n",
    "stamp.__class__"
   ]
  },
  {
   "cell_type": "markdown",
   "id": "d1e7a69a",
   "metadata": {},
   "source": [
    "### pandas的Timestamp物件的操作相似於datetime.datetime"
   ]
  },
  {
   "cell_type": "code",
   "execution_count": 19,
   "id": "c0320023",
   "metadata": {},
   "outputs": [
    {
     "data": {
      "text/plain": [
       "(Timestamp('2021-01-02 00:00:00'), 2021, 2, 0, 0, 0)"
      ]
     },
     "execution_count": 19,
     "metadata": {},
     "output_type": "execute_result"
    }
   ],
   "source": [
    "stamp = ts.index[0]\n",
    "stamp, stamp.year, stamp.day, stamp.hour, stamp.minute, stamp.second"
   ]
  },
  {
   "cell_type": "code",
   "execution_count": 20,
   "id": "3e808df4",
   "metadata": {},
   "outputs": [
    {
     "data": {
      "text/plain": [
       "'2021-01-02 00:00:00'"
      ]
     },
     "execution_count": 20,
     "metadata": {},
     "output_type": "execute_result"
    }
   ],
   "source": [
    "stamp.strftime('%Y-%m-%d %X')"
   ]
  },
  {
   "cell_type": "markdown",
   "id": "08d686da",
   "metadata": {},
   "source": [
    "### Indexing, Slection, Subsetting"
   ]
  },
  {
   "cell_type": "code",
   "execution_count": 21,
   "id": "9d6d0a91",
   "metadata": {},
   "outputs": [
    {
     "data": {
      "text/plain": [
       "2021-01-02    1.356476\n",
       "2021-01-05    1.360363\n",
       "2021-01-09   -0.558003\n",
       "2021-01-13    1.157432\n",
       "2021-01-21   -1.041616\n",
       "dtype: float64"
      ]
     },
     "execution_count": 21,
     "metadata": {},
     "output_type": "execute_result"
    }
   ],
   "source": [
    "ts"
   ]
  },
  {
   "cell_type": "code",
   "execution_count": 22,
   "id": "757cab2e",
   "metadata": {},
   "outputs": [
    {
     "data": {
      "text/plain": [
       "-0.5580034567314656"
      ]
     },
     "execution_count": 22,
     "metadata": {},
     "output_type": "execute_result"
    }
   ],
   "source": [
    "#Timestamp當作索引\n",
    "\n",
    "stamp=ts.index[2]\n",
    "ts[stamp]"
   ]
  },
  {
   "cell_type": "markdown",
   "id": "1c92b4cd",
   "metadata": {},
   "source": [
    "### 也可以使用時間字串(符合iso8601)當作索引"
   ]
  },
  {
   "cell_type": "code",
   "execution_count": 23,
   "id": "1117012b",
   "metadata": {},
   "outputs": [
    {
     "data": {
      "text/plain": [
       "(1.3564756107353397, 1.3564756107353397, 1.3564756107353397)"
      ]
     },
     "execution_count": 23,
     "metadata": {},
     "output_type": "execute_result"
    }
   ],
   "source": [
    "#時間字串當作索引\n",
    "ts['2021-01-02'], ts['1/2/2021'], ts['20210102']"
   ]
  },
  {
   "cell_type": "markdown",
   "id": "f9c5fff4",
   "metadata": {},
   "source": [
    "### 自行建立有DateTime的索引\n",
    "### 使用pd.date_range(),periods,freq,建立有指定長度和有頻率的Datetime索引 "
   ]
  },
  {
   "cell_type": "code",
   "execution_count": 24,
   "id": "a3f88a78",
   "metadata": {},
   "outputs": [
    {
     "data": {
      "text/plain": [
       "2019-01-01   -0.489000\n",
       "2019-01-02    0.167878\n",
       "2019-01-03   -0.258884\n",
       "2019-01-04   -3.001346\n",
       "2019-01-05   -0.228995\n",
       "                ...   \n",
       "2021-09-22    0.565192\n",
       "2021-09-23   -0.751886\n",
       "2021-09-24    1.268294\n",
       "2021-09-25    0.809234\n",
       "2021-09-26    1.126213\n",
       "Freq: D, Length: 1000, dtype: float64"
      ]
     },
     "execution_count": 24,
     "metadata": {},
     "output_type": "execute_result"
    }
   ],
   "source": [
    "#使用pd.date_range()建立長的Time Series \n",
    "longer_ts = pd.Series(np.random.randn(1000),\n",
    "                      index=pd.date_range('1/1/2019',periods=1000))\n",
    "longer_ts"
   ]
  },
  {
   "cell_type": "code",
   "execution_count": 25,
   "id": "b9667087",
   "metadata": {},
   "outputs": [
    {
     "data": {
      "text/plain": [
       "2019-01-01   -0.489000\n",
       "2019-01-02    0.167878\n",
       "2019-01-03   -0.258884\n",
       "2019-01-04   -3.001346\n",
       "2019-01-05   -0.228995\n",
       "                ...   \n",
       "2019-12-27   -1.006166\n",
       "2019-12-28    4.176724\n",
       "2019-12-29    0.887016\n",
       "2019-12-30    0.736260\n",
       "2019-12-31   -0.088860\n",
       "Freq: D, Length: 365, dtype: float64"
      ]
     },
     "execution_count": 25,
     "metadata": {},
     "output_type": "execute_result"
    }
   ],
   "source": [
    "#只索引年份,會索引出所有該年份的row\n",
    "longer_ts['2019']"
   ]
  },
  {
   "cell_type": "code",
   "execution_count": 26,
   "id": "3caabb68",
   "metadata": {},
   "outputs": [
    {
     "data": {
      "text/plain": [
       "2019-05-01    1.064086\n",
       "2019-05-02    0.267983\n",
       "2019-05-03    0.581139\n",
       "2019-05-04    0.978540\n",
       "2019-05-05    0.837740\n",
       "2019-05-06    2.719814\n",
       "2019-05-07   -0.807028\n",
       "2019-05-08    0.119478\n",
       "2019-05-09   -1.571754\n",
       "2019-05-10    1.150924\n",
       "2019-05-11   -1.113889\n",
       "2019-05-12    0.989216\n",
       "2019-05-13    1.552686\n",
       "2019-05-14    2.616847\n",
       "2019-05-15    0.406916\n",
       "2019-05-16    0.555172\n",
       "2019-05-17   -0.421152\n",
       "2019-05-18   -1.187528\n",
       "2019-05-19   -0.439742\n",
       "2019-05-20    1.123338\n",
       "2019-05-21   -0.422954\n",
       "2019-05-22   -2.972330\n",
       "2019-05-23    0.038841\n",
       "2019-05-24    0.907950\n",
       "2019-05-25    0.823587\n",
       "2019-05-26    1.018010\n",
       "2019-05-27   -0.046346\n",
       "2019-05-28    0.869518\n",
       "2019-05-29    1.720772\n",
       "2019-05-30    1.509438\n",
       "2019-05-31   -1.194579\n",
       "Freq: D, dtype: float64"
      ]
     },
     "execution_count": 26,
     "metadata": {},
     "output_type": "execute_result"
    }
   ],
   "source": [
    "#只索引年份和月份\n",
    "longer_ts['2019-05']"
   ]
  },
  {
   "cell_type": "markdown",
   "id": "b9bbb0d6",
   "metadata": {},
   "source": [
    "### 也可以使用datetime物件"
   ]
  },
  {
   "cell_type": "code",
   "execution_count": 27,
   "id": "6195de1d",
   "metadata": {},
   "outputs": [
    {
     "data": {
      "text/plain": [
       "2021-01-01   -0.513216\n",
       "2021-01-02   -0.624265\n",
       "2021-01-03   -1.098020\n",
       "2021-01-04    0.328603\n",
       "2021-01-05    0.477065\n",
       "                ...   \n",
       "2021-09-22    0.565192\n",
       "2021-09-23   -0.751886\n",
       "2021-09-24    1.268294\n",
       "2021-09-25    0.809234\n",
       "2021-09-26    1.126213\n",
       "Freq: D, Length: 269, dtype: float64"
      ]
     },
     "execution_count": 27,
     "metadata": {},
     "output_type": "execute_result"
    }
   ],
   "source": [
    "#使用slicing\n",
    "longer_ts[datetime(2021,1,1):]"
   ]
  },
  {
   "cell_type": "markdown",
   "id": "6932a504",
   "metadata": {},
   "source": [
    "### 注意不管是indexing還是slicing,全部是view,而不是copy新的一份,會更改到原始值"
   ]
  },
  {
   "cell_type": "code",
   "execution_count": 28,
   "id": "16794c0d",
   "metadata": {},
   "outputs": [
    {
     "data": {
      "text/plain": [
       "2021-01-01   -0.513216\n",
       "2021-01-02   -0.624265\n",
       "2021-01-03   -1.098020\n",
       "2021-01-04    0.328603\n",
       "2021-01-05    0.477065\n",
       "                ...   \n",
       "2021-03-27   -0.281709\n",
       "2021-03-28   -0.328775\n",
       "2021-03-29   -1.443185\n",
       "2021-03-30    1.131995\n",
       "2021-03-31   -0.249297\n",
       "Freq: D, Length: 90, dtype: float64"
      ]
     },
     "execution_count": 28,
     "metadata": {},
     "output_type": "execute_result"
    }
   ],
   "source": [
    "longer_ts['2021-1-1':'2021-3-31']"
   ]
  },
  {
   "cell_type": "code",
   "execution_count": 29,
   "id": "cd1332a5",
   "metadata": {},
   "outputs": [
    {
     "data": {
      "text/html": [
       "<div>\n",
       "<style scoped>\n",
       "    .dataframe tbody tr th:only-of-type {\n",
       "        vertical-align: middle;\n",
       "    }\n",
       "\n",
       "    .dataframe tbody tr th {\n",
       "        vertical-align: top;\n",
       "    }\n",
       "\n",
       "    .dataframe thead th {\n",
       "        text-align: right;\n",
       "    }\n",
       "</style>\n",
       "<table border=\"1\" class=\"dataframe\">\n",
       "  <thead>\n",
       "    <tr style=\"text-align: right;\">\n",
       "      <th></th>\n",
       "      <th>台北</th>\n",
       "      <th>台中</th>\n",
       "      <th>高雄</th>\n",
       "      <th>花蓮</th>\n",
       "    </tr>\n",
       "  </thead>\n",
       "  <tbody>\n",
       "    <tr>\n",
       "      <th>2021-01-06</th>\n",
       "      <td>-0.641485</td>\n",
       "      <td>-0.148232</td>\n",
       "      <td>0.238642</td>\n",
       "      <td>1.173640</td>\n",
       "    </tr>\n",
       "    <tr>\n",
       "      <th>2021-01-13</th>\n",
       "      <td>0.205896</td>\n",
       "      <td>0.370623</td>\n",
       "      <td>-0.453794</td>\n",
       "      <td>-0.799541</td>\n",
       "    </tr>\n",
       "    <tr>\n",
       "      <th>2021-01-20</th>\n",
       "      <td>0.036222</td>\n",
       "      <td>0.945579</td>\n",
       "      <td>-0.276663</td>\n",
       "      <td>0.185651</td>\n",
       "    </tr>\n",
       "    <tr>\n",
       "      <th>2021-01-27</th>\n",
       "      <td>1.725112</td>\n",
       "      <td>1.111319</td>\n",
       "      <td>-0.393486</td>\n",
       "      <td>-2.073959</td>\n",
       "    </tr>\n",
       "    <tr>\n",
       "      <th>2021-02-03</th>\n",
       "      <td>-0.130327</td>\n",
       "      <td>0.897158</td>\n",
       "      <td>0.152591</td>\n",
       "      <td>0.555967</td>\n",
       "    </tr>\n",
       "    <tr>\n",
       "      <th>...</th>\n",
       "      <td>...</td>\n",
       "      <td>...</td>\n",
       "      <td>...</td>\n",
       "      <td>...</td>\n",
       "    </tr>\n",
       "    <tr>\n",
       "      <th>2022-11-02</th>\n",
       "      <td>-0.491932</td>\n",
       "      <td>1.573605</td>\n",
       "      <td>1.178404</td>\n",
       "      <td>-0.285410</td>\n",
       "    </tr>\n",
       "    <tr>\n",
       "      <th>2022-11-09</th>\n",
       "      <td>1.855992</td>\n",
       "      <td>-0.425456</td>\n",
       "      <td>1.002960</td>\n",
       "      <td>-0.616678</td>\n",
       "    </tr>\n",
       "    <tr>\n",
       "      <th>2022-11-16</th>\n",
       "      <td>-0.486682</td>\n",
       "      <td>-0.322926</td>\n",
       "      <td>-0.764579</td>\n",
       "      <td>1.487810</td>\n",
       "    </tr>\n",
       "    <tr>\n",
       "      <th>2022-11-23</th>\n",
       "      <td>2.118630</td>\n",
       "      <td>-0.044236</td>\n",
       "      <td>-0.509734</td>\n",
       "      <td>0.804918</td>\n",
       "    </tr>\n",
       "    <tr>\n",
       "      <th>2022-11-30</th>\n",
       "      <td>1.024901</td>\n",
       "      <td>0.785413</td>\n",
       "      <td>-0.945740</td>\n",
       "      <td>-0.110121</td>\n",
       "    </tr>\n",
       "  </tbody>\n",
       "</table>\n",
       "<p>100 rows × 4 columns</p>\n",
       "</div>"
      ],
      "text/plain": [
       "                  台北        台中        高雄        花蓮\n",
       "2021-01-06 -0.641485 -0.148232  0.238642  1.173640\n",
       "2021-01-13  0.205896  0.370623 -0.453794 -0.799541\n",
       "2021-01-20  0.036222  0.945579 -0.276663  0.185651\n",
       "2021-01-27  1.725112  1.111319 -0.393486 -2.073959\n",
       "2021-02-03 -0.130327  0.897158  0.152591  0.555967\n",
       "...              ...       ...       ...       ...\n",
       "2022-11-02 -0.491932  1.573605  1.178404 -0.285410\n",
       "2022-11-09  1.855992 -0.425456  1.002960 -0.616678\n",
       "2022-11-16 -0.486682 -0.322926 -0.764579  1.487810\n",
       "2022-11-23  2.118630 -0.044236 -0.509734  0.804918\n",
       "2022-11-30  1.024901  0.785413 -0.945740 -0.110121\n",
       "\n",
       "[100 rows x 4 columns]"
      ]
     },
     "execution_count": 29,
     "metadata": {},
     "output_type": "execute_result"
    }
   ],
   "source": [
    "#DataFrame\n",
    "dates = pd.date_range('1/1/2021',periods=100,freq='W-WED') #查freq說明書有說明\n",
    "long_df = pd.DataFrame(np.random.randn(100,4),\n",
    "                      index = dates,\n",
    "                      columns = ['台北','台中','高雄','花蓮'])\n",
    "long_df"
   ]
  },
  {
   "cell_type": "code",
   "execution_count": 30,
   "id": "16ea5e57",
   "metadata": {},
   "outputs": [
    {
     "data": {
      "text/html": [
       "<div>\n",
       "<style scoped>\n",
       "    .dataframe tbody tr th:only-of-type {\n",
       "        vertical-align: middle;\n",
       "    }\n",
       "\n",
       "    .dataframe tbody tr th {\n",
       "        vertical-align: top;\n",
       "    }\n",
       "\n",
       "    .dataframe thead th {\n",
       "        text-align: right;\n",
       "    }\n",
       "</style>\n",
       "<table border=\"1\" class=\"dataframe\">\n",
       "  <thead>\n",
       "    <tr style=\"text-align: right;\">\n",
       "      <th></th>\n",
       "      <th>台北</th>\n",
       "      <th>台中</th>\n",
       "      <th>高雄</th>\n",
       "      <th>花蓮</th>\n",
       "    </tr>\n",
       "  </thead>\n",
       "  <tbody>\n",
       "    <tr>\n",
       "      <th>2021-03-03</th>\n",
       "      <td>-0.236340</td>\n",
       "      <td>2.251844</td>\n",
       "      <td>0.893945</td>\n",
       "      <td>-0.282833</td>\n",
       "    </tr>\n",
       "    <tr>\n",
       "      <th>2021-03-10</th>\n",
       "      <td>1.683904</td>\n",
       "      <td>-0.353571</td>\n",
       "      <td>-1.481866</td>\n",
       "      <td>0.313446</td>\n",
       "    </tr>\n",
       "    <tr>\n",
       "      <th>2021-03-17</th>\n",
       "      <td>1.853897</td>\n",
       "      <td>-0.007289</td>\n",
       "      <td>0.191716</td>\n",
       "      <td>-1.047949</td>\n",
       "    </tr>\n",
       "    <tr>\n",
       "      <th>2021-03-24</th>\n",
       "      <td>0.986470</td>\n",
       "      <td>1.736924</td>\n",
       "      <td>-0.442780</td>\n",
       "      <td>0.236367</td>\n",
       "    </tr>\n",
       "    <tr>\n",
       "      <th>2021-03-31</th>\n",
       "      <td>2.590383</td>\n",
       "      <td>1.433820</td>\n",
       "      <td>1.670246</td>\n",
       "      <td>-0.684650</td>\n",
       "    </tr>\n",
       "  </tbody>\n",
       "</table>\n",
       "</div>"
      ],
      "text/plain": [
       "                  台北        台中        高雄        花蓮\n",
       "2021-03-03 -0.236340  2.251844  0.893945 -0.282833\n",
       "2021-03-10  1.683904 -0.353571 -1.481866  0.313446\n",
       "2021-03-17  1.853897 -0.007289  0.191716 -1.047949\n",
       "2021-03-24  0.986470  1.736924 -0.442780  0.236367\n",
       "2021-03-31  2.590383  1.433820  1.670246 -0.684650"
      ]
     },
     "execution_count": 30,
     "metadata": {},
     "output_type": "execute_result"
    }
   ],
   "source": [
    "#使用loc\n",
    "long_df.loc['2021-03']"
   ]
  },
  {
   "cell_type": "markdown",
   "id": "5642931b",
   "metadata": {},
   "source": [
    "### 重複的Time Series"
   ]
  },
  {
   "cell_type": "code",
   "execution_count": 31,
   "id": "ecc222e3",
   "metadata": {},
   "outputs": [
    {
     "data": {
      "text/plain": [
       "2021-01-01    0\n",
       "2021-01-02    1\n",
       "2021-01-02    2\n",
       "2021-01-02    3\n",
       "2021-01-03    4\n",
       "dtype: int64"
      ]
     },
     "execution_count": 31,
     "metadata": {},
     "output_type": "execute_result"
    }
   ],
   "source": [
    "dates = pd.DatetimeIndex(['1/1/2021','1/2/2021','1/2/2021','1/2/2021','1/3/2021'])\n",
    "dup_ts = pd.Series(np.arange(5), index=dates)\n",
    "dup_ts"
   ]
  },
  {
   "cell_type": "markdown",
   "id": "703ece31",
   "metadata": {},
   "source": [
    "### 使用index的is_unique屬性檢查是不是都是唯一值"
   ]
  },
  {
   "cell_type": "code",
   "execution_count": 32,
   "id": "ec3a8a6e",
   "metadata": {},
   "outputs": [
    {
     "data": {
      "text/plain": [
       "False"
      ]
     },
     "execution_count": 32,
     "metadata": {},
     "output_type": "execute_result"
    }
   ],
   "source": [
    "#檢查是否有重覆\n",
    "dup_ts.index.is_unique"
   ]
  },
  {
   "cell_type": "code",
   "execution_count": 33,
   "id": "28ddce7b",
   "metadata": {},
   "outputs": [
    {
     "data": {
      "text/plain": [
       "(4,\n",
       " 2021-01-02    1\n",
       " 2021-01-02    2\n",
       " 2021-01-02    3\n",
       " dtype: int64)"
      ]
     },
     "execution_count": 33,
     "metadata": {},
     "output_type": "execute_result"
    }
   ],
   "source": [
    "dup_ts['1/3/2021'], dup_ts['1/2/2021']"
   ]
  },
  {
   "cell_type": "markdown",
   "id": "2c30abb5",
   "metadata": {},
   "source": [
    "### 檢查DatetimeIndex是否有重覆,使用groupby來整理重覆的資料\n",
    "- step1:使用groupby(level0)\n",
    "- step2:count()"
   ]
  },
  {
   "cell_type": "code",
   "execution_count": 34,
   "id": "2061033d",
   "metadata": {},
   "outputs": [
    {
     "data": {
      "text/plain": [
       "(2021-01-01    0.0\n",
       " 2021-01-02    2.0\n",
       " 2021-01-03    4.0\n",
       " dtype: float64,\n",
       " 2021-01-01    1\n",
       " 2021-01-02    3\n",
       " 2021-01-03    1\n",
       " dtype: int64)"
      ]
     },
     "execution_count": 34,
     "metadata": {},
     "output_type": "execute_result"
    }
   ],
   "source": [
    "#使用groupby()處理\n",
    "grouped = dup_ts.groupby(level=0)\n",
    "grouped.mean(), grouped.count()"
   ]
  },
  {
   "cell_type": "markdown",
   "id": "9230bd84",
   "metadata": {},
   "source": [
    "## Date Range(時間範圍),Frequencies(頻率),Shifting(上下偏移)\n",
    "一般在pandas的time series被假設為不規則的頻率,然而有時會為了滿足一些應用程式,必需要的是相同頻率的time series,必需額外使用一些pandas time series的工具,將不規則的頻率的轉換為相同頻率,這樣的轉換稱為resample"
   ]
  },
  {
   "cell_type": "code",
   "execution_count": 35,
   "id": "b98a506c",
   "metadata": {},
   "outputs": [
    {
     "data": {
      "text/plain": [
       "2021-01-02   -0.836588\n",
       "2021-01-05   -0.556704\n",
       "2021-01-09   -1.339034\n",
       "2021-01-13   -0.357827\n",
       "2021-01-21    0.569236\n",
       "dtype: float64"
      ]
     },
     "execution_count": 35,
     "metadata": {},
     "output_type": "execute_result"
    }
   ],
   "source": [
    "import numpy as np\n",
    "import pandas as pd\n",
    "from datetime import datetime\n",
    "\n",
    "dates = [datetime(2021,1,2),\n",
    "         datetime(2021,1,5),\n",
    "         datetime(2021,1,9),\n",
    "         datetime(2021,1,13),\n",
    "         datetime(2021,1,21)]\n",
    "ts = pd.Series(np.random.randn(5),index=dates)\n",
    "ts"
   ]
  },
  {
   "cell_type": "markdown",
   "id": "adc340ff",
   "metadata": {},
   "source": [
    "- 使用resample('D')\n",
    "建立以日為頻率的time series\n",
    "\n",
    "- ffill()\n",
    "填滿沒有資料的索引"
   ]
  },
  {
   "cell_type": "code",
   "execution_count": 36,
   "id": "33be2b89",
   "metadata": {},
   "outputs": [
    {
     "data": {
      "text/plain": [
       "<pandas.core.resample.DatetimeIndexResampler object at 0x7f8f079b5a20>"
      ]
     },
     "execution_count": 36,
     "metadata": {},
     "output_type": "execute_result"
    }
   ],
   "source": [
    "resampler = ts.resample('D')\n",
    "resampler"
   ]
  },
  {
   "cell_type": "markdown",
   "id": "9b2a8372",
   "metadata": {},
   "source": [
    "### 建立 Date Range的time Series\n",
    "- 使用pd.date_range()"
   ]
  },
  {
   "cell_type": "code",
   "execution_count": 37,
   "id": "4563586f",
   "metadata": {},
   "outputs": [
    {
     "data": {
      "text/plain": [
       "DatetimeIndex(['2020-01-01', '2020-01-02', '2020-01-03', '2020-01-04',\n",
       "               '2020-01-05', '2020-01-06', '2020-01-07', '2020-01-08',\n",
       "               '2020-01-09', '2020-01-10',\n",
       "               ...\n",
       "               '2022-05-23', '2022-05-24', '2022-05-25', '2022-05-26',\n",
       "               '2022-05-27', '2022-05-28', '2022-05-29', '2022-05-30',\n",
       "               '2022-05-31', '2022-06-01'],\n",
       "              dtype='datetime64[ns]', length=883, freq='D')"
      ]
     },
     "execution_count": 37,
     "metadata": {},
     "output_type": "execute_result"
    }
   ],
   "source": [
    "#使用開始日期和結束日期\n",
    "#預設以日為頻率\n",
    "index = pd.date_range('2020-01-01','2022-06-01')\n",
    "index"
   ]
  },
  {
   "cell_type": "code",
   "execution_count": 38,
   "id": "f2fe53ce",
   "metadata": {},
   "outputs": [
    {
     "data": {
      "text/plain": [
       "DatetimeIndex(['2021-01-01', '2021-01-02', '2021-01-03', '2021-01-04',\n",
       "               '2021-01-05', '2021-01-06', '2021-01-07', '2021-01-08',\n",
       "               '2021-01-09', '2021-01-10', '2021-01-11', '2021-01-12',\n",
       "               '2021-01-13', '2021-01-14', '2021-01-15', '2021-01-16',\n",
       "               '2021-01-17', '2021-01-18', '2021-01-19', '2021-01-20'],\n",
       "              dtype='datetime64[ns]', freq='D')"
      ]
     },
     "execution_count": 38,
     "metadata": {},
     "output_type": "execute_result"
    }
   ],
   "source": [
    "#使用開始日期和產生數量\n",
    "pd.date_range('2021-01-01',periods=20)"
   ]
  },
  {
   "cell_type": "code",
   "execution_count": 39,
   "id": "90ae239f",
   "metadata": {},
   "outputs": [
    {
     "data": {
      "text/plain": [
       "DatetimeIndex(['2021-05-16', '2021-05-17', '2021-05-18', '2021-05-19',\n",
       "               '2021-05-20', '2021-05-21', '2021-05-22', '2021-05-23',\n",
       "               '2021-05-24', '2021-05-25', '2021-05-26', '2021-05-27',\n",
       "               '2021-05-28', '2021-05-29', '2021-05-30', '2021-05-31',\n",
       "               '2021-06-01', '2021-06-02', '2021-06-03', '2021-06-04'],\n",
       "              dtype='datetime64[ns]', freq='D')"
      ]
     },
     "execution_count": 39,
     "metadata": {},
     "output_type": "execute_result"
    }
   ],
   "source": [
    "#使用結束日期和頻率\n",
    "pd.date_range(end='2021-06-04', periods=20)"
   ]
  },
  {
   "cell_type": "code",
   "execution_count": 40,
   "id": "5621594a",
   "metadata": {},
   "outputs": [
    {
     "data": {
      "text/plain": [
       "DatetimeIndex(['2010-01-29', '2010-02-26', '2010-03-31', '2010-04-30',\n",
       "               '2010-05-31', '2010-06-30', '2010-07-30', '2010-08-31',\n",
       "               '2010-09-30', '2010-10-29', '2010-11-30', '2010-12-31'],\n",
       "              dtype='datetime64[ns]', freq='BM')"
      ]
     },
     "execution_count": 40,
     "metadata": {},
     "output_type": "execute_result"
    }
   ],
   "source": [
    "#產生一段時間頻率為每個月的工作日\n",
    "pd.date_range('2010-01-01','2010-12-31',freq=\"BM\")"
   ]
  },
  {
   "cell_type": "code",
   "execution_count": 41,
   "id": "89533950",
   "metadata": {},
   "outputs": [
    {
     "data": {
      "text/plain": [
       "DatetimeIndex(['2021-05-06 12:56:31', '2021-05-07 12:56:31',\n",
       "               '2021-05-08 12:56:31', '2021-05-09 12:56:31',\n",
       "               '2021-05-10 12:56:31', '2021-05-11 12:56:31',\n",
       "               '2021-05-12 12:56:31', '2021-05-13 12:56:31',\n",
       "               '2021-05-14 12:56:31', '2021-05-15 12:56:31',\n",
       "               '2021-05-16 12:56:31', '2021-05-17 12:56:31',\n",
       "               '2021-05-18 12:56:31', '2021-05-19 12:56:31',\n",
       "               '2021-05-20 12:56:31', '2021-05-21 12:56:31',\n",
       "               '2021-05-22 12:56:31', '2021-05-23 12:56:31',\n",
       "               '2021-05-24 12:56:31', '2021-05-25 12:56:31'],\n",
       "              dtype='datetime64[ns]', freq='D')"
      ]
     },
     "execution_count": 41,
     "metadata": {},
     "output_type": "execute_result"
    }
   ],
   "source": [
    "#保留時間資訊\n",
    "pd.date_range('2021-05-06 12:56:31', periods=20)"
   ]
  },
  {
   "cell_type": "code",
   "execution_count": 42,
   "id": "5114c439",
   "metadata": {},
   "outputs": [
    {
     "data": {
      "text/plain": [
       "DatetimeIndex(['2021-05-06', '2021-05-07', '2021-05-08', '2021-05-09',\n",
       "               '2021-05-10', '2021-05-11', '2021-05-12', '2021-05-13',\n",
       "               '2021-05-14', '2021-05-15', '2021-05-16', '2021-05-17',\n",
       "               '2021-05-18', '2021-05-19', '2021-05-20', '2021-05-21',\n",
       "               '2021-05-22', '2021-05-23', '2021-05-24', '2021-05-25'],\n",
       "              dtype='datetime64[ns]', freq='D')"
      ]
     },
     "execution_count": 42,
     "metadata": {},
     "output_type": "execute_result"
    }
   ],
   "source": [
    "#移除時間資訊\n",
    "pd.date_range('2021-05-06 12:56:31', periods=20, normalize=True)"
   ]
  },
  {
   "cell_type": "markdown",
   "id": "efae4c33",
   "metadata": {},
   "source": [
    "### Frequencies(頻率),Date Offsets(一般時間)"
   ]
  },
  {
   "cell_type": "code",
   "execution_count": 43,
   "id": "426956a1",
   "metadata": {},
   "outputs": [
    {
     "data": {
      "text/plain": [
       "DatetimeIndex(['2010-01-01 00:00:00', '2010-01-01 04:00:00',\n",
       "               '2010-01-01 08:00:00', '2010-01-01 12:00:00',\n",
       "               '2010-01-01 16:00:00', '2010-01-01 20:00:00',\n",
       "               '2010-01-02 00:00:00', '2010-01-02 04:00:00',\n",
       "               '2010-01-02 08:00:00', '2010-01-02 12:00:00',\n",
       "               '2010-01-02 16:00:00', '2010-01-02 20:00:00',\n",
       "               '2010-01-03 00:00:00'],\n",
       "              dtype='datetime64[ns]', freq='4H')"
      ]
     },
     "execution_count": 43,
     "metadata": {},
     "output_type": "execute_result"
    }
   ],
   "source": [
    "#Date Offsets\n",
    "#M->月\n",
    "#D->日\n",
    "#H->小時\n",
    "#3M -> 3個月\n",
    "#6D -> 6日\n",
    "\n",
    "pd.date_range('2010-01-01', '2010-01-03', freq='4H')"
   ]
  },
  {
   "cell_type": "code",
   "execution_count": 44,
   "id": "5db98a31",
   "metadata": {},
   "outputs": [
    {
     "data": {
      "text/plain": [
       "DatetimeIndex(['2010-01-01 00:00:00', '2010-01-01 01:30:00',\n",
       "               '2010-01-01 03:00:00', '2010-01-01 04:30:00',\n",
       "               '2010-01-01 06:00:00', '2010-01-01 07:30:00',\n",
       "               '2010-01-01 09:00:00', '2010-01-01 10:30:00',\n",
       "               '2010-01-01 12:00:00', '2010-01-01 13:30:00',\n",
       "               '2010-01-01 15:00:00', '2010-01-01 16:30:00',\n",
       "               '2010-01-01 18:00:00', '2010-01-01 19:30:00',\n",
       "               '2010-01-01 21:00:00', '2010-01-01 22:30:00',\n",
       "               '2010-01-02 00:00:00'],\n",
       "              dtype='datetime64[ns]', freq='90T')"
      ]
     },
     "execution_count": 44,
     "metadata": {},
     "output_type": "execute_result"
    }
   ],
   "source": [
    "pd.date_range('2010-01-01','2010-01-02',freq='1h30min')"
   ]
  },
  {
   "cell_type": "markdown",
   "id": "82d03e93",
   "metadata": {},
   "source": [
    "#### week of month dates"
   ]
  },
  {
   "cell_type": "code",
   "execution_count": 45,
   "id": "5f31a1a9",
   "metadata": {},
   "outputs": [
    {
     "data": {
      "text/plain": [
       "[Timestamp('2021-01-15 00:00:00'),\n",
       " Timestamp('2021-02-19 00:00:00'),\n",
       " Timestamp('2021-03-19 00:00:00'),\n",
       " Timestamp('2021-04-16 00:00:00'),\n",
       " Timestamp('2021-05-21 00:00:00'),\n",
       " Timestamp('2021-06-18 00:00:00'),\n",
       " Timestamp('2021-07-16 00:00:00'),\n",
       " Timestamp('2021-08-20 00:00:00'),\n",
       " Timestamp('2021-09-17 00:00:00'),\n",
       " Timestamp('2021-10-15 00:00:00'),\n",
       " Timestamp('2021-11-19 00:00:00'),\n",
       " Timestamp('2021-12-17 00:00:00'),\n",
       " Timestamp('2022-01-21 00:00:00'),\n",
       " Timestamp('2022-02-18 00:00:00'),\n",
       " Timestamp('2022-03-18 00:00:00'),\n",
       " Timestamp('2022-04-15 00:00:00'),\n",
       " Timestamp('2022-05-20 00:00:00'),\n",
       " Timestamp('2022-06-17 00:00:00'),\n",
       " Timestamp('2022-07-15 00:00:00'),\n",
       " Timestamp('2022-08-19 00:00:00')]"
      ]
     },
     "execution_count": 45,
     "metadata": {},
     "output_type": "execute_result"
    }
   ],
   "source": [
    "#每個月的第3個星期天\n",
    "rng = pd.date_range('2021-01-01', '2022-09-01', freq='WOM-3FRI')\n",
    "list(rng)"
   ]
  },
  {
   "cell_type": "markdown",
   "id": "480546a8",
   "metadata": {},
   "source": [
    "### shifting(Leading and Lagging)Data - 向上偏移和向下偏移\n",
    "#### 使用freq偏移時間"
   ]
  },
  {
   "cell_type": "code",
   "execution_count": 46,
   "id": "2ef35da0",
   "metadata": {},
   "outputs": [
    {
     "data": {
      "text/plain": [
       "2021-01-31   -1.085631\n",
       "2021-02-28    0.997345\n",
       "2021-03-31    0.282978\n",
       "2021-04-30   -1.506295\n",
       "Freq: M, dtype: float64"
      ]
     },
     "execution_count": 46,
     "metadata": {},
     "output_type": "execute_result"
    }
   ],
   "source": [
    "np.random.seed(123)\n",
    "ts = pd.Series(np.random.randn(4),\n",
    "               index=pd.date_range('2021-01-01', periods=4, freq='M'))\n",
    "ts"
   ]
  },
  {
   "cell_type": "code",
   "execution_count": 47,
   "id": "edd153c2",
   "metadata": {},
   "outputs": [
    {
     "data": {
      "text/plain": [
       "2021-01-31         NaN\n",
       "2021-02-28         NaN\n",
       "2021-03-31   -1.085631\n",
       "2021-04-30    0.997345\n",
       "Freq: M, dtype: float64"
      ]
     },
     "execution_count": 47,
     "metadata": {},
     "output_type": "execute_result"
    }
   ],
   "source": [
    "#向下偏移\n",
    "ts.shift(2)"
   ]
  },
  {
   "cell_type": "code",
   "execution_count": 48,
   "id": "b7e27a7c",
   "metadata": {},
   "outputs": [
    {
     "data": {
      "text/plain": [
       "2021-01-31    0.282978\n",
       "2021-02-28   -1.506295\n",
       "2021-03-31         NaN\n",
       "2021-04-30         NaN\n",
       "Freq: M, dtype: float64"
      ]
     },
     "execution_count": 48,
     "metadata": {},
     "output_type": "execute_result"
    }
   ],
   "source": [
    "#向上偏移\n",
    "ts.shift(-2)"
   ]
  },
  {
   "cell_type": "code",
   "execution_count": 49,
   "id": "becb5c25",
   "metadata": {},
   "outputs": [
    {
     "data": {
      "text/plain": [
       "2021-01-31         NaN\n",
       "2021-02-28   -1.918678\n",
       "2021-03-31   -0.716268\n",
       "2021-04-30   -6.323001\n",
       "Freq: M, dtype: float64"
      ]
     },
     "execution_count": 49,
     "metadata": {},
     "output_type": "execute_result"
    }
   ],
   "source": [
    "#時間偏移常被拿來作為2個時間點的差或比例\n",
    "#shift()不會移動index,所以可以使用運算,因為運算是以index為基礎來進行運算\n",
    "#目前時間和上個時間的比例\n",
    "\n",
    "ts / ts.shift(1) - 1"
   ]
  },
  {
   "cell_type": "code",
   "execution_count": 50,
   "id": "d7313257",
   "metadata": {},
   "outputs": [
    {
     "data": {
      "text/plain": [
       "2021-02-28   -1.085631\n",
       "2021-03-31    0.997345\n",
       "2021-04-30    0.282978\n",
       "2021-05-31   -1.506295\n",
       "Freq: M, dtype: float64"
      ]
     },
     "execution_count": 50,
     "metadata": {},
     "output_type": "execute_result"
    }
   ],
   "source": [
    "#偏移時間索引,但values不會改變,使用freq='M',將會偏移時間一個月\n",
    "ts.shift(1,freq='M')"
   ]
  },
  {
   "cell_type": "code",
   "execution_count": 51,
   "id": "f39be70b",
   "metadata": {},
   "outputs": [
    {
     "data": {
      "text/plain": [
       "2021-02-03   -1.085631\n",
       "2021-03-03    0.997345\n",
       "2021-04-03    0.282978\n",
       "2021-05-03   -1.506295\n",
       "dtype: float64"
      ]
     },
     "execution_count": 51,
     "metadata": {},
     "output_type": "execute_result"
    }
   ],
   "source": [
    "#偏移時間索引,但values不會改變,偏移時間3天\n",
    "ts.shift(3, freq='D')"
   ]
  },
  {
   "cell_type": "code",
   "execution_count": 52,
   "id": "a61c82bb",
   "metadata": {},
   "outputs": [
    {
     "data": {
      "text/plain": [
       "2021-01-31 01:30:00   -1.085631\n",
       "2021-02-28 01:30:00    0.997345\n",
       "2021-03-31 01:30:00    0.282978\n",
       "2021-04-30 01:30:00   -1.506295\n",
       "dtype: float64"
      ]
     },
     "execution_count": 52,
     "metadata": {},
     "output_type": "execute_result"
    }
   ],
   "source": [
    "#偏移時間索引,但values不會改變,偏移時間90分鐘\n",
    "ts.shift(1, freq='90T')"
   ]
  },
  {
   "cell_type": "markdown",
   "id": "6647a333",
   "metadata": {},
   "source": [
    "#### 使用offset 偏移時間\n"
   ]
  },
  {
   "cell_type": "code",
   "execution_count": 53,
   "id": "706ef5e9",
   "metadata": {},
   "outputs": [
    {
     "data": {
      "text/plain": [
       "Timestamp('2023-08-23 00:00:00')"
      ]
     },
     "execution_count": 53,
     "metadata": {},
     "output_type": "execute_result"
    }
   ],
   "source": [
    "from pandas.tseries.offsets import Day, MonthEnd\n",
    "now = datetime(2023, 8, 20)\n",
    "\n",
    "#前移3天\n",
    "now + 3 * Day()"
   ]
  },
  {
   "cell_type": "code",
   "execution_count": 54,
   "id": "1d2fe4ea",
   "metadata": {},
   "outputs": [
    {
     "data": {
      "text/plain": [
       "Timestamp('2023-08-31 00:00:00')"
      ]
     },
     "execution_count": 54,
     "metadata": {},
     "output_type": "execute_result"
    }
   ],
   "source": [
    "#前移至月底\n",
    "now + MonthEnd()"
   ]
  },
  {
   "cell_type": "code",
   "execution_count": 55,
   "id": "3ead3345",
   "metadata": {},
   "outputs": [
    {
     "data": {
      "text/plain": [
       "Timestamp('2023-09-30 00:00:00')"
      ]
     },
     "execution_count": 55,
     "metadata": {},
     "output_type": "execute_result"
    }
   ],
   "source": [
    "#前移至下個月底\n",
    "now + MonthEnd(2)"
   ]
  },
  {
   "cell_type": "code",
   "execution_count": 56,
   "id": "899eb22f",
   "metadata": {},
   "outputs": [
    {
     "data": {
      "text/plain": [
       "Timestamp('2023-08-31 00:00:00')"
      ]
     },
     "execution_count": 56,
     "metadata": {},
     "output_type": "execute_result"
    }
   ],
   "source": [
    "#移至月底\n",
    "#建立MonthEnd實體,再使用實體方法rollforward()\n",
    "offset = MonthEnd()\n",
    "offset.rollforward(now)"
   ]
  },
  {
   "cell_type": "code",
   "execution_count": 57,
   "id": "f2a35eaa",
   "metadata": {},
   "outputs": [
    {
     "data": {
      "text/plain": [
       "Timestamp('2023-07-31 00:00:00')"
      ]
     },
     "execution_count": 57,
     "metadata": {},
     "output_type": "execute_result"
    }
   ],
   "source": [
    "#移至上個月底\n",
    "#建立MonthEnd實體,再使用實體方法rollback()\n",
    "offset = MonthEnd()\n",
    "offset.rollback(now)"
   ]
  },
  {
   "cell_type": "code",
   "execution_count": 58,
   "id": "1d674f76",
   "metadata": {},
   "outputs": [
    {
     "data": {
      "text/plain": [
       "2023-01-15   -0.578600\n",
       "2023-01-19    1.651437\n",
       "2023-01-23   -2.426679\n",
       "2023-01-27   -0.428913\n",
       "2023-01-31    1.265936\n",
       "2023-02-04   -0.866740\n",
       "2023-02-08   -0.678886\n",
       "2023-02-12   -0.094709\n",
       "2023-02-16    1.491390\n",
       "2023-02-20   -0.638902\n",
       "2023-02-24   -0.443982\n",
       "2023-02-28   -0.434351\n",
       "2023-03-04    2.205930\n",
       "2023-03-08    2.186786\n",
       "2023-03-12    1.004054\n",
       "2023-03-16    0.386186\n",
       "2023-03-20    0.737369\n",
       "2023-03-24    1.490732\n",
       "2023-03-28   -0.935834\n",
       "2023-04-01    1.175829\n",
       "Freq: 4D, dtype: float64"
      ]
     },
     "execution_count": 58,
     "metadata": {},
     "output_type": "execute_result"
    }
   ],
   "source": [
    "#使用groupby(),利用offset.rollfoward,function建立groupby物件\n",
    "\n",
    "ts = pd.Series(np.random.randn(20),\n",
    "               index=pd.date_range('1/15/2023',periods=20,freq='4d')\n",
    "               )\n",
    "ts"
   ]
  },
  {
   "cell_type": "code",
   "execution_count": 59,
   "id": "f9fd67be",
   "metadata": {},
   "outputs": [
    {
     "data": {
      "text/plain": [
       "2023-01-31   -0.103364\n",
       "2023-02-28   -0.238026\n",
       "2023-03-31    1.010746\n",
       "2023-04-30    1.175829\n",
       "dtype: float64"
      ]
     },
     "execution_count": 59,
     "metadata": {},
     "output_type": "execute_result"
    }
   ],
   "source": [
    "#所有時間移至當月的月底,再做groupby\n",
    "offset = MonthEnd()\n",
    "ts.groupby(offset.rollforward).mean()"
   ]
  },
  {
   "cell_type": "code",
   "execution_count": 60,
   "id": "d134b9a2",
   "metadata": {},
   "outputs": [
    {
     "data": {
      "text/plain": [
       "2023-01-31   -0.103364\n",
       "2023-02-28   -0.238026\n",
       "2023-03-31    1.010746\n",
       "2023-04-30    1.175829\n",
       "Freq: M, dtype: float64"
      ]
     },
     "execution_count": 60,
     "metadata": {},
     "output_type": "execute_result"
    }
   ],
   "source": [
    "### 上面的groupby的動作可以更改為resample()\n",
    "### 使用resample()計算每個月或每天每年的計算\n",
    "ts.resample('M').mean()"
   ]
  },
  {
   "cell_type": "code",
   "execution_count": 61,
   "id": "d6cf8580",
   "metadata": {},
   "outputs": [
    {
     "data": {
      "text/plain": [
       "2023-01-15   -0.578600\n",
       "2023-01-16   -0.578600\n",
       "2023-01-17   -0.578600\n",
       "2023-01-18   -0.578600\n",
       "2023-01-19    1.651437\n",
       "                ...   \n",
       "2023-03-28   -0.935834\n",
       "2023-03-29   -0.935834\n",
       "2023-03-30   -0.935834\n",
       "2023-03-31   -0.935834\n",
       "2023-04-01    1.175829\n",
       "Freq: D, Length: 77, dtype: float64"
      ]
     },
     "execution_count": 61,
     "metadata": {},
     "output_type": "execute_result"
    }
   ],
   "source": [
    "resampler = ts.resample('D')\n",
    "resampler.ffill()"
   ]
  },
  {
   "cell_type": "markdown",
   "id": "fc2fa192",
   "metadata": {},
   "source": [
    "### 時區的處理\n",
    "#### IANA time zone of Taiwan\n",
    "- Asia/Taipei"
   ]
  },
  {
   "cell_type": "code",
   "execution_count": 62,
   "id": "865d79fa",
   "metadata": {},
   "outputs": [
    {
     "data": {
      "text/plain": [
       "['US/Eastern', 'US/Hawaii', 'US/Mountain', 'US/Pacific', 'UTC']"
      ]
     },
     "execution_count": 62,
     "metadata": {},
     "output_type": "execute_result"
    }
   ],
   "source": [
    "import pytz\n",
    "pytz.common_timezones[-5:]"
   ]
  },
  {
   "cell_type": "code",
   "execution_count": 63,
   "id": "0fb6721c",
   "metadata": {},
   "outputs": [
    {
     "data": {
      "text/plain": [
       "<DstTzInfo 'Asia/Taipei' LMT+8:06:00 STD>"
      ]
     },
     "execution_count": 63,
     "metadata": {},
     "output_type": "execute_result"
    }
   ],
   "source": [
    "tz = pytz.timezone('Asia/Taipei')\n",
    "tz"
   ]
  },
  {
   "cell_type": "markdown",
   "id": "d6a78b54",
   "metadata": {},
   "source": [
    "#### 時區的轉換\n",
    "- time Series預設是沒有時區的"
   ]
  },
  {
   "cell_type": "code",
   "execution_count": 64,
   "id": "06343778",
   "metadata": {},
   "outputs": [
    {
     "data": {
      "text/plain": [
       "2012-03-09 09:30:00   -1.253881\n",
       "2012-03-10 09:30:00   -0.637752\n",
       "2012-03-11 09:30:00    0.907105\n",
       "2012-03-12 09:30:00   -1.428681\n",
       "2012-03-13 09:30:00   -0.140069\n",
       "2012-03-14 09:30:00   -0.861755\n",
       "Freq: D, dtype: float64"
      ]
     },
     "execution_count": 64,
     "metadata": {},
     "output_type": "execute_result"
    }
   ],
   "source": [
    "rng = pd.date_range('3/9/2012 9:30', periods=6, freq='D')\n",
    "ts = pd.Series(np.random.randn(len(rng)),index=rng)\n",
    "ts"
   ]
  },
  {
   "cell_type": "code",
   "execution_count": 65,
   "id": "d8351f33",
   "metadata": {},
   "outputs": [
    {
     "name": "stdout",
     "output_type": "stream",
     "text": [
      "None\n"
     ]
    }
   ],
   "source": [
    "#預設時區是None\n",
    "print(ts.index.tz)"
   ]
  },
  {
   "cell_type": "code",
   "execution_count": 66,
   "id": "c530ae1b",
   "metadata": {},
   "outputs": [
    {
     "data": {
      "text/plain": [
       "DatetimeIndex(['2012-03-09 09:30:00+08:00', '2012-03-10 09:30:00+08:00',\n",
       "               '2012-03-11 09:30:00+08:00', '2012-03-12 09:30:00+08:00',\n",
       "               '2012-03-13 09:30:00+08:00', '2012-03-14 09:30:00+08:00',\n",
       "               '2012-03-15 09:30:00+08:00', '2012-03-16 09:30:00+08:00',\n",
       "               '2012-03-17 09:30:00+08:00', '2012-03-18 09:30:00+08:00'],\n",
       "              dtype='datetime64[ns, Asia/Taipei]', freq='D')"
      ]
     },
     "execution_count": 66,
     "metadata": {},
     "output_type": "execute_result"
    }
   ],
   "source": [
    "#建立有時區的DatetimeIndex\n",
    "pd.date_range('3/9/2012 9:30', periods=10, freq='D', tz='Asia/Taipei')"
   ]
  },
  {
   "cell_type": "markdown",
   "id": "79aa68bb",
   "metadata": {},
   "source": [
    "#### 將無時區的時間,轉換為有時間的時區"
   ]
  },
  {
   "cell_type": "code",
   "execution_count": 67,
   "id": "336c7b2e",
   "metadata": {},
   "outputs": [
    {
     "data": {
      "text/plain": [
       "2012-03-09 09:30:00   -1.253881\n",
       "2012-03-10 09:30:00   -0.637752\n",
       "2012-03-11 09:30:00    0.907105\n",
       "2012-03-12 09:30:00   -1.428681\n",
       "2012-03-13 09:30:00   -0.140069\n",
       "2012-03-14 09:30:00   -0.861755\n",
       "Freq: D, dtype: float64"
      ]
     },
     "execution_count": 67,
     "metadata": {},
     "output_type": "execute_result"
    }
   ],
   "source": [
    "ts"
   ]
  },
  {
   "cell_type": "code",
   "execution_count": 68,
   "id": "68e24453",
   "metadata": {},
   "outputs": [
    {
     "data": {
      "text/plain": [
       "2012-03-09 09:30:00+08:00   -1.253881\n",
       "2012-03-10 09:30:00+08:00   -0.637752\n",
       "2012-03-11 09:30:00+08:00    0.907105\n",
       "2012-03-12 09:30:00+08:00   -1.428681\n",
       "2012-03-13 09:30:00+08:00   -0.140069\n",
       "2012-03-14 09:30:00+08:00   -0.861755\n",
       "dtype: float64"
      ]
     },
     "execution_count": 68,
     "metadata": {},
     "output_type": "execute_result"
    }
   ],
   "source": [
    "#本沒有時區資訊轉換為有時區,使用tz_localize()\n",
    "ts_taiwan = ts.tz_localize('Asia/Taipei')\n",
    "ts_taiwan"
   ]
  },
  {
   "cell_type": "code",
   "execution_count": 69,
   "id": "670c1dae",
   "metadata": {},
   "outputs": [
    {
     "data": {
      "text/plain": [
       "2012-03-09 09:30:00+00:00   -1.253881\n",
       "2012-03-10 09:30:00+00:00   -0.637752\n",
       "2012-03-11 09:30:00+00:00    0.907105\n",
       "2012-03-12 09:30:00+00:00   -1.428681\n",
       "2012-03-13 09:30:00+00:00   -0.140069\n",
       "2012-03-14 09:30:00+00:00   -0.861755\n",
       "Freq: D, dtype: float64"
      ]
     },
     "metadata": {},
     "output_type": "display_data"
    },
    {
     "data": {
      "text/plain": [
       "DatetimeIndex(['2012-03-09 09:30:00+00:00', '2012-03-10 09:30:00+00:00',\n",
       "               '2012-03-11 09:30:00+00:00', '2012-03-12 09:30:00+00:00',\n",
       "               '2012-03-13 09:30:00+00:00', '2012-03-14 09:30:00+00:00'],\n",
       "              dtype='datetime64[ns, UTC]', freq='D')"
      ]
     },
     "metadata": {},
     "output_type": "display_data"
    },
    {
     "data": {
      "text/plain": [
       "2012-03-08 20:30:00-05:00   -1.253881\n",
       "2012-03-09 20:30:00-05:00   -0.637752\n",
       "2012-03-10 20:30:00-05:00    0.907105\n",
       "2012-03-11 21:30:00-04:00   -1.428681\n",
       "2012-03-12 21:30:00-04:00   -0.140069\n",
       "2012-03-13 21:30:00-04:00   -0.861755\n",
       "dtype: float64"
      ]
     },
     "execution_count": 69,
     "metadata": {},
     "output_type": "execute_result"
    }
   ],
   "source": [
    "#本沒有時區資訊轉換為有時區,使用tz_localize()\n",
    "ts_utc = ts.tz_localize('UTC')\n",
    "display(ts_utc)\n",
    "display(ts_utc.index)\n",
    "#將現有的時區,轉換為其它時區tz_convert()\n",
    "ts_New_York = ts_taiwan.tz_convert('America/New_York')\n",
    "ts_New_York"
   ]
  },
  {
   "cell_type": "code",
   "execution_count": 70,
   "id": "54570e65",
   "metadata": {},
   "outputs": [
    {
     "data": {
      "text/plain": [
       "Timestamp('2011-03-12 04:00:00')"
      ]
     },
     "metadata": {},
     "output_type": "display_data"
    },
    {
     "data": {
      "text/plain": [
       "Timestamp('2011-03-12 04:00:00+0000', tz='UTC')"
      ]
     },
     "execution_count": 70,
     "metadata": {},
     "output_type": "execute_result"
    }
   ],
   "source": [
    "#將pd.Timestamp轉換時區\n",
    "#Timestamp類別\n",
    "\n",
    "stamp = pd.Timestamp('2011-03-12 04:00')\n",
    "display(stamp) #沒有時區\n",
    "stamp_utc=stamp.tz_localize('UTC') #加上時區\n",
    "stamp_utc"
   ]
  },
  {
   "cell_type": "code",
   "execution_count": 71,
   "id": "501b9f6d",
   "metadata": {},
   "outputs": [
    {
     "data": {
      "text/plain": [
       "Timestamp('2011-03-12 12:00:00+0800', tz='Asia/Taipei')"
      ]
     },
     "execution_count": 71,
     "metadata": {},
     "output_type": "execute_result"
    }
   ],
   "source": [
    "#將有utc時區的資料使用tz_convert()轉換至該時區的時間\n",
    "stamp_taipei = stamp_utc.tz_convert('Asia/Taipei')\n",
    "stamp_taipei"
   ]
  },
  {
   "cell_type": "markdown",
   "id": "153a65f2",
   "metadata": {},
   "source": [
    "## Periods and Period Arithmetic\n",
    "- 代表一段時間,如1天,4天,1個月,1年"
   ]
  },
  {
   "cell_type": "code",
   "execution_count": 85,
   "id": "05ae418c",
   "metadata": {},
   "outputs": [
    {
     "data": {
      "text/plain": [
       "Period('2007', 'A-DEC')"
      ]
     },
     "execution_count": 85,
     "metadata": {},
     "output_type": "execute_result"
    }
   ],
   "source": [
    "p = pd.Period('2007', freq='A-DEC') #表示以12月作為結束的一整年,這裏表示從2007-01-01到2017-12-31的全年\n",
    "p"
   ]
  },
  {
   "cell_type": "code",
   "execution_count": 87,
   "id": "592796ae",
   "metadata": {},
   "outputs": [
    {
     "data": {
      "text/plain": [
       "Period('2012', 'A-DEC')"
      ]
     },
     "metadata": {},
     "output_type": "display_data"
    },
    {
     "data": {
      "text/plain": [
       "Period('2005', 'A-DEC')"
      ]
     },
     "metadata": {},
     "output_type": "display_data"
    }
   ],
   "source": [
    "#可以偏移時間區間\n",
    "display(p + 5)\n",
    "display(p - 2)"
   ]
  },
  {
   "cell_type": "code",
   "execution_count": 89,
   "id": "1f37ca72",
   "metadata": {},
   "outputs": [
    {
     "data": {
      "text/plain": [
       "<7 * YearEnds: month=12>"
      ]
     },
     "execution_count": 89,
     "metadata": {},
     "output_type": "execute_result"
    }
   ],
   "source": [
    "#2個相同頻率,可以相減\n",
    "pd.Period('2014', freq='A-DEC') - p"
   ]
  },
  {
   "cell_type": "markdown",
   "id": "599a13b5",
   "metadata": {},
   "source": [
    "### pd.period_range(),可以建立規則的時區範圍"
   ]
  },
  {
   "cell_type": "code",
   "execution_count": 92,
   "id": "ef85bc19",
   "metadata": {},
   "outputs": [
    {
     "data": {
      "text/plain": [
       "2023-01    1.267299\n",
       "2023-02    0.332765\n",
       "2023-03    0.556549\n",
       "2023-04   -0.212080\n",
       "2023-05    0.456271\n",
       "2023-06    1.544544\n",
       "Freq: M, dtype: float64"
      ]
     },
     "execution_count": 92,
     "metadata": {},
     "output_type": "execute_result"
    }
   ],
   "source": [
    "rng = pd.period_range('1/1/2023','6/30/2023', freq='M') #建立2023/1/1日至2023/6/300所有月份的Period\n",
    "pd.Series(np.random.randn(6),index=rng)"
   ]
  },
  {
   "cell_type": "code",
   "execution_count": 94,
   "id": "dd1d6403",
   "metadata": {},
   "outputs": [
    {
     "data": {
      "text/plain": [
       "PeriodIndex(['2001Q1', '2001Q2', '2001Q3', '2001Q4'], dtype='period[Q-DEC]')"
      ]
     },
     "execution_count": 94,
     "metadata": {},
     "output_type": "execute_result"
    }
   ],
   "source": [
    "# PeriodIndex,可以使用字串建立一段時間\n",
    "values = ['2001Q1','2001Q2','2001Q3', '2001Q4']\n",
    "index = pd.PeriodIndex(values, freq='Q-DEC')\n",
    "index"
   ]
  },
  {
   "cell_type": "markdown",
   "id": "624a4bc4",
   "metadata": {},
   "source": [
    "## 時期的頻率轉換"
   ]
  },
  {
   "cell_type": "code",
   "execution_count": 96,
   "id": "c233f2ca",
   "metadata": {},
   "outputs": [
    {
     "data": {
      "text/plain": [
       "Period('2023', 'A-DEC')"
      ]
     },
     "execution_count": 96,
     "metadata": {},
     "output_type": "execute_result"
    }
   ],
   "source": [
    "p = pd.Period('2023',freq='A-DEC') #2023-01-01至2023-21-31\n",
    "p"
   ]
  },
  {
   "cell_type": "code",
   "execution_count": 100,
   "id": "d95ebc18",
   "metadata": {},
   "outputs": [
    {
     "data": {
      "text/plain": [
       "Period('2023-01', 'M')"
      ]
     },
     "metadata": {},
     "output_type": "display_data"
    },
    {
     "data": {
      "text/plain": [
       "Period('2023-01', 'M')"
      ]
     },
     "execution_count": 100,
     "metadata": {},
     "output_type": "execute_result"
    }
   ],
   "source": [
    "display(p.asfreq('M',how='start'))##2023-01-01至2023-21-31,轉換為月2023-01\n",
    "#也可以單獨建立\n",
    "pd.Period('2023-01',freq='M')"
   ]
  },
  {
   "cell_type": "code",
   "execution_count": 101,
   "id": "7179cedd",
   "metadata": {},
   "outputs": [
    {
     "data": {
      "text/plain": [
       "Period('2023-12', 'M')"
      ]
     },
     "metadata": {},
     "output_type": "display_data"
    },
    {
     "data": {
      "text/plain": [
       "Period('2023-12', 'M')"
      ]
     },
     "execution_count": 101,
     "metadata": {},
     "output_type": "execute_result"
    }
   ],
   "source": [
    "display(p.asfreq('M',how='end'))##2023-01-01至2023-21-31,轉換為月2023-12\n",
    "#也可以單獨建立\n",
    "pd.Period('2023-12',freq='M')"
   ]
  },
  {
   "cell_type": "markdown",
   "id": "000e144e",
   "metadata": {},
   "source": [
    "#### PeriodIndex或TimeSeries的頻率轉換方式相同"
   ]
  },
  {
   "cell_type": "code",
   "execution_count": 102,
   "id": "9978c221",
   "metadata": {},
   "outputs": [
    {
     "data": {
      "text/plain": [
       "2006   -0.239669\n",
       "2007    0.143308\n",
       "2008    0.253816\n",
       "2009    0.283725\n",
       "Freq: A-DEC, dtype: float64"
      ]
     },
     "execution_count": 102,
     "metadata": {},
     "output_type": "execute_result"
    }
   ],
   "source": [
    "rng = pd.period_range('2006','2009', freq='A-DEC')\n",
    "ts = pd.Series(np.random.randn(len(rng)), index=rng)\n",
    "ts"
   ]
  },
  {
   "cell_type": "code",
   "execution_count": 103,
   "id": "4a248117",
   "metadata": {},
   "outputs": [
    {
     "data": {
      "text/plain": [
       "2006-01   -0.239669\n",
       "2007-01    0.143308\n",
       "2008-01    0.253816\n",
       "2009-01    0.283725\n",
       "Freq: M, dtype: float64"
      ]
     },
     "execution_count": 103,
     "metadata": {},
     "output_type": "execute_result"
    }
   ],
   "source": [
    "ts.asfreq('M', how='start')"
   ]
  },
  {
   "cell_type": "code",
   "execution_count": 104,
   "id": "1cbad094",
   "metadata": {},
   "outputs": [
    {
     "data": {
      "text/plain": [
       "2006-12-29   -0.239669\n",
       "2007-12-31    0.143308\n",
       "2008-12-31    0.253816\n",
       "2009-12-31    0.283725\n",
       "Freq: B, dtype: float64"
      ]
     },
     "execution_count": 104,
     "metadata": {},
     "output_type": "execute_result"
    }
   ],
   "source": [
    "ts.asfreq('B', how='end')"
   ]
  },
  {
   "cell_type": "markdown",
   "id": "9f507961",
   "metadata": {},
   "source": [
    "#### 季度運算至TimeSeries\n"
   ]
  },
  {
   "cell_type": "code",
   "execution_count": 105,
   "id": "02871384",
   "metadata": {},
   "outputs": [
    {
     "data": {
      "text/plain": [
       "2011Q3    0\n",
       "2011Q4    1\n",
       "2012Q1    2\n",
       "2012Q2    3\n",
       "2012Q3    4\n",
       "2012Q4    5\n",
       "Freq: Q-JAN, dtype: int64"
      ]
     },
     "execution_count": 105,
     "metadata": {},
     "output_type": "execute_result"
    }
   ],
   "source": [
    "rng = pd.period_range('2011Q3','2012Q4', freq='Q-JAN')\n",
    "ts = pd.Series(np.arange(len(rng)),index=rng)\n",
    "ts"
   ]
  },
  {
   "cell_type": "markdown",
   "id": "4496bfc0",
   "metadata": {},
   "source": [
    "#### DateTimeIndex 和 Pediod的相互轉換"
   ]
  },
  {
   "cell_type": "code",
   "execution_count": 106,
   "id": "500b334c",
   "metadata": {},
   "outputs": [
    {
     "data": {
      "text/plain": [
       "2000-01-31   -1.411889\n",
       "2000-02-29   -1.876869\n",
       "2000-03-31   -1.019655\n",
       "Freq: M, dtype: float64"
      ]
     },
     "execution_count": 106,
     "metadata": {},
     "output_type": "execute_result"
    }
   ],
   "source": [
    "rng = pd.date_range('1/1/2000', periods=3, freq='M')\n",
    "ts = pd.Series(np.random.randn(3), index=rng)\n",
    "ts"
   ]
  },
  {
   "cell_type": "code",
   "execution_count": 107,
   "id": "64bdf996",
   "metadata": {},
   "outputs": [
    {
     "data": {
      "text/plain": [
       "2000-01   -1.411889\n",
       "2000-02   -1.876869\n",
       "2000-03   -1.019655\n",
       "Freq: M, dtype: float64"
      ]
     },
     "execution_count": 107,
     "metadata": {},
     "output_type": "execute_result"
    }
   ],
   "source": [
    "#使用to_period()轉換\n",
    "pts = ts.to_period()\n",
    "pts"
   ]
  },
  {
   "cell_type": "code",
   "execution_count": 109,
   "id": "2682cc93",
   "metadata": {},
   "outputs": [
    {
     "data": {
      "text/plain": [
       "2000-01-29   -0.193964\n",
       "2000-01-30    0.134027\n",
       "2000-01-31    0.704474\n",
       "2000-02-01    0.665653\n",
       "2000-02-02   -0.898423\n",
       "2000-02-03    1.523664\n",
       "Freq: D, dtype: float64"
      ]
     },
     "metadata": {},
     "output_type": "display_data"
    },
    {
     "data": {
      "text/plain": [
       "2000-01   -0.193964\n",
       "2000-01    0.134027\n",
       "2000-01    0.704474\n",
       "2000-02    0.665653\n",
       "2000-02   -0.898423\n",
       "2000-02    1.523664\n",
       "Freq: M, dtype: float64"
      ]
     },
     "execution_count": 109,
     "metadata": {},
     "output_type": "execute_result"
    }
   ],
   "source": [
    "rng = pd.date_range('1/29/2000', periods=6, freq='D')\n",
    "ts2 = pd.Series(np.random.randn(6), index=rng)\n",
    "display(ts2)\n",
    "ts2.to_period('M')"
   ]
  },
  {
   "cell_type": "code",
   "execution_count": 115,
   "id": "7f8ca72f",
   "metadata": {},
   "outputs": [
    {
     "data": {
      "text/plain": [
       "2000-01   -1.411889\n",
       "2000-02   -1.876869\n",
       "2000-03   -1.019655\n",
       "Freq: M, dtype: float64"
      ]
     },
     "metadata": {},
     "output_type": "display_data"
    },
    {
     "data": {
      "text/plain": [
       "2000-01-31 23:59:59.999999999   -1.411889\n",
       "2000-02-29 23:59:59.999999999   -1.876869\n",
       "2000-03-31 23:59:59.999999999   -1.019655\n",
       "dtype: float64"
      ]
     },
     "execution_count": 115,
     "metadata": {},
     "output_type": "execute_result"
    }
   ],
   "source": [
    "#periodIndex使用to_timestamp()轉換為timestamp\n",
    "display(pts)\n",
    "pts.to_timestamp(how='end')"
   ]
  },
  {
   "cell_type": "code",
   "execution_count": 116,
   "id": "f1a519a0",
   "metadata": {},
   "outputs": [
    {
     "data": {
      "text/plain": [
       "PeriodIndex(['2017Q1', '2017Q2', '2017Q3', '2017Q4', '2018Q1', '2018Q2',\n",
       "             '2018Q3', '2018Q4'],\n",
       "            dtype='period[Q-DEC]')"
      ]
     },
     "execution_count": 116,
     "metadata": {},
     "output_type": "execute_result"
    }
   ],
   "source": [
    "year = [2017, 2017, 2017, 2017, 2018, 2018, 2018, 2018]\n",
    "quarter = [1, 2, 3, 4, 1, 2, 3, 4]\n",
    "index = pd.PeriodIndex(year=year, quarter=quarter, freq='Q-DEC')\n",
    "index"
   ]
  },
  {
   "cell_type": "markdown",
   "id": "5753f54b",
   "metadata": {},
   "source": [
    "### Resampling 和 頻率(Frequency)的轉換\n",
    "- resample()就是從現有的頻率轉換為另一個頻率\n",
    "- downsampling就是從比較高的頻率轉換為比較低的頻率\n",
    "- upsampling就是從比較低的頻率轉換為比較高的頻率\n",
    "- resample的操作類似groupby的操作"
   ]
  },
  {
   "cell_type": "code",
   "execution_count": 72,
   "id": "1c59aa6e",
   "metadata": {},
   "outputs": [
    {
     "data": {
      "text/plain": [
       "2000-01-01   -0.255619\n",
       "2000-01-02   -2.798589\n",
       "2000-01-03   -1.771533\n",
       "2000-01-04   -0.699877\n",
       "2000-01-05    0.927462\n",
       "                ...   \n",
       "2000-04-05   -0.270232\n",
       "2000-04-06    0.812341\n",
       "2000-04-07    0.499740\n",
       "2000-04-08    0.474347\n",
       "2000-04-09   -0.563924\n",
       "Freq: D, Length: 100, dtype: float64"
      ]
     },
     "execution_count": 72,
     "metadata": {},
     "output_type": "execute_result"
    }
   ],
   "source": [
    "rng = pd.date_range('2000-01-01', periods=100, freq='D')\n",
    "ts = pd.Series(np.random.randn(len(rng)),index=rng)\n",
    "ts"
   ]
  },
  {
   "cell_type": "code",
   "execution_count": 73,
   "id": "e9e00513",
   "metadata": {},
   "outputs": [
    {
     "data": {
      "text/plain": [
       "2000-01-31    0.111995\n",
       "2000-02-29   -0.054910\n",
       "2000-03-31   -0.050308\n",
       "2000-04-30    0.319758\n",
       "Freq: M, dtype: float64"
      ]
     },
     "execution_count": 73,
     "metadata": {},
     "output_type": "execute_result"
    }
   ],
   "source": [
    "ts.resample('M').mean()"
   ]
  },
  {
   "cell_type": "code",
   "execution_count": 74,
   "id": "d29d5d40",
   "metadata": {},
   "outputs": [
    {
     "data": {
      "text/html": [
       "<div>\n",
       "<style scoped>\n",
       "    .dataframe tbody tr th:only-of-type {\n",
       "        vertical-align: middle;\n",
       "    }\n",
       "\n",
       "    .dataframe tbody tr th {\n",
       "        vertical-align: top;\n",
       "    }\n",
       "\n",
       "    .dataframe thead th {\n",
       "        text-align: right;\n",
       "    }\n",
       "</style>\n",
       "<table border=\"1\" class=\"dataframe\">\n",
       "  <thead>\n",
       "    <tr style=\"text-align: right;\">\n",
       "      <th></th>\n",
       "      <th>AAPL</th>\n",
       "      <th>MSFT</th>\n",
       "      <th>XOM</th>\n",
       "    </tr>\n",
       "  </thead>\n",
       "  <tbody>\n",
       "    <tr>\n",
       "      <th>2003-01-02</th>\n",
       "      <td>7.40</td>\n",
       "      <td>21.11</td>\n",
       "      <td>29.22</td>\n",
       "    </tr>\n",
       "    <tr>\n",
       "      <th>2003-01-03</th>\n",
       "      <td>7.45</td>\n",
       "      <td>21.14</td>\n",
       "      <td>29.24</td>\n",
       "    </tr>\n",
       "    <tr>\n",
       "      <th>2003-01-06</th>\n",
       "      <td>7.45</td>\n",
       "      <td>21.52</td>\n",
       "      <td>29.96</td>\n",
       "    </tr>\n",
       "    <tr>\n",
       "      <th>2003-01-07</th>\n",
       "      <td>7.43</td>\n",
       "      <td>21.93</td>\n",
       "      <td>28.95</td>\n",
       "    </tr>\n",
       "    <tr>\n",
       "      <th>2003-01-08</th>\n",
       "      <td>7.28</td>\n",
       "      <td>21.31</td>\n",
       "      <td>28.83</td>\n",
       "    </tr>\n",
       "    <tr>\n",
       "      <th>...</th>\n",
       "      <td>...</td>\n",
       "      <td>...</td>\n",
       "      <td>...</td>\n",
       "    </tr>\n",
       "    <tr>\n",
       "      <th>2011-10-10</th>\n",
       "      <td>388.81</td>\n",
       "      <td>26.94</td>\n",
       "      <td>76.28</td>\n",
       "    </tr>\n",
       "    <tr>\n",
       "      <th>2011-10-11</th>\n",
       "      <td>400.29</td>\n",
       "      <td>27.00</td>\n",
       "      <td>76.27</td>\n",
       "    </tr>\n",
       "    <tr>\n",
       "      <th>2011-10-12</th>\n",
       "      <td>402.19</td>\n",
       "      <td>26.96</td>\n",
       "      <td>77.16</td>\n",
       "    </tr>\n",
       "    <tr>\n",
       "      <th>2011-10-13</th>\n",
       "      <td>408.43</td>\n",
       "      <td>27.18</td>\n",
       "      <td>76.37</td>\n",
       "    </tr>\n",
       "    <tr>\n",
       "      <th>2011-10-14</th>\n",
       "      <td>422.00</td>\n",
       "      <td>27.27</td>\n",
       "      <td>78.11</td>\n",
       "    </tr>\n",
       "  </tbody>\n",
       "</table>\n",
       "<p>2214 rows × 3 columns</p>\n",
       "</div>"
      ],
      "text/plain": [
       "              AAPL   MSFT    XOM\n",
       "2003-01-02    7.40  21.11  29.22\n",
       "2003-01-03    7.45  21.14  29.24\n",
       "2003-01-06    7.45  21.52  29.96\n",
       "2003-01-07    7.43  21.93  28.95\n",
       "2003-01-08    7.28  21.31  28.83\n",
       "...            ...    ...    ...\n",
       "2011-10-10  388.81  26.94  76.28\n",
       "2011-10-11  400.29  27.00  76.27\n",
       "2011-10-12  402.19  26.96  77.16\n",
       "2011-10-13  408.43  27.18  76.37\n",
       "2011-10-14  422.00  27.27  78.11\n",
       "\n",
       "[2214 rows x 3 columns]"
      ]
     },
     "execution_count": 74,
     "metadata": {},
     "output_type": "execute_result"
    }
   ],
   "source": [
    "close_px_all = pd.read_csv('stock_px_2.csv',parse_dates=True,index_col=0)\n",
    "close_px = close_px_all[['AAPL', 'MSFT', 'XOM']]\n",
    "close_px"
   ]
  },
  {
   "cell_type": "code",
   "execution_count": 75,
   "id": "22648a72",
   "metadata": {},
   "outputs": [
    {
     "data": {
      "text/html": [
       "<div>\n",
       "<style scoped>\n",
       "    .dataframe tbody tr th:only-of-type {\n",
       "        vertical-align: middle;\n",
       "    }\n",
       "\n",
       "    .dataframe tbody tr th {\n",
       "        vertical-align: top;\n",
       "    }\n",
       "\n",
       "    .dataframe thead th {\n",
       "        text-align: right;\n",
       "    }\n",
       "</style>\n",
       "<table border=\"1\" class=\"dataframe\">\n",
       "  <thead>\n",
       "    <tr style=\"text-align: right;\">\n",
       "      <th></th>\n",
       "      <th>AAPL</th>\n",
       "      <th>MSFT</th>\n",
       "      <th>XOM</th>\n",
       "    </tr>\n",
       "  </thead>\n",
       "  <tbody>\n",
       "    <tr>\n",
       "      <th>2003-01-02</th>\n",
       "      <td>7.40</td>\n",
       "      <td>21.11</td>\n",
       "      <td>29.22</td>\n",
       "    </tr>\n",
       "    <tr>\n",
       "      <th>2003-01-03</th>\n",
       "      <td>7.45</td>\n",
       "      <td>21.14</td>\n",
       "      <td>29.24</td>\n",
       "    </tr>\n",
       "    <tr>\n",
       "      <th>2003-01-06</th>\n",
       "      <td>7.45</td>\n",
       "      <td>21.52</td>\n",
       "      <td>29.96</td>\n",
       "    </tr>\n",
       "    <tr>\n",
       "      <th>2003-01-07</th>\n",
       "      <td>7.43</td>\n",
       "      <td>21.93</td>\n",
       "      <td>28.95</td>\n",
       "    </tr>\n",
       "    <tr>\n",
       "      <th>2003-01-08</th>\n",
       "      <td>7.28</td>\n",
       "      <td>21.31</td>\n",
       "      <td>28.83</td>\n",
       "    </tr>\n",
       "    <tr>\n",
       "      <th>...</th>\n",
       "      <td>...</td>\n",
       "      <td>...</td>\n",
       "      <td>...</td>\n",
       "    </tr>\n",
       "    <tr>\n",
       "      <th>2011-10-10</th>\n",
       "      <td>388.81</td>\n",
       "      <td>26.94</td>\n",
       "      <td>76.28</td>\n",
       "    </tr>\n",
       "    <tr>\n",
       "      <th>2011-10-11</th>\n",
       "      <td>400.29</td>\n",
       "      <td>27.00</td>\n",
       "      <td>76.27</td>\n",
       "    </tr>\n",
       "    <tr>\n",
       "      <th>2011-10-12</th>\n",
       "      <td>402.19</td>\n",
       "      <td>26.96</td>\n",
       "      <td>77.16</td>\n",
       "    </tr>\n",
       "    <tr>\n",
       "      <th>2011-10-13</th>\n",
       "      <td>408.43</td>\n",
       "      <td>27.18</td>\n",
       "      <td>76.37</td>\n",
       "    </tr>\n",
       "    <tr>\n",
       "      <th>2011-10-14</th>\n",
       "      <td>422.00</td>\n",
       "      <td>27.27</td>\n",
       "      <td>78.11</td>\n",
       "    </tr>\n",
       "  </tbody>\n",
       "</table>\n",
       "<p>2292 rows × 3 columns</p>\n",
       "</div>"
      ],
      "text/plain": [
       "              AAPL   MSFT    XOM\n",
       "2003-01-02    7.40  21.11  29.22\n",
       "2003-01-03    7.45  21.14  29.24\n",
       "2003-01-06    7.45  21.52  29.96\n",
       "2003-01-07    7.43  21.93  28.95\n",
       "2003-01-08    7.28  21.31  28.83\n",
       "...            ...    ...    ...\n",
       "2011-10-10  388.81  26.94  76.28\n",
       "2011-10-11  400.29  27.00  76.27\n",
       "2011-10-12  402.19  26.96  77.16\n",
       "2011-10-13  408.43  27.18  76.37\n",
       "2011-10-14  422.00  27.27  78.11\n",
       "\n",
       "[2292 rows x 3 columns]"
      ]
     },
     "execution_count": 75,
     "metadata": {},
     "output_type": "execute_result"
    }
   ],
   "source": [
    "#'B'->business day\n",
    "close_px = close_px.resample('B').ffill()\n",
    "close_px"
   ]
  },
  {
   "cell_type": "code",
   "execution_count": 76,
   "id": "20f0b700",
   "metadata": {},
   "outputs": [
    {
     "data": {
      "text/plain": [
       "<Axes: >"
      ]
     },
     "execution_count": 76,
     "metadata": {},
     "output_type": "execute_result"
    },
    {
     "data": {
      "image/png": "[encoded data removed]",
      "text/plain": [
       "<Figure size 640x480 with 1 Axes>"
      ]
     },
     "metadata": {},
     "output_type": "display_data"
    }
   ],
   "source": [
    "import matplotlib.pyplot as plt\n",
    "figure = plt.figure()\n",
    "axes=figure.add_subplot(1,1,1)\n",
    "close_px.AAPL.plot(ax=axes)\n"
   ]
  },
  {
   "cell_type": "code",
   "execution_count": 77,
   "id": "c05ad274",
   "metadata": {},
   "outputs": [
    {
     "data": {
      "text/plain": [
       "<Axes: >"
      ]
     },
     "execution_count": 77,
     "metadata": {},
     "output_type": "execute_result"
    },
    {
     "data": {
      "image/png": "[encoded data removed]",
      "text/plain": [
       "<Figure size 640x480 with 1 Axes>"
      ]
     },
     "metadata": {},
     "output_type": "display_data"
    }
   ],
   "source": [
    "figure = plt.figure()\n",
    "axes=figure.add_subplot(1,1,1)\n",
    "close_px.AAPL.rolling(100).mean().plot(ax=axes) #rolling滾動計算100天的平均,rolling是為了讓線條比較平滑"
   ]
  },
  {
   "cell_type": "code",
   "execution_count": 78,
   "id": "8a5604da",
   "metadata": {},
   "outputs": [
    {
     "data": {
      "text/plain": [
       "2003-01-02       NaN\n",
       "2003-01-03       NaN\n",
       "2003-01-06       NaN\n",
       "2003-01-07       NaN\n",
       "2003-01-08       NaN\n",
       "               ...  \n",
       "2003-12-11       NaN\n",
       "2003-12-12       NaN\n",
       "2003-12-15       NaN\n",
       "2003-12-16       NaN\n",
       "2003-12-17    9.2234\n",
       "Freq: B, Name: AAPL, Length: 250, dtype: float64"
      ]
     },
     "execution_count": 78,
     "metadata": {},
     "output_type": "execute_result"
    }
   ],
   "source": [
    "close_px.AAPL.rolling(250).mean()[:250] #使用rolling()前面250筆會變成None"
   ]
  },
  {
   "cell_type": "code",
   "execution_count": 79,
   "id": "6fa7b770",
   "metadata": {},
   "outputs": [
    {
     "data": {
      "text/plain": [
       "2003-01-02         NaN\n",
       "2003-01-03         NaN\n",
       "2003-01-06         NaN\n",
       "2003-01-07         NaN\n",
       "2003-01-08         NaN\n",
       "2003-01-09         NaN\n",
       "2003-01-10         NaN\n",
       "2003-01-13         NaN\n",
       "2003-01-14         NaN\n",
       "2003-01-15    7.355000\n",
       "2003-01-16    7.350909\n",
       "2003-01-17    7.325833\n",
       "2003-01-20    7.304615\n",
       "2003-01-21    7.283571\n",
       "2003-01-22    7.260667\n",
       "2003-01-23    7.250000\n",
       "2003-01-24    7.229412\n",
       "2003-01-27    7.220556\n",
       "2003-01-28    7.224211\n",
       "2003-01-29    7.236500\n",
       "Freq: B, Name: AAPL, dtype: float64"
      ]
     },
     "execution_count": 79,
     "metadata": {},
     "output_type": "execute_result"
    }
   ],
   "source": [
    "close_px.AAPL.rolling(250,min_periods=10).mean()[:20] #使用min_periods會讓前面的None比較少"
   ]
  },
  {
   "cell_type": "code",
   "execution_count": 80,
   "id": "7bd4172c",
   "metadata": {},
   "outputs": [
    {
     "data": {
      "text/plain": [
       "2003-01-09         NaN\n",
       "2003-01-10         NaN\n",
       "2003-01-13         NaN\n",
       "2003-01-14         NaN\n",
       "2003-01-15    0.077496\n",
       "2003-01-16    0.074760\n",
       "2003-01-17    0.112368\n",
       "Freq: B, Name: AAPL, dtype: float64"
      ]
     },
     "execution_count": 80,
     "metadata": {},
     "output_type": "execute_result"
    }
   ],
   "source": [
    "apple_std250 = close_px.AAPL.rolling(250,min_periods=10).std()\n",
    "apple_std250[5:12]"
   ]
  },
  {
   "cell_type": "code",
   "execution_count": 81,
   "id": "a71e79ca",
   "metadata": {},
   "outputs": [
    {
     "data": {
      "text/plain": [
       "<Axes: >"
      ]
     },
     "execution_count": 81,
     "metadata": {},
     "output_type": "execute_result"
    },
    {
     "data": {
      "image/png": "[encoded data removed]",
      "text/plain": [
       "<Figure size 640x480 with 1 Axes>"
      ]
     },
     "metadata": {},
     "output_type": "display_data"
    }
   ],
   "source": [
    "figure = plt.figure()\n",
    "axes=figure.add_subplot(1,1,1)\n",
    "apple_std250.plot(ax=axes) #下圖解釋為每250天的平均差"
   ]
  },
  {
   "cell_type": "code",
   "execution_count": 82,
   "id": "9a754913",
   "metadata": {},
   "outputs": [
    {
     "data": {
      "text/plain": [
       "<Axes: >"
      ]
     },
     "execution_count": 82,
     "metadata": {},
     "output_type": "execute_result"
    },
    {
     "data": {
      "image/png": "[encoded data removed]",
      "text/plain": [
       "<Figure size 640x480 with 1 Axes>"
      ]
     },
     "metadata": {},
     "output_type": "display_data"
    }
   ],
   "source": [
    "figure = plt.figure()\n",
    "axes=figure.add_subplot(1,1,1)\n",
    "close_px.rolling(60).mean().plot(ax=axes) #每60天的平均"
   ]
  },
  {
   "cell_type": "code",
   "execution_count": 83,
   "id": "55b3bdeb",
   "metadata": {},
   "outputs": [
    {
     "data": {
      "text/plain": [
       "<Axes: >"
      ]
     },
     "execution_count": 83,
     "metadata": {},
     "output_type": "execute_result"
    },
    {
     "data": {
      "image/png": "[encoded data removed]",
      "text/plain": [
       "<Figure size 640x480 with 1 Axes>"
      ]
     },
     "metadata": {},
     "output_type": "display_data"
    }
   ],
   "source": [
    "figure = plt.figure()\n",
    "axes=figure.add_subplot(1,1,1)\n",
    "close_px['2003':'2005'].rolling(30).mean().plot(ax=axes)"
   ]
  }
 ],
 "metadata": {
  "kernelspec": {
   "display_name": "Python 3 (ipykernel)",
   "language": "python",
   "name": "python3"
  },
  "language_info": {
   "codemirror_mode": {
    "name": "ipython",
    "version": 3
   },
   "file_extension": ".py",
   "mimetype": "text/x-python",
   "name": "python",
   "nbconvert_exporter": "python",
   "pygments_lexer": "ipython3",
   "version": "3.10.12"
  }
 },
 "nbformat": 4,
 "nbformat_minor": 5
}

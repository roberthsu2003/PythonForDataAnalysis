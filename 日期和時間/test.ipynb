{
 "cells": [
  {
   "cell_type": "code",
   "execution_count": 1,
   "metadata": {},
   "outputs": [
    {
     "data": {
      "text/plain": [
       "2000-01-01   -0.802144\n",
       "2000-01-02    0.137777\n",
       "2000-01-03   -1.117270\n",
       "2000-01-04   -0.613669\n",
       "2000-01-05    1.736570\n",
       "                ...   \n",
       "2000-04-05   -0.165180\n",
       "2000-04-06    0.735717\n",
       "2000-04-07   -0.569054\n",
       "2000-04-08    0.215482\n",
       "2000-04-09    1.844194\n",
       "Freq: D, Length: 100, dtype: float64"
      ]
     },
     "execution_count": 1,
     "metadata": {},
     "output_type": "execute_result"
    }
   ],
   "source": [
    "import pandas as pd\n",
    "import numpy as np\n",
    "rng = pd.date_range('2000-01-01',periods=100, freq='D')\n",
    "ts = pd.Series(np.random.randn(len(rng)),index=rng)\n",
    "ts"
   ]
  },
  {
   "cell_type": "code",
   "execution_count": 3,
   "metadata": {},
   "outputs": [
    {
     "data": {
      "text/plain": [
       "2000-01-31    0.273496\n",
       "2000-02-29   -0.314135\n",
       "2000-03-31   -0.035297\n",
       "2000-04-30    0.096520\n",
       "Freq: ME, dtype: float64"
      ]
     },
     "execution_count": 3,
     "metadata": {},
     "output_type": "execute_result"
    }
   ],
   "source": [
    "ts.resample('ME').mean() #轉換frequence為月"
   ]
  },
  {
   "cell_type": "code",
   "execution_count": null,
   "metadata": {},
   "outputs": [],
   "source": []
  }
 ],
 "metadata": {
  "kernelspec": {
   "display_name": "Python 3",
   "language": "python",
   "name": "python3"
  },
  "language_info": {
   "codemirror_mode": {
    "name": "ipython",
    "version": 3
   },
   "file_extension": ".py",
   "mimetype": "text/x-python",
   "name": "python",
   "nbconvert_exporter": "python",
   "pygments_lexer": "ipython3",
   "version": "3.10.16"
  }
 },
 "nbformat": 4,
 "nbformat_minor": 2
}

{
 "cells": [
  {
   "cell_type": "markdown",
   "id": "fda7d871",
   "metadata": {},
   "source": [
    "## 時間處理(Time Series)\n",
    "\n",
    "- 時間戳記(timestamp)\n",
    "- 固定時間(2021-1-1,2021-1,2021)\n",
    "- 一段時間(起始-結束)"
   ]
  },
  {
   "cell_type": "markdown",
   "id": "8a2b78d6",
   "metadata": {},
   "source": [
    "### Date and Time Data Types\n",
    "\n",
    "- python提供內建3種module處理時間datatime,time,calendar"
   ]
  },
  {
   "cell_type": "code",
   "execution_count": 1,
   "id": "9e60ae68",
   "metadata": {},
   "outputs": [
    {
     "data": {
      "text/plain": [
       "datetime.datetime(2021, 11, 24, 13, 2, 51, 743402)"
      ]
     },
     "execution_count": 1,
     "metadata": {},
     "output_type": "execute_result"
    }
   ],
   "source": [
    "from datetime import datetime\n",
    "now = datetime.now()\n",
    "now"
   ]
  },
  {
   "cell_type": "code",
   "execution_count": 2,
   "id": "cff1ae0c",
   "metadata": {},
   "outputs": [
    {
     "data": {
      "text/plain": [
       "(2021, 11, 24)"
      ]
     },
     "execution_count": 2,
     "metadata": {},
     "output_type": "execute_result"
    }
   ],
   "source": [
    "now.year, now.month, now.day"
   ]
  },
  {
   "cell_type": "markdown",
   "id": "c3358dd3",
   "metadata": {},
   "source": [
    "- timedelta 是提供儲存一段時間的類型"
   ]
  },
  {
   "cell_type": "code",
   "execution_count": 3,
   "id": "79d0a2ae",
   "metadata": {},
   "outputs": [
    {
     "data": {
      "text/plain": [
       "datetime.timedelta(days=2023, seconds=56700)"
      ]
     },
     "execution_count": 3,
     "metadata": {},
     "output_type": "execute_result"
    }
   ],
   "source": [
    "delta = datetime(2017,1,7) - datetime(2011, 6, 24, 8, 15)\n",
    "delta"
   ]
  },
  {
   "cell_type": "code",
   "execution_count": 4,
   "id": "6971156e",
   "metadata": {},
   "outputs": [
    {
     "data": {
      "text/plain": [
       "(2023, 56700)"
      ]
     },
     "execution_count": 4,
     "metadata": {},
     "output_type": "execute_result"
    }
   ],
   "source": [
    "delta.days, delta.seconds"
   ]
  },
  {
   "cell_type": "markdown",
   "id": "0a67672b",
   "metadata": {},
   "source": [
    " - 可以使用datatime和timedelta的數學運算來增加或減少時間"
   ]
  },
  {
   "cell_type": "code",
   "execution_count": 5,
   "id": "e2ae80a5",
   "metadata": {},
   "outputs": [
    {
     "data": {
      "text/plain": [
       "datetime.datetime(2011, 1, 19, 0, 0)"
      ]
     },
     "execution_count": 5,
     "metadata": {},
     "output_type": "execute_result"
    }
   ],
   "source": [
    "from datetime import timedelta\n",
    "start = datetime(2011, 1, 7)\n",
    "start + timedelta(12)"
   ]
  },
  {
   "cell_type": "code",
   "execution_count": 6,
   "id": "fd24151e",
   "metadata": {},
   "outputs": [
    {
     "data": {
      "text/plain": [
       "datetime.datetime(2010, 12, 14, 0, 0)"
      ]
     },
     "execution_count": 6,
     "metadata": {},
     "output_type": "execute_result"
    }
   ],
   "source": [
    "start - 2 * timedelta(12)"
   ]
  },
  {
   "cell_type": "markdown",
   "id": "c88a08b7",
   "metadata": {},
   "source": [
    "### 字串和Datatime之間的轉換\n",
    "\n",
    "- 使用str(),datetime的方法strftime(),將時間轉成字串\n",
    "\n",
    "%Y -> Four-digit year\n",
    "\n",
    "%y -> Two-digit year\n",
    "\n",
    "%m -> Two-digit month [01, 12] \n",
    "\n",
    "%d -> Two-digit day [01, 31]\n",
    "\n",
    "%H -> Hour (24-hour clock) [00, 23]\n",
    "\n",
    "%I -> Hour (12-hour clock) [01, 12]\n",
    "\n",
    "%M Two-digit minute [00, 59]\n",
    "\n",
    "%S Second [00, 61] (seconds 60, 61 account for leap seconds) \n",
    "\n",
    "%w Weekday as integer [0 (Sunday), 6]\n"
   ]
  },
  {
   "cell_type": "code",
   "execution_count": 7,
   "id": "2724322b",
   "metadata": {},
   "outputs": [
    {
     "data": {
      "text/plain": [
       "('2011-01-03 00:00:00', '2011-01-03')"
      ]
     },
     "execution_count": 7,
     "metadata": {},
     "output_type": "execute_result"
    }
   ],
   "source": [
    "stamp = datetime(2011, 1, 3)\n",
    "str(stamp) , stamp.strftime(\"%Y-%m-%d\")"
   ]
  },
  {
   "cell_type": "markdown",
   "id": "afa81a83",
   "metadata": {},
   "source": [
    "- 將字串轉成時間(datetime.strptime())"
   ]
  },
  {
   "cell_type": "code",
   "execution_count": 8,
   "id": "ac974928",
   "metadata": {},
   "outputs": [
    {
     "data": {
      "text/plain": [
       "datetime.datetime(2011, 3, 1, 0, 0)"
      ]
     },
     "execution_count": 8,
     "metadata": {},
     "output_type": "execute_result"
    }
   ],
   "source": [
    "value = '2011-03-01'\n",
    "datetime.strptime(value, \"%Y-%m-%d\")"
   ]
  },
  {
   "cell_type": "code",
   "execution_count": 9,
   "id": "1de633b7",
   "metadata": {},
   "outputs": [
    {
     "data": {
      "text/plain": [
       "[datetime.datetime(2011, 7, 6, 0, 0), datetime.datetime(2011, 8, 6, 0, 0)]"
      ]
     },
     "execution_count": 9,
     "metadata": {},
     "output_type": "execute_result"
    }
   ],
   "source": [
    "datestrs = ['7/6/2011', '8/6/2011']\n",
    "[datetime.strptime(x,'%m/%d/%Y') for x in datestrs]"
   ]
  },
  {
   "cell_type": "markdown",
   "id": "968e351b",
   "metadata": {},
   "source": [
    "datatime.strptime()非常好使用，但每次要指定格式也是非常麻煩，可以使用第3方套件dateutil的parse方法\n",
    "\n",
    "- pip install python-dateutil"
   ]
  },
  {
   "cell_type": "code",
   "execution_count": 10,
   "id": "6e17c34f",
   "metadata": {},
   "outputs": [
    {
     "data": {
      "text/plain": [
       "(datetime.datetime(2011, 1, 3, 0, 0), datetime.datetime(1997, 1, 31, 22, 15))"
      ]
     },
     "execution_count": 10,
     "metadata": {},
     "output_type": "execute_result"
    }
   ],
   "source": [
    "from dateutil.parser import parse\n",
    "\n",
    "parse('2011-01-03') , parse('Jan 31, 1997 10:15 PM')"
   ]
  },
  {
   "cell_type": "markdown",
   "id": "3382ad59",
   "metadata": {},
   "source": [
    "- 在國際上有時會日期放在前方，只要設定dayfirst=True來指示"
   ]
  },
  {
   "cell_type": "code",
   "execution_count": 11,
   "id": "f2805f2d",
   "metadata": {},
   "outputs": [
    {
     "data": {
      "text/plain": [
       "datetime.datetime(2011, 12, 6, 0, 0)"
      ]
     },
     "execution_count": 11,
     "metadata": {},
     "output_type": "execute_result"
    }
   ],
   "source": [
    "parse('6/12/2011',dayfirst=True)"
   ]
  },
  {
   "cell_type": "markdown",
   "id": "f4ad1fff",
   "metadata": {},
   "source": [
    "- pandas提供to_datetime方法，快速將包含時間字串的list轉換為DatetimeIndex"
   ]
  },
  {
   "cell_type": "code",
   "execution_count": 12,
   "id": "9e566bff",
   "metadata": {},
   "outputs": [
    {
     "data": {
      "text/plain": [
       "DatetimeIndex(['2011-07-06 12:00:00', '2011-08-06 00:00:00'], dtype='datetime64[ns]', freq=None)"
      ]
     },
     "execution_count": 12,
     "metadata": {},
     "output_type": "execute_result"
    }
   ],
   "source": [
    "import pandas as pd\n",
    "\n",
    "datestrs = ['2011-07-06 12:00:00', '2011-08-06 00:00:00']\n",
    "pd.to_datetime(datestrs)\n",
    "            "
   ]
  },
  {
   "cell_type": "markdown",
   "id": "76539ed8",
   "metadata": {},
   "source": [
    "### Time Series的基礎操作\n",
    "\n",
    "- 最常使用的是將Time Series常作index\n",
    "- 建立Time Series時使用的是datetime物件或str"
   ]
  },
  {
   "cell_type": "code",
   "execution_count": 13,
   "id": "d5a28807",
   "metadata": {},
   "outputs": [
    {
     "data": {
      "text/plain": [
       "2021-01-02    0.841598\n",
       "2021-01-05    0.210721\n",
       "2021-01-09    1.103871\n",
       "2021-01-13    0.051777\n",
       "2021-01-21    1.849075\n",
       "dtype: float64"
      ]
     },
     "execution_count": 13,
     "metadata": {},
     "output_type": "execute_result"
    }
   ],
   "source": [
    "import numpy as np\n",
    "import pandas as pd\n",
    "from datetime import datetime\n",
    "\n",
    "dates = [datetime(2021,1,2),\n",
    "         datetime(2021,1,5),\n",
    "         datetime(2021,1,9),\n",
    "         datetime(2021,1,13),\n",
    "         datetime(2021,1,21)]\n",
    "ts = pd.Series(np.random.randn(5),index=dates)\n",
    "ts"
   ]
  },
  {
   "cell_type": "code",
   "execution_count": 14,
   "id": "665a8e99",
   "metadata": {},
   "outputs": [
    {
     "data": {
      "text/plain": [
       "DatetimeIndex(['2021-01-02', '2021-01-05', '2021-01-09', '2021-01-13',\n",
       "               '2021-01-21'],\n",
       "              dtype='datetime64[ns]', freq=None)"
      ]
     },
     "execution_count": 14,
     "metadata": {},
     "output_type": "execute_result"
    }
   ],
   "source": [
    "ts.index"
   ]
  },
  {
   "cell_type": "code",
   "execution_count": 15,
   "id": "c0320023",
   "metadata": {},
   "outputs": [
    {
     "data": {
      "text/plain": [
       "(Timestamp('2021-01-02 00:00:00'), 2021, 2, 0, 0, 0)"
      ]
     },
     "execution_count": 15,
     "metadata": {},
     "output_type": "execute_result"
    }
   ],
   "source": [
    "stamp = ts.index[0]\n",
    "stamp, stamp.year, stamp.day, stamp.hour, stamp.minute, stamp.second"
   ]
  },
  {
   "cell_type": "markdown",
   "id": "08d686da",
   "metadata": {},
   "source": [
    "### Indexing, Slection, Subsetting"
   ]
  },
  {
   "cell_type": "code",
   "execution_count": 16,
   "id": "9d6d0a91",
   "metadata": {},
   "outputs": [
    {
     "data": {
      "text/plain": [
       "2021-01-02    0.841598\n",
       "2021-01-05    0.210721\n",
       "2021-01-09    1.103871\n",
       "2021-01-13    0.051777\n",
       "2021-01-21    1.849075\n",
       "dtype: float64"
      ]
     },
     "execution_count": 16,
     "metadata": {},
     "output_type": "execute_result"
    }
   ],
   "source": [
    "ts"
   ]
  },
  {
   "cell_type": "code",
   "execution_count": 17,
   "id": "757cab2e",
   "metadata": {},
   "outputs": [
    {
     "data": {
      "text/plain": [
       "1.1038705162899862"
      ]
     },
     "execution_count": 17,
     "metadata": {},
     "output_type": "execute_result"
    }
   ],
   "source": [
    "#Timestamp當作索引\n",
    "\n",
    "stamp=ts.index[2]\n",
    "ts[stamp]"
   ]
  },
  {
   "cell_type": "code",
   "execution_count": 18,
   "id": "1117012b",
   "metadata": {},
   "outputs": [
    {
     "data": {
      "text/plain": [
       "(0.8415983332475416, 0.8415983332475416)"
      ]
     },
     "execution_count": 18,
     "metadata": {},
     "output_type": "execute_result"
    }
   ],
   "source": [
    "#時間字串當作索引\n",
    "ts['1/2/2021'], ts['20210102']"
   ]
  },
  {
   "cell_type": "code",
   "execution_count": 19,
   "id": "a3f88a78",
   "metadata": {},
   "outputs": [
    {
     "data": {
      "text/plain": [
       "2019-01-01   -1.263997\n",
       "2019-01-02    0.080703\n",
       "2019-01-03    0.099723\n",
       "2019-01-04   -1.438163\n",
       "2019-01-05   -0.472294\n",
       "                ...   \n",
       "2021-09-22   -0.187923\n",
       "2021-09-23    0.389625\n",
       "2021-09-24   -0.625872\n",
       "2021-09-25    0.757562\n",
       "2021-09-26   -1.252752\n",
       "Freq: D, Length: 1000, dtype: float64"
      ]
     },
     "execution_count": 19,
     "metadata": {},
     "output_type": "execute_result"
    }
   ],
   "source": [
    "#使用pd.date_range()建立長的Time Series \n",
    "longer_ts = pd.Series(np.random.randn(1000),\n",
    "                      index=pd.date_range('1/1/2019',periods=1000))\n",
    "longer_ts"
   ]
  },
  {
   "cell_type": "code",
   "execution_count": 20,
   "id": "b9667087",
   "metadata": {},
   "outputs": [
    {
     "data": {
      "text/plain": [
       "2019-01-01   -1.263997\n",
       "2019-01-02    0.080703\n",
       "2019-01-03    0.099723\n",
       "2019-01-04   -1.438163\n",
       "2019-01-05   -0.472294\n",
       "                ...   \n",
       "2019-12-27   -1.058595\n",
       "2019-12-28   -0.638447\n",
       "2019-12-29    0.783794\n",
       "2019-12-30    1.243142\n",
       "2019-12-31   -0.331555\n",
       "Freq: D, Length: 365, dtype: float64"
      ]
     },
     "execution_count": 20,
     "metadata": {},
     "output_type": "execute_result"
    }
   ],
   "source": [
    "#只索引年份\n",
    "longer_ts['2019']"
   ]
  },
  {
   "cell_type": "code",
   "execution_count": 21,
   "id": "3caabb68",
   "metadata": {},
   "outputs": [
    {
     "data": {
      "text/plain": [
       "2019-05-01   -0.707292\n",
       "2019-05-02    0.533766\n",
       "2019-05-03    0.174236\n",
       "2019-05-04    0.789395\n",
       "2019-05-05   -1.903979\n",
       "2019-05-06   -0.852033\n",
       "2019-05-07   -0.286305\n",
       "2019-05-08    0.771010\n",
       "2019-05-09    1.527075\n",
       "2019-05-10    0.397083\n",
       "2019-05-11    1.341079\n",
       "2019-05-12    0.951440\n",
       "2019-05-13   -0.467916\n",
       "2019-05-14   -0.846672\n",
       "2019-05-15   -0.209726\n",
       "2019-05-16    0.568469\n",
       "2019-05-17   -1.936617\n",
       "2019-05-18   -1.741694\n",
       "2019-05-19    0.908556\n",
       "2019-05-20    1.999541\n",
       "2019-05-21    0.712200\n",
       "2019-05-22    0.420957\n",
       "2019-05-23    0.610617\n",
       "2019-05-24   -0.201884\n",
       "2019-05-25   -0.575449\n",
       "2019-05-26    0.008116\n",
       "2019-05-27   -0.239222\n",
       "2019-05-28    0.511216\n",
       "2019-05-29   -0.617440\n",
       "2019-05-30   -0.927387\n",
       "2019-05-31    1.717547\n",
       "Freq: D, dtype: float64"
      ]
     },
     "execution_count": 21,
     "metadata": {},
     "output_type": "execute_result"
    }
   ],
   "source": [
    "#只索引年份和月份\n",
    "longer_ts['2019-05']"
   ]
  },
  {
   "cell_type": "code",
   "execution_count": 22,
   "id": "6195de1d",
   "metadata": {},
   "outputs": [
    {
     "data": {
      "text/plain": [
       "2021-01-01   -1.722008\n",
       "2021-01-02   -0.459386\n",
       "2021-01-03    1.499412\n",
       "2021-01-04   -1.844707\n",
       "2021-01-05   -1.867556\n",
       "                ...   \n",
       "2021-09-22   -0.187923\n",
       "2021-09-23    0.389625\n",
       "2021-09-24   -0.625872\n",
       "2021-09-25    0.757562\n",
       "2021-09-26   -1.252752\n",
       "Freq: D, Length: 269, dtype: float64"
      ]
     },
     "execution_count": 22,
     "metadata": {},
     "output_type": "execute_result"
    }
   ],
   "source": [
    "#使用slicing\n",
    "longer_ts[datetime(2021,1,1):]"
   ]
  },
  {
   "cell_type": "code",
   "execution_count": 23,
   "id": "16794c0d",
   "metadata": {},
   "outputs": [
    {
     "data": {
      "text/plain": [
       "2021-01-01   -1.722008\n",
       "2021-01-02   -0.459386\n",
       "2021-01-03    1.499412\n",
       "2021-01-04   -1.844707\n",
       "2021-01-05   -1.867556\n",
       "                ...   \n",
       "2021-03-27   -0.013244\n",
       "2021-03-28   -0.350285\n",
       "2021-03-29   -1.621053\n",
       "2021-03-30   -0.040207\n",
       "2021-03-31   -0.225070\n",
       "Freq: D, Length: 90, dtype: float64"
      ]
     },
     "execution_count": 23,
     "metadata": {},
     "output_type": "execute_result"
    }
   ],
   "source": [
    "longer_ts['2021-1-1':'2021-3-31']"
   ]
  },
  {
   "cell_type": "code",
   "execution_count": 24,
   "id": "cd1332a5",
   "metadata": {},
   "outputs": [
    {
     "data": {
      "text/html": [
       "<div>\n",
       "<style scoped>\n",
       "    .dataframe tbody tr th:only-of-type {\n",
       "        vertical-align: middle;\n",
       "    }\n",
       "\n",
       "    .dataframe tbody tr th {\n",
       "        vertical-align: top;\n",
       "    }\n",
       "\n",
       "    .dataframe thead th {\n",
       "        text-align: right;\n",
       "    }\n",
       "</style>\n",
       "<table border=\"1\" class=\"dataframe\">\n",
       "  <thead>\n",
       "    <tr style=\"text-align: right;\">\n",
       "      <th></th>\n",
       "      <th>台北</th>\n",
       "      <th>台中</th>\n",
       "      <th>高雄</th>\n",
       "      <th>花蓮</th>\n",
       "    </tr>\n",
       "  </thead>\n",
       "  <tbody>\n",
       "    <tr>\n",
       "      <th>2021-01-01</th>\n",
       "      <td>-0.914424</td>\n",
       "      <td>2.268787</td>\n",
       "      <td>-0.481762</td>\n",
       "      <td>0.314079</td>\n",
       "    </tr>\n",
       "    <tr>\n",
       "      <th>2021-01-02</th>\n",
       "      <td>1.517634</td>\n",
       "      <td>1.432740</td>\n",
       "      <td>-1.416485</td>\n",
       "      <td>-0.339522</td>\n",
       "    </tr>\n",
       "    <tr>\n",
       "      <th>2021-01-03</th>\n",
       "      <td>-0.445614</td>\n",
       "      <td>-0.735260</td>\n",
       "      <td>1.211156</td>\n",
       "      <td>0.160996</td>\n",
       "    </tr>\n",
       "    <tr>\n",
       "      <th>2021-01-04</th>\n",
       "      <td>-1.877395</td>\n",
       "      <td>-0.370026</td>\n",
       "      <td>-1.304784</td>\n",
       "      <td>2.342048</td>\n",
       "    </tr>\n",
       "    <tr>\n",
       "      <th>2021-01-05</th>\n",
       "      <td>-0.726078</td>\n",
       "      <td>-1.446166</td>\n",
       "      <td>2.054714</td>\n",
       "      <td>-0.760443</td>\n",
       "    </tr>\n",
       "    <tr>\n",
       "      <th>...</th>\n",
       "      <td>...</td>\n",
       "      <td>...</td>\n",
       "      <td>...</td>\n",
       "      <td>...</td>\n",
       "    </tr>\n",
       "    <tr>\n",
       "      <th>2021-04-06</th>\n",
       "      <td>-0.631278</td>\n",
       "      <td>-0.073274</td>\n",
       "      <td>0.460502</td>\n",
       "      <td>-1.975363</td>\n",
       "    </tr>\n",
       "    <tr>\n",
       "      <th>2021-04-07</th>\n",
       "      <td>-0.140222</td>\n",
       "      <td>0.870999</td>\n",
       "      <td>-0.273074</td>\n",
       "      <td>1.472049</td>\n",
       "    </tr>\n",
       "    <tr>\n",
       "      <th>2021-04-08</th>\n",
       "      <td>-0.077135</td>\n",
       "      <td>-0.532638</td>\n",
       "      <td>1.286837</td>\n",
       "      <td>-0.193568</td>\n",
       "    </tr>\n",
       "    <tr>\n",
       "      <th>2021-04-09</th>\n",
       "      <td>-0.402020</td>\n",
       "      <td>-0.254461</td>\n",
       "      <td>0.656850</td>\n",
       "      <td>-0.351261</td>\n",
       "    </tr>\n",
       "    <tr>\n",
       "      <th>2021-04-10</th>\n",
       "      <td>2.500511</td>\n",
       "      <td>0.337993</td>\n",
       "      <td>-0.810498</td>\n",
       "      <td>-0.479628</td>\n",
       "    </tr>\n",
       "  </tbody>\n",
       "</table>\n",
       "<p>100 rows × 4 columns</p>\n",
       "</div>"
      ],
      "text/plain": [
       "                  台北        台中        高雄        花蓮\n",
       "2021-01-01 -0.914424  2.268787 -0.481762  0.314079\n",
       "2021-01-02  1.517634  1.432740 -1.416485 -0.339522\n",
       "2021-01-03 -0.445614 -0.735260  1.211156  0.160996\n",
       "2021-01-04 -1.877395 -0.370026 -1.304784  2.342048\n",
       "2021-01-05 -0.726078 -1.446166  2.054714 -0.760443\n",
       "...              ...       ...       ...       ...\n",
       "2021-04-06 -0.631278 -0.073274  0.460502 -1.975363\n",
       "2021-04-07 -0.140222  0.870999 -0.273074  1.472049\n",
       "2021-04-08 -0.077135 -0.532638  1.286837 -0.193568\n",
       "2021-04-09 -0.402020 -0.254461  0.656850 -0.351261\n",
       "2021-04-10  2.500511  0.337993 -0.810498 -0.479628\n",
       "\n",
       "[100 rows x 4 columns]"
      ]
     },
     "execution_count": 24,
     "metadata": {},
     "output_type": "execute_result"
    }
   ],
   "source": [
    "#DataFrame\n",
    "dates = pd.date_range('1/1/2021',periods=100)\n",
    "long_df = pd.DataFrame(np.random.randn(100,4),\n",
    "                      index = dates,\n",
    "                      columns = ['台北','台中','高雄','花蓮'])\n",
    "long_df"
   ]
  },
  {
   "cell_type": "code",
   "execution_count": 25,
   "id": "16ea5e57",
   "metadata": {},
   "outputs": [
    {
     "data": {
      "text/html": [
       "<div>\n",
       "<style scoped>\n",
       "    .dataframe tbody tr th:only-of-type {\n",
       "        vertical-align: middle;\n",
       "    }\n",
       "\n",
       "    .dataframe tbody tr th {\n",
       "        vertical-align: top;\n",
       "    }\n",
       "\n",
       "    .dataframe thead th {\n",
       "        text-align: right;\n",
       "    }\n",
       "</style>\n",
       "<table border=\"1\" class=\"dataframe\">\n",
       "  <thead>\n",
       "    <tr style=\"text-align: right;\">\n",
       "      <th></th>\n",
       "      <th>台北</th>\n",
       "      <th>台中</th>\n",
       "      <th>高雄</th>\n",
       "      <th>花蓮</th>\n",
       "    </tr>\n",
       "  </thead>\n",
       "  <tbody>\n",
       "    <tr>\n",
       "      <th>2021-03-01</th>\n",
       "      <td>-0.843376</td>\n",
       "      <td>-0.216077</td>\n",
       "      <td>0.929155</td>\n",
       "      <td>0.454339</td>\n",
       "    </tr>\n",
       "    <tr>\n",
       "      <th>2021-03-02</th>\n",
       "      <td>0.472862</td>\n",
       "      <td>-0.618716</td>\n",
       "      <td>-0.421200</td>\n",
       "      <td>0.258479</td>\n",
       "    </tr>\n",
       "    <tr>\n",
       "      <th>2021-03-03</th>\n",
       "      <td>0.275688</td>\n",
       "      <td>0.402674</td>\n",
       "      <td>0.278529</td>\n",
       "      <td>-0.793741</td>\n",
       "    </tr>\n",
       "    <tr>\n",
       "      <th>2021-03-04</th>\n",
       "      <td>0.646987</td>\n",
       "      <td>2.399867</td>\n",
       "      <td>1.722007</td>\n",
       "      <td>-0.407894</td>\n",
       "    </tr>\n",
       "    <tr>\n",
       "      <th>2021-03-05</th>\n",
       "      <td>0.706511</td>\n",
       "      <td>0.701474</td>\n",
       "      <td>-1.845845</td>\n",
       "      <td>-0.736303</td>\n",
       "    </tr>\n",
       "    <tr>\n",
       "      <th>2021-03-06</th>\n",
       "      <td>1.609270</td>\n",
       "      <td>-0.633183</td>\n",
       "      <td>-2.188966</td>\n",
       "      <td>1.246958</td>\n",
       "    </tr>\n",
       "    <tr>\n",
       "      <th>2021-03-07</th>\n",
       "      <td>0.905362</td>\n",
       "      <td>1.686317</td>\n",
       "      <td>-0.495050</td>\n",
       "      <td>1.408025</td>\n",
       "    </tr>\n",
       "    <tr>\n",
       "      <th>2021-03-08</th>\n",
       "      <td>0.475907</td>\n",
       "      <td>0.205336</td>\n",
       "      <td>1.174638</td>\n",
       "      <td>1.216775</td>\n",
       "    </tr>\n",
       "    <tr>\n",
       "      <th>2021-03-09</th>\n",
       "      <td>0.667644</td>\n",
       "      <td>1.690330</td>\n",
       "      <td>-0.772037</td>\n",
       "      <td>-0.444777</td>\n",
       "    </tr>\n",
       "    <tr>\n",
       "      <th>2021-03-10</th>\n",
       "      <td>-1.062262</td>\n",
       "      <td>1.001034</td>\n",
       "      <td>-0.861510</td>\n",
       "      <td>0.081892</td>\n",
       "    </tr>\n",
       "    <tr>\n",
       "      <th>2021-03-11</th>\n",
       "      <td>-0.089365</td>\n",
       "      <td>-0.213659</td>\n",
       "      <td>-0.643479</td>\n",
       "      <td>1.217265</td>\n",
       "    </tr>\n",
       "    <tr>\n",
       "      <th>2021-03-12</th>\n",
       "      <td>-2.221798</td>\n",
       "      <td>-0.603442</td>\n",
       "      <td>0.498664</td>\n",
       "      <td>-0.059737</td>\n",
       "    </tr>\n",
       "    <tr>\n",
       "      <th>2021-03-13</th>\n",
       "      <td>-0.106115</td>\n",
       "      <td>1.001119</td>\n",
       "      <td>1.909459</td>\n",
       "      <td>1.262377</td>\n",
       "    </tr>\n",
       "    <tr>\n",
       "      <th>2021-03-14</th>\n",
       "      <td>1.413293</td>\n",
       "      <td>0.332954</td>\n",
       "      <td>-2.184905</td>\n",
       "      <td>1.789756</td>\n",
       "    </tr>\n",
       "    <tr>\n",
       "      <th>2021-03-15</th>\n",
       "      <td>1.326606</td>\n",
       "      <td>1.547308</td>\n",
       "      <td>-0.972218</td>\n",
       "      <td>-0.003036</td>\n",
       "    </tr>\n",
       "    <tr>\n",
       "      <th>2021-03-16</th>\n",
       "      <td>-0.417116</td>\n",
       "      <td>-1.735733</td>\n",
       "      <td>0.809518</td>\n",
       "      <td>-0.154004</td>\n",
       "    </tr>\n",
       "    <tr>\n",
       "      <th>2021-03-17</th>\n",
       "      <td>0.860899</td>\n",
       "      <td>-0.044888</td>\n",
       "      <td>-0.569888</td>\n",
       "      <td>-1.623888</td>\n",
       "    </tr>\n",
       "    <tr>\n",
       "      <th>2021-03-18</th>\n",
       "      <td>1.033545</td>\n",
       "      <td>-0.933967</td>\n",
       "      <td>0.356187</td>\n",
       "      <td>0.644692</td>\n",
       "    </tr>\n",
       "    <tr>\n",
       "      <th>2021-03-19</th>\n",
       "      <td>-1.053805</td>\n",
       "      <td>0.371192</td>\n",
       "      <td>0.324574</td>\n",
       "      <td>0.713463</td>\n",
       "    </tr>\n",
       "    <tr>\n",
       "      <th>2021-03-20</th>\n",
       "      <td>-0.638947</td>\n",
       "      <td>-0.493440</td>\n",
       "      <td>-1.055702</td>\n",
       "      <td>-0.902723</td>\n",
       "    </tr>\n",
       "    <tr>\n",
       "      <th>2021-03-21</th>\n",
       "      <td>-1.392269</td>\n",
       "      <td>-0.960569</td>\n",
       "      <td>0.143000</td>\n",
       "      <td>0.488504</td>\n",
       "    </tr>\n",
       "    <tr>\n",
       "      <th>2021-03-22</th>\n",
       "      <td>0.053314</td>\n",
       "      <td>0.471337</td>\n",
       "      <td>-0.023276</td>\n",
       "      <td>-0.667008</td>\n",
       "    </tr>\n",
       "    <tr>\n",
       "      <th>2021-03-23</th>\n",
       "      <td>-0.130503</td>\n",
       "      <td>-0.463988</td>\n",
       "      <td>0.617188</td>\n",
       "      <td>0.390306</td>\n",
       "    </tr>\n",
       "    <tr>\n",
       "      <th>2021-03-24</th>\n",
       "      <td>-0.436531</td>\n",
       "      <td>-0.687669</td>\n",
       "      <td>-0.551419</td>\n",
       "      <td>0.947678</td>\n",
       "    </tr>\n",
       "    <tr>\n",
       "      <th>2021-03-25</th>\n",
       "      <td>-0.776792</td>\n",
       "      <td>-0.218632</td>\n",
       "      <td>-0.876247</td>\n",
       "      <td>0.297093</td>\n",
       "    </tr>\n",
       "    <tr>\n",
       "      <th>2021-03-26</th>\n",
       "      <td>-0.017044</td>\n",
       "      <td>-1.502244</td>\n",
       "      <td>-0.422244</td>\n",
       "      <td>-0.915051</td>\n",
       "    </tr>\n",
       "    <tr>\n",
       "      <th>2021-03-27</th>\n",
       "      <td>-1.067216</td>\n",
       "      <td>-0.901401</td>\n",
       "      <td>0.563568</td>\n",
       "      <td>1.205017</td>\n",
       "    </tr>\n",
       "    <tr>\n",
       "      <th>2021-03-28</th>\n",
       "      <td>0.712890</td>\n",
       "      <td>-1.884211</td>\n",
       "      <td>1.119987</td>\n",
       "      <td>0.066339</td>\n",
       "    </tr>\n",
       "    <tr>\n",
       "      <th>2021-03-29</th>\n",
       "      <td>0.866387</td>\n",
       "      <td>-0.413136</td>\n",
       "      <td>1.861753</td>\n",
       "      <td>-1.439802</td>\n",
       "    </tr>\n",
       "    <tr>\n",
       "      <th>2021-03-30</th>\n",
       "      <td>1.214455</td>\n",
       "      <td>1.765506</td>\n",
       "      <td>0.027813</td>\n",
       "      <td>-1.485676</td>\n",
       "    </tr>\n",
       "    <tr>\n",
       "      <th>2021-03-31</th>\n",
       "      <td>-0.060200</td>\n",
       "      <td>0.279049</td>\n",
       "      <td>-0.417934</td>\n",
       "      <td>-0.535258</td>\n",
       "    </tr>\n",
       "  </tbody>\n",
       "</table>\n",
       "</div>"
      ],
      "text/plain": [
       "                  台北        台中        高雄        花蓮\n",
       "2021-03-01 -0.843376 -0.216077  0.929155  0.454339\n",
       "2021-03-02  0.472862 -0.618716 -0.421200  0.258479\n",
       "2021-03-03  0.275688  0.402674  0.278529 -0.793741\n",
       "2021-03-04  0.646987  2.399867  1.722007 -0.407894\n",
       "2021-03-05  0.706511  0.701474 -1.845845 -0.736303\n",
       "2021-03-06  1.609270 -0.633183 -2.188966  1.246958\n",
       "2021-03-07  0.905362  1.686317 -0.495050  1.408025\n",
       "2021-03-08  0.475907  0.205336  1.174638  1.216775\n",
       "2021-03-09  0.667644  1.690330 -0.772037 -0.444777\n",
       "2021-03-10 -1.062262  1.001034 -0.861510  0.081892\n",
       "2021-03-11 -0.089365 -0.213659 -0.643479  1.217265\n",
       "2021-03-12 -2.221798 -0.603442  0.498664 -0.059737\n",
       "2021-03-13 -0.106115  1.001119  1.909459  1.262377\n",
       "2021-03-14  1.413293  0.332954 -2.184905  1.789756\n",
       "2021-03-15  1.326606  1.547308 -0.972218 -0.003036\n",
       "2021-03-16 -0.417116 -1.735733  0.809518 -0.154004\n",
       "2021-03-17  0.860899 -0.044888 -0.569888 -1.623888\n",
       "2021-03-18  1.033545 -0.933967  0.356187  0.644692\n",
       "2021-03-19 -1.053805  0.371192  0.324574  0.713463\n",
       "2021-03-20 -0.638947 -0.493440 -1.055702 -0.902723\n",
       "2021-03-21 -1.392269 -0.960569  0.143000  0.488504\n",
       "2021-03-22  0.053314  0.471337 -0.023276 -0.667008\n",
       "2021-03-23 -0.130503 -0.463988  0.617188  0.390306\n",
       "2021-03-24 -0.436531 -0.687669 -0.551419  0.947678\n",
       "2021-03-25 -0.776792 -0.218632 -0.876247  0.297093\n",
       "2021-03-26 -0.017044 -1.502244 -0.422244 -0.915051\n",
       "2021-03-27 -1.067216 -0.901401  0.563568  1.205017\n",
       "2021-03-28  0.712890 -1.884211  1.119987  0.066339\n",
       "2021-03-29  0.866387 -0.413136  1.861753 -1.439802\n",
       "2021-03-30  1.214455  1.765506  0.027813 -1.485676\n",
       "2021-03-31 -0.060200  0.279049 -0.417934 -0.535258"
      ]
     },
     "execution_count": 25,
     "metadata": {},
     "output_type": "execute_result"
    }
   ],
   "source": [
    "#使用loc\n",
    "long_df.loc['2021-03']"
   ]
  },
  {
   "cell_type": "markdown",
   "id": "5642931b",
   "metadata": {},
   "source": [
    "### 重複的Time Series"
   ]
  },
  {
   "cell_type": "code",
   "execution_count": 26,
   "id": "ecc222e3",
   "metadata": {},
   "outputs": [
    {
     "data": {
      "text/plain": [
       "2021-01-01    0\n",
       "2021-01-02    1\n",
       "2021-01-02    2\n",
       "2021-01-02    3\n",
       "2021-01-03    4\n",
       "dtype: int64"
      ]
     },
     "execution_count": 26,
     "metadata": {},
     "output_type": "execute_result"
    }
   ],
   "source": [
    "dates = pd.DatetimeIndex(['1/1/2021','1/2/2021','1/2/2021','1/2/2021','1/3/2021'])\n",
    "dup_ts = pd.Series(np.arange(5), index=dates)\n",
    "dup_ts"
   ]
  },
  {
   "cell_type": "code",
   "execution_count": 27,
   "id": "ec3a8a6e",
   "metadata": {},
   "outputs": [
    {
     "data": {
      "text/plain": [
       "False"
      ]
     },
     "execution_count": 27,
     "metadata": {},
     "output_type": "execute_result"
    }
   ],
   "source": [
    "#檢查是否有重覆\n",
    "dup_ts.index.is_unique"
   ]
  },
  {
   "cell_type": "code",
   "execution_count": 28,
   "id": "28ddce7b",
   "metadata": {},
   "outputs": [
    {
     "data": {
      "text/plain": [
       "(4,\n",
       " 2021-01-02    1\n",
       " 2021-01-02    2\n",
       " 2021-01-02    3\n",
       " dtype: int64)"
      ]
     },
     "execution_count": 28,
     "metadata": {},
     "output_type": "execute_result"
    }
   ],
   "source": [
    "dup_ts['1/3/2021'], dup_ts['1/2/2021']"
   ]
  },
  {
   "cell_type": "code",
   "execution_count": 29,
   "id": "2061033d",
   "metadata": {},
   "outputs": [
    {
     "data": {
      "text/plain": [
       "(2021-01-01    0.0\n",
       " 2021-01-02    2.0\n",
       " 2021-01-03    4.0\n",
       " dtype: float64,\n",
       " 2021-01-01    1\n",
       " 2021-01-02    3\n",
       " 2021-01-03    1\n",
       " dtype: int64)"
      ]
     },
     "execution_count": 29,
     "metadata": {},
     "output_type": "execute_result"
    }
   ],
   "source": [
    "#使用groupby()處理\n",
    "grouped = dup_ts.groupby(level=0)\n",
    "grouped.mean(), grouped.count()"
   ]
  },
  {
   "cell_type": "code",
   "execution_count": 38,
   "id": "b98a506c",
   "metadata": {},
   "outputs": [
    {
     "data": {
      "text/plain": [
       "2021-01-02    0.261918\n",
       "2021-01-05    1.274581\n",
       "2021-01-09   -0.065320\n",
       "2021-01-13   -1.079759\n",
       "2021-01-21   -0.117742\n",
       "dtype: float64"
      ]
     },
     "execution_count": 38,
     "metadata": {},
     "output_type": "execute_result"
    }
   ],
   "source": [
    "import numpy as np\n",
    "import pandas as pd\n",
    "from datetime import datetime\n",
    "\n",
    "dates = [datetime(2021,1,2),\n",
    "         datetime(2021,1,5),\n",
    "         datetime(2021,1,9),\n",
    "         datetime(2021,1,13),\n",
    "         datetime(2021,1,21)]\n",
    "ts = pd.Series(np.random.randn(5),index=dates)\n",
    "ts"
   ]
  },
  {
   "cell_type": "code",
   "execution_count": 41,
   "id": "d6cf8580",
   "metadata": {},
   "outputs": [
    {
     "data": {
      "text/plain": [
       "2021-01-02    0.261918\n",
       "2021-01-03    0.261918\n",
       "2021-01-04    0.261918\n",
       "2021-01-05    1.274581\n",
       "2021-01-06    1.274581\n",
       "2021-01-07    1.274581\n",
       "2021-01-08    1.274581\n",
       "2021-01-09   -0.065320\n",
       "2021-01-10   -0.065320\n",
       "2021-01-11   -0.065320\n",
       "2021-01-12   -0.065320\n",
       "2021-01-13   -1.079759\n",
       "2021-01-14   -1.079759\n",
       "2021-01-15   -1.079759\n",
       "2021-01-16   -1.079759\n",
       "2021-01-17   -1.079759\n",
       "2021-01-18   -1.079759\n",
       "2021-01-19   -1.079759\n",
       "2021-01-20   -1.079759\n",
       "2021-01-21   -0.117742\n",
       "Freq: D, dtype: float64"
      ]
     },
     "execution_count": 41,
     "metadata": {},
     "output_type": "execute_result"
    }
   ],
   "source": [
    "resampler = ts.resample('D')\n",
    "resampler.ffill()"
   ]
  },
  {
   "cell_type": "code",
   "execution_count": 62,
   "id": "d29d5d40",
   "metadata": {},
   "outputs": [
    {
     "data": {
      "text/html": [
       "<div>\n",
       "<style scoped>\n",
       "    .dataframe tbody tr th:only-of-type {\n",
       "        vertical-align: middle;\n",
       "    }\n",
       "\n",
       "    .dataframe tbody tr th {\n",
       "        vertical-align: top;\n",
       "    }\n",
       "\n",
       "    .dataframe thead th {\n",
       "        text-align: right;\n",
       "    }\n",
       "</style>\n",
       "<table border=\"1\" class=\"dataframe\">\n",
       "  <thead>\n",
       "    <tr style=\"text-align: right;\">\n",
       "      <th></th>\n",
       "      <th>AAPL</th>\n",
       "      <th>MSFT</th>\n",
       "      <th>XOM</th>\n",
       "    </tr>\n",
       "  </thead>\n",
       "  <tbody>\n",
       "    <tr>\n",
       "      <th>2003-01-02</th>\n",
       "      <td>7.40</td>\n",
       "      <td>21.11</td>\n",
       "      <td>29.22</td>\n",
       "    </tr>\n",
       "    <tr>\n",
       "      <th>2003-01-03</th>\n",
       "      <td>7.45</td>\n",
       "      <td>21.14</td>\n",
       "      <td>29.24</td>\n",
       "    </tr>\n",
       "    <tr>\n",
       "      <th>2003-01-06</th>\n",
       "      <td>7.45</td>\n",
       "      <td>21.52</td>\n",
       "      <td>29.96</td>\n",
       "    </tr>\n",
       "    <tr>\n",
       "      <th>2003-01-07</th>\n",
       "      <td>7.43</td>\n",
       "      <td>21.93</td>\n",
       "      <td>28.95</td>\n",
       "    </tr>\n",
       "    <tr>\n",
       "      <th>2003-01-08</th>\n",
       "      <td>7.28</td>\n",
       "      <td>21.31</td>\n",
       "      <td>28.83</td>\n",
       "    </tr>\n",
       "    <tr>\n",
       "      <th>...</th>\n",
       "      <td>...</td>\n",
       "      <td>...</td>\n",
       "      <td>...</td>\n",
       "    </tr>\n",
       "    <tr>\n",
       "      <th>2011-10-10</th>\n",
       "      <td>388.81</td>\n",
       "      <td>26.94</td>\n",
       "      <td>76.28</td>\n",
       "    </tr>\n",
       "    <tr>\n",
       "      <th>2011-10-11</th>\n",
       "      <td>400.29</td>\n",
       "      <td>27.00</td>\n",
       "      <td>76.27</td>\n",
       "    </tr>\n",
       "    <tr>\n",
       "      <th>2011-10-12</th>\n",
       "      <td>402.19</td>\n",
       "      <td>26.96</td>\n",
       "      <td>77.16</td>\n",
       "    </tr>\n",
       "    <tr>\n",
       "      <th>2011-10-13</th>\n",
       "      <td>408.43</td>\n",
       "      <td>27.18</td>\n",
       "      <td>76.37</td>\n",
       "    </tr>\n",
       "    <tr>\n",
       "      <th>2011-10-14</th>\n",
       "      <td>422.00</td>\n",
       "      <td>27.27</td>\n",
       "      <td>78.11</td>\n",
       "    </tr>\n",
       "  </tbody>\n",
       "</table>\n",
       "<p>2214 rows × 3 columns</p>\n",
       "</div>"
      ],
      "text/plain": [
       "              AAPL   MSFT    XOM\n",
       "2003-01-02    7.40  21.11  29.22\n",
       "2003-01-03    7.45  21.14  29.24\n",
       "2003-01-06    7.45  21.52  29.96\n",
       "2003-01-07    7.43  21.93  28.95\n",
       "2003-01-08    7.28  21.31  28.83\n",
       "...            ...    ...    ...\n",
       "2011-10-10  388.81  26.94  76.28\n",
       "2011-10-11  400.29  27.00  76.27\n",
       "2011-10-12  402.19  26.96  77.16\n",
       "2011-10-13  408.43  27.18  76.37\n",
       "2011-10-14  422.00  27.27  78.11\n",
       "\n",
       "[2214 rows x 3 columns]"
      ]
     },
     "execution_count": 62,
     "metadata": {},
     "output_type": "execute_result"
    }
   ],
   "source": [
    "close_px_all = pd.read_csv('stock_px_2.csv',parse_dates=True,index_col=0)\n",
    "close_px = close_px_all[['AAPL', 'MSFT', 'XOM']]\n",
    "close_px"
   ]
  },
  {
   "cell_type": "code",
   "execution_count": 64,
   "id": "20f0b700",
   "metadata": {},
   "outputs": [
    {
     "data": {
      "text/plain": [
       "<AxesSubplot:>"
      ]
     },
     "execution_count": 64,
     "metadata": {},
     "output_type": "execute_result"
    },
    {
     "data": {
      "image/png": "[encoded data removed]",
      "text/plain": [
       "<Figure size 432x288 with 1 Axes>"
      ]
     },
     "metadata": {
      "needs_background": "light"
     },
     "output_type": "display_data"
    }
   ],
   "source": [
    "import matplotlib.pyplot as plt\n",
    "figure = plt.figure()\n",
    "axes=figure.add_subplot(1,1,1)\n",
    "close_px.AAPL.plot(ax=axes)\n",
    "close_px.AAPL.rolling(100).mean().plot(ax=axes) #rolling滾動計算100天的平均,rolling是為了讓線條比較平滑"
   ]
  },
  {
   "cell_type": "code",
   "execution_count": 66,
   "id": "8a5604da",
   "metadata": {},
   "outputs": [
    {
     "data": {
      "text/plain": [
       "2003-01-02        NaN\n",
       "2003-01-03        NaN\n",
       "2003-01-06        NaN\n",
       "2003-01-07        NaN\n",
       "2003-01-08        NaN\n",
       "               ...   \n",
       "2003-12-22        NaN\n",
       "2003-12-23        NaN\n",
       "2003-12-24        NaN\n",
       "2003-12-26        NaN\n",
       "2003-12-29    9.26148\n",
       "Name: AAPL, Length: 250, dtype: float64"
      ]
     },
     "execution_count": 66,
     "metadata": {},
     "output_type": "execute_result"
    }
   ],
   "source": [
    "close_px.AAPL.rolling(250).mean()[:250] #使用rolling()前面250筆會變成None"
   ]
  },
  {
   "cell_type": "code",
   "execution_count": 68,
   "id": "6fa7b770",
   "metadata": {},
   "outputs": [
    {
     "data": {
      "text/plain": [
       "2003-01-02         NaN\n",
       "2003-01-03         NaN\n",
       "2003-01-06         NaN\n",
       "2003-01-07         NaN\n",
       "2003-01-08         NaN\n",
       "2003-01-09         NaN\n",
       "2003-01-10         NaN\n",
       "2003-01-13         NaN\n",
       "2003-01-14         NaN\n",
       "2003-01-15    7.355000\n",
       "2003-01-16    7.350909\n",
       "2003-01-17    7.325833\n",
       "2003-01-21    7.301538\n",
       "2003-01-22    7.275714\n",
       "2003-01-23    7.263333\n",
       "2003-01-24    7.240625\n",
       "2003-01-27    7.230588\n",
       "2003-01-28    7.233889\n",
       "2003-01-29    7.246316\n",
       "2003-01-30    7.242000\n",
       "Name: AAPL, dtype: float64"
      ]
     },
     "execution_count": 68,
     "metadata": {},
     "output_type": "execute_result"
    }
   ],
   "source": [
    "close_px.AAPL.rolling(250,min_periods=10).mean()[:20] #使用min_periods會讓前面的None比較少"
   ]
  },
  {
   "cell_type": "code",
   "execution_count": 69,
   "id": "7bd4172c",
   "metadata": {},
   "outputs": [
    {
     "data": {
      "text/plain": [
       "2003-01-09         NaN\n",
       "2003-01-10         NaN\n",
       "2003-01-13         NaN\n",
       "2003-01-14         NaN\n",
       "2003-01-15    0.077496\n",
       "2003-01-16    0.074760\n",
       "2003-01-17    0.112368\n",
       "Name: AAPL, dtype: float64"
      ]
     },
     "execution_count": 69,
     "metadata": {},
     "output_type": "execute_result"
    }
   ],
   "source": [
    "apple_std250 = close_px.AAPL.rolling(250,min_periods=10).std()\n",
    "apple_std250[5:12]"
   ]
  },
  {
   "cell_type": "code",
   "execution_count": 71,
   "id": "a71e79ca",
   "metadata": {},
   "outputs": [
    {
     "data": {
      "text/plain": [
       "<AxesSubplot:>"
      ]
     },
     "execution_count": 71,
     "metadata": {},
     "output_type": "execute_result"
    },
    {
     "data": {
      "image/png": "[encoded data removed]",
      "text/plain": [
       "<Figure size 432x288 with 1 Axes>"
      ]
     },
     "metadata": {
      "needs_background": "light"
     },
     "output_type": "display_data"
    }
   ],
   "source": [
    "figure = plt.figure()\n",
    "axes=figure.add_subplot(1,1,1)\n",
    "apple_std250.plot(ax=axes) #下圖解釋為每250天的平均差"
   ]
  },
  {
   "cell_type": "code",
   "execution_count": 75,
   "id": "9a754913",
   "metadata": {},
   "outputs": [
    {
     "data": {
      "text/plain": [
       "<AxesSubplot:>"
      ]
     },
     "execution_count": 75,
     "metadata": {},
     "output_type": "execute_result"
    },
    {
     "data": {
      "image/png": "[encoded data removed]",
      "text/plain": [
       "<Figure size 432x288 with 1 Axes>"
      ]
     },
     "metadata": {
      "needs_background": "light"
     },
     "output_type": "display_data"
    }
   ],
   "source": [
    "figure = plt.figure()\n",
    "axes=figure.add_subplot(1,1,1)\n",
    "close_px.rolling(60).mean().plot(ax=axes) #每60天的平均"
   ]
  },
  {
   "cell_type": "code",
   "execution_count": 78,
   "id": "55b3bdeb",
   "metadata": {},
   "outputs": [
    {
     "data": {
      "text/plain": [
       "<AxesSubplot:>"
      ]
     },
     "execution_count": 78,
     "metadata": {},
     "output_type": "execute_result"
    },
    {
     "data": {
      "image/png": "[encoded data removed]",
      "text/plain": [
       "<Figure size 432x288 with 1 Axes>"
      ]
     },
     "metadata": {
      "needs_background": "light"
     },
     "output_type": "display_data"
    }
   ],
   "source": [
    "figure = plt.figure()\n",
    "axes=figure.add_subplot(1,1,1)\n",
    "close_px['2003':'2005'].rolling(30).mean().plot(ax=axes)"
   ]
  }
 ],
 "metadata": {
  "kernelspec": {
   "display_name": "Python 3 (ipykernel)",
   "language": "python",
   "name": "python3"
  },
  "language_info": {
   "codemirror_mode": {
    "name": "ipython",
    "version": 3
   },
   "file_extension": ".py",
   "mimetype": "text/x-python",
   "name": "python",
   "nbconvert_exporter": "python",
   "pygments_lexer": "ipython3",
   "version": "3.10.2"
  }
 },
 "nbformat": 4,
 "nbformat_minor": 5
}

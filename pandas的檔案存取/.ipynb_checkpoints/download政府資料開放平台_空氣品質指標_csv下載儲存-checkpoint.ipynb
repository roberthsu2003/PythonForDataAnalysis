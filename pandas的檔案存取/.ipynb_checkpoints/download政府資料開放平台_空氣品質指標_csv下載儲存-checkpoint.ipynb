{
 "cells": [
  {
   "cell_type": "markdown",
   "metadata": {},
   "source": [
    "## 空氣品質指標(AQI)概況\n",
    "    - https://data.gov.tw/dataset/89029"
   ]
  },
  {
   "cell_type": "code",
   "execution_count": 2,
   "metadata": {},
   "outputs": [],
   "source": [
    "import urllib3\n",
    "import certifi\n",
    "import csv\n",
    "\n",
    "#CSV_URL = \"https://data.epa.gov.tw/api/v1/aqx_p_432?limit=1000&api_key=9be7b239-557b-4c10-9775-78cadfc555e9&format=csv\"\n",
    "#下載並存檔\n",
    "CSV_URL = \"https://data.epa.gov.tw/api/v1/aqx_p_432?limit=1000&api_key=9be7b239-557b-4c10-9775-78cadfc555e9&format=csv\"\n",
    "http = urllib3.PoolManager(cert_reqs='CERT_REQUIRED',ca_certs=certifi.where())\n",
    "r = http.request('GET', CSV_URL)\n",
    "if r.status == 200:\n",
    "    with open('空氣品質指標.csv','wb') as f:\n",
    "        f.write(r.data)\n",
    "        f.close()\n",
    "else:\n",
    "    print('下載錯誤')"
   ]
  },
  {
   "cell_type": "code",
   "execution_count": 3,
   "metadata": {},
   "outputs": [
    {
     "data": {
      "text/plain": [
       "SiteName        object\n",
       "County          object\n",
       "AQI              int64\n",
       "Pollutant       object\n",
       "Status          object\n",
       "SO2            float64\n",
       "CO              object\n",
       "CO_8hr         float64\n",
       "O3              object\n",
       "O3_8hr         float64\n",
       "PM10             int64\n",
       "PM2.5           object\n",
       "NO2            float64\n",
       "NOx            float64\n",
       "NO             float64\n",
       "WindSpeed      float64\n",
       "WindDirec      float64\n",
       "PublishTime     object\n",
       "PM2.5_AVG        int64\n",
       "PM10_AVG         int64\n",
       "SO2_AVG          int64\n",
       "Longitude      float64\n",
       "Latitude       float64\n",
       "SiteId           int64\n",
       "dtype: object"
      ]
     },
     "execution_count": 3,
     "metadata": {},
     "output_type": "execute_result"
    }
   ],
   "source": [
    "import pandas as pd \n",
    "aqiDataFrame = pd.read_csv('空氣品質指標.csv')\n",
    "aqiDataFrame.dtypes"
   ]
  },
  {
   "cell_type": "code",
   "execution_count": 4,
   "metadata": {},
   "outputs": [
    {
     "data": {
      "text/html": [
       "<div>\n",
       "<style scoped>\n",
       "    .dataframe tbody tr th:only-of-type {\n",
       "        vertical-align: middle;\n",
       "    }\n",
       "\n",
       "    .dataframe tbody tr th {\n",
       "        vertical-align: top;\n",
       "    }\n",
       "\n",
       "    .dataframe thead th {\n",
       "        text-align: right;\n",
       "    }\n",
       "</style>\n",
       "<table border=\"1\" class=\"dataframe\">\n",
       "  <thead>\n",
       "    <tr style=\"text-align: right;\">\n",
       "      <th></th>\n",
       "      <th>SiteName</th>\n",
       "      <th>AQI</th>\n",
       "      <th>PM2.5_AVG</th>\n",
       "      <th>PublishTime</th>\n",
       "    </tr>\n",
       "  </thead>\n",
       "  <tbody>\n",
       "    <tr>\n",
       "      <td>0</td>\n",
       "      <td>二林</td>\n",
       "      <td>43</td>\n",
       "      <td>13</td>\n",
       "      <td>2020-10-11 13:00</td>\n",
       "    </tr>\n",
       "    <tr>\n",
       "      <td>1</td>\n",
       "      <td>三重</td>\n",
       "      <td>24</td>\n",
       "      <td>7</td>\n",
       "      <td>2020-10-11 13:00</td>\n",
       "    </tr>\n",
       "    <tr>\n",
       "      <td>2</td>\n",
       "      <td>三義</td>\n",
       "      <td>28</td>\n",
       "      <td>6</td>\n",
       "      <td>2020-10-11 13:00</td>\n",
       "    </tr>\n",
       "    <tr>\n",
       "      <td>3</td>\n",
       "      <td>土城</td>\n",
       "      <td>31</td>\n",
       "      <td>6</td>\n",
       "      <td>2020-10-11 13:00</td>\n",
       "    </tr>\n",
       "    <tr>\n",
       "      <td>4</td>\n",
       "      <td>士林</td>\n",
       "      <td>34</td>\n",
       "      <td>3</td>\n",
       "      <td>2020-10-11 13:00</td>\n",
       "    </tr>\n",
       "    <tr>\n",
       "      <td>...</td>\n",
       "      <td>...</td>\n",
       "      <td>...</td>\n",
       "      <td>...</td>\n",
       "      <td>...</td>\n",
       "    </tr>\n",
       "    <tr>\n",
       "      <td>76</td>\n",
       "      <td>頭份</td>\n",
       "      <td>24</td>\n",
       "      <td>4</td>\n",
       "      <td>2020-10-11 13:00</td>\n",
       "    </tr>\n",
       "    <tr>\n",
       "      <td>77</td>\n",
       "      <td>龍潭</td>\n",
       "      <td>34</td>\n",
       "      <td>3</td>\n",
       "      <td>2020-10-11 13:00</td>\n",
       "    </tr>\n",
       "    <tr>\n",
       "      <td>78</td>\n",
       "      <td>豐原</td>\n",
       "      <td>31</td>\n",
       "      <td>10</td>\n",
       "      <td>2020-10-11 13:00</td>\n",
       "    </tr>\n",
       "    <tr>\n",
       "      <td>79</td>\n",
       "      <td>關山</td>\n",
       "      <td>25</td>\n",
       "      <td>5</td>\n",
       "      <td>2020-10-11 13:00</td>\n",
       "    </tr>\n",
       "    <tr>\n",
       "      <td>80</td>\n",
       "      <td>觀音</td>\n",
       "      <td>37</td>\n",
       "      <td>11</td>\n",
       "      <td>2020-10-11 13:00</td>\n",
       "    </tr>\n",
       "  </tbody>\n",
       "</table>\n",
       "<p>81 rows × 4 columns</p>\n",
       "</div>"
      ],
      "text/plain": [
       "   SiteName  AQI  PM2.5_AVG       PublishTime\n",
       "0        二林   43         13  2020-10-11 13:00\n",
       "1        三重   24          7  2020-10-11 13:00\n",
       "2        三義   28          6  2020-10-11 13:00\n",
       "3        土城   31          6  2020-10-11 13:00\n",
       "4        士林   34          3  2020-10-11 13:00\n",
       "..      ...  ...        ...               ...\n",
       "76       頭份   24          4  2020-10-11 13:00\n",
       "77       龍潭   34          3  2020-10-11 13:00\n",
       "78       豐原   31         10  2020-10-11 13:00\n",
       "79       關山   25          5  2020-10-11 13:00\n",
       "80       觀音   37         11  2020-10-11 13:00\n",
       "\n",
       "[81 rows x 4 columns]"
      ]
     },
     "execution_count": 4,
     "metadata": {},
     "output_type": "execute_result"
    }
   ],
   "source": [
    "aqi=aqiDataFrame.reindex(columns=['SiteName','AQI','PM2.5_AVG','PublishTime'])\n",
    "aqi"
   ]
  },
  {
   "cell_type": "code",
   "execution_count": 5,
   "metadata": {},
   "outputs": [],
   "source": [
    "min = aqi['AQI'].min()\n",
    "max = aqi['AQI'].max()\n",
    "mean = aqi['AQI'].mean()"
   ]
  },
  {
   "cell_type": "code",
   "execution_count": 6,
   "metadata": {},
   "outputs": [
    {
     "data": {
      "text/html": [
       "<div>\n",
       "<style scoped>\n",
       "    .dataframe tbody tr th:only-of-type {\n",
       "        vertical-align: middle;\n",
       "    }\n",
       "\n",
       "    .dataframe tbody tr th {\n",
       "        vertical-align: top;\n",
       "    }\n",
       "\n",
       "    .dataframe thead th {\n",
       "        text-align: right;\n",
       "    }\n",
       "</style>\n",
       "<table border=\"1\" class=\"dataframe\">\n",
       "  <thead>\n",
       "    <tr style=\"text-align: right;\">\n",
       "      <th></th>\n",
       "      <th>SiteName</th>\n",
       "      <th>AQI</th>\n",
       "      <th>PM2.5_AVG</th>\n",
       "      <th>PublishTime</th>\n",
       "    </tr>\n",
       "  </thead>\n",
       "  <tbody>\n",
       "    <tr>\n",
       "      <td>57</td>\n",
       "      <td>新店</td>\n",
       "      <td>19</td>\n",
       "      <td>4</td>\n",
       "      <td>2020-10-11 13:00</td>\n",
       "    </tr>\n",
       "  </tbody>\n",
       "</table>\n",
       "</div>"
      ],
      "text/plain": [
       "   SiteName  AQI  PM2.5_AVG       PublishTime\n",
       "57       新店   19          4  2020-10-11 13:00"
      ]
     },
     "execution_count": 6,
     "metadata": {},
     "output_type": "execute_result"
    }
   ],
   "source": [
    "#最好\n",
    "aqi[aqi['AQI'] == min]"
   ]
  },
  {
   "cell_type": "code",
   "execution_count": 7,
   "metadata": {},
   "outputs": [
    {
     "data": {
      "text/html": [
       "<div>\n",
       "<style scoped>\n",
       "    .dataframe tbody tr th:only-of-type {\n",
       "        vertical-align: middle;\n",
       "    }\n",
       "\n",
       "    .dataframe tbody tr th {\n",
       "        vertical-align: top;\n",
       "    }\n",
       "\n",
       "    .dataframe thead th {\n",
       "        text-align: right;\n",
       "    }\n",
       "</style>\n",
       "<table border=\"1\" class=\"dataframe\">\n",
       "  <thead>\n",
       "    <tr style=\"text-align: right;\">\n",
       "      <th></th>\n",
       "      <th>SiteName</th>\n",
       "      <th>AQI</th>\n",
       "      <th>PM2.5_AVG</th>\n",
       "      <th>PublishTime</th>\n",
       "    </tr>\n",
       "  </thead>\n",
       "  <tbody>\n",
       "    <tr>\n",
       "      <td>8</td>\n",
       "      <td>大寮</td>\n",
       "      <td>96</td>\n",
       "      <td>34</td>\n",
       "      <td>2020-10-11 13:00</td>\n",
       "    </tr>\n",
       "    <tr>\n",
       "      <td>31</td>\n",
       "      <td>林園</td>\n",
       "      <td>96</td>\n",
       "      <td>34</td>\n",
       "      <td>2020-10-11 13:00</td>\n",
       "    </tr>\n",
       "  </tbody>\n",
       "</table>\n",
       "</div>"
      ],
      "text/plain": [
       "   SiteName  AQI  PM2.5_AVG       PublishTime\n",
       "8        大寮   96         34  2020-10-11 13:00\n",
       "31       林園   96         34  2020-10-11 13:00"
      ]
     },
     "execution_count": 7,
     "metadata": {},
     "output_type": "execute_result"
    }
   ],
   "source": [
    "#最不好\n",
    "aqi[aqi['AQI'] == max]"
   ]
  },
  {
   "cell_type": "code",
   "execution_count": null,
   "metadata": {},
   "outputs": [],
   "source": []
  }
 ],
 "metadata": {
  "kernelspec": {
   "display_name": "Python 3",
   "language": "python",
   "name": "python3"
  },
  "language_info": {
   "codemirror_mode": {
    "name": "ipython",
    "version": 3
   },
   "file_extension": ".py",
   "mimetype": "text/x-python",
   "name": "python",
   "nbconvert_exporter": "python",
   "pygments_lexer": "ipython3",
   "version": "3.8.3"
  }
 },
 "nbformat": 4,
 "nbformat_minor": 2
}

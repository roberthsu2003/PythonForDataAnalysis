{
 "cells": [
  {
   "cell_type": "code",
   "execution_count": 1,
   "metadata": {},
   "outputs": [
    {
     "name": "stderr",
     "output_type": "stream",
     "text": [
      "/var/folders/by/68nnsq553f59kbs1v470m4k40000gp/T/ipykernel_3542/1277841057.py:23: FutureWarning: The behavior of `series[i:j]` with an integer-dtype index is deprecated. In a future version, this will be treated as *label-based* indexing, consistent with e.g. `series[i]` lookups. To retain the old behavior, use `series.iloc[i:j]`. To get the future behavior, use `series.loc[i:j]`.\n",
      "  dataFrame['年底人口數'][-30:]\n",
      "/var/folders/by/68nnsq553f59kbs1v470m4k40000gp/T/ipykernel_3542/1277841057.py:28: FutureWarning: Indexing with multiple keys (implicitly converted to a tuple of keys) will be deprecated, use a list instead.\n",
      "  result = dataFrame.groupby('縣市')['年底人口數','土地面積'].sum() #群組計算\n"
     ]
    },
    {
     "data": {
      "text/html": [
       "<div>\n",
       "<style scoped>\n",
       "    .dataframe tbody tr th:only-of-type {\n",
       "        vertical-align: middle;\n",
       "    }\n",
       "\n",
       "    .dataframe tbody tr th {\n",
       "        vertical-align: top;\n",
       "    }\n",
       "\n",
       "    .dataframe thead th {\n",
       "        text-align: right;\n",
       "    }\n",
       "</style>\n",
       "<table border=\"1\" class=\"dataframe\">\n",
       "  <thead>\n",
       "    <tr style=\"text-align: right;\">\n",
       "      <th></th>\n",
       "      <th>年底人口數</th>\n",
       "      <th>土地面積</th>\n",
       "      <th>人口密度</th>\n",
       "    </tr>\n",
       "    <tr>\n",
       "      <th>縣市</th>\n",
       "      <th></th>\n",
       "      <th></th>\n",
       "      <th></th>\n",
       "    </tr>\n",
       "  </thead>\n",
       "  <tbody>\n",
       "    <tr>\n",
       "      <th>新北市</th>\n",
       "      <td>3986689</td>\n",
       "      <td>2052.5667</td>\n",
       "      <td>0.000515</td>\n",
       "    </tr>\n",
       "    <tr>\n",
       "      <th>臺中市</th>\n",
       "      <td>2787070</td>\n",
       "      <td>2214.8968</td>\n",
       "      <td>0.000795</td>\n",
       "    </tr>\n",
       "    <tr>\n",
       "      <th>高雄市</th>\n",
       "      <td>2776912</td>\n",
       "      <td>2951.8524</td>\n",
       "      <td>0.001063</td>\n",
       "    </tr>\n",
       "    <tr>\n",
       "      <th>臺北市</th>\n",
       "      <td>2683257</td>\n",
       "      <td>271.7997</td>\n",
       "      <td>0.000101</td>\n",
       "    </tr>\n",
       "    <tr>\n",
       "      <th>桃園市</th>\n",
       "      <td>2188017</td>\n",
       "      <td>1220.9540</td>\n",
       "      <td>0.000558</td>\n",
       "    </tr>\n",
       "    <tr>\n",
       "      <th>臺南市</th>\n",
       "      <td>1886522</td>\n",
       "      <td>2191.6531</td>\n",
       "      <td>0.001162</td>\n",
       "    </tr>\n",
       "    <tr>\n",
       "      <th>彰化縣</th>\n",
       "      <td>1282458</td>\n",
       "      <td>1074.3960</td>\n",
       "      <td>0.000838</td>\n",
       "    </tr>\n",
       "    <tr>\n",
       "      <th>屏東縣</th>\n",
       "      <td>829939</td>\n",
       "      <td>2775.6003</td>\n",
       "      <td>0.003344</td>\n",
       "    </tr>\n",
       "    <tr>\n",
       "      <th>雲林縣</th>\n",
       "      <td>690373</td>\n",
       "      <td>1290.8326</td>\n",
       "      <td>0.001870</td>\n",
       "    </tr>\n",
       "    <tr>\n",
       "      <th>苗栗縣</th>\n",
       "      <td>553807</td>\n",
       "      <td>1820.3149</td>\n",
       "      <td>0.003287</td>\n",
       "    </tr>\n",
       "    <tr>\n",
       "      <th>新竹縣</th>\n",
       "      <td>552169</td>\n",
       "      <td>1427.5369</td>\n",
       "      <td>0.002585</td>\n",
       "    </tr>\n",
       "    <tr>\n",
       "      <th>嘉義縣</th>\n",
       "      <td>511182</td>\n",
       "      <td>1903.6367</td>\n",
       "      <td>0.003724</td>\n",
       "    </tr>\n",
       "    <tr>\n",
       "      <th>南投縣</th>\n",
       "      <td>501051</td>\n",
       "      <td>4106.4360</td>\n",
       "      <td>0.008196</td>\n",
       "    </tr>\n",
       "    <tr>\n",
       "      <th>宜蘭縣</th>\n",
       "      <td>456607</td>\n",
       "      <td>2143.6251</td>\n",
       "      <td>0.004695</td>\n",
       "    </tr>\n",
       "    <tr>\n",
       "      <th>新竹市</th>\n",
       "      <td>441132</td>\n",
       "      <td>104.1526</td>\n",
       "      <td>0.000236</td>\n",
       "    </tr>\n",
       "    <tr>\n",
       "      <th>基隆市</th>\n",
       "      <td>371458</td>\n",
       "      <td>132.7589</td>\n",
       "      <td>0.000357</td>\n",
       "    </tr>\n",
       "    <tr>\n",
       "      <th>花蓮縣</th>\n",
       "      <td>329237</td>\n",
       "      <td>4628.5714</td>\n",
       "      <td>0.014058</td>\n",
       "    </tr>\n",
       "    <tr>\n",
       "      <th>嘉義市</th>\n",
       "      <td>269398</td>\n",
       "      <td>60.0256</td>\n",
       "      <td>0.000223</td>\n",
       "    </tr>\n",
       "    <tr>\n",
       "      <th>臺東縣</th>\n",
       "      <td>219540</td>\n",
       "      <td>3515.2526</td>\n",
       "      <td>0.016012</td>\n",
       "    </tr>\n",
       "    <tr>\n",
       "      <th>金門縣</th>\n",
       "      <td>137456</td>\n",
       "      <td>151.6560</td>\n",
       "      <td>0.001103</td>\n",
       "    </tr>\n",
       "    <tr>\n",
       "      <th>澎湖縣</th>\n",
       "      <td>104073</td>\n",
       "      <td>126.8641</td>\n",
       "      <td>0.001219</td>\n",
       "    </tr>\n",
       "    <tr>\n",
       "      <th>連江縣</th>\n",
       "      <td>12880</td>\n",
       "      <td>28.8000</td>\n",
       "      <td>0.002236</td>\n",
       "    </tr>\n",
       "    <tr>\n",
       "      <th>南沙群島</th>\n",
       "      <td>0</td>\n",
       "      <td>0.5045</td>\n",
       "      <td>inf</td>\n",
       "    </tr>\n",
       "    <tr>\n",
       "      <th>東沙群島</th>\n",
       "      <td>0</td>\n",
       "      <td>2.3800</td>\n",
       "      <td>inf</td>\n",
       "    </tr>\n",
       "  </tbody>\n",
       "</table>\n",
       "</div>"
      ],
      "text/plain": [
       "0       年底人口數       土地面積      人口密度\n",
       "縣市                                \n",
       "新北市   3986689  2052.5667  0.000515\n",
       "臺中市   2787070  2214.8968  0.000795\n",
       "高雄市   2776912  2951.8524  0.001063\n",
       "臺北市   2683257   271.7997  0.000101\n",
       "桃園市   2188017  1220.9540  0.000558\n",
       "臺南市   1886522  2191.6531  0.001162\n",
       "彰化縣   1282458  1074.3960  0.000838\n",
       "屏東縣    829939  2775.6003  0.003344\n",
       "雲林縣    690373  1290.8326  0.001870\n",
       "苗栗縣    553807  1820.3149  0.003287\n",
       "新竹縣    552169  1427.5369  0.002585\n",
       "嘉義縣    511182  1903.6367  0.003724\n",
       "南投縣    501051  4106.4360  0.008196\n",
       "宜蘭縣    456607  2143.6251  0.004695\n",
       "新竹市    441132   104.1526  0.000236\n",
       "基隆市    371458   132.7589  0.000357\n",
       "花蓮縣    329237  4628.5714  0.014058\n",
       "嘉義市    269398    60.0256  0.000223\n",
       "臺東縣    219540  3515.2526  0.016012\n",
       "金門縣    137456   151.6560  0.001103\n",
       "澎湖縣    104073   126.8641  0.001219\n",
       "連江縣     12880    28.8000  0.002236\n",
       "南沙群島        0     0.5045       inf\n",
       "東沙群島        0     2.3800       inf"
      ]
     },
     "execution_count": 1,
     "metadata": {},
     "output_type": "execute_result"
    }
   ],
   "source": [
    "import numpy as np\n",
    "import pandas as pd\n",
    "\n",
    "def toInt(x):\n",
    "    try:\n",
    "        return np.int64(x)\n",
    "    except:\n",
    "        return 0\n",
    "def toFloat(x):\n",
    "    try:\n",
    "        return np.float64(x)\n",
    "    except:\n",
    "        return 0.0\n",
    "\n",
    "dataFrame = pd.read_csv('各鄉鎮市區人口密度.csv')\n",
    "dataFrame.columns = dataFrame.iloc[0] #改變欄位標籤名稱\n",
    "dataFrame = dataFrame[1:-5] #刪除第一筆和最後5筆\n",
    "states = dataFrame['區域別'].map(lambda x: x[:3] if len(x)>4 else x) #建立縣市\n",
    "dataFrame['縣市'] = states\n",
    "areas = dataFrame['區域別'].map(lambda x: x[-3:] if len(x)>4 else x) #建立區域\n",
    "dataFrame['區域'] = areas\n",
    "dataFrame = dataFrame.reindex(columns = ['縣市','年底人口數', '土地面積'])\n",
    "dataFrame['年底人口數'][-30:]\n",
    "dataFrame.dtypes #檢查型別\n",
    "#dataFrame['年底人口數'].astype(np.int64, copy=False) #執行會失敗,因為最後2筆內容為...\n",
    "dataFrame['年底人口數'] = dataFrame['年底人口數'].map(toInt) #轉換型別\n",
    "dataFrame['土地面積'] = dataFrame['土地面積'].map(toFloat) #轉換型別\n",
    "result = dataFrame.groupby('縣市')['年底人口數','土地面積'].sum() #群組計算\n",
    "result = result.sort_values(by='年底人口數',ascending=False) #排序\n",
    "result['人口密度'] = result['土地面積']/result['年底人口數']\n",
    "result"
   ]
  },
  {
   "cell_type": "code",
   "execution_count": 2,
   "metadata": {},
   "outputs": [
    {
     "data": {
      "text/plain": [
       "23571227"
      ]
     },
     "execution_count": 2,
     "metadata": {},
     "output_type": "execute_result"
    }
   ],
   "source": [
    "#總人口數\n",
    "result['年底人口數'].sum()"
   ]
  },
  {
   "cell_type": "code",
   "execution_count": 3,
   "metadata": {},
   "outputs": [
    {
     "data": {
      "text/plain": [
       "36197.0669"
      ]
     },
     "execution_count": 3,
     "metadata": {},
     "output_type": "execute_result"
    }
   ],
   "source": [
    "#總國土面積\n",
    "result['土地面積'].sum()"
   ]
  },
  {
   "cell_type": "code",
   "execution_count": 10,
   "metadata": {},
   "outputs": [
    {
     "data": {
      "text/plain": [
       "'新北市'"
      ]
     },
     "execution_count": 10,
     "metadata": {},
     "output_type": "execute_result"
    }
   ],
   "source": [
    "#最多人口縣市\n",
    "result[result['年底人口數'] == result['年底人口數'].max()].index.values[0]"
   ]
  },
  {
   "cell_type": "code",
   "execution_count": 11,
   "metadata": {},
   "outputs": [
    {
     "data": {
      "text/plain": [
       "'連江縣'"
      ]
     },
     "execution_count": 11,
     "metadata": {},
     "output_type": "execute_result"
    }
   ],
   "source": [
    "#最少人口數\n",
    "result = result[result['年底人口數'] > 0]\n",
    "result[result['年底人口數'] == result['年底人口數'].min()].index.values[0]"
   ]
  },
  {
   "cell_type": "code",
   "execution_count": 18,
   "metadata": {},
   "outputs": [
    {
     "data": {
      "text/html": [
       "<div>\n",
       "<style scoped>\n",
       "    .dataframe tbody tr th:only-of-type {\n",
       "        vertical-align: middle;\n",
       "    }\n",
       "\n",
       "    .dataframe tbody tr th {\n",
       "        vertical-align: top;\n",
       "    }\n",
       "\n",
       "    .dataframe thead th {\n",
       "        text-align: right;\n",
       "    }\n",
       "</style>\n",
       "<table border=\"1\" class=\"dataframe\">\n",
       "  <thead>\n",
       "    <tr style=\"text-align: right;\">\n",
       "      <th></th>\n",
       "      <th></th>\n",
       "    </tr>\n",
       "    <tr>\n",
       "      <th></th>\n",
       "      <th></th>\n",
       "    </tr>\n",
       "  </thead>\n",
       "  <tbody>\n",
       "    <tr>\n",
       "      <th>總人口數</th>\n",
       "      <td>23571227</td>\n",
       "    </tr>\n",
       "    <tr>\n",
       "      <th>總國土面積</th>\n",
       "      <td>36194.1824</td>\n",
       "    </tr>\n",
       "    <tr>\n",
       "      <th>最多人口縣市</th>\n",
       "      <td>新北市</td>\n",
       "    </tr>\n",
       "    <tr>\n",
       "      <th>最少人口數</th>\n",
       "      <td>連江縣</td>\n",
       "    </tr>\n",
       "  </tbody>\n",
       "</table>\n",
       "</div>"
      ],
      "text/plain": [
       "                  \n",
       "                  \n",
       "總人口數      23571227\n",
       "總國土面積   36194.1824\n",
       "最多人口縣市         新北市\n",
       "最少人口數          連江縣"
      ]
     },
     "execution_count": 18,
     "metadata": {},
     "output_type": "execute_result"
    }
   ],
   "source": [
    "result_data = [\n",
    "    ['總人口數',result['年底人口數'].sum()],\n",
    "    ['總國土面積',result['土地面積'].sum()],\n",
    "    ['最多人口縣市',result[result['年底人口數'] == result['年底人口數'].max()].index.values[0]],\n",
    "    ['最少人口數',result[result['年底人口數'] == result['年底人口數'].min()].index.values[0]]\n",
    "]\n",
    "result_dataFrame = pd.DataFrame(result_data).set_index(0)\n",
    "result_dataFrame.index.name=\"\"\n",
    "result_dataFrame.columns=[\"\"]\n",
    "result_dataFrame"
   ]
  }
 ],
 "metadata": {
  "kernelspec": {
   "display_name": "Python 3.10.6 ('venv14')",
   "language": "python",
   "name": "python3"
  },
  "language_info": {
   "codemirror_mode": {
    "name": "ipython",
    "version": 3
   },
   "file_extension": ".py",
   "mimetype": "text/x-python",
   "name": "python",
   "nbconvert_exporter": "python",
   "pygments_lexer": "ipython3",
   "version": "3.10.6"
  },
  "vscode": {
   "interpreter": {
    "hash": "a58913c66b98dddfc964ba6f5302e4f760ac5e6f18107696cc385ae346a09ab8"
   }
  }
 },
 "nbformat": 4,
 "nbformat_minor": 2
}

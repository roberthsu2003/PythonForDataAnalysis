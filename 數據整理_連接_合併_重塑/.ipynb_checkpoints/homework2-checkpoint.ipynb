{
 "cells": [
  {
   "cell_type": "code",
   "execution_count": 2,
   "metadata": {},
   "outputs": [
    {
     "data": {
      "text/html": [
       "<div>\n",
       "<style scoped>\n",
       "    .dataframe tbody tr th:only-of-type {\n",
       "        vertical-align: middle;\n",
       "    }\n",
       "\n",
       "    .dataframe tbody tr th {\n",
       "        vertical-align: top;\n",
       "    }\n",
       "\n",
       "    .dataframe thead th {\n",
       "        text-align: right;\n",
       "    }\n",
       "</style>\n",
       "<table border=\"1\" class=\"dataframe\">\n",
       "  <thead>\n",
       "    <tr style=\"text-align: right;\">\n",
       "      <th></th>\n",
       "      <th>緯度</th>\n",
       "      <th>經度</th>\n",
       "    </tr>\n",
       "  </thead>\n",
       "  <tbody>\n",
       "    <tr>\n",
       "      <td>Taipei</td>\n",
       "      <td>25.05</td>\n",
       "      <td>121.53</td>\n",
       "    </tr>\n",
       "    <tr>\n",
       "      <td>Taichung</td>\n",
       "      <td>24.15</td>\n",
       "      <td>120.68</td>\n",
       "    </tr>\n",
       "    <tr>\n",
       "      <td>Pingtung</td>\n",
       "      <td>22.67</td>\n",
       "      <td>120.49</td>\n",
       "    </tr>\n",
       "  </tbody>\n",
       "</table>\n",
       "</div>"
      ],
      "text/plain": [
       "             緯度      經度\n",
       "Taipei    25.05  121.53\n",
       "Taichung  24.15  120.68\n",
       "Pingtung  22.67  120.49"
      ]
     },
     "execution_count": 2,
     "metadata": {},
     "output_type": "execute_result"
    }
   ],
   "source": [
    "#homework2\n",
    "#使用pd.concat()\n",
    "\n",
    "#openWeatherMap api\n",
    "#Taipei:1668341\n",
    "#Taichung:1668399\n",
    "#Pingtung:16704818\n",
    "%matplotlib notebook\n",
    "import pandas as pd\n",
    "import matplotlib.pyplot as plt\n",
    "import requests\n",
    "url = 'http://api.openweathermap.org/data/2.5/group?id=1668341,1668399,1670481&units=metric&appid=29c4f184354b9889e87f7b494ac86aed'\n",
    "resp = requests.get(url)\n",
    "resp\n",
    "weatherData = resp.json()\n",
    "weatherDict = {}\n",
    "lon = []\n",
    "lat = []\n",
    "temp = []\n",
    "humidity = []\n",
    "name = []\n",
    "for item in weatherData['list']:\n",
    "    lon.append(item['coord']['lon'])\n",
    "    lat.append(item['coord']['lat'])\n",
    "    temp.append(item['main']['temp'])\n",
    "    humidity.append(item['main']['humidity'])\n",
    "    name.append(item['name'])\n",
    "\n",
    "weatherDict['城市'] = name\n",
    "weatherDict['緯度'] = lat\n",
    "weatherDict['經度'] = lon\n",
    "weatherDict['攝氏'] = temp\n",
    "weatherDict['溼度'] = humidity\n",
    "weatherDict\n",
    "weatherDataFrame1 = pd.DataFrame(weatherDict,columns=['攝氏', '溼度'],index=weatherDict['城市'])\n",
    "weatherDataFrame1\n"
   ]
  },
  {
   "cell_type": "code",
   "execution_count": 4,
   "metadata": {},
   "outputs": [
    {
     "data": {
      "text/html": [
       "<div>\n",
       "<style scoped>\n",
       "    .dataframe tbody tr th:only-of-type {\n",
       "        vertical-align: middle;\n",
       "    }\n",
       "\n",
       "    .dataframe tbody tr th {\n",
       "        vertical-align: top;\n",
       "    }\n",
       "\n",
       "    .dataframe thead th {\n",
       "        text-align: right;\n",
       "    }\n",
       "</style>\n",
       "<table border=\"1\" class=\"dataframe\">\n",
       "  <thead>\n",
       "    <tr style=\"text-align: right;\">\n",
       "      <th></th>\n",
       "      <th>緯度</th>\n",
       "      <th>經度</th>\n",
       "    </tr>\n",
       "  </thead>\n",
       "  <tbody>\n",
       "    <tr>\n",
       "      <td>Taipei</td>\n",
       "      <td>25.05</td>\n",
       "      <td>121.53</td>\n",
       "    </tr>\n",
       "    <tr>\n",
       "      <td>Taichung</td>\n",
       "      <td>24.15</td>\n",
       "      <td>120.68</td>\n",
       "    </tr>\n",
       "    <tr>\n",
       "      <td>Pingtung</td>\n",
       "      <td>22.67</td>\n",
       "      <td>120.49</td>\n",
       "    </tr>\n",
       "  </tbody>\n",
       "</table>\n",
       "</div>"
      ],
      "text/plain": [
       "             緯度      經度\n",
       "Taipei    25.05  121.53\n",
       "Taichung  24.15  120.68\n",
       "Pingtung  22.67  120.49"
      ]
     },
     "execution_count": 4,
     "metadata": {},
     "output_type": "execute_result"
    }
   ],
   "source": [
    "weatherDataFrame2 = pd.DataFrame(weatherDict,columns=['緯度', '經度'], index=weatherDict['城市'])\n",
    "weatherDataFrame2"
   ]
  },
  {
   "cell_type": "code",
   "execution_count": 5,
   "metadata": {},
   "outputs": [
    {
     "data": {
      "text/html": [
       "<div>\n",
       "<style scoped>\n",
       "    .dataframe tbody tr th:only-of-type {\n",
       "        vertical-align: middle;\n",
       "    }\n",
       "\n",
       "    .dataframe tbody tr th {\n",
       "        vertical-align: top;\n",
       "    }\n",
       "\n",
       "    .dataframe thead th {\n",
       "        text-align: right;\n",
       "    }\n",
       "</style>\n",
       "<table border=\"1\" class=\"dataframe\">\n",
       "  <thead>\n",
       "    <tr style=\"text-align: right;\">\n",
       "      <th></th>\n",
       "      <th>攝氏</th>\n",
       "      <th>溼度</th>\n",
       "      <th>緯度</th>\n",
       "      <th>經度</th>\n",
       "    </tr>\n",
       "  </thead>\n",
       "  <tbody>\n",
       "    <tr>\n",
       "      <td>Taipei</td>\n",
       "      <td>15.79</td>\n",
       "      <td>82</td>\n",
       "      <td>25.05</td>\n",
       "      <td>121.53</td>\n",
       "    </tr>\n",
       "    <tr>\n",
       "      <td>Taichung</td>\n",
       "      <td>16.50</td>\n",
       "      <td>93</td>\n",
       "      <td>24.15</td>\n",
       "      <td>120.68</td>\n",
       "    </tr>\n",
       "    <tr>\n",
       "      <td>Pingtung</td>\n",
       "      <td>21.32</td>\n",
       "      <td>57</td>\n",
       "      <td>22.67</td>\n",
       "      <td>120.49</td>\n",
       "    </tr>\n",
       "  </tbody>\n",
       "</table>\n",
       "</div>"
      ],
      "text/plain": [
       "             攝氏  溼度     緯度      經度\n",
       "Taipei    15.79  82  25.05  121.53\n",
       "Taichung  16.50  93  24.15  120.68\n",
       "Pingtung  21.32  57  22.67  120.49"
      ]
     },
     "execution_count": 5,
     "metadata": {},
     "output_type": "execute_result"
    }
   ],
   "source": [
    "pd.concat([weatherDataFrame1, weatherDataFrame2],axis=1)"
   ]
  },
  {
   "cell_type": "code",
   "execution_count": null,
   "metadata": {},
   "outputs": [],
   "source": []
  }
 ],
 "metadata": {
  "kernelspec": {
   "display_name": "Python 3",
   "language": "python",
   "name": "python3"
  },
  "language_info": {
   "codemirror_mode": {
    "name": "ipython",
    "version": 3
   },
   "file_extension": ".py",
   "mimetype": "text/x-python",
   "name": "python",
   "nbconvert_exporter": "python",
   "pygments_lexer": "ipython3",
   "version": "3.8.7"
  }
 },
 "nbformat": 4,
 "nbformat_minor": 2
}

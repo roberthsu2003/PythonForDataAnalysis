{
 "cells": [
  {
   "cell_type": "code",
   "execution_count": 29,
   "metadata": {},
   "outputs": [],
   "source": [
    "import pandas as pd\n",
    "import numpy as np\n",
    "\n",
    "result = pd.read_csv('各鄉鎮市區人口密度.csv')\n",
    "result.columns = result.loc[0]\n",
    "newResult=result.loc[1:368,['區域別','年底人口數','土地面積','人口密度']]"
   ]
  }
 ],
 "metadata": {
  "kernelspec": {
   "display_name": "Python 3.10.6 ('venv14')",
   "language": "python",
   "name": "python3"
  },
  "language_info": {
   "codemirror_mode": {
    "name": "ipython",
    "version": 3
   },
   "file_extension": ".py",
   "mimetype": "text/x-python",
   "name": "python",
   "nbconvert_exporter": "python",
   "pygments_lexer": "ipython3",
   "version": "3.10.6"
  },
  "vscode": {
   "interpreter": {
    "hash": "a58913c66b98dddfc964ba6f5302e4f760ac5e6f18107696cc385ae346a09ab8"
   }
  }
 },
 "nbformat": 4,
 "nbformat_minor": 2
}

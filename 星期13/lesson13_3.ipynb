{
 "cells": [
  {
   "cell_type": "code",
   "execution_count": 10,
   "id": "b27842f3",
   "metadata": {},
   "outputs": [],
   "source": [
    "import csv\n",
    "\n",
    "with open('各鄉鎮市區人口密度.csv','r',encoding='utf-8') as file:\n",
    "    next(file)\n",
    "    reader = csv.reader(file)\n",
    "    data = []\n",
    "    for item in reader:\n",
    "        if(item[0] == '106' or item[0]=='統計年'):\n",
    "            data.append(item)"
   ]
  },
  {
   "cell_type": "code",
   "execution_count": 13,
   "id": "d1be0392",
   "metadata": {},
   "outputs": [
    {
     "data": {
      "text/plain": [
       "[['106', '金門縣金沙鎮', '20535', '41.19', '499'],\n",
       " ['106', '金門縣金寧鄉', '30838', '29.854', '1033'],\n",
       " ['106', '金門縣烈嶼鄉', '12700', '16.003', '794'],\n",
       " ['106', '金門縣烏坵鄉', '685', '1.2', '571'],\n",
       " ['106', '連江縣南竿鄉', '7544', '10.4', '725'],\n",
       " ['106', '連江縣北竿鄉', '2360', '9.9', '238'],\n",
       " ['106', '連江縣莒光鄉', '1624', '4.7', '346'],\n",
       " ['106', '連江縣東引鄉', '1352', '3.8', '356'],\n",
       " ['106', '東沙群島', '… ', '2.38', '… '],\n",
       " ['106', '南沙群島', '… ', '0.5045', '… ']]"
      ]
     },
     "execution_count": 13,
     "metadata": {},
     "output_type": "execute_result"
    }
   ],
   "source": [
    "data[-10:]"
   ]
  },
  {
   "cell_type": "code",
   "execution_count": null,
   "id": "a3617b12",
   "metadata": {},
   "outputs": [],
   "source": []
  }
 ],
 "metadata": {
  "kernelspec": {
   "display_name": "Python 3 (ipykernel)",
   "language": "python",
   "name": "python3"
  },
  "language_info": {
   "codemirror_mode": {
    "name": "ipython",
    "version": 3
   },
   "file_extension": ".py",
   "mimetype": "text/x-python",
   "name": "python",
   "nbconvert_exporter": "python",
   "pygments_lexer": "ipython3",
   "version": "3.10.2"
  }
 },
 "nbformat": 4,
 "nbformat_minor": 5
}

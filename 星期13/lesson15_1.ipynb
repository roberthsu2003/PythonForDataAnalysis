{
 "cells": [
  {
   "cell_type": "code",
   "execution_count": 9,
   "id": "888425e0",
   "metadata": {},
   "outputs": [
    {
     "name": "stdout",
     "output_type": "stream",
     "text": [
      "\"aqx_p_432_20220406115622.csv\"\n",
      "下載成功\n",
      "存檔成功\n"
     ]
    }
   ],
   "source": [
    "import requests\n",
    "import re\n",
    "#https://data.gov.tw/dataset/89029\n",
    "CSV_URL = \"https://data.epa.gov.tw/api/v1/aqx_p_432?limit=1000&api_key=9be7b239-557b-4c10-9775-78cadfc555e9&format=csv\"\n",
    "response = requests.get(CSV_URL)\n",
    "\n",
    "d = response.headers['content-disposition']\n",
    "fname = re.findall(\"filename=(.+)\", d)[0]\n",
    "print(fname)\n",
    "\n",
    "if response.status_code == 200:\n",
    "    print(\"下載成功\")\n",
    "    with open('空氣品質指標.csv','wb') as file:\n",
    "        for chunk in response.iter_content(chunk_size=128,decode_unicode=False):\n",
    "            file.write(chunk)\n",
    "    print(\"存檔成功\")    \n",
    "        "
   ]
  },
  {
   "cell_type": "code",
   "execution_count": null,
   "id": "61726a4e",
   "metadata": {},
   "outputs": [],
   "source": []
  }
 ],
 "metadata": {
  "kernelspec": {
   "display_name": "Python 3 (ipykernel)",
   "language": "python",
   "name": "python3"
  },
  "language_info": {
   "codemirror_mode": {
    "name": "ipython",
    "version": 3
   },
   "file_extension": ".py",
   "mimetype": "text/x-python",
   "name": "python",
   "nbconvert_exporter": "python",
   "pygments_lexer": "ipython3",
   "version": "3.10.2"
  }
 },
 "nbformat": 4,
 "nbformat_minor": 5
}

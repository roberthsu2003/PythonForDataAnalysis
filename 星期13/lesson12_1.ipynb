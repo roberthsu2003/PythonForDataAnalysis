{
 "cells": [
  {
   "cell_type": "code",
   "execution_count": 1,
   "id": "995ad643",
   "metadata": {},
   "outputs": [
    {
     "name": "stdout",
     "output_type": "stream",
     "text": [
      "[80, 76, 72, 99, 93, 98, 60, 85, 80, 71, 63, 73, 96, 98, 100, 82, 97, 70, 67, 92, 68, 95, 86, 70, 80, 90, 92, 68, 67, 90, 62, 79, 94, 68, 78, 78, 80, 67, 71, 60, 70, 79, 70, 97, 73, 66, 76, 79, 88, 64]\n",
      "[87, 84, 77, 63, 70, 75, 73, 77, 92, 93, 63, 61, 90, 67, 78, 86, 94, 64, 67, 87, 75, 61, 76, 69, 80, 68, 63, 78, 99, 69, 61, 78, 99, 61, 61, 71, 76, 64, 98, 66, 63, 80, 99, 84, 73, 95, 71, 88, 82, 74]\n"
     ]
    }
   ],
   "source": [
    "#list\n",
    "#建立50位學生的中文和英文的分數\n",
    "\n",
    "import random\n",
    "chinese = [random.randint(60, 100) for _ in range(50)]#comprehension\n",
    "english = [random.randint(60, 100) for _ in range(50)]\n",
    "print(chinese)\n",
    "print(english)"
   ]
  },
  {
   "cell_type": "code",
   "execution_count": null,
   "id": "6c0791d5",
   "metadata": {},
   "outputs": [],
   "source": [
    "#2個list的加總\n",
    "result = []\n",
    "for i in range(50):\n",
    "    total = chinese[i] + english[i]\n",
    "    result.append(total)\n",
    "result"
   ]
  },
  {
   "cell_type": "code",
   "execution_count": 5,
   "id": "cf15a4b7",
   "metadata": {},
   "outputs": [
    {
     "name": "stdout",
     "output_type": "stream",
     "text": [
      "[ 80  76  72  99  93  98  60  85  80  71  63  73  96  98 100  82  97  70\n",
      "  67  92  68  95  86  70  80  90  92  68  67  90  62  79  94  68  78  78\n",
      "  80  67  71  60  70  79  70  97  73  66  76  79  88  64]\n",
      "[87 84 77 63 70 75 73 77 92 93 63 61 90 67 78 86 94 64 67 87 75 61 76 69\n",
      " 80 68 63 78 99 69 61 78 99 61 61 71 76 64 98 66 63 80 99 84 73 95 71 88\n",
      " 82 74]\n"
     ]
    },
    {
     "data": {
      "text/plain": [
       "array([167, 160, 149, 162, 163, 173, 133, 162, 172, 164, 126, 134, 186,\n",
       "       165, 178, 168, 191, 134, 134, 179, 143, 156, 162, 139, 160, 158,\n",
       "       155, 146, 166, 159, 123, 157, 193, 129, 139, 149, 156, 131, 169,\n",
       "       126, 133, 159, 169, 181, 146, 161, 147, 167, 170, 138])"
      ]
     },
     "execution_count": 5,
     "metadata": {},
     "output_type": "execute_result"
    }
   ],
   "source": [
    "#ndArray\n",
    "#建立50位學生的中文和英文的分數\n",
    "import numpy as np\n",
    "ndChinese = np.array(chinese)\n",
    "ndEnglish = np.array(english)\n",
    "print(ndChinese)\n",
    "print(ndEnglish)\n",
    "ndResult = ndChinese + ndEnglish\n",
    "ndResult"
   ]
  },
  {
   "cell_type": "code",
   "execution_count": 8,
   "id": "5f397488",
   "metadata": {},
   "outputs": [
    {
     "data": {
      "text/plain": [
       "array([[1, 2, 3],\n",
       "       [2, 3, 4]])"
      ]
     },
     "execution_count": 8,
     "metadata": {},
     "output_type": "execute_result"
    }
   ],
   "source": [
    "#將2維list轉換為ndArray\n",
    "\n",
    "ls_2d = [[1,2,3],\n",
    "      [2,3,4]\n",
    "     ]\n",
    "nd_2d = np.array(ls_2d)\n",
    "nd_2d"
   ]
  },
  {
   "cell_type": "code",
   "execution_count": 10,
   "id": "e8f01c13",
   "metadata": {},
   "outputs": [
    {
     "data": {
      "text/plain": [
       "2"
      ]
     },
     "execution_count": 10,
     "metadata": {},
     "output_type": "execute_result"
    }
   ],
   "source": [
    "nd_2d.ndim"
   ]
  },
  {
   "cell_type": "code",
   "execution_count": 11,
   "id": "eccd7d89",
   "metadata": {},
   "outputs": [
    {
     "data": {
      "text/plain": [
       "6"
      ]
     },
     "execution_count": 11,
     "metadata": {},
     "output_type": "execute_result"
    }
   ],
   "source": [
    "nd_2d.size"
   ]
  },
  {
   "cell_type": "code",
   "execution_count": 12,
   "id": "1ba19c05",
   "metadata": {},
   "outputs": [
    {
     "data": {
      "text/plain": [
       "(2, 3)"
      ]
     },
     "execution_count": 12,
     "metadata": {},
     "output_type": "execute_result"
    }
   ],
   "source": [
    "nd_2d.shape"
   ]
  },
  {
   "cell_type": "code",
   "execution_count": 13,
   "id": "89e824c6",
   "metadata": {},
   "outputs": [
    {
     "data": {
      "text/plain": [
       "dtype('int64')"
      ]
     },
     "execution_count": 13,
     "metadata": {},
     "output_type": "execute_result"
    }
   ],
   "source": [
    "nd_2d.dtype"
   ]
  },
  {
   "cell_type": "code",
   "execution_count": 15,
   "id": "8fe8b8ce",
   "metadata": {},
   "outputs": [
    {
     "data": {
      "text/plain": [
       "array([[0.77175323, 0.87284   , 0.76691612],\n",
       "       [0.81131648, 0.9278035 , 0.18888982]])"
      ]
     },
     "execution_count": 15,
     "metadata": {},
     "output_type": "execute_result"
    }
   ],
   "source": [
    "#使用numpy的random\n",
    "data = np.random.rand(2, 3)\n",
    "data"
   ]
  },
  {
   "cell_type": "code",
   "execution_count": 16,
   "id": "bf962604",
   "metadata": {},
   "outputs": [
    {
     "data": {
      "text/plain": [
       "array([[7.7175323 , 8.72840001, 7.66916121],\n",
       "       [8.11316479, 9.27803498, 1.88889824]])"
      ]
     },
     "execution_count": 16,
     "metadata": {},
     "output_type": "execute_result"
    }
   ],
   "source": [
    "data * 10"
   ]
  },
  {
   "cell_type": "code",
   "execution_count": 17,
   "id": "9d4d932a",
   "metadata": {},
   "outputs": [
    {
     "data": {
      "text/plain": [
       "array([0, 1, 0, 1, 0, 0, 1, 1, 1, 0])"
      ]
     },
     "execution_count": 17,
     "metadata": {},
     "output_type": "execute_result"
    }
   ],
   "source": [
    "np.random.randint(2, size=10)"
   ]
  },
  {
   "cell_type": "code",
   "execution_count": 19,
   "id": "db2d777c",
   "metadata": {},
   "outputs": [
    {
     "data": {
      "text/plain": [
       "array([[2, 4, 2, 4],\n",
       "       [4, 0, 2, 0]])"
      ]
     },
     "execution_count": 19,
     "metadata": {},
     "output_type": "execute_result"
    }
   ],
   "source": [
    "np.random.randint(5, size=(2,4))"
   ]
  },
  {
   "cell_type": "code",
   "execution_count": 20,
   "id": "d52a22b7",
   "metadata": {},
   "outputs": [
    {
     "data": {
      "text/plain": [
       "array([-1.7,  1.5, -0.2,  0.6, 10. ])"
      ]
     },
     "execution_count": 20,
     "metadata": {},
     "output_type": "execute_result"
    }
   ],
   "source": [
    "a = np.array([-1.7, 1.5, -0.2, 0.6, 10])\n",
    "a"
   ]
  },
  {
   "cell_type": "code",
   "execution_count": 21,
   "id": "9361619d",
   "metadata": {},
   "outputs": [
    {
     "data": {
      "text/plain": [
       "array([-2.,  1., -1.,  0., 10.])"
      ]
     },
     "execution_count": 21,
     "metadata": {},
     "output_type": "execute_result"
    }
   ],
   "source": [
    "np.floor(a)"
   ]
  },
  {
   "cell_type": "code",
   "execution_count": 22,
   "id": "9d30495c",
   "metadata": {},
   "outputs": [
    {
     "data": {
      "text/plain": [
       "array([-1.,  2., -0.,  1., 10.])"
      ]
     },
     "execution_count": 22,
     "metadata": {},
     "output_type": "execute_result"
    }
   ],
   "source": [
    "np.ceil(a)"
   ]
  },
  {
   "cell_type": "code",
   "execution_count": 24,
   "id": "b6d27881",
   "metadata": {},
   "outputs": [
    {
     "data": {
      "text/plain": [
       "array([ 0,  1,  2,  3,  4,  5,  6,  7,  8,  9, 10, 11])"
      ]
     },
     "execution_count": 24,
     "metadata": {},
     "output_type": "execute_result"
    }
   ],
   "source": [
    "nd_a = np.arange(12)\n",
    "nd_a"
   ]
  },
  {
   "cell_type": "code",
   "execution_count": 30,
   "id": "938df0b6",
   "metadata": {},
   "outputs": [
    {
     "data": {
      "text/plain": [
       "(12,)"
      ]
     },
     "execution_count": 30,
     "metadata": {},
     "output_type": "execute_result"
    }
   ],
   "source": [
    "nd_a.shape"
   ]
  },
  {
   "cell_type": "code",
   "execution_count": 28,
   "id": "ed222a41",
   "metadata": {},
   "outputs": [
    {
     "data": {
      "text/plain": [
       "array([[ 0,  1,  2,  3],\n",
       "       [ 4,  5,  6,  7],\n",
       "       [ 8,  9, 10, 11]])"
      ]
     },
     "execution_count": 28,
     "metadata": {},
     "output_type": "execute_result"
    }
   ],
   "source": [
    "nd_b = nd_a.reshape((3,4))\n",
    "nd_b"
   ]
  },
  {
   "cell_type": "code",
   "execution_count": 29,
   "id": "3cf9ff7a",
   "metadata": {},
   "outputs": [
    {
     "data": {
      "text/plain": [
       "(3, 4)"
      ]
     },
     "execution_count": 29,
     "metadata": {},
     "output_type": "execute_result"
    }
   ],
   "source": [
    "nd_b.shape"
   ]
  },
  {
   "cell_type": "code",
   "execution_count": 31,
   "id": "25ec94b8",
   "metadata": {},
   "outputs": [
    {
     "data": {
      "text/plain": [
       "array([[ 0,  1,  2],\n",
       "       [ 3,  4,  5],\n",
       "       [ 6,  7,  8],\n",
       "       [ 9, 10, 11]])"
      ]
     },
     "execution_count": 31,
     "metadata": {},
     "output_type": "execute_result"
    }
   ],
   "source": [
    "nd_c = nd_b.reshape((4,3))\n",
    "nd_c"
   ]
  },
  {
   "cell_type": "code",
   "execution_count": 32,
   "id": "6411af86",
   "metadata": {},
   "outputs": [
    {
     "data": {
      "text/plain": [
       "(4, 3)"
      ]
     },
     "execution_count": 32,
     "metadata": {},
     "output_type": "execute_result"
    }
   ],
   "source": [
    "nd_c.shape"
   ]
  },
  {
   "cell_type": "code",
   "execution_count": 33,
   "id": "98e92589",
   "metadata": {},
   "outputs": [
    {
     "data": {
      "text/plain": [
       "array([[1, 2, 3],\n",
       "       [4, 5, 6],\n",
       "       [7, 8, 9]])"
      ]
     },
     "execution_count": 33,
     "metadata": {},
     "output_type": "execute_result"
    }
   ],
   "source": [
    "arr2d = np.array([[1, 2, 3],[4, 5, 6],[7, 8, 9]])\n",
    "arr2d"
   ]
  },
  {
   "cell_type": "code",
   "execution_count": 36,
   "id": "00788749",
   "metadata": {},
   "outputs": [
    {
     "data": {
      "text/plain": [
       "array([[2, 3],\n",
       "       [5, 6]])"
      ]
     },
     "execution_count": 36,
     "metadata": {},
     "output_type": "execute_result"
    }
   ],
   "source": [
    "arr2d[:2,1:]"
   ]
  },
  {
   "cell_type": "code",
   "execution_count": 37,
   "id": "ebf09910",
   "metadata": {},
   "outputs": [
    {
     "data": {
      "text/plain": [
       "array([[ 98,  63,  51,  54,  95],\n",
       "       [ 64,  56,  68,  71,  76],\n",
       "       [ 51,  91,  75,  84,  58],\n",
       "       [ 91,  50,  87,  84,  58],\n",
       "       [ 73,  59,  64,  86,  67],\n",
       "       [ 69, 100,  93,  60,  78],\n",
       "       [ 80,  84,  72,  61,  96],\n",
       "       [ 56,  67,  83,  79,  74],\n",
       "       [ 95,  71,  52,  88,  98],\n",
       "       [ 93,  63,  96,  89,  90]])"
      ]
     },
     "execution_count": 37,
     "metadata": {},
     "output_type": "execute_result"
    }
   ],
   "source": [
    "import numpy as np\n",
    "arr = np.random.randint(50,101,size=(10,5)) #10個學生 5個分數\n"
   ]
  },
  {
   "cell_type": "code",
   "execution_count": 38,
   "id": "0f3e01e2",
   "metadata": {},
   "outputs": [
    {
     "data": {
      "text/plain": [
       "3761"
      ]
     },
     "execution_count": 38,
     "metadata": {},
     "output_type": "execute_result"
    }
   ],
   "source": [
    "#統計功能mean,sum(),std(),max(),min()\n",
    "arr.sum()"
   ]
  },
  {
   "cell_type": "code",
   "execution_count": 41,
   "id": "afe1cd47",
   "metadata": {},
   "outputs": [
    {
     "data": {
      "text/plain": [
       "1055"
      ]
     },
     "execution_count": 41,
     "metadata": {},
     "output_type": "execute_result"
    }
   ],
   "source": [
    "np.sum(arr[:3])"
   ]
  },
  {
   "cell_type": "code",
   "execution_count": 46,
   "id": "e4c67a95",
   "metadata": {},
   "outputs": [
    {
     "data": {
      "text/plain": [
       "array([361, 335, 359, 370, 349, 400, 393, 359, 404, 431])"
      ]
     },
     "execution_count": 46,
     "metadata": {},
     "output_type": "execute_result"
    }
   ],
   "source": [
    "#每個學生的總分\n",
    "sum_students = arr.sum(axis=1)\n",
    "sum_students"
   ]
  },
  {
   "cell_type": "code",
   "execution_count": 47,
   "id": "2b8a2a3b",
   "metadata": {},
   "outputs": [
    {
     "data": {
      "text/plain": [
       "array([72.2, 67. , 71.8, 74. , 69.8, 80. , 78.6, 71.8, 80.8, 86.2])"
      ]
     },
     "execution_count": 47,
     "metadata": {},
     "output_type": "execute_result"
    }
   ],
   "source": [
    "mean_students = arr.mean(axis=1)\n",
    "mean_students"
   ]
  },
  {
   "cell_type": "code",
   "execution_count": 49,
   "id": "d7c1ce7a",
   "metadata": {},
   "outputs": [
    {
     "data": {
      "text/plain": [
       "431"
      ]
     },
     "execution_count": 49,
     "metadata": {},
     "output_type": "execute_result"
    }
   ],
   "source": [
    "#學生最高總分是\n",
    "sum_students.max()"
   ]
  },
  {
   "cell_type": "code",
   "execution_count": 50,
   "id": "f124d473",
   "metadata": {},
   "outputs": [
    {
     "data": {
      "text/plain": [
       "86.2"
      ]
     },
     "execution_count": 50,
     "metadata": {},
     "output_type": "execute_result"
    }
   ],
   "source": [
    "#學生最高平均是\n",
    "mean_students.max()"
   ]
  }
 ],
 "metadata": {
  "kernelspec": {
   "display_name": "Python 3 (ipykernel)",
   "language": "python",
   "name": "python3"
  },
  "language_info": {
   "codemirror_mode": {
    "name": "ipython",
    "version": 3
   },
   "file_extension": ".py",
   "mimetype": "text/x-python",
   "name": "python",
   "nbconvert_exporter": "python",
   "pygments_lexer": "ipython3",
   "version": "3.10.2"
  }
 },
 "nbformat": 4,
 "nbformat_minor": 5
}

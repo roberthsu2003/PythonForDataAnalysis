{
 "cells": [
  {
   "cell_type": "code",
   "execution_count": 1,
   "id": "46d95270",
   "metadata": {},
   "outputs": [
    {
     "name": "stdout",
     "output_type": "stream",
     "text": [
      "[80, 76, 72, 99, 93, 98, 60, 85, 80, 71, 63, 73, 96, 98, 100, 82, 97, 70, 67, 92, 68, 95, 86, 70, 80, 90, 92, 68, 67, 90, 62, 79, 94, 68, 78, 78, 80, 67, 71, 60, 70, 79, 70, 97, 73, 66, 76, 79, 88, 64]\n",
      "[87, 84, 77, 63, 70, 75, 73, 77, 92, 93, 63, 61, 90, 67, 78, 86, 94, 64, 67, 87, 75, 61, 76, 69, 80, 68, 63, 78, 99, 69, 61, 78, 99, 61, 61, 71, 76, 64, 98, 66, 63, 80, 99, 84, 73, 95, 71, 88, 82, 74]\n"
     ]
    }
   ],
   "source": [
    "#list\n",
    "#建立50位學生的中文和英文的分數\n",
    "\n",
    "import random\n",
    "chinese = [random.randint(60, 100) for _ in range(50)]#comprehension\n",
    "english = [random.randint(60, 100) for _ in range(50)]\n",
    "print(chinese)\n",
    "print(english)"
   ]
  },
  {
   "cell_type": "code",
   "execution_count": null,
   "id": "e3cf24a3",
   "metadata": {},
   "outputs": [],
   "source": [
    "#2個list的加總\n",
    "result = []\n",
    "for i in range(50):\n",
    "    total = chinese[i] + english[i]\n",
    "    result.append(total)\n",
    "result"
   ]
  },
  {
   "cell_type": "code",
   "execution_count": 5,
   "id": "293aea14",
   "metadata": {},
   "outputs": [
    {
     "name": "stdout",
     "output_type": "stream",
     "text": [
      "[ 80  76  72  99  93  98  60  85  80  71  63  73  96  98 100  82  97  70\n",
      "  67  92  68  95  86  70  80  90  92  68  67  90  62  79  94  68  78  78\n",
      "  80  67  71  60  70  79  70  97  73  66  76  79  88  64]\n",
      "[87 84 77 63 70 75 73 77 92 93 63 61 90 67 78 86 94 64 67 87 75 61 76 69\n",
      " 80 68 63 78 99 69 61 78 99 61 61 71 76 64 98 66 63 80 99 84 73 95 71 88\n",
      " 82 74]\n"
     ]
    },
    {
     "data": {
      "text/plain": [
       "array([167, 160, 149, 162, 163, 173, 133, 162, 172, 164, 126, 134, 186,\n",
       "       165, 178, 168, 191, 134, 134, 179, 143, 156, 162, 139, 160, 158,\n",
       "       155, 146, 166, 159, 123, 157, 193, 129, 139, 149, 156, 131, 169,\n",
       "       126, 133, 159, 169, 181, 146, 161, 147, 167, 170, 138])"
      ]
     },
     "execution_count": 5,
     "metadata": {},
     "output_type": "execute_result"
    }
   ],
   "source": [
    "#ndArray\n",
    "#建立50位學生的中文和英文的分數\n",
    "import numpy as np\n",
    "ndChinese = np.array(chinese)\n",
    "ndEnglish = np.array(english)\n",
    "print(ndChinese)\n",
    "print(ndEnglish)\n",
    "ndResult = ndChinese + ndEnglish\n",
    "ndResult"
   ]
  },
  {
   "cell_type": "code",
   "execution_count": null,
   "id": "66f8275c",
   "metadata": {},
   "outputs": [],
   "source": []
  }
 ],
 "metadata": {
  "kernelspec": {
   "display_name": "Python 3 (ipykernel)",
   "language": "python",
   "name": "python3"
  },
  "language_info": {
   "codemirror_mode": {
    "name": "ipython",
    "version": 3
   },
   "file_extension": ".py",
   "mimetype": "text/x-python",
   "name": "python",
   "nbconvert_exporter": "python",
   "pygments_lexer": "ipython3",
   "version": "3.10.2"
  }
 },
 "nbformat": 4,
 "nbformat_minor": 5
}

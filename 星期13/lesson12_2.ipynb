{
 "cells": [
  {
   "cell_type": "code",
   "execution_count": 1,
   "id": "1c59b433",
   "metadata": {},
   "outputs": [],
   "source": [
    "import pandas as pd"
   ]
  },
  {
   "cell_type": "code",
   "execution_count": 2,
   "id": "5c53d531",
   "metadata": {},
   "outputs": [
    {
     "data": {
      "text/plain": [
       "0    4\n",
       "1    7\n",
       "2   -5\n",
       "3    3\n",
       "dtype: int64"
      ]
     },
     "execution_count": 2,
     "metadata": {},
     "output_type": "execute_result"
    }
   ],
   "source": [
    "#list -> Series\n",
    "obj = pd.Series([4, 7, -5, 3])\n",
    "obj"
   ]
  },
  {
   "cell_type": "code",
   "execution_count": 3,
   "id": "9c35397a",
   "metadata": {},
   "outputs": [
    {
     "data": {
      "text/plain": [
       "RangeIndex(start=0, stop=4, step=1)"
      ]
     },
     "execution_count": 3,
     "metadata": {},
     "output_type": "execute_result"
    }
   ],
   "source": [
    "obj.index"
   ]
  },
  {
   "cell_type": "code",
   "execution_count": 4,
   "id": "90e801d3",
   "metadata": {},
   "outputs": [
    {
     "data": {
      "text/plain": [
       "array([ 4,  7, -5,  3])"
      ]
     },
     "execution_count": 4,
     "metadata": {},
     "output_type": "execute_result"
    }
   ],
   "source": [
    "obj.values"
   ]
  },
  {
   "cell_type": "code",
   "execution_count": 5,
   "id": "b2f58126",
   "metadata": {},
   "outputs": [
    {
     "data": {
      "text/plain": [
       "pandas.core.series.Series"
      ]
     },
     "execution_count": 5,
     "metadata": {},
     "output_type": "execute_result"
    }
   ],
   "source": [
    "obj.__class__"
   ]
  },
  {
   "cell_type": "code",
   "execution_count": 6,
   "id": "57ba19e9",
   "metadata": {},
   "outputs": [
    {
     "data": {
      "text/plain": [
       "a    4\n",
       "b    7\n",
       "c   -5\n",
       "d    3\n",
       "dtype: int64"
      ]
     },
     "execution_count": 6,
     "metadata": {},
     "output_type": "execute_result"
    }
   ],
   "source": [
    "obj2 = pd.Series([ 4,  7, -5,  3], index=['a', 'b', 'c', 'd'])\n",
    "obj2"
   ]
  },
  {
   "cell_type": "code",
   "execution_count": 7,
   "id": "0f6deef0",
   "metadata": {},
   "outputs": [
    {
     "data": {
      "text/plain": [
       "4"
      ]
     },
     "execution_count": 7,
     "metadata": {},
     "output_type": "execute_result"
    }
   ],
   "source": [
    "#透過索引,取出值或修改值\n",
    "obj2['a']"
   ]
  },
  {
   "cell_type": "code",
   "execution_count": 8,
   "id": "80fd2ea0",
   "metadata": {},
   "outputs": [
    {
     "data": {
      "text/plain": [
       "a     4\n",
       "b    15\n",
       "c    -5\n",
       "d     3\n",
       "dtype: int64"
      ]
     },
     "execution_count": 8,
     "metadata": {},
     "output_type": "execute_result"
    }
   ],
   "source": [
    "obj2['b'] = 15\n",
    "obj2"
   ]
  },
  {
   "cell_type": "code",
   "execution_count": 9,
   "id": "60fba242",
   "metadata": {},
   "outputs": [
    {
     "data": {
      "text/plain": [
       "chinese    80\n",
       "english    90\n",
       "math       75\n",
       "history    65\n",
       "dtype: int64"
      ]
     },
     "execution_count": 9,
     "metadata": {},
     "output_type": "execute_result"
    }
   ],
   "source": [
    "#一個學生的分數\n",
    "obj3 = pd.Series([80, 90, 75, 65],index=['chinese', 'english', 'math', 'history'])\n",
    "obj3"
   ]
  },
  {
   "cell_type": "code",
   "execution_count": 12,
   "id": "ad408613",
   "metadata": {},
   "outputs": [
    {
     "data": {
      "text/plain": [
       "chinese    85\n",
       "english    95\n",
       "math       80\n",
       "history    70\n",
       "dtype: int64"
      ]
     },
     "execution_count": 12,
     "metadata": {},
     "output_type": "execute_result"
    }
   ],
   "source": [
    "obj3 + 5"
   ]
  },
  {
   "cell_type": "code",
   "execution_count": 13,
   "id": "c810c668",
   "metadata": {},
   "outputs": [
    {
     "data": {
      "text/plain": [
       "chinese    80\n",
       "english    90\n",
       "math       75\n",
       "history    65\n",
       "dtype: int64"
      ]
     },
     "execution_count": 13,
     "metadata": {},
     "output_type": "execute_result"
    }
   ],
   "source": [
    "obj3 = obj3 + 5"
   ]
  },
  {
   "cell_type": "code",
   "execution_count": 14,
   "id": "a88a2b29",
   "metadata": {},
   "outputs": [
    {
     "data": {
      "text/plain": [
       "chinese    80\n",
       "english    90\n",
       "math       75\n",
       "history    65\n",
       "dtype: int64"
      ]
     },
     "execution_count": 14,
     "metadata": {},
     "output_type": "execute_result"
    }
   ],
   "source": [
    "obj3"
   ]
  },
  {
   "cell_type": "code",
   "execution_count": 15,
   "id": "b491a15d",
   "metadata": {},
   "outputs": [
    {
     "data": {
      "text/plain": [
       "chinese     True\n",
       "english     True\n",
       "math       False\n",
       "history    False\n",
       "dtype: bool"
      ]
     },
     "execution_count": 15,
     "metadata": {},
     "output_type": "execute_result"
    }
   ],
   "source": [
    "obj3 >= 80"
   ]
  },
  {
   "cell_type": "code",
   "execution_count": 18,
   "id": "70c67fb6",
   "metadata": {},
   "outputs": [
    {
     "data": {
      "text/plain": [
       "chinese    80\n",
       "english    90\n",
       "dtype: int64"
      ]
     },
     "execution_count": 18,
     "metadata": {},
     "output_type": "execute_result"
    }
   ],
   "source": [
    "#透過blean Series做過濾\n",
    "obj3[obj3 >= 80]"
   ]
  },
  {
   "cell_type": "code",
   "execution_count": 19,
   "id": "3927117b",
   "metadata": {},
   "outputs": [
    {
     "data": {
      "text/plain": [
       "math       75\n",
       "history    65\n",
       "dtype: int64"
      ]
     },
     "execution_count": 19,
     "metadata": {},
     "output_type": "execute_result"
    }
   ],
   "source": [
    "obj3[obj3 < 80]"
   ]
  },
  {
   "cell_type": "code",
   "execution_count": null,
   "id": "6d53e4ef",
   "metadata": {},
   "outputs": [],
   "source": []
  }
 ],
 "metadata": {
  "kernelspec": {
   "display_name": "Python 3 (ipykernel)",
   "language": "python",
   "name": "python3"
  },
  "language_info": {
   "codemirror_mode": {
    "name": "ipython",
    "version": 3
   },
   "file_extension": ".py",
   "mimetype": "text/x-python",
   "name": "python",
   "nbconvert_exporter": "python",
   "pygments_lexer": "ipython3",
   "version": "3.10.2"
  }
 },
 "nbformat": 4,
 "nbformat_minor": 5
}

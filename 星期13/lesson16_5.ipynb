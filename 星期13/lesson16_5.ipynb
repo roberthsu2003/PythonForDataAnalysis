{
 "cells": [
  {
   "cell_type": "code",
   "execution_count": 1,
   "id": "c758d332",
   "metadata": {},
   "outputs": [
    {
     "data": {
      "text/plain": [
       "{'cnt': 3,\n",
       " 'list': [{'coord': {'lon': 121.5319, 'lat': 25.0478},\n",
       "   'sys': {'country': 'TW',\n",
       "    'timezone': 28800,\n",
       "    'sunrise': 1649626543,\n",
       "    'sunset': 1649672036},\n",
       "   'weather': [{'id': 803,\n",
       "     'main': 'Clouds',\n",
       "     'description': 'broken clouds',\n",
       "     'icon': '04n'}],\n",
       "   'main': {'temp': 25.45,\n",
       "    'feels_like': 25.62,\n",
       "    'temp_min': 23.92,\n",
       "    'temp_max': 26.93,\n",
       "    'pressure': 1009,\n",
       "    'humidity': 60},\n",
       "   'visibility': 10000,\n",
       "   'wind': {'speed': 3.6, 'deg': 80},\n",
       "   'clouds': {'all': 75},\n",
       "   'dt': 1649678793,\n",
       "   'id': 1668341,\n",
       "   'name': 'Taipei'},\n",
       "  {'coord': {'lon': 120.6839, 'lat': 24.1469},\n",
       "   'sys': {'country': 'TW',\n",
       "    'timezone': 28800,\n",
       "    'sunrise': 1649626785,\n",
       "    'sunset': 1649672200},\n",
       "   'weather': [{'id': 803,\n",
       "     'main': 'Clouds',\n",
       "     'description': 'broken clouds',\n",
       "     'icon': '04n'}],\n",
       "   'main': {'temp': 26.25,\n",
       "    'feels_like': 26.25,\n",
       "    'temp_min': 22.7,\n",
       "    'temp_max': 26.94,\n",
       "    'pressure': 995,\n",
       "    'humidity': 67},\n",
       "   'visibility': 10000,\n",
       "   'wind': {'speed': 2.06, 'deg': 360},\n",
       "   'clouds': {'all': 75},\n",
       "   'dt': 1649678960,\n",
       "   'id': 1668399,\n",
       "   'name': 'Taichung'},\n",
       "  {'coord': {'lon': 120.4881, 'lat': 22.6714},\n",
       "   'sys': {'country': 'TW',\n",
       "    'timezone': 28800,\n",
       "    'sunrise': 1649626895,\n",
       "    'sunset': 1649672184},\n",
       "   'weather': [{'id': 803,\n",
       "     'main': 'Clouds',\n",
       "     'description': 'broken clouds',\n",
       "     'icon': '04n'}],\n",
       "   'main': {'temp': 26.43,\n",
       "    'feels_like': 26.43,\n",
       "    'temp_min': 24.92,\n",
       "    'temp_max': 26.85,\n",
       "    'pressure': 1009,\n",
       "    'humidity': 67},\n",
       "   'visibility': 10000,\n",
       "   'wind': {'speed': 2.57, 'deg': 310},\n",
       "   'clouds': {'all': 75},\n",
       "   'dt': 1649679007,\n",
       "   'id': 1670481,\n",
       "   'name': 'Pingtung City'}]}"
      ]
     },
     "execution_count": 1,
     "metadata": {},
     "output_type": "execute_result"
    }
   ],
   "source": [
    "#openWeatherMap api\n",
    "#Taipei:1668341\n",
    "#Taichung:1668399\n",
    "#Pingtung:16704818\n",
    "\n",
    "import requests\n",
    "\n",
    "url = 'http://api.openweathermap.org/data/2.5/group?id=1668341,1668399,1670481&units=metric&appid=29c4f184354b9889e87f7b494ac86aed'\n",
    "response = requests.get(url)\n",
    "weatherData=response.json()\n",
    "weatherData"
   ]
  },
  {
   "cell_type": "code",
   "execution_count": null,
   "id": "bd386d62",
   "metadata": {},
   "outputs": [],
   "source": []
  }
 ],
 "metadata": {
  "kernelspec": {
   "display_name": "Python 3 (ipykernel)",
   "language": "python",
   "name": "python3"
  },
  "language_info": {
   "codemirror_mode": {
    "name": "ipython",
    "version": 3
   },
   "file_extension": ".py",
   "mimetype": "text/x-python",
   "name": "python",
   "nbconvert_exporter": "python",
   "pygments_lexer": "ipython3",
   "version": "3.10.2"
  }
 },
 "nbformat": 4,
 "nbformat_minor": 5
}

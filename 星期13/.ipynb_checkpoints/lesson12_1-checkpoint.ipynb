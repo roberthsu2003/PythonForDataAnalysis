{
 "cells": [
  {
   "cell_type": "code",
   "execution_count": 1,
   "id": "6ef3189f",
   "metadata": {},
   "outputs": [
    {
     "name": "stdout",
     "output_type": "stream",
     "text": [
      "[80, 76, 72, 99, 93, 98, 60, 85, 80, 71, 63, 73, 96, 98, 100, 82, 97, 70, 67, 92, 68, 95, 86, 70, 80, 90, 92, 68, 67, 90, 62, 79, 94, 68, 78, 78, 80, 67, 71, 60, 70, 79, 70, 97, 73, 66, 76, 79, 88, 64]\n",
      "[87, 84, 77, 63, 70, 75, 73, 77, 92, 93, 63, 61, 90, 67, 78, 86, 94, 64, 67, 87, 75, 61, 76, 69, 80, 68, 63, 78, 99, 69, 61, 78, 99, 61, 61, 71, 76, 64, 98, 66, 63, 80, 99, 84, 73, 95, 71, 88, 82, 74]\n"
     ]
    }
   ],
   "source": [
    "#list\n",
    "#建立50位學生的中文和英文的分數\n",
    "\n",
    "import random\n",
    "chinese = [random.randint(60, 100) for _ in range(50)]#comprehension\n",
    "english = [random.randint(60, 100) for _ in range(50)]\n",
    "print(chinese)\n",
    "print(english)"
   ]
  },
  {
   "cell_type": "code",
   "execution_count": null,
   "id": "d636e429",
   "metadata": {},
   "outputs": [],
   "source": [
    "#2個list的加總\n",
    "result = []\n",
    "for i in range(50):\n",
    "    total = chinese[i] + english[i]\n",
    "    result.append(total)\n",
    "result"
   ]
  },
  {
   "cell_type": "code",
   "execution_count": 5,
   "id": "f7719e48",
   "metadata": {},
   "outputs": [
    {
     "name": "stdout",
     "output_type": "stream",
     "text": [
      "[ 80  76  72  99  93  98  60  85  80  71  63  73  96  98 100  82  97  70\n",
      "  67  92  68  95  86  70  80  90  92  68  67  90  62  79  94  68  78  78\n",
      "  80  67  71  60  70  79  70  97  73  66  76  79  88  64]\n",
      "[87 84 77 63 70 75 73 77 92 93 63 61 90 67 78 86 94 64 67 87 75 61 76 69\n",
      " 80 68 63 78 99 69 61 78 99 61 61 71 76 64 98 66 63 80 99 84 73 95 71 88\n",
      " 82 74]\n"
     ]
    },
    {
     "data": {
      "text/plain": [
       "array([167, 160, 149, 162, 163, 173, 133, 162, 172, 164, 126, 134, 186,\n",
       "       165, 178, 168, 191, 134, 134, 179, 143, 156, 162, 139, 160, 158,\n",
       "       155, 146, 166, 159, 123, 157, 193, 129, 139, 149, 156, 131, 169,\n",
       "       126, 133, 159, 169, 181, 146, 161, 147, 167, 170, 138])"
      ]
     },
     "execution_count": 5,
     "metadata": {},
     "output_type": "execute_result"
    }
   ],
   "source": [
    "#ndArray\n",
    "#建立50位學生的中文和英文的分數\n",
    "import numpy as np\n",
    "ndChinese = np.array(chinese)\n",
    "ndEnglish = np.array(english)\n",
    "print(ndChinese)\n",
    "print(ndEnglish)\n",
    "ndResult = ndChinese + ndEnglish\n",
    "ndResult"
   ]
  },
  {
   "cell_type": "code",
   "execution_count": 8,
   "id": "34e326d9",
   "metadata": {},
   "outputs": [
    {
     "data": {
      "text/plain": [
       "array([[1, 2, 3],\n",
       "       [2, 3, 4]])"
      ]
     },
     "execution_count": 8,
     "metadata": {},
     "output_type": "execute_result"
    }
   ],
   "source": [
    "#將2維list轉換為ndArray\n",
    "\n",
    "ls_2d = [[1,2,3],\n",
    "      [2,3,4]\n",
    "     ]\n",
    "nd_2d = np.array(ls_2d)\n",
    "nd_2d"
   ]
  },
  {
   "cell_type": "code",
   "execution_count": 10,
   "id": "1dd8b138",
   "metadata": {},
   "outputs": [
    {
     "data": {
      "text/plain": [
       "2"
      ]
     },
     "execution_count": 10,
     "metadata": {},
     "output_type": "execute_result"
    }
   ],
   "source": [
    "nd_2d.ndim"
   ]
  },
  {
   "cell_type": "code",
   "execution_count": 11,
   "id": "b62be8e8",
   "metadata": {},
   "outputs": [
    {
     "data": {
      "text/plain": [
       "6"
      ]
     },
     "execution_count": 11,
     "metadata": {},
     "output_type": "execute_result"
    }
   ],
   "source": [
    "nd_2d.size"
   ]
  },
  {
   "cell_type": "code",
   "execution_count": 12,
   "id": "346b8052",
   "metadata": {},
   "outputs": [
    {
     "data": {
      "text/plain": [
       "(2, 3)"
      ]
     },
     "execution_count": 12,
     "metadata": {},
     "output_type": "execute_result"
    }
   ],
   "source": [
    "nd_2d.shape"
   ]
  },
  {
   "cell_type": "code",
   "execution_count": 13,
   "id": "928279ab",
   "metadata": {},
   "outputs": [
    {
     "data": {
      "text/plain": [
       "dtype('int64')"
      ]
     },
     "execution_count": 13,
     "metadata": {},
     "output_type": "execute_result"
    }
   ],
   "source": [
    "nd_2d.dtype"
   ]
  },
  {
   "cell_type": "code",
   "execution_count": 15,
   "id": "817a98fc",
   "metadata": {},
   "outputs": [
    {
     "data": {
      "text/plain": [
       "array([[0.77175323, 0.87284   , 0.76691612],\n",
       "       [0.81131648, 0.9278035 , 0.18888982]])"
      ]
     },
     "execution_count": 15,
     "metadata": {},
     "output_type": "execute_result"
    }
   ],
   "source": [
    "#使用numpy的random\n",
    "data = np.random.rand(2, 3)\n",
    "data"
   ]
  },
  {
   "cell_type": "code",
   "execution_count": 16,
   "id": "1ebe7b02",
   "metadata": {},
   "outputs": [
    {
     "data": {
      "text/plain": [
       "array([[7.7175323 , 8.72840001, 7.66916121],\n",
       "       [8.11316479, 9.27803498, 1.88889824]])"
      ]
     },
     "execution_count": 16,
     "metadata": {},
     "output_type": "execute_result"
    }
   ],
   "source": [
    "data * 10"
   ]
  },
  {
   "cell_type": "code",
   "execution_count": 17,
   "id": "cd97751c",
   "metadata": {},
   "outputs": [
    {
     "data": {
      "text/plain": [
       "array([0, 1, 0, 1, 0, 0, 1, 1, 1, 0])"
      ]
     },
     "execution_count": 17,
     "metadata": {},
     "output_type": "execute_result"
    }
   ],
   "source": [
    "np.random.randint(2, size=10)"
   ]
  },
  {
   "cell_type": "code",
   "execution_count": 19,
   "id": "5c6c03be",
   "metadata": {},
   "outputs": [
    {
     "data": {
      "text/plain": [
       "array([[2, 4, 2, 4],\n",
       "       [4, 0, 2, 0]])"
      ]
     },
     "execution_count": 19,
     "metadata": {},
     "output_type": "execute_result"
    }
   ],
   "source": [
    "np.random.randint(5, size=(2,4))"
   ]
  },
  {
   "cell_type": "code",
   "execution_count": 20,
   "id": "32bc9354",
   "metadata": {},
   "outputs": [
    {
     "data": {
      "text/plain": [
       "array([-1.7,  1.5, -0.2,  0.6, 10. ])"
      ]
     },
     "execution_count": 20,
     "metadata": {},
     "output_type": "execute_result"
    }
   ],
   "source": [
    "a = np.array([-1.7, 1.5, -0.2, 0.6, 10])\n",
    "a"
   ]
  },
  {
   "cell_type": "code",
   "execution_count": 21,
   "id": "742c636c",
   "metadata": {},
   "outputs": [
    {
     "data": {
      "text/plain": [
       "array([-2.,  1., -1.,  0., 10.])"
      ]
     },
     "execution_count": 21,
     "metadata": {},
     "output_type": "execute_result"
    }
   ],
   "source": [
    "np.floor(a)"
   ]
  },
  {
   "cell_type": "code",
   "execution_count": 22,
   "id": "72d55937",
   "metadata": {},
   "outputs": [
    {
     "data": {
      "text/plain": [
       "array([-1.,  2., -0.,  1., 10.])"
      ]
     },
     "execution_count": 22,
     "metadata": {},
     "output_type": "execute_result"
    }
   ],
   "source": [
    "np.ceil(a)"
   ]
  },
  {
   "cell_type": "code",
   "execution_count": 24,
   "id": "792e208c",
   "metadata": {},
   "outputs": [
    {
     "data": {
      "text/plain": [
       "array([ 0,  1,  2,  3,  4,  5,  6,  7,  8,  9, 10, 11])"
      ]
     },
     "execution_count": 24,
     "metadata": {},
     "output_type": "execute_result"
    }
   ],
   "source": [
    "nd_a = np.arange(12)\n",
    "nd_a"
   ]
  },
  {
   "cell_type": "code",
   "execution_count": 30,
   "id": "97f5a907",
   "metadata": {},
   "outputs": [
    {
     "data": {
      "text/plain": [
       "(12,)"
      ]
     },
     "execution_count": 30,
     "metadata": {},
     "output_type": "execute_result"
    }
   ],
   "source": [
    "nd_a.shape"
   ]
  },
  {
   "cell_type": "code",
   "execution_count": 28,
   "id": "d426be7b",
   "metadata": {},
   "outputs": [
    {
     "data": {
      "text/plain": [
       "array([[ 0,  1,  2,  3],\n",
       "       [ 4,  5,  6,  7],\n",
       "       [ 8,  9, 10, 11]])"
      ]
     },
     "execution_count": 28,
     "metadata": {},
     "output_type": "execute_result"
    }
   ],
   "source": [
    "nd_b = nd_a.reshape((3,4))\n",
    "nd_b"
   ]
  },
  {
   "cell_type": "code",
   "execution_count": 29,
   "id": "8679fa15",
   "metadata": {},
   "outputs": [
    {
     "data": {
      "text/plain": [
       "(3, 4)"
      ]
     },
     "execution_count": 29,
     "metadata": {},
     "output_type": "execute_result"
    }
   ],
   "source": [
    "nd_b.shape"
   ]
  },
  {
   "cell_type": "code",
   "execution_count": 31,
   "id": "bbe63ab7",
   "metadata": {},
   "outputs": [
    {
     "data": {
      "text/plain": [
       "array([[ 0,  1,  2],\n",
       "       [ 3,  4,  5],\n",
       "       [ 6,  7,  8],\n",
       "       [ 9, 10, 11]])"
      ]
     },
     "execution_count": 31,
     "metadata": {},
     "output_type": "execute_result"
    }
   ],
   "source": [
    "nd_c = nd_b.reshape((4,3))\n",
    "nd_c"
   ]
  },
  {
   "cell_type": "code",
   "execution_count": 32,
   "id": "dcbf5d5a",
   "metadata": {},
   "outputs": [
    {
     "data": {
      "text/plain": [
       "(4, 3)"
      ]
     },
     "execution_count": 32,
     "metadata": {},
     "output_type": "execute_result"
    }
   ],
   "source": [
    "nd_c.shape"
   ]
  },
  {
   "cell_type": "code",
   "execution_count": 33,
   "id": "8d9de639",
   "metadata": {},
   "outputs": [
    {
     "data": {
      "text/plain": [
       "array([[1, 2, 3],\n",
       "       [4, 5, 6],\n",
       "       [7, 8, 9]])"
      ]
     },
     "execution_count": 33,
     "metadata": {},
     "output_type": "execute_result"
    }
   ],
   "source": [
    "arr2d = np.array([[1, 2, 3],[4, 5, 6],[7, 8, 9]])\n",
    "arr2d"
   ]
  },
  {
   "cell_type": "code",
   "execution_count": 36,
   "id": "460bf2fb",
   "metadata": {},
   "outputs": [
    {
     "data": {
      "text/plain": [
       "array([[2, 3],\n",
       "       [5, 6]])"
      ]
     },
     "execution_count": 36,
     "metadata": {},
     "output_type": "execute_result"
    }
   ],
   "source": [
    "arr2d[:2,1:]"
   ]
  },
  {
   "cell_type": "code",
   "execution_count": 37,
   "id": "3016c46c",
   "metadata": {},
   "outputs": [
    {
     "data": {
      "text/plain": [
       "array([[ 98,  63,  51,  54,  95],\n",
       "       [ 64,  56,  68,  71,  76],\n",
       "       [ 51,  91,  75,  84,  58],\n",
       "       [ 91,  50,  87,  84,  58],\n",
       "       [ 73,  59,  64,  86,  67],\n",
       "       [ 69, 100,  93,  60,  78],\n",
       "       [ 80,  84,  72,  61,  96],\n",
       "       [ 56,  67,  83,  79,  74],\n",
       "       [ 95,  71,  52,  88,  98],\n",
       "       [ 93,  63,  96,  89,  90]])"
      ]
     },
     "execution_count": 37,
     "metadata": {},
     "output_type": "execute_result"
    }
   ],
   "source": [
    "import numpy as np\n",
    "arr = np.random.randint(50,101,size=(10,5)) #10個學生 5個分數\n"
   ]
  },
  {
   "cell_type": "code",
   "execution_count": 38,
   "id": "dc419a39",
   "metadata": {},
   "outputs": [
    {
     "data": {
      "text/plain": [
       "3761"
      ]
     },
     "execution_count": 38,
     "metadata": {},
     "output_type": "execute_result"
    }
   ],
   "source": [
    "#統計功能mean,sum(),std(),max(),min()\n",
    "arr.sum()"
   ]
  },
  {
   "cell_type": "code",
   "execution_count": 41,
   "id": "82fb2053",
   "metadata": {},
   "outputs": [
    {
     "data": {
      "text/plain": [
       "1055"
      ]
     },
     "execution_count": 41,
     "metadata": {},
     "output_type": "execute_result"
    }
   ],
   "source": [
    "np.sum(arr[:3])"
   ]
  },
  {
   "cell_type": "code",
   "execution_count": 46,
   "id": "81779492",
   "metadata": {},
   "outputs": [
    {
     "data": {
      "text/plain": [
       "array([361, 335, 359, 370, 349, 400, 393, 359, 404, 431])"
      ]
     },
     "execution_count": 46,
     "metadata": {},
     "output_type": "execute_result"
    }
   ],
   "source": [
    "#每個學生的總分\n",
    "sum_students = arr.sum(axis=1)\n",
    "sum_students"
   ]
  },
  {
   "cell_type": "code",
   "execution_count": 47,
   "id": "17faaa8b",
   "metadata": {},
   "outputs": [
    {
     "data": {
      "text/plain": [
       "array([72.2, 67. , 71.8, 74. , 69.8, 80. , 78.6, 71.8, 80.8, 86.2])"
      ]
     },
     "execution_count": 47,
     "metadata": {},
     "output_type": "execute_result"
    }
   ],
   "source": [
    "mean_students = arr.mean(axis=1)\n",
    "mean_students"
   ]
  },
  {
   "cell_type": "code",
   "execution_count": 49,
   "id": "5aa2ea67",
   "metadata": {},
   "outputs": [
    {
     "data": {
      "text/plain": [
       "431"
      ]
     },
     "execution_count": 49,
     "metadata": {},
     "output_type": "execute_result"
    }
   ],
   "source": [
    "#學生最高總分是\n",
    "sum_students.max()"
   ]
  },
  {
   "cell_type": "code",
   "execution_count": 51,
   "id": "ec1baf89",
   "metadata": {},
   "outputs": [
    {
     "data": {
      "text/plain": [
       "86.2"
      ]
     },
     "execution_count": 51,
     "metadata": {},
     "output_type": "execute_result"
    }
   ],
   "source": [
    "#學生最高平均是\n",
    "mean_students.max()"
   ]
  },
  {
   "cell_type": "code",
   "execution_count": 60,
   "id": "5e40cacc",
   "metadata": {},
   "outputs": [
    {
     "ename": "TypeError",
     "evalue": "'str' object is not callable",
     "output_type": "error",
     "traceback": [
      "\u001b[0;31m---------------------------------------------------------------------------\u001b[0m",
      "\u001b[0;31mTypeError\u001b[0m                                 Traceback (most recent call last)",
      "Input \u001b[0;32mIn [60]\u001b[0m, in \u001b[0;36m<module>\u001b[0;34m\u001b[0m\n\u001b[1;32m      5\u001b[0m cumsum \u001b[38;5;241m=\u001b[39m incomeOfWeek\u001b[38;5;241m.\u001b[39mcumsum()\n\u001b[1;32m      6\u001b[0m plt\u001b[38;5;241m.\u001b[39mfigure()\n\u001b[0;32m----> 7\u001b[0m \u001b[43mplt\u001b[49m\u001b[38;5;241;43m.\u001b[39;49m\u001b[43mtitle\u001b[49m\u001b[43m(\u001b[49m\u001b[38;5;124;43m'\u001b[39;49m\u001b[38;5;124;43mcumsum\u001b[39;49m\u001b[38;5;124;43m'\u001b[39;49m\u001b[43m)\u001b[49m\n\u001b[1;32m      8\u001b[0m plt\u001b[38;5;241m.\u001b[39mplot(cumsum)\n\u001b[1;32m      9\u001b[0m plt\u001b[38;5;241m.\u001b[39mshow()\n",
      "\u001b[0;31mTypeError\u001b[0m: 'str' object is not callable"
     ]
    },
    {
     "data": {
      "text/plain": [
       "<Figure size 432x288 with 0 Axes>"
      ]
     },
     "metadata": {},
     "output_type": "display_data"
    }
   ],
   "source": [
    "import matplotlib.pyplot as plt\n",
    "\n",
    "incomeOfWeek = np.array([456, 896, 278, 832, 940, 1265, 689])\n",
    "#累計每日的收入 cumsum\n",
    "cumsum = incomeOfWeek.cumsum()\n",
    "plt.figure()\n",
    "plt.plot(cumsum)\n",
    "plt.show()"
   ]
  },
  {
   "cell_type": "code",
   "execution_count": null,
   "id": "66f24729",
   "metadata": {},
   "outputs": [],
   "source": []
  }
 ],
 "metadata": {
  "kernelspec": {
   "display_name": "Python 3 (ipykernel)",
   "language": "python",
   "name": "python3"
  },
  "language_info": {
   "codemirror_mode": {
    "name": "ipython",
    "version": 3
   },
   "file_extension": ".py",
   "mimetype": "text/x-python",
   "name": "python",
   "nbconvert_exporter": "python",
   "pygments_lexer": "ipython3",
   "version": "3.10.2"
  }
 },
 "nbformat": 4,
 "nbformat_minor": 5
}

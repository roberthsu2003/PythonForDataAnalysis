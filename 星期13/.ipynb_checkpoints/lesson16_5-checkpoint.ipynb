{
 "cells": [
  {
   "cell_type": "code",
   "execution_count": 3,
   "id": "c758d332",
   "metadata": {},
   "outputs": [
    {
     "data": {
      "text/plain": [
       "{'城市': ['Taipei', 'Taichung', 'Pingtung City'],\n",
       " '攝氏': [25.45, 26.25, 26.43],\n",
       " '溼度': [60, 67, 67],\n",
       " '緯度': [121.5319, 120.6839, 120.4881],\n",
       " '經度': [25.0478, 24.1469, 22.6714]}"
      ]
     },
     "execution_count": 3,
     "metadata": {},
     "output_type": "execute_result"
    }
   ],
   "source": [
    "#openWeatherMap api\n",
    "#Taipei:1668341\n",
    "#Taichung:1668399\n",
    "#Pingtung:16704818\n",
    "\n",
    "import requests\n",
    "\n",
    "url = 'http://api.openweathermap.org/data/2.5/group?id=1668341,1668399,1670481&units=metric&appid=29c4f184354b9889e87f7b494ac86aed'\n",
    "response = requests.get(url)\n",
    "weatherData=response.json()\n",
    "weatherData\n",
    "lon = []\n",
    "lat = []\n",
    "temp = []\n",
    "humidity = []\n",
    "name = []\n",
    "for item in weatherData['list']:\n",
    "    lon.append(item['coord']['lon'])\n",
    "    lat.append(item['coord']['lat'])\n",
    "    temp.append(item['main']['temp'])\n",
    "    humidity.append(item['main']['humidity'])\n",
    "    name.append(item['name'])\n",
    "     \n",
    "\n",
    "weatherDict = {}\n",
    "weatherDict['城市'] = name\n",
    "weatherDict['攝氏'] = temp\n",
    "weatherDict['溼度'] = humidity\n",
    "weatherDict['緯度'] = lon\n",
    "weatherDict['經度'] = lat\n",
    "weatherDict"
   ]
  },
  {
   "cell_type": "code",
   "execution_count": 4,
   "id": "56f7e879",
   "metadata": {},
   "outputs": [
    {
     "data": {
      "text/html": [
       "<div>\n",
       "<style scoped>\n",
       "    .dataframe tbody tr th:only-of-type {\n",
       "        vertical-align: middle;\n",
       "    }\n",
       "\n",
       "    .dataframe tbody tr th {\n",
       "        vertical-align: top;\n",
       "    }\n",
       "\n",
       "    .dataframe thead th {\n",
       "        text-align: right;\n",
       "    }\n",
       "</style>\n",
       "<table border=\"1\" class=\"dataframe\">\n",
       "  <thead>\n",
       "    <tr style=\"text-align: right;\">\n",
       "      <th></th>\n",
       "      <th>城市</th>\n",
       "      <th>攝氏</th>\n",
       "      <th>溼度</th>\n",
       "      <th>緯度</th>\n",
       "      <th>經度</th>\n",
       "    </tr>\n",
       "  </thead>\n",
       "  <tbody>\n",
       "    <tr>\n",
       "      <th>0</th>\n",
       "      <td>Taipei</td>\n",
       "      <td>25.45</td>\n",
       "      <td>60</td>\n",
       "      <td>121.5319</td>\n",
       "      <td>25.0478</td>\n",
       "    </tr>\n",
       "    <tr>\n",
       "      <th>1</th>\n",
       "      <td>Taichung</td>\n",
       "      <td>26.25</td>\n",
       "      <td>67</td>\n",
       "      <td>120.6839</td>\n",
       "      <td>24.1469</td>\n",
       "    </tr>\n",
       "    <tr>\n",
       "      <th>2</th>\n",
       "      <td>Pingtung City</td>\n",
       "      <td>26.43</td>\n",
       "      <td>67</td>\n",
       "      <td>120.4881</td>\n",
       "      <td>22.6714</td>\n",
       "    </tr>\n",
       "  </tbody>\n",
       "</table>\n",
       "</div>"
      ],
      "text/plain": [
       "              城市     攝氏  溼度        緯度       經度\n",
       "0         Taipei  25.45  60  121.5319  25.0478\n",
       "1       Taichung  26.25  67  120.6839  24.1469\n",
       "2  Pingtung City  26.43  67  120.4881  22.6714"
      ]
     },
     "execution_count": 4,
     "metadata": {},
     "output_type": "execute_result"
    }
   ],
   "source": [
    "import numpy as np\n",
    "import pandas as pd\n",
    "weatherDataFrame = pd.DataFrame(weatherDict)\n",
    "weatherDataFrame"
   ]
  },
  {
   "cell_type": "code",
   "execution_count": 5,
   "id": "1ed9b06d",
   "metadata": {},
   "outputs": [
    {
     "data": {
      "text/html": [
       "<div>\n",
       "<style scoped>\n",
       "    .dataframe tbody tr th:only-of-type {\n",
       "        vertical-align: middle;\n",
       "    }\n",
       "\n",
       "    .dataframe tbody tr th {\n",
       "        vertical-align: top;\n",
       "    }\n",
       "\n",
       "    .dataframe thead th {\n",
       "        text-align: right;\n",
       "    }\n",
       "</style>\n",
       "<table border=\"1\" class=\"dataframe\">\n",
       "  <thead>\n",
       "    <tr style=\"text-align: right;\">\n",
       "      <th></th>\n",
       "      <th>攝氏</th>\n",
       "      <th>溼度</th>\n",
       "    </tr>\n",
       "  </thead>\n",
       "  <tbody>\n",
       "    <tr>\n",
       "      <th>Taipei</th>\n",
       "      <td>25.45</td>\n",
       "      <td>60</td>\n",
       "    </tr>\n",
       "    <tr>\n",
       "      <th>Taichung</th>\n",
       "      <td>26.25</td>\n",
       "      <td>67</td>\n",
       "    </tr>\n",
       "    <tr>\n",
       "      <th>Pingtung City</th>\n",
       "      <td>26.43</td>\n",
       "      <td>67</td>\n",
       "    </tr>\n",
       "  </tbody>\n",
       "</table>\n",
       "</div>"
      ],
      "text/plain": [
       "                  攝氏  溼度\n",
       "Taipei         25.45  60\n",
       "Taichung       26.25  67\n",
       "Pingtung City  26.43  67"
      ]
     },
     "execution_count": 5,
     "metadata": {},
     "output_type": "execute_result"
    }
   ],
   "source": [
    "part1 = pd.DataFrame(weatherDict,columns=['攝氏','溼度'],index=weatherDict['城市'])\n",
    "part1"
   ]
  },
  {
   "cell_type": "code",
   "execution_count": 6,
   "id": "b63eb0dc",
   "metadata": {},
   "outputs": [
    {
     "data": {
      "text/html": [
       "<div>\n",
       "<style scoped>\n",
       "    .dataframe tbody tr th:only-of-type {\n",
       "        vertical-align: middle;\n",
       "    }\n",
       "\n",
       "    .dataframe tbody tr th {\n",
       "        vertical-align: top;\n",
       "    }\n",
       "\n",
       "    .dataframe thead th {\n",
       "        text-align: right;\n",
       "    }\n",
       "</style>\n",
       "<table border=\"1\" class=\"dataframe\">\n",
       "  <thead>\n",
       "    <tr style=\"text-align: right;\">\n",
       "      <th></th>\n",
       "      <th>緯度</th>\n",
       "      <th>經度</th>\n",
       "    </tr>\n",
       "  </thead>\n",
       "  <tbody>\n",
       "    <tr>\n",
       "      <th>Taipei</th>\n",
       "      <td>121.5319</td>\n",
       "      <td>25.0478</td>\n",
       "    </tr>\n",
       "    <tr>\n",
       "      <th>Taichung</th>\n",
       "      <td>120.6839</td>\n",
       "      <td>24.1469</td>\n",
       "    </tr>\n",
       "    <tr>\n",
       "      <th>Pingtung City</th>\n",
       "      <td>120.4881</td>\n",
       "      <td>22.6714</td>\n",
       "    </tr>\n",
       "  </tbody>\n",
       "</table>\n",
       "</div>"
      ],
      "text/plain": [
       "                     緯度       經度\n",
       "Taipei         121.5319  25.0478\n",
       "Taichung       120.6839  24.1469\n",
       "Pingtung City  120.4881  22.6714"
      ]
     },
     "execution_count": 6,
     "metadata": {},
     "output_type": "execute_result"
    }
   ],
   "source": [
    "part2 = pd.DataFrame(weatherDict,columns=['緯度','經度'],index=weatherDict['城市'])\n",
    "part2"
   ]
  },
  {
   "cell_type": "code",
   "execution_count": 9,
   "id": "eed1be4e",
   "metadata": {},
   "outputs": [
    {
     "data": {
      "text/html": [
       "<div>\n",
       "<style scoped>\n",
       "    .dataframe tbody tr th:only-of-type {\n",
       "        vertical-align: middle;\n",
       "    }\n",
       "\n",
       "    .dataframe tbody tr th {\n",
       "        vertical-align: top;\n",
       "    }\n",
       "\n",
       "    .dataframe thead th {\n",
       "        text-align: right;\n",
       "    }\n",
       "</style>\n",
       "<table border=\"1\" class=\"dataframe\">\n",
       "  <thead>\n",
       "    <tr style=\"text-align: right;\">\n",
       "      <th></th>\n",
       "      <th>攝氏</th>\n",
       "      <th>溼度</th>\n",
       "      <th>緯度</th>\n",
       "      <th>經度</th>\n",
       "    </tr>\n",
       "  </thead>\n",
       "  <tbody>\n",
       "    <tr>\n",
       "      <th>Taipei</th>\n",
       "      <td>25.45</td>\n",
       "      <td>60</td>\n",
       "      <td>121.5319</td>\n",
       "      <td>25.0478</td>\n",
       "    </tr>\n",
       "    <tr>\n",
       "      <th>Taichung</th>\n",
       "      <td>26.25</td>\n",
       "      <td>67</td>\n",
       "      <td>120.6839</td>\n",
       "      <td>24.1469</td>\n",
       "    </tr>\n",
       "    <tr>\n",
       "      <th>Pingtung City</th>\n",
       "      <td>26.43</td>\n",
       "      <td>67</td>\n",
       "      <td>120.4881</td>\n",
       "      <td>22.6714</td>\n",
       "    </tr>\n",
       "  </tbody>\n",
       "</table>\n",
       "</div>"
      ],
      "text/plain": [
       "                  攝氏  溼度        緯度       經度\n",
       "Taipei         25.45  60  121.5319  25.0478\n",
       "Taichung       26.25  67  120.6839  24.1469\n",
       "Pingtung City  26.43  67  120.4881  22.6714"
      ]
     },
     "execution_count": 9,
     "metadata": {},
     "output_type": "execute_result"
    }
   ],
   "source": [
    "#pd.concat()\n",
    "all=pd.concat([part1, part2],axis=1)\n",
    "all"
   ]
  },
  {
   "cell_type": "code",
   "execution_count": 10,
   "id": "22f26d5b",
   "metadata": {},
   "outputs": [
    {
     "data": {
      "text/html": [
       "<div>\n",
       "<style scoped>\n",
       "    .dataframe tbody tr th:only-of-type {\n",
       "        vertical-align: middle;\n",
       "    }\n",
       "\n",
       "    .dataframe tbody tr th {\n",
       "        vertical-align: top;\n",
       "    }\n",
       "\n",
       "    .dataframe thead th {\n",
       "        text-align: right;\n",
       "    }\n",
       "</style>\n",
       "<table border=\"1\" class=\"dataframe\">\n",
       "  <thead>\n",
       "    <tr style=\"text-align: right;\">\n",
       "      <th></th>\n",
       "      <th>攝氏</th>\n",
       "      <th>溼度</th>\n",
       "      <th>緯度</th>\n",
       "      <th>經度</th>\n",
       "    </tr>\n",
       "  </thead>\n",
       "  <tbody>\n",
       "    <tr>\n",
       "      <th>Taipei</th>\n",
       "      <td>25.45</td>\n",
       "      <td>60</td>\n",
       "      <td>121.5319</td>\n",
       "      <td>25.0478</td>\n",
       "    </tr>\n",
       "    <tr>\n",
       "      <th>Taichung</th>\n",
       "      <td>26.25</td>\n",
       "      <td>67</td>\n",
       "      <td>120.6839</td>\n",
       "      <td>24.1469</td>\n",
       "    </tr>\n",
       "    <tr>\n",
       "      <th>Pingtung City</th>\n",
       "      <td>26.43</td>\n",
       "      <td>67</td>\n",
       "      <td>120.4881</td>\n",
       "      <td>22.6714</td>\n",
       "    </tr>\n",
       "    <tr>\n",
       "      <th>Taipei</th>\n",
       "      <td>25.45</td>\n",
       "      <td>60</td>\n",
       "      <td>121.5319</td>\n",
       "      <td>25.0478</td>\n",
       "    </tr>\n",
       "    <tr>\n",
       "      <th>Taichung</th>\n",
       "      <td>26.25</td>\n",
       "      <td>67</td>\n",
       "      <td>120.6839</td>\n",
       "      <td>24.1469</td>\n",
       "    </tr>\n",
       "    <tr>\n",
       "      <th>Pingtung City</th>\n",
       "      <td>26.43</td>\n",
       "      <td>67</td>\n",
       "      <td>120.4881</td>\n",
       "      <td>22.6714</td>\n",
       "    </tr>\n",
       "  </tbody>\n",
       "</table>\n",
       "</div>"
      ],
      "text/plain": [
       "                  攝氏  溼度        緯度       經度\n",
       "Taipei         25.45  60  121.5319  25.0478\n",
       "Taichung       26.25  67  120.6839  24.1469\n",
       "Pingtung City  26.43  67  120.4881  22.6714\n",
       "Taipei         25.45  60  121.5319  25.0478\n",
       "Taichung       26.25  67  120.6839  24.1469\n",
       "Pingtung City  26.43  67  120.4881  22.6714"
      ]
     },
     "execution_count": 10,
     "metadata": {},
     "output_type": "execute_result"
    }
   ],
   "source": [
    "pd.concat([all,all])"
   ]
  },
  {
   "cell_type": "code",
   "execution_count": null,
   "id": "834eba03",
   "metadata": {},
   "outputs": [],
   "source": []
  }
 ],
 "metadata": {
  "kernelspec": {
   "display_name": "Python 3 (ipykernel)",
   "language": "python",
   "name": "python3"
  },
  "language_info": {
   "codemirror_mode": {
    "name": "ipython",
    "version": 3
   },
   "file_extension": ".py",
   "mimetype": "text/x-python",
   "name": "python",
   "nbconvert_exporter": "python",
   "pygments_lexer": "ipython3",
   "version": "3.10.2"
  }
 },
 "nbformat": 4,
 "nbformat_minor": 5
}

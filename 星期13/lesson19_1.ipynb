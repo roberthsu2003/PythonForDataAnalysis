{
 "cells": [
  {
   "cell_type": "code",
   "execution_count": 12,
   "id": "0456caad",
   "metadata": {},
   "outputs": [
    {
     "name": "stdout",
     "output_type": "stream",
     "text": [
      "<class 'pandas.core.frame.DataFrame'>\n",
      "RangeIndex: 756 entries, 0 to 755\n",
      "Data columns (total 7 columns):\n",
      " #   Column  Non-Null Count  Dtype \n",
      "---  ------  --------------  ----- \n",
      " 0   路線方向    756 non-null    object\n",
      " 1   路段      756 non-null    object\n",
      " 2   交流道     756 non-null    object\n",
      " 3   進出口     756 non-null    object\n",
      " 4   週六      756 non-null    object\n",
      " 5   週日      756 non-null    object\n",
      " 6   週2-4    756 non-null    object\n",
      "dtypes: object(7)\n",
      "memory usage: 41.5+ KB\n"
     ]
    }
   ],
   "source": [
    "import numpy as np\n",
    "import pandas as pd\n",
    "df = pd.read_csv('交通流量.csv')\n",
    "df.info()"
   ]
  },
  {
   "cell_type": "code",
   "execution_count": 11,
   "id": "f8f09276",
   "metadata": {},
   "outputs": [
    {
     "data": {
      "text/plain": [
       "路線方向    0\n",
       "路段      0\n",
       "交流道     0\n",
       "進出口     0\n",
       "週六      1\n",
       "週日      0\n",
       "週2-4    0\n",
       "dtype: int64"
      ]
     },
     "execution_count": 11,
     "metadata": {},
     "output_type": "execute_result"
    }
   ],
   "source": [
    "#檢查是null\n",
    "df['週六'][0] = np.nan\n",
    "df.isnull().sum()"
   ]
  },
  {
   "cell_type": "code",
   "execution_count": 14,
   "id": "28c17a0e",
   "metadata": {},
   "outputs": [
    {
     "name": "stdout",
     "output_type": "stream",
     "text": [
      "<class 'pandas.core.frame.DataFrame'>\n",
      "RangeIndex: 756 entries, 0 to 755\n",
      "Data columns (total 7 columns):\n",
      " #   Column  Non-Null Count  Dtype \n",
      "---  ------  --------------  ----- \n",
      " 0   路線方向    756 non-null    object\n",
      " 1   路段      756 non-null    object\n",
      " 2   交流道     756 non-null    object\n",
      " 3   進出口     756 non-null    object\n",
      " 4   週六      756 non-null    object\n",
      " 5   週日      756 non-null    object\n",
      " 6   週2-4    756 non-null    object\n",
      "dtypes: object(7)\n",
      "memory usage: 41.5+ KB\n"
     ]
    },
    {
     "data": {
      "text/plain": [
       "路線方向    0\n",
       "路段      0\n",
       "交流道     0\n",
       "進出口     0\n",
       "週六      0\n",
       "週日      0\n",
       "週2-4    0\n",
       "dtype: int64"
      ]
     },
     "execution_count": 14,
     "metadata": {},
     "output_type": "execute_result"
    }
   ],
   "source": [
    "df = pd.read_csv('交通流量.csv')\n",
    "df.info()\n",
    "df.isnull().sum()"
   ]
  },
  {
   "cell_type": "code",
   "execution_count": 23,
   "id": "f87d4e1b",
   "metadata": {
    "scrolled": true
   },
   "outputs": [
    {
     "data": {
      "text/plain": [
       "0      1\n",
       "1      1\n",
       "2      1\n",
       "3      1\n",
       "4      1\n",
       "      ..\n",
       "751    1\n",
       "752    1\n",
       "753    1\n",
       "754    1\n",
       "755    1\n",
       "Name: 週六, Length: 756, dtype: int64"
      ]
     },
     "execution_count": 23,
     "metadata": {},
     "output_type": "execute_result"
    }
   ],
   "source": [
    "def convertToInt(v):\n",
    "    return 1\n",
    "\n",
    "df['週六'].map(lambda v:1)"
   ]
  },
  {
   "cell_type": "code",
   "execution_count": 25,
   "id": "b497c281",
   "metadata": {},
   "outputs": [
    {
     "ename": "ValueError",
     "evalue": "invalid literal for int() with base 10: '19,726'",
     "output_type": "error",
     "traceback": [
      "\u001b[0;31m---------------------------------------------------------------------------\u001b[0m",
      "\u001b[0;31mValueError\u001b[0m                                Traceback (most recent call last)",
      "Input \u001b[0;32mIn [25]\u001b[0m, in \u001b[0;36m<module>\u001b[0;34m\u001b[0m\n\u001b[0;32m----> 1\u001b[0m \u001b[43mdf\u001b[49m\u001b[43m[\u001b[49m\u001b[38;5;124;43m'\u001b[39;49m\u001b[38;5;124;43m週六\u001b[39;49m\u001b[38;5;124;43m'\u001b[39;49m\u001b[43m]\u001b[49m\u001b[38;5;241;43m.\u001b[39;49m\u001b[43mmap\u001b[49m\u001b[43m(\u001b[49m\u001b[38;5;28;43;01mlambda\u001b[39;49;00m\u001b[43m \u001b[49m\u001b[43mv\u001b[49m\u001b[43m:\u001b[49m\u001b[38;5;28;43mint\u001b[39;49m\u001b[43m(\u001b[49m\u001b[43mv\u001b[49m\u001b[43m)\u001b[49m\u001b[43m)\u001b[49m\n",
      "File \u001b[0;32m~/Documents/virtualEnv/venv05/lib/python3.10/site-packages/pandas/core/series.py:4237\u001b[0m, in \u001b[0;36mSeries.map\u001b[0;34m(self, arg, na_action)\u001b[0m\n\u001b[1;32m   4162\u001b[0m \u001b[38;5;28;01mdef\u001b[39;00m \u001b[38;5;21mmap\u001b[39m(\u001b[38;5;28mself\u001b[39m, arg, na_action\u001b[38;5;241m=\u001b[39m\u001b[38;5;28;01mNone\u001b[39;00m) \u001b[38;5;241m-\u001b[39m\u001b[38;5;241m>\u001b[39m Series:\n\u001b[1;32m   4163\u001b[0m     \u001b[38;5;124;03m\"\"\"\u001b[39;00m\n\u001b[1;32m   4164\u001b[0m \u001b[38;5;124;03m    Map values of Series according to an input mapping or function.\u001b[39;00m\n\u001b[1;32m   4165\u001b[0m \n\u001b[0;32m   (...)\u001b[0m\n\u001b[1;32m   4235\u001b[0m \u001b[38;5;124;03m    dtype: object\u001b[39;00m\n\u001b[1;32m   4236\u001b[0m \u001b[38;5;124;03m    \"\"\"\u001b[39;00m\n\u001b[0;32m-> 4237\u001b[0m     new_values \u001b[38;5;241m=\u001b[39m \u001b[38;5;28;43mself\u001b[39;49m\u001b[38;5;241;43m.\u001b[39;49m\u001b[43m_map_values\u001b[49m\u001b[43m(\u001b[49m\u001b[43marg\u001b[49m\u001b[43m,\u001b[49m\u001b[43m \u001b[49m\u001b[43mna_action\u001b[49m\u001b[38;5;241;43m=\u001b[39;49m\u001b[43mna_action\u001b[49m\u001b[43m)\u001b[49m\n\u001b[1;32m   4238\u001b[0m     \u001b[38;5;28;01mreturn\u001b[39;00m \u001b[38;5;28mself\u001b[39m\u001b[38;5;241m.\u001b[39m_constructor(new_values, index\u001b[38;5;241m=\u001b[39m\u001b[38;5;28mself\u001b[39m\u001b[38;5;241m.\u001b[39mindex)\u001b[38;5;241m.\u001b[39m__finalize__(\n\u001b[1;32m   4239\u001b[0m         \u001b[38;5;28mself\u001b[39m, method\u001b[38;5;241m=\u001b[39m\u001b[38;5;124m\"\u001b[39m\u001b[38;5;124mmap\u001b[39m\u001b[38;5;124m\"\u001b[39m\n\u001b[1;32m   4240\u001b[0m     )\n",
      "File \u001b[0;32m~/Documents/virtualEnv/venv05/lib/python3.10/site-packages/pandas/core/base.py:880\u001b[0m, in \u001b[0;36mIndexOpsMixin._map_values\u001b[0;34m(self, mapper, na_action)\u001b[0m\n\u001b[1;32m    877\u001b[0m         \u001b[38;5;28;01mraise\u001b[39;00m \u001b[38;5;167;01mValueError\u001b[39;00m(msg)\n\u001b[1;32m    879\u001b[0m \u001b[38;5;66;03m# mapper is a function\u001b[39;00m\n\u001b[0;32m--> 880\u001b[0m new_values \u001b[38;5;241m=\u001b[39m \u001b[43mmap_f\u001b[49m\u001b[43m(\u001b[49m\u001b[43mvalues\u001b[49m\u001b[43m,\u001b[49m\u001b[43m \u001b[49m\u001b[43mmapper\u001b[49m\u001b[43m)\u001b[49m\n\u001b[1;32m    882\u001b[0m \u001b[38;5;28;01mreturn\u001b[39;00m new_values\n",
      "File \u001b[0;32m~/Documents/virtualEnv/venv05/lib/python3.10/site-packages/pandas/_libs/lib.pyx:2870\u001b[0m, in \u001b[0;36mpandas._libs.lib.map_infer\u001b[0;34m()\u001b[0m\n",
      "Input \u001b[0;32mIn [25]\u001b[0m, in \u001b[0;36m<lambda>\u001b[0;34m(v)\u001b[0m\n\u001b[0;32m----> 1\u001b[0m df[\u001b[38;5;124m'\u001b[39m\u001b[38;5;124m週六\u001b[39m\u001b[38;5;124m'\u001b[39m]\u001b[38;5;241m.\u001b[39mmap(\u001b[38;5;28;01mlambda\u001b[39;00m v:\u001b[38;5;28;43mint\u001b[39;49m\u001b[43m(\u001b[49m\u001b[43mv\u001b[49m\u001b[43m)\u001b[49m)\n",
      "\u001b[0;31mValueError\u001b[0m: invalid literal for int() with base 10: '19,726'"
     ]
    }
   ],
   "source": [
    "df['週六'].map(lambda v:int(v))"
   ]
  },
  {
   "cell_type": "code",
   "execution_count": 26,
   "id": "ad354053",
   "metadata": {},
   "outputs": [
    {
     "name": "stdout",
     "output_type": "stream",
     "text": [
      "19,726\n",
      "17,193\n"
     ]
    },
    {
     "data": {
      "text/plain": [
       "0      34246\n",
       "1       9484\n",
       "2       2108\n",
       "3       6051\n",
       "4      10785\n",
       "       ...  \n",
       "751     4612\n",
       "752     6515\n",
       "753    10822\n",
       "754     5196\n",
       "755    12946\n",
       "Name: 週六, Length: 756, dtype: int64"
      ]
     },
     "execution_count": 26,
     "metadata": {},
     "output_type": "execute_result"
    }
   ],
   "source": [
    "def checkConvert(v):\n",
    "    try:\n",
    "        return int(v)\n",
    "    except:\n",
    "        print(v)\n",
    "        return 0\n",
    "df['週六'].map(checkConvert)"
   ]
  },
  {
   "cell_type": "code",
   "execution_count": 28,
   "id": "93e15b55",
   "metadata": {},
   "outputs": [
    {
     "data": {
      "text/plain": [
       "'19726'"
      ]
     },
     "execution_count": 28,
     "metadata": {},
     "output_type": "execute_result"
    }
   ],
   "source": [
    "myValue = '19,726'\n",
    "myList = myValue.split(',')\n",
    "myList\n",
    "''.join(myList)"
   ]
  },
  {
   "cell_type": "code",
   "execution_count": 32,
   "id": "cdd07e2d",
   "metadata": {},
   "outputs": [],
   "source": [
    "def strToInt(v):\n",
    "    try:\n",
    "        return int(v)\n",
    "    except:\n",
    "        myList = v.split(',')\n",
    "        newString = ''.join(myList)\n",
    "        return newString\n",
    "\n",
    "df['週六'] = df['週六'].map(strToInt)\n",
    "df['週日'] = df['週日'].map(strToInt) "
   ]
  },
  {
   "cell_type": "code",
   "execution_count": 33,
   "id": "4cdda282",
   "metadata": {},
   "outputs": [
    {
     "name": "stdout",
     "output_type": "stream",
     "text": [
      "<class 'pandas.core.frame.DataFrame'>\n",
      "RangeIndex: 756 entries, 0 to 755\n",
      "Data columns (total 7 columns):\n",
      " #   Column  Non-Null Count  Dtype \n",
      "---  ------  --------------  ----- \n",
      " 0   路線方向    756 non-null    object\n",
      " 1   路段      756 non-null    object\n",
      " 2   交流道     756 non-null    object\n",
      " 3   進出口     756 non-null    object\n",
      " 4   週六      756 non-null    int64 \n",
      " 5   週日      756 non-null    int64 \n",
      " 6   週2-4    756 non-null    object\n",
      "dtypes: int64(2), object(5)\n",
      "memory usage: 41.5+ KB\n"
     ]
    }
   ],
   "source": [
    "df.info()"
   ]
  },
  {
   "cell_type": "code",
   "execution_count": 39,
   "id": "a45cb377",
   "metadata": {},
   "outputs": [
    {
     "data": {
      "text/html": [
       "<div>\n",
       "<style scoped>\n",
       "    .dataframe tbody tr th:only-of-type {\n",
       "        vertical-align: middle;\n",
       "    }\n",
       "\n",
       "    .dataframe tbody tr th {\n",
       "        vertical-align: top;\n",
       "    }\n",
       "\n",
       "    .dataframe thead th {\n",
       "        text-align: right;\n",
       "    }\n",
       "</style>\n",
       "<table border=\"1\" class=\"dataframe\">\n",
       "  <thead>\n",
       "    <tr style=\"text-align: right;\">\n",
       "      <th></th>\n",
       "      <th>週六</th>\n",
       "      <th>週日</th>\n",
       "    </tr>\n",
       "    <tr>\n",
       "      <th>路線方向</th>\n",
       "      <th></th>\n",
       "      <th></th>\n",
       "    </tr>\n",
       "  </thead>\n",
       "  <tbody>\n",
       "    <tr>\n",
       "      <th>國10東向</th>\n",
       "      <td>190315</td>\n",
       "      <td>179386</td>\n",
       "    </tr>\n",
       "    <tr>\n",
       "      <th>國10西向</th>\n",
       "      <td>203908</td>\n",
       "      <td>212663</td>\n",
       "    </tr>\n",
       "    <tr>\n",
       "      <th>國1北向</th>\n",
       "      <td>2201802</td>\n",
       "      <td>2087014</td>\n",
       "    </tr>\n",
       "    <tr>\n",
       "      <th>國1南向</th>\n",
       "      <td>2274715</td>\n",
       "      <td>2066203</td>\n",
       "    </tr>\n",
       "    <tr>\n",
       "      <th>國1高架北向</th>\n",
       "      <td>294048</td>\n",
       "      <td>294671</td>\n",
       "    </tr>\n",
       "    <tr>\n",
       "      <th>國1高架南向</th>\n",
       "      <td>287731</td>\n",
       "      <td>265966</td>\n",
       "    </tr>\n",
       "    <tr>\n",
       "      <th>國2東向</th>\n",
       "      <td>339452</td>\n",
       "      <td>322930</td>\n",
       "    </tr>\n",
       "    <tr>\n",
       "      <th>國2西向</th>\n",
       "      <td>309509</td>\n",
       "      <td>298983</td>\n",
       "    </tr>\n",
       "    <tr>\n",
       "      <th>國3北向</th>\n",
       "      <td>1309358</td>\n",
       "      <td>1349691</td>\n",
       "    </tr>\n",
       "    <tr>\n",
       "      <th>國3南向</th>\n",
       "      <td>1364935</td>\n",
       "      <td>1257226</td>\n",
       "    </tr>\n",
       "    <tr>\n",
       "      <th>國3甲東向</th>\n",
       "      <td>87002</td>\n",
       "      <td>74524</td>\n",
       "    </tr>\n",
       "    <tr>\n",
       "      <th>國3甲西向</th>\n",
       "      <td>104507</td>\n",
       "      <td>100709</td>\n",
       "    </tr>\n",
       "    <tr>\n",
       "      <th>國4東向</th>\n",
       "      <td>102624</td>\n",
       "      <td>98616</td>\n",
       "    </tr>\n",
       "    <tr>\n",
       "      <th>國4西向</th>\n",
       "      <td>103744</td>\n",
       "      <td>104851</td>\n",
       "    </tr>\n",
       "    <tr>\n",
       "      <th>國5北向</th>\n",
       "      <td>109263</td>\n",
       "      <td>110033</td>\n",
       "    </tr>\n",
       "    <tr>\n",
       "      <th>國5南向</th>\n",
       "      <td>123497</td>\n",
       "      <td>96328</td>\n",
       "    </tr>\n",
       "    <tr>\n",
       "      <th>國6東向</th>\n",
       "      <td>60824</td>\n",
       "      <td>52078</td>\n",
       "    </tr>\n",
       "    <tr>\n",
       "      <th>國6西向</th>\n",
       "      <td>54810</td>\n",
       "      <td>68804</td>\n",
       "    </tr>\n",
       "    <tr>\n",
       "      <th>國8東向</th>\n",
       "      <td>90036</td>\n",
       "      <td>89496</td>\n",
       "    </tr>\n",
       "    <tr>\n",
       "      <th>國8西向</th>\n",
       "      <td>89276</td>\n",
       "      <td>94721</td>\n",
       "    </tr>\n",
       "  </tbody>\n",
       "</table>\n",
       "</div>"
      ],
      "text/plain": [
       "             週六       週日\n",
       "路線方向                    \n",
       "國10東向    190315   179386\n",
       "國10西向    203908   212663\n",
       "國1北向    2201802  2087014\n",
       "國1南向    2274715  2066203\n",
       "國1高架北向   294048   294671\n",
       "國1高架南向   287731   265966\n",
       "國2東向     339452   322930\n",
       "國2西向     309509   298983\n",
       "國3北向    1309358  1349691\n",
       "國3南向    1364935  1257226\n",
       "國3甲東向     87002    74524\n",
       "國3甲西向    104507   100709\n",
       "國4東向     102624    98616\n",
       "國4西向     103744   104851\n",
       "國5北向     109263   110033\n",
       "國5南向     123497    96328\n",
       "國6東向      60824    52078\n",
       "國6西向      54810    68804\n",
       "國8東向      90036    89496\n",
       "國8西向      89276    94721"
      ]
     },
     "execution_count": 39,
     "metadata": {},
     "output_type": "execute_result"
    }
   ],
   "source": [
    "grouped = df.groupby('路線方向')[['週六','週日']]\n",
    "sumResult = grouped.agg('sum')\n",
    "sumResult"
   ]
  },
  {
   "cell_type": "code",
   "execution_count": 44,
   "id": "a5bda92a",
   "metadata": {},
   "outputs": [
    {
     "data": {
      "text/plain": [
       "路線方向      \n",
       "國10東向   週六     190315\n",
       "        週日     179386\n",
       "國10西向   週六     203908\n",
       "        週日     212663\n",
       "國1北向    週六    2201802\n",
       "        週日    2087014\n",
       "國1南向    週六    2274715\n",
       "        週日    2066203\n",
       "國1高架北向  週六     294048\n",
       "        週日     294671\n",
       "國1高架南向  週六     287731\n",
       "        週日     265966\n",
       "國2東向    週六     339452\n",
       "        週日     322930\n",
       "國2西向    週六     309509\n",
       "        週日     298983\n",
       "國3北向    週六    1309358\n",
       "        週日    1349691\n",
       "國3南向    週六    1364935\n",
       "        週日    1257226\n",
       "國3甲東向   週六      87002\n",
       "        週日      74524\n",
       "國3甲西向   週六     104507\n",
       "        週日     100709\n",
       "國4東向    週六     102624\n",
       "        週日      98616\n",
       "國4西向    週六     103744\n",
       "        週日     104851\n",
       "國5北向    週六     109263\n",
       "        週日     110033\n",
       "國5南向    週六     123497\n",
       "        週日      96328\n",
       "國6東向    週六      60824\n",
       "        週日      52078\n",
       "國6西向    週六      54810\n",
       "        週日      68804\n",
       "國8東向    週六      90036\n",
       "        週日      89496\n",
       "國8西向    週六      89276\n",
       "        週日      94721\n",
       "dtype: int64"
      ]
     },
     "execution_count": 44,
     "metadata": {},
     "output_type": "execute_result"
    }
   ],
   "source": [
    "series_sum = sumResult.stack()\n",
    "series_sum"
   ]
  },
  {
   "cell_type": "code",
   "execution_count": 46,
   "id": "469a2e06",
   "metadata": {},
   "outputs": [
    {
     "data": {
      "text/plain": [
       "路線方向      \n",
       "國10西向   週六     203908\n",
       "        週日     212663\n",
       "國1北向    週六    2201802\n",
       "        週日    2087014\n",
       "國1南向    週六    2274715\n",
       "        週日    2066203\n",
       "國1高架北向  週六     294048\n",
       "        週日     294671\n",
       "國1高架南向  週六     287731\n",
       "        週日     265966\n",
       "國2東向    週六     339452\n",
       "        週日     322930\n",
       "國2西向    週六     309509\n",
       "        週日     298983\n",
       "國3北向    週六    1309358\n",
       "        週日    1349691\n",
       "國3南向    週六    1364935\n",
       "        週日    1257226\n",
       "dtype: int64"
      ]
     },
     "execution_count": 46,
     "metadata": {},
     "output_type": "execute_result"
    }
   ],
   "source": [
    "result_series = series_sum[series_sum >= 200000]\n",
    "result_series"
   ]
  },
  {
   "cell_type": "code",
   "execution_count": 47,
   "id": "ee6b14b2",
   "metadata": {},
   "outputs": [
    {
     "data": {
      "text/html": [
       "<div>\n",
       "<style scoped>\n",
       "    .dataframe tbody tr th:only-of-type {\n",
       "        vertical-align: middle;\n",
       "    }\n",
       "\n",
       "    .dataframe tbody tr th {\n",
       "        vertical-align: top;\n",
       "    }\n",
       "\n",
       "    .dataframe thead th {\n",
       "        text-align: right;\n",
       "    }\n",
       "</style>\n",
       "<table border=\"1\" class=\"dataframe\">\n",
       "  <thead>\n",
       "    <tr style=\"text-align: right;\">\n",
       "      <th></th>\n",
       "      <th>週六</th>\n",
       "      <th>週日</th>\n",
       "    </tr>\n",
       "    <tr>\n",
       "      <th>路線方向</th>\n",
       "      <th></th>\n",
       "      <th></th>\n",
       "    </tr>\n",
       "  </thead>\n",
       "  <tbody>\n",
       "    <tr>\n",
       "      <th>國10西向</th>\n",
       "      <td>203908</td>\n",
       "      <td>212663</td>\n",
       "    </tr>\n",
       "    <tr>\n",
       "      <th>國1北向</th>\n",
       "      <td>2201802</td>\n",
       "      <td>2087014</td>\n",
       "    </tr>\n",
       "    <tr>\n",
       "      <th>國1南向</th>\n",
       "      <td>2274715</td>\n",
       "      <td>2066203</td>\n",
       "    </tr>\n",
       "    <tr>\n",
       "      <th>國1高架北向</th>\n",
       "      <td>294048</td>\n",
       "      <td>294671</td>\n",
       "    </tr>\n",
       "    <tr>\n",
       "      <th>國1高架南向</th>\n",
       "      <td>287731</td>\n",
       "      <td>265966</td>\n",
       "    </tr>\n",
       "    <tr>\n",
       "      <th>國2東向</th>\n",
       "      <td>339452</td>\n",
       "      <td>322930</td>\n",
       "    </tr>\n",
       "    <tr>\n",
       "      <th>國2西向</th>\n",
       "      <td>309509</td>\n",
       "      <td>298983</td>\n",
       "    </tr>\n",
       "    <tr>\n",
       "      <th>國3北向</th>\n",
       "      <td>1309358</td>\n",
       "      <td>1349691</td>\n",
       "    </tr>\n",
       "    <tr>\n",
       "      <th>國3南向</th>\n",
       "      <td>1364935</td>\n",
       "      <td>1257226</td>\n",
       "    </tr>\n",
       "  </tbody>\n",
       "</table>\n",
       "</div>"
      ],
      "text/plain": [
       "             週六       週日\n",
       "路線方向                    \n",
       "國10西向    203908   212663\n",
       "國1北向    2201802  2087014\n",
       "國1南向    2274715  2066203\n",
       "國1高架北向   294048   294671\n",
       "國1高架南向   287731   265966\n",
       "國2東向     339452   322930\n",
       "國2西向     309509   298983\n",
       "國3北向    1309358  1349691\n",
       "國3南向    1364935  1257226"
      ]
     },
     "execution_count": 47,
     "metadata": {},
     "output_type": "execute_result"
    }
   ],
   "source": [
    "result_dataFrame = result_series.unstack()\n",
    "result_dataFrame"
   ]
  },
  {
   "cell_type": "code",
   "execution_count": null,
   "id": "766d06f4",
   "metadata": {},
   "outputs": [],
   "source": []
  }
 ],
 "metadata": {
  "kernelspec": {
   "display_name": "Python 3 (ipykernel)",
   "language": "python",
   "name": "python3"
  },
  "language_info": {
   "codemirror_mode": {
    "name": "ipython",
    "version": 3
   },
   "file_extension": ".py",
   "mimetype": "text/x-python",
   "name": "python",
   "nbconvert_exporter": "python",
   "pygments_lexer": "ipython3",
   "version": "3.10.2"
  }
 },
 "nbformat": 4,
 "nbformat_minor": 5
}

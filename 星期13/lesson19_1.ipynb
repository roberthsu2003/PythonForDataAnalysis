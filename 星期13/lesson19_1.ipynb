{
 "cells": [
  {
   "cell_type": "code",
   "execution_count": 12,
   "id": "15ebd1bc",
   "metadata": {},
   "outputs": [
    {
     "name": "stdout",
     "output_type": "stream",
     "text": [
      "<class 'pandas.core.frame.DataFrame'>\n",
      "RangeIndex: 756 entries, 0 to 755\n",
      "Data columns (total 7 columns):\n",
      " #   Column  Non-Null Count  Dtype \n",
      "---  ------  --------------  ----- \n",
      " 0   路線方向    756 non-null    object\n",
      " 1   路段      756 non-null    object\n",
      " 2   交流道     756 non-null    object\n",
      " 3   進出口     756 non-null    object\n",
      " 4   週六      756 non-null    object\n",
      " 5   週日      756 non-null    object\n",
      " 6   週2-4    756 non-null    object\n",
      "dtypes: object(7)\n",
      "memory usage: 41.5+ KB\n"
     ]
    }
   ],
   "source": [
    "import numpy as np\n",
    "import pandas as pd\n",
    "df = pd.read_csv('交通流量.csv')\n",
    "df.info()"
   ]
  },
  {
   "cell_type": "code",
   "execution_count": 11,
   "id": "13668893",
   "metadata": {},
   "outputs": [
    {
     "data": {
      "text/plain": [
       "路線方向    0\n",
       "路段      0\n",
       "交流道     0\n",
       "進出口     0\n",
       "週六      1\n",
       "週日      0\n",
       "週2-4    0\n",
       "dtype: int64"
      ]
     },
     "execution_count": 11,
     "metadata": {},
     "output_type": "execute_result"
    }
   ],
   "source": [
    "#檢查是null\n",
    "df['週六'][0] = np.nan\n",
    "df.isnull().sum()"
   ]
  },
  {
   "cell_type": "code",
   "execution_count": 14,
   "id": "6a9ea44d",
   "metadata": {},
   "outputs": [
    {
     "name": "stdout",
     "output_type": "stream",
     "text": [
      "<class 'pandas.core.frame.DataFrame'>\n",
      "RangeIndex: 756 entries, 0 to 755\n",
      "Data columns (total 7 columns):\n",
      " #   Column  Non-Null Count  Dtype \n",
      "---  ------  --------------  ----- \n",
      " 0   路線方向    756 non-null    object\n",
      " 1   路段      756 non-null    object\n",
      " 2   交流道     756 non-null    object\n",
      " 3   進出口     756 non-null    object\n",
      " 4   週六      756 non-null    object\n",
      " 5   週日      756 non-null    object\n",
      " 6   週2-4    756 non-null    object\n",
      "dtypes: object(7)\n",
      "memory usage: 41.5+ KB\n"
     ]
    },
    {
     "data": {
      "text/plain": [
       "路線方向    0\n",
       "路段      0\n",
       "交流道     0\n",
       "進出口     0\n",
       "週六      0\n",
       "週日      0\n",
       "週2-4    0\n",
       "dtype: int64"
      ]
     },
     "execution_count": 14,
     "metadata": {},
     "output_type": "execute_result"
    }
   ],
   "source": [
    "df = pd.read_csv('交通流量.csv')\n",
    "df.info()\n",
    "df.isnull().sum()"
   ]
  },
  {
   "cell_type": "code",
   "execution_count": 23,
   "id": "e9a90ae7",
   "metadata": {
    "scrolled": true
   },
   "outputs": [
    {
     "data": {
      "text/plain": [
       "0      1\n",
       "1      1\n",
       "2      1\n",
       "3      1\n",
       "4      1\n",
       "      ..\n",
       "751    1\n",
       "752    1\n",
       "753    1\n",
       "754    1\n",
       "755    1\n",
       "Name: 週六, Length: 756, dtype: int64"
      ]
     },
     "execution_count": 23,
     "metadata": {},
     "output_type": "execute_result"
    }
   ],
   "source": [
    "def convertToInt(v):\n",
    "    return 1\n",
    "\n",
    "df['週六'].map(lambda v:1)"
   ]
  },
  {
   "cell_type": "code",
   "execution_count": 25,
   "id": "94e3c729",
   "metadata": {},
   "outputs": [
    {
     "ename": "ValueError",
     "evalue": "invalid literal for int() with base 10: '19,726'",
     "output_type": "error",
     "traceback": [
      "\u001b[0;31m---------------------------------------------------------------------------\u001b[0m",
      "\u001b[0;31mValueError\u001b[0m                                Traceback (most recent call last)",
      "Input \u001b[0;32mIn [25]\u001b[0m, in \u001b[0;36m<module>\u001b[0;34m\u001b[0m\n\u001b[0;32m----> 1\u001b[0m \u001b[43mdf\u001b[49m\u001b[43m[\u001b[49m\u001b[38;5;124;43m'\u001b[39;49m\u001b[38;5;124;43m週六\u001b[39;49m\u001b[38;5;124;43m'\u001b[39;49m\u001b[43m]\u001b[49m\u001b[38;5;241;43m.\u001b[39;49m\u001b[43mmap\u001b[49m\u001b[43m(\u001b[49m\u001b[38;5;28;43;01mlambda\u001b[39;49;00m\u001b[43m \u001b[49m\u001b[43mv\u001b[49m\u001b[43m:\u001b[49m\u001b[38;5;28;43mint\u001b[39;49m\u001b[43m(\u001b[49m\u001b[43mv\u001b[49m\u001b[43m)\u001b[49m\u001b[43m)\u001b[49m\n",
      "File \u001b[0;32m~/Documents/virtualEnv/venv05/lib/python3.10/site-packages/pandas/core/series.py:4237\u001b[0m, in \u001b[0;36mSeries.map\u001b[0;34m(self, arg, na_action)\u001b[0m\n\u001b[1;32m   4162\u001b[0m \u001b[38;5;28;01mdef\u001b[39;00m \u001b[38;5;21mmap\u001b[39m(\u001b[38;5;28mself\u001b[39m, arg, na_action\u001b[38;5;241m=\u001b[39m\u001b[38;5;28;01mNone\u001b[39;00m) \u001b[38;5;241m-\u001b[39m\u001b[38;5;241m>\u001b[39m Series:\n\u001b[1;32m   4163\u001b[0m     \u001b[38;5;124;03m\"\"\"\u001b[39;00m\n\u001b[1;32m   4164\u001b[0m \u001b[38;5;124;03m    Map values of Series according to an input mapping or function.\u001b[39;00m\n\u001b[1;32m   4165\u001b[0m \n\u001b[0;32m   (...)\u001b[0m\n\u001b[1;32m   4235\u001b[0m \u001b[38;5;124;03m    dtype: object\u001b[39;00m\n\u001b[1;32m   4236\u001b[0m \u001b[38;5;124;03m    \"\"\"\u001b[39;00m\n\u001b[0;32m-> 4237\u001b[0m     new_values \u001b[38;5;241m=\u001b[39m \u001b[38;5;28;43mself\u001b[39;49m\u001b[38;5;241;43m.\u001b[39;49m\u001b[43m_map_values\u001b[49m\u001b[43m(\u001b[49m\u001b[43marg\u001b[49m\u001b[43m,\u001b[49m\u001b[43m \u001b[49m\u001b[43mna_action\u001b[49m\u001b[38;5;241;43m=\u001b[39;49m\u001b[43mna_action\u001b[49m\u001b[43m)\u001b[49m\n\u001b[1;32m   4238\u001b[0m     \u001b[38;5;28;01mreturn\u001b[39;00m \u001b[38;5;28mself\u001b[39m\u001b[38;5;241m.\u001b[39m_constructor(new_values, index\u001b[38;5;241m=\u001b[39m\u001b[38;5;28mself\u001b[39m\u001b[38;5;241m.\u001b[39mindex)\u001b[38;5;241m.\u001b[39m__finalize__(\n\u001b[1;32m   4239\u001b[0m         \u001b[38;5;28mself\u001b[39m, method\u001b[38;5;241m=\u001b[39m\u001b[38;5;124m\"\u001b[39m\u001b[38;5;124mmap\u001b[39m\u001b[38;5;124m\"\u001b[39m\n\u001b[1;32m   4240\u001b[0m     )\n",
      "File \u001b[0;32m~/Documents/virtualEnv/venv05/lib/python3.10/site-packages/pandas/core/base.py:880\u001b[0m, in \u001b[0;36mIndexOpsMixin._map_values\u001b[0;34m(self, mapper, na_action)\u001b[0m\n\u001b[1;32m    877\u001b[0m         \u001b[38;5;28;01mraise\u001b[39;00m \u001b[38;5;167;01mValueError\u001b[39;00m(msg)\n\u001b[1;32m    879\u001b[0m \u001b[38;5;66;03m# mapper is a function\u001b[39;00m\n\u001b[0;32m--> 880\u001b[0m new_values \u001b[38;5;241m=\u001b[39m \u001b[43mmap_f\u001b[49m\u001b[43m(\u001b[49m\u001b[43mvalues\u001b[49m\u001b[43m,\u001b[49m\u001b[43m \u001b[49m\u001b[43mmapper\u001b[49m\u001b[43m)\u001b[49m\n\u001b[1;32m    882\u001b[0m \u001b[38;5;28;01mreturn\u001b[39;00m new_values\n",
      "File \u001b[0;32m~/Documents/virtualEnv/venv05/lib/python3.10/site-packages/pandas/_libs/lib.pyx:2870\u001b[0m, in \u001b[0;36mpandas._libs.lib.map_infer\u001b[0;34m()\u001b[0m\n",
      "Input \u001b[0;32mIn [25]\u001b[0m, in \u001b[0;36m<lambda>\u001b[0;34m(v)\u001b[0m\n\u001b[0;32m----> 1\u001b[0m df[\u001b[38;5;124m'\u001b[39m\u001b[38;5;124m週六\u001b[39m\u001b[38;5;124m'\u001b[39m]\u001b[38;5;241m.\u001b[39mmap(\u001b[38;5;28;01mlambda\u001b[39;00m v:\u001b[38;5;28;43mint\u001b[39;49m\u001b[43m(\u001b[49m\u001b[43mv\u001b[49m\u001b[43m)\u001b[49m)\n",
      "\u001b[0;31mValueError\u001b[0m: invalid literal for int() with base 10: '19,726'"
     ]
    }
   ],
   "source": [
    "df['週六'].map(lambda v:int(v))"
   ]
  },
  {
   "cell_type": "code",
   "execution_count": 26,
   "id": "96383d1e",
   "metadata": {},
   "outputs": [
    {
     "name": "stdout",
     "output_type": "stream",
     "text": [
      "19,726\n",
      "17,193\n"
     ]
    },
    {
     "data": {
      "text/plain": [
       "0      34246\n",
       "1       9484\n",
       "2       2108\n",
       "3       6051\n",
       "4      10785\n",
       "       ...  \n",
       "751     4612\n",
       "752     6515\n",
       "753    10822\n",
       "754     5196\n",
       "755    12946\n",
       "Name: 週六, Length: 756, dtype: int64"
      ]
     },
     "execution_count": 26,
     "metadata": {},
     "output_type": "execute_result"
    }
   ],
   "source": [
    "def checkConvert(v):\n",
    "    try:\n",
    "        return int(v)\n",
    "    except:\n",
    "        print(v)\n",
    "        return 0\n",
    "df['週六'].map(checkConvert)"
   ]
  },
  {
   "cell_type": "code",
   "execution_count": 28,
   "id": "aa482519",
   "metadata": {},
   "outputs": [
    {
     "data": {
      "text/plain": [
       "'19726'"
      ]
     },
     "execution_count": 28,
     "metadata": {},
     "output_type": "execute_result"
    }
   ],
   "source": [
    "myValue = '19,726'\n",
    "myList = myValue.split(',')\n",
    "myList\n",
    "''.join(myList)"
   ]
  },
  {
   "cell_type": "code",
   "execution_count": 32,
   "id": "185c066b",
   "metadata": {},
   "outputs": [],
   "source": [
    "def strToInt(v):\n",
    "    try:\n",
    "        return int(v)\n",
    "    except:\n",
    "        myList = v.split(',')\n",
    "        newString = ''.join(myList)\n",
    "        return newString\n",
    "\n",
    "df['週六'] = df['週六'].map(strToInt)\n",
    "df['週日'] = df['週日'].map(strToInt) "
   ]
  },
  {
   "cell_type": "code",
   "execution_count": 33,
   "id": "84c36b9a",
   "metadata": {},
   "outputs": [
    {
     "name": "stdout",
     "output_type": "stream",
     "text": [
      "<class 'pandas.core.frame.DataFrame'>\n",
      "RangeIndex: 756 entries, 0 to 755\n",
      "Data columns (total 7 columns):\n",
      " #   Column  Non-Null Count  Dtype \n",
      "---  ------  --------------  ----- \n",
      " 0   路線方向    756 non-null    object\n",
      " 1   路段      756 non-null    object\n",
      " 2   交流道     756 non-null    object\n",
      " 3   進出口     756 non-null    object\n",
      " 4   週六      756 non-null    int64 \n",
      " 5   週日      756 non-null    int64 \n",
      " 6   週2-4    756 non-null    object\n",
      "dtypes: int64(2), object(5)\n",
      "memory usage: 41.5+ KB\n"
     ]
    }
   ],
   "source": [
    "df.info()"
   ]
  },
  {
   "cell_type": "code",
   "execution_count": 34,
   "id": "6a96ebbf",
   "metadata": {},
   "outputs": [
    {
     "data": {
      "text/html": [
       "<div>\n",
       "<style scoped>\n",
       "    .dataframe tbody tr th:only-of-type {\n",
       "        vertical-align: middle;\n",
       "    }\n",
       "\n",
       "    .dataframe tbody tr th {\n",
       "        vertical-align: top;\n",
       "    }\n",
       "\n",
       "    .dataframe thead th {\n",
       "        text-align: right;\n",
       "    }\n",
       "</style>\n",
       "<table border=\"1\" class=\"dataframe\">\n",
       "  <thead>\n",
       "    <tr style=\"text-align: right;\">\n",
       "      <th></th>\n",
       "      <th>路線方向</th>\n",
       "      <th>路段</th>\n",
       "      <th>交流道</th>\n",
       "      <th>進出口</th>\n",
       "      <th>週六</th>\n",
       "      <th>週日</th>\n",
       "      <th>週2-4</th>\n",
       "    </tr>\n",
       "  </thead>\n",
       "  <tbody>\n",
       "    <tr>\n",
       "      <th>0</th>\n",
       "      <td>國1南向</td>\n",
       "      <td>非主線資料</td>\n",
       "      <td>基隆端</td>\n",
       "      <td>進口</td>\n",
       "      <td>34246</td>\n",
       "      <td>31547</td>\n",
       "      <td>29403</td>\n",
       "    </tr>\n",
       "    <tr>\n",
       "      <th>1</th>\n",
       "      <td>國1南向</td>\n",
       "      <td>非主線資料</td>\n",
       "      <td>基隆</td>\n",
       "      <td>出口</td>\n",
       "      <td>9484</td>\n",
       "      <td>8123</td>\n",
       "      <td>9403</td>\n",
       "    </tr>\n",
       "    <tr>\n",
       "      <th>2</th>\n",
       "      <td>國1南向</td>\n",
       "      <td>非主線資料</td>\n",
       "      <td>基隆</td>\n",
       "      <td>進口1-尚仁路,基隆</td>\n",
       "      <td>2108</td>\n",
       "      <td>1997</td>\n",
       "      <td>2579</td>\n",
       "    </tr>\n",
       "    <tr>\n",
       "      <th>3</th>\n",
       "      <td>國1南向</td>\n",
       "      <td>非主線資料</td>\n",
       "      <td>基隆</td>\n",
       "      <td>進口2-麥金路,金山</td>\n",
       "      <td>6051</td>\n",
       "      <td>5398</td>\n",
       "      <td>5895</td>\n",
       "    </tr>\n",
       "    <tr>\n",
       "      <th>4</th>\n",
       "      <td>國1南向</td>\n",
       "      <td>非主線資料</td>\n",
       "      <td>八堵</td>\n",
       "      <td>進口</td>\n",
       "      <td>10785</td>\n",
       "      <td>11990</td>\n",
       "      <td>9027</td>\n",
       "    </tr>\n",
       "    <tr>\n",
       "      <th>...</th>\n",
       "      <td>...</td>\n",
       "      <td>...</td>\n",
       "      <td>...</td>\n",
       "      <td>...</td>\n",
       "      <td>...</td>\n",
       "      <td>...</td>\n",
       "      <td>...</td>\n",
       "    </tr>\n",
       "    <tr>\n",
       "      <th>751</th>\n",
       "      <td>國10西向</td>\n",
       "      <td>非主線資料</td>\n",
       "      <td>燕巢系統</td>\n",
       "      <td>出口</td>\n",
       "      <td>4612</td>\n",
       "      <td>4647</td>\n",
       "      <td>3906</td>\n",
       "    </tr>\n",
       "    <tr>\n",
       "      <th>752</th>\n",
       "      <td>國10西向</td>\n",
       "      <td>非主線資料</td>\n",
       "      <td>燕巢系統</td>\n",
       "      <td>進口1-國3南</td>\n",
       "      <td>6515</td>\n",
       "      <td>8890</td>\n",
       "      <td>6517</td>\n",
       "    </tr>\n",
       "    <tr>\n",
       "      <th>753</th>\n",
       "      <td>國10西向</td>\n",
       "      <td>非主線資料</td>\n",
       "      <td>燕巢系統</td>\n",
       "      <td>進口2-國3北</td>\n",
       "      <td>10822</td>\n",
       "      <td>13415</td>\n",
       "      <td>11181</td>\n",
       "    </tr>\n",
       "    <tr>\n",
       "      <th>754</th>\n",
       "      <td>國10西向</td>\n",
       "      <td>非主線資料</td>\n",
       "      <td>嶺口</td>\n",
       "      <td>進口</td>\n",
       "      <td>5196</td>\n",
       "      <td>5680</td>\n",
       "      <td>4242</td>\n",
       "    </tr>\n",
       "    <tr>\n",
       "      <th>755</th>\n",
       "      <td>國10西向</td>\n",
       "      <td>非主線資料</td>\n",
       "      <td>旗山端</td>\n",
       "      <td>進口</td>\n",
       "      <td>12946</td>\n",
       "      <td>17106</td>\n",
       "      <td>10412</td>\n",
       "    </tr>\n",
       "  </tbody>\n",
       "</table>\n",
       "<p>756 rows × 7 columns</p>\n",
       "</div>"
      ],
      "text/plain": [
       "      路線方向     路段   交流道         進出口     週六     週日   週2-4\n",
       "0     國1南向  非主線資料   基隆端          進口  34246  31547  29403\n",
       "1     國1南向  非主線資料    基隆          出口   9484   8123   9403\n",
       "2     國1南向  非主線資料    基隆  進口1-尚仁路,基隆   2108   1997   2579\n",
       "3     國1南向  非主線資料    基隆  進口2-麥金路,金山   6051   5398   5895\n",
       "4     國1南向  非主線資料    八堵          進口  10785  11990   9027\n",
       "..     ...    ...   ...         ...    ...    ...    ...\n",
       "751  國10西向  非主線資料  燕巢系統          出口   4612   4647   3906\n",
       "752  國10西向  非主線資料  燕巢系統     進口1-國3南   6515   8890   6517\n",
       "753  國10西向  非主線資料  燕巢系統     進口2-國3北  10822  13415  11181\n",
       "754  國10西向  非主線資料    嶺口          進口   5196   5680   4242\n",
       "755  國10西向  非主線資料   旗山端          進口  12946  17106  10412\n",
       "\n",
       "[756 rows x 7 columns]"
      ]
     },
     "execution_count": 34,
     "metadata": {},
     "output_type": "execute_result"
    }
   ],
   "source": [
    "df"
   ]
  },
  {
   "cell_type": "code",
   "execution_count": null,
   "id": "8c1702d0",
   "metadata": {},
   "outputs": [],
   "source": []
  }
 ],
 "metadata": {
  "kernelspec": {
   "display_name": "Python 3 (ipykernel)",
   "language": "python",
   "name": "python3"
  },
  "language_info": {
   "codemirror_mode": {
    "name": "ipython",
    "version": 3
   },
   "file_extension": ".py",
   "mimetype": "text/x-python",
   "name": "python",
   "nbconvert_exporter": "python",
   "pygments_lexer": "ipython3",
   "version": "3.10.2"
  }
 },
 "nbformat": 4,
 "nbformat_minor": 5
}

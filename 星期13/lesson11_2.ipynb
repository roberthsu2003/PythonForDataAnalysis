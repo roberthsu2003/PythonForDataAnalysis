{
 "cells": [
  {
   "cell_type": "code",
   "execution_count": 2,
   "id": "b524ac2f",
   "metadata": {},
   "outputs": [
    {
     "data": {
      "text/plain": [
       "[1, 3, 5, 7, 9, 1, 3, 5, 7, 9, 1, 3, 5, 7, 9]"
      ]
     },
     "execution_count": 2,
     "metadata": {},
     "output_type": "execute_result"
    }
   ],
   "source": [
    "a1 = [1, 3, 5, 7, 9]\n",
    "a1 * 3"
   ]
  },
  {
   "cell_type": "code",
   "execution_count": 3,
   "id": "370e394a",
   "metadata": {},
   "outputs": [
    {
     "data": {
      "text/plain": [
       "[1, 3, 5, 7, 9, 2, 4, 6, 8, 10]"
      ]
     },
     "execution_count": 3,
     "metadata": {},
     "output_type": "execute_result"
    }
   ],
   "source": [
    "b1 = [1, 3, 5, 7, 9]\n",
    "b2 = [2, 4, 6, 8, 10]\n",
    "b1 + b2"
   ]
  },
  {
   "cell_type": "code",
   "execution_count": 4,
   "id": "34f9e353",
   "metadata": {},
   "outputs": [
    {
     "data": {
      "text/plain": [
       "[3, 9, 15, 21, 27]"
      ]
     },
     "execution_count": 4,
     "metadata": {},
     "output_type": "execute_result"
    }
   ],
   "source": [
    "a1 = [1, 3, 5, 7, 9]\n",
    "newA1 = [i*3 for i in a1]\n",
    "newA1"
   ]
  },
  {
   "cell_type": "code",
   "execution_count": 7,
   "id": "af14de15",
   "metadata": {},
   "outputs": [
    {
     "data": {
      "text/plain": [
       "array([ 3,  9, 15, 21, 27])"
      ]
     },
     "execution_count": 7,
     "metadata": {},
     "output_type": "execute_result"
    }
   ],
   "source": [
    "import numpy as np\n",
    "nd_a1 = np.array([1, 3, 5, 7, 9])\n",
    "nd_a1 * 3"
   ]
  },
  {
   "cell_type": "code",
   "execution_count": 8,
   "id": "9b4ae3d5",
   "metadata": {},
   "outputs": [
    {
     "data": {
      "text/plain": [
       "array([ 3,  7, 11, 15, 19])"
      ]
     },
     "execution_count": 8,
     "metadata": {},
     "output_type": "execute_result"
    }
   ],
   "source": [
    "nd_b1 = np.array([1, 3, 5, 7, 9])\n",
    "nd_b2 = np.array([2, 4, 6, 8, 10])\n",
    "nd_b1 + nd_b2"
   ]
  },
  {
   "cell_type": "code",
   "execution_count": null,
   "id": "93561d8d",
   "metadata": {},
   "outputs": [],
   "source": []
  }
 ],
 "metadata": {
  "kernelspec": {
   "display_name": "Python 3 (ipykernel)",
   "language": "python",
   "name": "python3"
  },
  "language_info": {
   "codemirror_mode": {
    "name": "ipython",
    "version": 3
   },
   "file_extension": ".py",
   "mimetype": "text/x-python",
   "name": "python",
   "nbconvert_exporter": "python",
   "pygments_lexer": "ipython3",
   "version": "3.10.2"
  }
 },
 "nbformat": 4,
 "nbformat_minor": 5
}
